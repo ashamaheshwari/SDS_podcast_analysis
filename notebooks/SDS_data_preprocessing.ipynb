{
 "cells": [
  {
   "cell_type": "code",
   "execution_count": 1,
   "id": "8056cad5",
   "metadata": {},
   "outputs": [],
   "source": [
    "import pandas as pd\n",
    "import re\n",
    "import matplotlib.pyplot as plt\n",
    "import seaborn as sns\n",
    "import plotly.express as px"
   ]
  },
  {
   "cell_type": "code",
   "execution_count": 2,
   "id": "5eb1ef0c",
   "metadata": {},
   "outputs": [],
   "source": [
    "sds = pd.read_csv('../data/superdatascience.csv')"
   ]
  },
  {
   "cell_type": "code",
   "execution_count": 3,
   "id": "890ac8c4",
   "metadata": {},
   "outputs": [
    {
     "name": "stdout",
     "output_type": "stream",
     "text": [
      "<class 'pandas.core.frame.DataFrame'>\n",
      "RangeIndex: 682 entries, 0 to 681\n",
      "Data columns (total 6 columns):\n",
      " #   Column           Non-Null Count  Dtype \n",
      "---  ------           --------------  ----- \n",
      " 0   episode_name     682 non-null    object\n",
      " 1   length_episode   682 non-null    object\n",
      " 2   context_episode  682 non-null    object\n",
      " 3   guest_name       682 non-null    object\n",
      " 4   guest_info       682 non-null    object\n",
      " 5   text_episode     680 non-null    object\n",
      "dtypes: object(6)\n",
      "memory usage: 32.1+ KB\n"
     ]
    }
   ],
   "source": [
    "sds.info()"
   ]
  },
  {
   "cell_type": "code",
   "execution_count": 4,
   "id": "433eb5d1",
   "metadata": {},
   "outputs": [
    {
     "data": {
      "text/html": [
       "<div>\n",
       "<style scoped>\n",
       "    .dataframe tbody tr th:only-of-type {\n",
       "        vertical-align: middle;\n",
       "    }\n",
       "\n",
       "    .dataframe tbody tr th {\n",
       "        vertical-align: top;\n",
       "    }\n",
       "\n",
       "    .dataframe thead th {\n",
       "        text-align: right;\n",
       "    }\n",
       "</style>\n",
       "<table border=\"1\" class=\"dataframe\">\n",
       "  <thead>\n",
       "    <tr style=\"text-align: right;\">\n",
       "      <th></th>\n",
       "      <th>episode_name</th>\n",
       "      <th>length_episode</th>\n",
       "      <th>context_episode</th>\n",
       "      <th>guest_name</th>\n",
       "      <th>guest_info</th>\n",
       "      <th>text_episode</th>\n",
       "    </tr>\n",
       "  </thead>\n",
       "  <tbody>\n",
       "    <tr>\n",
       "      <th>0</th>\n",
       "      <td>SDS 381: How to Avoid Failing at Digital Trans...</td>\n",
       "      <td>60 minutes</td>\n",
       "      <td>BusinessData Science</td>\n",
       "      <td>Podcast Guest: Tony SaldanhaWednesday Jul 08, ...</td>\n",
       "      <td>Subscribe on Website, Apple Podcasts, Spotify,...</td>\n",
       "      <td>Kirill Eremenko:\\tThis is episode number 381, ...</td>\n",
       "    </tr>\n",
       "    <tr>\n",
       "      <th>1</th>\n",
       "      <td>SDS 061: Discovering Data Science workflows an...</td>\n",
       "      <td>62 minutes</td>\n",
       "      <td>Machine LearningData SciencePython</td>\n",
       "      <td>Podcast Guest: Daniel WhitenackThursday Jun 15...</td>\n",
       "      <td>Subscribe on Website, Apple Podcasts, Spotify,...</td>\n",
       "      <td>Kirill:\\tThis is episode number 61 with data s...</td>\n",
       "    </tr>\n",
       "    <tr>\n",
       "      <th>2</th>\n",
       "      <td>SDS 049: Great tips on building a successful A...</td>\n",
       "      <td>65 minutes</td>\n",
       "      <td>BusinessDatabase</td>\n",
       "      <td>Podcast Guest: Jim HadleyThursday May 04, 2017</td>\n",
       "      <td>Subscribe on Website, Apple Podcasts, Spotify,...</td>\n",
       "      <td>Kirill:\\tThis is episode number 49 with Founde...</td>\n",
       "    </tr>\n",
       "    <tr>\n",
       "      <th>3</th>\n",
       "      <td>SDS 029: AI in Recruitment, Machine Learning, ...</td>\n",
       "      <td>66 minutes</td>\n",
       "      <td>BusinessMachine LearningData ScienceArtificial...</td>\n",
       "      <td>Podcast Guest: Ben TaylorFriday Feb 24, 2017</td>\n",
       "      <td>Subscribe on Website, Apple Podcasts, Spotify,...</td>\n",
       "      <td>Kirill:\\tThis is episode number 29, with Chief...</td>\n",
       "    </tr>\n",
       "    <tr>\n",
       "      <th>4</th>\n",
       "      <td>SDS 254: Two Wolves</td>\n",
       "      <td>6 minutes</td>\n",
       "      <td>Data Science</td>\n",
       "      <td>Podcast Guest: Kirill EremenkoFriday Apr 19, 2019</td>\n",
       "      <td>Subscribe on Website, Apple Podcasts, Spotify,...</td>\n",
       "      <td>This is FiveMinuteFriday, episode number 254, ...</td>\n",
       "    </tr>\n",
       "    <tr>\n",
       "      <th>...</th>\n",
       "      <td>...</td>\n",
       "      <td>...</td>\n",
       "      <td>...</td>\n",
       "      <td>...</td>\n",
       "      <td>...</td>\n",
       "      <td>...</td>\n",
       "    </tr>\n",
       "    <tr>\n",
       "      <th>677</th>\n",
       "      <td>SDS 520: The Highest-Paying Programming Langua...</td>\n",
       "      <td>5 minutes</td>\n",
       "      <td>BusinessData Science</td>\n",
       "      <td>Podcast Guest: Jon KrohnThursday Nov 04, 2021</td>\n",
       "      <td>Subscribe on Website, Apple Podcasts, Spotify,...</td>\n",
       "      <td>(00:05):\\nThis is Five-Minute Friday on the Hi...</td>\n",
       "    </tr>\n",
       "    <tr>\n",
       "      <th>678</th>\n",
       "      <td>SDS 680: Automating Industrial Machines with D...</td>\n",
       "      <td>30 minutes</td>\n",
       "      <td>BusinessData Science</td>\n",
       "      <td>Podcast Guest: Allegra AlessiFriday May 19, 2023</td>\n",
       "      <td>Subscribe on Website, Apple Podcasts, Spotify,...</td>\n",
       "      <td>Jon Krohn:\\t00:06\\tThis is episode number 680 ...</td>\n",
       "    </tr>\n",
       "    <tr>\n",
       "      <th>679</th>\n",
       "      <td>SDS 681: XGBoost: The Ultimate Classifier, wit...</td>\n",
       "      <td>72 minutes</td>\n",
       "      <td>Machine LearningData SciencePython</td>\n",
       "      <td>Podcast Guest: Matt HarrisonTuesday May 23, 2023</td>\n",
       "      <td>Subscribe on Website, Apple Podcasts, Spotify,...</td>\n",
       "      <td>Jon Krohn:\\t00:00:00\\tThis is episode number 6...</td>\n",
       "    </tr>\n",
       "    <tr>\n",
       "      <th>680</th>\n",
       "      <td>SDS 682: Business Intelligence Tools, with Mic...</td>\n",
       "      <td>28 minutes</td>\n",
       "      <td>BusinessData Science</td>\n",
       "      <td>Podcast Guest: Mico YukFriday May 26, 2023</td>\n",
       "      <td>Subscribe on Website, Apple Podcasts, Spotify,...</td>\n",
       "      <td>Jon Krohn:\\t00:05\\tThis is episode number 682 ...</td>\n",
       "    </tr>\n",
       "    <tr>\n",
       "      <th>681</th>\n",
       "      <td>SDS 683: Contextual A.I. for Adapting to Adver...</td>\n",
       "      <td>81 minutes</td>\n",
       "      <td>Data ScienceArtificial Intelligence</td>\n",
       "      <td>Podcast Guest: Matar HallerTuesday May 30, 2023</td>\n",
       "      <td>Subscribe on Website, Apple Podcasts, Spotify,...</td>\n",
       "      <td>Jon Krohn:\\t00:00:05\\tThis is episode number 6...</td>\n",
       "    </tr>\n",
       "  </tbody>\n",
       "</table>\n",
       "<p>682 rows × 6 columns</p>\n",
       "</div>"
      ],
      "text/plain": [
       "                                          episode_name length_episode  \\\n",
       "0    SDS 381: How to Avoid Failing at Digital Trans...     60 minutes   \n",
       "1    SDS 061: Discovering Data Science workflows an...     62 minutes   \n",
       "2    SDS 049: Great tips on building a successful A...     65 minutes   \n",
       "3    SDS 029: AI in Recruitment, Machine Learning, ...     66 minutes   \n",
       "4                                  SDS 254: Two Wolves      6 minutes   \n",
       "..                                                 ...            ...   \n",
       "677  SDS 520: The Highest-Paying Programming Langua...      5 minutes   \n",
       "678  SDS 680: Automating Industrial Machines with D...     30 minutes   \n",
       "679  SDS 681: XGBoost: The Ultimate Classifier, wit...     72 minutes   \n",
       "680  SDS 682: Business Intelligence Tools, with Mic...     28 minutes   \n",
       "681  SDS 683: Contextual A.I. for Adapting to Adver...     81 minutes   \n",
       "\n",
       "                                       context_episode  \\\n",
       "0                                 BusinessData Science   \n",
       "1                   Machine LearningData SciencePython   \n",
       "2                                     BusinessDatabase   \n",
       "3    BusinessMachine LearningData ScienceArtificial...   \n",
       "4                                         Data Science   \n",
       "..                                                 ...   \n",
       "677                               BusinessData Science   \n",
       "678                               BusinessData Science   \n",
       "679                 Machine LearningData SciencePython   \n",
       "680                               BusinessData Science   \n",
       "681                Data ScienceArtificial Intelligence   \n",
       "\n",
       "                                            guest_name  \\\n",
       "0    Podcast Guest: Tony SaldanhaWednesday Jul 08, ...   \n",
       "1    Podcast Guest: Daniel WhitenackThursday Jun 15...   \n",
       "2       Podcast Guest: Jim HadleyThursday May 04, 2017   \n",
       "3         Podcast Guest: Ben TaylorFriday Feb 24, 2017   \n",
       "4    Podcast Guest: Kirill EremenkoFriday Apr 19, 2019   \n",
       "..                                                 ...   \n",
       "677      Podcast Guest: Jon KrohnThursday Nov 04, 2021   \n",
       "678   Podcast Guest: Allegra AlessiFriday May 19, 2023   \n",
       "679   Podcast Guest: Matt HarrisonTuesday May 23, 2023   \n",
       "680         Podcast Guest: Mico YukFriday May 26, 2023   \n",
       "681    Podcast Guest: Matar HallerTuesday May 30, 2023   \n",
       "\n",
       "                                            guest_info  \\\n",
       "0    Subscribe on Website, Apple Podcasts, Spotify,...   \n",
       "1    Subscribe on Website, Apple Podcasts, Spotify,...   \n",
       "2    Subscribe on Website, Apple Podcasts, Spotify,...   \n",
       "3    Subscribe on Website, Apple Podcasts, Spotify,...   \n",
       "4    Subscribe on Website, Apple Podcasts, Spotify,...   \n",
       "..                                                 ...   \n",
       "677  Subscribe on Website, Apple Podcasts, Spotify,...   \n",
       "678  Subscribe on Website, Apple Podcasts, Spotify,...   \n",
       "679  Subscribe on Website, Apple Podcasts, Spotify,...   \n",
       "680  Subscribe on Website, Apple Podcasts, Spotify,...   \n",
       "681  Subscribe on Website, Apple Podcasts, Spotify,...   \n",
       "\n",
       "                                          text_episode  \n",
       "0    Kirill Eremenko:\\tThis is episode number 381, ...  \n",
       "1    Kirill:\\tThis is episode number 61 with data s...  \n",
       "2    Kirill:\\tThis is episode number 49 with Founde...  \n",
       "3    Kirill:\\tThis is episode number 29, with Chief...  \n",
       "4    This is FiveMinuteFriday, episode number 254, ...  \n",
       "..                                                 ...  \n",
       "677  (00:05):\\nThis is Five-Minute Friday on the Hi...  \n",
       "678  Jon Krohn:\\t00:06\\tThis is episode number 680 ...  \n",
       "679  Jon Krohn:\\t00:00:00\\tThis is episode number 6...  \n",
       "680  Jon Krohn:\\t00:05\\tThis is episode number 682 ...  \n",
       "681  Jon Krohn:\\t00:00:05\\tThis is episode number 6...  \n",
       "\n",
       "[682 rows x 6 columns]"
      ]
     },
     "execution_count": 4,
     "metadata": {},
     "output_type": "execute_result"
    }
   ],
   "source": [
    "sds"
   ]
  },
  {
   "cell_type": "code",
   "execution_count": 5,
   "id": "28de401d",
   "metadata": {},
   "outputs": [
    {
     "name": "stderr",
     "output_type": "stream",
     "text": [
      "/var/folders/s3/9_r9v9px7_v0q69b5zcbnmsm0000gn/T/ipykernel_5330/4166616537.py:16: FutureWarning: The default value of regex will change from True to False in a future version.\n",
      "  sds['guest_name'] = sds['guest_name'].str.replace(r'(\\b[A-Za-z]{3}\\s\\d{2},\\s\\d{4}\\b)', '')\n",
      "/var/folders/s3/9_r9v9px7_v0q69b5zcbnmsm0000gn/T/ipykernel_5330/4166616537.py:22: FutureWarning: The default value of regex will change from True to False in a future version.\n",
      "  sds['guest_name'] = sds['guest_name'].str.replace('Monday|Tuesday|Wednesday|Thursday|Friday|Saturday|Sunday', '')\n",
      "/var/folders/s3/9_r9v9px7_v0q69b5zcbnmsm0000gn/T/ipykernel_5330/4166616537.py:25: FutureWarning: The default value of regex will change from True to False in a future version.\n",
      "  sds['context_episode'] = sds['context_episode'].str.replace('([a-z])([A-Z])', r'\\1 \\2')\n"
     ]
    }
   ],
   "source": [
    "# Extracting episode_number and episode_name from episode_name column\n",
    "sds['episode_number'] = sds['episode_name'].str.split(':', expand = True)[0]\n",
    "sds['episode_name'] = sds['episode_name'].str.split(':', expand = True)[1]\n",
    "sds['episode_number'] = sds['episode_number'].str.replace('SDS', '')\n",
    "\n",
    "# Removing Podcast Guest text from guest_name column\n",
    "sds['guest_name'] = sds['guest_name'].str.split(':', expand = True)[1]\n",
    "\n",
    "# Removing minutes from length_episode column\n",
    "sds['length_episode'] = sds['length_episode'].str.split(' ', expand = True)[0]\n",
    "\n",
    "# Extracting date from guest_name column and making a new column episode_date\n",
    "sds['episode_date'] = sds['guest_name'].str.extract(r'(\\b[A-Za-z]{3}\\s\\d{2},\\s\\d{4}\\b)', expand = False).str.strip()\n",
    "\n",
    "# Replacing/removing date in guest_name column \n",
    "sds['guest_name'] = sds['guest_name'].str.replace(r'(\\b[A-Za-z]{3}\\s\\d{2},\\s\\d{4}\\b)', '')\n",
    "\n",
    "# Extracting day from guest_name column and making a new column episode_day\n",
    "sds['episode_day'] = sds['guest_name'].str.extract(r'(Monday|Tuesday|Wednesday|Thursday|Friday|Saturday|Sunday)', expand = False).str.strip()\n",
    "\n",
    "#Replacing/removing day in guest_name column \n",
    "sds['guest_name'] = sds['guest_name'].str.replace('Monday|Tuesday|Wednesday|Thursday|Friday|Saturday|Sunday', '')\n",
    "\n",
    "#Adding spaces between some words in context_episode column\n",
    "sds['context_episode'] = sds['context_episode'].str.replace('([a-z])([A-Z])', r'\\1 \\2')\n",
    "\n",
    "# changing the data types for episode_number and length_episode\n",
    "sds['episode_number'] = sds['episode_number'].astype('int')\n",
    "sds['length_episode'] = sds['length_episode'].astype('int')"
   ]
  },
  {
   "cell_type": "code",
   "execution_count": 6,
   "id": "4fbf3284",
   "metadata": {},
   "outputs": [],
   "source": [
    "# Add a new column host_episode to sds dataframe\n",
    "sds['host_episode'] = 'Kirril Eremenko'  # Set initial value to 'Kirril Eremenko '\n",
    "\n",
    "# Set value to 'Jon Krohn' from column 430 to 681\n",
    "sds.loc[430:681, 'host_episode'] = 'Jon Krohn'"
   ]
  },
  {
   "cell_type": "code",
   "execution_count": 7,
   "id": "f9243b43",
   "metadata": {},
   "outputs": [],
   "source": [
    "# Sorting dataframe on episode number\n",
    "sds = sds.sort_values('episode_number').reset_index(drop = True)"
   ]
  },
  {
   "cell_type": "code",
   "execution_count": 8,
   "id": "6d921d0b",
   "metadata": {},
   "outputs": [
    {
     "data": {
      "text/html": [
       "<div>\n",
       "<style scoped>\n",
       "    .dataframe tbody tr th:only-of-type {\n",
       "        vertical-align: middle;\n",
       "    }\n",
       "\n",
       "    .dataframe tbody tr th {\n",
       "        vertical-align: top;\n",
       "    }\n",
       "\n",
       "    .dataframe thead th {\n",
       "        text-align: right;\n",
       "    }\n",
       "</style>\n",
       "<table border=\"1\" class=\"dataframe\">\n",
       "  <thead>\n",
       "    <tr style=\"text-align: right;\">\n",
       "      <th></th>\n",
       "      <th>episode_name</th>\n",
       "      <th>length_episode</th>\n",
       "      <th>context_episode</th>\n",
       "      <th>guest_name</th>\n",
       "      <th>guest_info</th>\n",
       "      <th>text_episode</th>\n",
       "      <th>episode_number</th>\n",
       "      <th>episode_date</th>\n",
       "      <th>episode_day</th>\n",
       "      <th>host_episode</th>\n",
       "    </tr>\n",
       "  </thead>\n",
       "  <tbody>\n",
       "    <tr>\n",
       "      <th>0</th>\n",
       "      <td>Ruben Kogel on Self-Serve Analytics, R vs Pyt...</td>\n",
       "      <td>42</td>\n",
       "      <td>Business Data Science Database</td>\n",
       "      <td>Ruben Kogel</td>\n",
       "      <td>Subscribe on Website, Apple Podcasts, Spotify,...</td>\n",
       "      <td>Kirill: This is episode number one with ex-che...</td>\n",
       "      <td>1</td>\n",
       "      <td>Sep 10, 2016</td>\n",
       "      <td>Saturday</td>\n",
       "      <td>Kirril Eremenko</td>\n",
       "    </tr>\n",
       "    <tr>\n",
       "      <th>1</th>\n",
       "      <td>Machine Learning, Recommender Systems and the...</td>\n",
       "      <td>51</td>\n",
       "      <td>Machine Learning Data Science</td>\n",
       "      <td>Hadelin de Ponteves</td>\n",
       "      <td>Subscribe on Website, Apple Podcasts, Spotify,...</td>\n",
       "      <td>Kirill: This is session number two with machin...</td>\n",
       "      <td>2</td>\n",
       "      <td>Sep 14, 2016</td>\n",
       "      <td>Wednesday</td>\n",
       "      <td>Jon Krohn</td>\n",
       "    </tr>\n",
       "    <tr>\n",
       "      <th>2</th>\n",
       "      <td>Defining the Data Problem, Data Science in Ma...</td>\n",
       "      <td>53</td>\n",
       "      <td>Machine Learning R Programming Data Science</td>\n",
       "      <td>Dr. Wilson Pok</td>\n",
       "      <td>Subscribe on Website, Apple Podcasts, Spotify,...</td>\n",
       "      <td>Kirill:\\tThis is episode number three with Nan...</td>\n",
       "      <td>3</td>\n",
       "      <td>Sep 25, 2016</td>\n",
       "      <td>Sunday</td>\n",
       "      <td>Jon Krohn</td>\n",
       "    </tr>\n",
       "    <tr>\n",
       "      <th>3</th>\n",
       "      <td>Data and Strategy, three Pillars of Research ...</td>\n",
       "      <td>60</td>\n",
       "      <td>Business Data Science</td>\n",
       "      <td>Brendan Hogan</td>\n",
       "      <td>Subscribe on Website, Apple Podcasts, Spotify,...</td>\n",
       "      <td>Kirill: This is episode four with business str...</td>\n",
       "      <td>4</td>\n",
       "      <td>Oct 02, 2016</td>\n",
       "      <td>Sunday</td>\n",
       "      <td>Jon Krohn</td>\n",
       "    </tr>\n",
       "    <tr>\n",
       "      <th>4</th>\n",
       "      <td>Computer Forensics, Fraud Analytics and knowi...</td>\n",
       "      <td>63</td>\n",
       "      <td>Data Science</td>\n",
       "      <td>Dmitry Korneev</td>\n",
       "      <td>Subscribe on Website, Apple Podcasts, Spotify,...</td>\n",
       "      <td>Kirill:\\tThis is episode number five with fore...</td>\n",
       "      <td>5</td>\n",
       "      <td>Oct 09, 2016</td>\n",
       "      <td>Sunday</td>\n",
       "      <td>Kirril Eremenko</td>\n",
       "    </tr>\n",
       "    <tr>\n",
       "      <th>...</th>\n",
       "      <td>...</td>\n",
       "      <td>...</td>\n",
       "      <td>...</td>\n",
       "      <td>...</td>\n",
       "      <td>...</td>\n",
       "      <td>...</td>\n",
       "      <td>...</td>\n",
       "      <td>...</td>\n",
       "      <td>...</td>\n",
       "      <td>...</td>\n",
       "    </tr>\n",
       "    <tr>\n",
       "      <th>677</th>\n",
       "      <td>The A.I. and Machine Learning Landscape, with...</td>\n",
       "      <td>94</td>\n",
       "      <td>Business Data Science Artificial Intelligence</td>\n",
       "      <td>George Mathew</td>\n",
       "      <td>Subscribe on Website, Apple Podcasts, Spotify,...</td>\n",
       "      <td>Jon Krohn:\\t00:00:00This is episode number 679...</td>\n",
       "      <td>679</td>\n",
       "      <td>May 16, 2023</td>\n",
       "      <td>Tuesday</td>\n",
       "      <td>Kirril Eremenko</td>\n",
       "    </tr>\n",
       "    <tr>\n",
       "      <th>678</th>\n",
       "      <td>Automating Industrial Machines with Data Scie...</td>\n",
       "      <td>30</td>\n",
       "      <td>Business Data Science</td>\n",
       "      <td>Allegra Alessi</td>\n",
       "      <td>Subscribe on Website, Apple Podcasts, Spotify,...</td>\n",
       "      <td>Jon Krohn:\\t00:06\\tThis is episode number 680 ...</td>\n",
       "      <td>680</td>\n",
       "      <td>May 19, 2023</td>\n",
       "      <td>Friday</td>\n",
       "      <td>Jon Krohn</td>\n",
       "    </tr>\n",
       "    <tr>\n",
       "      <th>679</th>\n",
       "      <td>XGBoost</td>\n",
       "      <td>72</td>\n",
       "      <td>Machine Learning Data Science Python</td>\n",
       "      <td>Matt Harrison</td>\n",
       "      <td>Subscribe on Website, Apple Podcasts, Spotify,...</td>\n",
       "      <td>Jon Krohn:\\t00:00:00\\tThis is episode number 6...</td>\n",
       "      <td>681</td>\n",
       "      <td>May 23, 2023</td>\n",
       "      <td>Tuesday</td>\n",
       "      <td>Jon Krohn</td>\n",
       "    </tr>\n",
       "    <tr>\n",
       "      <th>680</th>\n",
       "      <td>Business Intelligence Tools, with Mico Yuk</td>\n",
       "      <td>28</td>\n",
       "      <td>Business Data Science</td>\n",
       "      <td>Mico Yuk</td>\n",
       "      <td>Subscribe on Website, Apple Podcasts, Spotify,...</td>\n",
       "      <td>Jon Krohn:\\t00:05\\tThis is episode number 682 ...</td>\n",
       "      <td>682</td>\n",
       "      <td>May 26, 2023</td>\n",
       "      <td>Friday</td>\n",
       "      <td>Jon Krohn</td>\n",
       "    </tr>\n",
       "    <tr>\n",
       "      <th>681</th>\n",
       "      <td>Contextual A.I. for Adapting to Adversaries, ...</td>\n",
       "      <td>81</td>\n",
       "      <td>Data Science Artificial Intelligence</td>\n",
       "      <td>Matar Haller</td>\n",
       "      <td>Subscribe on Website, Apple Podcasts, Spotify,...</td>\n",
       "      <td>Jon Krohn:\\t00:00:05\\tThis is episode number 6...</td>\n",
       "      <td>683</td>\n",
       "      <td>May 30, 2023</td>\n",
       "      <td>Tuesday</td>\n",
       "      <td>Jon Krohn</td>\n",
       "    </tr>\n",
       "  </tbody>\n",
       "</table>\n",
       "<p>682 rows × 10 columns</p>\n",
       "</div>"
      ],
      "text/plain": [
       "                                          episode_name  length_episode  \\\n",
       "0     Ruben Kogel on Self-Serve Analytics, R vs Pyt...              42   \n",
       "1     Machine Learning, Recommender Systems and the...              51   \n",
       "2     Defining the Data Problem, Data Science in Ma...              53   \n",
       "3     Data and Strategy, three Pillars of Research ...              60   \n",
       "4     Computer Forensics, Fraud Analytics and knowi...              63   \n",
       "..                                                 ...             ...   \n",
       "677   The A.I. and Machine Learning Landscape, with...              94   \n",
       "678   Automating Industrial Machines with Data Scie...              30   \n",
       "679                                            XGBoost              72   \n",
       "680         Business Intelligence Tools, with Mico Yuk              28   \n",
       "681   Contextual A.I. for Adapting to Adversaries, ...              81   \n",
       "\n",
       "                                   context_episode             guest_name  \\\n",
       "0                   Business Data Science Database           Ruben Kogel    \n",
       "1                    Machine Learning Data Science   Hadelin de Ponteves    \n",
       "2      Machine Learning R Programming Data Science        Dr. Wilson Pok    \n",
       "3                            Business Data Science         Brendan Hogan    \n",
       "4                                     Data Science        Dmitry Korneev    \n",
       "..                                             ...                    ...   \n",
       "677  Business Data Science Artificial Intelligence         George Mathew    \n",
       "678                          Business Data Science        Allegra Alessi    \n",
       "679           Machine Learning Data Science Python         Matt Harrison    \n",
       "680                          Business Data Science              Mico Yuk    \n",
       "681           Data Science Artificial Intelligence          Matar Haller    \n",
       "\n",
       "                                            guest_info  \\\n",
       "0    Subscribe on Website, Apple Podcasts, Spotify,...   \n",
       "1    Subscribe on Website, Apple Podcasts, Spotify,...   \n",
       "2    Subscribe on Website, Apple Podcasts, Spotify,...   \n",
       "3    Subscribe on Website, Apple Podcasts, Spotify,...   \n",
       "4    Subscribe on Website, Apple Podcasts, Spotify,...   \n",
       "..                                                 ...   \n",
       "677  Subscribe on Website, Apple Podcasts, Spotify,...   \n",
       "678  Subscribe on Website, Apple Podcasts, Spotify,...   \n",
       "679  Subscribe on Website, Apple Podcasts, Spotify,...   \n",
       "680  Subscribe on Website, Apple Podcasts, Spotify,...   \n",
       "681  Subscribe on Website, Apple Podcasts, Spotify,...   \n",
       "\n",
       "                                          text_episode  episode_number  \\\n",
       "0    Kirill: This is episode number one with ex-che...               1   \n",
       "1    Kirill: This is session number two with machin...               2   \n",
       "2    Kirill:\\tThis is episode number three with Nan...               3   \n",
       "3    Kirill: This is episode four with business str...               4   \n",
       "4    Kirill:\\tThis is episode number five with fore...               5   \n",
       "..                                                 ...             ...   \n",
       "677  Jon Krohn:\\t00:00:00This is episode number 679...             679   \n",
       "678  Jon Krohn:\\t00:06\\tThis is episode number 680 ...             680   \n",
       "679  Jon Krohn:\\t00:00:00\\tThis is episode number 6...             681   \n",
       "680  Jon Krohn:\\t00:05\\tThis is episode number 682 ...             682   \n",
       "681  Jon Krohn:\\t00:00:05\\tThis is episode number 6...             683   \n",
       "\n",
       "     episode_date episode_day     host_episode  \n",
       "0    Sep 10, 2016    Saturday  Kirril Eremenko  \n",
       "1    Sep 14, 2016   Wednesday        Jon Krohn  \n",
       "2    Sep 25, 2016      Sunday        Jon Krohn  \n",
       "3    Oct 02, 2016      Sunday        Jon Krohn  \n",
       "4    Oct 09, 2016      Sunday  Kirril Eremenko  \n",
       "..            ...         ...              ...  \n",
       "677  May 16, 2023     Tuesday  Kirril Eremenko  \n",
       "678  May 19, 2023      Friday        Jon Krohn  \n",
       "679  May 23, 2023     Tuesday        Jon Krohn  \n",
       "680  May 26, 2023      Friday        Jon Krohn  \n",
       "681  May 30, 2023     Tuesday        Jon Krohn  \n",
       "\n",
       "[682 rows x 10 columns]"
      ]
     },
     "execution_count": 8,
     "metadata": {},
     "output_type": "execute_result"
    }
   ],
   "source": [
    "sds"
   ]
  },
  {
   "cell_type": "code",
   "execution_count": 9,
   "id": "da2507a3",
   "metadata": {},
   "outputs": [
    {
     "name": "stdout",
     "output_type": "stream",
     "text": [
      "<class 'pandas.core.frame.DataFrame'>\n",
      "RangeIndex: 682 entries, 0 to 681\n",
      "Data columns (total 10 columns):\n",
      " #   Column           Non-Null Count  Dtype \n",
      "---  ------           --------------  ----- \n",
      " 0   episode_name     682 non-null    object\n",
      " 1   length_episode   682 non-null    int64 \n",
      " 2   context_episode  682 non-null    object\n",
      " 3   guest_name       682 non-null    object\n",
      " 4   guest_info       682 non-null    object\n",
      " 5   text_episode     680 non-null    object\n",
      " 6   episode_number   682 non-null    int64 \n",
      " 7   episode_date     682 non-null    object\n",
      " 8   episode_day      682 non-null    object\n",
      " 9   host_episode     682 non-null    object\n",
      "dtypes: int64(2), object(8)\n",
      "memory usage: 53.4+ KB\n"
     ]
    }
   ],
   "source": [
    "sds.info()"
   ]
  },
  {
   "cell_type": "code",
   "execution_count": 10,
   "id": "547a8819",
   "metadata": {},
   "outputs": [
    {
     "data": {
      "text/plain": [
       "False    680\n",
       "True       2\n",
       "Name: text_episode, dtype: int64"
      ]
     },
     "execution_count": 10,
     "metadata": {},
     "output_type": "execute_result"
    }
   ],
   "source": [
    "sds['text_episode'].isna().value_counts()"
   ]
  },
  {
   "cell_type": "code",
   "execution_count": 11,
   "id": "c75c13a9",
   "metadata": {},
   "outputs": [
    {
     "data": {
      "text/plain": [
       "333"
      ]
     },
     "execution_count": 11,
     "metadata": {},
     "output_type": "execute_result"
    }
   ],
   "source": [
    "sds['guest_name'].nunique()"
   ]
  },
  {
   "cell_type": "code",
   "execution_count": 12,
   "id": "da26b99a",
   "metadata": {},
   "outputs": [
    {
     "data": {
      "text/plain": [
       " Kirill Eremenko         190\n",
       " Jon Krohn               105\n",
       " Kirill and Hadelin        9\n",
       " Ben Taylor                8\n",
       " Hadelin de Ponteves       6\n",
       "                        ... \n",
       " Josh Muncke               1\n",
       " Mollie Pettit             1\n",
       " Adam Weinstein            1\n",
       " Sarah Nooravi             1\n",
       " Matar Haller              1\n",
       "Name: guest_name, Length: 333, dtype: int64"
      ]
     },
     "execution_count": 12,
     "metadata": {},
     "output_type": "execute_result"
    }
   ],
   "source": [
    "sds['guest_name'].value_counts()"
   ]
  },
  {
   "cell_type": "code",
   "execution_count": null,
   "id": "1d7bd1b8",
   "metadata": {},
   "outputs": [],
   "source": [
    "sds['text_episode'].loc[429]"
   ]
  },
  {
   "cell_type": "code",
   "execution_count": 13,
   "id": "cc1397c6",
   "metadata": {},
   "outputs": [],
   "source": [
    "# Function to split the text over the rows\n",
    "\n",
    "def text_split(df, column):\n",
    "    \n",
    "    sds_index = column.str.findall('(?:^|\\\\xa0|(?:\\\\n)+)([A-Za-z\\s]+):').explode().to_frame()\n",
    "    sds_index['episode_index'] = 1 \n",
    "    sds_index['episode_index'] = sds_index.groupby(sds_index.index)['episode_index'].cumsum()\n",
    "    sds_index = sds_index.reset_index().set_index(['index','episode_index']).rename(columns = {column.name :'speaker'})\n",
    "    #sds_index\n",
    "    split_text = column.str.split('(?:^|\\\\xa0|(?:\\\\n)+)[A-Za-z\\s]+:', expand = True).stack().to_frame()#.droplevel(-1)\n",
    "    \n",
    "    split_text.index = split_text.index.rename(sds_index.index.names)\n",
    "    #return sds_index,split_text \n",
    "    sds_index = sds_index.merge(split_text, left_index = True, right_index=True, how = 'right').droplevel(-1)\n",
    "    return df.merge(sds_index,left_index=True, right_index=True)\n"
   ]
  },
  {
   "cell_type": "code",
   "execution_count": 14,
   "id": "f9717973",
   "metadata": {},
   "outputs": [],
   "source": [
    "\n",
    "sds_text = text_split(sds, sds['text_episode'])"
   ]
  },
  {
   "cell_type": "code",
   "execution_count": 15,
   "id": "527a9122",
   "metadata": {},
   "outputs": [
    {
     "data": {
      "text/html": [
       "<div>\n",
       "<style scoped>\n",
       "    .dataframe tbody tr th:only-of-type {\n",
       "        vertical-align: middle;\n",
       "    }\n",
       "\n",
       "    .dataframe tbody tr th {\n",
       "        vertical-align: top;\n",
       "    }\n",
       "\n",
       "    .dataframe thead th {\n",
       "        text-align: right;\n",
       "    }\n",
       "</style>\n",
       "<table border=\"1\" class=\"dataframe\">\n",
       "  <thead>\n",
       "    <tr style=\"text-align: right;\">\n",
       "      <th></th>\n",
       "      <th>episode_name</th>\n",
       "      <th>length_episode</th>\n",
       "      <th>context_episode</th>\n",
       "      <th>guest_name</th>\n",
       "      <th>guest_info</th>\n",
       "      <th>text_episode</th>\n",
       "      <th>episode_number</th>\n",
       "      <th>episode_date</th>\n",
       "      <th>episode_day</th>\n",
       "      <th>host_episode</th>\n",
       "      <th>speaker</th>\n",
       "      <th>0</th>\n",
       "    </tr>\n",
       "  </thead>\n",
       "  <tbody>\n",
       "    <tr>\n",
       "      <th>0</th>\n",
       "      <td>Ruben Kogel on Self-Serve Analytics, R vs Pyt...</td>\n",
       "      <td>42</td>\n",
       "      <td>Business Data Science Database</td>\n",
       "      <td>Ruben Kogel</td>\n",
       "      <td>Subscribe on Website, Apple Podcasts, Spotify,...</td>\n",
       "      <td>Kirill: This is episode number one with ex-che...</td>\n",
       "      <td>1</td>\n",
       "      <td>Sep 10, 2016</td>\n",
       "      <td>Saturday</td>\n",
       "      <td>Kirril Eremenko</td>\n",
       "      <td>NaN</td>\n",
       "      <td></td>\n",
       "    </tr>\n",
       "    <tr>\n",
       "      <th>0</th>\n",
       "      <td>Ruben Kogel on Self-Serve Analytics, R vs Pyt...</td>\n",
       "      <td>42</td>\n",
       "      <td>Business Data Science Database</td>\n",
       "      <td>Ruben Kogel</td>\n",
       "      <td>Subscribe on Website, Apple Podcasts, Spotify,...</td>\n",
       "      <td>Kirill: This is episode number one with ex-che...</td>\n",
       "      <td>1</td>\n",
       "      <td>Sep 10, 2016</td>\n",
       "      <td>Saturday</td>\n",
       "      <td>Kirril Eremenko</td>\n",
       "      <td>Kirill</td>\n",
       "      <td>This is episode number one with ex-chemical e...</td>\n",
       "    </tr>\n",
       "    <tr>\n",
       "      <th>0</th>\n",
       "      <td>Ruben Kogel on Self-Serve Analytics, R vs Pyt...</td>\n",
       "      <td>42</td>\n",
       "      <td>Business Data Science Database</td>\n",
       "      <td>Ruben Kogel</td>\n",
       "      <td>Subscribe on Website, Apple Podcasts, Spotify,...</td>\n",
       "      <td>Kirill: This is episode number one with ex-che...</td>\n",
       "      <td>1</td>\n",
       "      <td>Sep 10, 2016</td>\n",
       "      <td>Saturday</td>\n",
       "      <td>Kirril Eremenko</td>\n",
       "      <td>Kirill</td>\n",
       "      <td>Hey guys, welcome to the Podcast. I’ve got Ru...</td>\n",
       "    </tr>\n",
       "    <tr>\n",
       "      <th>0</th>\n",
       "      <td>Ruben Kogel on Self-Serve Analytics, R vs Pyt...</td>\n",
       "      <td>42</td>\n",
       "      <td>Business Data Science Database</td>\n",
       "      <td>Ruben Kogel</td>\n",
       "      <td>Subscribe on Website, Apple Podcasts, Spotify,...</td>\n",
       "      <td>Kirill: This is episode number one with ex-che...</td>\n",
       "      <td>1</td>\n",
       "      <td>Sep 10, 2016</td>\n",
       "      <td>Saturday</td>\n",
       "      <td>Kirril Eremenko</td>\n",
       "      <td>Ruben</td>\n",
       "      <td>Thank you! Thanks for having me over. I’m doi...</td>\n",
       "    </tr>\n",
       "    <tr>\n",
       "      <th>0</th>\n",
       "      <td>Ruben Kogel on Self-Serve Analytics, R vs Pyt...</td>\n",
       "      <td>42</td>\n",
       "      <td>Business Data Science Database</td>\n",
       "      <td>Ruben Kogel</td>\n",
       "      <td>Subscribe on Website, Apple Podcasts, Spotify,...</td>\n",
       "      <td>Kirill: This is episode number one with ex-che...</td>\n",
       "      <td>1</td>\n",
       "      <td>Sep 10, 2016</td>\n",
       "      <td>Saturday</td>\n",
       "      <td>Kirril Eremenko</td>\n",
       "      <td>Kirill</td>\n",
       "      <td>Awesome. It’s great to hear you and for those...</td>\n",
       "    </tr>\n",
       "    <tr>\n",
       "      <th>...</th>\n",
       "      <td>...</td>\n",
       "      <td>...</td>\n",
       "      <td>...</td>\n",
       "      <td>...</td>\n",
       "      <td>...</td>\n",
       "      <td>...</td>\n",
       "      <td>...</td>\n",
       "      <td>...</td>\n",
       "      <td>...</td>\n",
       "      <td>...</td>\n",
       "      <td>...</td>\n",
       "      <td>...</td>\n",
       "    </tr>\n",
       "    <tr>\n",
       "      <th>681</th>\n",
       "      <td>Contextual A.I. for Adapting to Adversaries, ...</td>\n",
       "      <td>81</td>\n",
       "      <td>Data Science Artificial Intelligence</td>\n",
       "      <td>Matar Haller</td>\n",
       "      <td>Subscribe on Website, Apple Podcasts, Spotify,...</td>\n",
       "      <td>Jon Krohn:\\t00:00:05\\tThis is episode number 6...</td>\n",
       "      <td>683</td>\n",
       "      <td>May 30, 2023</td>\n",
       "      <td>Tuesday</td>\n",
       "      <td>Jon Krohn</td>\n",
       "      <td>Jon Krohn</td>\n",
       "      <td>\\t01:17:22Yeah, right. Yeah, as I mean, it act...</td>\n",
       "    </tr>\n",
       "    <tr>\n",
       "      <th>681</th>\n",
       "      <td>Contextual A.I. for Adapting to Adversaries, ...</td>\n",
       "      <td>81</td>\n",
       "      <td>Data Science Artificial Intelligence</td>\n",
       "      <td>Matar Haller</td>\n",
       "      <td>Subscribe on Website, Apple Podcasts, Spotify,...</td>\n",
       "      <td>Jon Krohn:\\t00:00:05\\tThis is episode number 6...</td>\n",
       "      <td>683</td>\n",
       "      <td>May 30, 2023</td>\n",
       "      <td>Tuesday</td>\n",
       "      <td>Jon Krohn</td>\n",
       "      <td>Matar Haller</td>\n",
       "      <td>\\t01:17:45\\tHappy to.</td>\n",
       "    </tr>\n",
       "    <tr>\n",
       "      <th>681</th>\n",
       "      <td>Contextual A.I. for Adapting to Adversaries, ...</td>\n",
       "      <td>81</td>\n",
       "      <td>Data Science Artificial Intelligence</td>\n",
       "      <td>Matar Haller</td>\n",
       "      <td>Subscribe on Website, Apple Podcasts, Spotify,...</td>\n",
       "      <td>Jon Krohn:\\t00:00:05\\tThis is episode number 6...</td>\n",
       "      <td>683</td>\n",
       "      <td>May 30, 2023</td>\n",
       "      <td>Tuesday</td>\n",
       "      <td>Jon Krohn</td>\n",
       "      <td>Jon Krohn</td>\n",
       "      <td>\\t01:17:46\\tNice. Well, yeah, so you mentioned...</td>\n",
       "    </tr>\n",
       "    <tr>\n",
       "      <th>681</th>\n",
       "      <td>Contextual A.I. for Adapting to Adversaries, ...</td>\n",
       "      <td>81</td>\n",
       "      <td>Data Science Artificial Intelligence</td>\n",
       "      <td>Matar Haller</td>\n",
       "      <td>Subscribe on Website, Apple Podcasts, Spotify,...</td>\n",
       "      <td>Jon Krohn:\\t00:00:05\\tThis is episode number 6...</td>\n",
       "      <td>683</td>\n",
       "      <td>May 30, 2023</td>\n",
       "      <td>Tuesday</td>\n",
       "      <td>Jon Krohn</td>\n",
       "      <td>Matar Haller</td>\n",
       "      <td>\\t01:18:04\\tThank you for having me. This was ...</td>\n",
       "    </tr>\n",
       "    <tr>\n",
       "      <th>681</th>\n",
       "      <td>Contextual A.I. for Adapting to Adversaries, ...</td>\n",
       "      <td>81</td>\n",
       "      <td>Data Science Artificial Intelligence</td>\n",
       "      <td>Matar Haller</td>\n",
       "      <td>Subscribe on Website, Apple Podcasts, Spotify,...</td>\n",
       "      <td>Jon Krohn:\\t00:00:05\\tThis is episode number 6...</td>\n",
       "      <td>683</td>\n",
       "      <td>May 30, 2023</td>\n",
       "      <td>Tuesday</td>\n",
       "      <td>Jon Krohn</td>\n",
       "      <td>Jon Krohn</td>\n",
       "      <td>\\t01:18:12\\tI loved this conversation today. I...</td>\n",
       "    </tr>\n",
       "  </tbody>\n",
       "</table>\n",
       "<p>47176 rows × 12 columns</p>\n",
       "</div>"
      ],
      "text/plain": [
       "                                          episode_name  length_episode  \\\n",
       "0     Ruben Kogel on Self-Serve Analytics, R vs Pyt...              42   \n",
       "0     Ruben Kogel on Self-Serve Analytics, R vs Pyt...              42   \n",
       "0     Ruben Kogel on Self-Serve Analytics, R vs Pyt...              42   \n",
       "0     Ruben Kogel on Self-Serve Analytics, R vs Pyt...              42   \n",
       "0     Ruben Kogel on Self-Serve Analytics, R vs Pyt...              42   \n",
       "..                                                 ...             ...   \n",
       "681   Contextual A.I. for Adapting to Adversaries, ...              81   \n",
       "681   Contextual A.I. for Adapting to Adversaries, ...              81   \n",
       "681   Contextual A.I. for Adapting to Adversaries, ...              81   \n",
       "681   Contextual A.I. for Adapting to Adversaries, ...              81   \n",
       "681   Contextual A.I. for Adapting to Adversaries, ...              81   \n",
       "\n",
       "                          context_episode      guest_name  \\\n",
       "0          Business Data Science Database    Ruben Kogel    \n",
       "0          Business Data Science Database    Ruben Kogel    \n",
       "0          Business Data Science Database    Ruben Kogel    \n",
       "0          Business Data Science Database    Ruben Kogel    \n",
       "0          Business Data Science Database    Ruben Kogel    \n",
       "..                                    ...             ...   \n",
       "681  Data Science Artificial Intelligence   Matar Haller    \n",
       "681  Data Science Artificial Intelligence   Matar Haller    \n",
       "681  Data Science Artificial Intelligence   Matar Haller    \n",
       "681  Data Science Artificial Intelligence   Matar Haller    \n",
       "681  Data Science Artificial Intelligence   Matar Haller    \n",
       "\n",
       "                                            guest_info  \\\n",
       "0    Subscribe on Website, Apple Podcasts, Spotify,...   \n",
       "0    Subscribe on Website, Apple Podcasts, Spotify,...   \n",
       "0    Subscribe on Website, Apple Podcasts, Spotify,...   \n",
       "0    Subscribe on Website, Apple Podcasts, Spotify,...   \n",
       "0    Subscribe on Website, Apple Podcasts, Spotify,...   \n",
       "..                                                 ...   \n",
       "681  Subscribe on Website, Apple Podcasts, Spotify,...   \n",
       "681  Subscribe on Website, Apple Podcasts, Spotify,...   \n",
       "681  Subscribe on Website, Apple Podcasts, Spotify,...   \n",
       "681  Subscribe on Website, Apple Podcasts, Spotify,...   \n",
       "681  Subscribe on Website, Apple Podcasts, Spotify,...   \n",
       "\n",
       "                                          text_episode  episode_number  \\\n",
       "0    Kirill: This is episode number one with ex-che...               1   \n",
       "0    Kirill: This is episode number one with ex-che...               1   \n",
       "0    Kirill: This is episode number one with ex-che...               1   \n",
       "0    Kirill: This is episode number one with ex-che...               1   \n",
       "0    Kirill: This is episode number one with ex-che...               1   \n",
       "..                                                 ...             ...   \n",
       "681  Jon Krohn:\\t00:00:05\\tThis is episode number 6...             683   \n",
       "681  Jon Krohn:\\t00:00:05\\tThis is episode number 6...             683   \n",
       "681  Jon Krohn:\\t00:00:05\\tThis is episode number 6...             683   \n",
       "681  Jon Krohn:\\t00:00:05\\tThis is episode number 6...             683   \n",
       "681  Jon Krohn:\\t00:00:05\\tThis is episode number 6...             683   \n",
       "\n",
       "     episode_date episode_day     host_episode       speaker  \\\n",
       "0    Sep 10, 2016    Saturday  Kirril Eremenko           NaN   \n",
       "0    Sep 10, 2016    Saturday  Kirril Eremenko        Kirill   \n",
       "0    Sep 10, 2016    Saturday  Kirril Eremenko        Kirill   \n",
       "0    Sep 10, 2016    Saturday  Kirril Eremenko         Ruben   \n",
       "0    Sep 10, 2016    Saturday  Kirril Eremenko        Kirill   \n",
       "..            ...         ...              ...           ...   \n",
       "681  May 30, 2023     Tuesday        Jon Krohn     Jon Krohn   \n",
       "681  May 30, 2023     Tuesday        Jon Krohn  Matar Haller   \n",
       "681  May 30, 2023     Tuesday        Jon Krohn     Jon Krohn   \n",
       "681  May 30, 2023     Tuesday        Jon Krohn  Matar Haller   \n",
       "681  May 30, 2023     Tuesday        Jon Krohn     Jon Krohn   \n",
       "\n",
       "                                                     0  \n",
       "0                                                       \n",
       "0     This is episode number one with ex-chemical e...  \n",
       "0     Hey guys, welcome to the Podcast. I’ve got Ru...  \n",
       "0     Thank you! Thanks for having me over. I’m doi...  \n",
       "0     Awesome. It’s great to hear you and for those...  \n",
       "..                                                 ...  \n",
       "681  \\t01:17:22Yeah, right. Yeah, as I mean, it act...  \n",
       "681                              \\t01:17:45\\tHappy to.  \n",
       "681  \\t01:17:46\\tNice. Well, yeah, so you mentioned...  \n",
       "681  \\t01:18:04\\tThank you for having me. This was ...  \n",
       "681  \\t01:18:12\\tI loved this conversation today. I...  \n",
       "\n",
       "[47176 rows x 12 columns]"
      ]
     },
     "execution_count": 15,
     "metadata": {},
     "output_type": "execute_result"
    }
   ],
   "source": [
    "sds_text"
   ]
  },
  {
   "cell_type": "code",
   "execution_count": 26,
   "id": "2998aa4f",
   "metadata": {},
   "outputs": [],
   "source": [
    "sds_text = sds_text.rename(columns = {0 : 'episode_split_text' })"
   ]
  },
  {
   "cell_type": "code",
   "execution_count": 28,
   "id": "c0599042",
   "metadata": {},
   "outputs": [
    {
     "name": "stdout",
     "output_type": "stream",
     "text": [
      "<class 'pandas.core.frame.DataFrame'>\n",
      "Int64Index: 47176 entries, 0 to 681\n",
      "Data columns (total 12 columns):\n",
      " #   Column              Non-Null Count  Dtype \n",
      "---  ------              --------------  ----- \n",
      " 0   episode_name        47176 non-null  object\n",
      " 1   length_episode      47176 non-null  int64 \n",
      " 2   context_episode     47176 non-null  object\n",
      " 3   guest_name          47176 non-null  object\n",
      " 4   guest_info          47176 non-null  object\n",
      " 5   text_episode        47176 non-null  object\n",
      " 6   episode_number      47176 non-null  int64 \n",
      " 7   episode_date        47176 non-null  object\n",
      " 8   episode_day         47176 non-null  object\n",
      " 9   host_episode        47176 non-null  object\n",
      " 10  speaker             46496 non-null  object\n",
      " 11  episode_split_text  47176 non-null  object\n",
      "dtypes: int64(2), object(10)\n",
      "memory usage: 5.7+ MB\n"
     ]
    }
   ],
   "source": [
    "sds_text.info()"
   ]
  },
  {
   "cell_type": "code",
   "execution_count": 33,
   "id": "aead4f41",
   "metadata": {},
   "outputs": [
    {
     "data": {
      "text/plain": [
       "0      False\n",
       "0      False\n",
       "0      False\n",
       "0      False\n",
       "0      False\n",
       "       ...  \n",
       "681    False\n",
       "681    False\n",
       "681    False\n",
       "681    False\n",
       "681    False\n",
       "Name: episode_split_text, Length: 47176, dtype: bool"
      ]
     },
     "execution_count": 33,
     "metadata": {},
     "output_type": "execute_result"
    }
   ],
   "source": [
    "sds_text['episode_split_text'].isna()"
   ]
  },
  {
   "cell_type": "code",
   "execution_count": 38,
   "id": "86339c8f",
   "metadata": {},
   "outputs": [
    {
     "data": {
      "text/plain": [
       "401                                                     \n",
       "401    \\t00:00:00\\tThis is episode number 403 with Da...\n",
       "401    \\t00:00:12\\tWelcome to the SuperDataScience Po...\n",
       "401    \\t00:00:44\\tWelcome back to the SuperDataScien...\n",
       "401    \\t00:01:29\\tAnd also Juan Gabriel is very pass...\n",
       "                             ...                        \n",
       "401             \\t01:13:24\\tAwesome, I'll see you there.\n",
       "401                                    \\t01:13:27\\tOkay.\n",
       "401    \\t01:13:31\\tSo there you have it ladies and ge...\n",
       "401    \\t01:14:34\\tAnd as always, you can find the sh...\n",
       "401    \\t01:15:52\\tThere you go, share the love, send...\n",
       "Name: episode_split_text, Length: 138, dtype: object"
      ]
     },
     "execution_count": 38,
     "metadata": {},
     "output_type": "execute_result"
    }
   ],
   "source": [
    "sds_text['episode_split_text'].loc[401]"
   ]
  },
  {
   "cell_type": "code",
   "execution_count": 46,
   "id": "3ce517cb",
   "metadata": {},
   "outputs": [
    {
     "name": "stderr",
     "output_type": "stream",
     "text": [
      "/var/folders/s3/9_r9v9px7_v0q69b5zcbnmsm0000gn/T/ipykernel_5330/80234403.py:1: FutureWarning: The default value of regex will change from True to False in a future version.\n",
      "  sds_text['episode_split_text'] = sds_text['episode_split_text'].str.replace('\\\\t|\\\\n|\\\\xa0', '')\n"
     ]
    }
   ],
   "source": [
    "sds_text['episode_split_text'] = sds_text['episode_split_text'].str.replace('\\\\t|\\\\n|\\\\xa0', '')"
   ]
  },
  {
   "cell_type": "code",
   "execution_count": 55,
   "id": "a0fbb737",
   "metadata": {},
   "outputs": [
    {
     "name": "stderr",
     "output_type": "stream",
     "text": [
      "/var/folders/s3/9_r9v9px7_v0q69b5zcbnmsm0000gn/T/ipykernel_5330/3648962902.py:1: FutureWarning: The default value of regex will change from True to False in a future version.\n",
      "  sds_text['episode_split_text'] = sds_text['episode_split_text'].str.replace('\\(?\\d{2}:\\d{2}\\):| ?(\\d{2}:)+\\d{2}', '')\n"
     ]
    }
   ],
   "source": [
    "sds_text['episode_split_text'] = sds_text['episode_split_text'].str.replace('\\(?\\d{2}:\\d{2}\\):| ?(\\d{2}:)+\\d{2}', '')"
   ]
  },
  {
   "cell_type": "code",
   "execution_count": 57,
   "id": "1f4968fa",
   "metadata": {},
   "outputs": [
    {
     "data": {
      "text/plain": [
       "677                                                     \n",
       "677    This is episode number 679 with George Matthew...\n",
       "677                                                 Jon.\n",
       "677    Welcome to the SuperDataScience podcast. Thank...\n",
       "677    Thank you, Jon. It's a pleasure to be here. Ha...\n",
       "                             ...                        \n",
       "677    That's a great one, George. And no doubt all o...\n",
       "677    Yeah, best way to follow me is of course on Li...\n",
       "677    Phew I mean, the honor is all mine. George, th...\n",
       "677    That's awesome. Looking forward to that in the...\n",
       "677    Nice. Wow, that was an exceptionally interesti...\n",
       "Name: episode_split_text, Length: 108, dtype: object"
      ]
     },
     "execution_count": 57,
     "metadata": {},
     "output_type": "execute_result"
    }
   ],
   "source": [
    "sds_text['episode_split_text'].loc[677]"
   ]
  },
  {
   "cell_type": "code",
   "execution_count": 59,
   "id": "0a17112f",
   "metadata": {},
   "outputs": [
    {
     "name": "stdout",
     "output_type": "stream",
     "text": [
      "<class 'pandas.core.frame.DataFrame'>\n",
      "Int64Index: 47176 entries, 0 to 681\n",
      "Data columns (total 12 columns):\n",
      " #   Column              Non-Null Count  Dtype \n",
      "---  ------              --------------  ----- \n",
      " 0   episode_name        47176 non-null  object\n",
      " 1   length_episode      47176 non-null  int64 \n",
      " 2   context_episode     47176 non-null  object\n",
      " 3   guest_name          47176 non-null  object\n",
      " 4   guest_info          47176 non-null  object\n",
      " 5   text_episode        47176 non-null  object\n",
      " 6   episode_number      47176 non-null  int64 \n",
      " 7   episode_date        47176 non-null  object\n",
      " 8   episode_day         47176 non-null  object\n",
      " 9   host_episode        47176 non-null  object\n",
      " 10  speaker             46496 non-null  object\n",
      " 11  episode_split_text  47176 non-null  object\n",
      "dtypes: int64(2), object(10)\n",
      "memory usage: 5.7+ MB\n"
     ]
    }
   ],
   "source": [
    "sds_text.info()"
   ]
  },
  {
   "cell_type": "code",
   "execution_count": 75,
   "id": "7a6f03ec",
   "metadata": {},
   "outputs": [
    {
     "data": {
      "text/plain": [
       "681                                                     \n",
       "681    This is episode number 683 with Dr. Matar Hall...\n",
       "681    Sunny, sunny Israel. Is that always true? Alwa...\n",
       "681    Mhm, most of the time it's pretty sunny. We ha...\n",
       "681                                 [crosstalk] beaches.\n",
       "                             ...                        \n",
       "681    Yeah, right. Yeah, as I mean, it actually, it ...\n",
       "681                                            Happy to.\n",
       "681    Nice. Well, yeah, so you mentioned potentially...\n",
       "681    Thank you for having me. This was fascinating ...\n",
       "681    I loved this conversation today. I hope you di...\n",
       "Name: episode_split_text, Length: 78, dtype: object"
      ]
     },
     "execution_count": 75,
     "metadata": {},
     "output_type": "execute_result"
    }
   ],
   "source": [
    "sds_text['episode_split_text'].loc[681]"
   ]
  },
  {
   "cell_type": "code",
   "execution_count": 70,
   "id": "0d4476a9",
   "metadata": {},
   "outputs": [
    {
     "data": {
      "text/plain": [
       "False    46772\n",
       "True       404\n",
       "Name: episode_split_text, dtype: int64"
      ]
     },
     "execution_count": 70,
     "metadata": {},
     "output_type": "execute_result"
    }
   ],
   "source": [
    "sds_text['episode_split_text'].apply(lambda x: isinstance(x, str) and len(x.strip()) == 0).value_counts()"
   ]
  },
  {
   "cell_type": "code",
   "execution_count": 82,
   "id": "2cd2f8bf",
   "metadata": {},
   "outputs": [],
   "source": [
    "sds_text = sds_text[sds_text['episode_split_text'] != '']"
   ]
  },
  {
   "cell_type": "code",
   "execution_count": 83,
   "id": "235b8974",
   "metadata": {},
   "outputs": [
    {
     "data": {
      "text/html": [
       "<div>\n",
       "<style scoped>\n",
       "    .dataframe tbody tr th:only-of-type {\n",
       "        vertical-align: middle;\n",
       "    }\n",
       "\n",
       "    .dataframe tbody tr th {\n",
       "        vertical-align: top;\n",
       "    }\n",
       "\n",
       "    .dataframe thead th {\n",
       "        text-align: right;\n",
       "    }\n",
       "</style>\n",
       "<table border=\"1\" class=\"dataframe\">\n",
       "  <thead>\n",
       "    <tr style=\"text-align: right;\">\n",
       "      <th></th>\n",
       "      <th>episode_name</th>\n",
       "      <th>length_episode</th>\n",
       "      <th>context_episode</th>\n",
       "      <th>guest_name</th>\n",
       "      <th>guest_info</th>\n",
       "      <th>text_episode</th>\n",
       "      <th>episode_number</th>\n",
       "      <th>episode_date</th>\n",
       "      <th>episode_day</th>\n",
       "      <th>host_episode</th>\n",
       "      <th>speaker</th>\n",
       "      <th>episode_split_text</th>\n",
       "    </tr>\n",
       "  </thead>\n",
       "  <tbody>\n",
       "    <tr>\n",
       "      <th>0</th>\n",
       "      <td>Ruben Kogel on Self-Serve Analytics, R vs Pyt...</td>\n",
       "      <td>42</td>\n",
       "      <td>Business Data Science Database</td>\n",
       "      <td>Ruben Kogel</td>\n",
       "      <td>Subscribe on Website, Apple Podcasts, Spotify,...</td>\n",
       "      <td>Kirill: This is episode number one with ex-che...</td>\n",
       "      <td>1</td>\n",
       "      <td>Sep 10, 2016</td>\n",
       "      <td>Saturday</td>\n",
       "      <td>Kirril Eremenko</td>\n",
       "      <td>Kirill</td>\n",
       "      <td>This is episode number one with ex-chemical e...</td>\n",
       "    </tr>\n",
       "    <tr>\n",
       "      <th>0</th>\n",
       "      <td>Ruben Kogel on Self-Serve Analytics, R vs Pyt...</td>\n",
       "      <td>42</td>\n",
       "      <td>Business Data Science Database</td>\n",
       "      <td>Ruben Kogel</td>\n",
       "      <td>Subscribe on Website, Apple Podcasts, Spotify,...</td>\n",
       "      <td>Kirill: This is episode number one with ex-che...</td>\n",
       "      <td>1</td>\n",
       "      <td>Sep 10, 2016</td>\n",
       "      <td>Saturday</td>\n",
       "      <td>Kirril Eremenko</td>\n",
       "      <td>Kirill</td>\n",
       "      <td>Hey guys, welcome to the Podcast. I’ve got Ru...</td>\n",
       "    </tr>\n",
       "    <tr>\n",
       "      <th>0</th>\n",
       "      <td>Ruben Kogel on Self-Serve Analytics, R vs Pyt...</td>\n",
       "      <td>42</td>\n",
       "      <td>Business Data Science Database</td>\n",
       "      <td>Ruben Kogel</td>\n",
       "      <td>Subscribe on Website, Apple Podcasts, Spotify,...</td>\n",
       "      <td>Kirill: This is episode number one with ex-che...</td>\n",
       "      <td>1</td>\n",
       "      <td>Sep 10, 2016</td>\n",
       "      <td>Saturday</td>\n",
       "      <td>Kirril Eremenko</td>\n",
       "      <td>Ruben</td>\n",
       "      <td>Thank you! Thanks for having me over. I’m doi...</td>\n",
       "    </tr>\n",
       "    <tr>\n",
       "      <th>0</th>\n",
       "      <td>Ruben Kogel on Self-Serve Analytics, R vs Pyt...</td>\n",
       "      <td>42</td>\n",
       "      <td>Business Data Science Database</td>\n",
       "      <td>Ruben Kogel</td>\n",
       "      <td>Subscribe on Website, Apple Podcasts, Spotify,...</td>\n",
       "      <td>Kirill: This is episode number one with ex-che...</td>\n",
       "      <td>1</td>\n",
       "      <td>Sep 10, 2016</td>\n",
       "      <td>Saturday</td>\n",
       "      <td>Kirril Eremenko</td>\n",
       "      <td>Kirill</td>\n",
       "      <td>Awesome. It’s great to hear you and for those...</td>\n",
       "    </tr>\n",
       "    <tr>\n",
       "      <th>0</th>\n",
       "      <td>Ruben Kogel on Self-Serve Analytics, R vs Pyt...</td>\n",
       "      <td>42</td>\n",
       "      <td>Business Data Science Database</td>\n",
       "      <td>Ruben Kogel</td>\n",
       "      <td>Subscribe on Website, Apple Podcasts, Spotify,...</td>\n",
       "      <td>Kirill: This is episode number one with ex-che...</td>\n",
       "      <td>1</td>\n",
       "      <td>Sep 10, 2016</td>\n",
       "      <td>Saturday</td>\n",
       "      <td>Kirril Eremenko</td>\n",
       "      <td>Ruben</td>\n",
       "      <td>Yeah sure. So, I’m the senior manager of anal...</td>\n",
       "    </tr>\n",
       "    <tr>\n",
       "      <th>...</th>\n",
       "      <td>...</td>\n",
       "      <td>...</td>\n",
       "      <td>...</td>\n",
       "      <td>...</td>\n",
       "      <td>...</td>\n",
       "      <td>...</td>\n",
       "      <td>...</td>\n",
       "      <td>...</td>\n",
       "      <td>...</td>\n",
       "      <td>...</td>\n",
       "      <td>...</td>\n",
       "      <td>...</td>\n",
       "    </tr>\n",
       "    <tr>\n",
       "      <th>681</th>\n",
       "      <td>Contextual A.I. for Adapting to Adversaries, ...</td>\n",
       "      <td>81</td>\n",
       "      <td>Data Science Artificial Intelligence</td>\n",
       "      <td>Matar Haller</td>\n",
       "      <td>Subscribe on Website, Apple Podcasts, Spotify,...</td>\n",
       "      <td>Jon Krohn:\\t00:00:05\\tThis is episode number 6...</td>\n",
       "      <td>683</td>\n",
       "      <td>May 30, 2023</td>\n",
       "      <td>Tuesday</td>\n",
       "      <td>Jon Krohn</td>\n",
       "      <td>Jon Krohn</td>\n",
       "      <td>Yeah, right. Yeah, as I mean, it actually, it ...</td>\n",
       "    </tr>\n",
       "    <tr>\n",
       "      <th>681</th>\n",
       "      <td>Contextual A.I. for Adapting to Adversaries, ...</td>\n",
       "      <td>81</td>\n",
       "      <td>Data Science Artificial Intelligence</td>\n",
       "      <td>Matar Haller</td>\n",
       "      <td>Subscribe on Website, Apple Podcasts, Spotify,...</td>\n",
       "      <td>Jon Krohn:\\t00:00:05\\tThis is episode number 6...</td>\n",
       "      <td>683</td>\n",
       "      <td>May 30, 2023</td>\n",
       "      <td>Tuesday</td>\n",
       "      <td>Jon Krohn</td>\n",
       "      <td>Matar Haller</td>\n",
       "      <td>Happy to.</td>\n",
       "    </tr>\n",
       "    <tr>\n",
       "      <th>681</th>\n",
       "      <td>Contextual A.I. for Adapting to Adversaries, ...</td>\n",
       "      <td>81</td>\n",
       "      <td>Data Science Artificial Intelligence</td>\n",
       "      <td>Matar Haller</td>\n",
       "      <td>Subscribe on Website, Apple Podcasts, Spotify,...</td>\n",
       "      <td>Jon Krohn:\\t00:00:05\\tThis is episode number 6...</td>\n",
       "      <td>683</td>\n",
       "      <td>May 30, 2023</td>\n",
       "      <td>Tuesday</td>\n",
       "      <td>Jon Krohn</td>\n",
       "      <td>Jon Krohn</td>\n",
       "      <td>Nice. Well, yeah, so you mentioned potentially...</td>\n",
       "    </tr>\n",
       "    <tr>\n",
       "      <th>681</th>\n",
       "      <td>Contextual A.I. for Adapting to Adversaries, ...</td>\n",
       "      <td>81</td>\n",
       "      <td>Data Science Artificial Intelligence</td>\n",
       "      <td>Matar Haller</td>\n",
       "      <td>Subscribe on Website, Apple Podcasts, Spotify,...</td>\n",
       "      <td>Jon Krohn:\\t00:00:05\\tThis is episode number 6...</td>\n",
       "      <td>683</td>\n",
       "      <td>May 30, 2023</td>\n",
       "      <td>Tuesday</td>\n",
       "      <td>Jon Krohn</td>\n",
       "      <td>Matar Haller</td>\n",
       "      <td>Thank you for having me. This was fascinating ...</td>\n",
       "    </tr>\n",
       "    <tr>\n",
       "      <th>681</th>\n",
       "      <td>Contextual A.I. for Adapting to Adversaries, ...</td>\n",
       "      <td>81</td>\n",
       "      <td>Data Science Artificial Intelligence</td>\n",
       "      <td>Matar Haller</td>\n",
       "      <td>Subscribe on Website, Apple Podcasts, Spotify,...</td>\n",
       "      <td>Jon Krohn:\\t00:00:05\\tThis is episode number 6...</td>\n",
       "      <td>683</td>\n",
       "      <td>May 30, 2023</td>\n",
       "      <td>Tuesday</td>\n",
       "      <td>Jon Krohn</td>\n",
       "      <td>Jon Krohn</td>\n",
       "      <td>I loved this conversation today. I hope you di...</td>\n",
       "    </tr>\n",
       "  </tbody>\n",
       "</table>\n",
       "<p>46772 rows × 12 columns</p>\n",
       "</div>"
      ],
      "text/plain": [
       "                                          episode_name  length_episode  \\\n",
       "0     Ruben Kogel on Self-Serve Analytics, R vs Pyt...              42   \n",
       "0     Ruben Kogel on Self-Serve Analytics, R vs Pyt...              42   \n",
       "0     Ruben Kogel on Self-Serve Analytics, R vs Pyt...              42   \n",
       "0     Ruben Kogel on Self-Serve Analytics, R vs Pyt...              42   \n",
       "0     Ruben Kogel on Self-Serve Analytics, R vs Pyt...              42   \n",
       "..                                                 ...             ...   \n",
       "681   Contextual A.I. for Adapting to Adversaries, ...              81   \n",
       "681   Contextual A.I. for Adapting to Adversaries, ...              81   \n",
       "681   Contextual A.I. for Adapting to Adversaries, ...              81   \n",
       "681   Contextual A.I. for Adapting to Adversaries, ...              81   \n",
       "681   Contextual A.I. for Adapting to Adversaries, ...              81   \n",
       "\n",
       "                          context_episode      guest_name  \\\n",
       "0          Business Data Science Database    Ruben Kogel    \n",
       "0          Business Data Science Database    Ruben Kogel    \n",
       "0          Business Data Science Database    Ruben Kogel    \n",
       "0          Business Data Science Database    Ruben Kogel    \n",
       "0          Business Data Science Database    Ruben Kogel    \n",
       "..                                    ...             ...   \n",
       "681  Data Science Artificial Intelligence   Matar Haller    \n",
       "681  Data Science Artificial Intelligence   Matar Haller    \n",
       "681  Data Science Artificial Intelligence   Matar Haller    \n",
       "681  Data Science Artificial Intelligence   Matar Haller    \n",
       "681  Data Science Artificial Intelligence   Matar Haller    \n",
       "\n",
       "                                            guest_info  \\\n",
       "0    Subscribe on Website, Apple Podcasts, Spotify,...   \n",
       "0    Subscribe on Website, Apple Podcasts, Spotify,...   \n",
       "0    Subscribe on Website, Apple Podcasts, Spotify,...   \n",
       "0    Subscribe on Website, Apple Podcasts, Spotify,...   \n",
       "0    Subscribe on Website, Apple Podcasts, Spotify,...   \n",
       "..                                                 ...   \n",
       "681  Subscribe on Website, Apple Podcasts, Spotify,...   \n",
       "681  Subscribe on Website, Apple Podcasts, Spotify,...   \n",
       "681  Subscribe on Website, Apple Podcasts, Spotify,...   \n",
       "681  Subscribe on Website, Apple Podcasts, Spotify,...   \n",
       "681  Subscribe on Website, Apple Podcasts, Spotify,...   \n",
       "\n",
       "                                          text_episode  episode_number  \\\n",
       "0    Kirill: This is episode number one with ex-che...               1   \n",
       "0    Kirill: This is episode number one with ex-che...               1   \n",
       "0    Kirill: This is episode number one with ex-che...               1   \n",
       "0    Kirill: This is episode number one with ex-che...               1   \n",
       "0    Kirill: This is episode number one with ex-che...               1   \n",
       "..                                                 ...             ...   \n",
       "681  Jon Krohn:\\t00:00:05\\tThis is episode number 6...             683   \n",
       "681  Jon Krohn:\\t00:00:05\\tThis is episode number 6...             683   \n",
       "681  Jon Krohn:\\t00:00:05\\tThis is episode number 6...             683   \n",
       "681  Jon Krohn:\\t00:00:05\\tThis is episode number 6...             683   \n",
       "681  Jon Krohn:\\t00:00:05\\tThis is episode number 6...             683   \n",
       "\n",
       "     episode_date episode_day     host_episode       speaker  \\\n",
       "0    Sep 10, 2016    Saturday  Kirril Eremenko        Kirill   \n",
       "0    Sep 10, 2016    Saturday  Kirril Eremenko        Kirill   \n",
       "0    Sep 10, 2016    Saturday  Kirril Eremenko         Ruben   \n",
       "0    Sep 10, 2016    Saturday  Kirril Eremenko        Kirill   \n",
       "0    Sep 10, 2016    Saturday  Kirril Eremenko         Ruben   \n",
       "..            ...         ...              ...           ...   \n",
       "681  May 30, 2023     Tuesday        Jon Krohn     Jon Krohn   \n",
       "681  May 30, 2023     Tuesday        Jon Krohn  Matar Haller   \n",
       "681  May 30, 2023     Tuesday        Jon Krohn     Jon Krohn   \n",
       "681  May 30, 2023     Tuesday        Jon Krohn  Matar Haller   \n",
       "681  May 30, 2023     Tuesday        Jon Krohn     Jon Krohn   \n",
       "\n",
       "                                    episode_split_text  \n",
       "0     This is episode number one with ex-chemical e...  \n",
       "0     Hey guys, welcome to the Podcast. I’ve got Ru...  \n",
       "0     Thank you! Thanks for having me over. I’m doi...  \n",
       "0     Awesome. It’s great to hear you and for those...  \n",
       "0     Yeah sure. So, I’m the senior manager of anal...  \n",
       "..                                                 ...  \n",
       "681  Yeah, right. Yeah, as I mean, it actually, it ...  \n",
       "681                                          Happy to.  \n",
       "681  Nice. Well, yeah, so you mentioned potentially...  \n",
       "681  Thank you for having me. This was fascinating ...  \n",
       "681  I loved this conversation today. I hope you di...  \n",
       "\n",
       "[46772 rows x 12 columns]"
      ]
     },
     "execution_count": 83,
     "metadata": {},
     "output_type": "execute_result"
    }
   ],
   "source": [
    "sds_text"
   ]
  },
  {
   "cell_type": "code",
   "execution_count": 86,
   "id": "e38b532b",
   "metadata": {},
   "outputs": [],
   "source": [
    "sds_text.to_csv('../data/sds_text.csv')"
   ]
  },
  {
   "cell_type": "code",
   "execution_count": null,
   "id": "9ac59d04",
   "metadata": {},
   "outputs": [],
   "source": [
    "sds['episode_text_episode']"
   ]
  },
  {
   "cell_type": "code",
   "execution_count": null,
   "id": "0a770d4a",
   "metadata": {},
   "outputs": [],
   "source": [
    "#split_text.to_frame().rename()"
   ]
  },
  {
   "cell_type": "code",
   "execution_count": null,
   "id": "5223ff2e",
   "metadata": {},
   "outputs": [],
   "source": [
    "#sds['text_episode'].str.split('(?:^|\\\\xa0|(?:\\\\n)+)[A-Za-z\\s]+:', expand = True).stack()#.droplevel(-1)"
   ]
  },
  {
   "cell_type": "code",
   "execution_count": null,
   "id": "67f989fa",
   "metadata": {},
   "outputs": [],
   "source": [
    "#sds['text_episode'].str.split('(?:^|\\\\xa0|\\\\n)[A-Za-z\\s]+:', expand = True).stack().loc[677]"
   ]
  },
  {
   "cell_type": "code",
   "execution_count": null,
   "id": "cf3613b0",
   "metadata": {},
   "outputs": [],
   "source": [
    "#sds_index = sds['text_episode'].str.findall('(?:^|\\\\xa0|(?:\\\\n)+)([A-Za-z\\s]+:)').explode().to_frame()#.shape#.stack().loc[0]"
   ]
  },
  {
   "cell_type": "code",
   "execution_count": null,
   "id": "b665f44b",
   "metadata": {},
   "outputs": [],
   "source": [
    "# Extracting the speakers from the text and creating index\n",
    "\n",
    "#sds_index = sds['text_episode'].str.findall('(?:^|\\\\xa0|(?:\\\\n)+)([A-Za-z\\s]+:)').explode().to_frame()\n",
    "#sds_index['episode_index'] = 1 \n",
    "#sds_index['episode_index'] = sds_index.groupby(sds_index.index)['episode_index'].cumsum()\n",
    "#sds_index = sds_index.reset_index().set_index(['index','episode_index']).rename(columns = {'text_episode':'speaker'})\n",
    "#sds_index"
   ]
  },
  {
   "cell_type": "code",
   "execution_count": null,
   "id": "e750b816",
   "metadata": {},
   "outputs": [],
   "source": [
    "#sds_index['episode_index'] = sds_index.groupby(sds_index.index)['episode_index'].cumsum()"
   ]
  },
  {
   "cell_type": "code",
   "execution_count": null,
   "id": "d9935418",
   "metadata": {},
   "outputs": [],
   "source": [
    "#sds_index"
   ]
  },
  {
   "cell_type": "code",
   "execution_count": null,
   "id": "4d1baf55",
   "metadata": {},
   "outputs": [],
   "source": [
    "#sds_index = sds_index.reset_index().set_index(['index','episode_index']).rename(columns = {'text_episode':'speaker'})"
   ]
  },
  {
   "cell_type": "code",
   "execution_count": null,
   "id": "0d594bc0",
   "metadata": {},
   "outputs": [],
   "source": [
    "#sds_index"
   ]
  },
  {
   "cell_type": "code",
   "execution_count": null,
   "id": "11aa5ec4",
   "metadata": {},
   "outputs": [],
   "source": [
    "#len(set(sds['text_episode'].str.findall('(^|\\\\xa0|\\\\n)[A-Za-z\\s]+:').explode().index)) #.stack().droplevel(-1)"
   ]
  },
  {
   "cell_type": "code",
   "execution_count": null,
   "id": "606bf67e",
   "metadata": {},
   "outputs": [],
   "source": [
    "#sds['text_episode'].str.findall('(^|\\\\xa0|\\\\n)[A-Za-z\\s]+:').explode()"
   ]
  },
  {
   "cell_type": "code",
   "execution_count": null,
   "id": "371bca36",
   "metadata": {},
   "outputs": [],
   "source": [
    "#sds_guest = sds[~((sds['guest_name'] == ' Kirill Eremenko ') | (sds['guest_name'] == ' Jon Krohn '))].copy().reset_index(drop = True)"
   ]
  },
  {
   "cell_type": "code",
   "execution_count": null,
   "id": "be72647c",
   "metadata": {},
   "outputs": [],
   "source": [
    "#sds_host = sds[(sds['guest_name'] == ' Kirill Eremenko ') | (sds['guest_name'] == ' Jon Krohn ')].reset_index(drop = True)"
   ]
  },
  {
   "cell_type": "code",
   "execution_count": null,
   "id": "758d5bde",
   "metadata": {},
   "outputs": [],
   "source": []
  },
  {
   "cell_type": "code",
   "execution_count": null,
   "id": "e656f682",
   "metadata": {},
   "outputs": [],
   "source": [
    "sds_host['context_episode'].unique()"
   ]
  },
  {
   "cell_type": "code",
   "execution_count": null,
   "id": "9d639c6d",
   "metadata": {},
   "outputs": [],
   "source": [
    "sds_host[sds_host['context_episode'] == 'Data Science']"
   ]
  },
  {
   "cell_type": "code",
   "execution_count": null,
   "id": "00316fcd",
   "metadata": {},
   "outputs": [],
   "source": [
    "sds_guest['context_episode'].unique()"
   ]
  },
  {
   "cell_type": "code",
   "execution_count": null,
   "id": "b19945d8",
   "metadata": {},
   "outputs": [],
   "source": [
    "sds['context_episode'].value_counts()"
   ]
  },
  {
   "cell_type": "code",
   "execution_count": null,
   "id": "9230520b",
   "metadata": {},
   "outputs": [],
   "source": []
  },
  {
   "cell_type": "code",
   "execution_count": null,
   "id": "141975b4",
   "metadata": {
    "scrolled": false
   },
   "outputs": [],
   "source": [
    "sds_guest['text_episode'].loc[7]"
   ]
  },
  {
   "cell_type": "code",
   "execution_count": null,
   "id": "ab700cc5",
   "metadata": {},
   "outputs": [],
   "source": [
    "sds['text_episode'] = sds['text_episode'].astype(str)"
   ]
  },
  {
   "cell_type": "code",
   "execution_count": null,
   "id": "3690dd78",
   "metadata": {},
   "outputs": [],
   "source": [
    "sds['text_episode'].apply(lambda x: pd.Series(x.split('[A-Z][a-z]+:')))"
   ]
  },
  {
   "cell_type": "code",
   "execution_count": null,
   "id": "52ca0d58",
   "metadata": {},
   "outputs": [],
   "source": [
    "sds['text_episode'].str.split('[A-Z][a-z]+:', expand = True).stack()"
   ]
  },
  {
   "cell_type": "code",
   "execution_count": null,
   "id": "a33449e6",
   "metadata": {},
   "outputs": [],
   "source": [
    "sds_split"
   ]
  },
  {
   "cell_type": "code",
   "execution_count": null,
   "id": "19aa3429",
   "metadata": {},
   "outputs": [],
   "source": [
    "sds_split[sds_split['guest_name'] == ' Jon Krohn ']"
   ]
  },
  {
   "cell_type": "code",
   "execution_count": null,
   "id": "a087668c",
   "metadata": {},
   "outputs": [],
   "source": [
    "sds_split.info()"
   ]
  },
  {
   "cell_type": "code",
   "execution_count": null,
   "id": "f86a6e91",
   "metadata": {},
   "outputs": [],
   "source": [
    "#sds = sds.merge(sds_split.to_frame(),left_index=True, right_index=True)\n"
   ]
  },
  {
   "cell_type": "code",
   "execution_count": null,
   "id": "308c244b",
   "metadata": {},
   "outputs": [],
   "source": [
    "sds.head(30)"
   ]
  },
  {
   "cell_type": "code",
   "execution_count": null,
   "id": "5564d66f",
   "metadata": {},
   "outputs": [],
   "source": [
    "sds_guest.to_csv('../data/sds_guest.csv', index = False)"
   ]
  },
  {
   "cell_type": "code",
   "execution_count": null,
   "id": "2e1ead9e",
   "metadata": {},
   "outputs": [],
   "source": [
    "sds[sds['context_episode'] == 'Data Science']"
   ]
  },
  {
   "cell_type": "code",
   "execution_count": null,
   "id": "85b4f7e0",
   "metadata": {},
   "outputs": [],
   "source": [
    "sds['episode_name'].unique()"
   ]
  },
  {
   "cell_type": "code",
   "execution_count": null,
   "id": "a1e37edb",
   "metadata": {},
   "outputs": [],
   "source": [
    "sds['text_episode'].loc[13]"
   ]
  },
  {
   "cell_type": "code",
   "execution_count": null,
   "id": "0fc68516",
   "metadata": {},
   "outputs": [],
   "source": [
    "#text = BeautifulSoup(text, 'lxml').get_text(separator=' ', strip=True)\n",
    "\n",
    "#text = re.findall(r'[a-z]+', text.lower())"
   ]
  },
  {
   "cell_type": "code",
   "execution_count": null,
   "id": "37950fa3",
   "metadata": {},
   "outputs": [],
   "source": [
    "sds['guest_info'].loc[1]"
   ]
  },
  {
   "cell_type": "code",
   "execution_count": null,
   "id": "eec256e6",
   "metadata": {},
   "outputs": [],
   "source": []
  }
 ],
 "metadata": {
  "kernelspec": {
   "display_name": "Python 3 (ipykernel)",
   "language": "python",
   "name": "python3"
  },
  "language_info": {
   "codemirror_mode": {
    "name": "ipython",
    "version": 3
   },
   "file_extension": ".py",
   "mimetype": "text/x-python",
   "name": "python",
   "nbconvert_exporter": "python",
   "pygments_lexer": "ipython3",
   "version": "3.9.12"
  }
 },
 "nbformat": 4,
 "nbformat_minor": 5
}
