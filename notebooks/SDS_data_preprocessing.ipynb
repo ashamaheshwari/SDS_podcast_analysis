{
 "cells": [
  {
   "cell_type": "code",
   "execution_count": 1,
   "id": "8056cad5",
   "metadata": {},
   "outputs": [],
   "source": [
    "import pandas as pd\n",
    "import re\n",
    "import matplotlib.pyplot as plt\n",
    "import seaborn as sns\n",
    "import plotly.express as px"
   ]
  },
  {
   "cell_type": "code",
   "execution_count": 2,
   "id": "5eb1ef0c",
   "metadata": {},
   "outputs": [],
   "source": [
    "sds = pd.read_csv('../data/SDS_1_678.csv')"
   ]
  },
  {
   "cell_type": "code",
   "execution_count": 3,
   "id": "890ac8c4",
   "metadata": {},
   "outputs": [
    {
     "name": "stdout",
     "output_type": "stream",
     "text": [
      "<class 'pandas.core.frame.DataFrame'>\n",
      "RangeIndex: 678 entries, 0 to 677\n",
      "Data columns (total 6 columns):\n",
      " #   Column           Non-Null Count  Dtype \n",
      "---  ------           --------------  ----- \n",
      " 0   episode_name     678 non-null    object\n",
      " 1   length_episode   678 non-null    object\n",
      " 2   context_episode  678 non-null    object\n",
      " 3   guest_name       678 non-null    object\n",
      " 4   guest_info       678 non-null    object\n",
      " 5   text_episode     676 non-null    object\n",
      "dtypes: object(6)\n",
      "memory usage: 31.9+ KB\n"
     ]
    }
   ],
   "source": [
    "sds.info()"
   ]
  },
  {
   "cell_type": "code",
   "execution_count": 4,
   "id": "28de401d",
   "metadata": {},
   "outputs": [],
   "source": [
    "sds['episode_number'] = sds['episode_name'].str.split(':', expand = True)[0]\n",
    "sds['episode_name'] = sds['episode_name'].str.split(':', expand = True)[1]\n",
    "sds['guest_name'] = sds['guest_name'].str.split(':', expand = True)[1]\n",
    "sds['length_episode'] = sds['length_episode'].str.split(' ', expand = True)[0]\n",
    "sds['episode_number'] = sds['episode_number'].str.replace('SDS', '')"
   ]
  },
  {
   "cell_type": "code",
   "execution_count": 5,
   "id": "6d921d0b",
   "metadata": {},
   "outputs": [],
   "source": [
    "# changing the data types for episode_number and length_episode\n",
    "sds['episode_number'] = sds['episode_number'].astype('int')\n",
    "sds['length_episode'] = sds['length_episode'].astype('int')"
   ]
  },
  {
   "cell_type": "code",
   "execution_count": 6,
   "id": "da2507a3",
   "metadata": {},
   "outputs": [
    {
     "name": "stdout",
     "output_type": "stream",
     "text": [
      "<class 'pandas.core.frame.DataFrame'>\n",
      "RangeIndex: 678 entries, 0 to 677\n",
      "Data columns (total 7 columns):\n",
      " #   Column           Non-Null Count  Dtype \n",
      "---  ------           --------------  ----- \n",
      " 0   episode_name     678 non-null    object\n",
      " 1   length_episode   678 non-null    int64 \n",
      " 2   context_episode  678 non-null    object\n",
      " 3   guest_name       678 non-null    object\n",
      " 4   guest_info       678 non-null    object\n",
      " 5   text_episode     676 non-null    object\n",
      " 6   episode_number   678 non-null    int64 \n",
      "dtypes: int64(2), object(5)\n",
      "memory usage: 37.2+ KB\n"
     ]
    }
   ],
   "source": [
    "sds.info()"
   ]
  },
  {
   "cell_type": "code",
   "execution_count": 7,
   "id": "256692e8",
   "metadata": {},
   "outputs": [
    {
     "name": "stderr",
     "output_type": "stream",
     "text": [
      "/var/folders/s3/9_r9v9px7_v0q69b5zcbnmsm0000gn/T/ipykernel_2288/3544791578.py:5: FutureWarning: The default value of regex will change from True to False in a future version.\n",
      "  sds['guest_name'] = sds['guest_name'].str.replace(r'(\\b[A-Za-z]{3}\\s\\d{2},\\s\\d{4}\\b)', '')\n"
     ]
    }
   ],
   "source": [
    "# Extracting date from guest_name column and making a new column episode_date\n",
    "sds['episode_date'] = sds['guest_name'].str.extract(r'(\\b[A-Za-z]{3}\\s\\d{2},\\s\\d{4}\\b)', expand = False).str.strip()\n",
    "\n",
    "# Replacing/removing date in guest_name column \n",
    "sds['guest_name'] = sds['guest_name'].str.replace(r'(\\b[A-Za-z]{3}\\s\\d{2},\\s\\d{4}\\b)', '')"
   ]
  },
  {
   "cell_type": "code",
   "execution_count": 8,
   "id": "442c292a",
   "metadata": {},
   "outputs": [
    {
     "data": {
      "text/plain": [
       "False    678\n",
       "Name: episode_date, dtype: int64"
      ]
     },
     "execution_count": 8,
     "metadata": {},
     "output_type": "execute_result"
    }
   ],
   "source": [
    "sds['episode_date'].isna().value_counts()"
   ]
  },
  {
   "cell_type": "code",
   "execution_count": 9,
   "id": "e94a1d91",
   "metadata": {},
   "outputs": [],
   "source": [
    "\n",
    "#sds[\"episode_guest\"] = sds['guest_name'].str.extract(r'(\\b[A-Z][a-z]+\\s[A-Z][a-z]+)', expand = False).str.strip()\n"
   ]
  },
  {
   "cell_type": "code",
   "execution_count": 10,
   "id": "23528c1a",
   "metadata": {},
   "outputs": [
    {
     "name": "stderr",
     "output_type": "stream",
     "text": [
      "/var/folders/s3/9_r9v9px7_v0q69b5zcbnmsm0000gn/T/ipykernel_2288/1816012116.py:5: FutureWarning: The default value of regex will change from True to False in a future version.\n",
      "  sds['guest_name'] = sds['guest_name'].str.replace('Monday|Tuesday|Wednesday|Thursday|Friday|Saturday|Sunday', '')\n"
     ]
    }
   ],
   "source": [
    "# Extracting day from guest_name column and making a new column episode_day\n",
    "sds['episode_day'] = sds['guest_name'].str.extract(r'(Monday|Tuesday|Wednesday|Thursday|Friday|Saturday|Sunday)', expand = False).str.strip()\n",
    "\n",
    "#Replacing/removing day in guest_name column \n",
    "sds['guest_name'] = sds['guest_name'].str.replace('Monday|Tuesday|Wednesday|Thursday|Friday|Saturday|Sunday', '')"
   ]
  },
  {
   "cell_type": "code",
   "execution_count": 11,
   "id": "c75c13a9",
   "metadata": {},
   "outputs": [
    {
     "data": {
      "text/plain": [
       "array([' Tony Saldanha ', ' Daniel Whitenack ', ' Jim Hadley ',\n",
       "       ' Ben Taylor ', ' Kirill Eremenko ', ' Brian Dowe ', ' Jon Krohn ',\n",
       "       ' Aaron Bare ', ' Kirill and Hadelin ', ' Caroline McColl ',\n",
       "       ' Matt Corey ', ' Matthew Rosenquist ', ' Khuyen Tran ',\n",
       "       ' Stratos Hadjioannou ', ' Jaclyn Rice Nelson ',\n",
       "       ' Risto Miikkulainen ', ' Steve Fazzari ', ' Christopher Bishop ',\n",
       "       ' Mark Meloon ', ' Muhsin Karim ', ' Hilary Mason ',\n",
       "       ' John Johnson ', ' Artem Vladimirov ', ' Erik Bernhardsson ',\n",
       "       ' Jon Skeet ', ' Andy Kriebel ', ' Rama Akkiraju ',\n",
       "       ' Arthur Shectman ', ' Richard Hopkins ', ' Marc Sarfati ',\n",
       "       ' Orly Lobel ', ' Kirill and Mitja ', ' Kristen Sosulski ',\n",
       "       '  Ilya Eremenko ', ' James Hodson ', ' Luke Barousse ',\n",
       "       ' Ayodele Odubela ', ' Laurence Moroney ', ' Jeremie Harris ',\n",
       "       ' John Peach ', ' Edis Gonuler ', ' Kimberly Grauer ',\n",
       "       ' Rongyao Huang ', ' Sean Casey ', ' Emily Robinson ',\n",
       "       ' Eric Weber ', ' Mariya Sha ', ' Aziz Mamatov ',\n",
       "       ' Anima Anandkumar ', ' Dr Alex Antic ', ' Pieter Abbeel ',\n",
       "       ' Kirill, Hadelin and Marc ', ' Kirill and Marc ', ' Frank Kane ',\n",
       "       ' Doris Xin ', ' Gary Saarenvirta ', ' Noah Gift ',\n",
       "       ' Michael Segala ', ' Isaac Reyes ', ' Christina Maslach ',\n",
       "       ' Kenneth Stanley ', ' Vitaly Dolgov ', ' Emmanuel Letouzé ',\n",
       "       ' Ajay Singh ', ' Kevin Getch ', ' Lauren Zhu ', ' Neelabh Pant ',\n",
       "       ' DJ Patil ', ' Amy Brand ', ' Sarah Catanzaro ',\n",
       "       ' George Mathew ', ' Kirill, Vitaly and Hadelin ',\n",
       "       ' Sadie St. Lawrence ', ' Urie Suhr ', ' Melanie Mitchell ',\n",
       "       ' Kirill Eremenko and Hadelin de Ponteves ', ' Philip Gradwell ',\n",
       "       ' William McKnight ', ' Nic Ryan ', ' Jessica Merlet ',\n",
       "       ' Nicole Büttner ', ' Noam Brown ', ' Nick Pape ',\n",
       "       ' Syafri Bahar ', ' Magnus Ekman ', ' Dominic Ligot ',\n",
       "       ' Erica Greene ', ' Sinan Ozdemir ', ' Eugene Dubossarsky ',\n",
       "       ' Andrew Borisov ', ' Josh Muncke ', ' Emanuele Carbone ',\n",
       "       ' Zhamak Dehghani ', ' Husayn Kassai ', ' Kirill and Anthony ',\n",
       "       ' Leigh and Daniel Pullen ', ' Avinash Kaushik ', ' Myra Strober ',\n",
       "       ' Mary Loubele ', ' Ken Jee ', ' Adrian Rosebrock ',\n",
       "       ' Konrad Kopczynski ', ' Jes Allen ', ' Tina Huang ',\n",
       "       ' Balaraman Ravindran ', ' Mike Wimmer ', ' Jared Lander ',\n",
       "       ' Miles Brundage ', ' Mark Freeman ', ' Zack Weinberg ',\n",
       "       ' Juan Gabriel Gomila Salas ', ' Ulf Morys ', ' Xinran Liu ',\n",
       "       ' Randal Scott King ', ' Dan Shiebler ', ' Serg Masís ',\n",
       "       ' Hadelin de Ponteves ', ' Clem Delangue ', ' Andrei Lyskov ',\n",
       "       \" Brian T. O'Neill \", ' Parinaz Sobhani ', ' Samuel Hinton ',\n",
       "       ' Ot Ratsaphong ', ' Tim Lafferty ', ' Jennifer Cooper ',\n",
       "       ' Raul Popa ', ' Deborah Berebichez ', ' Paul Brown ',\n",
       "       ' Kian Katanforoosh ', ' Matt Dancho ', ' Tracy Crossley ',\n",
       "       ' Tom Davenport ', ' Melanie Subbiah ', ' Morgan Mendis ',\n",
       "       ' Monica Kay Royal ', ' Shashank Kalanithi ',\n",
       "       ' Karen Jean-Francois ', ' Tarry Singh ', ' Stephen Welch ',\n",
       "       ' Daniel Obodovski ', ' Wes McKinney ', ' Carlos Aguilar ',\n",
       "       ' Asieh Ahani ', ' Mars Buttfield-Addison ', ' Ann K. Emery ',\n",
       "       ' Dawn Song ', ' Vincent D. Warmerdam ', ' Deblina Bhattacharjee ',\n",
       "       ' Bradley Voytek ', ' Jonathan Mucha and Ogo Ezeofor ',\n",
       "       ' John Elder ', ' Erin LeDell ', ' Kirk Borne ', ' Carl Massy ',\n",
       "       ' Harpreet Sahota ', ' Carly Taylor ', ' T. Scott Clendaniel ',\n",
       "       ' Garth Zoller ', ' Ivor Lok ', ' Manasi Vartak ',\n",
       "       ' Dmitry Korneev ', ' Virginia Mendonca ', ' Kate Strachnyi ',\n",
       "       ' Matt Harrison ', ' Colin Sloss ', ' Francesco Corea ',\n",
       "       ' Sam Flegal ', ' Ruben Kogel ', ' Javier Luraschi ',\n",
       "       ' Jason Widjaja ', ' Chris Dutton ', ' Andrew Jones ',\n",
       "       ' Vin Vashishta ', ' Charlotte Deane ', ' Gabriela de Queiroz ',\n",
       "       ' Dominic Roe ', ' Marco Caviezel ', ' Jose Quesada ',\n",
       "       ' Piatetsky-Shapiro ', ' Andreas Mueller ', ' Emre Kiciman ',\n",
       "       ' Dr. Andreas Hopfgartner ', ' Megan Putney ',\n",
       "       ' Cole Nussbaumer Knaflic ', ' Jodie Burchell ', ' Luis Blanco ',\n",
       "       ' Brandon Rohrer ', ' Ayobami Ayodeji ', ' Harshal Sanap ',\n",
       "       ' Andy Kriebel and Eva Murray ', ' Kerri Twigg ',\n",
       "       ' Jaco Van Der Berg ', ' Thomas Wiecki ', ' Michael Galarnyk ',\n",
       "       ' Michael Colella ', ' Vitaly and Kirill ', ' Drew Conway ',\n",
       "       ' Rio Branham ', ' Vince Petaccio II ', ' Mike Taveirne ',\n",
       "       ' Alexander Holden Miller  ', ' Hadley Wickham ', ' Emma Whyte ',\n",
       "       ' Andreas Kretz ', ' Eva Murray ', ' Josh Starmer ',\n",
       "       ' Anthony Metivier ', ' Jonathan Flint ', ' Kate Strachny ',\n",
       "       ' Ryan Compton ', ' Nisha Iyer ', ' Adrian Kosowski ',\n",
       "       ' Thomas Obrist ', ' Rob Trangucci ', ' Nicholas Cepeda ',\n",
       "       ' Philip Bourne ', ' Kirill and Paulo ', ' Lillian Pierson ',\n",
       "       ' Josh Coulson ', ' Lucy D’Agostino McGowan ', ' Eoin Murray ',\n",
       "       ' Richard Downes ', ' John David Ariansen ', ' Jeroen Janssens ',\n",
       "       ' Veerle van Leemput ', ' Nick Singh ', ' Keith McCormick ',\n",
       "       ' Peter Bailis ', ' Claudia Perlich ', ' Sasha Prokhorova ',\n",
       "       ' David Niemi ', ' Wesley Engers ', ' Amanda Obidike ',\n",
       "       ' Greg Coquillo ', ' Sarah Nooravi ', ' Guillermo Cecchi ',\n",
       "       ' Steve Nouri ', ' Brett Tully ', ' Tom Brown ', ' Kimberly Deas ',\n",
       "       ' Theunis Barnard ',\n",
       "       ' Urie Suhr, Ben Taylor and  Hadelin De Ponteves ',\n",
       "       ' Josh Kennedy ',\n",
       "       ' Mark Skinner, Rachel Wang, Ben Taylor & Pablos Holman ',\n",
       "       ' Ingólfur Ingólfsson ', ' Wardah Inam ', ' Experfy ',\n",
       "       ' Damian Mingle ', ' Ashwin Chirag ', ' Benjamin Todd ',\n",
       "       ' Joe Reis and Matt Housley ', ' Brad Klingenberg ',\n",
       "       ' Jean-Pierre Labuschagne ', ' Nate Fox ', ' Deepak Prasad ',\n",
       "       ' Stefanie Molin ', ' Gabor Solymosi ', ' Denis Rothman ',\n",
       "       ' Jorge Zuloaga and Lindsey Zuloaga ', ' Beau Walker ',\n",
       "       ' Kristen Kehrer ', ' Zachary Loertscher ', ' Khai Minh Pham ',\n",
       "       ' Brendan Hogan ', ' Juval Löwy ', ' Derek Schoettle ',\n",
       "       ' Xiao-Li Meng ', ' Shayan Mohanty ', ' Konrad Körding ',\n",
       "       ' Jennifer Hill ', ' Yaw Tan ', ' Jeff Wald ', ' Sean Taylor ',\n",
       "       ' Nathan Stephens ', ' John Langford ', ' Chrys Wu ',\n",
       "       ' Jen Underwood ', ' Christina Stathopoulos ', ' Barr Moses ',\n",
       "       ' Josey Parks ', ' Wah Loon Keng ', ' Randy Lao ',\n",
       "       ' David Langer ', ' Susan Walsh ', ' Horace Wu ',\n",
       "       ' Vincent Gosselin ', ' Greg Pavlik ', ' SuperDataScience Team ',\n",
       "       ' Dave Niewinski ', ' Carlos Hervás García ', ' Rachel Phang ',\n",
       "       ' Jose Portilla ', ' Mikiko Bazeley ', ' Maureen Teyssier ',\n",
       "       ' Pablos Holman ', ' Chip Huyen ', ' Rico Meinl ', ' Greg Poppe ',\n",
       "       ' Margot Gerritsen ', ' Kevin Perko ', ' Justin Fortier ',\n",
       "       ' Favio Vazquez ', ' Anna Foard ', ' Tristen Tyler Blake ',\n",
       "       ' Adam Weinstein ', ' Tim Kraska ', ' Douglas Eisenstein ',\n",
       "       ' Anjali Srivastava ', ' Matthew Russell ', ' Dr. Wilson Pok ',\n",
       "       ' Adrian Clarke ', ' Josh Hortaleza ', ' Erika Dorland ',\n",
       "       ' Sidney Arcidiacono ', ' Kevin Hu ', ' Nadieh Bremer ',\n",
       "       ' David Venturi ', ' Ross Dawson ', ' Roman Yampolskiy ',\n",
       "       ' Kris Tait ', ' David Tanaskovic ', ' Josh Wills ',\n",
       "       ' Mollie Pettit ', ' Tuatini Godard ', ' Eu Jin Lok ',\n",
       "       ' Austin Ogilvie ', ' Peyman Hesami ', ' Michelle Keim ',\n",
       "       ' Alberto Cairo ', ' Piyanka Jain '], dtype=object)"
      ]
     },
     "execution_count": 11,
     "metadata": {},
     "output_type": "execute_result"
    }
   ],
   "source": [
    "sds['guest_name'].unique()"
   ]
  },
  {
   "cell_type": "code",
   "execution_count": 12,
   "id": "82407a2d",
   "metadata": {},
   "outputs": [
    {
     "name": "stderr",
     "output_type": "stream",
     "text": [
      "/var/folders/s3/9_r9v9px7_v0q69b5zcbnmsm0000gn/T/ipykernel_2288/824675729.py:1: FutureWarning: The default value of regex will change from True to False in a future version.\n",
      "  sds['context_episode'] = sds['context_episode'].str.replace('([a-z])([A-Z])', r'\\1 \\2')\n"
     ]
    }
   ],
   "source": [
    "sds['context_episode'] = sds['context_episode'].str.replace('([a-z])([A-Z])', r'\\1 \\2')"
   ]
  },
  {
   "cell_type": "code",
   "execution_count": 13,
   "id": "da26b99a",
   "metadata": {},
   "outputs": [
    {
     "data": {
      "text/plain": [
       " Kirill Eremenko         190\n",
       " Jon Krohn               105\n",
       " Kirill and Hadelin        9\n",
       " Ben Taylor                8\n",
       " Hadelin de Ponteves       6\n",
       "                        ... \n",
       " Clem Delangue             1\n",
       " Randal Scott King         1\n",
       " Xinran Liu                1\n",
       " Ulf Morys                 1\n",
       " Piyanka Jain              1\n",
       "Name: guest_name, Length: 330, dtype: int64"
      ]
     },
     "execution_count": 13,
     "metadata": {},
     "output_type": "execute_result"
    }
   ],
   "source": [
    "sds['guest_name'].value_counts()"
   ]
  },
  {
   "cell_type": "code",
   "execution_count": 14,
   "id": "f9243b43",
   "metadata": {},
   "outputs": [],
   "source": [
    "sds = sds.sort_values('episode_number').reset_index(drop = True)"
   ]
  },
  {
   "cell_type": "code",
   "execution_count": 15,
   "id": "69868436",
   "metadata": {},
   "outputs": [
    {
     "data": {
      "text/plain": [
       "'(00:00:00):\\nThis is episode 431, What I learned in 2002.\\xa0(00:00:13):\\nWelcome to the SuperDataScience podcast. My name is Kirill Eremenko, Data Science Coach and Lifestyle Entrepreneur. And each week we bring you inspiring people and ideas to help you build your successful career in data science. Thanks for being here today, and now let\\'s make the complex simple.\\xa0(00:00:41):\\nWelcome back to the SuperDataScience podcast, everybody. Super excited to have you back here on the show. This is the final episode of 2020. Happy festive season, and I wish you an amazing 2021, so that a lot of fantastic things happen for you. And today is also, interestingly enough, the final episode that I am recording for this podcast. Why is that? Well, if you\\'ve been following along with the podcast, you will know that from 2021, Jon Krohn is taking over as the host of the show. I know this might come as a undesired change to some of our listeners. You might be not very prepared or excited about this. On the other hand, maybe you are very excited and thinking, \"Finally, Kirill\\'s going to stop talking and give somebody else a chance.\"\\xa0(00:01:41):\\nIn either case, thank you so much for being here, and I can promise you that Jon is an amazing data scientist. He is an experienced, much more experienced than me, data scientist, and he\\'s going to do a fantastic job. He\\'s also passionate about helping people, passionate about connecting with people, and bringing new conversations to the SuperDataScience podcast, so give him a chance. I\\'m sure you will not regret it. And we\\'ve got some very exciting guests lined up for you at the start of the year already.\\xa0\\xa0(00:02:17):\\nWhat is today\\'s episode about? Well, for the past four years, so this is the fourth time now, I\\'ve been recording an episode at the very end of the year. Today is, just for your information, 25th December when I am recording this episode. So at the very end of the year, I record an episode with the learnings of the year for me. What is it that I learned? And mostly I record this for myself to kind of recap, \"What are the most important things I learned?\" Because throughout the year, you\\'ll see that I share these FiveMinuteFriday episodes which are predominantly about psychology or spirituality, things that I learned about myself, about how to be a better human, how to have more empathy, or better connect with other people, and things like that, how to have less conflict, and lots of things like that.\\xa0(00:03:09):\\nAnd there\\'s quite a few of them, you\\'ll see them throughout the year, but then once a year comes to an end, often when you have so many things, it\\'s kind of like choice paralysis, but kind of memory paralysis. It\\'s hard to remember everything, and even more so, apply everything.\\xa0(00:03:25):\\nSo I want to pick out the top seven and record them in this episode, so first of all, they\\'ll be more fresh in my mind going into the next year. Also so that whenever I feel the need can come back and revisit this episode and understand, \"Oh, okay. What did I learn in 2020, and what can I now apply in my life?\" And also, of course, I want to share these things in case you\\'re interested. This is all this episode is about. There\\'s not going to be any data science, so if you\\'re not interested in this, then this is probably not the episode for you. But in case you are interested, maybe to recap, revisit some of the things that you may have heard previously in a FiveMinuteFriday episode, most of the things will be that we already shared in a FiveMinuteFriday episode. One of them won\\'t, and that was not intentional. I just was so surprised that that learning will be the sixth learning that I actually hadn\\'t shared in a FiveMinuteFriday episode.\\xa0(00:04:23):\\nBut anyway, so you might want to recap on some of those things, or maybe if you hadn\\'t, you missed out on some FiveMinuteFriday episode, you\\'re just starting with the podcast, maybe some of these things will be helpful for you in your life too. So that\\'s what this episode is about, and without further ado, let\\'s get started.\\xa0(00:04:41):\\nOkay, so top seven learnings. I\\'ve put them in an order, unlike when you look at movie reviews, or top 10 things to do in your relationship or something, or that are ordered in reverse order so you have to read through all of them to get to the last one that\\'s the most important one. I actually put them in the other order, in the opposite order, so the most important ones come first, and for me, how I see them. I sat down and thought, \"Which are the most which?\" At first, I thought, \"What are my top three, what are my top five, and then what are my top seven?\" So if at any point you need to leave the podcast, you\\'ll know that at least you got them in order of importance. Again, that\\'s the way I perceive them. You might have a different perception. We\\'ll try to get through this in an hour. Usually these go much longer, but let\\'s see how we can go.\\xa0(00:05:36):\\nOkay, here we go. So number one top learning for me this year was about back pain. A lot of the other learnings are very important, they\\'re all important, but they mostly have to do with psychology and with spirituality. Spirituality doesn\\'t mean, I\\'ve said this on the podcast many times, but I\\'ll repeat it again, it doesn\\'t mean religion. It means understanding yourself better, becoming a better person, becoming more in touch with yourself. So I encompass a lot of things under that, like conflict models, relationship, intelligence, things like that. But so most of them are about that area, so things to do with the mind. But this first learning, super important, one of the rarer type of learnings that have to do with the physical body.\\xa0(00:06:34):\\nAround October, so around the start of October, end of September... Oh, actually, no, this started way earlier. Around June, I started having a bit of back pain. I saw some chiropractors. It was kind of getting better, but not too much. But then in October, at the very beginning of October, I had to lift some heavy suitcases. Just basically I was moving around a little bit, and what happened is, it was not like a specific incident where something happened, and also I was doing some exercises, one of those online exercising, fitness training program. I was like jumping a bit. And what happened is I started having more and more and more severe back pain, to the point where one day I just couldn\\'t bend down to tie my shoelaces. That\\'s how bad it was. I couldn\\'t bend below so that as I was bending over, my hands would not reach. There was a point where I would just stopped. Like I couldn\\'t go further.\\xa0(00:07:45):\\nAnd it actually it was so funny, sad, and funny at the same time. I tried for five, maybe seven minutes to tie my shoelaces like this, like that, to bend my legs. I just couldn\\'t. I had to just tuck my shoelaces in somehow and go walk like that. So that was a huge wake up call. I investigated that more, even before that I had already done an MRI, but then I saw a very cool chiropractor who has also been on the podcast. That episode is number 412. It\\'s a FiveMinuteFriday episode with that chiropractor. Anyway, he did a full x-ray of the spine and explained the whole situation.\\xa0(00:08:29):\\nSo the back pain wasn\\'t just because of very one-off incident like lifting a suitcase or doing yoga or doing jumping or anything like that. It was actually because over the years, many years I\\'ve been sitting for work. And what I do is I use my right hand on the mouse and the track pad. And then when I get tired of my left hand, I prop up my head, and your head weighs about three kilos. And so that has been causing me pain in my left scapula, in the top left part of my back of the shoulder, is somehow linked to my neck. But that\\'s a whole different story.\\xa0(00:09:05):\\nAlso, what has it has been doing is giving me slight scoliosis over the years, like over 10 or so years, or maybe more. My back is now a little bit arched, imagine from the bottom of the back, instead of straight up, it goes a bit to the right. There\\'s a bit arch to the right and it goes back left towards the neck. And so what that does is your lower discs, like the L-4, what is it called? L-4, L-5 and S-1, the discs between those vertebras at the bottom of the back, basically the load that comes on to them is not evenly distributed across the disc. So you have these discs between your spine vertebraes and now because the spine is slightly, ever so slightly crooked, now the left part of the disc has, for me, has more pressure then the right part of the disc. So it\\'s hard to kind of explain without a visual, but I think it kind of makes sense.\\xa0(00:10:10):\\nSo with that, whenever you\\'re doing an exercise, whenever you\\'re jumping, whenever you\\'re lifting something, every single time the left part of the same vertebra, same disc between vertebras is experiencing more pressure than the right part. And eventually, boom, like what happens is like a protrusion or a hernia or something like that. And then that can press on the spinal nerve and lots of problems can come from that.\\xa0(00:10:34):\\nSo yeah. Long story short, for me, this is not medical advice. Everybody\\'s different. So see your doctor about this if you need to, if you something of this resembles. It likely will resemble because according to my chiropractor, 80% of people get this in their lives, lower back pain, and usually starts after 30 years old. I\\'m right now 31, boom, like clockwork. And so the solution for me was standing desks. I started even before October, but after seeing the chiropractor like in June, July, started trying it out, mixing sitting/standing. But since October, I\\'ve only being standing. Very rarely do I sit for work, only if I\\'m super tired, or there\\'s no other option or something else. But now most of the time, like 95% of the time, or 90 to 95% of the time, I stand for work, like right now I\\'m recording so I\\'m standing.\\xa0(00:11:34):\\nI make a makeshift standing desk, or I get one of those standing desks you can get from Amazon, like a standalone standing desk or an extension standing desk that goes on top of your normal desk. Lots of ways to do it. It really helps. For me, anyway, really helps because there\\'s none of this like sluggishness and so on. And whenever I sit even like for dinner or food, like sitting is reserved for social things, like maybe one day after coronavirus going to a theater, or maybe sitting down for dinner, or like things that are really hard to do standing up like eating, for example. Even when I sit, I focus to sit like a soldier, like really arched back, straight back, not a slouched back, but yeah, the main thing is standing.\\xa0(00:12:20):\\nThere\\'s actually been studies where they insert like a needle into a person\\'s disc between the vertebrae and measure the pressure on the disc. When you\\'re lying down it\\'s the least pressure, when you\\'re standing, it\\'s the second least pressure, and when you\\'re sitting, it\\'s the highest pressure. So the highest pressure on your discs comes from sitting because you have not just your weight pushing down, but also you have that chair pushing you up from your hips. So you got like double the force and now from both sides. And especially if you\\'re sitting crooked, that\\'s going to cause longterm damage.\\xa0(00:12:57):\\nSo be careful with that. Standing is much better. Again, not medical advice, but from my experience, from what I\\'ve heard, standing is much better. People can get used to a standing desk within three months of trying. So you haven\\'t tried it maybe give it a go. See if this is something that might work for you. And also of course consult with your medical practitioner. There are, of course, individual cases where that might not be the right solution.\\xa0(00:13:27):\\nYeah. It took me about exactly three months. And at the beginning, it\\'s really uncomfortable, a bit painful, but then it gets better. Be careful, there\\'s also, it\\'s a good idea to get a standing mat for yourself, because if you stand without movement, like a mat encourages you to move more while standing. If you stand without movement, that can cause like thrombosis or problems with veins in the legs. So something not to take lightly, something to research before jumping straight into it.\\xa0(00:14:01):\\nSo that was my top learning probably because it caused a lot of physical pain and fear. Right now my back feels much better. Sometimes I get back pain. But again, that\\'s when I am sitting for like an hour or more, like I started getting a bit of back pain on my left, but that\\'s something that will take time to cure. I\\'m really happy that I don\\'t have that situation where I can\\'t tie my shoelaces anymore.\\xa0(00:14:26):\\nOkay. So that was learning number one. Let\\'s move on to learning number two. Learning number two, one of the coolest learnings, really insightful. I was just explaining this to my father yesterday. And yeah, I can say he was quite impressed with this model, and that is I think a testament to the content, because usually it\\'s quite hard to impress him with this sort of stuff. Anyway, so the model\\'s called the Internal Conflicts Model. It comes from this book The Ever-Transcending Spirit by Toru Sato. It was recommended to me by my psychologist, the lovely, who\\'s my psychologist? How could I forget that? Tracy Crossley, that\\'s right. Lovely Tracy Crossly, who, let me just find what episode she was on. She was on the podcast as well in case you want to hear a bit from her. Let\\'s see where that was. That was somewhere in the middle of this year, just going through these episodes. Okay. Episode 357, if you want to hear from Tracy Crossley.\\xa0(00:15:44):\\nAnd so she recommended me a book. It wasn\\'t on the podcast. This was after, like months after. Really cool book. Loved it. Especially if you just read the first three chapters, you already get a lot of really useful things from it. I got a lot of useful things from it anyway. So the main thing here, the cause of all unhappiness, or most of unhappiness, stress, sadness, anger, frustration, irritation, all these bad things. The cause in most cases is internal conflict. Is not like somebody coming and pushing a button on the back of your skull that says, \" Make Kirill unhappy. Make Kirill sad.\" Or something like that. It\\'s not anything like that. It\\'s something going inside, and it can be explained with this internal conflict model. And what the model is all about is that expectations versus reality.\\xa0(00:16:47):\\nSo imagine reality is like a rectangle. So let\\'s imagine just a rectangle, that on the left it has a component called your expectations, or your wishes, desires, maybe we\\'ll just call them expectations. That\\'s what you expect reality to be, to have been, to be, or to be in the future. That it has been, it is, or it will be in the future. On the right of the rectangle you have what reality actually is. Well, what reality actually was, is, or will be in the future. So that\\'s our kind of like perception of reality. We have, not just reality, but we need to be fair and say that we always have an expectation, and then also there is reality.\\xa0(00:17:38):\\nSo this internal conflict model says that whenever your expectation matches reality, matches what is, let\\'s talk about the current, the present. When you\\'re expecting from the present matches what is in the present, then you have no conflict. There is no internal conflict. That\\'s how it\\'s defined, and effectively what happens is that you\\'re kind of content. You\\'re not thinking about it. It\\'s not really bothering you. This is just things that are happening, like you kind of forget about that part of your life, there\\'s other areas where you have expectations. And then there\\'s reality.\\xa0(00:18:15):\\nNow, when does the conflict happen? Well, the conflict, and hence, the negative emotions, they happen when your expectation of reality is greater, is better, than what reality actually is. So when the left part of the rectangle does not equal to the right part of the rectangle, where they\\'re different. I\\'m not talking about the difference in size, but the content. So in the left you expect one thing, but then on the right reality is delivering you something else that\\'s worse, in your opinion. Like for instance, we\\'ll look at an example just now, but let\\'s say, for example, you want the weather to be sunny because you want to go for a walk outside and then you wake up and the weather is rainy, or it\\'s windy, or it\\'s cold, or something like that. And you can\\'t go for your walk.\\xa0(00:19:11):\\nSo what you were expecting was one thing. Reality is different. So now you\\'re upset or sad or angry, frustrated, whatever else. So that\\'s how this internal conflict model works. And there\\'s only two ways, there\\'s only two ways to stop experiencing stress, all those negative emotions. And the first way is to bend reality to your will, to change reality so that the left part, the expectations, will match reality. So basically, you keep your expectations. You change reality to match your expectations. You get out a magic wand, and you change the weather. Now it\\'s sunny and you can go for your walk. Boom. Reality\\'s changed. No internal conflict model. No internal conflict, internal expectations match reality.\\xa0(00:20:03):\\nOn the other hand, the second option, because that\\'s not always possible. Sometimes we can change reality. We can, for instance, let\\'s say you want to get a good grade. You expect you will get a good grade at university or at this thing that you\\'re studying, or you get a promotion or something. There are certain things in your control. You can study harder. You can work harder. You can really prepare, really dedicate time. You can change the reality. Like you can\\'t change reality in the past, you can change reality somewhat, you can influence reality in the present and the future.\\xa0(00:20:36):\\nBut often there are things that are still out of our control. Like for instance, with the weather, you can\\'t just go and change the weather. Or even with the exam. You might have studied super hard, you might have prepared all you needed, or even more. But then on the day you just feel sick, or on the day, you have a headache, or there\\'s an emergency and you just can\\'t even attend the exam, you have to go somewhere else, and be with somebody because of that emergency. So there are things that we\\'re not able to control anyway.\\xa0(00:21:09):\\nSo then there\\'s this second way of avoiding this internal, so resolving or getting rid of this internal conflict. And that is by simply accepting reality. So the first way is to keep your expectations, modify reality. The second way is to accept reality, modify your expectations. So whatever reality is, \"Okay, it\\'s raining outside.\" If you now change your expectations, you let go of your expectations of it being sunny and you being able to walk outside, and you accept reality for what it is, now your expectation will change. The expectation now becomes the reality. It becomes like, \"Oh, well, it\\'s raining, and there\\'s nothing I can do about it. That\\'s my new acceptance. That\\'s my new expectation of reality. It\\'s raining today.\" And then, boom, you don\\'t have these negative emotions anymore because there is no more internal conflict. You\\'ve let go of your expectations, and you\\'ve accepted reality, meaning that your new expectations match reality.\\xa0(00:22:18):\\nThe interesting thing about this theory, another interesting thing about this internal conflict model is that it works both ways. It works for negative things. It also actually works for positive things. Like whenever you feel emotional arousal, whether it\\'s negative like what we talked about, frustration, anger, fear, and all these negative emotions, anger and so on, already said anger. Or it also works for positive emotional arousal, when you are feeling happy, excited, super pumped about something, things like that. The reason for that emotional arousal is that reality, according to this model, is that reality is delivering, is better than what you were expecting. So you were expecting a certain thing from reality. For instance, let\\'s say you woke up and you were expecting it to be, you were like, \"I expect it not to be raining so I can go for my walk.\"\\xa0(00:23:19):\\nGreat. But then you wake up and it\\'s not only not raining, but also it\\'s not even cloudy, and it\\'s not windy and the weather is warm and it\\'s like the perfect setup for a walk. So it\\'s not just a good setup. It\\'s a perfect setup. You\\'re going to be like super excited, like, \"Wow, this is even better than I imagined. How cool is that? I\\'m going to go for my walk, and everything\\'s going to be amazing.\" So what happened there is that reality delivered a reality that is better than your expectation. Again, you have an internal conflict, it just leads to a positive outcome, or like a positive emotion. And we often don\\'t think about that a lot.\\xa0(00:23:58):\\nLet\\'s look at an example. This is an interesting example. I used this in the FiveMinuteFriday episode. I will use it here again because I really like how it puts things into perspective. Let\\'s imagine just wherever you are, take a breath of air. It doesn\\'t have to be a deep breath of air, this is not yoga or meditation. Just a normal breath of air, as you normally would. Okay. So, now let\\'s see how you feel. Did you feel super sad about that breath of air? Or angry, frustrated, irritated, unhappy? Probably not. Did you feel, on the other hand, super happy, excited, pumped, positive, super grateful for that breath of air? Probably not as well. Why? Well, because you have an expectation, we all have an expectation, it\\'s a default expectation that we are entitled to have a breath of air. Moreover, the breath of air of of the quality that you just breathed in. Because you\\'re used to it. You\\'ve probably been breathing this air for past few months, years, maybe decades, depends on how long you\\'ve been living in that city or house that you\\'re in.\\xa0(00:25:08):\\nNow imagine that you are... So basically what happens is your expectation of reality, having the right to breathe this quality air or the air of this exact quality, approximately this quality, is matching what is actually happening when you took that breath of air in. And so day to day, we take these breaths, we don\\'t even think about it. It causes no internal conflict. There\\'s no emotional arousal. It\\'s just happening in the background. Now, imagine you are right now taken and transported with a teleportation device to some city where there\\'s a lot of pollution, a lot of factories working, churning out all the time, air is super polluted, and people still live there. And these cities exist. Imagine like you\\'re transported there, all of a sudden, and you take a breath of air again there. What happens?\\xa0(00:26:02):\\nNow you are forced to breathe this polluted air. You are offended, unhappy, upset. You are confused. You are sad. And all these negative emotions come. Why is that? Well, because you have an expectation that you can breathe that air of the quality of where you were, let\\'s say air of quality A, but now you are a new place where the reality is that you\\'re breathing air of quality B, and it\\'s much worse. It\\'s much worse than your expectation. So you have this internal conflict, reality doesn\\'t match your expectation, and it\\'s worse than your expectation, negative, emotional arousal, all these negative feelings.\\xa0(00:26:45):\\nSo, next step. Imagine you live there for six months. Eventually you\\'ll get used to it, like people do who live there. You might be unhappy for a few days, a week, a month or so, but then reality will take over. Reality always does takeover. It\\'s going to completely erase your previous expectations and you\\'re going to be forced to accept the new reality, and thereby your new expectation is that I am breathing this quality of air, poor quality, quality B. That is your new expectation. It\\'s not great air. You understand it when you think about it, but there\\'s nothing you can do about it. So your expectation is that. And reality delivers that. You\\'re breathing air quality B. And there is no more internal conflict. What you expect, air quality B, having been entitled to a breath of air of quality B is matching reality. So no internal conflict. You don\\'t even think about it anymore. You just walk around breathing this air. You\\'ve got other things to do. It\\'s not causing any emotional arousal because there\\'s no internal conflict.\\xa0(00:27:56):\\nNow let\\'s say after those six months, boom, all of a sudden with teleportation, you\\'re transported back to where you are right now. And you take your first breath of air, and you\\'re so inspired, so grateful, so excited, so pumped, so like alive, you feel so much positivity because, wow, how good is this air that you\\'re breathing? Why is that? Well, what just happened is your expectation is to breathe air of quality B, the poor quality. But because you were teleported now the reality is you\\'re breathing air of quality A again. And so all of a sudden reality is delivering something that is greater than your expectation. It doesn\\'t equate your expectation, therefore, there\\'s again an internal conflict model, but because it\\'s greater than what your expectation is, it\\'s leading to positive emotional arousal and all these positive, amazing feelings.\\xa0(00:28:55):\\nVery interesting, because in that scenario, you just took a breath of air that I asked you to take like five minutes ago at the start of this example. It\\'s the same breath of air, but in the first case, it didn\\'t mean anything to you, didn\\'t give you any emotions at all. In the second case, it gave you all these positive emotions, all this amazing feeling. Guess what? Over time you\\'ll get used to it. Six months later, you won\\'t, that new reality will again take over, like displace your expectation, override your expectation and your new expectation will be of breathing quality air A, you move back to this beginning of the scenario.\\xa0(00:29:42):\\nAnd that\\'s just also an illustration of like how humans adapt. We adapt over time. We might have expectations, but then reality kicks in. And over time we adapt. You can see it as a good thing, as a bad thing, but that\\'s what it is.\\xa0\\xa0(00:30:03):\\nSo bottom line here is that there will always be an emotional arousal, whether positive or negative when expectation doesn\\'t match reality. If expectation is less than reality, then there\\'ll be positive emotional arousal, if expectation is greater than reality, there\\'ll be negative emotional arousal. Some people... And that\\'s also the difference between pessimists and optimists. Optimists tend to have a lesser expectation of reality, so they\\'re usually very excited about reality. Whereas pessimists usually have higher expectations of reality than reality is, so they\\'re usually unhappy about reality. The answer here is not to just always reduce your expectations to always be happy. That\\'s not the point. It will work probably, but the answer here is, what do we do in terms of... Which approach do we take? Do we take approach of bending reality to our expectations so that there\\'s no difference between the two, or do we take the approach of accepting reality and letting go of our expectations?\\xa0(00:31:04):\\nThe first one where you bend reality, you keep your expectations. You bend reality, you make it happen, you make it so the way you want it to be. Those are really like go-getters, ambitious people, controlling people, people control a lot. A great example is Monica from the TV show Friends. One of her quotes is, \"Rules are great. Rules allow us to have fun.\" Something our rules allow us to have more fun. She has some interesting quotes like that. So she tries to control everything so that the reality matches her expectation. On the right side... So that\\'s on the left of the spectrum, for example, if you take a spectrum, so somebody very controlling on the left.\\xa0(00:31:48):\\nOn the right you have a Buddhist monk who just sits somewhere in the mountains in Tibet, or somewhere else, and they just accept everything. If it\\'s raining, I get wet. If there\\'s no food, I\\'ll just eat one grain of rice, even if I have that, if I get hurt, I get hurt, if I have something to do, I have, I don\\'t, I don\\'t. They just basically accept everything that comes their way, and it\\'s they\\'re the epitome of accepting reality. We are mortals and we are morals as the book puts it. We can\\'t afford to just be Buddhist monks all the time in our lives as long as we still have desires. That\\'s why Buddhists say, abandon hope or the desire. I think Buddhists say this part, the desire is like a source of all suffering, something along those lines.\\xa0(00:32:38):\\nAs long as we have desires, as long as we have ambitions and goals and things that we want to accomplish in life, which are not bad things, depends on how you want to live your life. It\\'s totally fair to do that. But as long as you have those, you cannot let go of everything except reality in all cases, sometimes you will need to make things happen. You will need to go and do stuff so that reality... You influence reality to the point, you can, trying or aiming to get an outcome that you want. As long as we live that kind of life, we can\\'t just let go of everything.\\xa0(00:33:12):\\nBut the question becomes to what extent do you let go of things? And in what situations do you control things? When is it important to put an effort and go through stress and make it happen? And which cases it\\'s okay, it\\'s acceptable to you personally, to let go of your expectations and just accept reality. That has been a very interesting exploration for me. Whenever I feel it\\'s much easier to work with this when you have negative emotions, because then you remember. When you have positive emotions you can get carried away. You are feeling good after all, why would you apply this internal conflict model and to try to get rid of your positive emotions as well.\\xa0(00:33:49):\\nBut that\\'s ultimately what a Buddhist monk would do. They wouldn\\'t just get rid of negative emotions, they would also get rid of positive emotions as I understand it. Because they want to have no internal conflict whatsoever, and if by no emotional arousal at all. They just want to be completely at peace. That\\'s what they\\'re aiming for, not always happy. But anyway, whenever you\\'re having a negative emotional arousal like some negative feelings, or positive emotional arousal, again at the start, I think at least for me, even if I focus those on the negative times, that\\'s already a good start.\\xa0(00:34:23):\\nJust looking at those moments and saying like, \"Why am I feeling like this? Why am I unhappy right now? Why am I sad, frustrated, irritated, upset, or whatever else, why am I experiencing what I\\'m experiencing?\" Or like stress or irritation or whatever else, asking myself. It\\'s always, and according to this model, it\\'s always, or I don\\'t know, maybe there are some like one or 5% of the cases where it doesn\\'t fit this model. I don\\'t know. I haven\\'t encountered them. But let\\'s say in 95% of the cases is going to be an internal conflict that\\'s happening right now because I expect one thing and what is reality is something else. Or, actually, it can be something in the past. It can be like, I expected, I should have said this. I forgot to say this to this bit, or I said it wrong, now we\\'re not friends or now there\\'s a problem. What, I should\\'ve done it differently. I\\'m expecting, or my wish, my desire is that reality would have been different to what it was.\\xa0(00:35:22):\\nThat\\'s never possible to change. We don\\'t have time machines. You can\\'t just go in and change that. So that that\\'s a lost course right away. Or it can be about the future. You can be thinking, \"Oh, I really hope that this person likes me.\" Or, \"I really hope that my mom cooks curry for dinner.\" Or, \"I really hope that...\" That whole weather example, \"I really hope that...\" I can\\'t even think of it like that, \"My arm heal.\" Like if you have a hurt arm, like, \"My arm heals better and I\\'ll be able to use it as much as I was able to before.\" Like I\\'ll be able to still play baseball or basketball, whatever else.\\xa0(00:36:01):\\nAgain, we\\'re stressing about something in the future, we want reality in a certain way, but a reality might deliver something else. And we know that and thereby we have this internal conflict model. So for me, the answer is, I want to look at why am I feeling this negative feeling? Or positive feeling... Let\\'s focus on negative for now. Why am I feeling this negative feeling? Where\\'s the internal conflict? Finding it and pinpointing it, it\\'s really interesting. You can be like a detective in your own mind. Like, where\\'s this internal conflict? I expect this, this is what is happening now, or this is what have had or what happened in the past. This is what will likely happen in the future and if it doesn\\'t match what I expect.\\xa0(00:36:45):\\nThen deciding for yourself, is this important enough for me to continue feeling stressed until I go and resolve it and influence reality so that it becomes what I want it to be. Is it important? And there are some questions like that. Is it to do with your goals, your responsibilities at work, or as a parent or as a significant other or as a child? It might be to do with just basically important things in your life that you value that are important to you. Then you decide for yourself, \"Okay, I\\'m going to continue going through stress until I get it done. Until I bend reality because it has to happen.\" Or if it\\'s something not as important, like going for a walk today, or, I don\\'t know, like what you\\'re going to eat for dinner, or something that is not important, or you realize that is out of your control. Your arm is going to heal the way it\\'s going to heal. Unless there\\'s something you can actually do about it, you might realize, \"Well, there\\'s nothing I can do about it.\"\\xa0(00:37:47):\\nI can take these precautions but beyond that, there\\'s nothing else I can do about it. Realizing that it\\'s not important or it\\'s nothing that can be done and not something that something can be done about, and then just letting go of those expectations and accepting reality for what it is or what was or for what it might be in the future. That\\'s the internal conflict model. And that\\'s how also to address it and get rid of that internal conflict. I hope this part was helpful. I really like this learning and it\\'s been one of the recent learnings a few months from me and I love applying it. Hopefully you can get something out of it too.\\xa0(00:38:29):\\nThat was number two. Number three, what acceptance really means. So what acceptance really means often we hear that in a relationship, you need to accept the other person for who they are, and that\\'s that. That\\'s like the pre emphasis of a happy relationship. I heard that, I kind of got it, but never until this learning I understood. And this was thank you to Tracy for explaining it to me what it actually means.\\xa0(00:39:06):\\nThe way to look at it is if something irritates you in the other person. For example, they may be burp, they tell stupid jokes, they might be greedy, they might be forgetful. They might be easily triggered, they might not be good with kids. They might not be attentive enough, they might not be emotionally connected. They might be distant, they might be a pathological liar, they might be an occasional liar. They might be, I don\\'t know, not a good swimmer. They might not like dessert. They might really love watching Netflix and TV shows, or they might not love watching Netflix and TV shows. They might read books too much, too often. Maybe they don\\'t read enough books in your perspective. Maybe they chew too loud. Whatever something.\\xa0(00:40:03):\\nThere\\'s going to be things you\\'re going to like about a person and there\\'re going to be the things that you don\\'t like, and more of that might irritate or trigger you about a person. The reason for that is that we\\'re all different. Even twins are different to a certain extent. You\\'re never going to find an identical copy of us. How boring would that be? Even if you were like, and we\\'re talking about, in this case, let\\'s talk about a relationship. In a relationship, if you\\'re dating somebody who\\'s almost an identical copy of yourself, there\\'s no variety in that. You can predict everything that\\'s going to happen. You\\'re going to get bored.\\xa0(00:40:42):\\nThere\\'s a whole different story. This whole getting bored thing and stuff like that because according to spirituality, boredom is actually not a bad thing and there\\'s nothing wrong with getting bored and things like that. But let\\'s just face reality as it is. You\\'re never going to find an identical copy of yourself. There\\'s always going to be differences between people. Whether it\\'s cultural differences, differences in nature, differences in a nurture, how you were brought up and things like that. There\\'s always going to be certain differences. There going to be things you like, and there going to be things you\\'re going to dislike.\\xa0(00:41:21):\\nWhen there\\'s something that you come across that you dislike, what we often try to do, is we often try to change the other person. We often try to influence them to change that behavior, to become different, to become better in our view. We want to make them a better person. And you might tell them like, outright \"Hey, this is annoying me. Can you please stop doing that. Can you please change who you are\"... \"Change this behavior or change your... These words that you say\", or whatever else. Or you can manipulate them into changing. You might like when, for example, when they\\'re doing that behavior, you will give them a glare or you\\'ll get upset, and then they have to go on guessing what that was all about. Or you might, when they\\'re doing the opposite of that behavior, you might reward them with a smile or a kiss or be very attentive to them. There\\'s ways of doing it directly or indirectly and also subconsciously manipulating people into changing. Both are terrible. Both are terrible, equally terrible ways. Probably the second one is even worse because it\\'s not direct. But they\\'re terrible ways because none of that should happen. There\\'s only two things. There\\'s only two possibilities. When you are in a relationship with somebody and they\\'re doing something that you don\\'t like, there\\'s only two possibilities and both rest within you. It\\'s not to do with the other person, it\\'s totally to do with you. One of the possibilities is to accept it and learn to live with it. For instance, if your significant other is a loud chewer. There are people like that who chew very loud whether if their mouth open or closed. But even with their mouth closed, they chew. Just their jaw structure is such that they chew very loud and you can hear everything.\\xa0(00:43:32):\\nYou can learn to accept that and learn to live with it. Or the second option is this behavior or this thing that you observe is a deal breaker. In that case, you do not accept it and you break up with the other person. For instance, if there are a loud chewer and there\\'s just no way you can accept it, it\\'s going to frustrate you for the rest of your life. That\\'s it. You don\\'t accept it and you break up, that\\'s it. You cannot ask, you cannot expect the other person to change.\\xa0(00:44:10):\\nLoud chewing is a difficult example because in most cases I guess you physically can\\'t change that at all. But there are behaviors that potentially a person could change. So for instance, they tell a lot of stupid jokes. You can either accept it, or it\\'s a deal breaker and you break up with them. You cannot say to the other person, it\\'s not right to tell the other person you should stop saying these stupid jokes, they\\'re annoying me, they\\'re frustrating, I get triggered when you say them.\\xa0(00:44:40):\\nThat\\'s not on the other person. That\\'s on you. You, it\\'s your choice. It\\'s not your choice, it\\'s your feelings that you need to take control of and understand and dig deeper on and where they\\'re coming from. What thing in your childhood made you have this reaction to stupid jokes or have this lack of patience, or why exactly is it? What is it that is triggering you? And then you dig deeper into your own psychology and understand, what is it that is so triggering to you and why is it that way? And can you change yourself to be with this other person? If you can, you will learn to accept and live with it or if you can\\'t, then you it\\'ll be a deal breaker.\\xa0(00:45:29):\\nSome things are conventionally accepted to be deal breakers around the world. Some things are conventionally accepted to be that you can get used to. I don\\'t know, like for example, if somebody is a... Like if somebody doesn\\'t put down the toilet seat after themselves. That is something you can get used to. In most cases for people into relationships, it\\'s not a deal breaker. But still they try to change it. They try to convince the other person that they need to put down the toilet seat. We\\'ll get back to that in a second. But overall, it\\'s something you can live with. You can just put it down yourself.\\xa0(00:46:09):\\nOn the other hand, there\\'s things that are conventionally accepted to be deal breakers, and that is, for instance, if a person is unfaithful. If they have a habit of going and sleeping with other people and cheating. In most cases that is considered to be a deal breaker. Not in all cases. In some relationships, people learn to live and deal with that, and that\\'s up to them. But in most cases, from what I\\'ve heard, from what I know, that\\'s considered to be a deal breaker. So in that case, you don\\'t tolerate it. You don\\'t learn to live with. You just realize, well, that\\'s who they are. Whether they change or will not, I don\\'t know. That\\'s a deal breaker for me and I can\\'t be with a person like that and you leave. Going back to this toilet seat example or any one of these examples, the thing is that someone will only change, and this is the key here, someone will only change what they do, who they are, how they behave, what they say, the mannerisms and things like that. Someone will only change if it\\'s in their best interest. If they want it for themselves, for their future, if they see that this will help them be a better person.\\xa0(00:47:35):\\nIf your spouse or your significant other understands that putting down the toilet seat is something they want to do, they want to learn, they want to... It will be better for them. Not because of you. This is the key thing. Not because it\\'ll satisfy you or it will make you happier, or it will make their relationship better with you because you will be happier. No, it\\'ll make them better in their view even without you. Even if you didn\\'t exist in their life tomorrow, starting to where you don\\'t exist in their life anymore, they still want to learn the habit of putting down the toilet seat.\\xa0(00:48:15):\\nIf that\\'s the conviction they have, then they will work on it and they will change. If they do it, on the other hand, if they do it just for you because you are asking them to change, you are either manipulating them into changing or just directly asking or telling them that this is what you want. If they\\'re going to do it just for you, they might get it done. They might change a habit, but what will happen is they will resent you and then they will resent themselves for giving up or for changing, for becoming someone else for someone else.\\xa0(00:48:50):\\nWe\\'re all individual humans, we\\'re all equal, we all have a life to live. And it\\'s not right for anybody to live that life a certain way because that pleases somebody else. It should only be our decision based on what we want for ourselves. So be careful of this. When you ask someone else to change, when you ask or influence someone else to change, you\\'re playing with fire because they eventually will realize that they\\'re not living their life. They\\'re living a life that you want them to live, that you expect or that pleases you. And the more this happens, the more resentful they will get towards you or towards themselves. And that\\'s how a lot of relationships, as I understand, actually fall apart.\\xa0(00:49:50):\\nOn the other hand, the more freedom you give to someone, the less you expect of them. The more you can deal with these issues in yourself. It\\'s okay to go up to your significant other and say that, \"Hey, I love you. And just so you know, when you leave the toilet seat up, this is how I feel. But it\\'s not on you, it\\'s completely on me. I just wanted to let you know that this is a me thing, and I\\'m dealing with it and I will understand. It\\'s a learning for me.\" It\\'s okay to share once this... Well, once in a while to share just what you\\'re going through.\\xa0(00:50:38):\\nThere\\'s nobody, no restriction on expressing and being open and communicate. You don\\'t have to keep those feelings in and work on them all in solitude, isolation and not communicate. It\\'s okay to say that. But it\\'s also important to say that, \"I don\\'t expect you to change and to put the toilet seat down. I just thought I would be open with you about what I\\'m going through.\" And then the other person... The key here is not to make the other person, or not to aim for the other person to start feeling guilty that they are causing you to feel this way.\\xa0(00:51:10):\\nNo, you feel this way because you feel this way, because your background, the way you were brought up, maybe your parents were very strict about putting this toilet seat down in your family and there was repercussions for not keeping it down and maybe your sibling managed to get away with it and you couldn\\'t get away with it and then they blamed it all on you. And because of that you have this emotional trauma from when you were five years old and now every time you see the toilet seat up, you get a jolt of electricity go through your body.\\xa0(00:51:42):\\nThat\\'s on you. That\\'s your background. That\\'s your story. Everybody has their own story. So that\\'s something you need to explore and deal with and understand that they might have a completely different background. In their family maybe nobody cared about how the toilet seat was, or maybe on the reverse, everybody was like, \"No, we have to keep the toilet seat up because we have trained our dog and this dog can now go to the toilet, but can to do it when the toilet seat is up.\" And so on, and so everybody was super excited. There was a lot of emotion about keeping this toilet seat up, and they remember that from their childhood. So why is your story more important than their story? Was your background more important than their background?\\xa0(00:52:18):\\nYou are okay to share your feelings, how you feel and what you\\'re doing and going through. But the goal is not to make the other person... You can\\'t make the other person... That expectation that the other person will feel guilty or start to change, it\\'s just a part of the open communication in a relationship. Then the other person is entitled to decide for themselves freely. Oh, wow. Okay. So this toilet seat thing. It\\'s not a big deal for me. I think actually, you know what? I think it will be better for me, not because of my relationship. Not because of my partner, but for me, it will be better if I start putting it down. Because indeed I actually it looks more pleasant when it\\'s down. It matches the bathroom tiles or something like that, or we have this drain problem and there\\'s less smell. This is extreme, they probably wouldn\\'t think this.\\xa0(00:53:20):\\nBut ideally, the thought process should be along the lines of, as I understand it, along the, even if I wasn\\'t with my partner, even if we were to break up tomorrow, that\\'s a really cool idea. I think I will want this in my life to keep putting this toilet seat down. No matter who I\\'m with, if I\\'m single, if I\\'m with someone else, if we\\'re together or not, just for myself. That\\'s a good idea. Or they might decide, \"No, actually, you know what? This is not a good idea to put the toilet seat down. It\\'s not something that\\'s useful to me, it\\'s not something I want to change in my life.\" Then you need to accept whatever they decide. You shouldn\\'t even expect that they will decide and change something, but you need to accept however they want to live their life. They might keep keeping it up, putting it down, but it doesn\\'t mean just because you told them what you go through and how you feel when you see this toilet seat up, it doesn\\'t mean that now you\\'re entitled for them to make this conclusion that they need to change. No, there should be no such expectation. That\\'s the hard part. Giving this feedback in such a way and being very careful in communicating. Not feedback, feedback is not the right word. Give it, telling the other person how you feel just to share your feelings, but without it becoming feedback for them to change.\\xa0(00:54:42):\\nThat\\'s a very tricky part, but that\\'s what intimate, good, healthy relation is about, where you can communicate these things and the other person doesn\\'t jump to feeling, \"Oh, I have to change and I\\'m feeling guilty about this.\" Or you were saying in an accusatory way or whatever else. Well, you\\'re just communicating your feelings and the other person, \"Oh, okay. I see.\" They see how you feel and they talk to you about your feelings, but then they might not even take any action from there. So yeah, that\\'s a very fine line there and can impact a lot of people. And a lot of people in a lot of way. I think in most relationships, people have these certain expectations. There\\'s things they like, the\\'re things they dislike, and they want these things that they dislike that they go away.\\xa0(00:55:28):\\nThe final thought here is that you should, you can, not you should, but you can also apply this rule to yourself. I think it\\'s a good idea to apply this rule to yourself. Never change for someone else. You think you might be doing them a favor, and you might be strengthening your relationship, but you\\'re actually hurting the relationship. If you start changing for someone else just because they want you to, then you are going to eventually resent them and resent yourself.\\xa0(00:56:01):\\nOnly change your habits, behaviors, opinions, or perspectives, what are they called? Mannerisms and things like that, only if you truly want it for yourself. And the key question, like the litmus test here is ask yourself the question, if you end up not being with the other person. If tomorrow this person disappears from your life, do you still want to change that thing? Or is it just easier for you not to change? Is it not so important in your life that you wouldn\\'t want to change it if you were by yourself? Or is it indeed a way for spiritual or some other type of growth? That\\'s the question that should be asked.\\xa0(00:56:47):\\nI feel I need to pre-phase or post-phase this by saying I\\'m not a psychologist, this felt like quite heavy. This whole third learning. I\\'m not a psychologist or psychiatrist or any professional in that space. These are my opinions, I might be wrong so please take this with a grain of salt and also maybe consult somebody who\\'s a professional in this space and can give you an opinion if this is correct and useful for you or not correct and useful for you. But this is how I see things.\\xa0(00:57:22):\\nOkay, that was learnings one, two and three. Are you getting a little bit tired yet? That was just a heavy one I think. That\\'s a heavy one because it impacts lot of people, a lot of relationships, and it\\'s a hard one as well. We\\'re so used to expecting other people to change and really hard to catch. We all do it. I think we all do it, I definitely do it a lot and that\\'s something I need to get rid of for sure, because that\\'s not the way to a healthy, fulfilled, happy relationship. Let\\'s move on to some other stuff.\\xa0(00:58:08):\\nThat was topic three so far, moving on to number four. Number four was in a recent FiveMinuteFriday episode, intellect versus intelligence. Well, it is called intellect and intelligence, or you can also call it the intellectualizing versus the knowing. The idea here is that... So this was from MZ, who is our team coach, and he has a lot of interesting thoughts and can share cool ideas about spirituality. One time we were talking and he shared this with me, that there is intellect and there\\'s intelligence. And the way we use them interchangeably in the society is one way of looking at it, but according to a lot of like spiritual teachers, intellect and intelligence are distinctly different things.\\xa0(00:59:08):\\nIntellect is when you come up with reasons and you have logic, reasoning, pros and cons, all that kind of stuff. Stuff that we\\'re used to and I dare to say that we\\'re pretty good at as humans and more importantly like in data science, it\\'s something that\\'s we\\'re hardwired to do. Like follow logic and mathematics and calculations and things like that. Intelligence on the other hand is just a knowing, an inner knowing. You can call it your intuition, you can call it guidance from the universe. You can call it like, I don\\'t know, your... What else can it be called? Intuition, guidance from the universe, some inner voice, something like when you just know the answer.\\xa0 (01:00:03):\\nSo how many times have you had a situation where you know that you need to go down this road, but you have road A and road B? You need to go down road A, but then intellectually, you convince yourself that, hey, no, road B\\'s going to be shorter, or road B is actually the correct one. You go down road B, even when you\\'re driving, walking, or metaphorically speaking, when you need to make a decision in your career path or life, and you go down road B, just to find out that there\\'s road work, or there\\'s a construction site, or there\\'s a big traffic jam. And eventually, you end up turning around anyway and going down road A, or you have a massive delay, and then you realize that road A was the correct one to go down in the first place, even though you had all this intellectualizing.\\xa0(01:00:54):\\nWell, that\\'s actually a great example because when we intellectualize, we use our intellect. We base it off of the facts that we have in our brain. And no matter how big your brain is, no matter how many facts you\\'ve read, you are just, you\\'re limited to those facts. There\\'s way more facts out there in the universe, out there in the world, world around you. And even if you have all the facts available on the internet, all the facts that are digitalized, there are still a lot of other facts that are not digitalized because the world has infinite information flowing around all the time, not on the internet, just in the world, like trees and the way the wind is blowing, the way the sun is shining. I know the way the ants are crawling across the road, and things like that. There\\'s a lot of information that we\\'re not taking account. We cannot possibly take into account with intellect. And as much as we want to intellectualize it, there\\'s a probability, there\\'s uncertainty, there\\'s a probability of going wrong. Whereas with intelligence, sometimes you just know. And when you follow that feeling, then you end up doing what\\'s, according to this view, you end up doing what is right, what is the correct thing to do. And even though it might lead to the wrong results at the beginning, what looks wrong to you. Right? Maybe you go down road A, and that\\'s where the traffic jam is. And then you\\'re like, \"Damn. I should\\'ve listened to my intellect and gone down road B. And then I would\\'ve been on time.\" But maybe you\\'re not meant to be there on time. Maybe by being there on time and attending this interview, you would\\'ve taken up a job where that company is disbanded three months, five months from now, and you end up jobless. Whereas, by going down road A, the one that your intelligence told you to go down, you end up in this traffic jam, you miss the interview. But then two days later, you get an invitation to a different interview with a better job, that that\\'s the one that\\'s meant for you.\\xa0(01:03:03):\\nSo in order to accept this intellect versus intelligence, of course, it\\'s necessary to also have this view that there\\'s things that, there\\'s some guidance that we are guided often in our lives to certain events, to certain outcomes, to certain circumstances that we\\'re not here all on our own. It\\'s a hard one to debate, of course, I believe in that. You might not, and that\\'s fair enough. So we won\\'t spend too much time on this. There\\'s just one thing I guess I want to mention here, is that MZ had recommended to me a documentary, and I haven\\'t watched it yet. I really want to watch it, so I believe it\\'s on that topic of intellect versus intelligence and the role of spirituality in our lives, the role of knowing this inner knowing. I\\'m not sure. It might be completely different.\\xa0(01:04:04):\\nI haven\\'t watched it yet, but it\\'s about a quantum physicist called David Bohm, B-O-H-M. The film is called Infinite Potential. So yeah, maybe if you\\'re up for an interesting documentary, you might find that useful. And if you\\'re open to this whole idea of intellect versus intelligence, again, I\\'m not 100% sure that\\'s what it\\'s about, but I suspect that was what it\\'s about. I just forgot our conversation. Yeah, so that\\'s pretty much it. That\\'s all I wanted to say on this topic. There is one more thing I wanted to say. If you believe in this intelligence, that there is this inner guidance, this inner knowing ... Oh, another book, by the way, where this is talked a lot about is Think and Grow Rich by Napoleon Hill. I think I read, I listened to about half or just less than half of the book. I haven\\'t gotten to many interesting parts yet, but he talks about that as well. A lot of people actually talk about that.\\xa0(01:05:11):\\nI believe Einstein, don\\'t quote me on this, but I believe Einstein also talked about this later on. Yeah, that ideas come not when you\\'re thinking a lot about it, but when your mind is at peace, they just come from somewhere. Anyway, so what I was going to say is if you believe in these things, if you believe in this, then for me, the more I follow intelligence, the less I follow intellect, the less problems I have in life, the less kind of stress, the less stress I have in life because it\\'s stressful to try and intellectualize everything all the time. Sometimes when I have an inner feeling that I should do it a certain way, I just go and follow that. Not always, and I\\'m getting better at it, but I just go and do that, and things work out.\\xa0(01:06:04):\\nOne example, an example that you\\'ll probably find close maybe to you, maybe to your heart, is the decision I made about stepping down as the podcast host for the show. I don\\'t have an intellectual reason for it. I don\\'t have ... I could come up with ... I could intellectualize it as much as I could intellectualize staying the host of this podcast, but I don\\'t need to because at some point, I just had this feeling and this inner knowing that it\\'s time. It\\'s time to step down from the podcast as the host, and that\\'s the right thing to do. And that\\'s all, I tried maybe a little bit to intellectualize it and understand why and so on. But again, I could come up with as many reasons for stepping down, I could come up with as many reasons for staying the host of the podcast. And that\\'s just not going to lead to anything good.\\xa0(01:07:11):\\nWhile I felt this is the right thing for me to host the podcast and be the host of the podcast, great. But then at some point, I felt it\\'s time. And I don\\'t know why. It\\'s really hard, as Steve Jobs said once, it\\'s really hard to connect the dots looking forward, but it\\'s much easier to connect them looking backwards. I don\\'t know why it\\'s the right thing to do right now, but I guess maybe 10 years from now, I\\'ll be able to look back and see why it was the right thing to do right now and what it led to. So we can just live and find out. Yeah, so that\\'s I guess an example of intellect versus intelligence.\\xa0(01:07:57):\\nYeah. And let\\'s move onto the next one. So that was number four, intellect versus intelligence. Number five is needs versus wants, desires and wishes. Often in life, we come across a question, with the caveat, if we choose to be in an intimate relationship with somebody, often in life we come across a question. Who do we prioritize? Do we prioritize the other person, our intimate partner, or significant other? Or do we prioritize ourselves? And how do you choose what to do in which scenario? And that\\'s why having kind of a system for that, like a system of values around that, can be helpful because these decisions can be hard. And often, we can end up doing something that in the end, we\\'re not comfortable with, or we feel we\\'re neglecting our partner, or we\\'re neglecting ourselves, and it can be tough. It can be tough to make this choice. But if you in advance sit down and think about it and structure it, okay, so in this case, I do this, in this case, I do that. It becomes easier because you\\'ve already put the thinking into it behind when you\\'re fresh of mind, you have this sober thinking, rather than in the moment when it\\'s a stressful time, or there\\'s emotions involved, it\\'s hard to make that call. So what I wanted to explore here is a one way, one system of making these decisions. It might be a system that resonates with you, might not. But let\\'s have a look. Let\\'s look into, and then you can decide for yourself if it\\'s a good system, or what you want to take out of it, or if it\\'s not a good system. And then you can come up with your own system if you like.\\xa0(01:09:56):\\nSo this system has two distinct categories. One category is needs, another category is wants, desires and wishes. Needs are inward things that you need physically, your body needs, like I don\\'t know, sleep, or food, or physical rest, or it might be spiritual things, spiritual needs, needs like you need to undergo a certain learning, or undergo a certain experience. You feel you need that for your spiritual growth. Could be needs of the mind. You might need mental rest. You just need to have some calm, quiet time. Those are needs. On the other hand, wants, wishes and desires, those are external priorities. For instance, if you want to go and do a hobby, or you want to go and ride a bicycle, or you want to go and workout at the gym, or you want to go and do a crossword puzzle, or you want to go and I don\\'t know, you want to eat Thai food for dinner and not Indian, or you want to watch Netflix instead of playing a board game, or something like that. Those are wants, wishes, those external things that you could live without, that are not critical, that are not ...\\xa0(01:11:43):\\nI think it\\'s clear. It\\'s hard to explain, but I think it\\'s clear. It\\'s kind of clear what a difference between a need is and the want, wish, and desire. So when it comes to prioritizing your partner or yourself, the way to look at is different to the two different categories. If you\\'re looking at the external priorities, the wants, wishes and desires, then here you need to prioritize your partner first, and then yourself. On the other hand, if you\\'re looking at the inward priorities, if you\\'re looking at the needs, then here you need to prioritize yourself first, and then your partner. Why is that? Well, let\\'s look at a few examples. If you are talking about: Where are we going to go? Which movie are we going to watch at the cinema, or on the TV, or on a computer, or Netflix, or whatever? That\\'s a want, wish, desire, unless you feel it\\'s a need, that you need to watch a certain specific movie because of your spiritual growth, or you just feel this inner knowing that you need to do that, unless it\\'s that. And it\\'s like an entertainment thing and so on, and you have a disagreement.\\xa0(01:13:03):\\nYour partner wants to watch a cartoon and you want to watch an action film, and that\\'s a want, desire, wish. In that case, there is no actual reason why you have to watch an action film. It\\'s just what you would like to do, what you want to do. And when you start arguing with your partner about, no, we should watch a ... If you communicate that to them, and they\\'re like, \"No, actually, I would really prefer to watch a cartoon,\" well, there\\'s only two ways about it, or three ways, so you watch the cartoon, you watch an action film, or you don\\'t watch anything. And it would be incorrect. Right?\\xa0(01:13:53):\\nSo here, what would happen first, if you continue arguing, like, \"No, we should watch an action film because of this, this, this,\" and these reasons, and then they do the same thing, that doesn\\'t come from a place of love. That doesn\\'t come from a place of connectedness and understanding and caring for each other. That comes from a place of being right, or winning, or convincing the other person. And that doesn\\'t, to me, doesn\\'t feel or sound like, okay, we\\'re trying to build a loving, caring, intimate relationship here because if both people have that kind of compass that they need to prioritize their wishes, desires, and wants, then it\\'s always going to be like a pull, like a game of who can pull the rope over. And then at some point, ego will get involved, and you\\'ll be like, \"Well, why do I have to succumb to their wishes? Why can\\'t my wishes be prioritized? I also have a right to have my wants and desires.\" That\\'s your ego talking. Right? That\\'s not your inner self talking. That\\'s your identity. You\\'re attaching your identity to things, and that\\'s a whole new can of worms.\\xa0(01:15:06):\\nMuch easier to set your value compass, in this case, if there is a difference, just let the other person\\'s desires, wishes, wants come true. And how beautiful is it if both people have that attitude? If both people have that attitude, then it\\'s always going be rather than, no, my wishes should take priority, you\\'ll be like, \"Let\\'s do your wishes.\" \"No, let\\'s do your wishes.\" In that case, there\\'s much more room for creating a loving, caring, beautiful relationship than the first case. And guess what, if you do that, if you prioritize the other person\\'s wishes, wants and desires, then if this is the right relationship, if this is a relationship that is growing, that the people are both committed to, the other person will notice, and they will start to reciprocate.\\xa0(01:15:57):\\nThey will eventually just ... It\\'s not something you should hope or expect, but normally, I think that\\'s how it happens. If you are constantly just prioritizing the other person\\'s wishes, they\\'re either going to take advantage of it, and you\\'re going to probably realize for yourself it\\'s not the right relationship for me, or they\\'re going to see that, feel it, feel the love that\\'s coming from you, and do that back in return to you. So you can of course, discuss like, \"Oh, yeah. I\\'m happy to watch cartoons, just don\\'t want to watch this one specifically because I\\'ve seen it just recently. Can we watch a different one?\" You can agree on things like that. There\\'s room for discussion. But always coming from a place of giving rather than taking is going to lead to better results in the long-term and a better relationship. That\\'s the way I see it.\\xa0(01:16:46):\\nSo that\\'s about external priorities, or external things, wants, wishes, desires. But now when it comes to needs, the story is different. If it\\'s a need, you should prioritize yourself first, then your partner. So your need comes above their wish, wants and desire, or your need comes even above their need. Why is that? And this is where it\\'s important to really decide for yourself or understand for yourself what a need for you is, versus a wish, want, desire, because if it\\'s a need, it is so strong that if you do not fulfill it, then you are not being true to yourself. For example, let\\'s say, well, a simple one, where your partner wants to go out to the movies, or let\\'s look at something else. Your partner wants to play a board game together, and you feel you need to sleep. Right? You\\'re tired, you\\'re physically, mentally exhausted. You had a big day. Maybe you didn\\'t sleep well the previous night. Maybe you had a tough day at work. Maybe you\\'ve been undergoing certain stress, whatever ever the case may be.\\xa0(01:18:16):\\nBut you just feel that this is not ... Sleeping might also be a wish, want, desire. You just want to go to bed early, or maybe you just want sleep because you like sleeping, or you\\'re just feeling in a lazy mood. That\\'s a different story. But in this case, you\\'re feeling the physical and mental need to go and sleep, but your partner wants to play a board game. What happens if you prioritize their, in this case, a want, wish, or desire? If you prioritize their want, wish, or desire over your need, what happens is that you go and you play that board game, but you are so tired, you\\'re not in the mood for a board game. You\\'re extremely drained, and you\\'re going to force yourself to pretend to be enjoying it, to be happy. You\\'re going to effectively be lying to them by just for the sake of them having this entertainment, and they don\\'t need that either. They don\\'t want that either. They don\\'t want a grumpy person playing with them. And they will see or sense through that. Or even if they don\\'t, in the end, you\\'re going to resent them for it. You\\'re going to resent yourself for not taking care of yourself first.\\xa0(01:19:33):\\nSo in that case, it\\'s very clear that in a loving way, you can say, \"Hey, I would love to play a board game. I know how much you love them. But maybe can we do that another time? Because right now, I\\'m feeling very tired, exhausted. I feel I need to go and sleep.\" And then you have your rest, and then we can play the board game another time. It\\'s a whole different story. So that case is quite straightforward. But not let\\'s look at an example where it\\'s two needs. That\\'s tougher. Right? So for instance, again, you need to sleep. You feel you need to sleep, but your partner\\'s going through some emotional turmoil. It\\'s a tough, they\\'re going through a tough decision or a tough time in their life, something\\'s happening. And they feel they need some support. They need someone to talk to, someone to listen to them.\\xa0(01:20:25):\\nSo if your desire, if it was a desire, or a want, or a wish to sleep, if you were in that state where you can stay up a bit longer, you can, but you just wish to go, you don\\'t want to bother with anything, you wish to get to bed on time. You usually go to bed at this time or whatever else, you wish to get up early in the morning to go for a bicycle ride with your mate, and things like that, and so you wish, and thereby you don\\'t need to go to sleep. You wish, it\\'s your desire to go to sleep early so you get enough sleep and so on. It\\'s important to recognize that as a wish, desire, or a want, and to deprioritize that and prioritize your partner\\'s need.\\xa0(01:21:18):\\nBut on the other hand, if you really feel you need to sleep, like in the previous example, where you are so tired, so exhausted, mentally drained for whatever reason, you know those times, for me, for instance, when I\\'m so tired I have pain in the front of my forehead, or above over my eyes, I feel pain, I feel like they\\'re very irritated, my eyes are irritated. So I feel this need, it\\'s no questions about it. Then again, what happens if you prioritize your partner\\'s needs? Then you go and you try to support them, listen to them, be there for them emotionally. But in the end, turns out that you\\'re not there emotionally. You\\'re not present. You\\'re just thinking about sleep. Or you\\'re not listening attentively enough. You\\'re not paying attention to the things they\\'re saying. You\\'re not able to provide emotional support. You\\'re not able to be there for them. They feel that. They sense it. And they lash out like, \"Why are you not listening to me? You don\\'t care about me,\" and all these things.\\xa0(01:22:20):\\nAnd you get defensive, you have a conflict on top of the emotional turmoil that they\\'re already going through. And so in that case, again, it\\'s important to prioritize your need because that\\'s just a need that you have. And that\\'s pretty much it. It\\'s tough, so it\\'s tough. And why has this been a big learning for me? Because I used to often, very often, in my views, I\\'m biased of course because I\\'m myself, but in my view, I used to neglect my needs and feel resentful. If my partner would ask me, \"Hey, can we play a board game?\" Or I want to sleep, or I don\\'t know, watch a movie when you want to sleep. Or I don\\'t know, some other things. Can we spend time together when I actually feel the need to rest? When I need not necessarily sleep, but rest can be just lying down and listening to an audio book, or lying down and staring at the ceiling, or going for a walk by myself, or something. I feel I need that right now.\\xa0(01:23:28):\\nI used to always think that, hey, no, let\\'s prioritize the other person, especially if it comes to a need. Turns out that can backfire and be counterproductive. So there we go, that\\'s about needs and wants, wishes, and desires, and how you can choose to prioritize, and how I am now choosing to prioritize them. The important thing here is to understand in the moment if that\\'s a need, or wish, want, desire. I\\'m nowhere near good enough at that. I have to say, I have to admit, from this learning, the thing that I\\'m applying the most is prioritizing my needs. So I\\'m still not there yet with prioritizing the other person\\'s wishes, wants, and desires. I still have my ego get in the way and I want my wishes, wants and desires. That\\'s still a big learning I need to undertake. But for now, one thing I have learned and that\\'s helped me is that if there are needs involved, then however important the other person\\'s need is, if I have a need, I need to take care of that first, so then I can be there for the other person.\\xa0\\xa0(01:24:33):\\nAnd one final comment on all this, needs versus wants, wishes, and desires, is communicate your needs. Nobody is a mind reader. Communicate your wishes, wants, and desires. Also communicate your needs. People are better at communicating, from the way I see it, people are better at communicating their wishes, wants and desires than their needs. Nobody\\'s a mind reader. Nobody can tell that right now you maybe need to sleep, or you need to ... You\\'re really hungry, you need to eat. Or you need rest, or whatever else. And then if you just go and do it, like you go away, be by yourself for a walk or something when the other person thought that you were going to be together, then it becomes like they don\\'t understand why you\\'re doing that. So it\\'s important to communicate your needs to the other person, and that\\'s part of this open communication. Just keep in mind that nobody is a mind reader.\\xa0(01:25:20):\\nAnd that\\'s something I am terrible at. I\\'m really bad at communicating my needs, or even often wants, wishes and desires. If it\\'s a need, I just go and do it and focus on that. But then as mentioned, the other person is, my partner is thinking, \"What is going on? Why are they ignoring me, or neglecting me, or whatever?\" When I just feel like I need to rest. So the final point there is to communicate your needs.\\xa0(01:25:53):\\nAll right. So we\\'re at number six, intention versus effect. So this is the one where I was actually very surprised looking through the FiveMinuteFriday episodes just now earlier, a few hours ago, that I hadn\\'t recorded this one as a FiveMinuteFriday episode. It was a very cool learning. And yeah, so let\\'s look into it now. This is about interpersonal relationships. Doesn\\'t have to be intimate relationships, can be with anybody. And it\\'s about how to remove, how to have less conflict. So imagine a scenario. By the way, this comes from a video by a person called Anastacia Kay. It\\'s in Russian, so it\\'ll be hard to follow along if you don\\'t know Russian. On YouTube it\\'s called How to Stop Holding Grudges and Resolve Conflicts Productively. But these insights are from a book called Difficult Conversations by Bruce Patton, Douglas Stone, and Sheila Heen. I haven\\'t read the book. I have the book. I\\'ve ordered the book. I have it with me. It\\'s just that I haven\\'t got a chance to read, but this was so impactful to me that I went and got the book. I started reading the book. Actually, I didn\\'t quite like how it\\'s written, but that\\'s just me. You might like it. Anyway, so this one insight is from that book, and it\\'s to do with having less conflict.\\xa0(01:27:23):\\nSo we\\'ll start with an example. I\\'ll use the same examples that Anastacia used in her YouTube video. So imagine there\\'s an ambulance behind you in traffic, not in traffic, you\\'re on the road driving, but then there\\'s an ambulance behind you, beeping at you, flashing at you to let it go through. You\\'re going to pull over or change lanes and let the ambulance drive through because clearly something important is happening. Imagine same scenario, but instead of an ambulance, there\\'s a Bentley behind you who\\'s flashing its lights to let it through. You\\'re going to have a completely different reaction. Right? The feeling that is going to be triggered, similar, similar situation. The car needs to get through. But you\\'re going to have different reaction. You\\'re going to think that person probably feels they\\'re entitled. They have an expensive car, so they get to go first, or they get to own the road, and things like that, whereas they might actually also be going through an emergency. There might be somebody that is in danger, or giving birth, or something like that. It\\'s just our perception is different in most situations.\\xa0(01:28:35):\\nSo let\\'s have a look at a second example. Second example is electricity shock. There was basically a study done where two groups of people were being observed by scientists. And one of them, well, both of them got an electric shock, like I guess a mild electric shock. In one case, the experiment was set up in such a way to lead the participants to believe that shock was done by accident. In the second scenario, the second group, the experiment was set up in such a way to lead the second group of people to believe that shock was done on purpose. And so then the scientists measured the perception of pain in both groups. In the first group, where it was done by accident, or they thought it was done by accident, the perception of pain was less than in the second group. So when people thought, believed, that they were shocked by electricity on purpose, their perception, they felt that it was more painful, even though it\\'s exactly the same shock of electricity. For them, it felt more painful because they thought there was an intention to hurt them behind this shock.\\xa0\\xa0(01:30:03):\\nAnother example is where two groups of people were given the news of a story where in some company, there were massive pay cuts to the employees. The first group of people were told that this pay cut was necessary because the CEO had done a mistake, and in order for the company to survive, they had to be pay cuts. The second group of people were told that the CEO is greedy. They want more money for themselves, and thereby the employees got pay cuts. Then they were asked about how their perception of the damage that was done to these employees. In the first group, people perceived that less damage was done to the employees, in the second group then people in the second group who perceived that a lot of damageable, more damage was done to the employees by these actions. Interestingly enough, the pay cuts were the same. So in both stories, the employees got exactly the same pay cut. So objectively speaking, the damage to their lifestyles, into their livelihoods was identical.\\xa0(01:30:59):\\nBut because of the backstory, because the backstory is different and because the way people were seeing this, whether it\\'s CEO had done a mistake and it just there\\'s no other way, or the way the CEO was greedy, that was influencing how they perceive the damage that was done, even though objectively the damage was the same. So what\\'s going on here? The thing that\\'s going on is that our brain is subject to many cognitive biases. And one of them, one of these cognitive biases is to extrapolate the effect someone\\'s actions have on us onto their intentions i.e. effect equals intentions. So for instance, example, if the way a person thinks or the way we are used to thinking is like, if you did something and it caused me pain, then you wanted to cause me pain. So that\\'s the key here that if someone does something to us and it causes us pain, our cognitive bias leads us to believe, to assume right away that their intention was to cause us pain.\\xa0(01:32:07):\\nSo that\\'s the key. And whereas it\\'s not always the case. In many situations, in most probably situations in interpersonal relationships, people don\\'t want to cause pain. People have other intentions, people have pure or good intentions, but their actions can cause detriment, can cause pain or suffer. Not suffering, can cause pain, damage or something like that because maybe they made an earnest mistake or maybe there\\'s differences in perceptions. They see this as not a problematic thing. You see it as a problematic thing. There\\'s differences in cultures, differences... Lots of reasons why the pain, the effect could be painful without the intention being there to cause pain.\\xa0(01:32:56):\\nAnd then what happens? So somebody, this is like the typical story. Somebody who says or does something that causes you pain or causes us pain or let\\'s say me that causes me pain, I because of my cognitive bias, very important here to remember that this is a cognitive bias. This is just how our brains are hardwired through all the millions of years of evolution. This is just what happens in my brain. I automatically assume they wanted to cause me pain. And then what I do let\\'s say I maybe I just hold a grudge and I\\'m upset with them, and I don\\'t want to talk with them and maybe I\\'m just going to see them as...\\xa0(01:33:38):\\nI\\'ll never talk to them about it and I\\'ll just see them as a person that wants to hurt me in the future or if I do man up or muster up the courage and get together the will to go and discuss this with them, then what happens next is when I go to resolve it with the other person, usually I would approach them in a way, I would be like, \"Why did you do this? That caused me this problem. That caused me pain, or that made me look embarrassed or whatever else.\" I usually or would we or humans normally would do is approach it in a way that triggers that person to be defensive. Right? So we carry that forward like if they did something that causes pain, the effect is painful. So we assume through our cognitive bias that the intention was to cause us pain. And when we go talk to them, we carry that assumption forward. We carry it like, \"You did this so you caused me pain.\"\\xa0(01:34:38):\\nAnd you can... Even if you phrase it, you try to phrase it differently, they can sense that you are attacking them, that you are insinuating that they wanted to cause you pain, that they\\'re a bad person or that was their objective to cause you pain. What happens is because of that, they get defensive, they get triggered, they get defensive and they start protecting themselves. And so it escalates from there. So effectively it has the opposite effect, your going and speaking with them to resolve it has the opposite effect. It actually escalates the conflict instead of resolving it. The correct thing to do here, the advice that I get... Well, that I go from the video and I guess it\\'s given in the book, the correct thing to do here is to have a learning conversation. A learning conversation is structured very differently to a conversation of just come up to the person and tell them how their actions made you feel.\\xa0(01:35:41):\\nIt still has that purpose to resolve the conflict that\\'s occurred but it needs to be done very carefully and thought through. Right? So first step is recognizing that... Understanding, okay, what was the action that the other person did. Second, recognizing the effect that it had on you. Third step is understanding what assumption you came up with from that effect. What did your cognitive bias lead you to believe? And now, also appreciating that, so step four is to appreciate that this assumption might be correct, might be partially correct, might be fully incorrect. And now, step five is to think of how you will actually communicate this to that person without triggering them, just trying to resolve this genuinely. Earnestly, trying to resolve the situation, trying to understand where they were coming from rather than attacking them and telling them that they\\'re a bad person.\\xa0(01:36:44):\\nSo basically here instead, step five is super important. The whole process is super important because the more we liberate the other person from the desire to become defensive, the easier it will be for everybody, the easier this relationship will be, the more smooth it will be, the easier it\\'ll be to progress. This is a very hard thing to take all of this onus to do all of this on yourself, especially as you were to go and just blurt it out back at the person, tell them about your frustration. Well, you will get what we normally get, an escalation of conflict, defensiveness and no resolution. You really want to resolve it if you really want to grow this relationship. Might be an intimate relationship, might be a professional relationship, might be inter like a family relationship, might be a friendship, might be whatever it could be.\\xa0(01:37:30):\\nThis can happen anywhere. Then it is important to go through these steps, take some time, calm down, go through your steps and craft a way that you will approach them so to minimize the chance of that they\\'ll get defensive. Example, let\\'s say you are married, you have kids and your spouse said something in front of the kids, for example, you told the kids that they can have ice cream and they were already getting their stuff together as in preparing to go have ice cream. And then later on you find out that your spouse told them that they can\\'t have ice cream and that, that\\'s a bad idea that they\\'ll get sick or that they don\\'t haven\\'t deserved it or whatever else. So the action is that your spouse told the kids that they can\\'t have ice cream.\\xa0(01:38:24):\\nThe effect it had on you is you feel your reputation or your influence, or kind of the way the kids see you has now been affected. That they see you as less important, or they see you as a liar, or they see you as somebody who promises and can\\'t deliver on their promise. Now, they trust you less maybe. You feel they trust you less, or you feel embarrassed in front of them or you feel you\\'ve lost some... Basically I forgot the exact word, but you\\'ve lost some reputation or their parenting strength in front of them. So you feel bad about that. You feel like, \"How dare my spouse do that to me? And I feel like I am less important in the kids\\' eyes than her or him. Right, and then my intimate partner how\\'s that? That\\'s not fair. They wanted to do that.\" Right?\\xa0(01:39:20):\\nSo then that\\'s then we come to your assumption that your spouse intentionally was scheming or knew that this effect would happen and they wanted you to lose that reputation or authority. That\\'s the word I was looking for. You lost authority. You feel you lost authority in front of the kids and now your assumption is that when your spouse took that action about telling them they can\\'t have ice cream, they wanted or they understood that you would lose authority and they wanted you to feel that way, and they wanted you to actually lose that authority. So, that\\'s step three. Step four is to understand, so that\\'s the whole conflict, right? We can go through the steps. Basically step one is that the action was to tell them that they can\\'t have ice cream. It\\'s effect had that you felt you lost authority in front of the kids. Step three, and you felt embarrassed and step three is okay, assumptions. So what\\'s the assumption I have? My assumption is that my spouse intended for me to lose authority and feel embarrassed in front of the kids.\\xa0(01:40:18):\\nStep four will be now, let\\'s accept, let\\'s appreciate for a second that this assumption that the spouse wanted or desired, intended for me to feel embarrassed in front of the kids or lose authority in their eyes that, that assumption that they had that intention is maybe correct, maybe partially correct, but also could be incorrect. Right? And as long as I appreciate that makes me stop and think, huh? There\\'s a possibility, there\\'s a slight chance. It might it\\'s just an assumption. It\\'s not the truth, not the ground truth. Maybe it\\'s a cognitive bias leading me to believe that. This is possibility it could be incorrect. Let me investigate that further.\\xa0(01:41:01):\\nAnd step five is to craft that, how are you going to communicate? So really think through how am I going to communicate with my spouse to tell him or her that... Tell them that this is how I feel and to resolve and understand why they did that. So a way I would do it. It\\'s that let me try. I\\'m not an expert on this. I\\'m just learning. This is a hypothetical example.\\xa0(01:41:20):\\nBut the way I would go about it, I guess is I would go and say, \"Hey dear, I would like to talk to you about something. You may have not noticed this, but earlier today you told the kids that they can\\'t have ice cream. Well, a few hours prior to that, I had told them that they can have ice cream and they were very excited, pumped up to go and have their ice cream. And when you told... After I found out that you told them they can\\'t have ice cream, I felt like my authority in front of them has been shaken and also I felt a bit embarrassed in front of them because I promised them something that they couldn\\'t have in the end. And I just wanted to let you know that\\'s how I felt and could you please help for me to understand where were you coming from when you told them that they can\\'t have the ice cream so that I just want to understand what you were going through and what went into that action, what was behind that action? It would really help me process this situation and understand my feelings better.\"\\xa0(01:42:29):\\nSo if you approach it that way, it\\'s much less... Compare it to this, for example, \"Honey, earlier today I told the kids they\\'re going to have ice cream. Well actually, I told them that they could have ice cream. So why are you undermining my authority? Why are you making me embarrassed in front of the kids? I feel embarrassed in front of them now. And why are you undermining my authority in front of the kids? We\\'re supposed to have equal authority. We\\'re supposed to discuss these decisions. It doesn\\'t work. It\\'s not going to work if you\\'re going to be constantly telling them the opposite of what I say. That\\'s bad parenting and I don\\'t understand why this has happened. Can you please clarify for me.\" Then compare the first and the second. In the second, what are the chances big props to your spouse if they managed to take that, process it calmly, patiently, and actually communicate with you well.\\xa0(01:43:20):\\nYou\\'re really reducing the chances speaking of statistics and math and things like that, you\\'re really minimizing the chances that there\\'ll be a productive conversation. Most likely you\\'re going to blow up and like, \"I\\'m undermining your authority? How come you told them that he could have authority before we discussed it? Or I didn\\'t even know you told them they could have ice cream,\" blah and so on and that just going to escalate. So that\\'s the second one and the first one, much calmer or much more humble, much more focusing on me, say, talking about my feelings, talking about no you, minimal you statements, talking about my feelings, about what I\\'m going through, how this information will help me process this and whatever else help us better communicate. Things like that.\\xa0(01:44:07):\\nIn the first case, still there\\'s a chance that the spouse might blow up to that. But the chance is less. There\\'s a higher chance now that they will really appreciate the way you\\'re coming to them and the openness that you\\'re trying to create, an open communication channel that you\\'re trying to resolve some inner conflict, some inner disbalance, disarming that you\\'re going through. And as a result, they\\'re much more likely to communicate with you well. So the whole idea of this approach is to see that effect doesn\\'t equal intention, that we have a cognitive bias to extrapolate the effect on the intention, but it doesn\\'t necessarily equal intention, that we have assumptions in our head and also finally, to have good loving, productive... Doesn\\'t mean if it\\'s not an intimate relationship, it doesn\\'t have to be loving but useful communication between people to resolve this conflict.\\xa0(01:45:14):\\nSo that\\'s I think a very cool thought and as a call to action here, you can pause the audio or after you listen to this whole podcast, so think about... A call to action is to think about an example of when you were triggered, recently when you were triggered by something, whether you did address it with the person, or you didn\\'t address it with the other person to go through these five steps, understand what the action was, what the effect was in you, the stand that you had, what was the assumption that you made? Appreciate that the assumption might be correct, incorrect, correct partially or incorrect. And finally, to come up with a text like a phrase, and actually say it out loud just for practice sake. A text or a way of addressing the other person that would minimize the desire of them to respond in defensive way.\\xa0(01:46:03):\\nSo you want to liberate them of that desire, that temptation to respond. It\\'s not a temptation. It\\'s like a, minimize the chances of them responding in defensive way. Okay. So, that was number six. And finally, to number seven to finish it off, I think this one\\'s going to be a quick one. Do not take things personally. So it\\'s kind of actually linked to that previous one, that when somebody tells you something like how they\\'re feeling, it\\'s kind of it\\'s linked to the previous one in the sense that you are on the receiving end of some comment like, \"I\\'m feeling upset because you did this,\" or, \"I\\'m feeling frustrated with you because of this,\" or, \"When you do this, it makes me feel like that,\" right? The learning I had this year was that when something like that happens, it\\'s very easy to get defensive. Right?\\xa0(01:46:59):\\nSo again, it\\'s very... It\\'s exactly, it\\'s the same as number six, but on the... It\\'s not, well, it\\'s the same scenario six, but you\\'re on the receiving end. So what happens when somebody comes and talks to us like that we get triggered. We get defensive like, \"Oh, but I didn\\'t want to...\" Let\\'s continue with the same example, \"I didn\\'t want to undermine your authority with the kids. That wasn\\'t my intention. I just want them to be healthy. I just... Because they had ice cream yesterday, I really believe it\\'s too much ice cream or that ice cream place I read on the news that they had an outbreak of...\" I was going to say cholera. I don\\'t know. Salmonella or something like that. Or, \"They had guitar practice that they need to go and do and you forgot about that guitar practice,\" or whatever else.\\xa0(01:47:44):\\nSo it triggers when somebody comes up to me and says that you doing this caused me to feel this way, or because of you or even worse if they come up and say, \"Because of you, I feel this way,\" or, \"You made me feel this way,\" I get triggered to get defensive and to protect my position and tell them how, \"No, my intentions were this,\" and clarify and so on and in most cases in a defensive way or maybe sometimes in a more loving way, but still it triggers me to be defensive. The thing here is that... I asked my psychologist this question. When is it worthwhile? When should you take something personally? This is exactly what she said.\\xa0(01:48:27):\\nShe said, \"The only time you should take something personally if somebody is physically harming you. If it\\'s just words, if they\\'re saying words to you, you never should take things personally.\" You should get to a point in your personal growth that you don\\'t... You just... It\\'s hard of course, we\\'re all human. But the goal is to not take anything they say personally, anything anybody says personally. That\\'s anything anybody says, that\\'s their opinion. That\\'s their perspective on life.\\xa0(01:49:00):\\nThat\\'s how they\\'re interpreting things that are happening, whether it\\'s my actions or my words, or it\\'s something else that\\'s going on. There\\'s a framework by Tony Robbins that events lead to meaning, meaning leads to emotion, emotion leads to decision, decision needs to action, action leads to life. And this meaning, how do people give meaning to things? Well, it comes from how they were brought up through their cultural unique, things that are unique to their culture, through their nature like what kind of person they are through a lot of things that were put into their heads by their parents, by their people around them when they were between zero and nine years old and maybe a bit older than that.\\xa0(01:49:45):\\nBut a lot of it comes from early childhood. So the way people interpret things is different. So I might say something that to me sounds nice like, \"You look beautiful in that dress,\" and that other person might interpret that as a critique or an attack or they might interpret it as, \"Well, what is he saying? He\\'s saying I look beautiful in that dress, but I don\\'t look beautiful in other dresses. I don\\'t look beautiful just as I am as a human being. I have to have that dress to be beautiful.\" Anything you say can be interpreted in so many different ways and you put something good into something you\\'re saying or doing not letting the kids have ice cream. The other person is interpreting it as an attack on their authority in front of the kids, or that you wanted to make them feel embarrassed in front of the kids, or that you wanted to put them down.\\xa0(01:50:41):\\nYou wanted to be the better parent or that you wanted the kids to understand who\\'s the boss in the house or something like that. So many things can be interpreted. That the important thing to remember that I\\'ve realized for myself is that I guess in most things, if not all things I do, I have pure intentions. I have good intentions, pure intentions. I\\'m not here to harm anybody. I\\'m not here to put anybody down. I\\'m not here to harm anybody\\'s authority or tell people that they\\'re not beautiful or whatever else. Of course, we all have times when we say nasty things in a fleet or a moment, or and those times are worth, are important to apologize for and recognize it and eradicate from your life. But overall in 95% of the cases I\\'m just trying to be a good person.\\xa0(01:51:29):\\nAnd if somebody is coming to me and saying that you made me feel bad, or you did this, or you did... And because of that I feel like this that\\'s on them. That\\'s not me who\\'s causing. It\\'s not my intention to cause him the effect things have on them. I\\'m happy to hear out what effect it had on them. And I\\'m happy to clarify like in the previous example, if they come in a very calm manner and they explain how they feel, I\\'m more than happy. I want to have this open communication, but more importantly, this seventh learning for me is that even if they come with an attack at me, I need to be able to calm myself down and see beyond that attack. Right? The attack is because of the cognitive bias that the effect they received, they think that, that was the intention I put behind it.\\xa0(01:52:26):\\nIf I see beyond that, if I let myself be calm and not get triggered and not get defensive, then I can help resolve this conflict. I can help clarify without having to apologize. I don\\'t believe in apologizing for something that you didn\\'t... It wasn\\'t a mistake. It\\'s just the other person is interpreting it differently. I\\'m happy to talk about it. I\\'m happy to clarify it. But I think excessively apologizing for everything leads people to feel entitled that they are always being hurt, that they\\'re always being wronged and that everybody owes them an apology. I don\\'t believe in that. I believe that I don\\'t think that, that\\'s a good thing. I don\\'t think... I think that\\'s enabling people to be more victims all the time.\\xa0(01:53:16):\\nI think if you do something wrong, definitely apologize for it. But if your intentions are pure or if your intentions are pure and you through pure intentions, you did something but it was a mistake in the end it turned out there was an error somewhere, a mistake or an on the side, like oversight or something then again, you\\'re going to apologize. But if it\\'s just the other person\\'s interpretation of something, then the right thing to do is to clarify it for them to be like, \"Oh, I see. Thank you for sharing that with me.\"\\xa0(01:53:48):\\nEven if they come in an attacking accusatory way, the key here is to not take it personally and to be like, \"Thank you for sharing that with me. I see you going through emotional stress or that it\\'s really affected you. Would you like me to clarify what I actually meant? What my intentions were behind this, the meaning I put into it? Would that be helpful?\" And then if the person says yes, then you clarify it for them and then I tell them, \"Well, actually this is what I meant. I meant that this dress looks fantastic on you and it has nothing to do with how you look in other dress. I think you\\'re beautiful and you look amazing in ages, but specifically this dress, I just wanted to point out how great you look today.\"\\xa0(01:54:28):\\nOr in the kids example, it might be like, \"Honey, I\\'m not trying to undermine your authority. The intention I had behind this is that they actually had piano lessons and I think that, that was an important thing for them to go and I wanted to remind them that, hey, they need to go to the piano lesson.\" Or, \"I read in the news that there was an outbreak of salmonella at this ice cream parlor or I didn\\'t know. I honestly didn\\'t know you had told them they can have ice cream. Sorry I did it.\" So in this case, it\\'s kind of a mistake, right? So in this case, \" Sorry, I didn\\'t check with you first or ask them why they thought they could have ice cream. Definitely should have checked and thanks for bringing that to my attention. Please don\\'t take it as I was trying to undermine your authority, just didn\\'t know.\\xa0(01:55:12):\\nBoom, everything really like a conflict resolved. The more we can do this, whether with number six, doing those five steps and addressing replaces, separating effect from intention and addressing somebody appropriately to minimize the chance to get defensive or this number seven, where we ourselves don\\'t take things personally and we ourselves minimize our chances of getting defensive when somebody comes to us, the more we can do this, the less conflict we\\'ll have in our lives and the more harmonious our relationships will be. So there we go. We are done with number seven which was do not take things personally. Very interesting how these two, six and seven come hand in hand. I just realized that as when I was writing them down a few days ago, I write them down throughout the year.\\xa0(01:56:01):\\nI\\'ve been writing them down throughout the year. But as I was compiling them into the top seven, I realized that they kind of go hand in hand, but I only realize how much they go hand in hand. That it\\'s the same example. It\\'s symmetrical just now while I was speaking through it. So, hopefully it will be helpful and you maybe will find some value in this too also. I can\\'t say also because that would imply that I am having less conflict. I feel I\\'m having less conflict or I\\'m learning to have less conflict in my life, but I hope you will find some value in this to have less conflict in your life. So there we go. That\\'s my top seven learnings of 2020. Thank you very much for being here with me throughout this podcast. I know it\\'s been over an hour and they always go longer than that.\\xa0(01:56:48):\\nI don\\'t know what I was thinking when I was starting to record this and I said I\\'ll try and make it an hour or less or about an hour. I know kind of what I was thinking. I wanted to be somewhere, but then I realized that it\\'s just not going to happen. Thank you so much for today and also thank you so much for being here for the past four plus years. So over four years, it\\'s been a great, amazing, insightful, just fantastic journey for me. I wish to anybody if you ever looking for a great way to grow and challenge yourself and learn, and meet great people to start a podcast, I\\'ve had a fantastic time here and whether you listen to 100 episodes or listen to one episode, thank you from the bottom of my heart for being here, really pushes me forward and has pushed me forward and it\\'s just, it\\'s really nice.\\xa0(01:57:47):\\nI feel like I am, even though I\\'ve met a few people listening to this podcast, but nowhere near to everybody, but I still feel a connection. I don\\'t know how, but I feel a connection. So, thank you so much, and best of luck. I\\'ll be around and there\\'s of course ways you can stay in touch, get in touch, maybe on LinkedIn, maybe some other ways. Maybe we\\'ll meet one day in life, in person and best of luck to you for everything, amazing growth, amazing learnings in the future, and lots of love, joy and peace is what I wish you in this life. And I can\\'t wait for you to meet Jon and to see what kind of podcast host Jon is going to be for you in the future. Once again, thank you so much and I\\'ll see you next time. Until then, happy analyzing.'"
      ]
     },
     "execution_count": 15,
     "metadata": {},
     "output_type": "execute_result"
    }
   ],
   "source": [
    "sds['text_episode'].loc[429]"
   ]
  },
  {
   "cell_type": "code",
   "execution_count": 16,
   "id": "3982a396",
   "metadata": {},
   "outputs": [],
   "source": [
    "\n",
    "# Add a new column host_episode to sds dataframe\n",
    "sds['host_episode'] = 'Kirril Eremenko'  # Set initial value to 'Kirril Eremenko '\n",
    "\n",
    "# Set value to 'Jon Krohn' from column 430 to 677\n",
    "sds.loc[430:677, 'host_episode'] = 'Jon Krohn'\n"
   ]
  },
  {
   "cell_type": "code",
   "execution_count": 17,
   "id": "05ac155f",
   "metadata": {},
   "outputs": [
    {
     "data": {
      "text/plain": [
       "episode_name                              Managing Imposter Syndrome\n",
       "length_episode                                                     5\n",
       "context_episode                                         Data Science\n",
       "guest_name                                                Jon Krohn \n",
       "guest_info         Subscribe on Website, Apple Podcasts, Spotify,...\n",
       "text_episode       (00:05):\\nThis is Five-Minute Friday on Managi...\n",
       "episode_number                                                   502\n",
       "episode_date                                            Sep 01, 2021\n",
       "episode_day                                                Wednesday\n",
       "host_episode                                               Jon Krohn\n",
       "Name: 500, dtype: object"
      ]
     },
     "execution_count": 17,
     "metadata": {},
     "output_type": "execute_result"
    }
   ],
   "source": [
    "sds.loc[500]"
   ]
  },
  {
   "cell_type": "code",
   "execution_count": 18,
   "id": "164ce546",
   "metadata": {},
   "outputs": [
    {
     "data": {
      "text/html": [
       "<div>\n",
       "<style scoped>\n",
       "    .dataframe tbody tr th:only-of-type {\n",
       "        vertical-align: middle;\n",
       "    }\n",
       "\n",
       "    .dataframe tbody tr th {\n",
       "        vertical-align: top;\n",
       "    }\n",
       "\n",
       "    .dataframe thead th {\n",
       "        text-align: right;\n",
       "    }\n",
       "</style>\n",
       "<table border=\"1\" class=\"dataframe\">\n",
       "  <thead>\n",
       "    <tr style=\"text-align: right;\">\n",
       "      <th></th>\n",
       "      <th>episode_name</th>\n",
       "      <th>length_episode</th>\n",
       "      <th>context_episode</th>\n",
       "      <th>guest_name</th>\n",
       "      <th>guest_info</th>\n",
       "      <th>text_episode</th>\n",
       "      <th>episode_number</th>\n",
       "      <th>episode_date</th>\n",
       "      <th>episode_day</th>\n",
       "      <th>host_episode</th>\n",
       "    </tr>\n",
       "  </thead>\n",
       "  <tbody>\n",
       "    <tr>\n",
       "      <th>0</th>\n",
       "      <td>Ruben Kogel on Self-Serve Analytics, R vs Pyt...</td>\n",
       "      <td>42</td>\n",
       "      <td>Business Data Science Database</td>\n",
       "      <td>Ruben Kogel</td>\n",
       "      <td>Subscribe on Website, Apple Podcasts, Spotify,...</td>\n",
       "      <td>Kirill: This is episode number one with ex-che...</td>\n",
       "      <td>1</td>\n",
       "      <td>Sep 10, 2016</td>\n",
       "      <td>Saturday</td>\n",
       "      <td>Kirril Eremenko</td>\n",
       "    </tr>\n",
       "    <tr>\n",
       "      <th>1</th>\n",
       "      <td>Machine Learning, Recommender Systems and the...</td>\n",
       "      <td>51</td>\n",
       "      <td>Machine Learning Data Science</td>\n",
       "      <td>Hadelin de Ponteves</td>\n",
       "      <td>Subscribe on Website, Apple Podcasts, Spotify,...</td>\n",
       "      <td>Kirill: This is session number two with machin...</td>\n",
       "      <td>2</td>\n",
       "      <td>Sep 14, 2016</td>\n",
       "      <td>Wednesday</td>\n",
       "      <td>Kirril Eremenko</td>\n",
       "    </tr>\n",
       "    <tr>\n",
       "      <th>2</th>\n",
       "      <td>Defining the Data Problem, Data Science in Ma...</td>\n",
       "      <td>53</td>\n",
       "      <td>Machine Learning R Programming Data Science</td>\n",
       "      <td>Dr. Wilson Pok</td>\n",
       "      <td>Subscribe on Website, Apple Podcasts, Spotify,...</td>\n",
       "      <td>Kirill:\\tThis is episode number three with Nan...</td>\n",
       "      <td>3</td>\n",
       "      <td>Sep 25, 2016</td>\n",
       "      <td>Sunday</td>\n",
       "      <td>Kirril Eremenko</td>\n",
       "    </tr>\n",
       "    <tr>\n",
       "      <th>3</th>\n",
       "      <td>Data and Strategy, three Pillars of Research ...</td>\n",
       "      <td>60</td>\n",
       "      <td>Business Data Science</td>\n",
       "      <td>Brendan Hogan</td>\n",
       "      <td>Subscribe on Website, Apple Podcasts, Spotify,...</td>\n",
       "      <td>Kirill: This is episode four with business str...</td>\n",
       "      <td>4</td>\n",
       "      <td>Oct 02, 2016</td>\n",
       "      <td>Sunday</td>\n",
       "      <td>Kirril Eremenko</td>\n",
       "    </tr>\n",
       "    <tr>\n",
       "      <th>4</th>\n",
       "      <td>Computer Forensics, Fraud Analytics and knowi...</td>\n",
       "      <td>63</td>\n",
       "      <td>Data Science</td>\n",
       "      <td>Dmitry Korneev</td>\n",
       "      <td>Subscribe on Website, Apple Podcasts, Spotify,...</td>\n",
       "      <td>Kirill:\\tThis is episode number five with fore...</td>\n",
       "      <td>5</td>\n",
       "      <td>Oct 09, 2016</td>\n",
       "      <td>Sunday</td>\n",
       "      <td>Kirril Eremenko</td>\n",
       "    </tr>\n",
       "    <tr>\n",
       "      <th>...</th>\n",
       "      <td>...</td>\n",
       "      <td>...</td>\n",
       "      <td>...</td>\n",
       "      <td>...</td>\n",
       "      <td>...</td>\n",
       "      <td>...</td>\n",
       "      <td>...</td>\n",
       "      <td>...</td>\n",
       "      <td>...</td>\n",
       "      <td>...</td>\n",
       "    </tr>\n",
       "    <tr>\n",
       "      <th>673</th>\n",
       "      <td>Pandas for Data Analysis and Visualization</td>\n",
       "      <td>69</td>\n",
       "      <td>Data Science Data Visualization</td>\n",
       "      <td>Stefanie Molin</td>\n",
       "      <td>Subscribe on Website, Apple Podcasts, Spotify,...</td>\n",
       "      <td>Jon Krohn:\\t00:00:00\\tThis is episode number 6...</td>\n",
       "      <td>675</td>\n",
       "      <td>May 02, 2023</td>\n",
       "      <td>Tuesday</td>\n",
       "      <td>Jon Krohn</td>\n",
       "    </tr>\n",
       "    <tr>\n",
       "      <th>674</th>\n",
       "      <td>The Chinchilla Scaling Laws</td>\n",
       "      <td>13</td>\n",
       "      <td>Data Science Artificial Intelligence</td>\n",
       "      <td>Jon Krohn</td>\n",
       "      <td>Subscribe on Website, Apple Podcasts, Spotify,...</td>\n",
       "      <td>(00:06):\\nThis is Five-Minute Friday on the Ch...</td>\n",
       "      <td>676</td>\n",
       "      <td>May 05, 2023</td>\n",
       "      <td>Friday</td>\n",
       "      <td>Jon Krohn</td>\n",
       "    </tr>\n",
       "    <tr>\n",
       "      <th>675</th>\n",
       "      <td>Digital Analytics with Avinash Kaushik</td>\n",
       "      <td>88</td>\n",
       "      <td>Business Data Science</td>\n",
       "      <td>Avinash Kaushik</td>\n",
       "      <td>Subscribe on Website, Apple Podcasts, Spotify,...</td>\n",
       "      <td>Jon Krohn:\\t00:00:00\\tThis is episode number 6...</td>\n",
       "      <td>677</td>\n",
       "      <td>May 09, 2023</td>\n",
       "      <td>Tuesday</td>\n",
       "      <td>Jon Krohn</td>\n",
       "    </tr>\n",
       "    <tr>\n",
       "      <th>676</th>\n",
       "      <td>StableLM</td>\n",
       "      <td>12</td>\n",
       "      <td>Data Science Artificial Intelligence</td>\n",
       "      <td>Jon Krohn</td>\n",
       "      <td>Subscribe on Website, Apple Podcasts, Spotify,...</td>\n",
       "      <td>(00:02):\\nThis is Five-Minute Friday on Stable...</td>\n",
       "      <td>678</td>\n",
       "      <td>May 12, 2023</td>\n",
       "      <td>Friday</td>\n",
       "      <td>Jon Krohn</td>\n",
       "    </tr>\n",
       "    <tr>\n",
       "      <th>677</th>\n",
       "      <td>The A.I. and Machine Learning Landscape, with...</td>\n",
       "      <td>94</td>\n",
       "      <td>Business Data Science Artificial Intelligence</td>\n",
       "      <td>George Mathew</td>\n",
       "      <td>Subscribe on Website, Apple Podcasts, Spotify,...</td>\n",
       "      <td>Jon Krohn:\\t00:00:00This is episode number 679...</td>\n",
       "      <td>679</td>\n",
       "      <td>May 16, 2023</td>\n",
       "      <td>Tuesday</td>\n",
       "      <td>Jon Krohn</td>\n",
       "    </tr>\n",
       "  </tbody>\n",
       "</table>\n",
       "<p>678 rows × 10 columns</p>\n",
       "</div>"
      ],
      "text/plain": [
       "                                          episode_name  length_episode  \\\n",
       "0     Ruben Kogel on Self-Serve Analytics, R vs Pyt...              42   \n",
       "1     Machine Learning, Recommender Systems and the...              51   \n",
       "2     Defining the Data Problem, Data Science in Ma...              53   \n",
       "3     Data and Strategy, three Pillars of Research ...              60   \n",
       "4     Computer Forensics, Fraud Analytics and knowi...              63   \n",
       "..                                                 ...             ...   \n",
       "673         Pandas for Data Analysis and Visualization              69   \n",
       "674                        The Chinchilla Scaling Laws              13   \n",
       "675             Digital Analytics with Avinash Kaushik              88   \n",
       "676                                           StableLM              12   \n",
       "677   The A.I. and Machine Learning Landscape, with...              94   \n",
       "\n",
       "                                   context_episode             guest_name  \\\n",
       "0                   Business Data Science Database           Ruben Kogel    \n",
       "1                    Machine Learning Data Science   Hadelin de Ponteves    \n",
       "2      Machine Learning R Programming Data Science        Dr. Wilson Pok    \n",
       "3                            Business Data Science         Brendan Hogan    \n",
       "4                                     Data Science        Dmitry Korneev    \n",
       "..                                             ...                    ...   \n",
       "673                Data Science Data Visualization        Stefanie Molin    \n",
       "674           Data Science Artificial Intelligence             Jon Krohn    \n",
       "675                          Business Data Science       Avinash Kaushik    \n",
       "676           Data Science Artificial Intelligence             Jon Krohn    \n",
       "677  Business Data Science Artificial Intelligence         George Mathew    \n",
       "\n",
       "                                            guest_info  \\\n",
       "0    Subscribe on Website, Apple Podcasts, Spotify,...   \n",
       "1    Subscribe on Website, Apple Podcasts, Spotify,...   \n",
       "2    Subscribe on Website, Apple Podcasts, Spotify,...   \n",
       "3    Subscribe on Website, Apple Podcasts, Spotify,...   \n",
       "4    Subscribe on Website, Apple Podcasts, Spotify,...   \n",
       "..                                                 ...   \n",
       "673  Subscribe on Website, Apple Podcasts, Spotify,...   \n",
       "674  Subscribe on Website, Apple Podcasts, Spotify,...   \n",
       "675  Subscribe on Website, Apple Podcasts, Spotify,...   \n",
       "676  Subscribe on Website, Apple Podcasts, Spotify,...   \n",
       "677  Subscribe on Website, Apple Podcasts, Spotify,...   \n",
       "\n",
       "                                          text_episode  episode_number  \\\n",
       "0    Kirill: This is episode number one with ex-che...               1   \n",
       "1    Kirill: This is session number two with machin...               2   \n",
       "2    Kirill:\\tThis is episode number three with Nan...               3   \n",
       "3    Kirill: This is episode four with business str...               4   \n",
       "4    Kirill:\\tThis is episode number five with fore...               5   \n",
       "..                                                 ...             ...   \n",
       "673  Jon Krohn:\\t00:00:00\\tThis is episode number 6...             675   \n",
       "674  (00:06):\\nThis is Five-Minute Friday on the Ch...             676   \n",
       "675  Jon Krohn:\\t00:00:00\\tThis is episode number 6...             677   \n",
       "676  (00:02):\\nThis is Five-Minute Friday on Stable...             678   \n",
       "677  Jon Krohn:\\t00:00:00This is episode number 679...             679   \n",
       "\n",
       "     episode_date episode_day     host_episode  \n",
       "0    Sep 10, 2016    Saturday  Kirril Eremenko  \n",
       "1    Sep 14, 2016   Wednesday  Kirril Eremenko  \n",
       "2    Sep 25, 2016      Sunday  Kirril Eremenko  \n",
       "3    Oct 02, 2016      Sunday  Kirril Eremenko  \n",
       "4    Oct 09, 2016      Sunday  Kirril Eremenko  \n",
       "..            ...         ...              ...  \n",
       "673  May 02, 2023     Tuesday        Jon Krohn  \n",
       "674  May 05, 2023      Friday        Jon Krohn  \n",
       "675  May 09, 2023     Tuesday        Jon Krohn  \n",
       "676  May 12, 2023      Friday        Jon Krohn  \n",
       "677  May 16, 2023     Tuesday        Jon Krohn  \n",
       "\n",
       "[678 rows x 10 columns]"
      ]
     },
     "execution_count": 18,
     "metadata": {},
     "output_type": "execute_result"
    }
   ],
   "source": [
    "sds"
   ]
  },
  {
   "cell_type": "code",
   "execution_count": 114,
   "id": "dc08039d",
   "metadata": {},
   "outputs": [],
   "source": [
    "# Function to split the text over the rows\n",
    "\n",
    "def text_split(df, column):\n",
    "    \n",
    "    sds_index = column.str.findall('(?:^|\\\\xa0|(?:\\\\n)+)([A-Za-z\\s]+):').explode().to_frame()\n",
    "    sds_index['episode_index'] = 1 \n",
    "    sds_index['episode_index'] = sds_index.groupby(sds_index.index)['episode_index'].cumsum()\n",
    "    sds_index = sds_index.reset_index().set_index(['index','episode_index']).rename(columns = {column.name :'speaker'})\n",
    "    #sds_index\n",
    "    split_text = column.str.split('(?:^|\\\\xa0|(?:\\\\n)+)[A-Za-z\\s]+:', expand = True).stack().to_frame()#.droplevel(-1)\n",
    "    \n",
    "    split_text.index = split_text.index.rename(sds_index.index.names)\n",
    "    #return sds_index,split_text \n",
    "    sds_index = sds_index.merge(split_text, left_index = True, right_index=True, how = 'right').droplevel(-1)\n",
    "    return df.merge(sds_index,left_index=True, right_index=True)\n"
   ]
  },
  {
   "cell_type": "code",
   "execution_count": 115,
   "id": "87d2a88d",
   "metadata": {},
   "outputs": [],
   "source": [
    "\n",
    "sds_text = text_split(sds, sds['text_episode'])"
   ]
  },
  {
   "cell_type": "code",
   "execution_count": 116,
   "id": "6e0193e1",
   "metadata": {},
   "outputs": [
    {
     "data": {
      "text/html": [
       "<div>\n",
       "<style scoped>\n",
       "    .dataframe tbody tr th:only-of-type {\n",
       "        vertical-align: middle;\n",
       "    }\n",
       "\n",
       "    .dataframe tbody tr th {\n",
       "        vertical-align: top;\n",
       "    }\n",
       "\n",
       "    .dataframe thead th {\n",
       "        text-align: right;\n",
       "    }\n",
       "</style>\n",
       "<table border=\"1\" class=\"dataframe\">\n",
       "  <thead>\n",
       "    <tr style=\"text-align: right;\">\n",
       "      <th></th>\n",
       "      <th>episode_name</th>\n",
       "      <th>length_episode</th>\n",
       "      <th>context_episode</th>\n",
       "      <th>guest_name</th>\n",
       "      <th>guest_info</th>\n",
       "      <th>text_episode</th>\n",
       "      <th>episode_number</th>\n",
       "      <th>episode_date</th>\n",
       "      <th>episode_day</th>\n",
       "      <th>host_episode</th>\n",
       "      <th>speaker</th>\n",
       "      <th>0</th>\n",
       "    </tr>\n",
       "  </thead>\n",
       "  <tbody>\n",
       "    <tr>\n",
       "      <th>677</th>\n",
       "      <td>The A.I. and Machine Learning Landscape, with...</td>\n",
       "      <td>94</td>\n",
       "      <td>Business Data Science Artificial Intelligence</td>\n",
       "      <td>George Mathew</td>\n",
       "      <td>Subscribe on Website, Apple Podcasts, Spotify,...</td>\n",
       "      <td>Jon Krohn:\\t00:00:00This is episode number 679...</td>\n",
       "      <td>679</td>\n",
       "      <td>May 16, 2023</td>\n",
       "      <td>Tuesday</td>\n",
       "      <td>Jon Krohn</td>\n",
       "      <td>NaN</td>\n",
       "      <td></td>\n",
       "    </tr>\n",
       "    <tr>\n",
       "      <th>677</th>\n",
       "      <td>The A.I. and Machine Learning Landscape, with...</td>\n",
       "      <td>94</td>\n",
       "      <td>Business Data Science Artificial Intelligence</td>\n",
       "      <td>George Mathew</td>\n",
       "      <td>Subscribe on Website, Apple Podcasts, Spotify,...</td>\n",
       "      <td>Jon Krohn:\\t00:00:00This is episode number 679...</td>\n",
       "      <td>679</td>\n",
       "      <td>May 16, 2023</td>\n",
       "      <td>Tuesday</td>\n",
       "      <td>Jon Krohn</td>\n",
       "      <td>Jon Krohn</td>\n",
       "      <td>\\t00:00:00This is episode number 679 with Geor...</td>\n",
       "    </tr>\n",
       "    <tr>\n",
       "      <th>677</th>\n",
       "      <td>The A.I. and Machine Learning Landscape, with...</td>\n",
       "      <td>94</td>\n",
       "      <td>Business Data Science Artificial Intelligence</td>\n",
       "      <td>George Mathew</td>\n",
       "      <td>Subscribe on Website, Apple Podcasts, Spotify,...</td>\n",
       "      <td>Jon Krohn:\\t00:00:00This is episode number 679...</td>\n",
       "      <td>679</td>\n",
       "      <td>May 16, 2023</td>\n",
       "      <td>Tuesday</td>\n",
       "      <td>Jon Krohn</td>\n",
       "      <td>George Mathew</td>\n",
       "      <td>\\t00:02:46\\tJon.</td>\n",
       "    </tr>\n",
       "    <tr>\n",
       "      <th>677</th>\n",
       "      <td>The A.I. and Machine Learning Landscape, with...</td>\n",
       "      <td>94</td>\n",
       "      <td>Business Data Science Artificial Intelligence</td>\n",
       "      <td>George Mathew</td>\n",
       "      <td>Subscribe on Website, Apple Podcasts, Spotify,...</td>\n",
       "      <td>Jon Krohn:\\t00:00:00This is episode number 679...</td>\n",
       "      <td>679</td>\n",
       "      <td>May 16, 2023</td>\n",
       "      <td>Tuesday</td>\n",
       "      <td>Jon Krohn</td>\n",
       "      <td>Jon Krohn</td>\n",
       "      <td>\\t00:02:46\\tWelcome to the SuperDataScience po...</td>\n",
       "    </tr>\n",
       "    <tr>\n",
       "      <th>677</th>\n",
       "      <td>The A.I. and Machine Learning Landscape, with...</td>\n",
       "      <td>94</td>\n",
       "      <td>Business Data Science Artificial Intelligence</td>\n",
       "      <td>George Mathew</td>\n",
       "      <td>Subscribe on Website, Apple Podcasts, Spotify,...</td>\n",
       "      <td>Jon Krohn:\\t00:00:00This is episode number 679...</td>\n",
       "      <td>679</td>\n",
       "      <td>May 16, 2023</td>\n",
       "      <td>Tuesday</td>\n",
       "      <td>Jon Krohn</td>\n",
       "      <td>George Mathew</td>\n",
       "      <td>\\t00:02:58\\tThank you, Jon. It's a pleasure to...</td>\n",
       "    </tr>\n",
       "    <tr>\n",
       "      <th>...</th>\n",
       "      <td>...</td>\n",
       "      <td>...</td>\n",
       "      <td>...</td>\n",
       "      <td>...</td>\n",
       "      <td>...</td>\n",
       "      <td>...</td>\n",
       "      <td>...</td>\n",
       "      <td>...</td>\n",
       "      <td>...</td>\n",
       "      <td>...</td>\n",
       "      <td>...</td>\n",
       "      <td>...</td>\n",
       "    </tr>\n",
       "    <tr>\n",
       "      <th>677</th>\n",
       "      <td>The A.I. and Machine Learning Landscape, with...</td>\n",
       "      <td>94</td>\n",
       "      <td>Business Data Science Artificial Intelligence</td>\n",
       "      <td>George Mathew</td>\n",
       "      <td>Subscribe on Website, Apple Podcasts, Spotify,...</td>\n",
       "      <td>Jon Krohn:\\t00:00:00This is episode number 679...</td>\n",
       "      <td>679</td>\n",
       "      <td>May 16, 2023</td>\n",
       "      <td>Tuesday</td>\n",
       "      <td>Jon Krohn</td>\n",
       "      <td>Jon Krohn</td>\n",
       "      <td>\\t01:30:31\\tThat's a great one, George. And no...</td>\n",
       "    </tr>\n",
       "    <tr>\n",
       "      <th>677</th>\n",
       "      <td>The A.I. and Machine Learning Landscape, with...</td>\n",
       "      <td>94</td>\n",
       "      <td>Business Data Science Artificial Intelligence</td>\n",
       "      <td>George Mathew</td>\n",
       "      <td>Subscribe on Website, Apple Podcasts, Spotify,...</td>\n",
       "      <td>Jon Krohn:\\t00:00:00This is episode number 679...</td>\n",
       "      <td>679</td>\n",
       "      <td>May 16, 2023</td>\n",
       "      <td>Tuesday</td>\n",
       "      <td>Jon Krohn</td>\n",
       "      <td>George Mathew</td>\n",
       "      <td>\\t01:30:53Yeah, best way to follow me is of co...</td>\n",
       "    </tr>\n",
       "    <tr>\n",
       "      <th>677</th>\n",
       "      <td>The A.I. and Machine Learning Landscape, with...</td>\n",
       "      <td>94</td>\n",
       "      <td>Business Data Science Artificial Intelligence</td>\n",
       "      <td>George Mathew</td>\n",
       "      <td>Subscribe on Website, Apple Podcasts, Spotify,...</td>\n",
       "      <td>Jon Krohn:\\t00:00:00This is episode number 679...</td>\n",
       "      <td>679</td>\n",
       "      <td>May 16, 2023</td>\n",
       "      <td>Tuesday</td>\n",
       "      <td>Jon Krohn</td>\n",
       "      <td>Jon Krohn</td>\n",
       "      <td>\\t01:31:26\\tPhew I mean, the honor is all mine...</td>\n",
       "    </tr>\n",
       "    <tr>\n",
       "      <th>677</th>\n",
       "      <td>The A.I. and Machine Learning Landscape, with...</td>\n",
       "      <td>94</td>\n",
       "      <td>Business Data Science Artificial Intelligence</td>\n",
       "      <td>George Mathew</td>\n",
       "      <td>Subscribe on Website, Apple Podcasts, Spotify,...</td>\n",
       "      <td>Jon Krohn:\\t00:00:00This is episode number 679...</td>\n",
       "      <td>679</td>\n",
       "      <td>May 16, 2023</td>\n",
       "      <td>Tuesday</td>\n",
       "      <td>Jon Krohn</td>\n",
       "      <td>George Mathew</td>\n",
       "      <td>\\t01:31:50\\tThat's awesome. Looking forward to...</td>\n",
       "    </tr>\n",
       "    <tr>\n",
       "      <th>677</th>\n",
       "      <td>The A.I. and Machine Learning Landscape, with...</td>\n",
       "      <td>94</td>\n",
       "      <td>Business Data Science Artificial Intelligence</td>\n",
       "      <td>George Mathew</td>\n",
       "      <td>Subscribe on Website, Apple Podcasts, Spotify,...</td>\n",
       "      <td>Jon Krohn:\\t00:00:00This is episode number 679...</td>\n",
       "      <td>679</td>\n",
       "      <td>May 16, 2023</td>\n",
       "      <td>Tuesday</td>\n",
       "      <td>Jon Krohn</td>\n",
       "      <td>Jon Krohn</td>\n",
       "      <td>\\t01:31:53\\tNice. Wow, that was an exceptional...</td>\n",
       "    </tr>\n",
       "  </tbody>\n",
       "</table>\n",
       "<p>108 rows × 12 columns</p>\n",
       "</div>"
      ],
      "text/plain": [
       "                                          episode_name  length_episode  \\\n",
       "677   The A.I. and Machine Learning Landscape, with...              94   \n",
       "677   The A.I. and Machine Learning Landscape, with...              94   \n",
       "677   The A.I. and Machine Learning Landscape, with...              94   \n",
       "677   The A.I. and Machine Learning Landscape, with...              94   \n",
       "677   The A.I. and Machine Learning Landscape, with...              94   \n",
       "..                                                 ...             ...   \n",
       "677   The A.I. and Machine Learning Landscape, with...              94   \n",
       "677   The A.I. and Machine Learning Landscape, with...              94   \n",
       "677   The A.I. and Machine Learning Landscape, with...              94   \n",
       "677   The A.I. and Machine Learning Landscape, with...              94   \n",
       "677   The A.I. and Machine Learning Landscape, with...              94   \n",
       "\n",
       "                                   context_episode       guest_name  \\\n",
       "677  Business Data Science Artificial Intelligence   George Mathew    \n",
       "677  Business Data Science Artificial Intelligence   George Mathew    \n",
       "677  Business Data Science Artificial Intelligence   George Mathew    \n",
       "677  Business Data Science Artificial Intelligence   George Mathew    \n",
       "677  Business Data Science Artificial Intelligence   George Mathew    \n",
       "..                                             ...              ...   \n",
       "677  Business Data Science Artificial Intelligence   George Mathew    \n",
       "677  Business Data Science Artificial Intelligence   George Mathew    \n",
       "677  Business Data Science Artificial Intelligence   George Mathew    \n",
       "677  Business Data Science Artificial Intelligence   George Mathew    \n",
       "677  Business Data Science Artificial Intelligence   George Mathew    \n",
       "\n",
       "                                            guest_info  \\\n",
       "677  Subscribe on Website, Apple Podcasts, Spotify,...   \n",
       "677  Subscribe on Website, Apple Podcasts, Spotify,...   \n",
       "677  Subscribe on Website, Apple Podcasts, Spotify,...   \n",
       "677  Subscribe on Website, Apple Podcasts, Spotify,...   \n",
       "677  Subscribe on Website, Apple Podcasts, Spotify,...   \n",
       "..                                                 ...   \n",
       "677  Subscribe on Website, Apple Podcasts, Spotify,...   \n",
       "677  Subscribe on Website, Apple Podcasts, Spotify,...   \n",
       "677  Subscribe on Website, Apple Podcasts, Spotify,...   \n",
       "677  Subscribe on Website, Apple Podcasts, Spotify,...   \n",
       "677  Subscribe on Website, Apple Podcasts, Spotify,...   \n",
       "\n",
       "                                          text_episode  episode_number  \\\n",
       "677  Jon Krohn:\\t00:00:00This is episode number 679...             679   \n",
       "677  Jon Krohn:\\t00:00:00This is episode number 679...             679   \n",
       "677  Jon Krohn:\\t00:00:00This is episode number 679...             679   \n",
       "677  Jon Krohn:\\t00:00:00This is episode number 679...             679   \n",
       "677  Jon Krohn:\\t00:00:00This is episode number 679...             679   \n",
       "..                                                 ...             ...   \n",
       "677  Jon Krohn:\\t00:00:00This is episode number 679...             679   \n",
       "677  Jon Krohn:\\t00:00:00This is episode number 679...             679   \n",
       "677  Jon Krohn:\\t00:00:00This is episode number 679...             679   \n",
       "677  Jon Krohn:\\t00:00:00This is episode number 679...             679   \n",
       "677  Jon Krohn:\\t00:00:00This is episode number 679...             679   \n",
       "\n",
       "     episode_date episode_day host_episode        speaker  \\\n",
       "677  May 16, 2023     Tuesday    Jon Krohn            NaN   \n",
       "677  May 16, 2023     Tuesday    Jon Krohn      Jon Krohn   \n",
       "677  May 16, 2023     Tuesday    Jon Krohn  George Mathew   \n",
       "677  May 16, 2023     Tuesday    Jon Krohn      Jon Krohn   \n",
       "677  May 16, 2023     Tuesday    Jon Krohn  George Mathew   \n",
       "..            ...         ...          ...            ...   \n",
       "677  May 16, 2023     Tuesday    Jon Krohn      Jon Krohn   \n",
       "677  May 16, 2023     Tuesday    Jon Krohn  George Mathew   \n",
       "677  May 16, 2023     Tuesday    Jon Krohn      Jon Krohn   \n",
       "677  May 16, 2023     Tuesday    Jon Krohn  George Mathew   \n",
       "677  May 16, 2023     Tuesday    Jon Krohn      Jon Krohn   \n",
       "\n",
       "                                                     0  \n",
       "677                                                     \n",
       "677  \\t00:00:00This is episode number 679 with Geor...  \n",
       "677                                   \\t00:02:46\\tJon.  \n",
       "677  \\t00:02:46\\tWelcome to the SuperDataScience po...  \n",
       "677  \\t00:02:58\\tThank you, Jon. It's a pleasure to...  \n",
       "..                                                 ...  \n",
       "677  \\t01:30:31\\tThat's a great one, George. And no...  \n",
       "677  \\t01:30:53Yeah, best way to follow me is of co...  \n",
       "677  \\t01:31:26\\tPhew I mean, the honor is all mine...  \n",
       "677  \\t01:31:50\\tThat's awesome. Looking forward to...  \n",
       "677  \\t01:31:53\\tNice. Wow, that was an exceptional...  \n",
       "\n",
       "[108 rows x 12 columns]"
      ]
     },
     "execution_count": 116,
     "metadata": {},
     "output_type": "execute_result"
    }
   ],
   "source": [
    "sds_text.loc[677]"
   ]
  },
  {
   "cell_type": "code",
   "execution_count": 97,
   "id": "30d3df1c",
   "metadata": {},
   "outputs": [
    {
     "data": {
      "text/html": [
       "<div>\n",
       "<style scoped>\n",
       "    .dataframe tbody tr th:only-of-type {\n",
       "        vertical-align: middle;\n",
       "    }\n",
       "\n",
       "    .dataframe tbody tr th {\n",
       "        vertical-align: top;\n",
       "    }\n",
       "\n",
       "    .dataframe thead th {\n",
       "        text-align: right;\n",
       "    }\n",
       "</style>\n",
       "<table border=\"1\" class=\"dataframe\">\n",
       "  <thead>\n",
       "    <tr style=\"text-align: right;\">\n",
       "      <th></th>\n",
       "      <th></th>\n",
       "      <th>speaker</th>\n",
       "    </tr>\n",
       "    <tr>\n",
       "      <th>index</th>\n",
       "      <th>episode_index</th>\n",
       "      <th></th>\n",
       "    </tr>\n",
       "  </thead>\n",
       "  <tbody>\n",
       "    <tr>\n",
       "      <th rowspan=\"5\" valign=\"top\">0</th>\n",
       "      <th>1</th>\n",
       "      <td>Kirill:</td>\n",
       "    </tr>\n",
       "    <tr>\n",
       "      <th>2</th>\n",
       "      <td>Kirill:</td>\n",
       "    </tr>\n",
       "    <tr>\n",
       "      <th>3</th>\n",
       "      <td>Ruben:</td>\n",
       "    </tr>\n",
       "    <tr>\n",
       "      <th>4</th>\n",
       "      <td>Kirill:</td>\n",
       "    </tr>\n",
       "    <tr>\n",
       "      <th>5</th>\n",
       "      <td>Ruben:</td>\n",
       "    </tr>\n",
       "    <tr>\n",
       "      <th>...</th>\n",
       "      <th>...</th>\n",
       "      <td>...</td>\n",
       "    </tr>\n",
       "    <tr>\n",
       "      <th rowspan=\"5\" valign=\"top\">677</th>\n",
       "      <th>103</th>\n",
       "      <td>Jon Krohn:</td>\n",
       "    </tr>\n",
       "    <tr>\n",
       "      <th>104</th>\n",
       "      <td>George Mathew:</td>\n",
       "    </tr>\n",
       "    <tr>\n",
       "      <th>105</th>\n",
       "      <td>Jon Krohn:</td>\n",
       "    </tr>\n",
       "    <tr>\n",
       "      <th>106</th>\n",
       "      <td>George Mathew:</td>\n",
       "    </tr>\n",
       "    <tr>\n",
       "      <th>107</th>\n",
       "      <td>Jon Krohn:</td>\n",
       "    </tr>\n",
       "  </tbody>\n",
       "</table>\n",
       "<p>46378 rows × 1 columns</p>\n",
       "</div>"
      ],
      "text/plain": [
       "                            speaker\n",
       "index episode_index                \n",
       "0     1                     Kirill:\n",
       "      2                     Kirill:\n",
       "      3                      Ruben:\n",
       "      4                     Kirill:\n",
       "      5                      Ruben:\n",
       "...                             ...\n",
       "677   103                Jon Krohn:\n",
       "      104            George Mathew:\n",
       "      105                Jon Krohn:\n",
       "      106            George Mathew:\n",
       "      107                Jon Krohn:\n",
       "\n",
       "[46378 rows x 1 columns]"
      ]
     },
     "execution_count": 97,
     "metadata": {},
     "output_type": "execute_result"
    }
   ],
   "source": [
    "sds_index"
   ]
  },
  {
   "cell_type": "code",
   "execution_count": null,
   "id": "5c6dd29f",
   "metadata": {},
   "outputs": [],
   "source": []
  },
  {
   "cell_type": "code",
   "execution_count": 91,
   "id": "b5d656ad",
   "metadata": {},
   "outputs": [
    {
     "data": {
      "text/plain": [
       "FrozenList(['index', 'episode_index'])"
      ]
     },
     "execution_count": 91,
     "metadata": {},
     "output_type": "execute_result"
    }
   ],
   "source": [
    "sds_index.index.names"
   ]
  },
  {
   "cell_type": "code",
   "execution_count": 85,
   "id": "9c1e25c2",
   "metadata": {},
   "outputs": [
    {
     "data": {
      "text/html": [
       "<div>\n",
       "<style scoped>\n",
       "    .dataframe tbody tr th:only-of-type {\n",
       "        vertical-align: middle;\n",
       "    }\n",
       "\n",
       "    .dataframe tbody tr th {\n",
       "        vertical-align: top;\n",
       "    }\n",
       "\n",
       "    .dataframe thead th {\n",
       "        text-align: right;\n",
       "    }\n",
       "</style>\n",
       "<table border=\"1\" class=\"dataframe\">\n",
       "  <thead>\n",
       "    <tr style=\"text-align: right;\">\n",
       "      <th></th>\n",
       "      <th></th>\n",
       "      <th>0</th>\n",
       "    </tr>\n",
       "  </thead>\n",
       "  <tbody>\n",
       "    <tr>\n",
       "      <th rowspan=\"5\" valign=\"top\">0</th>\n",
       "      <th>0</th>\n",
       "      <td></td>\n",
       "    </tr>\n",
       "    <tr>\n",
       "      <th>1</th>\n",
       "      <td>This is episode number one with ex-chemical e...</td>\n",
       "    </tr>\n",
       "    <tr>\n",
       "      <th>2</th>\n",
       "      <td>Hey guys, welcome to the Podcast. I’ve got Ru...</td>\n",
       "    </tr>\n",
       "    <tr>\n",
       "      <th>3</th>\n",
       "      <td>Thank you! Thanks for having me over. I’m doi...</td>\n",
       "    </tr>\n",
       "    <tr>\n",
       "      <th>4</th>\n",
       "      <td>Awesome. It’s great to hear you and for those...</td>\n",
       "    </tr>\n",
       "    <tr>\n",
       "      <th>...</th>\n",
       "      <th>...</th>\n",
       "      <td>...</td>\n",
       "    </tr>\n",
       "    <tr>\n",
       "      <th rowspan=\"5\" valign=\"top\">677</th>\n",
       "      <th>103</th>\n",
       "      <td>\\t01:30:31\\tThat's a great one, George. And no...</td>\n",
       "    </tr>\n",
       "    <tr>\n",
       "      <th>104</th>\n",
       "      <td>\\t01:30:53Yeah, best way to follow me is of co...</td>\n",
       "    </tr>\n",
       "    <tr>\n",
       "      <th>105</th>\n",
       "      <td>\\t01:31:26\\tPhew I mean, the honor is all mine...</td>\n",
       "    </tr>\n",
       "    <tr>\n",
       "      <th>106</th>\n",
       "      <td>\\t01:31:50\\tThat's awesome. Looking forward to...</td>\n",
       "    </tr>\n",
       "    <tr>\n",
       "      <th>107</th>\n",
       "      <td>\\t01:31:53\\tNice. Wow, that was an exceptional...</td>\n",
       "    </tr>\n",
       "  </tbody>\n",
       "</table>\n",
       "<p>46791 rows × 1 columns</p>\n",
       "</div>"
      ],
      "text/plain": [
       "                                                         0\n",
       "0   0                                                     \n",
       "    1     This is episode number one with ex-chemical e...\n",
       "    2     Hey guys, welcome to the Podcast. I’ve got Ru...\n",
       "    3     Thank you! Thanks for having me over. I’m doi...\n",
       "    4     Awesome. It’s great to hear you and for those...\n",
       "...                                                    ...\n",
       "677 103  \\t01:30:31\\tThat's a great one, George. And no...\n",
       "    104  \\t01:30:53Yeah, best way to follow me is of co...\n",
       "    105  \\t01:31:26\\tPhew I mean, the honor is all mine...\n",
       "    106  \\t01:31:50\\tThat's awesome. Looking forward to...\n",
       "    107  \\t01:31:53\\tNice. Wow, that was an exceptional...\n",
       "\n",
       "[46791 rows x 1 columns]"
      ]
     },
     "execution_count": 85,
     "metadata": {},
     "output_type": "execute_result"
    }
   ],
   "source": [
    "split_text.to_frame().rename()"
   ]
  },
  {
   "cell_type": "code",
   "execution_count": 80,
   "id": "aafdce03",
   "metadata": {},
   "outputs": [
    {
     "ename": "ValueError",
     "evalue": "cannot join with no overlapping index names",
     "output_type": "error",
     "traceback": [
      "\u001b[0;31m---------------------------------------------------------------------------\u001b[0m",
      "\u001b[0;31mValueError\u001b[0m                                Traceback (most recent call last)",
      "Cell \u001b[0;32mIn[80], line 1\u001b[0m\n\u001b[0;32m----> 1\u001b[0m \u001b[43mtext_split\u001b[49m\u001b[43m(\u001b[49m\u001b[43msds\u001b[49m\u001b[43m,\u001b[49m\u001b[43m \u001b[49m\u001b[43msds\u001b[49m\u001b[43m[\u001b[49m\u001b[38;5;124;43m'\u001b[39;49m\u001b[38;5;124;43mtext_episode\u001b[39;49m\u001b[38;5;124;43m'\u001b[39;49m\u001b[43m]\u001b[49m\u001b[43m)\u001b[49m\n",
      "Cell \u001b[0;32mIn[79], line 11\u001b[0m, in \u001b[0;36mtext_split\u001b[0;34m(df, column)\u001b[0m\n\u001b[1;32m      9\u001b[0m \u001b[38;5;66;03m#sds_index\u001b[39;00m\n\u001b[1;32m     10\u001b[0m split_text \u001b[38;5;241m=\u001b[39m column\u001b[38;5;241m.\u001b[39mstr\u001b[38;5;241m.\u001b[39msplit(\u001b[38;5;124m'\u001b[39m\u001b[38;5;124m(?:^|\u001b[39m\u001b[38;5;130;01m\\\\\u001b[39;00m\u001b[38;5;124mxa0|(?:\u001b[39m\u001b[38;5;130;01m\\\\\u001b[39;00m\u001b[38;5;124mn)+)[A-Za-z\u001b[39m\u001b[38;5;124m\\\u001b[39m\u001b[38;5;124ms]+:\u001b[39m\u001b[38;5;124m'\u001b[39m, expand \u001b[38;5;241m=\u001b[39m \u001b[38;5;28;01mTrue\u001b[39;00m)\u001b[38;5;241m.\u001b[39mstack()\u001b[38;5;66;03m#.droplevel(-1)\u001b[39;00m\n\u001b[0;32m---> 11\u001b[0m sds_index \u001b[38;5;241m=\u001b[39m \u001b[43msds_index\u001b[49m\u001b[38;5;241;43m.\u001b[39;49m\u001b[43mmerge\u001b[49m\u001b[43m(\u001b[49m\u001b[43msplit_text\u001b[49m\u001b[38;5;241;43m.\u001b[39;49m\u001b[43mto_frame\u001b[49m\u001b[43m(\u001b[49m\u001b[43m)\u001b[49m\u001b[43m,\u001b[49m\u001b[43m \u001b[49m\u001b[43mleft_index\u001b[49m\u001b[43m \u001b[49m\u001b[38;5;241;43m=\u001b[39;49m\u001b[43m \u001b[49m\u001b[38;5;28;43;01mTrue\u001b[39;49;00m\u001b[43m,\u001b[49m\u001b[43m \u001b[49m\u001b[43mright_index\u001b[49m\u001b[38;5;241;43m=\u001b[39;49m\u001b[38;5;28;43;01mTrue\u001b[39;49;00m\u001b[43m,\u001b[49m\u001b[43m \u001b[49m\u001b[43mhow\u001b[49m\u001b[43m \u001b[49m\u001b[38;5;241;43m=\u001b[39;49m\u001b[43m \u001b[49m\u001b[38;5;124;43m'\u001b[39;49m\u001b[38;5;124;43mright\u001b[39;49m\u001b[38;5;124;43m'\u001b[39;49m\u001b[43m)\u001b[49m\u001b[38;5;241m.\u001b[39mdroplevel(\u001b[38;5;241m-\u001b[39m\u001b[38;5;241m1\u001b[39m)\n\u001b[1;32m     12\u001b[0m \u001b[38;5;28;01mreturn\u001b[39;00m df\u001b[38;5;241m.\u001b[39mmerge(split_text,left_index\u001b[38;5;241m=\u001b[39m\u001b[38;5;28;01mTrue\u001b[39;00m, right_index\u001b[38;5;241m=\u001b[39m\u001b[38;5;28;01mTrue\u001b[39;00m)\n",
      "File \u001b[0;32m/Applications/anaconda/anaconda3/lib/python3.9/site-packages/pandas/core/frame.py:9345\u001b[0m, in \u001b[0;36mDataFrame.merge\u001b[0;34m(self, right, how, on, left_on, right_on, left_index, right_index, sort, suffixes, copy, indicator, validate)\u001b[0m\n\u001b[1;32m   9326\u001b[0m \u001b[38;5;129m@Substitution\u001b[39m(\u001b[38;5;124m\"\u001b[39m\u001b[38;5;124m\"\u001b[39m)\n\u001b[1;32m   9327\u001b[0m \u001b[38;5;129m@Appender\u001b[39m(_merge_doc, indents\u001b[38;5;241m=\u001b[39m\u001b[38;5;241m2\u001b[39m)\n\u001b[1;32m   9328\u001b[0m \u001b[38;5;28;01mdef\u001b[39;00m \u001b[38;5;21mmerge\u001b[39m(\n\u001b[0;32m   (...)\u001b[0m\n\u001b[1;32m   9341\u001b[0m     validate: \u001b[38;5;28mstr\u001b[39m \u001b[38;5;241m|\u001b[39m \u001b[38;5;28;01mNone\u001b[39;00m \u001b[38;5;241m=\u001b[39m \u001b[38;5;28;01mNone\u001b[39;00m,\n\u001b[1;32m   9342\u001b[0m ) \u001b[38;5;241m-\u001b[39m\u001b[38;5;241m>\u001b[39m DataFrame:\n\u001b[1;32m   9343\u001b[0m     \u001b[38;5;28;01mfrom\u001b[39;00m \u001b[38;5;21;01mpandas\u001b[39;00m\u001b[38;5;21;01m.\u001b[39;00m\u001b[38;5;21;01mcore\u001b[39;00m\u001b[38;5;21;01m.\u001b[39;00m\u001b[38;5;21;01mreshape\u001b[39;00m\u001b[38;5;21;01m.\u001b[39;00m\u001b[38;5;21;01mmerge\u001b[39;00m \u001b[38;5;28;01mimport\u001b[39;00m merge\n\u001b[0;32m-> 9345\u001b[0m     \u001b[38;5;28;01mreturn\u001b[39;00m \u001b[43mmerge\u001b[49m\u001b[43m(\u001b[49m\n\u001b[1;32m   9346\u001b[0m \u001b[43m        \u001b[49m\u001b[38;5;28;43mself\u001b[39;49m\u001b[43m,\u001b[49m\n\u001b[1;32m   9347\u001b[0m \u001b[43m        \u001b[49m\u001b[43mright\u001b[49m\u001b[43m,\u001b[49m\n\u001b[1;32m   9348\u001b[0m \u001b[43m        \u001b[49m\u001b[43mhow\u001b[49m\u001b[38;5;241;43m=\u001b[39;49m\u001b[43mhow\u001b[49m\u001b[43m,\u001b[49m\n\u001b[1;32m   9349\u001b[0m \u001b[43m        \u001b[49m\u001b[43mon\u001b[49m\u001b[38;5;241;43m=\u001b[39;49m\u001b[43mon\u001b[49m\u001b[43m,\u001b[49m\n\u001b[1;32m   9350\u001b[0m \u001b[43m        \u001b[49m\u001b[43mleft_on\u001b[49m\u001b[38;5;241;43m=\u001b[39;49m\u001b[43mleft_on\u001b[49m\u001b[43m,\u001b[49m\n\u001b[1;32m   9351\u001b[0m \u001b[43m        \u001b[49m\u001b[43mright_on\u001b[49m\u001b[38;5;241;43m=\u001b[39;49m\u001b[43mright_on\u001b[49m\u001b[43m,\u001b[49m\n\u001b[1;32m   9352\u001b[0m \u001b[43m        \u001b[49m\u001b[43mleft_index\u001b[49m\u001b[38;5;241;43m=\u001b[39;49m\u001b[43mleft_index\u001b[49m\u001b[43m,\u001b[49m\n\u001b[1;32m   9353\u001b[0m \u001b[43m        \u001b[49m\u001b[43mright_index\u001b[49m\u001b[38;5;241;43m=\u001b[39;49m\u001b[43mright_index\u001b[49m\u001b[43m,\u001b[49m\n\u001b[1;32m   9354\u001b[0m \u001b[43m        \u001b[49m\u001b[43msort\u001b[49m\u001b[38;5;241;43m=\u001b[39;49m\u001b[43msort\u001b[49m\u001b[43m,\u001b[49m\n\u001b[1;32m   9355\u001b[0m \u001b[43m        \u001b[49m\u001b[43msuffixes\u001b[49m\u001b[38;5;241;43m=\u001b[39;49m\u001b[43msuffixes\u001b[49m\u001b[43m,\u001b[49m\n\u001b[1;32m   9356\u001b[0m \u001b[43m        \u001b[49m\u001b[43mcopy\u001b[49m\u001b[38;5;241;43m=\u001b[39;49m\u001b[43mcopy\u001b[49m\u001b[43m,\u001b[49m\n\u001b[1;32m   9357\u001b[0m \u001b[43m        \u001b[49m\u001b[43mindicator\u001b[49m\u001b[38;5;241;43m=\u001b[39;49m\u001b[43mindicator\u001b[49m\u001b[43m,\u001b[49m\n\u001b[1;32m   9358\u001b[0m \u001b[43m        \u001b[49m\u001b[43mvalidate\u001b[49m\u001b[38;5;241;43m=\u001b[39;49m\u001b[43mvalidate\u001b[49m\u001b[43m,\u001b[49m\n\u001b[1;32m   9359\u001b[0m \u001b[43m    \u001b[49m\u001b[43m)\u001b[49m\n",
      "File \u001b[0;32m/Applications/anaconda/anaconda3/lib/python3.9/site-packages/pandas/core/reshape/merge.py:122\u001b[0m, in \u001b[0;36mmerge\u001b[0;34m(left, right, how, on, left_on, right_on, left_index, right_index, sort, suffixes, copy, indicator, validate)\u001b[0m\n\u001b[1;32m     90\u001b[0m \u001b[38;5;129m@Substitution\u001b[39m(\u001b[38;5;124m\"\u001b[39m\u001b[38;5;130;01m\\n\u001b[39;00m\u001b[38;5;124mleft : DataFrame or named Series\u001b[39m\u001b[38;5;124m\"\u001b[39m)\n\u001b[1;32m     91\u001b[0m \u001b[38;5;129m@Appender\u001b[39m(_merge_doc, indents\u001b[38;5;241m=\u001b[39m\u001b[38;5;241m0\u001b[39m)\n\u001b[1;32m     92\u001b[0m \u001b[38;5;28;01mdef\u001b[39;00m \u001b[38;5;21mmerge\u001b[39m(\n\u001b[0;32m   (...)\u001b[0m\n\u001b[1;32m    105\u001b[0m     validate: \u001b[38;5;28mstr\u001b[39m \u001b[38;5;241m|\u001b[39m \u001b[38;5;28;01mNone\u001b[39;00m \u001b[38;5;241m=\u001b[39m \u001b[38;5;28;01mNone\u001b[39;00m,\n\u001b[1;32m    106\u001b[0m ) \u001b[38;5;241m-\u001b[39m\u001b[38;5;241m>\u001b[39m DataFrame:\n\u001b[1;32m    107\u001b[0m     op \u001b[38;5;241m=\u001b[39m _MergeOperation(\n\u001b[1;32m    108\u001b[0m         left,\n\u001b[1;32m    109\u001b[0m         right,\n\u001b[0;32m   (...)\u001b[0m\n\u001b[1;32m    120\u001b[0m         validate\u001b[38;5;241m=\u001b[39mvalidate,\n\u001b[1;32m    121\u001b[0m     )\n\u001b[0;32m--> 122\u001b[0m     \u001b[38;5;28;01mreturn\u001b[39;00m \u001b[43mop\u001b[49m\u001b[38;5;241;43m.\u001b[39;49m\u001b[43mget_result\u001b[49m\u001b[43m(\u001b[49m\u001b[43m)\u001b[49m\n",
      "File \u001b[0;32m/Applications/anaconda/anaconda3/lib/python3.9/site-packages/pandas/core/reshape/merge.py:716\u001b[0m, in \u001b[0;36m_MergeOperation.get_result\u001b[0;34m(self)\u001b[0m\n\u001b[1;32m    713\u001b[0m \u001b[38;5;28;01mif\u001b[39;00m \u001b[38;5;28mself\u001b[39m\u001b[38;5;241m.\u001b[39mindicator:\n\u001b[1;32m    714\u001b[0m     \u001b[38;5;28mself\u001b[39m\u001b[38;5;241m.\u001b[39mleft, \u001b[38;5;28mself\u001b[39m\u001b[38;5;241m.\u001b[39mright \u001b[38;5;241m=\u001b[39m \u001b[38;5;28mself\u001b[39m\u001b[38;5;241m.\u001b[39m_indicator_pre_merge(\u001b[38;5;28mself\u001b[39m\u001b[38;5;241m.\u001b[39mleft, \u001b[38;5;28mself\u001b[39m\u001b[38;5;241m.\u001b[39mright)\n\u001b[0;32m--> 716\u001b[0m join_index, left_indexer, right_indexer \u001b[38;5;241m=\u001b[39m \u001b[38;5;28;43mself\u001b[39;49m\u001b[38;5;241;43m.\u001b[39;49m\u001b[43m_get_join_info\u001b[49m\u001b[43m(\u001b[49m\u001b[43m)\u001b[49m\n\u001b[1;32m    718\u001b[0m llabels, rlabels \u001b[38;5;241m=\u001b[39m _items_overlap_with_suffix(\n\u001b[1;32m    719\u001b[0m     \u001b[38;5;28mself\u001b[39m\u001b[38;5;241m.\u001b[39mleft\u001b[38;5;241m.\u001b[39m_info_axis, \u001b[38;5;28mself\u001b[39m\u001b[38;5;241m.\u001b[39mright\u001b[38;5;241m.\u001b[39m_info_axis, \u001b[38;5;28mself\u001b[39m\u001b[38;5;241m.\u001b[39msuffixes\n\u001b[1;32m    720\u001b[0m )\n\u001b[1;32m    722\u001b[0m lindexers \u001b[38;5;241m=\u001b[39m {\u001b[38;5;241m1\u001b[39m: left_indexer} \u001b[38;5;28;01mif\u001b[39;00m left_indexer \u001b[38;5;129;01mis\u001b[39;00m \u001b[38;5;129;01mnot\u001b[39;00m \u001b[38;5;28;01mNone\u001b[39;00m \u001b[38;5;28;01melse\u001b[39;00m {}\n",
      "File \u001b[0;32m/Applications/anaconda/anaconda3/lib/python3.9/site-packages/pandas/core/reshape/merge.py:953\u001b[0m, in \u001b[0;36m_MergeOperation._get_join_info\u001b[0;34m(self)\u001b[0m\n\u001b[1;32m    950\u001b[0m right_ax \u001b[38;5;241m=\u001b[39m \u001b[38;5;28mself\u001b[39m\u001b[38;5;241m.\u001b[39mright\u001b[38;5;241m.\u001b[39maxes[\u001b[38;5;28mself\u001b[39m\u001b[38;5;241m.\u001b[39maxis]\n\u001b[1;32m    952\u001b[0m \u001b[38;5;28;01mif\u001b[39;00m \u001b[38;5;28mself\u001b[39m\u001b[38;5;241m.\u001b[39mleft_index \u001b[38;5;129;01mand\u001b[39;00m \u001b[38;5;28mself\u001b[39m\u001b[38;5;241m.\u001b[39mright_index \u001b[38;5;129;01mand\u001b[39;00m \u001b[38;5;28mself\u001b[39m\u001b[38;5;241m.\u001b[39mhow \u001b[38;5;241m!=\u001b[39m \u001b[38;5;124m\"\u001b[39m\u001b[38;5;124masof\u001b[39m\u001b[38;5;124m\"\u001b[39m:\n\u001b[0;32m--> 953\u001b[0m     join_index, left_indexer, right_indexer \u001b[38;5;241m=\u001b[39m \u001b[43mleft_ax\u001b[49m\u001b[38;5;241;43m.\u001b[39;49m\u001b[43mjoin\u001b[49m\u001b[43m(\u001b[49m\n\u001b[1;32m    954\u001b[0m \u001b[43m        \u001b[49m\u001b[43mright_ax\u001b[49m\u001b[43m,\u001b[49m\u001b[43m \u001b[49m\u001b[43mhow\u001b[49m\u001b[38;5;241;43m=\u001b[39;49m\u001b[38;5;28;43mself\u001b[39;49m\u001b[38;5;241;43m.\u001b[39;49m\u001b[43mhow\u001b[49m\u001b[43m,\u001b[49m\u001b[43m \u001b[49m\u001b[43mreturn_indexers\u001b[49m\u001b[38;5;241;43m=\u001b[39;49m\u001b[38;5;28;43;01mTrue\u001b[39;49;00m\u001b[43m,\u001b[49m\u001b[43m \u001b[49m\u001b[43msort\u001b[49m\u001b[38;5;241;43m=\u001b[39;49m\u001b[38;5;28;43mself\u001b[39;49m\u001b[38;5;241;43m.\u001b[39;49m\u001b[43msort\u001b[49m\n\u001b[1;32m    955\u001b[0m \u001b[43m    \u001b[49m\u001b[43m)\u001b[49m\n\u001b[1;32m    957\u001b[0m \u001b[38;5;28;01melif\u001b[39;00m \u001b[38;5;28mself\u001b[39m\u001b[38;5;241m.\u001b[39mright_index \u001b[38;5;129;01mand\u001b[39;00m \u001b[38;5;28mself\u001b[39m\u001b[38;5;241m.\u001b[39mhow \u001b[38;5;241m==\u001b[39m \u001b[38;5;124m\"\u001b[39m\u001b[38;5;124mleft\u001b[39m\u001b[38;5;124m\"\u001b[39m:\n\u001b[1;32m    958\u001b[0m     join_index, left_indexer, right_indexer \u001b[38;5;241m=\u001b[39m _left_join_on_index(\n\u001b[1;32m    959\u001b[0m         left_ax, right_ax, \u001b[38;5;28mself\u001b[39m\u001b[38;5;241m.\u001b[39mleft_join_keys, sort\u001b[38;5;241m=\u001b[39m\u001b[38;5;28mself\u001b[39m\u001b[38;5;241m.\u001b[39msort\n\u001b[1;32m    960\u001b[0m     )\n",
      "File \u001b[0;32m/Applications/anaconda/anaconda3/lib/python3.9/site-packages/pandas/core/indexes/base.py:216\u001b[0m, in \u001b[0;36m_maybe_return_indexers.<locals>.join\u001b[0;34m(self, other, how, level, return_indexers, sort)\u001b[0m\n\u001b[1;32m    207\u001b[0m \u001b[38;5;129m@functools\u001b[39m\u001b[38;5;241m.\u001b[39mwraps(meth)\n\u001b[1;32m    208\u001b[0m \u001b[38;5;28;01mdef\u001b[39;00m \u001b[38;5;21mjoin\u001b[39m(\n\u001b[1;32m    209\u001b[0m     \u001b[38;5;28mself\u001b[39m,\n\u001b[0;32m   (...)\u001b[0m\n\u001b[1;32m    214\u001b[0m     sort: \u001b[38;5;28mbool\u001b[39m \u001b[38;5;241m=\u001b[39m \u001b[38;5;28;01mFalse\u001b[39;00m,\n\u001b[1;32m    215\u001b[0m ):\n\u001b[0;32m--> 216\u001b[0m     join_index, lidx, ridx \u001b[38;5;241m=\u001b[39m \u001b[43mmeth\u001b[49m\u001b[43m(\u001b[49m\u001b[38;5;28;43mself\u001b[39;49m\u001b[43m,\u001b[49m\u001b[43m \u001b[49m\u001b[43mother\u001b[49m\u001b[43m,\u001b[49m\u001b[43m \u001b[49m\u001b[43mhow\u001b[49m\u001b[38;5;241;43m=\u001b[39;49m\u001b[43mhow\u001b[49m\u001b[43m,\u001b[49m\u001b[43m \u001b[49m\u001b[43mlevel\u001b[49m\u001b[38;5;241;43m=\u001b[39;49m\u001b[43mlevel\u001b[49m\u001b[43m,\u001b[49m\u001b[43m \u001b[49m\u001b[43msort\u001b[49m\u001b[38;5;241;43m=\u001b[39;49m\u001b[43msort\u001b[49m\u001b[43m)\u001b[49m\n\u001b[1;32m    217\u001b[0m     \u001b[38;5;28;01mif\u001b[39;00m \u001b[38;5;129;01mnot\u001b[39;00m return_indexers:\n\u001b[1;32m    218\u001b[0m         \u001b[38;5;28;01mreturn\u001b[39;00m join_index\n",
      "File \u001b[0;32m/Applications/anaconda/anaconda3/lib/python3.9/site-packages/pandas/core/indexes/base.py:4368\u001b[0m, in \u001b[0;36mIndex.join\u001b[0;34m(self, other, how, level, return_indexers, sort)\u001b[0m\n\u001b[1;32m   4366\u001b[0m         \u001b[38;5;28;01mpass\u001b[39;00m\n\u001b[1;32m   4367\u001b[0m     \u001b[38;5;28;01melse\u001b[39;00m:\n\u001b[0;32m-> 4368\u001b[0m         \u001b[38;5;28;01mreturn\u001b[39;00m \u001b[38;5;28;43mself\u001b[39;49m\u001b[38;5;241;43m.\u001b[39;49m\u001b[43m_join_multi\u001b[49m\u001b[43m(\u001b[49m\u001b[43mother\u001b[49m\u001b[43m,\u001b[49m\u001b[43m \u001b[49m\u001b[43mhow\u001b[49m\u001b[38;5;241;43m=\u001b[39;49m\u001b[43mhow\u001b[49m\u001b[43m)\u001b[49m\n\u001b[1;32m   4370\u001b[0m \u001b[38;5;66;03m# join on the level\u001b[39;00m\n\u001b[1;32m   4371\u001b[0m \u001b[38;5;28;01mif\u001b[39;00m level \u001b[38;5;129;01mis\u001b[39;00m \u001b[38;5;129;01mnot\u001b[39;00m \u001b[38;5;28;01mNone\u001b[39;00m \u001b[38;5;129;01mand\u001b[39;00m (\u001b[38;5;28mself\u001b[39m\u001b[38;5;241m.\u001b[39m_is_multi \u001b[38;5;129;01mor\u001b[39;00m other\u001b[38;5;241m.\u001b[39m_is_multi):\n",
      "File \u001b[0;32m/Applications/anaconda/anaconda3/lib/python3.9/site-packages/pandas/core/indexes/base.py:4479\u001b[0m, in \u001b[0;36mIndex._join_multi\u001b[0;34m(self, other, how)\u001b[0m\n\u001b[1;32m   4477\u001b[0m \u001b[38;5;66;03m# need at least 1 in common\u001b[39;00m\n\u001b[1;32m   4478\u001b[0m \u001b[38;5;28;01mif\u001b[39;00m \u001b[38;5;129;01mnot\u001b[39;00m overlap:\n\u001b[0;32m-> 4479\u001b[0m     \u001b[38;5;28;01mraise\u001b[39;00m \u001b[38;5;167;01mValueError\u001b[39;00m(\u001b[38;5;124m\"\u001b[39m\u001b[38;5;124mcannot join with no overlapping index names\u001b[39m\u001b[38;5;124m\"\u001b[39m)\n\u001b[1;32m   4481\u001b[0m \u001b[38;5;28;01mif\u001b[39;00m \u001b[38;5;28misinstance\u001b[39m(\u001b[38;5;28mself\u001b[39m, MultiIndex) \u001b[38;5;129;01mand\u001b[39;00m \u001b[38;5;28misinstance\u001b[39m(other, MultiIndex):\n\u001b[1;32m   4482\u001b[0m \n\u001b[1;32m   4483\u001b[0m     \u001b[38;5;66;03m# Drop the non-matching levels from left and right respectively\u001b[39;00m\n\u001b[1;32m   4484\u001b[0m     ldrop_names \u001b[38;5;241m=\u001b[39m \u001b[38;5;28msorted\u001b[39m(self_names \u001b[38;5;241m-\u001b[39m overlap, key\u001b[38;5;241m=\u001b[39mself_names_order)\n",
      "\u001b[0;31mValueError\u001b[0m: cannot join with no overlapping index names"
     ]
    }
   ],
   "source": [
    "text_split(sds, sds['text_episode'])"
   ]
  },
  {
   "cell_type": "code",
   "execution_count": 71,
   "id": "1779e4d1",
   "metadata": {},
   "outputs": [
    {
     "data": {
      "text/plain": [
       "0    0                                                       \n",
       "     1       This is episode number one with ex-chemical e...\n",
       "     2       Hey guys, welcome to the Podcast. I’ve got Ru...\n",
       "     3       Thank you! Thanks for having me over. I’m doi...\n",
       "     4       Awesome. It’s great to hear you and for those...\n",
       "                                  ...                        \n",
       "677  103    \\t01:30:31\\tThat's a great one, George. And no...\n",
       "     104    \\t01:30:53Yeah, best way to follow me is of co...\n",
       "     105    \\t01:31:26\\tPhew I mean, the honor is all mine...\n",
       "     106    \\t01:31:50\\tThat's awesome. Looking forward to...\n",
       "     107    \\t01:31:53\\tNice. Wow, that was an exceptional...\n",
       "Length: 46791, dtype: object"
      ]
     },
     "execution_count": 71,
     "metadata": {},
     "output_type": "execute_result"
    }
   ],
   "source": [
    "sds['text_episode'].str.split('(?:^|\\\\xa0|(?:\\\\n)+)[A-Za-z\\s]+:', expand = True).stack()#.droplevel(-1)"
   ]
  },
  {
   "cell_type": "code",
   "execution_count": 57,
   "id": "5c6d3ec8",
   "metadata": {},
   "outputs": [
    {
     "data": {
      "text/plain": [
       "0                                                       \n",
       "1      \\t00:00:00This is episode number 679 with Geor...\n",
       "2                                       \\t00:02:46\\tJon.\n",
       "3      \\t00:02:46\\tWelcome to the SuperDataScience po...\n",
       "4      \\t00:02:58\\tThank you, Jon. It's a pleasure to...\n",
       "                             ...                        \n",
       "103    \\t01:30:31\\tThat's a great one, George. And no...\n",
       "104    \\t01:30:53Yeah, best way to follow me is of co...\n",
       "105    \\t01:31:26\\tPhew I mean, the honor is all mine...\n",
       "106    \\t01:31:50\\tThat's awesome. Looking forward to...\n",
       "107    \\t01:31:53\\tNice. Wow, that was an exceptional...\n",
       "Length: 108, dtype: object"
      ]
     },
     "execution_count": 57,
     "metadata": {},
     "output_type": "execute_result"
    }
   ],
   "source": [
    "sds['text_episode'].str.split('(?:^|\\\\xa0|\\\\n)[A-Za-z\\s]+:', expand = True).stack().loc[677]"
   ]
  },
  {
   "cell_type": "code",
   "execution_count": 62,
   "id": "a2f20652",
   "metadata": {},
   "outputs": [],
   "source": [
    "#sds_index = sds['text_episode'].str.findall('(?:^|\\\\xa0|(?:\\\\n)+)([A-Za-z\\s]+:)').explode().to_frame()#.shape#.stack().loc[0]"
   ]
  },
  {
   "cell_type": "code",
   "execution_count": 64,
   "id": "f8246727",
   "metadata": {},
   "outputs": [],
   "source": [
    "# Extracting the speakers from the text and creating index\n",
    "\n",
    "sds_index = sds['text_episode'].str.findall('(?:^|\\\\xa0|(?:\\\\n)+)([A-Za-z\\s]+:)').explode().to_frame()\n",
    "sds_index['episode_index'] = 1 \n",
    "sds_index['episode_index'] = sds_index.groupby(sds_index.index)['episode_index'].cumsum()\n",
    "sds_index = sds_index.reset_index().set_index(['index','episode_index']).rename(columns = {'text_episode':'speaker'})\n",
    "sds_index"
   ]
  },
  {
   "cell_type": "code",
   "execution_count": 68,
   "id": "d5cbffbf",
   "metadata": {},
   "outputs": [],
   "source": [
    "#sds_index['episode_index'] = sds_index.groupby(sds_index.index)['episode_index'].cumsum()"
   ]
  },
  {
   "cell_type": "code",
   "execution_count": 69,
   "id": "d516ce4c",
   "metadata": {},
   "outputs": [
    {
     "data": {
      "text/html": [
       "<div>\n",
       "<style scoped>\n",
       "    .dataframe tbody tr th:only-of-type {\n",
       "        vertical-align: middle;\n",
       "    }\n",
       "\n",
       "    .dataframe tbody tr th {\n",
       "        vertical-align: top;\n",
       "    }\n",
       "\n",
       "    .dataframe thead th {\n",
       "        text-align: right;\n",
       "    }\n",
       "</style>\n",
       "<table border=\"1\" class=\"dataframe\">\n",
       "  <thead>\n",
       "    <tr style=\"text-align: right;\">\n",
       "      <th></th>\n",
       "      <th>text_episode</th>\n",
       "      <th>episode_index</th>\n",
       "    </tr>\n",
       "  </thead>\n",
       "  <tbody>\n",
       "    <tr>\n",
       "      <th>0</th>\n",
       "      <td>Kirill:</td>\n",
       "      <td>1</td>\n",
       "    </tr>\n",
       "    <tr>\n",
       "      <th>0</th>\n",
       "      <td>Kirill:</td>\n",
       "      <td>2</td>\n",
       "    </tr>\n",
       "    <tr>\n",
       "      <th>0</th>\n",
       "      <td>Ruben:</td>\n",
       "      <td>3</td>\n",
       "    </tr>\n",
       "    <tr>\n",
       "      <th>0</th>\n",
       "      <td>Kirill:</td>\n",
       "      <td>4</td>\n",
       "    </tr>\n",
       "    <tr>\n",
       "      <th>0</th>\n",
       "      <td>Ruben:</td>\n",
       "      <td>5</td>\n",
       "    </tr>\n",
       "    <tr>\n",
       "      <th>...</th>\n",
       "      <td>...</td>\n",
       "      <td>...</td>\n",
       "    </tr>\n",
       "    <tr>\n",
       "      <th>677</th>\n",
       "      <td>Jon Krohn:</td>\n",
       "      <td>103</td>\n",
       "    </tr>\n",
       "    <tr>\n",
       "      <th>677</th>\n",
       "      <td>George Mathew:</td>\n",
       "      <td>104</td>\n",
       "    </tr>\n",
       "    <tr>\n",
       "      <th>677</th>\n",
       "      <td>Jon Krohn:</td>\n",
       "      <td>105</td>\n",
       "    </tr>\n",
       "    <tr>\n",
       "      <th>677</th>\n",
       "      <td>George Mathew:</td>\n",
       "      <td>106</td>\n",
       "    </tr>\n",
       "    <tr>\n",
       "      <th>677</th>\n",
       "      <td>Jon Krohn:</td>\n",
       "      <td>107</td>\n",
       "    </tr>\n",
       "  </tbody>\n",
       "</table>\n",
       "<p>46378 rows × 2 columns</p>\n",
       "</div>"
      ],
      "text/plain": [
       "       text_episode  episode_index\n",
       "0           Kirill:              1\n",
       "0           Kirill:              2\n",
       "0            Ruben:              3\n",
       "0           Kirill:              4\n",
       "0            Ruben:              5\n",
       "..              ...            ...\n",
       "677      Jon Krohn:            103\n",
       "677  George Mathew:            104\n",
       "677      Jon Krohn:            105\n",
       "677  George Mathew:            106\n",
       "677      Jon Krohn:            107\n",
       "\n",
       "[46378 rows x 2 columns]"
      ]
     },
     "execution_count": 69,
     "metadata": {},
     "output_type": "execute_result"
    }
   ],
   "source": [
    "#sds_index"
   ]
  },
  {
   "cell_type": "code",
   "execution_count": 75,
   "id": "e2c118ad",
   "metadata": {},
   "outputs": [],
   "source": [
    "#sds_index = sds_index.reset_index().set_index(['index','episode_index']).rename(columns = {'text_episode':'speaker'})"
   ]
  },
  {
   "cell_type": "code",
   "execution_count": 76,
   "id": "c08b5599",
   "metadata": {},
   "outputs": [
    {
     "data": {
      "text/html": [
       "<div>\n",
       "<style scoped>\n",
       "    .dataframe tbody tr th:only-of-type {\n",
       "        vertical-align: middle;\n",
       "    }\n",
       "\n",
       "    .dataframe tbody tr th {\n",
       "        vertical-align: top;\n",
       "    }\n",
       "\n",
       "    .dataframe thead th {\n",
       "        text-align: right;\n",
       "    }\n",
       "</style>\n",
       "<table border=\"1\" class=\"dataframe\">\n",
       "  <thead>\n",
       "    <tr style=\"text-align: right;\">\n",
       "      <th></th>\n",
       "      <th></th>\n",
       "      <th>speaker</th>\n",
       "    </tr>\n",
       "    <tr>\n",
       "      <th>index</th>\n",
       "      <th>episode_index</th>\n",
       "      <th></th>\n",
       "    </tr>\n",
       "  </thead>\n",
       "  <tbody>\n",
       "    <tr>\n",
       "      <th rowspan=\"5\" valign=\"top\">0</th>\n",
       "      <th>1</th>\n",
       "      <td>Kirill:</td>\n",
       "    </tr>\n",
       "    <tr>\n",
       "      <th>2</th>\n",
       "      <td>Kirill:</td>\n",
       "    </tr>\n",
       "    <tr>\n",
       "      <th>3</th>\n",
       "      <td>Ruben:</td>\n",
       "    </tr>\n",
       "    <tr>\n",
       "      <th>4</th>\n",
       "      <td>Kirill:</td>\n",
       "    </tr>\n",
       "    <tr>\n",
       "      <th>5</th>\n",
       "      <td>Ruben:</td>\n",
       "    </tr>\n",
       "    <tr>\n",
       "      <th>...</th>\n",
       "      <th>...</th>\n",
       "      <td>...</td>\n",
       "    </tr>\n",
       "    <tr>\n",
       "      <th rowspan=\"5\" valign=\"top\">677</th>\n",
       "      <th>103</th>\n",
       "      <td>Jon Krohn:</td>\n",
       "    </tr>\n",
       "    <tr>\n",
       "      <th>104</th>\n",
       "      <td>George Mathew:</td>\n",
       "    </tr>\n",
       "    <tr>\n",
       "      <th>105</th>\n",
       "      <td>Jon Krohn:</td>\n",
       "    </tr>\n",
       "    <tr>\n",
       "      <th>106</th>\n",
       "      <td>George Mathew:</td>\n",
       "    </tr>\n",
       "    <tr>\n",
       "      <th>107</th>\n",
       "      <td>Jon Krohn:</td>\n",
       "    </tr>\n",
       "  </tbody>\n",
       "</table>\n",
       "<p>46378 rows × 1 columns</p>\n",
       "</div>"
      ],
      "text/plain": [
       "                            speaker\n",
       "index episode_index                \n",
       "0     1                     Kirill:\n",
       "      2                     Kirill:\n",
       "      3                      Ruben:\n",
       "      4                     Kirill:\n",
       "      5                      Ruben:\n",
       "...                             ...\n",
       "677   103                Jon Krohn:\n",
       "      104            George Mathew:\n",
       "      105                Jon Krohn:\n",
       "      106            George Mathew:\n",
       "      107                Jon Krohn:\n",
       "\n",
       "[46378 rows x 1 columns]"
      ]
     },
     "execution_count": 76,
     "metadata": {},
     "output_type": "execute_result"
    }
   ],
   "source": [
    "#sds_index"
   ]
  },
  {
   "cell_type": "code",
   "execution_count": 42,
   "id": "09641a0b",
   "metadata": {},
   "outputs": [
    {
     "data": {
      "text/plain": [
       "'Kirill: This is episode number one with ex-chemical engineer and now data science wizard, Ruben Kogel.\\nWelcome to the SuperDataScience podcast. My name is Kirill Eremenko, data science coach and lifestyle entrepreneur. And each week, we bring inspiring people and ideas to help you build your successful career in data science. Thanks for being here today and now let’s make complex simple.\\n\\n(background music plays)\\n\\nHello and welcome to the very first episode of the SuperDataScience podcast. I can’t explain how excited I am to finally get the show off the ground. I’ve had this idea for literally months now and finally today we’re kicking things off. And what is the show all going to be about?\\n\\nThe show is going to be about inviting the most aspiring data scientists in the world and talking to them about what they do, what their background is, what they’ve learned in their past on the data science journey and what they can share, what insights, what tools and methodologies they can share with us and what we can learn together from them. So, I’m very excited that you’re here from the very start that you’re listening to the very first episode. Thank you so much for being part of this journey. I’m sure that together we’re going to learn a lot.\\n\\nAnd I’m very glad that this very first episode, we kicked off on a very high note, I spoke with Ruben Kogel who’s a data scientist at Udemy. So if you’re not familiar with Udemy it’s the biggest online educational platform in the world. Currently there are over eleven million students learning through Udemy so if you haven’t checked them out, definitely check them out. Our courses are basically anything that you could potentially imagine and personally I’m an instructor in Udemy as well. I have over twenty courses there and near fifty thousand students. So it’s a great learning platform and Ruben Kogel is one of the head data scientist in one of the divisions in Udemy. So, a division that works on content and content marketing and Ruben shared some very powerful insights about what he does on a daily basis at Udemy and moreover how he transferred his chemical engineering background into a data science skill set. How he in taking ABA and specifically selected the subjects in essential way that he was able to learn more about data science and get into that field so make him jump from chemical engineering to data science through his MBA.\\n\\nHe also talked about communicating insights and how important it is in the data science role. Also we discussed lots of other topics such as identifying problems when you’re a data scientist. How important that is. How to combine data science and product strategy. That is something that Ruben does on a daily basis and you’ll learn more about that. And so that’s a very powerful skill to have especially if you’re working in the start-up area. The start-up space in company is predominantly in the silicon valley or any other kind of location where you got this start up culture. Then we also spoke about managing a team of data scientists so Ruben quite had an experience around that he had some tips if you’re a manager in data science or in that analytics space, you can pick up some good tips from there.\\n\\nAnd also, we talked about managing the inflow of request and that is valuable to any data scientists to how to manage the inflow or requests and then Ruben gave us an example of his approach of the trello board, we talk about the mentors of data science and of course, we talked about lots of different analytics tools. We talked about (inaudible) sql and add- on which I don’t personally know about. We talked about wagon, we talked about r versus python. So the (inaudible) question which one is better which is more preferable and we talked about many many other things in this podcast so I’m sure you’re going to enjoy it. And we even touched on self-served analytics so a growing space of the field of data science. So without further ado, I bring to you Ruben Kogel of Udemy.com and enjoy.\\n\\n(background music)\\n\\nKirill: Hey guys, welcome to the Podcast. I’ve got Ruben Kogel here from Udemy. Super excited about this very first episode.\\n\\nRuben, welcome! How are you going?\\n\\nRuben: Thank you! Thanks for having me over. I’m doing great.\\n\\nKirill: Awesome. It’s great to hear you and for those of you who don’t know, I met Ruben for the first time when I was in San Francisco a couple of months ago for the first Udemy live conference. And it was pretty exciting and he ran some great presentations but just so that we got or everybody gets up to speed, Ruben, tell us a bit about what do you do? What’s your title in the company and what exactly do you do on your own?\\n\\nRuben: Yeah sure. So, I’m the senior manager of analytics and strategy in Udemy and basically what I do is that I help the content team which is the team that looks at the courses and the content in Udemy in order to figure out what is in the catalogue, what’s in the selection of courses, what’s the quality of courses, how can we improve our catalogue to make our students happier. In practice, a lot of it might work has to do with - are we measuring the right thing, are we measuring satisfaction, is that data available so that the people who are in charge of bringing in courses know which courses are good and how do we measure also the selection of courses so that we can slowly build a better and better catalogue for our students.\\n\\nKirill: Awesome! That’s pretty cool so you apply Data Science techniques in order to measure those kinds of metrics. Is that correct?\\n\\nRuben: Totally. I mean data science comes in different parts of my job. So just like the more basic part which is instrumentation. So I just start to like any data endeavors you wanna make sure you’re measuring the right things and that data is available. So for me it means that are we measuring student satisfaction correctly and is that data available so that people in the company can access it and make decisions on it. There’s another level in which I use data sciences then there like more broader questions are coming and so that’s what I call like ad-hoc analysis and so someone might ask me what happens if we remove some of the low quality courses from the platform. Can we predict all the impact on the satisfaction of revenue? So that’s kind of a question where you need to know the structure of the problem but also come up with some predictions and use some techniques to like evaluate what would be the impact was maybe some conference and roles and there’s like another type of question that can be, well, we know that there’s a variety of courses and they all have different quality scores and we wanna know what about these courses that driving these quality scores and you know is that the audio quality, the video quality, and the instructured delivery so in that case, you know data science comes in to play both in terms of structuring the problem but also running some sort of a statistical analysis to extract the importance of the different variables and come back with an answer saying like – “well I think this variable is the most important and you know if you move that variable by like 1% that will have an impact to all student ratings but by that much.” So that’s another example.\\n\\nKirill: That’s pretty cool. So, a kind of two main types – one is metrics of existing metrics and how you can tweak them to improve the experience of students but another one is where the first image where you’re doing kind of behavioral analytics and predictive behavioral analytics to see how you can change things so that the future experience is going to be better. That’s pretty cool on my view and it’s great that you get to do both parts in your role as a data scientist at Udemy.\\n\\nRuben: Yeah, it’s very very cool. Actually what I really like about my role here is it’s really the interface between data science and sort of like strategy product because I get to work on data set and they get to a lot of data analysis but at the end of the day the people I talk to are VP of content toward you know director of course acquisition and people who were like you know they are like in the width. They are doing the business and I get to give them recommendation, I get to influence, know their decisions or influence the product with data so it’s this really cool interface between data and business.\\n\\nKirill: Definitely and that’s what I also found that the most interesting and the most impactful roles and careers happen on the verge of two fields whether it’s for example you could take like Physics and chemistry or biology and chemistry but that’s very exaggerated examples but even in data science one thing is just to do analytics and all the whole thing is to do the analytics and at the same time convey the findings and work with those people that use analytics. And just on that as well, how do you find conveying such complicated analytics to your stakeholders that like you said the VP of content. Is there any certain approaches that you use or any tips you can give to our listeners on communicating these findings to senior stakeholders in the company?\\n\\nRuben: You know I’ll start by saying that any analysis that you do is useless and irrelevant if you’re not able to communicate the findings to people. So, communication is a huge part of being a successful data scientist. And, but there’s like choose..or like roes that I try to use when I communicate things, one is translate technical concepts into something that people can understand so you don’t just like talk about conference (inaudible). You can talk about maybe your confidence in the data or you can select. Well I think you know, the prediction or like the predictive revenue will be between those two balance. You don’t have to say you’re ninety-five percent confident because that doesn’t add a lot of value but at the same time you also wanna convey precision in your communication and make sure that you, you don’t throw in answers like “yeah I think we should do A because.. I think it’s important that you convey like “ well I look at the data and if we do A, we can lift revenue by this amount and maybe just a little bit of an individual in terms of like what I think we can lift revenue but this is what the analysis is doing. So it’s like this balance between being a precise and showing that you’ve done your homework and showing like that this is a written in data but at the same time translating it to layman words and stripping away any technicalities that don’t add a lot of values to your message.\\n\\nKirill: Totally agree. I’ve got a classic example on that, how often stakeholders especially senior stakeholders are very skeptical about sample sizes for instance right so if you run some analysis on a sample size of 157 or 300 they might be prone to saying actually we want a sample size of 10,000 but you as a data scientist know that that sample size that you ran is significant. Statistically significant so it is important to convey these findings in a way that when you are confident then with yourself then you don’t have to go into all of that detail all to explain exactly the methodology behind it but actually just convey the confidence in the way you present, the way you position your analysis so totally agree on that one.\\n\\nThe interesting thing that I’d like to ask you and probably a lot of our listeners would be curious about is – can you tell us a bit of your background. So how did you come into being a data scientist and progress, of course you progress further in your career and now you’re the head of analytics in that department but originally how did you get into data science because this is quite a new field and back in the day it wasn’t being taught in university so how did you get here and what are the steps?\\n\\nRuben: It’s a very interesting question because I had a very meandering path. I didn’t start at all in data. My background was in applied physics and then I switched to material science and I was a chemical engineer for many many years. I was dealing with data but not the type of analysis that you do when you are data scientist. It was a lot rougher and a lot sophisticated and what happened is that I actually was looking to like transition to something different. I went to business school and you don’t typically think of a business school as a place you learn for data science but I had this opportunity to take to use statistic courses and one like data mining course that I suddenly fell in love with the field and like the more I learn about it, then the more I was really intrigued and so I really learned the theory in business school and that I had this opportunity to come work to Udemy and applied some of my knowledge and that’s how I like started my career. So it is pretty reason and It was also like a pretty stark contrast from what I was doing before.\\n\\nKirill: Definitely. That’s a great jump and like you say, one wouldn’t expect that you would learn all the necessary data skill at business school but I guess you picked the right subjects and that’s a great testament to how lucrative the data science field is and tell us the skills that you developed as a chemical engineer or working in that field. Is there any way to leverage them currently because data science comes from all the different areas? Some people come from acting classes, some people can come from economics or finance but coming from a chemistry background is there any skills or any particular mind sets that you can share of us that you can leverage with your current work as a data scientist?\\n\\nRuben: Yeah. Totally. Surprisingly, it is not the data skills that I leverage from my chemical engineering background. It’s more the problem solving thing in communication skills. I think any engineering work has a heavy component of troubleshooting and problem solving and so I was doing a lot of that in my job and it really forced me to come up with like a very systematic approach to breaking down a problem. Coming up with a hypothesis and I think those hypotheses and be extremely systematic and organized about and structured about my thinking. So I definitely learned that from my engineering background. The only thing that I learned is, as I mentioned communication skills. As an engineer especially like in my position, I was doing a lot of like account management. I had also to translate a lot of very complex technical experiments and results into something that the business people could understand and the ability to summarize complex concepts and notions into a few you know whether it’s a slide or whether it’s an email you know and prepared draft that really sum up the insights, it’s very important that something that I learned in my engineering job and something that had thrilled me also in my current career.\\n\\nKirill: Sounds really cool and definitely the problem solving skills that’s a very valuable thing to have when you’re dealing with data science challenges but from what you’re saying I gathered that your communication skills had played a very significant role in terms of your success and how would you recommend because – my thinking is that a lot of times when people are starting out into the field of data science now that it’s getting more and more popular, sometimes they can get pitched on a hold into certain roles where they are performing some analytics but they don’t have the exposure to go and share their insights with stakeholders. They were just performing certain sql queries, or certain analytical procedures but they don’t actually have a chance to communicate insights. So what would be your suggestion be like from the top of your head for people or our listeners who might be in that situation to somehow start developing those communication skills nevertheless.\\n\\nRuben: Yeah. I think there are two ways you can do that – one is, even in your day to day interaction with customers. I would think of like analytics of data sciences you know you have customers inside the company whether they’re technical customers or business customers, people ask you questions or ask you to perform data analysis to give them an answer so whenever you interact with your customers, you can always like good extra mile and structure your answer not just as the output of a regression analysis or as a SQL query but like you could try and explain like why you think this is the right thing to do, what that means in practice, what would be your recommendation so always like push the results path not just the technical output but and package it in a way that shows that you thought about the implications and the meaning of the analysis so that’s one thing.\\nThe second thing is I also like always recommend people and that’s true of people who worked for me or people who might working in other position that whenever you are given a problem, it’s always a good practice to try and dig in to exactly the problem the person is trying to solve. Because oftentimes, someone will leave comments like “hey can you pull this data or hey can you build a dashboard for that or can you do an analysis around this” like really, they are trying to solve the problem and they may not tell you what’s the problem trying to solve it so if you engage with that person or customer try to really get to the bottom of what problem they are trying to solve. All of a sudden you are, starting a conversation around what are you trying to solve, what can you bring besides just the approved analysis, how can you help them frame your problem and so all of a sudden you are engaged in communication, you are engaged into like expressing a problem, breaking in down and choose some more elemental data problems and coming back with a solution that addressed and really on the line problem. So that’s one way in which you can like push the boundaries of your current job and really expand into delivering like more value that is built upon this communication and built upon just like understanding the underlying problem. So that’s number one.\\n\\nI think number two also is generally speaking, analysts have like this unique ability to look into the data, come up with some insights that no one else in the organization has and so as an analysts, you also have the opportunity to maybe start addressing problems that other people may have also or some people may not have thought about and you can create value by being a little proactive about what you think we should be looking into, what you think would be useful analysis with some useful insights for other teams. So there’s also that opportunity because no one else can really look into the data you are the only person who has access to the data and also can bring out the insights.\\n\\nKirill: Beautiful. Love it. Especially the - what is exactly your problem that is one of the best skills to have as a data scientist to help people identify the problem because they often come to just data instead of actually identifying problem and regardless of what level you are at as a data scientist or data analyst eventually that skill is the one that will push you forward and combining it with what you said about the proactive approach that’s where you become the doctor for the organization and you walk around and you measure what’s going wrong and how you can help fix it. So yeah definitely agree with those two. Those were some of the very powerful skills to have. And you mentioned that you are in-charge of a few people. Can you tell us more about that how many people are you in-charged of and how did you find to managing the team of analysts or data scientists? What are the challenges that you face on a day to day basis?\\n\\nRuben: Right now my team is down to a one person so at the HayDay, we had a bigger team but you know things moved quite quickly. In Silicon Valley, so I have one person reporting and hiring at least one person for the moment. Well the thing that I find that is most challenging in terms of more like managing and growing analysts or data scientists is oftentime there‘s this tension between trying to please your internal customers and trying to make as many people happy as possible in the shortest amount of time. And trying to build long term value and work on like longer term projects. The way I think of like data scientist is like you’re the end of the chain. There’s a lot of people in the organization you know they manage project, they ask other people to do things and you know eventually when you put all the contributions together you come up with a product but when you are in data science, you don’t ask other people to do things or it’s very rare like usually, you’re the last person that they ask and so there’s a lot of people coming to you and end up having a ton of request and managing the inflow of request and managing the different things they’re working on is can be very challenging oftentime like a new analyst, they tend to gravitate your words maybe like the more short term projects they think that the last person that’s sent to do is like “oh yeah yeah, I’ll do it right away” and to the detriment of working on the bigger longer term and more impactful project so that’s one of the challenge.\\n\\nKirill: That’s definitely true and that kind of flows into the art of saying no to people who will come to you as a data scientist especially when you’re running a department and when you have a few successes you’ll find even more of the other departments from the company and people and stakeholders coming to you with requests. So how do you say no? How do you tell people that, “hey, you’re project is really cool and I’d love to work on it but at the same time I’ve got other commitments? What are your tips around that?\\n\\nRuben: You know you don’t really say no. The truth is (inaudible) you make it very clear what your priorities are and one of the tool that we use here in Udemy is a Trello board. So Trello is a for activity tool that, it’s like virtual post-its. Essentially it enables you to show a public board of what you’re working on, what are the stages of the different projects, what are the stakeholders of the different project and if someone ask you to do analysis you can say ok no problem, can you just record on my board and they’re quickly realize that their card is you know one of 50 other cards and now there’s actually prioritization process for the team to start working on it. So that’s one which we’re working in.\\n\\nThe second part is like, really what you wanna do is like you don’t wanna work on each of the jewel request and sell them. What you wanna build is a scalable infrastructure. You only build scalable analytics. What that means is instead of answering the same question over and over again, or instead of like pulling data for everybody in the company, you build self-serving tools. You build tables, dashboards, web UIs that enable people to access the data that they need so that they don’t ask you to do the data and pull the data analysis anymore. So you can free up some of your bandwidth to work on the more interesting project.\\n\\nKirill: Awesome. Love it. The self-serving analytics has becoming a more and more popular concept in the world of data science. Specifically for that reason – to free up data scientists and to empower the end user to do their own and so just on that what are the tools that you use in Udemy, if you can disclose this for self-serve analytics side of thing?\\n\\nRuben: The basis of the self-serve analytics is creating a set of summary tables that have all the relevant information that cover ninety percent of the use case. What I mean by that is, for example (inaudible) questions that come in Udemy is like “Oh do you have a list of course that have been published this month or what is its total revenue of courses that were published last month or can you look up a particular instructor and see how many enrolments or reviews she has in her courses. So there’s like a limited set of question that come over and over again and instead of like building queries or like every time she would extract the information she would just build one or two tables that have all that information summarized so people can access the data directly by either acquiring the table by sequel or like looking it up by the dashboard. So in practice, what we’d do is we have all our data information flow in your (inaudible) by amazon and that lets you build tables on top of like raw tables so we have what we call this summary tables built upon the raw. Or they can power dashboards between used chartio Ui interface and they can use the chartio to extract whatever information they need.\\n\\nKirill: Okay so red shift and chartio. Yep. Those are the two tools. A very nice answer. You store amazon in a WS for storage of data, correct?\\n\\nRuben: Uhuh!\\n\\nKirill: And how did you find that? Has that been a reason for transition of your organization or that’s been always the case?\\n\\nRuben: No. It’s been a transition about a year and a half ago we used to have only our traditional MySQL own server and then we started exploring red shift. (inaudible) red shift and we saw that it was much more powerful in terms of doing analytics because like typical My SQL database is optimized for writing but not honestly for creating new tables. Red shift is optimized for doing a lot of joints a lot of analysis and reading data. So, we’ve been using red shift for like the last year and a half and we’ve been scaling the size of our cluster as our data grows and as our analytics team grows and it’s been serving us pretty well actually.\\n\\nKirill: I’ve heard a lot of comments about that that in AWS you can scale with your needs and that’s one of the biggest advantage of AWS that as your organization grows and need more capacity to empower then to scale that you don’t have to purchase that in advance and also there are month to month or other type of plans there. Very convenient. Usually the only said back organization that have common of this as well is an organization that deal with customer data, client facing data, such as Udemy. They would have certain regulatory, maybe certain regulatory issues with outsourcing the storage of the data to the cloud or to external systems like AWS. Did you face any of that when you’re making the transition?\\n\\nRuben: Not really in the sense that the data is still secure and actually in the united states the only data that is being heavily regulated is health data so if you have the sort of the health regulations that make it more difficult to work with the cloud or you have to work with certified vendors that can really handle the start-ups the regulation about how you handle health data for the rest AWS serve a large range of start-ups and they all have sensitive data but you know they are setup to handle the sensitive data correctly so there’s not much concern around that. The only thing is that sometimes you want data to be used for web apps in which case you know reading from red shift is not the best way to populate field in your website or web app so you might need a second representative of data that is faster to read based on calendar storage.\\n\\nKirill: So we’ve started delving into the tool so we can move now into the management tools like Trello which I found pretty interesting how you get somebody to post a post-it in Trello on your board and then they realized that “hey there are project that’s going to be prioritized and at some point yours might not be done very quickly” and now we moved on to red shift. What are the other tools that you use on a day to day basis in your analytics role.\\n\\nRuben: The two technology that I use you know all the time is SQL or for that case is SQL which is the basis for red shift and the R so I do much of my analysis in R. Basically that’s the language that I learned and I am very familiar with it. Some other people at Udemy use Python. It really varies. But I think one of the tool are they’re very convenient and flexible and those are the tools of the data scientists nowadays. Either python or r they have like the packages and installers open source. It grows as a very active community so those are typical for data analysis. In terms of like the tool that I use where I actually do my SQL, there’s a really neat company called Wagon. This have a better product but they right now have the best SQL editor especially for post (inaudible) SQL. It’s really neat because you can organize your queries into different folders, everything is always save on the cloud so nothing is lost and it’s very like does a neat interface and it’s very easy to use.\\n\\nKirill: Awesome, so that was Wagon?\\n\\nRuben: Wagon, yeah.\\n\\nKirill: How do you spell that?\\n\\nRuben: W-A-G-O-N\\n\\nKirill: Beautiful. So I haven’t heard of that one before. Something to definitely check out. And yeah. Very interesting how your organization has a split between r and python. I guess in the start-up world it’s more common but in the more larger organizations that’s been for a while that have a lot of legacy behind them usually analysts don’t have that luxury of being able to choose between the two. Definitely R is something that a lot of our listeners are interested in cause you know you maybe share a couple of packages or a couple of techniques that you most commonly use when you’re coding in R.\\n\\nRuben: Yeah totally so I’m gonna probably disappoint you and your listeners. I don’t use like a lot of different packages and advanced techniques. I tend to stick to like basic R in fact I don’t even run like others do. I just use like basic R, I don’t use GG plateau. I just use like the basic R graphics. I think part of the reason is I don’t see R as a way to produce extremely sophisticated reports or analysis. I use R mostly to extract the information that I need and run like the basics, the basic analysis so the typical thing that I would do in R is like I would just import a csv file, read it, do a literal cleaning, although I usually prefer to do my cleaning in SQL because I don’t think you should be doing the cleaning at all. I think really the cleaning should occur upstream and you only launch R to do some data exploration, you know create some graphs and do some statistical analysis. Typically, I would run regression analysis I use to eliminate to do lots of regression, I use (inaudible) to use random model or understand the relative importance of the different features and to your model so that’s kinda like my usage of R.\\n\\nKirill: Wonderful. I totally agree of that. R is definitely a very powerful tool and every analyst, every data scientist has the right to use it in the way they prefer and you kind of using r in a very lean approach that can be very powerful as well. The question – the million dollar question would be R versus Python. What are your thoughts and why did you end up picking R?\\n\\nRuben: My answer might disappoint you again. Like I never really chose between the two. I started with R and it fits all my need. I spoke to a couple of people who use python and I quickly realize that the type of analysis that I was doing, you know offline analysis, building offline model, trying to understand the drivers of a particular metric, Python would be more complex and would not add a lot of value. What I mean by that is in my day to day job, I don’t build actual you know data products. I don’t try to deploy a predictive model onto our infrastructure and therefore I don’t needed to be in Python. All I do is that download some data generally from red shift and I try to build some model to understand what’s driving this metric up or down and for this type of use case, from what I read, R is like the simplest and more a direct way of announcing the data and it’s also like the language that I know.\\n\\nKirill: Beautiful. Definitely that is also the case in many situations when you start of one and then you just keep going of that one if it suits your needs and what’s the point of changing. Totally appreciate that. Alright. So That’s really cool and we went into some detail on the tools you use and some techniques. I love that part of conversation. Let’s move on to a bit of more, some of the more softer stuff. For instance, I can see that you’ve changed and made this transition to data science from chemistry and you’ve never looked back. You were like powering through it and progressing on your career, growing other data scientists on your team and acting as a mentor. But along the way did you have any influence that helped you become and persevere in this data science career and maybe some mentors that you might have had or hobbies or some life changing events or even some articles or something that has really influence to you and helped you along this career path as a data scientist.\\n\\nRuben: There was a big learning curve for you I’ve never exercised as a data scientist and in fact I’ve didn’t really had a mentor at Udemy and so I had to figure out a lot of things by myself or ask the people outside and so enjoy. I really encourage people to seek out mentors . In my case I had a good friend of mine who had a bit of a headstart on me. He started doing data science for five years before me. He is someone who has strong opinions but also he’s very thoughtful about the different approaches and choice that he was making and I often you know had conversation with him. We had like a regular coffee where we exchange on technologies and techniques. I found this interaction with him very helpful. I went to different conferences although I would say all of that conferences were helpful but the one that I really like was the Airbnb in san Francisco, the conference called open air which I really appreciate it and also followed some blogs and newsletter. There’s a newsletter that I really like called datascienceweekly.org and it’s a collection of interesting articles about 10-12 interesting articles every week. I don’t read all of them I just pick the one that seems interesting and if you know if I pass the first paragraph and it’s really interesting then it’s for read and then like slowly I build a catalogue of tips. Soft thoughts that I think very useful and in particular I can’t remember if it’s thru this newsletter or maybe something like Linkedin online. I found someone posting in an old article from Leo Breiman. The guy who created the random forests that he published in 2001 which really resonated with me so I would really encourage anyone who is considering data science or starting in data science or someone who’s even like more advanced in their career, read this article because for me it really has expressed exactly the way I feel about the tension between statistics and machine learning and the tension I feel between building experimental models and predictive models and he does that in a very compelling and neat way. So the article is called Statistical Modeling: The Two Cultures by Leo Breiman which published in statistical science in 2001. I find it like the best to read to really get some groundings in data science.\\n\\nKirill: Wow. Wonderful. Definitely I haven’t heard of that article but definitely will check it out. Sounds like a great read and so that’s by Leo Breiman. Will definitely include that in show notes. Next question I would have is if you could share of us any recent wins of data science, wins that you’ve had in your department at Udemy.\\nRuben: Two of them come to mine. My team has been responsible in building the new spam filter on Udemy so that’s the filter that determines whether a review is trustworthy or not and the old spam filter was built in a set of rules. So it was not even a naïve bayes, it was just a set of rules that totally make sense at the time but overtime you know people learn how to circumvent the rules. They’ve learned that the logic filter and they was a lot of none trustworthy spammy content on Udemy and my team tackle this problem and we were able to improve the accuracy of the spam filter by 8X factor so it’s a big win for the team but mostly for the company as a whole. That was one of them. The second one that comes to mine was moving and ad-hoc analysis that we did couple of weeks ago so you are an instructor in Udemy. You know that we changed the pricing strategy and so there was a resulting change in the student behavior and my team looked at final price, list price, discount, all of these influence to the decision and whether if we can build a model how student would react to them to different pricing strategies and so it was a very simple model and buying in nothing really sophisticated complex and it had the ability to explain the data that we have observe din the past and so for that reason was powerful both because it has experimental power but also it was built simple so people could understand what it meant.\\n\\nKirill: That’s very cool that 8X accuracy spam filter. That’s a significant improvement and model for behavior of different content that’s also very interesting. As you say I’m an instructor in Udemy, I can see the backend of these things and how they run in backend, I can definitely see how changes coming to play and how the platform is growing so it’s very exciting to know that you’re behind all of those changes. That’s really cool!\\nWhat’s your favorite thing about being a data scientist? What’s that one thing that excites you to get up and go to work in the morning and excites you to do your work and what is that thing that drives you to keep going?\\n\\nRuben: I think the most exciting thing is the intellectual challenge. It’s the fact that you are always facing new and unsolved problems and you are the person that’s being asked to solve that problems. And sometimes it’s just a data problem. Sometimes it’s more complicated than that. Sometimes you have to structure the problem and come up with the right data questions, solve them and give them answers that constant intellectual challenge is really what drive me.\\n\\nKirill: And for our listeners, from your perspective, from what you’ve seen, what you see currently in the field of data science, how you’ve seen it evolve since you’ve joined the ranks. Where do you think this field is going? What do you think our listeners should prepare for in the future? What should they focus on? What skills should they develop or what techniques should they think about it or generally where do you think this whole field is going?\\n\\nRuben: Yeah. That’s a good question. It’s hard to really predict where this is going and to like a generalized view, I can mention a few trends and I can mention also a few area also where I think people can really make a difference and show like and add value. So right now there’s a lot of talks around data platform. So it’s not just that you had a data infrastructure, you’re mining the data and you’re building some models to work some insights but there’s also this idea that in order to operate a efficient data team and efficient analytics team you need to have a better platform that enable data scientists to deploy experiments, run experiments, quickly build and validate models. So there’s that aspect of building the pipeline then the workflows that enable people to scale basically analytics so that’s one direction where things are going in and obviously this also goes into the direction of a little bit of specialization. This used to be that this engineer that could build a database because he would also extract data, run some statistical analysis and show the results to the head of marketing and now more and more using rules being a little bit more specialized, now you have people who specialize into data warehouse and data infrastructure and you have people who specialize in data platforms, people who specialize into the algorithm, people specialize into the analytics is part of data science. And so I think it’s important to understand all of these roles and there’s definitely some, that’s definitely some of the trend in the industry. In Parallel, I think we have to recommend is, I think it’s very important for people to dev up technological expertise because that has a lot of value. If you’re able to code in Python, on R and maybe even you know throw in a little bit of Java and you understand all of these technologies, it’s extremely powerful but at the same time, I would warn people against becoming too attached to certain statistical techniques or certain machine learning techniques. There’s always gonna be people who act specialize in deep learning and recurrent their old (inaudible) you know unless you’re one of those people, you don’t really need to go in that direction. You also don’t necessarily need to learn all the different algorithm. I think it’s more important to understand what are the different techniques doing and really deeply, like have a deep understanding of statistics and how you use different things in different cases and have the ability to learn and then apply the right model or the right technique to the right problem. So it’s more important to be able to map out the right technique to the right problem rather than know every possible techniques and algorithms that are existing on this one.\\n\\nKirill: Very very powerful advice there. I just all sum it up to all the listeners and just for myself as well. You are observing a trend that data scientists becoming more mature as a type of industry, type of work and therefore some roles are becoming more specialized. So I guess it’s a good idea for the analyst and aspiring data scientist to start to look out for what they are most interested in and eventually end up doing something that they are passionate about in this field and also that developing a deep technological expertise in a broad range of tools and techniques is very important because you don’t want to get stucked just using that one technique because this field is constantly evolving and you want to be able to adapt and learn new skills on the fly as they say. I think that’s some very powerful advice and I know you’ve recommended already a great article by the sounds of it by the creator of random forest. Is there any book, a one book that you could recommend to our listeners that if they had the time to pick something up and improve their data science careers and skills. What could be the one book that you think they should read?\\n\\nRuben: That’s a good question cause I never actually learn data science from a book. I learned it in school, I learned it by doing or by looking at websites and forums however like there is one book that sort of like influence my thinking around data analysis and really you know cemented my ideas around acquisition, correlation, how can you torture data to see certain things, and how that thing might be wrong and how can you look at the same data sets and how can you come up with conclusions. And that book is actually The Signal and the Noise by Nate Silver. It’s a popular book and it’s a book that is obviously very technical but I think the ideas in that book is extremely powerful and again it’s this idea that you know data science is not just a set of techniques and tools, it’s also a way to think about the problem and if you don’t think correctly about the problem, it doesn’t matter that you have the techniques you’re gonna end up with like wrong insights and conclusions. It is important to have a deep understanding of like what are you trying to achieve, how do you like approach a problem, how do you look at them correctly and then use the right techniques and tools. So for that reason, I would recommend The Signal and the Noise by Nate Silver.\\n\\nKirill: Lovely. Haven’t read the book myself. Definitely that’s going onto my list of books that I’m picking up in the near future. Signal and the Noise by Nate Silver.\\n\\nThat has been a pleasure, Ruben. For our listeners, where can they find you? How can they contact you, follow you in any social media, any websites, where can they get in touch with you?\\n\\nRuben: I think the easiest is that getting in touch with me on LinkedIn. I’m working on a blog and a website. It’s not out there yet but the link will definitely be on my LinkedIn profile. So that’s one of the best way.\\n\\nKirill: Definitely and I will also include the link in the show notes as well. If there are any updates I will include those in the show notes as well there. Thank you very much, Ruben. Really appreciate you coming on the show and sharing your insights. I think that this has been a great day. Wonderful and insightful conversation. Thank you so much for coming along.\\n\\nRuben: Yeah. It was my pleasure. Thanks for inviting me.\\n\\nKirill: So there you go guys. That was Ruben Kogel. I hope you enjoyed the show. You can get the show notes at www.superdatascience.com/1. There you can also leave me or Ruben a comment in the comment section at the very bottom. Ask question or tell us what you thought. Also if you did enjoy the show, make sure to share it with your friends and work colleagues so that you can help us spread the word about the SuperDataScience podcast and I look forward to seeing you next time. Until then, happy analyzing.'"
      ]
     },
     "execution_count": 42,
     "metadata": {},
     "output_type": "execute_result"
    }
   ],
   "source": [
    "sds['text_episode'].loc[0]"
   ]
  },
  {
   "cell_type": "code",
   "execution_count": 38,
   "id": "71fb95cf",
   "metadata": {},
   "outputs": [
    {
     "data": {
      "text/plain": [
       "678"
      ]
     },
     "execution_count": 38,
     "metadata": {},
     "output_type": "execute_result"
    }
   ],
   "source": [
    "len(set(sds['text_episode'].str.findall('(^|\\\\xa0|\\\\n)[A-Za-z\\s]+:').explode().index)) #.stack().droplevel(-1)"
   ]
  },
  {
   "cell_type": "code",
   "execution_count": 39,
   "id": "68a89297",
   "metadata": {},
   "outputs": [
    {
     "data": {
      "text/plain": [
       "0        \n",
       "0      \\n\n",
       "0      \\n\n",
       "0      \\n\n",
       "0      \\n\n",
       "       ..\n",
       "677      \n",
       "677      \n",
       "677      \n",
       "677      \n",
       "677      \n",
       "Name: text_episode, Length: 46378, dtype: object"
      ]
     },
     "execution_count": 39,
     "metadata": {},
     "output_type": "execute_result"
    }
   ],
   "source": [
    "sds['text_episode'].str.findall('(^|\\\\xa0|\\\\n)[A-Za-z\\s]+:').explode()"
   ]
  },
  {
   "cell_type": "code",
   "execution_count": null,
   "id": "12f8eb0b",
   "metadata": {},
   "outputs": [],
   "source": [
    "sds_split = text_split(sds, sds['text_episode'])"
   ]
  },
  {
   "cell_type": "code",
   "execution_count": null,
   "id": "a747b26b",
   "metadata": {
    "scrolled": true
   },
   "outputs": [],
   "source": [
    "sds_split = sds_split.loc[sds_split[0] != '']"
   ]
  },
  {
   "cell_type": "code",
   "execution_count": null,
   "id": "9ad012b2",
   "metadata": {},
   "outputs": [],
   "source": [
    "sds_split"
   ]
  },
  {
   "cell_type": "code",
   "execution_count": null,
   "id": "8e45b814",
   "metadata": {},
   "outputs": [],
   "source": [
    "sds_split"
   ]
  },
  {
   "cell_type": "code",
   "execution_count": null,
   "id": "25ec0724",
   "metadata": {},
   "outputs": [],
   "source": [
    "sds_split[0].loc[]"
   ]
  },
  {
   "cell_type": "code",
   "execution_count": null,
   "id": "d09f617d",
   "metadata": {},
   "outputs": [],
   "source": [
    "sds_split.loc[0]"
   ]
  },
  {
   "cell_type": "code",
   "execution_count": null,
   "id": "371bca36",
   "metadata": {},
   "outputs": [],
   "source": [
    "sds_guest = sds[~((sds['guest_name'] == ' Kirill Eremenko ') | (sds['guest_name'] == ' Jon Krohn '))].copy().reset_index(drop = True)"
   ]
  },
  {
   "cell_type": "code",
   "execution_count": null,
   "id": "be72647c",
   "metadata": {},
   "outputs": [],
   "source": [
    "sds_host = sds[(sds['guest_name'] == ' Kirill Eremenko ') | (sds['guest_name'] == ' Jon Krohn ')].reset_index(drop = True)"
   ]
  },
  {
   "cell_type": "code",
   "execution_count": null,
   "id": "8d802563",
   "metadata": {},
   "outputs": [],
   "source": []
  },
  {
   "cell_type": "code",
   "execution_count": null,
   "id": "e656f682",
   "metadata": {},
   "outputs": [],
   "source": [
    "sds_host['context_episode'].unique()"
   ]
  },
  {
   "cell_type": "code",
   "execution_count": null,
   "id": "9d639c6d",
   "metadata": {},
   "outputs": [],
   "source": [
    "sds_host[sds_host['context_episode'] == 'Data Science']"
   ]
  },
  {
   "cell_type": "code",
   "execution_count": null,
   "id": "00316fcd",
   "metadata": {},
   "outputs": [],
   "source": [
    "sds_guest['context_episode'].unique()"
   ]
  },
  {
   "cell_type": "code",
   "execution_count": null,
   "id": "b19945d8",
   "metadata": {},
   "outputs": [],
   "source": [
    "sds['context_episode'].value_counts()"
   ]
  },
  {
   "cell_type": "code",
   "execution_count": null,
   "id": "9230520b",
   "metadata": {},
   "outputs": [],
   "source": []
  },
  {
   "cell_type": "code",
   "execution_count": null,
   "id": "141975b4",
   "metadata": {
    "scrolled": false
   },
   "outputs": [],
   "source": [
    "sds_guest['text_episode'].loc[7]"
   ]
  },
  {
   "cell_type": "code",
   "execution_count": null,
   "id": "2e24d0f0",
   "metadata": {},
   "outputs": [],
   "source": [
    "re.str.extract(r'([A-Z][a-z]+:)', expand = False).str.strip()"
   ]
  },
  {
   "cell_type": "code",
   "execution_count": null,
   "id": "a6de3f26",
   "metadata": {},
   "outputs": [],
   "source": [
    "\n",
    "\n",
    "text = 'Kirill:\\tThis is episode number 8, with Finance Director at Ubisoft, Ulf Morys.(background music plays)Welcome to the SuperDataScience podcast. My name is Kirill Eremenko, data science coach and lifestyle entrepreneur. And each week, we bring you inspiring people and ideas to help you build your successful career in data science. Thanks for being here today and now let’s make the complex simple.(background music plays)Hey guys, welcome to this episode of the SuperDataScience podcast. I am super pumped about this session because you won\\'t believe who was on the show with me today. Today we had a very special guest, Ulf Morys, who is the Finance Director of the German branch of the game design, development, and distribution company Ubisoft. Now I\\'m sure you’ve heard of Ubisoft before. They are the maker of such game brands like Watch Dogs, Assassin’s Creed, and Far Cry. So as you can imagine, this is a huge company, and it’s a huge name in the world of computer games. And I was actually very surprised to learn that Ulf Morys, who is the Finance Director of the German branch, is actually one of my students! It was such an interesting discovery, and you\\'ll learn more about how we met in this episode, but yes, Ulf is one of my students, and we instantly connected and I invited him onto the show, and he shared some very valuable insights about how he learns data science, and how he proactively uses it in his day to day role.So you see, Ubisoft uses data science for lots of things, such as in-game analytics and monetisation. However, finance is not one of them. And Ulf found himself in a situation where he\\'s the Finance Director, but at the same time, data science isn\\'t used much. And through his own experience of seeing where the world\\'s going, of using the tools around him, such as Google, Amazon, or Shazam, he figured out that data science is a very valuable skill to have, and he started learning it on his own. Like a lot of our listeners, a lot of you guys, actually do. You\\'ve started learning data science just because you have that feeling that this is something so valuable, so important in the modern world.And since he started learning it on his own, he actually then slowly started incorporating it in his role, and now they\\'re building this whole data landscape at Ubisoft for their operations side of things, and they\\'re going to be using quite interesting tools in order to drive these things in the world of finance that previously didn\\'t have this data backing. So a very interesting story of how Ulf is actually introducing these tools into his organisation, to that side of his organisation, and how he\\'s slowly building that data culture.And in addition to all of that, in this podcast we talk about a lot of interesting things. We talk about learning how to learn, we talk about an information sharing culture, which is very important for organisations in our modern world. We talk about Excel and its fallbacks. Ulf gives us his view on Python versus R, and why he prefers Python. We talk about MicroStrategy versus Tableau. We talk about data visualisation, falling in love with object-oriented programming, using data to save millions. So Ulf, before his current role as the Finance Director of Ubisoft, he actually also had exposure to data science in his previous roles, and he shares a very interesting story of how he was able to save €40 million just by using data science, and that is definitely recommended, even if you\\'re going to listen just to one thing in this podcast, definitely listen to that. That is a huge success story, and it\\'s a testament to how data science can be so valuable.We also talk about supervised versus unsupervised learning, structured versus unstructured analytics, and lots, lots more stuff. So you will get a lot of value out of this conversation. Super excited about this. Without further ado, I bring to you Ulf Morys, the Finance Director of the German Ubisoft.(background music plays)Welcome everybody to the SuperDataScience podcast. You won\\'t believe who we have here today. We\\'ve got Ulf Morys, who\\'s the Finance Director of the German branch of Ubisoft! Hi Ulf, how are you today?Ulf:\\tI\\'m very fine, thank you.Kirill:\\tAm I pronouncing your name right, Ulf?Ulf:\\tAbsolutely. Absolutely.Kirill:\\tWonderful.Ulf:\\tThat\\'s because people always go like, is this a sound, or is this a name? But it\\'s a name.Kirill:\\tOk. Great to know.'\n",
    "rows = re.split(r'[A-Z][a-z]+:', text)\n",
    "\n",
    "\n",
    "\n",
    "for row in rows:\n",
    "    print(row)\n",
    "    print(\"---\")\n"
   ]
  },
  {
   "cell_type": "code",
   "execution_count": null,
   "id": "a86040e3",
   "metadata": {},
   "outputs": [],
   "source": [
    "sds['text_episode'] = sds['text_episode'].astype(str)"
   ]
  },
  {
   "cell_type": "code",
   "execution_count": null,
   "id": "0cdf74c5",
   "metadata": {},
   "outputs": [],
   "source": [
    "sds['text_episode'].apply(lambda x: pd.Series(x.split('[A-Z][a-z]+:')))"
   ]
  },
  {
   "cell_type": "code",
   "execution_count": null,
   "id": "9e5160b9",
   "metadata": {},
   "outputs": [],
   "source": [
    "sds['text_episode'].str.split('[A-Z][a-z]+:', expand = True).stack()"
   ]
  },
  {
   "cell_type": "code",
   "execution_count": null,
   "id": "06113133",
   "metadata": {},
   "outputs": [],
   "source": [
    "sds_split"
   ]
  },
  {
   "cell_type": "code",
   "execution_count": null,
   "id": "3fe8c86f",
   "metadata": {},
   "outputs": [],
   "source": [
    "sds_split[sds_split['guest_name'] == ' Jon Krohn ']"
   ]
  },
  {
   "cell_type": "code",
   "execution_count": null,
   "id": "1e796312",
   "metadata": {},
   "outputs": [],
   "source": [
    "sds_split.info()"
   ]
  },
  {
   "cell_type": "code",
   "execution_count": null,
   "id": "8dc04fbf",
   "metadata": {},
   "outputs": [],
   "source": [
    "#sds = sds.merge(sds_split.to_frame(),left_index=True, right_index=True)\n"
   ]
  },
  {
   "cell_type": "code",
   "execution_count": null,
   "id": "1f6beb9f",
   "metadata": {},
   "outputs": [],
   "source": [
    "sds.head(30)"
   ]
  },
  {
   "cell_type": "code",
   "execution_count": null,
   "id": "5564d66f",
   "metadata": {},
   "outputs": [],
   "source": [
    "sds_guest.to_csv('../data/sds_guest.csv', index = False)"
   ]
  },
  {
   "cell_type": "code",
   "execution_count": null,
   "id": "2e1ead9e",
   "metadata": {},
   "outputs": [],
   "source": [
    "sds[sds['context_episode'] == 'Data Science']"
   ]
  },
  {
   "cell_type": "code",
   "execution_count": null,
   "id": "85b4f7e0",
   "metadata": {},
   "outputs": [],
   "source": [
    "sds['episode_name'].unique()"
   ]
  },
  {
   "cell_type": "code",
   "execution_count": null,
   "id": "a1e37edb",
   "metadata": {},
   "outputs": [],
   "source": [
    "sds['text_episode'].loc[13]"
   ]
  },
  {
   "cell_type": "code",
   "execution_count": null,
   "id": "a49378a9",
   "metadata": {},
   "outputs": [],
   "source": []
  },
  {
   "cell_type": "code",
   "execution_count": null,
   "id": "1c0908ed",
   "metadata": {},
   "outputs": [],
   "source": [
    "sds[sds['length_episode'] <= 20]"
   ]
  },
  {
   "cell_type": "code",
   "execution_count": null,
   "id": "9d9cef2a",
   "metadata": {},
   "outputs": [],
   "source": [
    "sds.info()"
   ]
  },
  {
   "cell_type": "code",
   "execution_count": null,
   "id": "4608ce57",
   "metadata": {},
   "outputs": [],
   "source": [
    "sds[sds['episode_day'] == 'Friday']"
   ]
  },
  {
   "cell_type": "code",
   "execution_count": null,
   "id": "0fc68516",
   "metadata": {},
   "outputs": [],
   "source": [
    "#text = BeautifulSoup(text, 'lxml').get_text(separator=' ', strip=True)\n",
    "\n",
    "#text = re.findall(r'[a-z]+', text.lower())"
   ]
  },
  {
   "cell_type": "code",
   "execution_count": null,
   "id": "37950fa3",
   "metadata": {},
   "outputs": [],
   "source": [
    "sds['guest_info'].loc[1]"
   ]
  },
  {
   "cell_type": "code",
   "execution_count": null,
   "id": "25e352a0",
   "metadata": {},
   "outputs": [],
   "source": [
    "import spacy\n",
    "from spacy.lang.en.stop_words import STOP_WORDS"
   ]
  },
  {
   "cell_type": "code",
   "execution_count": null,
   "id": "a7c916ed",
   "metadata": {},
   "outputs": [],
   "source": [
    "nlp = spacy.load(\"en_core_web_sm\")"
   ]
  },
  {
   "cell_type": "code",
   "execution_count": null,
   "id": "53ab2eed",
   "metadata": {},
   "outputs": [],
   "source": [
    "\n",
    "stopwords = list(STOP_WORDS)\n"
   ]
  },
  {
   "cell_type": "code",
   "execution_count": null,
   "id": "ed32ccfd",
   "metadata": {},
   "outputs": [],
   "source": [
    "stopwords"
   ]
  },
  {
   "cell_type": "code",
   "execution_count": null,
   "id": "6418ac21",
   "metadata": {},
   "outputs": [],
   "source": [
    "plt.hist(sds['length_episode']);"
   ]
  },
  {
   "cell_type": "code",
   "execution_count": null,
   "id": "31750a47",
   "metadata": {},
   "outputs": [],
   "source": [
    "sds.columns"
   ]
  },
  {
   "cell_type": "code",
   "execution_count": null,
   "id": "fe469e60",
   "metadata": {},
   "outputs": [],
   "source": [
    "sds['length_episode'].value_counts().head(10)"
   ]
  },
  {
   "cell_type": "code",
   "execution_count": null,
   "id": "4fde3fad",
   "metadata": {},
   "outputs": [],
   "source": [
    "sds['context_episode'].unique()"
   ]
  },
  {
   "cell_type": "code",
   "execution_count": null,
   "id": "eec256e6",
   "metadata": {},
   "outputs": [],
   "source": []
  }
 ],
 "metadata": {
  "kernelspec": {
   "display_name": "Python 3 (ipykernel)",
   "language": "python",
   "name": "python3"
  },
  "language_info": {
   "codemirror_mode": {
    "name": "ipython",
    "version": 3
   },
   "file_extension": ".py",
   "mimetype": "text/x-python",
   "name": "python",
   "nbconvert_exporter": "python",
   "pygments_lexer": "ipython3",
   "version": "3.9.12"
  }
 },
 "nbformat": 4,
 "nbformat_minor": 5
}
