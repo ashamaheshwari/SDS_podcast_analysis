{
 "cells": [
  {
   "cell_type": "markdown",
   "id": "d8fb172f",
   "metadata": {},
   "source": [
    "# Data Preprocessing"
   ]
  },
  {
   "cell_type": "code",
   "execution_count": 1,
   "id": "8056cad5",
   "metadata": {},
   "outputs": [],
   "source": [
    "import pandas as pd\n",
    "import re\n",
    "import matplotlib.pyplot as plt\n",
    "import seaborn as sns\n",
    "import plotly.express as px"
   ]
  },
  {
   "cell_type": "code",
   "execution_count": 2,
   "id": "5eb1ef0c",
   "metadata": {},
   "outputs": [],
   "source": [
    "sds = pd.read_csv('../data/superdatascience.csv')"
   ]
  },
  {
   "cell_type": "code",
   "execution_count": 3,
   "id": "890ac8c4",
   "metadata": {},
   "outputs": [
    {
     "name": "stdout",
     "output_type": "stream",
     "text": [
      "<class 'pandas.core.frame.DataFrame'>\n",
      "RangeIndex: 682 entries, 0 to 681\n",
      "Data columns (total 6 columns):\n",
      " #   Column           Non-Null Count  Dtype \n",
      "---  ------           --------------  ----- \n",
      " 0   episode_name     682 non-null    object\n",
      " 1   length_episode   682 non-null    object\n",
      " 2   context_episode  682 non-null    object\n",
      " 3   guest_name       682 non-null    object\n",
      " 4   guest_info       682 non-null    object\n",
      " 5   text_episode     680 non-null    object\n",
      "dtypes: object(6)\n",
      "memory usage: 32.1+ KB\n"
     ]
    }
   ],
   "source": [
    "sds.info()"
   ]
  },
  {
   "cell_type": "code",
   "execution_count": 4,
   "id": "a4251eeb",
   "metadata": {},
   "outputs": [
    {
     "data": {
      "text/html": [
       "<div>\n",
       "<style scoped>\n",
       "    .dataframe tbody tr th:only-of-type {\n",
       "        vertical-align: middle;\n",
       "    }\n",
       "\n",
       "    .dataframe tbody tr th {\n",
       "        vertical-align: top;\n",
       "    }\n",
       "\n",
       "    .dataframe thead th {\n",
       "        text-align: right;\n",
       "    }\n",
       "</style>\n",
       "<table border=\"1\" class=\"dataframe\">\n",
       "  <thead>\n",
       "    <tr style=\"text-align: right;\">\n",
       "      <th></th>\n",
       "      <th>episode_name</th>\n",
       "      <th>length_episode</th>\n",
       "      <th>context_episode</th>\n",
       "      <th>guest_name</th>\n",
       "      <th>guest_info</th>\n",
       "      <th>text_episode</th>\n",
       "    </tr>\n",
       "  </thead>\n",
       "  <tbody>\n",
       "    <tr>\n",
       "      <th>0</th>\n",
       "      <td>SDS 381: How to Avoid Failing at Digital Trans...</td>\n",
       "      <td>60 minutes</td>\n",
       "      <td>BusinessData Science</td>\n",
       "      <td>Podcast Guest: Tony SaldanhaWednesday Jul 08, ...</td>\n",
       "      <td>Subscribe on Website, Apple Podcasts, Spotify,...</td>\n",
       "      <td>Kirill Eremenko:\\tThis is episode number 381, ...</td>\n",
       "    </tr>\n",
       "    <tr>\n",
       "      <th>1</th>\n",
       "      <td>SDS 061: Discovering Data Science workflows an...</td>\n",
       "      <td>62 minutes</td>\n",
       "      <td>Machine LearningData SciencePython</td>\n",
       "      <td>Podcast Guest: Daniel WhitenackThursday Jun 15...</td>\n",
       "      <td>Subscribe on Website, Apple Podcasts, Spotify,...</td>\n",
       "      <td>Kirill:\\tThis is episode number 61 with data s...</td>\n",
       "    </tr>\n",
       "    <tr>\n",
       "      <th>2</th>\n",
       "      <td>SDS 049: Great tips on building a successful A...</td>\n",
       "      <td>65 minutes</td>\n",
       "      <td>BusinessDatabase</td>\n",
       "      <td>Podcast Guest: Jim HadleyThursday May 04, 2017</td>\n",
       "      <td>Subscribe on Website, Apple Podcasts, Spotify,...</td>\n",
       "      <td>Kirill:\\tThis is episode number 49 with Founde...</td>\n",
       "    </tr>\n",
       "    <tr>\n",
       "      <th>3</th>\n",
       "      <td>SDS 029: AI in Recruitment, Machine Learning, ...</td>\n",
       "      <td>66 minutes</td>\n",
       "      <td>BusinessMachine LearningData ScienceArtificial...</td>\n",
       "      <td>Podcast Guest: Ben TaylorFriday Feb 24, 2017</td>\n",
       "      <td>Subscribe on Website, Apple Podcasts, Spotify,...</td>\n",
       "      <td>Kirill:\\tThis is episode number 29, with Chief...</td>\n",
       "    </tr>\n",
       "    <tr>\n",
       "      <th>4</th>\n",
       "      <td>SDS 254: Two Wolves</td>\n",
       "      <td>6 minutes</td>\n",
       "      <td>Data Science</td>\n",
       "      <td>Podcast Guest: Kirill EremenkoFriday Apr 19, 2019</td>\n",
       "      <td>Subscribe on Website, Apple Podcasts, Spotify,...</td>\n",
       "      <td>This is FiveMinuteFriday, episode number 254, ...</td>\n",
       "    </tr>\n",
       "  </tbody>\n",
       "</table>\n",
       "</div>"
      ],
      "text/plain": [
       "                                        episode_name length_episode  \\\n",
       "0  SDS 381: How to Avoid Failing at Digital Trans...     60 minutes   \n",
       "1  SDS 061: Discovering Data Science workflows an...     62 minutes   \n",
       "2  SDS 049: Great tips on building a successful A...     65 minutes   \n",
       "3  SDS 029: AI in Recruitment, Machine Learning, ...     66 minutes   \n",
       "4                                SDS 254: Two Wolves      6 minutes   \n",
       "\n",
       "                                     context_episode  \\\n",
       "0                               BusinessData Science   \n",
       "1                 Machine LearningData SciencePython   \n",
       "2                                   BusinessDatabase   \n",
       "3  BusinessMachine LearningData ScienceArtificial...   \n",
       "4                                       Data Science   \n",
       "\n",
       "                                          guest_name  \\\n",
       "0  Podcast Guest: Tony SaldanhaWednesday Jul 08, ...   \n",
       "1  Podcast Guest: Daniel WhitenackThursday Jun 15...   \n",
       "2     Podcast Guest: Jim HadleyThursday May 04, 2017   \n",
       "3       Podcast Guest: Ben TaylorFriday Feb 24, 2017   \n",
       "4  Podcast Guest: Kirill EremenkoFriday Apr 19, 2019   \n",
       "\n",
       "                                          guest_info  \\\n",
       "0  Subscribe on Website, Apple Podcasts, Spotify,...   \n",
       "1  Subscribe on Website, Apple Podcasts, Spotify,...   \n",
       "2  Subscribe on Website, Apple Podcasts, Spotify,...   \n",
       "3  Subscribe on Website, Apple Podcasts, Spotify,...   \n",
       "4  Subscribe on Website, Apple Podcasts, Spotify,...   \n",
       "\n",
       "                                        text_episode  \n",
       "0  Kirill Eremenko:\\tThis is episode number 381, ...  \n",
       "1  Kirill:\\tThis is episode number 61 with data s...  \n",
       "2  Kirill:\\tThis is episode number 49 with Founde...  \n",
       "3  Kirill:\\tThis is episode number 29, with Chief...  \n",
       "4  This is FiveMinuteFriday, episode number 254, ...  "
      ]
     },
     "execution_count": 4,
     "metadata": {},
     "output_type": "execute_result"
    }
   ],
   "source": [
    "sds.head(5)"
   ]
  },
  {
   "cell_type": "code",
   "execution_count": 5,
   "id": "28de401d",
   "metadata": {},
   "outputs": [
    {
     "name": "stderr",
     "output_type": "stream",
     "text": [
      "/var/folders/s3/9_r9v9px7_v0q69b5zcbnmsm0000gn/T/ipykernel_16047/2714993561.py:17: FutureWarning: The default value of regex will change from True to False in a future version.\n",
      "  sds['guest_name'] = sds['guest_name'].str.replace(r'(\\b[A-Za-z]{3}\\s\\d{2},\\s\\d{4}\\b)', '')\n",
      "/var/folders/s3/9_r9v9px7_v0q69b5zcbnmsm0000gn/T/ipykernel_16047/2714993561.py:23: FutureWarning: The default value of regex will change from True to False in a future version.\n",
      "  sds['guest_name'] = sds['guest_name'].str.replace('Monday|Tuesday|Wednesday|Thursday|Friday|Saturday|Sunday', '')\n",
      "/var/folders/s3/9_r9v9px7_v0q69b5zcbnmsm0000gn/T/ipykernel_16047/2714993561.py:26: FutureWarning: The default value of regex will change from True to False in a future version.\n",
      "  sds['context_episode'] = sds['context_episode'].str.replace('([a-z])([A-Z])', r'\\1 \\2')\n"
     ]
    }
   ],
   "source": [
    "# Extracting episode_number and episode_name from episode_name column\n",
    "sds['episode_number'] = sds['episode_name'].str.split(':', expand = True)[0]\n",
    "sds['episode_name'] = sds['episode_name'].str.split(':', expand = True)[1]\n",
    "sds['episode_number'] = sds['episode_number'].str.replace('SDS', '')\n",
    "\n",
    "# Removing Podcast Guest text from guest_name column\n",
    "sds['guest_name'] = sds['guest_name'].str.split(':', expand = True)[1]\n",
    "\n",
    "# Removing minutes from length_episode column\n",
    "sds['length_episode'] = sds['length_episode'].str.split(' ', expand = True)[0]\n",
    "\n",
    "# Extracting date from guest_name column and making a new column episode_date\n",
    "sds['episode_date'] = sds['guest_name'].str.extract(r'(\\b[A-Za-z]{3}\\s\\d{2},\\s\\d{4}\\b)', expand = False).str.strip()\n",
    "sds['episode_year'] = sds['episode_date'].str.split(',', expand = True)[1]\n",
    "\n",
    "# Replacing/removing date in guest_name column \n",
    "sds['guest_name'] = sds['guest_name'].str.replace(r'(\\b[A-Za-z]{3}\\s\\d{2},\\s\\d{4}\\b)', '')\n",
    "\n",
    "# Extracting day from guest_name column and making a new column episode_day\n",
    "sds['episode_day'] = sds['guest_name'].str.extract(r'(Monday|Tuesday|Wednesday|Thursday|Friday|Saturday|Sunday)', expand = False).str.strip()\n",
    "\n",
    "#Replacing/removing day in guest_name column \n",
    "sds['guest_name'] = sds['guest_name'].str.replace('Monday|Tuesday|Wednesday|Thursday|Friday|Saturday|Sunday', '')\n",
    "\n",
    "#Adding spaces between some words in context_episode column\n",
    "sds['context_episode'] = sds['context_episode'].str.replace('([a-z])([A-Z])', r'\\1 \\2')\n",
    "\n",
    "# changing the data types for episode_number and length_episode\n",
    "sds['episode_number'] = sds['episode_number'].astype('int')\n",
    "sds['length_episode'] = sds['length_episode'].astype('int')"
   ]
  },
  {
   "cell_type": "code",
   "execution_count": 6,
   "id": "b22dd355",
   "metadata": {},
   "outputs": [
    {
     "data": {
      "text/html": [
       "<div>\n",
       "<style scoped>\n",
       "    .dataframe tbody tr th:only-of-type {\n",
       "        vertical-align: middle;\n",
       "    }\n",
       "\n",
       "    .dataframe tbody tr th {\n",
       "        vertical-align: top;\n",
       "    }\n",
       "\n",
       "    .dataframe thead th {\n",
       "        text-align: right;\n",
       "    }\n",
       "</style>\n",
       "<table border=\"1\" class=\"dataframe\">\n",
       "  <thead>\n",
       "    <tr style=\"text-align: right;\">\n",
       "      <th></th>\n",
       "      <th>episode_name</th>\n",
       "      <th>length_episode</th>\n",
       "      <th>context_episode</th>\n",
       "      <th>guest_name</th>\n",
       "      <th>guest_info</th>\n",
       "      <th>text_episode</th>\n",
       "      <th>episode_number</th>\n",
       "      <th>episode_date</th>\n",
       "      <th>episode_year</th>\n",
       "      <th>episode_day</th>\n",
       "    </tr>\n",
       "  </thead>\n",
       "  <tbody>\n",
       "    <tr>\n",
       "      <th>0</th>\n",
       "      <td>How to Avoid Failing at Digital Transformation</td>\n",
       "      <td>60</td>\n",
       "      <td>Business Data Science</td>\n",
       "      <td>Tony Saldanha</td>\n",
       "      <td>Subscribe on Website, Apple Podcasts, Spotify,...</td>\n",
       "      <td>Kirill Eremenko:\\tThis is episode number 381, ...</td>\n",
       "      <td>381</td>\n",
       "      <td>Jul 08, 2020</td>\n",
       "      <td>2020</td>\n",
       "      <td>Wednesday</td>\n",
       "    </tr>\n",
       "    <tr>\n",
       "      <th>1</th>\n",
       "      <td>Discovering Data Science workflows and the im...</td>\n",
       "      <td>62</td>\n",
       "      <td>Machine Learning Data Science Python</td>\n",
       "      <td>Daniel Whitenack</td>\n",
       "      <td>Subscribe on Website, Apple Podcasts, Spotify,...</td>\n",
       "      <td>Kirill:\\tThis is episode number 61 with data s...</td>\n",
       "      <td>61</td>\n",
       "      <td>Jun 15, 2017</td>\n",
       "      <td>2017</td>\n",
       "      <td>Thursday</td>\n",
       "    </tr>\n",
       "  </tbody>\n",
       "</table>\n",
       "</div>"
      ],
      "text/plain": [
       "                                        episode_name  length_episode  \\\n",
       "0     How to Avoid Failing at Digital Transformation              60   \n",
       "1   Discovering Data Science workflows and the im...              62   \n",
       "\n",
       "                        context_episode          guest_name  \\\n",
       "0                 Business Data Science      Tony Saldanha    \n",
       "1  Machine Learning Data Science Python   Daniel Whitenack    \n",
       "\n",
       "                                          guest_info  \\\n",
       "0  Subscribe on Website, Apple Podcasts, Spotify,...   \n",
       "1  Subscribe on Website, Apple Podcasts, Spotify,...   \n",
       "\n",
       "                                        text_episode  episode_number  \\\n",
       "0  Kirill Eremenko:\\tThis is episode number 381, ...             381   \n",
       "1  Kirill:\\tThis is episode number 61 with data s...              61   \n",
       "\n",
       "   episode_date episode_year episode_day  \n",
       "0  Jul 08, 2020         2020   Wednesday  \n",
       "1  Jun 15, 2017         2017    Thursday  "
      ]
     },
     "execution_count": 6,
     "metadata": {},
     "output_type": "execute_result"
    }
   ],
   "source": [
    "sds.head(2)"
   ]
  },
  {
   "cell_type": "code",
   "execution_count": 7,
   "id": "f9243b43",
   "metadata": {},
   "outputs": [],
   "source": [
    "# Sorting dataframe on episode number\n",
    "sds = sds.sort_values('episode_number').reset_index(drop = True)"
   ]
  },
  {
   "cell_type": "code",
   "execution_count": 9,
   "id": "165923a1",
   "metadata": {},
   "outputs": [
    {
     "data": {
      "text/plain": [
       "\"Kirill:\\tThis is episode number 53 with Aspiring Data Scientist Virginia Mendonca.(background music plays)Welcome to the SuperDataScience podcast. My name is Kirill Eremenko, data science coach and lifestyle entrepreneur. And each week we bring you inspiring people and ideas to help you build your successful career in data science. Thanks for being here today and now let’s make the complex simple.(background music plays)Hello, hello, hello. Hope you're having a great week, a very exciting and interesting week, and today we've got an inspiring guest. Virginia is an aspiring data scientist. So Virginia came from a background in databases and now she's decided to transition her career into data science. And the reason for that is because she has a greater vision for her future. She has a vision of doing good for the world. And she can see that it will be much easier to do that by knowing data science. How cool is that.In this podcast, we talked about quite a few things. We talked about how Virginia goes about understanding what skills she needs to learn and how to break into the space of data science, about understanding when it's appropriate to take a step back in your career and take a step sideways without regretting all the effort that you've put into your career, but instead leveraging your career to build a new career in a different space, such as data science.We also talked about how goals and dreams are different and how it's important to have a dream and be passionate about it and always work towards it and how to line yourself up for success in your dream. How not to just jump at it, but actually understand the right career path that you need to select for yourself based on what type of person you are in order to line yourself up for success in your dream, in your vision for your future.So a very interesting and inspiring podcast, especially if you are in the outskirts of just starting into your career, of just starting out into the space of data science, or if you already have a career but you want to transition into the space of data science. And that's what we're going to be talking about today. And without further ado, I bring to you Virginia Mendonca, an aspiring data scientist.(background music plays)Welcome everybody to the SuperDataScience podcast. Today we’ve got a very special guest, Virginia Mendonca calling from Slovakia. How are you going Virginia today?Virginia:\\tAll fine here. Thank you for inviting me.Kirill:\\tOh it's great to have you. So tell us a bit about yourself. You are a student. You're studying data science. You're trying to get into this space. Is that correct?Virginia:\\tYes. I'm very thrilled to understand data science. It's been a while I am into this study, basically online courses which I've been finding one interesting then another. And that's it. I'm studying and finally I found a chance to go deeper in it.Kirill:\\tOk, awesome. And you're listening to the podcast at the same time. Because the way we met, you actually sent me a long comment on how I could do the podcast better. Or basically some tips, which I really appreciated about how I communicate with guests and so on. So how are you finding the podcast?Virginia:\\tIt's because I find it an amazing and brilliant idea from you that I thought maybe I should tell him some tips that if I can help him with something and if he can see this, maybe he will think about it. Because it would be nice to improve. Just improve. When you see something that's really great, you think about improving it. When you don't believe in it, you don't even go there. And you wouldn't bother with this. But this for me is a really great way to reach out to all the data scientists and future data scientists, to empower their vision and that's what moves us.Kirill:\\tYes, yes. And thank you, that was a great thing to hear. Really appreciated the comments and definitely something I take on board. And then I was a bit straightforward, and I said ok, cool, looked at your LinkedIn and I was so surprised by your background. I couldn't not invite you onto the show. And then it was very interesting because when we just started the call, just now for people listening, we were just on the call before the podcast, and I honestly thought that Virginia is from Bratislava and that she's travelled to all these different places. But it turns out it's a completely different story and it's even crazier than I thought. So tell us a bit about your background. Where are you from and how has your life taken you to all these different countries, all these different places in the world?Virginia:\\tWell, first of all I would like to note that now I understand why the recruiters come to me already thinking that I am from Slovakia. It's not clear. But now I think I will make it clear on LinkedIn. Anyway, my life has been challenging, mostly challenged by myself. When I was in Brazil, I was a DBA, working with SQL Server.Kirill:\\tSorry, just to start, you're actually from Brazil? Because we still haven't gotten that clear.Virginia:\\tYes. I am Brazilian. Totally Brazilian!Kirill:\\tOk.Virginia:\\tAnd I started working with databases. It was my first experience with the IT area. Since then, I've spent 7 years working with databases, mostly SQL Server. I was working in Brazil, and I felt like I missed some international business knowledge. I wanted to improve my business knowledge because I felt it was needed to have my own business. So thinking much about it, I thought about studying it outside the country to have a bolder idea of it. So I went to Ireland. I was in Dublin for a year studying and after that, I really liked the style here in the European Union and I decided to stay. And then I applied for jobs in all of Europe. And the first one to give me an opportunity was AT&T here in Slovakia. So I thought, why not? And there I go.Kirill:\\tAmazing, amazing. So you challenged yourself to get out of your comfort zone. Big change from Brazil to Dublin. Even just temperature-wise, it's crazy!Virginia:\\tYes. Mainly from Brazil to Ireland. Because in Slovakia, right now you can feel it's warm outside. It's 18 degrees. And it can even reach much more, like 30 degrees! In Ireland, it's super windy and cold. And that's what I faced the entire year I was there. And a few sunny times.Kirill:\\tSo Slovakia is a bit better than that?Virginia:\\tYeah, it is.Kirill:\\tFantastic. There’s so many places we can start, but let’s probably start with your decision to stop your career in database administration and move to data science and data analytics. What triggered that change? For somebody listening to this podcast, if they have a career of 7 years in a certain area, they might be attached to it, they might be thinking, “I’m already very good at this. If I decide to go to data science or data analytics, I will have to start from zero. I will lose all of the years of effort that I’ve put into my career and the progression in my career that I’ve had.” So how did you go about thinking about that challenge? It’s such a big step to move to data science.Virginia:\\tFirst of all, it’s about the perspective you take over the situation. If you see this like an opportunity to increase your skills, your real skills, it’s never lost. Even the database knowledge, managing database knowledge that I’ve got, it will help me to understand, to have a broader view over the data science itself because we need to know also where it is stored and also how it is managed, it’s the backstage of this focus. So I think every knowledge adds up, mainly when we’re talking about data science. Because you can find people from all the other professions.I’ve been reading and listening and watching videos and people that have other backgrounds, they can even reach data science and be successful in it. So I’ve been very keen to go into this path which offers such broad ways to go. Like, I can use it like a tool in whatever I would like to study, and this really fits on me because I love having different options and freedom to choose and go wherever I want to go. So this is perfect because I can apply it in whatever I feel that is interesting.By the way, statistics is something that I had before. When I started my university life, the first course I did was statistics and I thought, “No! When am I going to use that?” At that time, I was a teenager and now I understand. Maybe now I can finally use and understand that knowledge.Kirill:\\tOkay. Wow, that’s a great overview. I also had a course in statistics at university. At the time, it was so vague in terms of the applications, how would you ever apply this unless you go into actuarial sciences or something very specific, but now I actually rediscovered statistics for myself just recently when I was creating the statistics course. It’s so interesting. There’s so many different applications you can do in analytics and data science.Yeah, thank you so much for that overview. It’s great that you have this perspective, that you’re not missing out. You’re actually learning something new. You’re progressing in a bit of a different direction, but at the same time you’re leveraging your skills where you can. I think Einstein said that if you’re not learning, you’re dying, something like that. So, if you feel that you’re not learning in your career, then why stay there, right?Virginia:\\tExactly. Yeah. I believe knowledge totally adds up. You’re never losing. You’re always increasing your capacities or perspective, actually. The more experience you have, the more knowledge you have, the more different perspectives you can have over happenings in your life. That’s all it’s about.Kirill:\\tYeah, totally. So what was the first step that you took? Was it that degree in Dublin? Was that your first step into data science, into analytics?Virginia:\\tActually, that was into business. I had no idea I would end up in data science. Actually, I am into this passion for having my own business and never thought that I could use a tool like data science to help me out. Lately I had this insight, like three months ago, I’ve been reconsidering to change my career because I felt very interested in the course. Mainly there’s a “Data Science A-Z” course that you offer on Udemy. That was amazing. I was really enjoying it and most of the time at work thinking of it, nothing else. So I thought, “Oh, my God. This is interesting. I could have many insights and if I had my own business it would leverage my career, my business itself to the proper insights.” I was thinking about it and I was studying this and during three months I was really keen for doing this. And inside AT&T I found this possibility. There were open positions and I just applied for it.Kirill:\\tOkay. That’s really cool, that you just applied and it happened that there were positions that you were interested in at AT&T at the time.Virginia:\\tYeah, it was a series of coincidences. I was feeling super interested in understanding it deeper and also there were these positions available at AT&T and I saw them. Usually I never see and this one really caught my attention, obviously, because this interests me. So I told them I have to decide if I will go for it, is this what I find more meaningful for me and to start this career in this area.Kirill:\\tOkay. That’s really cool. Tell us a bit more about AT&T. I’ve encountered AT&T in America. They do mobile phones, they sell mobile services. Is that the same company that you’re working for? Do they do the same thing in Europe?Virginia:\\tYes, it’s exactly the same company, but here they don’t do the same. Here we are managing the services or — in this case, I was into managing the database, the systems that are actually in there, in the U.S.A. So I was basically taking care of services in U.S.A., not in here.Kirill: Oh, okay. So it’s like an outsourced operation from the U.S. in Europe.Virginia:\\tExactly.Kirill:\\tInteresting. So what do you do currently at AT&T? I see on your LinkedIn it says ‘data integrity asset analyst’. What does a data integrity asset analyst do?Virginia:\\tWell, the moment I changed to this position, it is inside the asset life-cycle management of AT&T. It takes care of the assets, all the information of the AT&T assets. So we have to gather this, we have to collect all the data from software and hardware altogether from different database. Basically, as far as I can figure out, they’re being gathered by software that is called Asset Manager. Through these, we collect and analyse the data from AT&T systems and then we can compare and understand the overall data integrity.Kirill:\\tOkay. Very interesting. It sounds like you’re very involved in that first, initial part of the data science lifecycle where you’re kind of data preparation, data collection, data cleaning maybe. Not necessarily the full suite but that’s kind of your main focus. Is that correct?Virginia:\\tExactly. I see it at the beginning. I see they are cleaning the data. I can start to imagine all the things to do and I feel really excited to apply what I’m learning and also to use the tools like Tableau which we learn in your course.Kirill:\\tOkay. So does AT&T have Tableau or Power BI?Virginia:\\tAT&T has a partnership with Microsoft and we obviously have access to Power BI. But before I was hired, I was talking to the manager and I was really interested in having this experience with Power BI and the work, but she said we’re still not going to work with this. So I cannot wait for the time to bring it there somehow, find a way to make it more available.Kirill:\\tOkay. Wow, that’s very interesting. Sometimes it happens in life, I’m sure a lot of our listeners have the same situation where they don’t have access to the tools that they want to learn. In fact, I had the same situation. I was working at a company in the industry and I didn’t have access to R, Tableau, even SQL. So that was very challenging—Virginia:\\tFrustrating?Kirill:\\tFrustrating, exactly. I only had Excel. So I had to talk to managers and I had to ask them to actually bring those tools in. I had to make business cases why those tools should be here, why they’re important and so on. But in the meantime, what do you do? When you don’t have access to the tools that you want to learn at work, what do you do about progressing your learning anyway?Virginia:\\tThat’s exactly what I’ve done. I have asked for access to the ITO service which takes care of this are at AT&T. I have done these requests and also stated why I need it, and they’re still like—well, I’ve got to install Tableau because I’ve got to prove that it’s related, but the others are still on the go. By now, it’s what interests me, and also Excel. It’s helpful. So that’s it. That’s what I can use at work.Kirill:\\tOkay, interesting. And in terms of your role at AT&T, when you started that role—how many years ago was that again?Virginia:\\tThe role of DBA?Kirill:\\tNo, at AT&T.Virginia:\\tIt was 2015. January 2015.Kirill:\\tOkay. So you’ve been in that role for some time. I just want to understand for the benefit of our listeners, how do you think ahead in terms of a career at a company? Did you just jump at a role because you liked it or did you take something into consideration and you thought, “Okay, this role will take me to this type of data science work, which I want to do.” Did that happen in real life? What’s the situation there?Virginia:\\tWell, before taking this role, I was really studying the options I had. AT&T has an amazing software tool, let’s say web service, that offers us the possibility to see the career progression. So, in the area of data science, graphics are also showing how many are getting into this job, how many are getting out and even what you have to know. And a portal to get this knowledge is also there. So a specific subject into the data science area and how to get there and the progression also, where you end up.Like in this case, data analyst in the asset life-cycle management, I would be in the quality management. It would be the end of my career in this area in AT&T. (Laughs) So AT&T gives this—let’s call it Career Intelligence and iCareer too. They are two websites from AT&T that give us a background. Like we can have a clear idea where do we go if we choose this role. That’s what I was doing. I was really concerned where I would end up if I choose this. This was from the choice that I had, the most interesting, the most similar to what I would like to have, at least start an experience hands-on with data.Kirill:\\tOkay. That’s very interesting. And what would your recommendation be to listeners of the podcast who are considering a career in data science? How would you advise them to think about their career? What things should they take into consideration? Because making the first move in your career is a big thing. Like applying for a job, getting the job, and agreeing to a job is a huge step. So what would you recommend to them to consider when making these decisions?Virginia:\\tFirst of all, I think this should be based on knowing yourself, what you like doing the most, so that you won’t regret your decision later on. Because you’re totally sure about who you are, your values, and what you like most. Once you are aware of that, you can make a clear decision. Not because this is the big fashion of the moment and the area that will earn you lots of money if you go successfully, but because you really find it meaningful in your life, you really find this is a tool that you can go totally into without regret. So if you’re feeling that, I totally support you on choosing, on deciding. If not, I support you in studying exactly where you want to go, what you feel most attracted to before taking this decision.Kirill:\\tOkay. That’s very good advice because I agree with you that there’s so many areas of data science that a person could go into. There are so many different tools that you can study, so many different types of data science, so many different applications, methodologies and so on. It’s probably impossible to learn everything and be very good at everything and have a career in everything. You’re going to have to choose inevitably. So I totally second that opinion. You have to understand what you like, what’s the best thing, what’s the best fit for you personally regardless of what the hype is about. If everybody is talking about machine learning, but you don’t like Python programming or R programming, maybe you should be doing something else.Virginia:\\tFor example, you can see people are excited by Java programming. Since I entered IT, it was like the boom, all my colleagues were going for that, but I said, “No. I don’t feel like programming. I admire if you’re doing it with all of your passion, but if not, it doesn’t make any sense.” It’s 8 hours – if for example you’re working at a company, 8 hours of your life daily for frustrating tasks. I think we should really consider the paths we take based on what we most like or who we think we are and who we really are.Kirill:\\tExactly. I agree with that. For all students listening to this out there, I often get asked the question, “Which course should I start with?” You know, Kirill, you have like 20 courses on data science. Which should I take? Where should I go?” And the thing is, the answer for everybody is different. It depends on what you feel like, what is the best thing for you. Don’t get distracted by the fact that just now we released the course on deep learning or we released a course on something else. And that’s like the hype of the situation.You really have to be honest with yourself what is the best thing for you. If you like visualization, if you like Tableau, just do Tableau, do visualization and get really good at it. This field is booming so fast that there’s going to be job opportunities pretty much in any space of data science, wherever you decide to go.Virginia:\\tYeah, I would consider to look at yourself, what you feel more interested. Like, when you experience curiosity you are trying out. What made you to want to try that out? It’s an interest. How far does interest go? How many times you’ve been into this? How much are you really interested? So that’s what you like doing the most. That’s how I figured it out.Kirill:\\tI was about to ask, what did you figure out for yourself? What is your most interesting thing in data science?Virginia:\\tWell, first of all, it’s business. My idea is finally having business, mostly in the area of social development, like social organizations. And I would really like to create my own business in this area or at least make part of this. I cannot find any other tool other than data science to help me out with these to gather the best of it, like to see the trends and instead of just making profits—like, you can take the tools and make profit with your personal business, but you can also do it with a good social purpose. We are here to add up in the society, and why not? That’s super powerful to boost my intention to have my own business in this area.Kirill:\\tInteresting. Let’s talk a bit more about that. I noticed in your LinkedIn you actually—(Laughs) It sounds like I’m stalking you on your LinkedIn, that’s all I’ve been talking about! I’ve just got it open right now in front of me. You have been involved in quite a few volunteer opportunities. For instance, you were involved in the Africa Centre. Can you tell us a bit more about that just briefly so that we can get a feel for what kind of person you are? And then we’ll talk more about business opportunities in data science.Virginia:\\tYeah. In Ireland I had to study and I could work also for a limited time. I decided to go for things I really was interested in. Like, I was already into business and I was very close to the idea of how could I influence society, which are the NGOs here that are doing something about society? So the ones that I have noted that I am more keen to help are about the refugees and also these excluded societies like black, poor — just excluded societies, people that are just left without much options. So I went for that. I went to these institutions to check what they were doing and to see how I could be helpful for them. And that’s basically it.Africa Centre is gathering the youths, the teenagers mostly to bring the consciousness about the service provided, cultural services for them to keep their roots alive, to feel that they are not alone, that they have the support. It’s amazing job, what they do. I was directly involved with the director of the company and I had nice ideas with him to improve the business. I was mostly managing the projects that he had, like altogether. We had other people from his staff to promote this information to the African community inside Ireland.Kirill:\\tOkay. That’s very interesting. Thanks for that breakdown. Very noble thing to do, to participate in volunteer opportunities. Now moving on to your idea of using data science in business for good, can you tell us a bit more about that? I know before the podcast you mentioned a company called DataKind and how they use data for social good. Maybe let’s start there. What is DataKind, what do you know about them, and how do they use data science for good?Virginia:\\tWell, first of all, I know Jake Porway, he is the founder and executive director of DataKind. I actually found him because I was checking which companies working into data science are interested in working with social good. So I found this DataKind company which does work that I really admire. Basically, they’re helping to bring together data scientists to promote high impact in social organizations, to better collect, to better analyse, to better visualize the data in the service of humanity to decrease poverty, to decrease violence and all issues that we have in the society.Kirill:\\tVery interesting. It sounds like a very passionate person and somebody that I would love probably to invite to the podcast as well.Virginia:\\tYeah, that would be very interesting, to have this person. And there is also a woman — because I’m kind of a feminist — there is also a woman in this area. I don’t know if you heard about her, but—Kirill:\\tWhat’s her name?Virginia:\\tClaudia Perlich. She’s the Chief Scientist in Dstillery. That is also a company. In her case, she is providing market intelligence. She has a brilliant mind and is a really great data scientist in the area. I get inspired with her and her data mining knowledge. She has some presentations on YouTube that inspire me, too. So, basically, both of them together is my view of a good data scientist.Kirill:\\tOkay, that’s pretty interesting. Very inspiring people and very inspiring initiative, sounds like it. But what about your idea? What are you thinking of using data science in your business to help use analytics for good?Virginia:\\tWell, using the prediction models like Claudia does to figure out the trends into social issues basically regarding refugees, which is a critical issue here in the European Union. So I’m really interested in gathering the data to offer them support, shelter specifically, mainly care of children. But I am aware that I need to be in touch with many, many other companies and NGOs that do this same service to have a broader experience, not just what I had in Ireland but much more contact. And in this reality that I ended up in Slovakia, I’m a bit far from it, but it is still my biggest desire. We are talking about the end line, my biggest desire to use and develop great knowledge about data science on helping me to furthermore invest on this business idea.Kirill:\\tOkay, that’s pretty cool. So you’re still searching? Still developing your network and contacts to start a business?Virginia:\\tYes.Kirill:\\tIf you don’t mind me asking, why are you so confident about starting a business? There’s so many different areas you could apply data science on. Why are you so set on starting a business and what helps you keep that passion alive?Virginia:\\tWell, that’s a great question. Honestly, I was always troubled in my life with the idea of starting up my own business. I say ‘troubled’ because the society’s conventional ways don’t usually convey to supporting our creativity. Most people are training to be part of an already existing working idea. Therefore, pursuing my own way to do my own business, it’s something that would really give me satisfaction. I don’t have to follow the rules of any other person that created any other idea.I have these values that brought me to a specific idea and I would like to put it in practice. Of course, with the best skills that I have, so I would build it strongly. And why not? We are usually raised to go with the flow and just work there to have money and keep ourselves fine, but I think life is much more than that. We are here and we are very valuable so we can add with our own ideas and create our own ways.Kirill:\\tThat’s very inspiring. Thank you for sharing that. What would you say to somebody listening to this podcast who maybe thinks similar to you? I think many people — maybe everybody even – has some sort of passion, some sort of ideas of how the world could be better. What would you say to those people about how they can get excited about that? And what kind of first steps can they take in the direction of starting their own business, in the direction of becoming more independent in their thinking and not just performing the work that they’re doing at their jobs – even though they might like it – but also creating that opportunity for themselves to implement these ideas into something material and make them come to life?Virginia:\\tI think it’s all about passion. When you have been honest with yourself in choosing that career that you really like, this might be a natural result because you are so excited in this area that you start to have your own ideas. And why not put them in practice? So I would advise to who is listening and is into this same perspective of mine, the same objective, I would advise you to just pursue your passion. Just because it’s comfortable, don’t let it be like that. Go for the challenge. Your passions are going to hold you tight there and will make you succeed if you are really into it. So don’t be afraid and really try if you find this is your passion. That’s what I would advise.Kirill:\\tFantastic. Thank you for sharing that, it’s great. And you mentioned challenges. What is the biggest challenge that you’re facing right now in terms of making all of this come to life?Virginia:\\tThe biggest challenge right now is how to apply the knowledge into my work because I want to make it real and I know that data science is about real problems, it’s about reality. We can solve it. So I want to have this knowledge I’m gathering, apply it into my work – this is the starting point. So I will be more and more familiar with it and then have a broader experience. And this is the biggest challenge because the biggest experience would be what will guide me to my dream basically.Kirill:\\tOkay, gotcha. That’s very interesting. Yeah, it’s very interesting how you think about it. You want to first start by getting the experience and then move onto your dream. It’s interesting you mentioned that because I was actually thinking about that myself just recently. What I do in my business and what I’m working with, a lot of that would have not been possible if I have not spent enough time at university, at my career in Deloitte where I was doing consulting, at my career in the industry where I was building a data science team. And at the time for me it felt like maybe it was just exciting projects.At Deloitte there was lots and lots of exciting, fun things, I was flying all over Australia doing really cool data science projects and then maybe it was just overcoming challenges. Also there was a sense of obligation that you have to have a job to pay the bills and so on and so forth. And slowly my dream was growing and growing and growing into something bigger with time.But now looking back, I see that if I had not done the job at the industry, if I had not done the career at Deloitte, I wouldn’t have had the right experience, expertise and background in order to do what I’m doing now. And I’m really thankful to my past self for spending that time, those three years or more if you include university and other jobs, in doing what I did because it helped me build all this vision and especially the expertise to do the things that I want to do now to actually make my dream come true. So that’s some great advice, I think.Virginia:\\tYeah, you are building yourself. You are finding out what you like most and now you are receiving the product of that. I believe the result is this.Kirill:\\tYes. So, for those listening out there, I think it’s a great tip that if you have a dream of doing something, then probably when you’re young, it’s harder to understand the pathway to your dream. You just go with the flow or you do what you’re passionate about. But even doing what you’re passionate about is a great compass in life. It helps you because it will guide you to your dream anyway. But if you’re already a bit experienced, you know what life is all about – it’s kind of hard to know, but you know a thing or two – it’s a bit easier to sit down and think, “Okay, what is my dream? And how do I build my path towards my dream?”This is interesting. I was saving this up for a Five Minute Friday episode, but I might say it here. There’s a difference between dreams and goals. This was told to me by my mentor who was taught this by his mentor, so it’s trickled down quite a long way. Dreams are things that you want to accomplish in life full stop. It’s just something that you would want to accomplish one day, whereas goals are dreams which have a timeline. So once you say, “I want to do this by this date, that’s a goal.” But if you don’t have a date and it’s just something you want to do, something that you’re passionate about, something that you’re working towards, it’s a dream.Virginia:\\tMakes sense.Kirill:\\tYeah, thank you. So it’s important to understand not just what your goal is for the next year, next three years, next five years, but to understand what your dream is. Because the thing with dreams and goals is if you get them wrong, if you set your dreams as goals, if you say, “I want to start a business in three years,” then what will happen is you will get frustrated if you’re not coming closer to your goal, if two years pass and you’re not even one step closer. But if it’s a dream, then you will still be doing what you’re passionate about and your passion will guide you towards your dream and one day it will become a goal.Virginia:\\tI believe that it is very productive if you set your dreams as a background to your goals. They are essential for you to reach your goal. Without them, maybe you’ll never realize. And some people just like to dream about it and not really put in practice. So the goal will make you realize what you really want. Sometimes in a point of your life you have such a specific dream and through your goals you maybe are reaching there but on the way, you find something else.So in this pursuit of your dreams, you are finding who you are, what you really want. Dreams can change too, and we should put them in the background of our goals and bear in mind that it can change. And we should try, many times, to really figure out how to see it and think about it, but we have to have hands on to understand where we really want to go, not just what appears to be.Kirill:\\tFantastic. I love it. I love the concept of having your dream as the background for your goals and for things you’re doing. That’s a great idea, so that everything you’re doing and learning and working on is with that in mind so you always think, “How is that in the direction of my dream and how is that going to help my dream?” That’s a great idea, I think. Okay, I have just a couple of quick questions towards wrapping up. In your learning of data science, what is a recent win that you had that you can share with us, something that you’re proud of that you’ve accomplished, some breakthrough that you had? Is there something that you can share with us?Virginia:\\tLearning and—Kirill:\\tOr maybe in your role. Either/or.Virginia:\\tThe fact itself that I got to change my career to this data analyst position is just a start, it’s just a beginning, it’s really something I’m really happy about, really excited. But I have less than one month in this position so what I could have done, it’s hard to say it is solid by now. I would like to apply what I’m learning, I would like to visualize the data and the trends, where it is going. There are many things that I would like to do, but I need to have more experience to understand the process behind it and finally to see the trends and the insights about it. It’s too early to say something.Kirill:\\tNo, that’s a good answer. You just got into this new position. And I just realized that you were a tech specialist in database administration at AT&T and it just only happened a month ago. I thought it was actually two and a half years ago, but it just happened a month ago that you moved into data science. Very exciting. Congratulations on that.Virginia:\\tThank you. This achievement itself is really exciting for me.Kirill:\\tAnd it happened inside AT&T, right?Virginia:\\tYes.Kirill:\\tI’ve heard a lot about that and I’ve seen that happen. To keep talented people, companies open up opportunities to move around within the company. Do you have any advice on that? How would somebody who is in the company that they love, how would they approach the question of, “I actually want to change my role to be more focused on data science?”Virginia:\\tFirst of all, your manager should be keen with this idea. I always had great communication with my manager and in AT&T, we have to go directly to the manager to talk about this idea of changing position. And also, when we go to apply on the website to [indecipherable 49:44] change, it automatically goes through the permission of the manager. So if you have a good understanding with your manager, and mostly if your manager is aware of your skills, where they are going to, what are your passions, and is willing to support you.In AT&T it happens like that. Your manager is going to help you. Fortunately, in my case, that’s what happened. My manager said he would support me in this passion that he has seen, that he acknowledged. I have more focus on data than anything else, so he advised me and told me not to be afraid. So, first of all, analyse how is the situation. If your manager knows you well enough to believe that you can really change to this new position. If not, I think you should work on this relationship, if the politics are similar to AT&T. I don’t how it works in other companies, but that’s how it works for me. Fortunately I saw this position available so I could apply for it and all went fine.Kirill:\\tOkay. And how would you compare an interview – I’m assuming that was an interview – an interview when you’re already inside the company versus an interview when you’re joining a company fresh? Is it different?Virginia:\\tIt’s much more comfortable. You feel much better then. You are at home, you’re just changing rooms. You know everybody. I have a good relationship with my former colleagues and the actual colleagues are also amazing so they welcomed me and everything was — I know how the process works in AT&T, so it’s easier to go for it and it’s easier to change inside, I believe.Logically, they feel more interested in their own people than in the external ones because they already know the process so we will skip the part of teaching how it works, going through trainings. Because when I was at AT&T for the first three months, I was in too many trainings to understand the process and to understand how it works there. So when they skip this, it’s an advantage. I felt like this.Kirill:\\tOkay, that’s great. Thanks a lot for sharing it. I think that can be useful inspiration to a lot of our listeners who might be considering other roles, like, being in data science but then thinking, “Oh, this whole interview process is challenging.” But maybe there are roles for data science in your organization already that you could consider for yourself. And that brings us up to the end. We’re running out of time already. Thank you so much, Virginia, for coming on the podcast. I just have one last question for you. What is a book that you can recommend to our listeners that could help them become better data scientists?Virginia:\\tWell, I would actually recommend an audio book that I’ve lately been into and has been giving me insights about the main tool that you have to have before everything – that is statistics. “Naked Statistics” is the name of the audio book you can find on audible by Charles Wheelan.Kirill:\\tOkay, great. Thank you. What did you like about the book?Virginia:\\tIt is inspiring. It’s telling in practical terms how statistics is not boring at all when you find meaningful data through it. It’s just simplifying the terms. Most people are taught about how bad statistics is because of the hard terms to understand. But when you find meaningful data behind it, you will just think the opposite. You’ll just find it amazing. That’s what I’m feeling. I’m still listening and this has been inspiring me lately, altogether with your courses which are really, really good.Kirill:\\tThank you. So, “Naked Statistics” – guys, check out that audio book. Virginia, how can our listeners follow you or contact you if they’d like to know more about how your career progresses and what you achieve and maybe one day how you use data for good?Virginia:\\tI have a website in Jimdo. I don’t know if you are aware, but it’s a platform to create websites. I have created my homepage there so you can know more about me there altogether with LinkedIn. At Jimdo, it’s just virginiammg.jimdo.com.Kirill:\\tOkay. virginiammg.jimdo.com. I will definitely include the links in the show notes, and also LinkedIn. Once again, thank you so much for coming on the show and sharing your experiences and most importantly, your experiences in learning and vision for your future and how you think about your vision. I think it’s very inspirational, what you’ve shared.Virginia:\\tI thank you very much for bringing me here and sharing this with your listeners. Thank you very much, Kirill.Kirill:\\tThank you. Have a great day. Bye.Virginia:\\tYou too. Bye-bye.Kirill:\\tSo there you have it. I hope you enjoyed today’s podcast. We definitely talked a lot about career-related things and all these different aspects to selecting your career, selecting how you want to progress towards your future, understanding what you’re good at and what you’re actually passionate about.My favourite part of this episode was when we spoke about how you line yourself up for success in the future. You might have a dream, but maybe it’s not the best idea to just jump at your dream right away. Instead, get some experience, create a name for yourself or get the right skills and tools in place in order to be successful in your dream. Virginia definitely showed a great example of that where she has a dream of doing good for the world through data, but she also understands that she needs to develop those data science skills first before she can jump into that and that’s exactly what she’s doing.I think that was a very inspiring message that was delivered there and definitely something for you to consider in your career. Where do you want to end up? Where do you want your career, your life to take you? And what skills or expertise or experience do you think you need to line up in order to be successful at that? So something to consider and, as always, you can find the show notes for this episode at www.superdatascience.com/53. There you can also get the links to Virginia’s LinkedIn – don’t forget to connect with her there – and her website. And on that note, I wish you a pleasant rest of the week and I look forward to seeing you next time. Until then, happy analyzing.\""
      ]
     },
     "execution_count": 9,
     "metadata": {},
     "output_type": "execute_result"
    }
   ],
   "source": [
    "sds['text_episode'].loc[52] "
   ]
  },
  {
   "cell_type": "code",
   "execution_count": 10,
   "id": "66c663fb",
   "metadata": {},
   "outputs": [],
   "source": [
    "# Add a new column host_episode to sds dataframe\n",
    "sds['host_episode'] = 'Kirril Eremenko'  # Set initial value to 'Kirril Eremenko '\n",
    "\n",
    "# Set value to 'Jon Krohn' from column 430 to 681\n",
    "sds.loc[430:681, 'host_episode'] = 'Jon Krohn'"
   ]
  },
  {
   "cell_type": "code",
   "execution_count": null,
   "id": "da2507a3",
   "metadata": {},
   "outputs": [],
   "source": [
    "sds.info()"
   ]
  },
  {
   "cell_type": "code",
   "execution_count": null,
   "id": "4bc10f3f",
   "metadata": {},
   "outputs": [],
   "source": [
    "sds.to_csv('../data/sds_cleaned.csv', index = False)"
   ]
  },
  {
   "cell_type": "code",
   "execution_count": null,
   "id": "3c19ef02",
   "metadata": {},
   "outputs": [],
   "source": [
    "sds['guest_info'].loc[0]"
   ]
  },
  {
   "cell_type": "code",
   "execution_count": null,
   "id": "68b10a17",
   "metadata": {},
   "outputs": [],
   "source": [
    "sds['text_episode'].isna().value_counts()"
   ]
  },
  {
   "cell_type": "code",
   "execution_count": null,
   "id": "c75c13a9",
   "metadata": {},
   "outputs": [],
   "source": [
    "sds['guest_name'].nunique()"
   ]
  },
  {
   "cell_type": "code",
   "execution_count": null,
   "id": "da26b99a",
   "metadata": {},
   "outputs": [],
   "source": [
    "sds['guest_name'].value_counts()"
   ]
  },
  {
   "cell_type": "code",
   "execution_count": 48,
   "id": "1d7bd1b8",
   "metadata": {},
   "outputs": [
    {
     "data": {
      "text/plain": [
       "\"Kirill:\\tThis is episode number 31, with my good friend David Tanaskovic.(background music plays)Welcome to the SuperDataScience podcast. My name is Kirill Eremenko, data science coach and lifestyle entrepreneur. And each week we bring you inspiring people and ideas to help you build your successful career in data science. Thanks for being here today and now let’s make the complex simple.(background music plays)Hello and welcome to the SuperDataScience podcast. Super excited to have you on board, and today I have invited my good friend David Tanaskovic onto the show. So something you need to know about David is that he's the happiest person I know on this planet. He's always super excited about life, nothing can bring him down, and he's just generally having fun going through life. Like you know sometimes you wish you would enjoy the things you do and your day to day activities, more like sometimes a day passes by and you feel like oh, wow, like I didn't really enjoy this day as much as I could've, or as much as I wish I had. Well I think that David never has that problem. He's always super positive about everything.And at the same time, David does so many different things. So for example, David is the Director of a media marketing agency. He is also in the import-export business and doing some work in that space, and importing and exporting things from and to Australia and from and to China. Also, he's working in the business development space in pharmaceuticals, and then just his occupations. At the same time, he's got millions of hobbies, he's one of the best ballroom dancers in Melbourne, like salsa and bachata and all these other crazy dances, and he plays volleyball and other sports, and also he just happened to decide to learn Chinese, and in the past year, he's learned Chinese.So lots of very interesting things are happening in his life, and we talk about a lot of that. And this podcast is going to be very useful to people who are thinking of getting into the space of marketing specifically. So this is not a heavy data science podcast. So we don't talk about things like R and Python and so on, but at the same time, we do cover off those tools that are used in the marketing space. And we talk about Kissmetrics, we also talk about A/B testing and how David views A/B testing and how he performs A/B testing in his company. Also you will find this podcast useful if you are looking to enhance your productivity and just have a better lifestyle, and enjoy your life more. So David shares some tips about how he goes about learning new things and some tips for people starting new careers, and so on. So if you're looking for any of those two things, then this podcast is for you. And I can't wait for you to get to know my friend David and what he is up to.So without further ado, I bring to you my friend David Tanaskovic, Director of C2 Media.(background music plays)Welcome everybody to the SuperDataScience podcast. Today I've got my good friend David Tanaskovic with me calling in from Melbourne. David, welcome to the show. How are you going, man?David:\\tHi, very good, very good. Thanks for having me.Kirill:\\tThat's awesome. How's the weather in Melbourne?David:\\tOh yeah, it's pretty good, but changes very often. Typical Melbourne style.Kirill:\\tYeah. Yeah. As always. That's kind of the only reason I don't live in Melbourne, because the weather is just changing like 50 times a day.David:\\tYeah, that's right.Kirill:\\tSo, David, how long have you and I been friends for?David:\\tWow, that’s—yeah, very, very long time. I can’t even count the years. I need more than two hands.Kirill:\\t(Laughs) Yeah, it’s crazy. I think we started hanging out when I was six years old. 22 years, man.David:\\tExactly. Exactly.Kirill:\\tUnreal, yeah. Good times.David:\\tAbsolutely.Kirill:\\tYeah, man. We grew up in Africa together and then out of our two families you were the first to move to Australia and start your marketing degree here. From there, where did that take you? After moving here and getting into your marketing degree, how did that go and what were your next steps after that?David:\\tYeah, absolutely. So, I had a really strong passion for marketing and I really fell in love with it when I studied it. I really wanted to work in things, especially like campaigns and I saw a lot of ads on TV and things like that. I wanted to work in that sort of creative side of the industry. And it really took me in a sort of different direction when I started to work.I started working in sort of education industry and marketing around there, and then from there I moved on more towards media and now I actually am partnered in a media company called C2 Media in which I work as well. And other than doing that, of course, I have a couple of other businesses. I’m always doing something. I guess one of the passions of working in marketing and working around data and analysis is that there’s a lot of things that I can do. I do a little bit of import-export business. I do, of course, the media business. I work in business development in actually the pharmaceutical industry. So I have my hands in a lot of different jars.Kirill:\\tYeah, that’s something I find so inspiring about you all the time. First of all, you don’t sit on your back and do nothing. You’re always constantly doing stuff. And the second thing is that you seem to have like 48 hours in a day. I don’t know how you do this, but you have managed to have free time, you’re married, you have a lovely family, you have a family life, you have all these jobs, you have hobbies. I mean, for crying out loud, in the past year you learned Chinese. How do you do that?David:\\tWell, I guess a lot of work/life balance is all about really making time for things. Everyone says that and everyone thinks it’s quite easy, but it’s actually all about scheduling and keeping yourself busy all the time. And I keep myself busy having fun too. Having fun is obviously the number one goal. And all the hobbies that I do, like I do some sport like volleyball and things like that, or like tennis or golf—I do a lot of sport during the week. And then I find time to do things like dancing and learning Chinese. Just keep yourself busy but do the things you love, have fun and then you don’t find it as work. You find it as a passion.Kirill:\\tBy the way, dancing—guys listening to this, you’ve got to know that there is like a mini Tim Ferriss in Australia because you’ve got so many trophies for dancing. You know, 1st place in Melbourne so many times.David:\\tOh, yeah, there’s a whole shelf just picking up dust and lots and lots of trophies.Kirill:\\t(Laughs) Yeah, yeah. I would say you’re not being modest if I hadn’t seen it. It’s really packed. Like, they’re falling off the shelf.David:\\tAbsolutely. But that’s the thing. When you’re passionate about something, you’ll do your best in it and you’ll do whatever it takes to succeed. I’m actually going to be doing a big comp at the end of the year as well for dancing, so I’m preparing for that while I’m learning Chinese, while I’m doing my businesses. So, yeah, 48 hours in a day.Kirill:\\tThat’s crazy. I love it. All right, so tell us a bit more about your businesses or about the roles that you’re working on. I’m assuming some of them involve data more heavily, some of them involve data less heavily. Let’s maybe start off the ones that are more data focused and that way you can share the most insights with our listeners.David:\\tYeah, absolutely. I guess the most data intensive role that I’m currently doing is being part of the media company. A lot of what we do for clients, and a lot of these clients are actually foreign exchange companies, or forex, or financial brokers or property brokers, so there’s a lot of financials to do with it. What we do is we do campaign analysis as well as running of campaigns and launching of campaigns. So there’s a lot of data involved in terms of finding out how successful campaigns are, is it reaching the right target market, how you’re testing the markets, how you’re testing, whether it’s going to make a sale, whether your lead generation is actually happening, and a lot of tracking of that data, so it’s quite interesting, quite involved. That’s one of the things I love about it.You know, when I think of data, it makes me really, really passionate and really want to actually do more and analyse and sort of paint the picture of what I’m actually going to do with this, how can I explain what just happened. It’s a beautiful thing. It tells a story. I guess that’s more the media side of things, so I’ll get a little bit more into that later. In the other roles that I do, I do a lot of business development and relationship development in both my export business as well as my business development role in the pharmaceutical company, talking to a lot of clients. I’ve always had a passion for meeting new people, networking, and seeing how we can help each other and how people can grow within a business finding sort of similar goals and things like that.Kirill:\\tYeah, got it. You’ve definitely been very good at networking all the time. Do you use data or any analytics for your networking to help you understand who to connect with or how to maintain relationships with people?David:\\tYeah, what I tend to see that really works is that once you sort of build a small network of people that you really know well, especially in terms of business, what you need to do to essentially make that grow, you tend to have to do networking events a lot very often. And I tend to stalk people a lot on LinkedIn – that’s one of my favourite things – and get to find out a little bit more about them and where they’re from, what their background is, and what they’re interested in. And you know, it’s especially important, and I think what really helped me with networking and building such a strong network of people and businesses, is to be interested in what they’re interested in. You know, get involved in what they’re involved in and sort of see their point of view of things. Yeah, I guess that’s some advice that people can take back.Kirill:\\tYeah, thanks. And I can attest to that. That networking is really important. Like, I’ve always heard, even when I was working for other companies, I heard that about 80% of recruiting or hiring happens behind the scenes, happens through referrals, through connections and so on. I was always a bit skeptical about it. But now that I have my own business it’s exactly like that. Pretty much 80% of the people are always like friends of friends or people who they know.David:\\tExactly.Kirill:\\tSo, if people who are listening to this podcast are looking for jobs and so on, best way to do that is networking.David:\\tYeah. Basically throughout my whole career, if I hadn’t networked I probably wouldn’t get any of the roles I got because even though I applied many roles looking for work here and there, looking to upgrade my career, the best roles that I got, and the most enjoyable ones, were people that you work with that you want to work with and you love to work with and you have a good connection with. And those people you get to know through networking.Kirill:\\tYeah, totally. Okay, so let’s move on a bit to your current role as a Director of C2 Media. I’m assuming, from what you’ve told us so far, that’s the most heavily data focused role. Can you tell us a bit more? Like, you’ve mentioned brokerage companies and that you’re on marketing campaigns for them. But how exactly do you use data, data analytics, data science in your day-to-day role?David:\\tBasically what we do is we tend to launch a lot of digital marketing campaigns. Of course, knowing digital marketing, there’s a lot of information that goes into it and you get a lot of information out of it. You get information about the people, where they’re from, who’s looking at the advertisements, so there’s a lot of information that you can get on your actual customer base, especially people who are interested in it. And some of the tools, I guess, and some of the ways that we use the data is – apart from of course finding out whether a campaign is being successful and whether it’s getting enough hits or getting enough information based on what the creative says or what the creative does – another thing that we find out is whether that creative, even though it’s getting a lot of hits, will convert. So, we use a lot of data to sort of do some conversion analysis doing A/B testing to find out whether a certain creative is better than another creative. Also, A/B testing in terms of seeing which sort of subject lines work best, what will grab people’s attentions the most.And then after that whole process of getting their information and gathering that, we also work on lead conversion strategies. So, we work out what sort of target market is the best for the client, what sort of target market is going to most likely turn over into a sale. Basically whether they’re from a certain income, certain generation, certain background, et cetera, so what’s their primary role, what’s their work, where they come from, what’s their annual salary, all these sorts of things. You can get quite a lot of data from campaigns, especially because a lot of campaigns for lead generation, a lot of it is submitted by users themselves, so you get a lot of information and you definitely tend to use that to paint a better picture of who are interested in investing into financial markets.Kirill:\\tAnd what do you mean when you say it’s submitted by the users themselves?David:\\tWell, you get a lot of landing pages. Most digital marketing campaigns will have landing pages of some sort and, of course, you’ll give them little questionnaires or things to fill out. One of the greatest strategies that we’ve used, and I think it’s getting used very often now in the financial industry, is content strategy campaigns whereby you provide the users with a lot of information about the product as well as some free information or some gift or some kind of information that will benefit them or educate them.Kirill:\\tLike a lead magnet or something?David:\\tExactly. And from that, they usually put through a lot of their own information in order to attain that lead magnet. And, of course, from that we use the data and analyse it and sort of see what the customer base is going to be like, whether they’re the right target market for the product and whether they’ll actually convert or they won’t.Kirill:\\tOkay. That’s really cool. And what kind of tools do you use to analyse that data that’s coming through?David:\\tThere’s a couple of tools that we use. We do use some e-mail campaign tools for simple A/B testing and things. We tend to use Excel a lot. Excel is fairly easy to use—I say fairly easy to use, but it can be pretty complex sometimes. (Laughs) We tend to use that a lot. It’s a simple sorting tool. Then we use Kissmetrics a lot also, and also we do some PixelTools to make sure that we know what’s happening with the campaign, how it’s being tracked, et cetera. A lot of it will be done through Kissmetrics and they have a lot of tools there that actually help you out.Kirill:\\tOkay. I’ve heard a lot about Kissmetrics and I’ve actually seen the founder, if I’m not mistaken, Neil Patel, in a conference talking. Very, very interesting stuff. They’ve got a great blog on marketing and lots of people recommend it, even if you don’t use the tool. It’s really cool that you’re actually using their tool. Can you tell us a bit more about Kissmetrics? Because I’ve heard it’s quite expensive and there are other alternatives, but what are in your view, for those of our listeners out there who are maybe business owners, entrepreneurs or even in marketing in agencies or in-ahouse marketing teams, what are the main advantages of Kissmetrics that you see?David:\\tBasically, they make the data really simple to read. It’s one of those tools that just makes everything easier. You don’t have to know too much about coding, you don’t have to know too much about data analytics. It’s sort of like a cheat sheet. And it creates all these analyses for you whilst also actually tracking what your campaigns are doing. Whether it’s a social media campaign or an e-mail campaign or any kind of digital campaign, they can track it like a banner campaign, et cetera. In terms of its price, it is really expensive. I would only recommend it if you’re really going to want to do big campaigns. Our company turns over quite a decent amount, so obviously we can afford it. But there are other tools, obviously, if you don’t want to use Kissmetrics. You can use Excel. You can use a lot of benchmarking tools, even simple things like your MailChimps or Benchmark etc. that can sort of do the more basic stuff.Kirill:\\tOkay, gotcha. So can you walk me through the process? For instance, you want to run a campaign or somebody wants to run a campaign. How do you go about first of all setting up these data points where you collect the data and then feeding it into Kissmetrics and then doing some magic there and getting the output and then analysing it and actioning it? If you could walk us through every step of the way, that would be really appreciated.David:\\tSure. Well, I won’t go through 100% of it, but I’ll tell you sort of the basic part of it because Kissmetrics does a lot of it for you, so you don’t have to really worry too much about it. There’s not like a big story to say, but essentially what you do is you have like sort of a pixel or like a little bit of line of code which actually Kissmetrics sort of helps put into your campaign. That’s the first thing. So, the first thing after we’ve talked to the client is we set up the campaign, we set up the coding, we put that in there, then we send out the campaign. We send out the campaign through various sources and suppliers for media such as newspapers etc. Once the campaign is out, usually we give it a week or so to let the data come in, and then from there we feed it through Kissmetrics and it will tell us sort of what the conversion rates are and it will tell us all sorts of things like what the click rate is, what the best demographic is, what the A/B test told us which type of campaign is better. You can feed several different types of campaigns and sort of literally straight away see is one campaign better than the other. So it’s a very simple tool to use but an expensive one.Kirill:\\t(Laughs) So the data is already visualized for you inside Kissmetrics? It’s presented as charts and graphs rather than just raw numbers?David:\\tExactly.Kirill:\\tGotcha. And then how do you go about auctioning that data? Do you then talk to the clients, or do you adjust the audiences that you’re serving this ad to? What exactly do you do with those insights?David:\\tUsually you will actually talk to the client because our job as a media company is really to provide the data and analyse it somewhat for them. But other than that, it’s up to them to make the decision of what they want to do with that data and how they want to action it. We’ll give them some suggestions of what’s actually happened and whether the campaign was successful or wasn’t successful or was it just sort of okay, and what they can do to improve it. Of course, you just send them a huge report, what you call a “thump report”, it thumps when you hit the table, and then they basically have to action it and see, based on our suggestions, what they can do.Kirill:\\tOkay. It thumps when it hits the table?David:\\tYeah, that’s a very famous saying. Like, if you’re going to give a client a report, it should thump. Because it should be so full of information when it hits the table, it thumps.Kirill:\\tOh, gotcha. Okay. (Laughs) Okay, cool. Out of all those metrics that happen to be in Kissmetrics and that are available to you and that just serve purposes of marketing and campaigns and so on, which would you say is or are the most important ones or one that people should focus on? Maybe there’s some tips and advice you can give to aspiring marketers that want to get into the space of data.David:\\tYeah, absolutely. So, basically, I think A/B testing is probably one of my favourite tools because it allows you to sort of just test a little bit of a campaign. And luckily enough, we offer this to our clients a lot, A/B testing, because we find it works better and we do a lot of lead generation campaigns, which means if we don’t provide them with the leads, we won’t get paid basically. So we do a lot of A/B testing and I think A/B test is one of the greatest tools and it’s really taken for granted sometimes. People in the marketing industry, they tend to think they know better than they actually know, or they haven’t tested out the data yet. So I think A/B testing is probably one of the best tools that I’ve seen out there in terms of reducing your costs and getting you a better return on an investment. You need to test your campaigns. A lot of marketing people, they have these great creatives and these great ideas and we’ve seen it all before, it just flops because they think “We’ll just launch it. It’s going to be good. It’s going to be our little thing,” and sometimes they don’t do the research and it tends to be sort of an iffy project. But if you do your testing, at least we can tell them before we send out a full campaign that there’s going to be a little bit of a problem, or you should fix this. So, I recommend everyone tests their campaigns before they send them out. That’s just like the absolute basic.Kirill:\\tOkay, cool. Let’s talk a little bit more about that. For instance, how do you go about isolating that factor that you’re testing? Obviously, there are many different factors that are influencing the conversion rate or whatever you’re testing. How do you go about isolating, and do you actually make sure that in the A/B test, only this one thing is actually different?David:\\tYeah. So, what we do for clients, and not a lot of people can do this I guess, is we have databases where we can isolate certain things such as income or we’ll have user information such as income or region whereby we can actually target those specific things. And based on certain creative, we can see what the difference is in terms of their clickbacks or their opens or their signups etc. So we do it with a small portion of population, of course, a small sample size, and it’s not always easy or possible, but if you have your own target markets, like if you’re doing some internal marketing campaigns with your own user base or your own customer base, this is actually really simple to do and you can use that data and you can use these campaigns to test with your own customer base before sending it out to the wider market. That’s one thing that you can sort of do.Kirill:\\tAlright. Because when I think of A/B testing in terms of marketing, I think of A/B testing the ad itself, but you’re saying you’re actually testing which audience you want to serve this ad to.David:\\tAbsolutely. I think it’s kind of overlooked. I mean, there’s only so much you can do to change with creative to sort of test is A going to be better than B, is A going to be more interesting than B. You can always do that, that’s no problem and it’s fairly easy to set up. But testing the audience, I think a lot of people overlook that. They think “No, this is my target market. This is my target market,” but they haven’t done the research behind it. So, it’s very important, and it’s especially important when you’re actually choosing which media to go with, which database is going to be more interested in it. Yeah, always test your markets.Kirill:\\tThat’s very interesting. It actually gives me ideas myself because usually the way I go about testing the audience is I just look at Google Analytics and I see where the people are from that are visiting my website. Or, for instance, if we run a survey and people are kind enough to share some information with us, we know who they said they are, what age groups and so on. I just kind of look at the people that utilize the website and where they’re from, and I can make the assumption that that is my audience.But what you’re saying is that those are just some people that are visiting your website, which is a good start, but they’re there for different purposes. Somebody might be interested in my podcast, somebody might be interested specifically in my courses, somebody might be interested in case studies that we run. So, different people, different audiences will be interested in different things. And even though you know your audiences overall, for your specific products you still need to understand who it serves the best, right?David:\\tAnd not only for your specific products, but for your specific marketing campaign as well because different marketing campaigns appeal to different types of people. So you’ve really got to find out. If you’re going to do an e-mail campaign or a banner campaign, you’ve got to find out exactly who are the types of people that are actually going to look at that and say, “Oh, okay. That’s interesting.” For example, banner campaigns, which most people will find pretty annoying and a lot of people have ad blocker so they don’t ever work. They won’t work with most people that are under 40 or under 50. But plus 50s obviously they won’t have an ad blocker and they probably will click it. Yeah, you’ve got to look at all sorts of things like that, like what’s most likely going to reach your target market and which sort of campaign will reach which type of people.Kirill:\\tOkay. That’s very interesting. And also, I’d like to mention, in these kinds of situations a lot of people perceive marketers as these evil, evil human beings that are trying to sell everything to everybody and get maximum money out of it. But if you think about it, when you are finding out how to approach the audience the best way, you’re also doing your audience a service because then that way you’re not going to be bothering people that aren’t going to respond to that type of advertising. And also, you’re serving the right product or marketing campaign to give the right information to the people that will be interested in this product or advertising campaign and so on.David:\\tYeah, absolutely. I mean, everyone looks at people like Google or Facebook and they think, “Wow, they’re grabbing a lot of our data. They’re getting a lot of our information. Big Brother is watching,” etc. But what the good marketers are doing is they’re grabbing this information as data and they’re trying to make ads, at least the good ones are, that are less invasive and more personalized. Because no one likes popups all the time just happening and marketers are sort of starting to realize that because that’s why they have ad blockers and things like that. So we’re trying to sort of work out how can we make ads appealing enough or interesting enough or entertaining enough so that people will look at them and be like, “Okay, yeah. I might give this a chance.” And data really helps this out. Data will really pull us through.Kirill:\\tYeah, okay. So, applying data for good, right? You’re like a little Robin Hood of marketing. (Laughs)David:\\tWell, we get wins wherever we can, so yes.Kirill:\\tYeah, that’s awesome. And another question I have on A/B testing is how long do you run it for and I ask because in data science, like hard-core data science, especially in the space of medicine and so on, we always test for statistical significance. We always check what is the required sample size for this result to be statistically significant. So I would like to get your take on that. And I also know that marketers sometimes don’t do that, don’t check for statistical significance per se, but still nevertheless they use their gut feel or they use common industry standards to know how long to run it for, how many people they need to get to participate in the test for their results to be valid to proceed with the actual thing.David:\\tYeah, and that’s the thing really. It depends on the sort of campaign you’re running, of course, but generally because a lot of marketing campaigns are really time sensitive, they don’t have the opportunity or the time to really test it over long periods of time. I think the longest I’ve sort of heard is maybe they’ll be testing things out for a month. But generally speaking, for digital campaigns you probably have like a week or a couple of days. So, it really varies between the campaigns.And that’s the thing with statistical significance. A lot of the time you won’t hit as great a sample size as you really want, so you won’t really find as great information or data. Sometimes what you get might just be incorrect data, incorrect information just because of the fact that the sample size is so small. These are sort of risks. And in the end, you will use a lot of historical information to work out whether it was an anomaly or whether it was correct. So, I guess using both historical information and what you’ve seen in the past with past campaigns, as well as running these A/B tests or just tests for the marketing campaigns, you kind of have to use both to sort of figure out has the audience evolved, have they started to do something different, or is this maybe an anomaly and you have to sort of give both opinions to the client and he’ll make the decision.Kirill:\\tOkay, gotcha. So, when you say “historical information,” it’s when you run A/B test for the same client or a similar product or a variation and then you look at the results of that and then compare it to what you see now, right?David:\\tExactly. Because we run a lot of campaigns with very similar clients, so we tend to see very similar trends in the industry, in sort of what’s happening. Usually there’ll be one widely different campaign and then everyone will try and do the same thing. So usually after running so many campaigns, you will sort of get an idea of what clients want. Because we do such a niche and specialized market, we tend to know our market pretty well. So just using historical data and historical information, whilst there is a lot of updating happening all the time with the data and what’s happening with different analytics, using historic data is still very, very important, going back to basics and seeing what happened last year or the year before.Kirill:\\tOkay. And I guess that’s kind of the advantage of a more established company, a company that has already done this many times like yours because you guys already have access to this historic data and therefore you can make these tests more agile. And you don’t only base your decision on the results of the A/B test but also on your prior experience on the data that you had previously.David:\\tExactly. We’re in a lucky position because we’ve been doing this for probably more than 5 years. I mean, our company has been developed only about a year now, it’s a year old. So it’s a very young company but in the industry, myself and my partner have been doing this for more than 5 years. Ever since we started, this is why we’ve been getting quite a lot of customers from this industry. It finds that there’s a lot of interest in this sort of analysis, and giving this sort of treatment to the customer and the client and how actual data will affect their marketing campaign, how it will affect their conversion rates and their sales.Kirill:\\tYeah, gotcha. Just out of curiosity, is there a minimum requirement for turnover, something for you to take on board a new client?David:\\tGenerally there is. Usually we will try and work with mostly larger clients just because there’s more money in it, of course, businesswise, but also they tend to have a lot more creative and have a lot more preparation already done, so they can put in place changes that they need to once the analysis has been done fairly quickly. It is a very time sensitive marketing style, digital marketing, so if changes need to be made, it needs to be done quick. So generally we deal with mostly larger clients.Kirill:\\tAlright, gotcha. Okay, thanks a lot for running us through the A/B tests and ROI, which you mentioned a bit. I’m going to move on to the next question that I had for you. What’s your biggest challenge that you’ve had to face in the sense of using data? In the sense of dealing with data or analytics and applying it in your work and life?David:\\tPersonally, I find the biggest challenge with data analytics is education and finding out more about it, learning more about it. Even though it’s been around for a long time – it used to be called statistics, I guess, in a way – but now that it’s sort of data science and analytics, it’s constantly evolving, constantly being developed. And whilst a lot of statistical analysis is still being used in a lot of things that they do, it’s just changed in terms of what they use it for in business all the time. And because of that, the tools are changing all the time, and the industry is changing all the time, and just getting educated in that industry and how to react and how to interpret data, I think the education part of it, it’s really hard to find the right sources. I try my best doing research and things like that, but I find that was always a big challenge for me and it took me a long time to get a bit more experience. My initial passion for marketing when I did this, especially digital marketing, was the fact that you could play around with data and I love mathematics. But yeah, it’s not that easy, unless you’re working in the specific industry. It’s not that easy to find out how to use it or about it or how to implement it.Kirill:\\tGotcha. So where do you find most of your education in such areas? Are there any sources that you can recommend or websites you can point people to?David:\\tWell, other than you, obviously—(Laughs)Kirill:\\t(Laughs) Thanks.David:\\tApart from you, a lot of data science stuff that I look at is—I look through a lot of networking science in LinkedIn, a lot of articles through that from a lot of reputable sources and people that I know. I find it’s really good to do some courses, especially in things like Excel statistics, and just doing courses online is probably the best way to go about it. I think this next generation is so lucky that they have a lot of these resources, they have such a much better developed Internet that they can get lots of education online unlike how we used to 7 or 8 years ago, prior to YouTube even existing.Kirill:\\tYeah. Do you remember the good old days when we used to play “Diablo” or “Starcraft” and you’d have the dial-up modem and then you’d play and then your mom picks up the phone and you’re like, “Damn it!” (Laughs)David:\\tExactly. So, this generation is really, really lucky that they can see things on YouTube, they can educate themselves about science, about statistics, about mathematics, about everything that they need to know and it’s really at the touch of their fingertips. So, even if you can do things—like, every morning when I get up I’ll watch a couple of YouTube videos, and I know kids watch a lot of YouTube these days, so I try and watch at least one or two things, 10-15 minutes educational. Just as little as that can get you a long way.Kirill:\\tAnd not just the new generation, right? Everybody has it. Like, the new generation is lucky because growing up—David:\\tMeaning everyone now? Yeah.Kirill:\\tYeah, but everyone now is so lucky that we can all do it. And speaking of education, less than a year ago you and I launched a course together on data-driven marketing, and I say “you and I” very liberally because you did most of the work on that course and I just did one section to get people really up to speed with the data techniques. Tell us a bit more about that. What inspired you to share your knowledge with people and what do you discuss in the course, what do you cover? Give us a quick overview of the course.David:\\tYeah, absolutely. So, basically what I wanted to do the course for was sort of similar to something I never had when I was getting into the industry, especially in marketing. I find that I had to research a lot about digital marketing and how to launch campaigns and things like that. So what I wanted to teach people was sort of from basics all the way up to launching a campaign, how to prepare yourself and how to use data to actually be able to analyse what you’re doing, to actually be able to run things and launch things, and afterwards how do you actually see the results and what can you do with those results.I take it from start to finish in terms of launching a campaign and then reading the data. Of course, little tools and tips and especially – and this is really important for marketers – a lot of it also has to do also with a return on an investment. I find a lot of people who are just starting out in marketing, and there is a lot of marketing managers who still make these mistakes, they don’t take data into account and they just tend to invest their money and their marketing budget into all sorts of different media that doesn’t actually do anything for them. So I cover quite a bit of that in the course, and how you can actually work out, based on the different campaigns, which will probably be the most effective for you and how you can sort of find that out and what’s the return on investment for a campaign. And also how to reverse engineer and sort of work out, “Okay, I have this much budget. Is it enough to reach this sort of a goal based on what I’ve done before?”It talks a lot about testing as well, testing the markets, doing A/B testing, testing your campaigns, and based on those tests obviously afterwards you would decide which marketing will be the most worthwhile and where you can put your budget towards. That’s sort of the idea behind this course. And of course, you helped me a lot with the advanced analytics and obviously finding out more about after your campaign or after you’ve gathered data from all sorts of people or your business, what you’re going to do with that data, how are you going to use that to find out more how you can promote and how you can actually find anomalies in your statistics, etc.Kirill:\\tYeah, gotcha. Yeah, it’s quite a successful course. I had a friend who funnily enough runs a forex broker agent in Sydney. He contacted me asking me about your course. So it has driven some interest and I think people are learning quite a bit from it.David:\\tYeah, absolutely. The forex market here in Australia, I guess everyone knows everybody, so I was bound to meet up with your friend as well. It’s all about really making sure you don’t make those mistakes when you’re first starting out in marketing. Especially if you’re a small business, and you have maybe a marketing budget of a few thousand dollars, or maybe even like $10,000 dollars, it can disappear very quickly and you can get a lot of salespeople from the media agencies calling you and pushing you to do campaigns that don’t actually do anything for you. So, it’s about avoiding those mistakes and I want people in marketing to think before they act so they don’t get ripped off, essentially.Kirill:\\tYeah, gotcha. Very important to educate yourself on these things.David:\\tExactly.Kirill:\\tAll right. So, interesting question for you. Next one is, what is a recent win that you can share with us? We’ve talked a lot about data and we’ve actually talked about productivity and towards the end of this podcast, I want to steer us into the space of productivity as well. You can choose either space. What is a recent win that you can share with us that you’re very proud of, something that you did?David:\\tI’ve got quite a few because I’m a winner. (Laughs)Kirill:\\t(Laughs) Oh, there we go. I love it.David:\\tYeah, but basically I’m a guy who’s really passionate and who loves to have fun. I’m a very, very happy individual and I think being happy is probably the most important thing in your life. But I guess the biggest win right now is the fact that I’m the director of three different brands and companies, which is really, really exciting, obviously. Three different companies that I’m working on.I’ve got one that’s for import and export where we’re now working with wine and marble and all sorts of things.I’ve got one that’s for the media company, of course, and one that’s—actually, we’re developing our own brand. This is really exciting thing in, I guess, the face, and soaps – sort of the cosmetic industry where we’re actually creating and developing our own brand. That’s another thing that I’m really excited about. I’m all about just succeeding, doing everything you can do and just doing the best you can do. That’s what I’m all about. And everything I aim to do, I aim to finish, and I think that’s an important way to live your life.Kirill:\\tYeah, man, I love it. I love it. It reminds me of the movie—what is it called? About marketers where they say, “Closing…”David:\\t“Closing is for winners?”Kirill:\\tYeah, yeah, yeah. “Winners close” or something like that. What’s the movie called?David:\\t“Glengarry Glen Ross.”Kirill:\\tYeah, “Glengarry Glen Ross.” I hated that movie so much. (Laughs) It’s like I had such high expectations. But that phrase, “Closing is for winners…”David:\\tIt’s “Coffee is for closers.”Kirill:\\t“Coffee is for closers.” Yeah, something like that. So, it really, really reminds me of that. And you’re kind of translating this whole attitude that you got from your competitor in marketing.David:\\tI love that movie. (Laughs) Marketing people and salespeople love that movie.Kirill:\\tYeah. All right, I guess it’s an industry one. Yeah, I can totally attest to it. Dave is a very happy individual, always super happy about everything. So, talk to us more about that. I would love to learn how on earth you’re always smiling and always happy and nothing can knock you off your feet. What’s your secret?David:\\tYeah, there’s a lot of different things about it. I guess it’s just really state of mind thing. And this is something people can practice, too. Other than obviously being always an optimist, which can have its advantages and disadvantages, I think having the state of mind that you’re always looking towards something in the future, that keeps you happy, that keeps you sane, that keeps you working towards a goal. This is a big problem with a lot of people. They get sort of stuck thinking about, “Okay, this happened in the past,” regrets, etc. It’s really important not to think about the past as something that you could have done differently. Rather, learn from the past. And from that, don’t make the same mistake again.So that’s sort of like the best way that I can explain why I’m always optimistic, why I’m looking ahead, why I’m always trying to challenge myself and do something else, do something different and so on and so forth. It’s because I don’t get bogged down in the past and whatever has happened before. I instead look towards what am I going to do next, how am I going to improve.Kirill:\\tYeah. Kind of like another movie, “Interview with the Vampire,” right? He’s like, “Never regret. Never regret anything.”David:\\tOkay, I’ll try to remember that.Kirill:\\t(Laughs) You showed me that movie! You were the one who showed me that movie.David:\\tThat was a long time ago.Kirill:\\tThat was 2006. That was ages ago. All right, cool. That’s really cool advice. Always just look forward. But doesn’t that stop you from – when you’re looking forward to the future, don’t you feel that you’re kind of not living in the moment, you’re not present in the present if you’re looking to the future all the time?David:\\tWell, that’s the thing. Just because you’re looking towards the future doesn’t mean you can’t think about the present that’s happening. Obviously, you need to adapt to situations. If something horrible is happening to you in the present time, obviously you need to deal with that. But it’s a lot of people getting stuck over regrets of what’s happened and it really slows you down. It makes you inefficient. It’s what I like to call – and this will probably sound a little bit crazy – but it’s what I like to call “energy wasted,” “calories used for nothing.” Because you’re using these calories thinking or worrying or stressing about some things that happened before and those calories are being wasted. Well, it’s good if you’re trying to lose weight, but it’s basically energy being wasted on something that you cannot change because none of us have a time machine. And because of that, as long as you think of these things as “This is going to waste my energy and this is not going to have a positive spin on what I actually need to do next,” then you can sort of move on to it. Obviously, there is something traumatic that happened right then and there. That’s a different thing. But you have to deal with that as it is. But if something is more worrying you and you’re regretting, that’s where you shouldn’t waste your energy on.Kirill:\\tYeah, I totally agree with that. A lot of the time we just worry about worrying and worry about being worried about something. It just spirals down.David:\\tYeah. Like, one of the things a lot of people will ask themselves is, “What should I do now? What am I doing now?” Sort of not knowing what they’re doing. And that’s fine. A lot of people don’t know what they’re doing. But you should ask yourself—instead of “What should I do now?” you should be like, “What am I going to do next?” and that’ll get you sort of started to think “I have something to do. I have some goal that I want to achieve. I just need to put it down, and I just need to do it.”Kirill:\\tAll right. And speaking of achieving goals and things like that, you already mentioned a really cool tip which I’m going to try applying. Like, tomorrow morning when I wake up, I’m going to watch something for 10 minutes, like educational, and I think that’s really cool. Do you have any other productivity tips or advice for people to learn faster and get to where they want to go?David:\\tAbsolutely. This is the tip I give to all new salespeople and all new people in marketing. And a lot of people in the new jobs, this will probably help them too. It’s “Be comfortable with being uncomfortable.” That’s my tip. The thing is, whenever you start a new role or whenever you start a new sale or something like that, you never feel quite comfortable, and you’re always delaying yourself and stopping yourself and trying to prepare, trying to prepare, rather than actually just doing it. Similar to that viral video with Shia LaBeouf saying “Do it,” it’s basically like that. You just literally need to sometimes do it. You need to go half-prepared and learn from your mistakes.A lot of the time people will overprepare and they’ll waste a lot of time or they’ll miss an opportunity. A lot of the time you just need to be comfortable with being uncomfortable and don’t be worried about failing, don’t be worried about making a mistake. That’s how you’re going to learn. If you look at a salesperson, and like a normal person or like a marketing person, very different mentality. Salespeople are always trying to get the sale, pushing for it. So you’ll never see them ever be uncomfortable with being an absolute fool or making mistakes. They just go for it because that’s their mentality. So, if I could give any advice to anyone, it’s honestly start thinking like a salesperson because you’ll become more of a go-getter. You’ll be much happier with yourself and you will go and try and achieve what you’re trying to achieve.Kirill:\\tGreat advice. I love it. And is that something that you apply in your business and your marketing company?David:\\tAbsolutely. I mean, we come from a half-marketing/half-sales side of the business, so we have to on a daily basis just embarrass ourselves and go out there and do whatever we can, whether we’re trying to get new clients, or whether we are trying to report to a client who thinks they’re wrong, or whether we’re not sure what actually happened. You just have to be comfortable and not be afraid to look like a fool and to just ask. That’s another sales thing, I guess, “If you don’t ask, you’ll never get.” Same thing.Kirill:\\tI know which movie that’s from. (Laughs)David:\\tYeah. All the movies!Kirill:\\tIt’s like, you have to ask for discounts or whatever you get from them.David:\\tNot just – yeah, exactly. Discount, anything. Whether it’s a networking event and you’re shy to go to a CEO and introduce yourself, or things like that, you’ve got to get out of your comfort zone. You know, own it. Be uncomfortable, but own that feeling of “I can’t do it”, this and that. Own that feeling and just go and just try and look like a fool. But, you know what? You achieved your goal, you looked like a fool, but next time you’ll look a little bit better.Kirill:\\tYeah, gotcha. Fantastic advice, especially for people in the space of data science, where not just the nature of the work and the education that goes into it where a lot of the time you’re introverted, you’re by yourself and therefore you develop these — not complexes, but shyness, you don’t go up to people confidently, you don’t take things on confidently, but also the fact that with data science you have to make sure that everything is perfect, everything is calculated, statistical significance is checked, the data is prepared well. That, in itself, the nature of the work forces people to think about life in that way as well. But in reality, I totally agree with you. If you’ve never run a presentation – a data science presentation – to 200 people or 20,000 people, unless you try, you’re never going to actually run one. So sometimes you have to get out of your comfort zone.David:\\tYeah, absolutely. If you’ve ever seen TED talks—you’d probably know about it, it’s very famous. It’s essentially the same thing. A lot of those people may seem confident but it’s all about just getting out there and doing it all of the time. You just have to go out there, speak your mind, be confident with who you are, and don’t be worried about failing. It’s part of the process.Kirill:\\tOkay. I’ve got another question too, to start wrapping this up. From your experience in marketing, and from what you see based on all the work you’ve done, and the clients you’ve worked with, and where you see this industry going, where do you think the future of data in marketing lies in the next 3, 5 or 10 years down the track?David:\\tGood question. Well, data is now really being used more and more in marketing. Actually, now it’s very rare to find campaigns where they don’t use some kind of data analysis or case studies on how the market actually reacted to it. From things as simple as ads on TV, where it’s very hard to sort of determine what the market thought, to things which are more digital and you can definitely see what’s happening. So what I tend to see is that we’re going to see a lot more data science in all sorts of aspects of marketing and it’s going to be the norm. I think it’s going to be huge industry opener and eye-opener into how campaigns are run. And we’re going to see a lot more jobs in data marketing in marketing specifically. It’s becoming such a huge industry.And I think that also another thing we’re going to see very soon is how big data is going to play a part in marketing in a lot of ways, especially with Google Analytics as well as the Google algorithms, and how they actually get consumer information, how they can use that to make things more personalized. I think the next step that we’re going to see in the next 5-10 years is more and more personalization in advertising that’s becoming more and more specific to the case where it might even mention your name. Things like that that might have seem like science fiction when we watched “Minority Report,” but it’s going to become the norm. It’s sort of where it’s actually heading.And a lot of places, especially Facebook, which has a lot of users’ data, will start using campaigns that are more and more personalized and specifically speak to the person. Back in my day, they would just do things like just mention your name. That would be enough. But now it’s getting to the point where they know exactly what you’re doing, and what your hobbies are, and what your information is, and what products you like, and what music you listen to. And based on that, they’re going to make an ad that’s perfect for you.Kirill:\\tYeah. Sometimes I feel like they know what I had for breakfast that day.David:\\tYeah, because sometimes you literally open the computer and before you even browse for something, or maybe you might be watching something on Netflix, and then all of a sudden you open your Google, and the first suggestion is exactly what you were watching on Netflix. It’s like they know. It’s very interesting how they’re using data to sort of not just help you in terms of getting information, but they’re going to start using it to sell things to you. And hopefully things that you actually want to buy!Kirill:\\tAnd you mentioned that there’s going to be more and more jobs in this space. You don’t think that with the advances of machine learning and artificial intelligence — because a lot of people are afraid of jobs being cut because of machines, because of robotization, automatization and so on. You don’t think that marketing is one of those industries where machines will take over and start doing, for instance, your work and start doing all of that instead of humans doing it?David:\\tTo some point, yes, they will. You already have big tools like Kissmetrics and there’s so many other tools that you have for analysis and data analysis that you don’t really need a specialist to do it. But I still think, in terms of creative information and emotional information and emotional data that’s sort of not very obvious, you will still have a lot of jobs in that space.Kirill:\\tGotcha. All right, cool. Well, thanks a lot for coming on the show and sharing all these insights. Amazing, especially both marketing and productivity, I think a lot of people take away from that. How can our listeners contact you or follow you if they want to find out more about your career, or even if there’s people listening that would like to engage you as a consultant or kind of understand how they can get in touch with your company about their marketing needs?David:\\tYeah, absolutely. So, I guess you can basically find me on LinkedIn. LinkedIn will have all my information and details and you can contact me through there. I’m more than happy to grab any questions or things like that. You can also of course take my course on Udemy if you’re on Udemy, and shoot me any messages. I’m always interested in meeting people, talking to them, giving them some ideas for the marketing strategies. And a lot of the time, I’ll give you a lot of the information for free. So feel free to give me a message or something like that if you need any help.Kirill:\\tYeah. Fantastic! Thank you so much. And one final question for you, David, today: What is your one favourite book that you would like to recommend to our listeners?David:\\tYeah, this is a fantastic book and I think I’ve recommended this before. It’s called “The Big Data-Driven Business.” It really talks about especially data science, data analytics, and it uses a lot of great case studies, even some including from Nate Silver. He’s pretty famous for his political data science. It’s a fantastic book about how to use data in your business, whether it’s a small business or a big business, and how you can use it to beat competition to evolve your market etc. So, if you can get it, “The Big Data-Driven Business.” You can probably find it on Amazon very easily. A great read!Kirill:\\tFantastic. Thank you for that recommendation - “The Big Data-Driven Business.” I think somebody else on the podcast already recommended that. Once again, thank you for coming on the show. It was a great pleasure to catch up and to have you on.David:\\tAwesome. Thank you very much for having me.Kirill:\\tSo there you have it. That was David Tanaskovic. I hope you enjoyed this podcast. And probably my favourite takeaway from today was when David mentioned how he does A/B testing not only on the actual advertising, or on the artwork, or on the ad itself, or on the buttons, or on the website, or on all these creative aspects, but he actually does A/B testing on the audience, on the customer base to understand who to serve the ad to and who that product or campaign will serve the best. So that’s something that probably people don’t think about as much or it’s not the first thing that pops to mind. When you think of A/B testing, you think of testing the ad itself or, if it’s in pharmaceuticals, the drug itself that you’re running or you want the find the results of and so on. But this approach is a bit different. You’re actually testing the audience to segment it better and serve the ad only to those people that will benefit from it the most and therefore your company will benefit from it the most as well.And of course, I also really enjoyed the tips David shared about productivity, like just limiting yourself, but also motivating yourself to watch 10 minutes of education in the morning. So I’ll test that out, I’ll watch a TED talk tomorrow morning. They’re usually around the 8 minute mark so that’ll fit in nicely. Every day, watching something educational in the morning, I think that’s a pretty cool idea.So if you enjoyed this podcast, you can find the show notes at www.superdatascience.com/31. There you will see the transcript for this episode. Also, you will be able to get all the links to the materials mentioned inside this podcast as well as a link to David’s LinkedIn, where you can connect with him, chat with him and ask him lots of questions about marketing. And on that note, thank you very much for listening to the podcast, for being part of this movement of SuperDataScience. If you’d like to connect and get in touch with fellow SuperDataScientists, then jump onto our Facebook group. You can just search for SuperDataScience and you’ll find it there. It’s an open group and we welcome everybody there and I can’t wait to see you inside and connect with you and talk about data science there. And I look forward to seeing you next time. Until then, happy analyzing.\""
      ]
     },
     "execution_count": 48,
     "metadata": {},
     "output_type": "execute_result"
    }
   ],
   "source": [
    "sds['text_episode'].loc[30]"
   ]
  },
  {
   "cell_type": "code",
   "execution_count": null,
   "id": "bf9fb8fc",
   "metadata": {},
   "outputs": [],
   "source": [
    "sds"
   ]
  },
  {
   "cell_type": "code",
   "execution_count": 15,
   "id": "cc1397c6",
   "metadata": {},
   "outputs": [],
   "source": [
    "# Function to split the text over the rows\n",
    "\n",
    "def text_split(df, column):\n",
    "    \n",
    "    sds_index = column.str.findall('(?:^|\\\\xa0|(?:\\\\n)+)([A-Za-z\\s]+):').explode().to_frame()\n",
    "    sds_index['episode_index'] = 1 \n",
    "    sds_index['episode_index'] = sds_index.groupby(sds_index.index)['episode_index'].cumsum()\n",
    "    sds_index = sds_index.reset_index().set_index(['index','episode_index']).rename(columns = {column.name :'speaker'})\n",
    "    #sds_index\n",
    "    split_text = column.str.split('(?:^|\\\\xa0|(?:\\\\n)+)[A-Za-z\\s]+:', expand = True).stack().to_frame()#.droplevel(-1)\n",
    "    \n",
    "    split_text.index = split_text.index.rename(sds_index.index.names)\n",
    "    #return sds_index,split_text \n",
    "    sds_index = sds_index.merge(split_text, left_index = True, right_index=True, how = 'right').droplevel(-1)\n",
    "    return df.merge(sds_index,left_index=True, right_index=True)\n"
   ]
  },
  {
   "cell_type": "code",
   "execution_count": 16,
   "id": "f9717973",
   "metadata": {},
   "outputs": [],
   "source": [
    "\n",
    "sds_text = text_split(sds, sds['text_episode'])"
   ]
  },
  {
   "cell_type": "code",
   "execution_count": 17,
   "id": "fad1e12c",
   "metadata": {},
   "outputs": [
    {
     "data": {
      "text/html": [
       "<div>\n",
       "<style scoped>\n",
       "    .dataframe tbody tr th:only-of-type {\n",
       "        vertical-align: middle;\n",
       "    }\n",
       "\n",
       "    .dataframe tbody tr th {\n",
       "        vertical-align: top;\n",
       "    }\n",
       "\n",
       "    .dataframe thead th {\n",
       "        text-align: right;\n",
       "    }\n",
       "</style>\n",
       "<table border=\"1\" class=\"dataframe\">\n",
       "  <thead>\n",
       "    <tr style=\"text-align: right;\">\n",
       "      <th></th>\n",
       "      <th>episode_name</th>\n",
       "      <th>length_episode</th>\n",
       "      <th>context_episode</th>\n",
       "      <th>guest_name</th>\n",
       "      <th>guest_info</th>\n",
       "      <th>text_episode</th>\n",
       "      <th>episode_number</th>\n",
       "      <th>episode_date</th>\n",
       "      <th>episode_year</th>\n",
       "      <th>episode_day</th>\n",
       "      <th>host_episode</th>\n",
       "      <th>speaker</th>\n",
       "      <th>0</th>\n",
       "    </tr>\n",
       "  </thead>\n",
       "  <tbody>\n",
       "    <tr>\n",
       "      <th>0</th>\n",
       "      <td>Ruben Kogel on Self-Serve Analytics, R vs Pyt...</td>\n",
       "      <td>42</td>\n",
       "      <td>Business Data Science Database</td>\n",
       "      <td>Ruben Kogel</td>\n",
       "      <td>Subscribe on Website, Apple Podcasts, Spotify,...</td>\n",
       "      <td>Kirill: This is episode number one with ex-che...</td>\n",
       "      <td>1</td>\n",
       "      <td>Sep 10, 2016</td>\n",
       "      <td>2016</td>\n",
       "      <td>Saturday</td>\n",
       "      <td>Kirril Eremenko</td>\n",
       "      <td>NaN</td>\n",
       "      <td></td>\n",
       "    </tr>\n",
       "    <tr>\n",
       "      <th>0</th>\n",
       "      <td>Ruben Kogel on Self-Serve Analytics, R vs Pyt...</td>\n",
       "      <td>42</td>\n",
       "      <td>Business Data Science Database</td>\n",
       "      <td>Ruben Kogel</td>\n",
       "      <td>Subscribe on Website, Apple Podcasts, Spotify,...</td>\n",
       "      <td>Kirill: This is episode number one with ex-che...</td>\n",
       "      <td>1</td>\n",
       "      <td>Sep 10, 2016</td>\n",
       "      <td>2016</td>\n",
       "      <td>Saturday</td>\n",
       "      <td>Kirril Eremenko</td>\n",
       "      <td>Kirill</td>\n",
       "      <td>This is episode number one with ex-chemical e...</td>\n",
       "    </tr>\n",
       "    <tr>\n",
       "      <th>0</th>\n",
       "      <td>Ruben Kogel on Self-Serve Analytics, R vs Pyt...</td>\n",
       "      <td>42</td>\n",
       "      <td>Business Data Science Database</td>\n",
       "      <td>Ruben Kogel</td>\n",
       "      <td>Subscribe on Website, Apple Podcasts, Spotify,...</td>\n",
       "      <td>Kirill: This is episode number one with ex-che...</td>\n",
       "      <td>1</td>\n",
       "      <td>Sep 10, 2016</td>\n",
       "      <td>2016</td>\n",
       "      <td>Saturday</td>\n",
       "      <td>Kirril Eremenko</td>\n",
       "      <td>Kirill</td>\n",
       "      <td>Hey guys, welcome to the Podcast. I’ve got Ru...</td>\n",
       "    </tr>\n",
       "    <tr>\n",
       "      <th>0</th>\n",
       "      <td>Ruben Kogel on Self-Serve Analytics, R vs Pyt...</td>\n",
       "      <td>42</td>\n",
       "      <td>Business Data Science Database</td>\n",
       "      <td>Ruben Kogel</td>\n",
       "      <td>Subscribe on Website, Apple Podcasts, Spotify,...</td>\n",
       "      <td>Kirill: This is episode number one with ex-che...</td>\n",
       "      <td>1</td>\n",
       "      <td>Sep 10, 2016</td>\n",
       "      <td>2016</td>\n",
       "      <td>Saturday</td>\n",
       "      <td>Kirril Eremenko</td>\n",
       "      <td>Ruben</td>\n",
       "      <td>Thank you! Thanks for having me over. I’m doi...</td>\n",
       "    </tr>\n",
       "    <tr>\n",
       "      <th>0</th>\n",
       "      <td>Ruben Kogel on Self-Serve Analytics, R vs Pyt...</td>\n",
       "      <td>42</td>\n",
       "      <td>Business Data Science Database</td>\n",
       "      <td>Ruben Kogel</td>\n",
       "      <td>Subscribe on Website, Apple Podcasts, Spotify,...</td>\n",
       "      <td>Kirill: This is episode number one with ex-che...</td>\n",
       "      <td>1</td>\n",
       "      <td>Sep 10, 2016</td>\n",
       "      <td>2016</td>\n",
       "      <td>Saturday</td>\n",
       "      <td>Kirril Eremenko</td>\n",
       "      <td>Kirill</td>\n",
       "      <td>Awesome. It’s great to hear you and for those...</td>\n",
       "    </tr>\n",
       "    <tr>\n",
       "      <th>...</th>\n",
       "      <td>...</td>\n",
       "      <td>...</td>\n",
       "      <td>...</td>\n",
       "      <td>...</td>\n",
       "      <td>...</td>\n",
       "      <td>...</td>\n",
       "      <td>...</td>\n",
       "      <td>...</td>\n",
       "      <td>...</td>\n",
       "      <td>...</td>\n",
       "      <td>...</td>\n",
       "      <td>...</td>\n",
       "      <td>...</td>\n",
       "    </tr>\n",
       "    <tr>\n",
       "      <th>681</th>\n",
       "      <td>Contextual A.I. for Adapting to Adversaries, ...</td>\n",
       "      <td>81</td>\n",
       "      <td>Data Science Artificial Intelligence</td>\n",
       "      <td>Matar Haller</td>\n",
       "      <td>Subscribe on Website, Apple Podcasts, Spotify,...</td>\n",
       "      <td>Jon Krohn:\\t00:00:05\\tThis is episode number 6...</td>\n",
       "      <td>683</td>\n",
       "      <td>May 30, 2023</td>\n",
       "      <td>2023</td>\n",
       "      <td>Tuesday</td>\n",
       "      <td>Jon Krohn</td>\n",
       "      <td>Jon Krohn</td>\n",
       "      <td>\\t01:17:22Yeah, right. Yeah, as I mean, it act...</td>\n",
       "    </tr>\n",
       "    <tr>\n",
       "      <th>681</th>\n",
       "      <td>Contextual A.I. for Adapting to Adversaries, ...</td>\n",
       "      <td>81</td>\n",
       "      <td>Data Science Artificial Intelligence</td>\n",
       "      <td>Matar Haller</td>\n",
       "      <td>Subscribe on Website, Apple Podcasts, Spotify,...</td>\n",
       "      <td>Jon Krohn:\\t00:00:05\\tThis is episode number 6...</td>\n",
       "      <td>683</td>\n",
       "      <td>May 30, 2023</td>\n",
       "      <td>2023</td>\n",
       "      <td>Tuesday</td>\n",
       "      <td>Jon Krohn</td>\n",
       "      <td>Matar Haller</td>\n",
       "      <td>\\t01:17:45\\tHappy to.</td>\n",
       "    </tr>\n",
       "    <tr>\n",
       "      <th>681</th>\n",
       "      <td>Contextual A.I. for Adapting to Adversaries, ...</td>\n",
       "      <td>81</td>\n",
       "      <td>Data Science Artificial Intelligence</td>\n",
       "      <td>Matar Haller</td>\n",
       "      <td>Subscribe on Website, Apple Podcasts, Spotify,...</td>\n",
       "      <td>Jon Krohn:\\t00:00:05\\tThis is episode number 6...</td>\n",
       "      <td>683</td>\n",
       "      <td>May 30, 2023</td>\n",
       "      <td>2023</td>\n",
       "      <td>Tuesday</td>\n",
       "      <td>Jon Krohn</td>\n",
       "      <td>Jon Krohn</td>\n",
       "      <td>\\t01:17:46\\tNice. Well, yeah, so you mentioned...</td>\n",
       "    </tr>\n",
       "    <tr>\n",
       "      <th>681</th>\n",
       "      <td>Contextual A.I. for Adapting to Adversaries, ...</td>\n",
       "      <td>81</td>\n",
       "      <td>Data Science Artificial Intelligence</td>\n",
       "      <td>Matar Haller</td>\n",
       "      <td>Subscribe on Website, Apple Podcasts, Spotify,...</td>\n",
       "      <td>Jon Krohn:\\t00:00:05\\tThis is episode number 6...</td>\n",
       "      <td>683</td>\n",
       "      <td>May 30, 2023</td>\n",
       "      <td>2023</td>\n",
       "      <td>Tuesday</td>\n",
       "      <td>Jon Krohn</td>\n",
       "      <td>Matar Haller</td>\n",
       "      <td>\\t01:18:04\\tThank you for having me. This was ...</td>\n",
       "    </tr>\n",
       "    <tr>\n",
       "      <th>681</th>\n",
       "      <td>Contextual A.I. for Adapting to Adversaries, ...</td>\n",
       "      <td>81</td>\n",
       "      <td>Data Science Artificial Intelligence</td>\n",
       "      <td>Matar Haller</td>\n",
       "      <td>Subscribe on Website, Apple Podcasts, Spotify,...</td>\n",
       "      <td>Jon Krohn:\\t00:00:05\\tThis is episode number 6...</td>\n",
       "      <td>683</td>\n",
       "      <td>May 30, 2023</td>\n",
       "      <td>2023</td>\n",
       "      <td>Tuesday</td>\n",
       "      <td>Jon Krohn</td>\n",
       "      <td>Jon Krohn</td>\n",
       "      <td>\\t01:18:12\\tI loved this conversation today. I...</td>\n",
       "    </tr>\n",
       "  </tbody>\n",
       "</table>\n",
       "<p>47176 rows × 13 columns</p>\n",
       "</div>"
      ],
      "text/plain": [
       "                                          episode_name  length_episode  \\\n",
       "0     Ruben Kogel on Self-Serve Analytics, R vs Pyt...              42   \n",
       "0     Ruben Kogel on Self-Serve Analytics, R vs Pyt...              42   \n",
       "0     Ruben Kogel on Self-Serve Analytics, R vs Pyt...              42   \n",
       "0     Ruben Kogel on Self-Serve Analytics, R vs Pyt...              42   \n",
       "0     Ruben Kogel on Self-Serve Analytics, R vs Pyt...              42   \n",
       "..                                                 ...             ...   \n",
       "681   Contextual A.I. for Adapting to Adversaries, ...              81   \n",
       "681   Contextual A.I. for Adapting to Adversaries, ...              81   \n",
       "681   Contextual A.I. for Adapting to Adversaries, ...              81   \n",
       "681   Contextual A.I. for Adapting to Adversaries, ...              81   \n",
       "681   Contextual A.I. for Adapting to Adversaries, ...              81   \n",
       "\n",
       "                          context_episode      guest_name  \\\n",
       "0          Business Data Science Database    Ruben Kogel    \n",
       "0          Business Data Science Database    Ruben Kogel    \n",
       "0          Business Data Science Database    Ruben Kogel    \n",
       "0          Business Data Science Database    Ruben Kogel    \n",
       "0          Business Data Science Database    Ruben Kogel    \n",
       "..                                    ...             ...   \n",
       "681  Data Science Artificial Intelligence   Matar Haller    \n",
       "681  Data Science Artificial Intelligence   Matar Haller    \n",
       "681  Data Science Artificial Intelligence   Matar Haller    \n",
       "681  Data Science Artificial Intelligence   Matar Haller    \n",
       "681  Data Science Artificial Intelligence   Matar Haller    \n",
       "\n",
       "                                            guest_info  \\\n",
       "0    Subscribe on Website, Apple Podcasts, Spotify,...   \n",
       "0    Subscribe on Website, Apple Podcasts, Spotify,...   \n",
       "0    Subscribe on Website, Apple Podcasts, Spotify,...   \n",
       "0    Subscribe on Website, Apple Podcasts, Spotify,...   \n",
       "0    Subscribe on Website, Apple Podcasts, Spotify,...   \n",
       "..                                                 ...   \n",
       "681  Subscribe on Website, Apple Podcasts, Spotify,...   \n",
       "681  Subscribe on Website, Apple Podcasts, Spotify,...   \n",
       "681  Subscribe on Website, Apple Podcasts, Spotify,...   \n",
       "681  Subscribe on Website, Apple Podcasts, Spotify,...   \n",
       "681  Subscribe on Website, Apple Podcasts, Spotify,...   \n",
       "\n",
       "                                          text_episode  episode_number  \\\n",
       "0    Kirill: This is episode number one with ex-che...               1   \n",
       "0    Kirill: This is episode number one with ex-che...               1   \n",
       "0    Kirill: This is episode number one with ex-che...               1   \n",
       "0    Kirill: This is episode number one with ex-che...               1   \n",
       "0    Kirill: This is episode number one with ex-che...               1   \n",
       "..                                                 ...             ...   \n",
       "681  Jon Krohn:\\t00:00:05\\tThis is episode number 6...             683   \n",
       "681  Jon Krohn:\\t00:00:05\\tThis is episode number 6...             683   \n",
       "681  Jon Krohn:\\t00:00:05\\tThis is episode number 6...             683   \n",
       "681  Jon Krohn:\\t00:00:05\\tThis is episode number 6...             683   \n",
       "681  Jon Krohn:\\t00:00:05\\tThis is episode number 6...             683   \n",
       "\n",
       "     episode_date episode_year episode_day     host_episode       speaker  \\\n",
       "0    Sep 10, 2016         2016    Saturday  Kirril Eremenko           NaN   \n",
       "0    Sep 10, 2016         2016    Saturday  Kirril Eremenko        Kirill   \n",
       "0    Sep 10, 2016         2016    Saturday  Kirril Eremenko        Kirill   \n",
       "0    Sep 10, 2016         2016    Saturday  Kirril Eremenko         Ruben   \n",
       "0    Sep 10, 2016         2016    Saturday  Kirril Eremenko        Kirill   \n",
       "..            ...          ...         ...              ...           ...   \n",
       "681  May 30, 2023         2023     Tuesday        Jon Krohn     Jon Krohn   \n",
       "681  May 30, 2023         2023     Tuesday        Jon Krohn  Matar Haller   \n",
       "681  May 30, 2023         2023     Tuesday        Jon Krohn     Jon Krohn   \n",
       "681  May 30, 2023         2023     Tuesday        Jon Krohn  Matar Haller   \n",
       "681  May 30, 2023         2023     Tuesday        Jon Krohn     Jon Krohn   \n",
       "\n",
       "                                                     0  \n",
       "0                                                       \n",
       "0     This is episode number one with ex-chemical e...  \n",
       "0     Hey guys, welcome to the Podcast. I’ve got Ru...  \n",
       "0     Thank you! Thanks for having me over. I’m doi...  \n",
       "0     Awesome. It’s great to hear you and for those...  \n",
       "..                                                 ...  \n",
       "681  \\t01:17:22Yeah, right. Yeah, as I mean, it act...  \n",
       "681                              \\t01:17:45\\tHappy to.  \n",
       "681  \\t01:17:46\\tNice. Well, yeah, so you mentioned...  \n",
       "681  \\t01:18:04\\tThank you for having me. This was ...  \n",
       "681  \\t01:18:12\\tI loved this conversation today. I...  \n",
       "\n",
       "[47176 rows x 13 columns]"
      ]
     },
     "execution_count": 17,
     "metadata": {},
     "output_type": "execute_result"
    }
   ],
   "source": [
    "sds_text"
   ]
  },
  {
   "cell_type": "code",
   "execution_count": 18,
   "id": "60b72bd1",
   "metadata": {},
   "outputs": [],
   "source": [
    "sds_text = sds_text.rename(columns = {0 : 'episode_split_text' })"
   ]
  },
  {
   "cell_type": "code",
   "execution_count": 46,
   "id": "e8305fd4",
   "metadata": {},
   "outputs": [
    {
     "data": {
      "text/plain": [
       "episode_number  guest_name        \n",
       "342              Kirill Eremenko      1\n",
       "514              Jon Krohn            1\n",
       "244              Kirill Eremenko      1\n",
       "242              Kirill Eremenko      1\n",
       "518              Jon Krohn            1\n",
       "                                     ..\n",
       "30               Kirill Eremenko      2\n",
       "31               David Tanaskovic     2\n",
       "32               Kirill Eremenko      2\n",
       "34               Kirill Eremenko      2\n",
       "35               David Venturi        2\n",
       "Name: episode_split_text, Length: 270, dtype: int64"
      ]
     },
     "execution_count": 46,
     "metadata": {},
     "output_type": "execute_result"
    }
   ],
   "source": [
    "sds_text.groupby(['episode_number','guest_name'])['episode_split_text'].count().sort_values().head(270)"
   ]
  },
  {
   "cell_type": "code",
   "execution_count": 47,
   "id": "0bbbefc6",
   "metadata": {},
   "outputs": [
    {
     "data": {
      "text/html": [
       "<div>\n",
       "<style scoped>\n",
       "    .dataframe tbody tr th:only-of-type {\n",
       "        vertical-align: middle;\n",
       "    }\n",
       "\n",
       "    .dataframe tbody tr th {\n",
       "        vertical-align: top;\n",
       "    }\n",
       "\n",
       "    .dataframe thead th {\n",
       "        text-align: right;\n",
       "    }\n",
       "</style>\n",
       "<table border=\"1\" class=\"dataframe\">\n",
       "  <thead>\n",
       "    <tr style=\"text-align: right;\">\n",
       "      <th></th>\n",
       "      <th>episode_name</th>\n",
       "      <th>length_episode</th>\n",
       "      <th>context_episode</th>\n",
       "      <th>guest_name</th>\n",
       "      <th>guest_info</th>\n",
       "      <th>text_episode</th>\n",
       "      <th>episode_number</th>\n",
       "      <th>episode_date</th>\n",
       "      <th>episode_year</th>\n",
       "      <th>episode_day</th>\n",
       "      <th>host_episode</th>\n",
       "      <th>speaker</th>\n",
       "      <th>episode_split_text</th>\n",
       "    </tr>\n",
       "  </thead>\n",
       "  <tbody>\n",
       "    <tr>\n",
       "      <th>30</th>\n",
       "      <td>AB Testing, Kissmetrics and ways to a better ...</td>\n",
       "      <td>64</td>\n",
       "      <td>Data Science Data Visualization</td>\n",
       "      <td>David Tanaskovic</td>\n",
       "      <td>Subscribe on Website, Apple Podcasts, Spotify,...</td>\n",
       "      <td>Kirill:\\tThis is episode number 31, with my go...</td>\n",
       "      <td>31</td>\n",
       "      <td>Mar 02, 2017</td>\n",
       "      <td>2017</td>\n",
       "      <td>Thursday</td>\n",
       "      <td>Kirril Eremenko</td>\n",
       "      <td>NaN</td>\n",
       "      <td></td>\n",
       "    </tr>\n",
       "    <tr>\n",
       "      <th>30</th>\n",
       "      <td>AB Testing, Kissmetrics and ways to a better ...</td>\n",
       "      <td>64</td>\n",
       "      <td>Data Science Data Visualization</td>\n",
       "      <td>David Tanaskovic</td>\n",
       "      <td>Subscribe on Website, Apple Podcasts, Spotify,...</td>\n",
       "      <td>Kirill:\\tThis is episode number 31, with my go...</td>\n",
       "      <td>31</td>\n",
       "      <td>Mar 02, 2017</td>\n",
       "      <td>2017</td>\n",
       "      <td>Thursday</td>\n",
       "      <td>Kirril Eremenko</td>\n",
       "      <td>Kirill</td>\n",
       "      <td>\\tThis is episode number 31, with my good frie...</td>\n",
       "    </tr>\n",
       "  </tbody>\n",
       "</table>\n",
       "</div>"
      ],
      "text/plain": [
       "                                         episode_name  length_episode  \\\n",
       "30   AB Testing, Kissmetrics and ways to a better ...              64   \n",
       "30   AB Testing, Kissmetrics and ways to a better ...              64   \n",
       "\n",
       "                    context_episode          guest_name  \\\n",
       "30  Data Science Data Visualization   David Tanaskovic    \n",
       "30  Data Science Data Visualization   David Tanaskovic    \n",
       "\n",
       "                                           guest_info  \\\n",
       "30  Subscribe on Website, Apple Podcasts, Spotify,...   \n",
       "30  Subscribe on Website, Apple Podcasts, Spotify,...   \n",
       "\n",
       "                                         text_episode  episode_number  \\\n",
       "30  Kirill:\\tThis is episode number 31, with my go...              31   \n",
       "30  Kirill:\\tThis is episode number 31, with my go...              31   \n",
       "\n",
       "    episode_date episode_year episode_day     host_episode speaker  \\\n",
       "30  Mar 02, 2017         2017    Thursday  Kirril Eremenko     NaN   \n",
       "30  Mar 02, 2017         2017    Thursday  Kirril Eremenko  Kirill   \n",
       "\n",
       "                                   episode_split_text  \n",
       "30                                                     \n",
       "30  \\tThis is episode number 31, with my good frie...  "
      ]
     },
     "execution_count": 47,
     "metadata": {},
     "output_type": "execute_result"
    }
   ],
   "source": [
    "sds_text[sds_text['guest_name'] == ' David Tanaskovic ']"
   ]
  },
  {
   "cell_type": "code",
   "execution_count": 44,
   "id": "86339c8f",
   "metadata": {},
   "outputs": [
    {
     "name": "stdout",
     "output_type": "stream",
     "text": [
      "38                                                     \n",
      "38    \\tThis is episode number 39 with Director of D...\n",
      "Name: episode_split_text, dtype: object\n"
     ]
    }
   ],
   "source": [
    "print(sds_text['episode_split_text'].loc[38])"
   ]
  },
  {
   "cell_type": "code",
   "execution_count": null,
   "id": "467cd5e5",
   "metadata": {},
   "outputs": [],
   "source": [
    "sds_text['episode_split_text'] = sds_text['episode_split_text'].str.replace('\\\\t|\\\\n|\\\\xa0', '')"
   ]
  },
  {
   "cell_type": "code",
   "execution_count": null,
   "id": "988d9470",
   "metadata": {},
   "outputs": [],
   "source": [
    "sds_text['episode_split_text'] = sds_text['episode_split_text'].str.replace('\\(?\\d{2}:\\d{2}\\):| ?(\\d{2}:)+\\d{2}', '')"
   ]
  },
  {
   "cell_type": "code",
   "execution_count": null,
   "id": "7e6d819d",
   "metadata": {},
   "outputs": [],
   "source": [
    "sds_text['episode_split_text'].apply(lambda x: isinstance(x, str) and len(x.strip()) == 0).value_counts()"
   ]
  },
  {
   "cell_type": "code",
   "execution_count": null,
   "id": "b14698db",
   "metadata": {},
   "outputs": [],
   "source": [
    "sds_text = sds_text[sds_text['episode_split_text'] != '']"
   ]
  },
  {
   "cell_type": "code",
   "execution_count": null,
   "id": "e577cfd4",
   "metadata": {},
   "outputs": [],
   "source": [
    "sds_text"
   ]
  },
  {
   "cell_type": "code",
   "execution_count": null,
   "id": "d4143fe9",
   "metadata": {},
   "outputs": [],
   "source": [
    "sds_text.to_csv('../data/sds_text.csv')"
   ]
  },
  {
   "cell_type": "code",
   "execution_count": null,
   "id": "0a770d4a",
   "metadata": {},
   "outputs": [],
   "source": [
    "#split_text.to_frame().rename()"
   ]
  },
  {
   "cell_type": "code",
   "execution_count": null,
   "id": "5223ff2e",
   "metadata": {},
   "outputs": [],
   "source": [
    "#sds['text_episode'].str.split('(?:^|\\\\xa0|(?:\\\\n)+)[A-Za-z\\s]+:', expand = True).stack()#.droplevel(-1)"
   ]
  },
  {
   "cell_type": "code",
   "execution_count": null,
   "id": "67f989fa",
   "metadata": {},
   "outputs": [],
   "source": [
    "#sds['text_episode'].str.split('(?:^|\\\\xa0|\\\\n)[A-Za-z\\s]+:', expand = True).stack().loc[677]"
   ]
  },
  {
   "cell_type": "code",
   "execution_count": null,
   "id": "cf3613b0",
   "metadata": {},
   "outputs": [],
   "source": [
    "#sds_index = sds['text_episode'].str.findall('(?:^|\\\\xa0|(?:\\\\n)+)([A-Za-z\\s]+:)').explode().to_frame()#.shape#.stack().loc[0]"
   ]
  },
  {
   "cell_type": "code",
   "execution_count": null,
   "id": "b665f44b",
   "metadata": {},
   "outputs": [],
   "source": [
    "# Extracting the speakers from the text and creating index\n",
    "\n",
    "#sds_index = sds['text_episode'].str.findall('(?:^|\\\\xa0|(?:\\\\n)+)([A-Za-z\\s]+:)').explode().to_frame()\n",
    "#sds_index['episode_index'] = 1 \n",
    "#sds_index['episode_index'] = sds_index.groupby(sds_index.index)['episode_index'].cumsum()\n",
    "#sds_index = sds_index.reset_index().set_index(['index','episode_index']).rename(columns = {'text_episode':'speaker'})\n",
    "#sds_index"
   ]
  },
  {
   "cell_type": "code",
   "execution_count": null,
   "id": "e750b816",
   "metadata": {},
   "outputs": [],
   "source": [
    "#sds_index['episode_index'] = sds_index.groupby(sds_index.index)['episode_index'].cumsum()"
   ]
  },
  {
   "cell_type": "code",
   "execution_count": null,
   "id": "d9935418",
   "metadata": {},
   "outputs": [],
   "source": [
    "#sds_index"
   ]
  },
  {
   "cell_type": "code",
   "execution_count": null,
   "id": "4d1baf55",
   "metadata": {},
   "outputs": [],
   "source": [
    "#sds_index = sds_index.reset_index().set_index(['index','episode_index']).rename(columns = {'text_episode':'speaker'})"
   ]
  },
  {
   "cell_type": "code",
   "execution_count": null,
   "id": "0d594bc0",
   "metadata": {},
   "outputs": [],
   "source": [
    "#sds_index"
   ]
  },
  {
   "cell_type": "code",
   "execution_count": null,
   "id": "11aa5ec4",
   "metadata": {},
   "outputs": [],
   "source": [
    "#len(set(sds['text_episode'].str.findall('(^|\\\\xa0|\\\\n)[A-Za-z\\s]+:').explode().index)) #.stack().droplevel(-1)"
   ]
  },
  {
   "cell_type": "code",
   "execution_count": null,
   "id": "606bf67e",
   "metadata": {},
   "outputs": [],
   "source": [
    "#sds['text_episode'].str.findall('(^|\\\\xa0|\\\\n)[A-Za-z\\s]+:').explode()"
   ]
  },
  {
   "cell_type": "code",
   "execution_count": null,
   "id": "371bca36",
   "metadata": {},
   "outputs": [],
   "source": [
    "#sds_guest = sds[~((sds['guest_name'] == ' Kirill Eremenko ') | (sds['guest_name'] == ' Jon Krohn '))].copy().reset_index(drop = True)"
   ]
  },
  {
   "cell_type": "code",
   "execution_count": null,
   "id": "be72647c",
   "metadata": {},
   "outputs": [],
   "source": [
    "#sds_host = sds[(sds['guest_name'] == ' Kirill Eremenko ') | (sds['guest_name'] == ' Jon Krohn ')].reset_index(drop = True)"
   ]
  },
  {
   "cell_type": "code",
   "execution_count": null,
   "id": "758d5bde",
   "metadata": {},
   "outputs": [],
   "source": []
  },
  {
   "cell_type": "code",
   "execution_count": null,
   "id": "e656f682",
   "metadata": {},
   "outputs": [],
   "source": [
    "sds_host['context_episode'].unique()"
   ]
  },
  {
   "cell_type": "code",
   "execution_count": null,
   "id": "9d639c6d",
   "metadata": {},
   "outputs": [],
   "source": [
    "sds_host[sds_host['context_episode'] == 'Data Science']"
   ]
  },
  {
   "cell_type": "code",
   "execution_count": null,
   "id": "00316fcd",
   "metadata": {},
   "outputs": [],
   "source": [
    "sds_guest['context_episode'].unique()"
   ]
  },
  {
   "cell_type": "code",
   "execution_count": null,
   "id": "b19945d8",
   "metadata": {},
   "outputs": [],
   "source": [
    "sds['context_episode'].value_counts()"
   ]
  },
  {
   "cell_type": "code",
   "execution_count": null,
   "id": "9230520b",
   "metadata": {},
   "outputs": [],
   "source": []
  },
  {
   "cell_type": "code",
   "execution_count": null,
   "id": "141975b4",
   "metadata": {
    "scrolled": false
   },
   "outputs": [],
   "source": [
    "sds_guest['text_episode'].loc[7]"
   ]
  },
  {
   "cell_type": "code",
   "execution_count": null,
   "id": "ab700cc5",
   "metadata": {},
   "outputs": [],
   "source": [
    "sds['text_episode'] = sds['text_episode'].astype(str)"
   ]
  },
  {
   "cell_type": "code",
   "execution_count": null,
   "id": "3690dd78",
   "metadata": {},
   "outputs": [],
   "source": [
    "sds['text_episode'].apply(lambda x: pd.Series(x.split('[A-Z][a-z]+:')))"
   ]
  },
  {
   "cell_type": "code",
   "execution_count": null,
   "id": "52ca0d58",
   "metadata": {},
   "outputs": [],
   "source": [
    "sds['text_episode'].str.split('[A-Z][a-z]+:', expand = True).stack()"
   ]
  },
  {
   "cell_type": "code",
   "execution_count": null,
   "id": "a33449e6",
   "metadata": {},
   "outputs": [],
   "source": [
    "sds_split"
   ]
  },
  {
   "cell_type": "code",
   "execution_count": null,
   "id": "19aa3429",
   "metadata": {},
   "outputs": [],
   "source": [
    "sds_split[sds_split['guest_name'] == ' Jon Krohn ']"
   ]
  },
  {
   "cell_type": "code",
   "execution_count": null,
   "id": "a087668c",
   "metadata": {},
   "outputs": [],
   "source": [
    "sds_split.info()"
   ]
  },
  {
   "cell_type": "code",
   "execution_count": null,
   "id": "f86a6e91",
   "metadata": {},
   "outputs": [],
   "source": [
    "#sds = sds.merge(sds_split.to_frame(),left_index=True, right_index=True)\n"
   ]
  },
  {
   "cell_type": "code",
   "execution_count": null,
   "id": "308c244b",
   "metadata": {},
   "outputs": [],
   "source": [
    "sds.head(30)"
   ]
  },
  {
   "cell_type": "code",
   "execution_count": null,
   "id": "5564d66f",
   "metadata": {},
   "outputs": [],
   "source": [
    "sds_guest.to_csv('../data/sds_guest.csv', index = False)"
   ]
  },
  {
   "cell_type": "code",
   "execution_count": null,
   "id": "2e1ead9e",
   "metadata": {},
   "outputs": [],
   "source": [
    "sds[sds['context_episode'] == 'Data Science']"
   ]
  },
  {
   "cell_type": "code",
   "execution_count": null,
   "id": "85b4f7e0",
   "metadata": {},
   "outputs": [],
   "source": [
    "sds['episode_name'].unique()"
   ]
  },
  {
   "cell_type": "code",
   "execution_count": null,
   "id": "a1e37edb",
   "metadata": {},
   "outputs": [],
   "source": [
    "sds['text_episode'].loc[13]"
   ]
  },
  {
   "cell_type": "code",
   "execution_count": null,
   "id": "0fc68516",
   "metadata": {},
   "outputs": [],
   "source": [
    "#text = BeautifulSoup(text, 'lxml').get_text(separator=' ', strip=True)\n",
    "\n",
    "#text = re.findall(r'[a-z]+', text.lower())"
   ]
  },
  {
   "cell_type": "code",
   "execution_count": null,
   "id": "37950fa3",
   "metadata": {},
   "outputs": [],
   "source": [
    "sds['guest_info'].loc[1]"
   ]
  },
  {
   "cell_type": "code",
   "execution_count": null,
   "id": "eec256e6",
   "metadata": {},
   "outputs": [],
   "source": []
  }
 ],
 "metadata": {
  "kernelspec": {
   "display_name": "Python 3 (ipykernel)",
   "language": "python",
   "name": "python3"
  },
  "language_info": {
   "codemirror_mode": {
    "name": "ipython",
    "version": 3
   },
   "file_extension": ".py",
   "mimetype": "text/x-python",
   "name": "python",
   "nbconvert_exporter": "python",
   "pygments_lexer": "ipython3",
   "version": "3.9.12"
  }
 },
 "nbformat": 4,
 "nbformat_minor": 5
}
