{
 "cells": [
  {
   "cell_type": "code",
   "execution_count": 1,
   "id": "f2f934c2",
   "metadata": {},
   "outputs": [],
   "source": [
    "import spacy\n",
    "from spacy.lang.en.stop_words import STOP_WORDS\n",
    "#from keybert import KeyBERT\n",
    "import yake\n",
    "import string"
   ]
  },
  {
   "cell_type": "code",
   "execution_count": 2,
   "id": "4a613e59",
   "metadata": {},
   "outputs": [
    {
     "data": {
      "application/javascript": [
       "\n",
       "        if (window._pyforest_update_imports_cell) { window._pyforest_update_imports_cell('import pandas as pd'); }\n",
       "    "
      ],
      "text/plain": [
       "<IPython.core.display.Javascript object>"
      ]
     },
     "metadata": {},
     "output_type": "display_data"
    }
   ],
   "source": [
    "sds_text = pd.read_csv('../data/sds_text.csv')"
   ]
  },
  {
   "cell_type": "code",
   "execution_count": 3,
   "id": "a299939b",
   "metadata": {},
   "outputs": [
    {
     "data": {
      "text/html": [
       "<div>\n",
       "<style scoped>\n",
       "    .dataframe tbody tr th:only-of-type {\n",
       "        vertical-align: middle;\n",
       "    }\n",
       "\n",
       "    .dataframe tbody tr th {\n",
       "        vertical-align: top;\n",
       "    }\n",
       "\n",
       "    .dataframe thead th {\n",
       "        text-align: right;\n",
       "    }\n",
       "</style>\n",
       "<table border=\"1\" class=\"dataframe\">\n",
       "  <thead>\n",
       "    <tr style=\"text-align: right;\">\n",
       "      <th></th>\n",
       "      <th>episode_name</th>\n",
       "      <th>length_episode</th>\n",
       "      <th>context_episode</th>\n",
       "      <th>guest_name</th>\n",
       "      <th>guest_info</th>\n",
       "      <th>text_episode</th>\n",
       "      <th>episode_number</th>\n",
       "      <th>episode_date</th>\n",
       "      <th>episode_year</th>\n",
       "      <th>episode_day</th>\n",
       "      <th>host_episode</th>\n",
       "      <th>episode_split_text</th>\n",
       "      <th>speaker</th>\n",
       "    </tr>\n",
       "  </thead>\n",
       "  <tbody>\n",
       "    <tr>\n",
       "      <th>0</th>\n",
       "      <td>Ruben Kogel on Self-Serve Analytics, R vs Pyt...</td>\n",
       "      <td>42</td>\n",
       "      <td>Business Data Science Database</td>\n",
       "      <td>Ruben Kogel</td>\n",
       "      <td>Subscribe on Website, Apple Podcasts, Spotify,...</td>\n",
       "      <td>Kirill: This is episode number one with ex-che...</td>\n",
       "      <td>1</td>\n",
       "      <td>Sep 10, 2016</td>\n",
       "      <td>2016</td>\n",
       "      <td>Saturday</td>\n",
       "      <td>Kirill Eremenko</td>\n",
       "      <td>This is episode number one with ex-chemical en...</td>\n",
       "      <td>Kirill</td>\n",
       "    </tr>\n",
       "    <tr>\n",
       "      <th>1</th>\n",
       "      <td>Ruben Kogel on Self-Serve Analytics, R vs Pyt...</td>\n",
       "      <td>42</td>\n",
       "      <td>Business Data Science Database</td>\n",
       "      <td>Ruben Kogel</td>\n",
       "      <td>Subscribe on Website, Apple Podcasts, Spotify,...</td>\n",
       "      <td>Kirill: This is episode number one with ex-che...</td>\n",
       "      <td>1</td>\n",
       "      <td>Sep 10, 2016</td>\n",
       "      <td>2016</td>\n",
       "      <td>Saturday</td>\n",
       "      <td>Kirill Eremenko</td>\n",
       "      <td>Hey guys, welcome to the Podcast. I’ve got Rub...</td>\n",
       "      <td>Kirill</td>\n",
       "    </tr>\n",
       "    <tr>\n",
       "      <th>2</th>\n",
       "      <td>Ruben Kogel on Self-Serve Analytics, R vs Pyt...</td>\n",
       "      <td>42</td>\n",
       "      <td>Business Data Science Database</td>\n",
       "      <td>Ruben Kogel</td>\n",
       "      <td>Subscribe on Website, Apple Podcasts, Spotify,...</td>\n",
       "      <td>Kirill: This is episode number one with ex-che...</td>\n",
       "      <td>1</td>\n",
       "      <td>Sep 10, 2016</td>\n",
       "      <td>2016</td>\n",
       "      <td>Saturday</td>\n",
       "      <td>Kirill Eremenko</td>\n",
       "      <td>Thank you! Thanks for having me over. I’m doin...</td>\n",
       "      <td>Ruben</td>\n",
       "    </tr>\n",
       "    <tr>\n",
       "      <th>3</th>\n",
       "      <td>Ruben Kogel on Self-Serve Analytics, R vs Pyt...</td>\n",
       "      <td>42</td>\n",
       "      <td>Business Data Science Database</td>\n",
       "      <td>Ruben Kogel</td>\n",
       "      <td>Subscribe on Website, Apple Podcasts, Spotify,...</td>\n",
       "      <td>Kirill: This is episode number one with ex-che...</td>\n",
       "      <td>1</td>\n",
       "      <td>Sep 10, 2016</td>\n",
       "      <td>2016</td>\n",
       "      <td>Saturday</td>\n",
       "      <td>Kirill Eremenko</td>\n",
       "      <td>Awesome. It’s great to hear you and for those ...</td>\n",
       "      <td>Kirill</td>\n",
       "    </tr>\n",
       "    <tr>\n",
       "      <th>4</th>\n",
       "      <td>Ruben Kogel on Self-Serve Analytics, R vs Pyt...</td>\n",
       "      <td>42</td>\n",
       "      <td>Business Data Science Database</td>\n",
       "      <td>Ruben Kogel</td>\n",
       "      <td>Subscribe on Website, Apple Podcasts, Spotify,...</td>\n",
       "      <td>Kirill: This is episode number one with ex-che...</td>\n",
       "      <td>1</td>\n",
       "      <td>Sep 10, 2016</td>\n",
       "      <td>2016</td>\n",
       "      <td>Saturday</td>\n",
       "      <td>Kirill Eremenko</td>\n",
       "      <td>Yeah sure. So, I’m the senior manager of analy...</td>\n",
       "      <td>Ruben</td>\n",
       "    </tr>\n",
       "    <tr>\n",
       "      <th>...</th>\n",
       "      <td>...</td>\n",
       "      <td>...</td>\n",
       "      <td>...</td>\n",
       "      <td>...</td>\n",
       "      <td>...</td>\n",
       "      <td>...</td>\n",
       "      <td>...</td>\n",
       "      <td>...</td>\n",
       "      <td>...</td>\n",
       "      <td>...</td>\n",
       "      <td>...</td>\n",
       "      <td>...</td>\n",
       "      <td>...</td>\n",
       "    </tr>\n",
       "    <tr>\n",
       "      <th>52607</th>\n",
       "      <td>Contextual A.I. for Adapting to Adversaries, ...</td>\n",
       "      <td>81</td>\n",
       "      <td>Data Science Artificial Intelligence</td>\n",
       "      <td>Matar Haller</td>\n",
       "      <td>Subscribe on Website, Apple Podcasts, Spotify,...</td>\n",
       "      <td>Jon Krohn:\\t00:00:05\\tThis is episode number 6...</td>\n",
       "      <td>683</td>\n",
       "      <td>May 30, 2023</td>\n",
       "      <td>2023</td>\n",
       "      <td>Tuesday</td>\n",
       "      <td>Jon Krohn</td>\n",
       "      <td>Yeah, right. Yeah, as I mean, it actually, it ...</td>\n",
       "      <td>Jon Krohn</td>\n",
       "    </tr>\n",
       "    <tr>\n",
       "      <th>52608</th>\n",
       "      <td>Contextual A.I. for Adapting to Adversaries, ...</td>\n",
       "      <td>81</td>\n",
       "      <td>Data Science Artificial Intelligence</td>\n",
       "      <td>Matar Haller</td>\n",
       "      <td>Subscribe on Website, Apple Podcasts, Spotify,...</td>\n",
       "      <td>Jon Krohn:\\t00:00:05\\tThis is episode number 6...</td>\n",
       "      <td>683</td>\n",
       "      <td>May 30, 2023</td>\n",
       "      <td>2023</td>\n",
       "      <td>Tuesday</td>\n",
       "      <td>Jon Krohn</td>\n",
       "      <td>Happy to.</td>\n",
       "      <td>Matar Haller</td>\n",
       "    </tr>\n",
       "    <tr>\n",
       "      <th>52609</th>\n",
       "      <td>Contextual A.I. for Adapting to Adversaries, ...</td>\n",
       "      <td>81</td>\n",
       "      <td>Data Science Artificial Intelligence</td>\n",
       "      <td>Matar Haller</td>\n",
       "      <td>Subscribe on Website, Apple Podcasts, Spotify,...</td>\n",
       "      <td>Jon Krohn:\\t00:00:05\\tThis is episode number 6...</td>\n",
       "      <td>683</td>\n",
       "      <td>May 30, 2023</td>\n",
       "      <td>2023</td>\n",
       "      <td>Tuesday</td>\n",
       "      <td>Jon Krohn</td>\n",
       "      <td>Nice. Well, yeah, so you mentioned potentially...</td>\n",
       "      <td>Jon Krohn</td>\n",
       "    </tr>\n",
       "    <tr>\n",
       "      <th>52610</th>\n",
       "      <td>Contextual A.I. for Adapting to Adversaries, ...</td>\n",
       "      <td>81</td>\n",
       "      <td>Data Science Artificial Intelligence</td>\n",
       "      <td>Matar Haller</td>\n",
       "      <td>Subscribe on Website, Apple Podcasts, Spotify,...</td>\n",
       "      <td>Jon Krohn:\\t00:00:05\\tThis is episode number 6...</td>\n",
       "      <td>683</td>\n",
       "      <td>May 30, 2023</td>\n",
       "      <td>2023</td>\n",
       "      <td>Tuesday</td>\n",
       "      <td>Jon Krohn</td>\n",
       "      <td>Thank you for having me. This was fascinating ...</td>\n",
       "      <td>Matar Haller</td>\n",
       "    </tr>\n",
       "    <tr>\n",
       "      <th>52611</th>\n",
       "      <td>Contextual A.I. for Adapting to Adversaries, ...</td>\n",
       "      <td>81</td>\n",
       "      <td>Data Science Artificial Intelligence</td>\n",
       "      <td>Matar Haller</td>\n",
       "      <td>Subscribe on Website, Apple Podcasts, Spotify,...</td>\n",
       "      <td>Jon Krohn:\\t00:00:05\\tThis is episode number 6...</td>\n",
       "      <td>683</td>\n",
       "      <td>May 30, 2023</td>\n",
       "      <td>2023</td>\n",
       "      <td>Tuesday</td>\n",
       "      <td>Jon Krohn</td>\n",
       "      <td>I loved this conversation today. I hope you di...</td>\n",
       "      <td>Jon Krohn</td>\n",
       "    </tr>\n",
       "  </tbody>\n",
       "</table>\n",
       "<p>52612 rows × 13 columns</p>\n",
       "</div>"
      ],
      "text/plain": [
       "                                            episode_name  length_episode  \\\n",
       "0       Ruben Kogel on Self-Serve Analytics, R vs Pyt...              42   \n",
       "1       Ruben Kogel on Self-Serve Analytics, R vs Pyt...              42   \n",
       "2       Ruben Kogel on Self-Serve Analytics, R vs Pyt...              42   \n",
       "3       Ruben Kogel on Self-Serve Analytics, R vs Pyt...              42   \n",
       "4       Ruben Kogel on Self-Serve Analytics, R vs Pyt...              42   \n",
       "...                                                  ...             ...   \n",
       "52607   Contextual A.I. for Adapting to Adversaries, ...              81   \n",
       "52608   Contextual A.I. for Adapting to Adversaries, ...              81   \n",
       "52609   Contextual A.I. for Adapting to Adversaries, ...              81   \n",
       "52610   Contextual A.I. for Adapting to Adversaries, ...              81   \n",
       "52611   Contextual A.I. for Adapting to Adversaries, ...              81   \n",
       "\n",
       "                            context_episode      guest_name  \\\n",
       "0            Business Data Science Database    Ruben Kogel    \n",
       "1            Business Data Science Database    Ruben Kogel    \n",
       "2            Business Data Science Database    Ruben Kogel    \n",
       "3            Business Data Science Database    Ruben Kogel    \n",
       "4            Business Data Science Database    Ruben Kogel    \n",
       "...                                     ...             ...   \n",
       "52607  Data Science Artificial Intelligence   Matar Haller    \n",
       "52608  Data Science Artificial Intelligence   Matar Haller    \n",
       "52609  Data Science Artificial Intelligence   Matar Haller    \n",
       "52610  Data Science Artificial Intelligence   Matar Haller    \n",
       "52611  Data Science Artificial Intelligence   Matar Haller    \n",
       "\n",
       "                                              guest_info  \\\n",
       "0      Subscribe on Website, Apple Podcasts, Spotify,...   \n",
       "1      Subscribe on Website, Apple Podcasts, Spotify,...   \n",
       "2      Subscribe on Website, Apple Podcasts, Spotify,...   \n",
       "3      Subscribe on Website, Apple Podcasts, Spotify,...   \n",
       "4      Subscribe on Website, Apple Podcasts, Spotify,...   \n",
       "...                                                  ...   \n",
       "52607  Subscribe on Website, Apple Podcasts, Spotify,...   \n",
       "52608  Subscribe on Website, Apple Podcasts, Spotify,...   \n",
       "52609  Subscribe on Website, Apple Podcasts, Spotify,...   \n",
       "52610  Subscribe on Website, Apple Podcasts, Spotify,...   \n",
       "52611  Subscribe on Website, Apple Podcasts, Spotify,...   \n",
       "\n",
       "                                            text_episode  episode_number  \\\n",
       "0      Kirill: This is episode number one with ex-che...               1   \n",
       "1      Kirill: This is episode number one with ex-che...               1   \n",
       "2      Kirill: This is episode number one with ex-che...               1   \n",
       "3      Kirill: This is episode number one with ex-che...               1   \n",
       "4      Kirill: This is episode number one with ex-che...               1   \n",
       "...                                                  ...             ...   \n",
       "52607  Jon Krohn:\\t00:00:05\\tThis is episode number 6...             683   \n",
       "52608  Jon Krohn:\\t00:00:05\\tThis is episode number 6...             683   \n",
       "52609  Jon Krohn:\\t00:00:05\\tThis is episode number 6...             683   \n",
       "52610  Jon Krohn:\\t00:00:05\\tThis is episode number 6...             683   \n",
       "52611  Jon Krohn:\\t00:00:05\\tThis is episode number 6...             683   \n",
       "\n",
       "       episode_date  episode_year episode_day     host_episode  \\\n",
       "0      Sep 10, 2016          2016    Saturday  Kirill Eremenko   \n",
       "1      Sep 10, 2016          2016    Saturday  Kirill Eremenko   \n",
       "2      Sep 10, 2016          2016    Saturday  Kirill Eremenko   \n",
       "3      Sep 10, 2016          2016    Saturday  Kirill Eremenko   \n",
       "4      Sep 10, 2016          2016    Saturday  Kirill Eremenko   \n",
       "...             ...           ...         ...              ...   \n",
       "52607  May 30, 2023          2023     Tuesday        Jon Krohn   \n",
       "52608  May 30, 2023          2023     Tuesday        Jon Krohn   \n",
       "52609  May 30, 2023          2023     Tuesday        Jon Krohn   \n",
       "52610  May 30, 2023          2023     Tuesday        Jon Krohn   \n",
       "52611  May 30, 2023          2023     Tuesday        Jon Krohn   \n",
       "\n",
       "                                      episode_split_text       speaker  \n",
       "0      This is episode number one with ex-chemical en...        Kirill  \n",
       "1      Hey guys, welcome to the Podcast. I’ve got Rub...        Kirill  \n",
       "2      Thank you! Thanks for having me over. I’m doin...         Ruben  \n",
       "3      Awesome. It’s great to hear you and for those ...        Kirill  \n",
       "4      Yeah sure. So, I’m the senior manager of analy...         Ruben  \n",
       "...                                                  ...           ...  \n",
       "52607  Yeah, right. Yeah, as I mean, it actually, it ...     Jon Krohn  \n",
       "52608                                          Happy to.  Matar Haller  \n",
       "52609  Nice. Well, yeah, so you mentioned potentially...     Jon Krohn  \n",
       "52610  Thank you for having me. This was fascinating ...  Matar Haller  \n",
       "52611  I loved this conversation today. I hope you di...     Jon Krohn  \n",
       "\n",
       "[52612 rows x 13 columns]"
      ]
     },
     "execution_count": 3,
     "metadata": {},
     "output_type": "execute_result"
    }
   ],
   "source": [
    "sds_text"
   ]
  },
  {
   "cell_type": "code",
   "execution_count": 4,
   "id": "fe46d5cf",
   "metadata": {},
   "outputs": [
    {
     "name": "stdout",
     "output_type": "stream",
     "text": [
      "<class 'pandas.core.frame.DataFrame'>\n",
      "RangeIndex: 52612 entries, 0 to 52611\n",
      "Data columns (total 13 columns):\n",
      " #   Column              Non-Null Count  Dtype \n",
      "---  ------              --------------  ----- \n",
      " 0   episode_name        52612 non-null  object\n",
      " 1   length_episode      52612 non-null  int64 \n",
      " 2   context_episode     52612 non-null  object\n",
      " 3   guest_name          52612 non-null  object\n",
      " 4   guest_info          52612 non-null  object\n",
      " 5   text_episode        52610 non-null  object\n",
      " 6   episode_number      52612 non-null  int64 \n",
      " 7   episode_date        52612 non-null  object\n",
      " 8   episode_year        52612 non-null  int64 \n",
      " 9   episode_day         52612 non-null  object\n",
      " 10  host_episode        52612 non-null  object\n",
      " 11  episode_split_text  52610 non-null  object\n",
      " 12  speaker             52235 non-null  object\n",
      "dtypes: int64(3), object(10)\n",
      "memory usage: 5.2+ MB\n"
     ]
    }
   ],
   "source": [
    "sds_text.info()"
   ]
  },
  {
   "cell_type": "code",
   "execution_count": 5,
   "id": "d5d8088d",
   "metadata": {},
   "outputs": [
    {
     "data": {
      "application/javascript": [
       "\n",
       "        if (window._pyforest_update_imports_cell) { window._pyforest_update_imports_cell('import pandas as pd'); }\n",
       "    "
      ],
      "text/plain": [
       "<IPython.core.display.Javascript object>"
      ]
     },
     "metadata": {},
     "output_type": "display_data"
    }
   ],
   "source": [
    "sds_processed = pd.DataFrame(sds_text.groupby(['episode_number', 'episode_name', 'length_episode', 'context_episode', 'guest_name', 'host_episode', 'episode_year'])['episode_split_text'].agg(lambda x: ' '.join(str(i) for i in x))).reset_index()"
   ]
  },
  {
   "cell_type": "code",
   "execution_count": 6,
   "id": "08c24dc2",
   "metadata": {},
   "outputs": [
    {
     "data": {
      "text/html": [
       "<div>\n",
       "<style scoped>\n",
       "    .dataframe tbody tr th:only-of-type {\n",
       "        vertical-align: middle;\n",
       "    }\n",
       "\n",
       "    .dataframe tbody tr th {\n",
       "        vertical-align: top;\n",
       "    }\n",
       "\n",
       "    .dataframe thead th {\n",
       "        text-align: right;\n",
       "    }\n",
       "</style>\n",
       "<table border=\"1\" class=\"dataframe\">\n",
       "  <thead>\n",
       "    <tr style=\"text-align: right;\">\n",
       "      <th></th>\n",
       "      <th>episode_number</th>\n",
       "      <th>episode_name</th>\n",
       "      <th>length_episode</th>\n",
       "      <th>context_episode</th>\n",
       "      <th>guest_name</th>\n",
       "      <th>host_episode</th>\n",
       "      <th>episode_year</th>\n",
       "      <th>episode_split_text</th>\n",
       "    </tr>\n",
       "  </thead>\n",
       "  <tbody>\n",
       "    <tr>\n",
       "      <th>0</th>\n",
       "      <td>1</td>\n",
       "      <td>Ruben Kogel on Self-Serve Analytics, R vs Pyt...</td>\n",
       "      <td>42</td>\n",
       "      <td>Business Data Science Database</td>\n",
       "      <td>Ruben Kogel</td>\n",
       "      <td>Kirill Eremenko</td>\n",
       "      <td>2016</td>\n",
       "      <td>This is episode number one with ex-chemical en...</td>\n",
       "    </tr>\n",
       "    <tr>\n",
       "      <th>1</th>\n",
       "      <td>2</td>\n",
       "      <td>Machine Learning, Recommender Systems and the...</td>\n",
       "      <td>51</td>\n",
       "      <td>Machine Learning Data Science</td>\n",
       "      <td>Hadelin de Ponteves</td>\n",
       "      <td>Kirill Eremenko</td>\n",
       "      <td>2016</td>\n",
       "      <td>This is session number two with machine learni...</td>\n",
       "    </tr>\n",
       "    <tr>\n",
       "      <th>2</th>\n",
       "      <td>3</td>\n",
       "      <td>Defining the Data Problem, Data Science in Ma...</td>\n",
       "      <td>53</td>\n",
       "      <td>Machine Learning R Programming Data Science</td>\n",
       "      <td>Dr. Wilson Pok</td>\n",
       "      <td>Kirill Eremenko</td>\n",
       "      <td>2016</td>\n",
       "      <td>This is episode number three with Nanophysics ...</td>\n",
       "    </tr>\n",
       "    <tr>\n",
       "      <th>3</th>\n",
       "      <td>4</td>\n",
       "      <td>Data and Strategy, three Pillars of Research ...</td>\n",
       "      <td>60</td>\n",
       "      <td>Business Data Science</td>\n",
       "      <td>Brendan Hogan</td>\n",
       "      <td>Kirill Eremenko</td>\n",
       "      <td>2016</td>\n",
       "      <td>This is episode four with business strategy ex...</td>\n",
       "    </tr>\n",
       "    <tr>\n",
       "      <th>4</th>\n",
       "      <td>5</td>\n",
       "      <td>Computer Forensics, Fraud Analytics and knowi...</td>\n",
       "      <td>63</td>\n",
       "      <td>Data Science</td>\n",
       "      <td>Dmitry Korneev</td>\n",
       "      <td>Kirill Eremenko</td>\n",
       "      <td>2016</td>\n",
       "      <td>This is episode number five with forensics inv...</td>\n",
       "    </tr>\n",
       "    <tr>\n",
       "      <th>...</th>\n",
       "      <td>...</td>\n",
       "      <td>...</td>\n",
       "      <td>...</td>\n",
       "      <td>...</td>\n",
       "      <td>...</td>\n",
       "      <td>...</td>\n",
       "      <td>...</td>\n",
       "      <td>...</td>\n",
       "    </tr>\n",
       "    <tr>\n",
       "      <th>678</th>\n",
       "      <td>679</td>\n",
       "      <td>The A.I. and Machine Learning Landscape, with...</td>\n",
       "      <td>94</td>\n",
       "      <td>Business Data Science Artificial Intelligence</td>\n",
       "      <td>George Mathew</td>\n",
       "      <td>Jon Krohn</td>\n",
       "      <td>2023</td>\n",
       "      <td>This is episode number 679 with George Matthew...</td>\n",
       "    </tr>\n",
       "    <tr>\n",
       "      <th>679</th>\n",
       "      <td>680</td>\n",
       "      <td>Automating Industrial Machines with Data Scie...</td>\n",
       "      <td>30</td>\n",
       "      <td>Business Data Science</td>\n",
       "      <td>Allegra Alessi</td>\n",
       "      <td>Jon Krohn</td>\n",
       "      <td>2023</td>\n",
       "      <td>This is episode number 680 with Allegra Alessi...</td>\n",
       "    </tr>\n",
       "    <tr>\n",
       "      <th>680</th>\n",
       "      <td>681</td>\n",
       "      <td>XGBoost</td>\n",
       "      <td>72</td>\n",
       "      <td>Machine Learning Data Science Python</td>\n",
       "      <td>Matt Harrison</td>\n",
       "      <td>Jon Krohn</td>\n",
       "      <td>2023</td>\n",
       "      <td>This is episode number 681 with Matt Harrison,...</td>\n",
       "    </tr>\n",
       "    <tr>\n",
       "      <th>681</th>\n",
       "      <td>682</td>\n",
       "      <td>Business Intelligence Tools, with Mico Yuk</td>\n",
       "      <td>28</td>\n",
       "      <td>Business Data Science</td>\n",
       "      <td>Mico Yuk</td>\n",
       "      <td>Jon Krohn</td>\n",
       "      <td>2023</td>\n",
       "      <td>This is episode number 682 with Mico Yuk, host...</td>\n",
       "    </tr>\n",
       "    <tr>\n",
       "      <th>682</th>\n",
       "      <td>683</td>\n",
       "      <td>Contextual A.I. for Adapting to Adversaries, ...</td>\n",
       "      <td>81</td>\n",
       "      <td>Data Science Artificial Intelligence</td>\n",
       "      <td>Matar Haller</td>\n",
       "      <td>Jon Krohn</td>\n",
       "      <td>2023</td>\n",
       "      <td>This is episode number 683 with Dr. Matar Hall...</td>\n",
       "    </tr>\n",
       "  </tbody>\n",
       "</table>\n",
       "<p>683 rows × 8 columns</p>\n",
       "</div>"
      ],
      "text/plain": [
       "     episode_number                                       episode_name  \\\n",
       "0                 1   Ruben Kogel on Self-Serve Analytics, R vs Pyt...   \n",
       "1                 2   Machine Learning, Recommender Systems and the...   \n",
       "2                 3   Defining the Data Problem, Data Science in Ma...   \n",
       "3                 4   Data and Strategy, three Pillars of Research ...   \n",
       "4                 5   Computer Forensics, Fraud Analytics and knowi...   \n",
       "..              ...                                                ...   \n",
       "678             679   The A.I. and Machine Learning Landscape, with...   \n",
       "679             680   Automating Industrial Machines with Data Scie...   \n",
       "680             681                                            XGBoost   \n",
       "681             682         Business Intelligence Tools, with Mico Yuk   \n",
       "682             683   Contextual A.I. for Adapting to Adversaries, ...   \n",
       "\n",
       "     length_episode                                context_episode  \\\n",
       "0                42                 Business Data Science Database   \n",
       "1                51                  Machine Learning Data Science   \n",
       "2                53    Machine Learning R Programming Data Science   \n",
       "3                60                          Business Data Science   \n",
       "4                63                                   Data Science   \n",
       "..              ...                                            ...   \n",
       "678              94  Business Data Science Artificial Intelligence   \n",
       "679              30                          Business Data Science   \n",
       "680              72           Machine Learning Data Science Python   \n",
       "681              28                          Business Data Science   \n",
       "682              81           Data Science Artificial Intelligence   \n",
       "\n",
       "                guest_name     host_episode  episode_year  \\\n",
       "0             Ruben Kogel   Kirill Eremenko          2016   \n",
       "1     Hadelin de Ponteves   Kirill Eremenko          2016   \n",
       "2          Dr. Wilson Pok   Kirill Eremenko          2016   \n",
       "3           Brendan Hogan   Kirill Eremenko          2016   \n",
       "4          Dmitry Korneev   Kirill Eremenko          2016   \n",
       "..                     ...              ...           ...   \n",
       "678         George Mathew         Jon Krohn          2023   \n",
       "679        Allegra Alessi         Jon Krohn          2023   \n",
       "680         Matt Harrison         Jon Krohn          2023   \n",
       "681              Mico Yuk         Jon Krohn          2023   \n",
       "682          Matar Haller         Jon Krohn          2023   \n",
       "\n",
       "                                    episode_split_text  \n",
       "0    This is episode number one with ex-chemical en...  \n",
       "1    This is session number two with machine learni...  \n",
       "2    This is episode number three with Nanophysics ...  \n",
       "3    This is episode four with business strategy ex...  \n",
       "4    This is episode number five with forensics inv...  \n",
       "..                                                 ...  \n",
       "678  This is episode number 679 with George Matthew...  \n",
       "679  This is episode number 680 with Allegra Alessi...  \n",
       "680  This is episode number 681 with Matt Harrison,...  \n",
       "681  This is episode number 682 with Mico Yuk, host...  \n",
       "682  This is episode number 683 with Dr. Matar Hall...  \n",
       "\n",
       "[683 rows x 8 columns]"
      ]
     },
     "execution_count": 6,
     "metadata": {},
     "output_type": "execute_result"
    }
   ],
   "source": [
    "sds_processed"
   ]
  },
  {
   "cell_type": "code",
   "execution_count": 7,
   "id": "dca065d1",
   "metadata": {},
   "outputs": [
    {
     "data": {
      "text/plain": [
       "\"This is episode number 31, with my good friend David Tanaskovic.Welcome to the SuperDataScience podcast. My name is Kirill Eremenko, data science coach and lifestyle entrepreneur. And each week we bring you inspiring people and ideas to help you build your successful career in data science. Thanks for being here today and now let’s make the complex simple.Hello and welcome to the SuperDataScience podcast. Super excited to have you on board, and today I have invited my good friend David Tanaskovic onto the show. So something you need to know about David is that he's the happiest person I know on this planet. He's always super excited about life, nothing can bring him down, and he's just generally having fun going through life. Like you know sometimes you wish you would enjoy the things you do and your day to day activities, more like sometimes a day passes by and you feel like oh, wow, like I didn't really enjoy this day as much as I could've, or as much as I wish I had. Well I think that David never has that problem. He's always super positive about everything.And at the same time, David does so many different things. So for example, David is the Director of a media marketing agency. He is also in the import-export business and doing some work in that space, and importing and exporting things from and to Australia and from and to China. Also, he's working in the business development space in pharmaceuticals, and then just his occupations. At the same time, he's got millions of hobbies, he's one of the best ballroom dancers in Melbourne, like salsa and bachata and all these other crazy dances, and he plays volleyball and other sports, and also he just happened to decide to learn Chinese, and in the past year, he's learned Chinese.So lots of very interesting things are happening in his life, and we talk about a lot of that. And this podcast is going to be very useful to people who are thinking of getting into the space of marketing specifically. So this is not a heavy data science podcast. So we don't talk about things like R and Python and so on, but at the same time, we do cover off those tools that are used in the marketing space. And we talk about Kissmetrics, we also talk about A/B testing and how David views A/B testing and how he performs A/B testing in his company. Also you will find this podcast useful if you are looking to enhance your productivity and just have a better lifestyle, and enjoy your life more. So David shares some tips about how he goes about learning new things and some tips for people starting new careers, and so on. So if you're looking for any of those two things, then this podcast is for you. And I can't wait for you to get to know my friend David and what he is up to.So without further ado, I bring to you my friend David Tanaskovic, Director of C2 Media.Welcome everybody to the SuperDataScience podcast. Today I've got my good friend David Tanaskovic with me calling in from Melbourne. David, welcome to the show. How are you going, man? Hi, very good, very good. Thanks for having me. That's awesome. How's the weather in Melbourne? Oh yeah, it's pretty good, but changes very often. Typical Melbourne style. Yeah. Yeah. As always. That's kind of the only reason I don't live in Melbourne, because the weather is just changing like 50 times a day. Yeah, that's right. So, David, how long have you and I been friends for? Wow, that’s—yeah, very, very long time. I can’t even count the years. I need more than two hands. (Laughs) Yeah, it’s crazy. I think we started hanging out when I was six years old. 22 years, man. Exactly. Exactly. Unreal, yeah. Good times. Absolutely. Yeah, man. We grew up in Africa together and then out of our two families you were the first to move to Australia and start your marketing degree here. From there, where did that take you? After moving here and getting into your marketing degree, how did that go and what were your next steps after that? Yeah, absolutely. So, I had a really strong passion for marketing and I really fell in love with it when I studied it. I really wanted to work in things, especially like campaigns and I saw a lot of ads on TV and things like that. I wanted to work in that sort of creative side of the industry. And it really took me in a sort of different direction when I started to work.I started working in sort of education industry and marketing around there, and then from there I moved on more towards media and now I actually am partnered in a media company called C2 Media in which I work as well. And other than doing that, of course, I have a couple of other businesses. I’m always doing something. I guess one of the passions of working in marketing and working around data and analysis is that there’s a lot of things that I can do. I do a little bit of import-export business. I do, of course, the media business. I work in business development in actually the pharmaceutical industry. So I have my hands in a lot of different jars. Yeah, that’s something I find so inspiring about you all the time. First of all, you don’t sit on your back and do nothing. You’re always constantly doing stuff. And the second thing is that you seem to have like 48 hours in a day. I don’t know how you do this, but you have managed to have free time, you’re married, you have a lovely family, you have a family life, you have all these jobs, you have hobbies. I mean, for crying out loud, in the past year you learned Chinese. How do you do that? Well, I guess a lot of work/life balance is all about really making time for things. Everyone says that and everyone thinks it’s quite easy, but it’s actually all about scheduling and keeping yourself busy all the time. And I keep myself busy having fun too. Having fun is obviously the number one goal. And all the hobbies that I do, like I do some sport like volleyball and things like that, or like tennis or golf—I do a lot of sport during the week. And then I find time to do things like dancing and learning Chinese. Just keep yourself busy but do the things you love, have fun and then you don’t find it as work. You find it as a passion. By the way, dancing—guys listening to this, you’ve got to know that there is like a mini Tim Ferriss in Australia because you’ve got so many trophies for dancing. You know, 1st place in Melbourne so many times. Oh, yeah, there’s a whole shelf just picking up dust and lots and lots of trophies. (Laughs) Yeah, yeah. I would say you’re not being modest if I hadn’t seen it. It’s really packed. Like, they’re falling off the shelf. Absolutely. But that’s the thing. When you’re passionate about something, you’ll do your best in it and you’ll do whatever it takes to succeed. I’m actually going to be doing a big comp at the end of the year as well for dancing, so I’m preparing for that while I’m learning Chinese, while I’m doing my businesses. So, yeah, 48 hours in a day. That’s crazy. I love it. All right, so tell us a bit more about your businesses or about the roles that you’re working on. I’m assuming some of them involve data more heavily, some of them involve data less heavily. Let’s maybe start off the ones that are more data focused and that way you can share the most insights with our listeners. Yeah, absolutely. I guess the most data intensive role that I’m currently doing is being part of the media company. A lot of what we do for clients, and a lot of these clients are actually foreign exchange companies, or forex, or financial brokers or property brokers, so there’s a lot of financials to do with it. What we do is we do campaign analysis as well as running of campaigns and launching of campaigns. So there’s a lot of data involved in terms of finding out how successful campaigns are, is it reaching the right target market, how you’re testing the markets, how you’re testing, whether it’s going to make a sale, whether your lead generation is actually happening, and a lot of tracking of that data, so it’s quite interesting, quite involved. That’s one of the things I love about it.You know, when I think of data, it makes me really, really passionate and really want to actually do more and analyse and sort of paint the picture of what I’m actually going to do with this, how can I explain what just happened. It’s a beautiful thing. It tells a story. I guess that’s more the media side of things, so I’ll get a little bit more into that later. In the other roles that I do, I do a lot of business development and relationship development in both my export business as well as my business development role in the pharmaceutical company, talking to a lot of clients. I’ve always had a passion for meeting new people, networking, and seeing how we can help each other and how people can grow within a business finding sort of similar goals and things like that. Yeah, got it. You’ve definitely been very good at networking all the time. Do you use data or any analytics for your networking to help you understand who to connect with or how to maintain relationships with people? Yeah, what I tend to see that really works is that once you sort of build a small network of people that you really know well, especially in terms of business, what you need to do to essentially make that grow, you tend to have to do networking events a lot very often. And I tend to stalk people a lot on LinkedIn – that’s one of my favourite things – and get to find out a little bit more about them and where they’re from, what their background is, and what they’re interested in. And you know, it’s especially important, and I think what really helped me with networking and building such a strong network of people and businesses, is to be interested in what they’re interested in. You know, get involved in what they’re involved in and sort of see their point of view of things. Yeah, I guess that’s some advice that people can take back. Yeah, thanks. And I can attest to that. That networking is really important. Like, I’ve always heard, even when I was working for other companies, I heard that about 80% of recruiting or hiring happens behind the scenes, happens through referrals, through connections and so on. I was always a bit skeptical about it. But now that I have my own business it’s exactly like that. Pretty much 80% of the people are always like friends of friends or people who they know. Exactly. So, if people who are listening to this podcast are looking for jobs and so on, best way to do that is networking. Yeah. Basically throughout my whole career, if I hadn’t networked I probably wouldn’t get any of the roles I got because even though I applied many roles looking for work here and there, looking to upgrade my career, the best roles that I got, and the most enjoyable ones, were people that you work with that you want to work with and you love to work with and you have a good connection with. And those people you get to know through networking. Yeah, totally. Okay, so let’s move on a bit to your current role as a Director of C2 Media. I’m assuming, from what you’ve told us so far, that’s the most heavily data focused role. Can you tell us a bit more? Like, you’ve mentioned brokerage companies and that you’re on marketing campaigns for them. But how exactly do you use data, data analytics, data science in your day-to-day role? Basically what we do is we tend to launch a lot of digital marketing campaigns. Of course, knowing digital marketing, there’s a lot of information that goes into it and you get a lot of information out of it. You get information about the people, where they’re from, who’s looking at the advertisements, so there’s a lot of information that you can get on your actual customer base, especially people who are interested in it. And some of the tools, I guess, and some of the ways that we use the data is – apart from of course finding out whether a campaign is being successful and whether it’s getting enough hits or getting enough information based on what the creative says or what the creative does – another thing that we find out is whether that creative, even though it’s getting a lot of hits, will convert. So, we use a lot of data to sort of do some conversion analysis doing A/B testing to find out whether a certain creative is better than another creative. Also, A/B testing in terms of seeing which sort of subject lines work best, what will grab people’s attentions the most.And then after that whole process of getting their information and gathering that, we also work on lead conversion strategies. So, we work out what sort of target market is the best for the client, what sort of target market is going to most likely turn over into a sale. Basically whether they’re from a certain income, certain generation, certain background, et cetera, so what’s their primary role, what’s their work, where they come from, what’s their annual salary, all these sorts of things. You can get quite a lot of data from campaigns, especially because a lot of campaigns for lead generation, a lot of it is submitted by users themselves, so you get a lot of information and you definitely tend to use that to paint a better picture of who are interested in investing into financial markets. And what do you mean when you say it’s submitted by the users themselves? Well, you get a lot of landing pages. Most digital marketing campaigns will have landing pages of some sort and, of course, you’ll give them little questionnaires or things to fill out. One of the greatest strategies that we’ve used, and I think it’s getting used very often now in the financial industry, is content strategy campaigns whereby you provide the users with a lot of information about the product as well as some free information or some gift or some kind of information that will benefit them or educate them. Like a lead magnet or something? Exactly. And from that, they usually put through a lot of their own information in order to attain that lead magnet. And, of course, from that we use the data and analyse it and sort of see what the customer base is going to be like, whether they’re the right target market for the product and whether they’ll actually convert or they won’t. Okay. That’s really cool. And what kind of tools do you use to analyse that data that’s coming through? There’s a couple of tools that we use. We do use some e-mail campaign tools for simple A/B testing and things. We tend to use Excel a lot. Excel is fairly easy to use—I say fairly easy to use, but it can be pretty complex sometimes. (Laughs) We tend to use that a lot. It’s a simple sorting tool. Then we use Kissmetrics a lot also, and also we do some PixelTools to make sure that we know what’s happening with the campaign, how it’s being tracked, et cetera. A lot of it will be done through Kissmetrics and they have a lot of tools there that actually help you out. Okay. I’ve heard a lot about Kissmetrics and I’ve actually seen the founder, if I’m not mistaken, Neil Patel, in a conference talking. Very, very interesting stuff. They’ve got a great blog on marketing and lots of people recommend it, even if you don’t use the tool. It’s really cool that you’re actually using their tool. Can you tell us a bit more about Kissmetrics? Because I’ve heard it’s quite expensive and there are other alternatives, but what are in your view, for those of our listeners out there who are maybe business owners, entrepreneurs or even in marketing in agencies or in-ahouse marketing teams, what are the main advantages of Kissmetrics that you see? Basically, they make the data really simple to read. It’s one of those tools that just makes everything easier. You don’t have to know too much about coding, you don’t have to know too much about data analytics. It’s sort of like a cheat sheet. And it creates all these analyses for you whilst also actually tracking what your campaigns are doing. Whether it’s a social media campaign or an e-mail campaign or any kind of digital campaign, they can track it like a banner campaign, et cetera. In terms of its price, it is really expensive. I would only recommend it if you’re really going to want to do big campaigns. Our company turns over quite a decent amount, so obviously we can afford it. But there are other tools, obviously, if you don’t want to use Kissmetrics. You can use Excel. You can use a lot of benchmarking tools, even simple things like your MailChimps or Benchmark etc. that can sort of do the more basic stuff. Okay, gotcha. So can you walk me through the process? For instance, you want to run a campaign or somebody wants to run a campaign. How do you go about first of all setting up these data points where you collect the data and then feeding it into Kissmetrics and then doing some magic there and getting the output and then analysing it and actioning it? If you could walk us through every step of the way, that would be really appreciated. Sure. Well, I won’t go through 100% of it, but I’ll tell you sort of the basic part of it because Kissmetrics does a lot of it for you, so you don’t have to really worry too much about it. There’s not like a big story to say, but essentially what you do is you have like sort of a pixel or like a little bit of line of code which actually Kissmetrics sort of helps put into your campaign. That’s the first thing. So, the first thing after we’ve talked to the client is we set up the campaign, we set up the coding, we put that in there, then we send out the campaign. We send out the campaign through various sources and suppliers for media such as newspapers etc. Once the campaign is out, usually we give it a week or so to let the data come in, and then from there we feed it through Kissmetrics and it will tell us sort of what the conversion rates are and it will tell us all sorts of things like what the click rate is, what the best demographic is, what the A/B test told us which type of campaign is better. You can feed several different types of campaigns and sort of literally straight away see is one campaign better than the other. So it’s a very simple tool to use but an expensive one. (Laughs) So the data is already visualized for you inside Kissmetrics? It’s presented as charts and graphs rather than just raw numbers? Exactly. Gotcha. And then how do you go about auctioning that data? Do you then talk to the clients, or do you adjust the audiences that you’re serving this ad to? What exactly do you do with those insights? Usually you will actually talk to the client because our job as a media company is really to provide the data and analyse it somewhat for them. But other than that, it’s up to them to make the decision of what they want to do with that data and how they want to action it. We’ll give them some suggestions of what’s actually happened and whether the campaign was successful or wasn’t successful or was it just sort of okay, and what they can do to improve it. Of course, you just send them a huge report, what you call a “thump report”, it thumps when you hit the table, and then they basically have to action it and see, based on our suggestions, what they can do. Okay. It thumps when it hits the table? Yeah, that’s a very famous saying. Like, if you’re going to give a client a report, it should thump. Because it should be so full of information when it hits the table, it thumps. Oh, gotcha. Okay. (Laughs) Okay, cool. Out of all those metrics that happen to be in Kissmetrics and that are available to you and that just serve purposes of marketing and campaigns and so on, which would you say is or are the most important ones or one that people should focus on? Maybe there’s some tips and advice you can give to aspiring marketers that want to get into the space of data. Yeah, absolutely. So, basically, I think A/B testing is probably one of my favourite tools because it allows you to sort of just test a little bit of a campaign. And luckily enough, we offer this to our clients a lot, A/B testing, because we find it works better and we do a lot of lead generation campaigns, which means if we don’t provide them with the leads, we won’t get paid basically. So we do a lot of A/B testing and I think A/B test is one of the greatest tools and it’s really taken for granted sometimes. People in the marketing industry, they tend to think they know better than they actually know, or they haven’t tested out the data yet. So I think A/B testing is probably one of the best tools that I’ve seen out there in terms of reducing your costs and getting you a better return on an investment. You need to test your campaigns. A lot of marketing people, they have these great creatives and these great ideas and we’ve seen it all before, it just flops because they think “We’ll just launch it. It’s going to be good. It’s going to be our little thing,” and sometimes they don’t do the research and it tends to be sort of an iffy project. But if you do your testing, at least we can tell them before we send out a full campaign that there’s going to be a little bit of a problem, or you should fix this. So, I recommend everyone tests their campaigns before they send them out. That’s just like the absolute basic. Okay, cool. Let’s talk a little bit more about that. For instance, how do you go about isolating that factor that you’re testing? Obviously, there are many different factors that are influencing the conversion rate or whatever you’re testing. How do you go about isolating, and do you actually make sure that in the A/B test, only this one thing is actually different? Yeah. So, what we do for clients, and not a lot of people can do this I guess, is we have databases where we can isolate certain things such as income or we’ll have user information such as income or region whereby we can actually target those specific things. And based on certain creative, we can see what the difference is in terms of their clickbacks or their opens or their signups etc. So we do it with a small portion of population, of course, a small sample size, and it’s not always easy or possible, but if you have your own target markets, like if you’re doing some internal marketing campaigns with your own user base or your own customer base, this is actually really simple to do and you can use that data and you can use these campaigns to test with your own customer base before sending it out to the wider market. That’s one thing that you can sort of do. Alright. Because when I think of A/B testing in terms of marketing, I think of A/B testing the ad itself, but you’re saying you’re actually testing which audience you want to serve this ad to. Absolutely. I think it’s kind of overlooked. I mean, there’s only so much you can do to change with creative to sort of test is A going to be better than B, is A going to be more interesting than B. You can always do that, that’s no problem and it’s fairly easy to set up. But testing the audience, I think a lot of people overlook that. They think “No, this is my target market. This is my target market,” but they haven’t done the research behind it. So, it’s very important, and it’s especially important when you’re actually choosing which media to go with, which database is going to be more interested in it. Yeah, always test your markets. That’s very interesting. It actually gives me ideas myself because usually the way I go about testing the audience is I just look at Google Analytics and I see where the people are from that are visiting my website. Or, for instance, if we run a survey and people are kind enough to share some information with us, we know who they said they are, what age groups and so on. I just kind of look at the people that utilize the website and where they’re from, and I can make the assumption that that is my audience.But what you’re saying is that those are just some people that are visiting your website, which is a good start, but they’re there for different purposes. Somebody might be interested in my podcast, somebody might be interested specifically in my courses, somebody might be interested in case studies that we run. So, different people, different audiences will be interested in different things. And even though you know your audiences overall, for your specific products you still need to understand who it serves the best, right? And not only for your specific products, but for your specific marketing campaign as well because different marketing campaigns appeal to different types of people. So you’ve really got to find out. If you’re going to do an e-mail campaign or a banner campaign, you’ve got to find out exactly who are the types of people that are actually going to look at that and say, “Oh, okay. That’s interesting.” For example, banner campaigns, which most people will find pretty annoying and a lot of people have ad blocker so they don’t ever work. They won’t work with most people that are under 40 or under 50. But plus 50s obviously they won’t have an ad blocker and they probably will click it. Yeah, you’ve got to look at all sorts of things like that, like what’s most likely going to reach your target market and which sort of campaign will reach which type of people. Okay. That’s very interesting. And also, I’d like to mention, in these kinds of situations a lot of people perceive marketers as these evil, evil human beings that are trying to sell everything to everybody and get maximum money out of it. But if you think about it, when you are finding out how to approach the audience the best way, you’re also doing your audience a service because then that way you’re not going to be bothering people that aren’t going to respond to that type of advertising. And also, you’re serving the right product or marketing campaign to give the right information to the people that will be interested in this product or advertising campaign and so on. Yeah, absolutely. I mean, everyone looks at people like Google or Facebook and they think, “Wow, they’re grabbing a lot of our data. They’re getting a lot of our information. Big Brother is watching,” etc. But what the good marketers are doing is they’re grabbing this information as data and they’re trying to make ads, at least the good ones are, that are less invasive and more personalized. Because no one likes popups all the time just happening and marketers are sort of starting to realize that because that’s why they have ad blockers and things like that. So we’re trying to sort of work out how can we make ads appealing enough or interesting enough or entertaining enough so that people will look at them and be like, “Okay, yeah. I might give this a chance.” And data really helps this out. Data will really pull us through. Yeah, okay. So, applying data for good, right? You’re like a little Robin Hood of marketing. (Laughs) Well, we get wins wherever we can, so yes. Yeah, that’s awesome. And another question I have on A/B testing is how long do you run it for and I ask because in data science, like hard-core data science, especially in the space of medicine and so on, we always test for statistical significance. We always check what is the required sample size for this result to be statistically significant. So I would like to get your take on that. And I also know that marketers sometimes don’t do that, don’t check for statistical significance per se, but still nevertheless they use their gut feel or they use common industry standards to know how long to run it for, how many people they need to get to participate in the test for their results to be valid to proceed with the actual thing. Yeah, and that’s the thing really. It depends on the sort of campaign you’re running, of course, but generally because a lot of marketing campaigns are really time sensitive, they don’t have the opportunity or the time to really test it over long periods of time. I think the longest I’ve sort of heard is maybe they’ll be testing things out for a month. But generally speaking, for digital campaigns you probably have like a week or a couple of days. So, it really varies between the campaigns.And that’s the thing with statistical significance. A lot of the time you won’t hit as great a sample size as you really want, so you won’t really find as great information or data. Sometimes what you get might just be incorrect data, incorrect information just because of the fact that the sample size is so small. These are sort of risks. And in the end, you will use a lot of historical information to work out whether it was an anomaly or whether it was correct. So, I guess using both historical information and what you’ve seen in the past with past campaigns, as well as running these A/B tests or just tests for the marketing campaigns, you kind of have to use both to sort of figure out has the audience evolved, have they started to do something different, or is this maybe an anomaly and you have to sort of give both opinions to the client and he’ll make the decision. Okay, gotcha. So, when you say “historical information,” it’s when you run A/B test for the same client or a similar product or a variation and then you look at the results of that and then compare it to what you see now, right? Exactly. Because we run a lot of campaigns with very similar clients, so we tend to see very similar trends in the industry, in sort of what’s happening. Usually there’ll be one widely different campaign and then everyone will try and do the same thing. So usually after running so many campaigns, you will sort of get an idea of what clients want. Because we do such a niche and specialized market, we tend to know our market pretty well. So just using historical data and historical information, whilst there is a lot of updating happening all the time with the data and what’s happening with different analytics, using historic data is still very, very important, going back to basics and seeing what happened last year or the year before. Okay. And I guess that’s kind of the advantage of a more established company, a company that has already done this many times like yours because you guys already have access to this historic data and therefore you can make these tests more agile. And you don’t only base your decision on the results of the A/B test but also on your prior experience on the data that you had previously. Exactly. We’re in a lucky position because we’ve been doing this for probably more than 5 years. I mean, our company has been developed only about a year now, it’s a year old. So it’s a very young company but in the industry, myself and my partner have been doing this for more than 5 years. Ever since we started, this is why we’ve been getting quite a lot of customers from this industry. It finds that there’s a lot of interest in this sort of analysis, and giving this sort of treatment to the customer and the client and how actual data will affect their marketing campaign, how it will affect their conversion rates and their sales. Yeah, gotcha. Just out of curiosity, is there a minimum requirement for turnover, something for you to take on board a new client? Generally there is. Usually we will try and work with mostly larger clients just because there’s more money in it, of course, businesswise, but also they tend to have a lot more creative and have a lot more preparation already done, so they can put in place changes that they need to once the analysis has been done fairly quickly. It is a very time sensitive marketing style, digital marketing, so if changes need to be made, it needs to be done quick. So generally we deal with mostly larger clients. Alright, gotcha. Okay, thanks a lot for running us through the A/B tests and ROI, which you mentioned a bit. I’m going to move on to the next question that I had for you. What’s your biggest challenge that you’ve had to face in the sense of using data? In the sense of dealing with data or analytics and applying it in your work and life? Personally, I find the biggest challenge with data analytics is education and finding out more about it, learning more about it. Even though it’s been around for a long time – it used to be called statistics, I guess, in a way – but now that it’s sort of data science and analytics, it’s constantly evolving, constantly being developed. And whilst a lot of statistical analysis is still being used in a lot of things that they do, it’s just changed in terms of what they use it for in business all the time. And because of that, the tools are changing all the time, and the industry is changing all the time, and just getting educated in that industry and how to react and how to interpret data, I think the education part of it, it’s really hard to find the right sources. I try my best doing research and things like that, but I find that was always a big challenge for me and it took me a long time to get a bit more experience. My initial passion for marketing when I did this, especially digital marketing, was the fact that you could play around with data and I love mathematics. But yeah, it’s not that easy, unless you’re working in the specific industry. It’s not that easy to find out how to use it or about it or how to implement it. Gotcha. So where do you find most of your education in such areas? Are there any sources that you can recommend or websites you can point people to? Well, other than you, obviously—(Laughs) (Laughs) Thanks. Apart from you, a lot of data science stuff that I look at is—I look through a lot of networking science in LinkedIn, a lot of articles through that from a lot of reputable sources and people that I know. I find it’s really good to do some courses, especially in things like Excel statistics, and just doing courses online is probably the best way to go about it. I think this next generation is so lucky that they have a lot of these resources, they have such a much better developed Internet that they can get lots of education online unlike how we used to 7 or 8 years ago, prior to YouTube even existing. Yeah. Do you remember the good old days when we used to play “Diablo” or “Starcraft” and you’d have the dial-up modem and then you’d play and then your mom picks up the phone and you’re like, “Damn it!” (Laughs) Exactly. So, this generation is really, really lucky that they can see things on YouTube, they can educate themselves about science, about statistics, about mathematics, about everything that they need to know and it’s really at the touch of their fingertips. So, even if you can do things—like, every morning when I get up I’ll watch a couple of YouTube videos, and I know kids watch a lot of YouTube these days, so I try and watch at least one or two things, 10-15 minutes educational. Just as little as that can get you a long way. And not just the new generation, right? Everybody has it. Like, the new generation is lucky because growing up— Meaning everyone now? Yeah. Yeah, but everyone now is so lucky that we can all do it. And speaking of education, less than a year ago you and I launched a course together on data-driven marketing, and I say “you and I” very liberally because you did most of the work on that course and I just did one section to get people really up to speed with the data techniques. Tell us a bit more about that. What inspired you to share your knowledge with people and what do you discuss in the course, what do you cover? Give us a quick overview of the course. Yeah, absolutely. So, basically what I wanted to do the course for was sort of similar to something I never had when I was getting into the industry, especially in marketing. I find that I had to research a lot about digital marketing and how to launch campaigns and things like that. So what I wanted to teach people was sort of from basics all the way up to launching a campaign, how to prepare yourself and how to use data to actually be able to analyse what you’re doing, to actually be able to run things and launch things, and afterwards how do you actually see the results and what can you do with those results.I take it from start to finish in terms of launching a campaign and then reading the data. Of course, little tools and tips and especially – and this is really important for marketers – a lot of it also has to do also with a return on an investment. I find a lot of people who are just starting out in marketing, and there is a lot of marketing managers who still make these mistakes, they don’t take data into account and they just tend to invest their money and their marketing budget into all sorts of different media that doesn’t actually do anything for them. So I cover quite a bit of that in the course, and how you can actually work out, based on the different campaigns, which will probably be the most effective for you and how you can sort of find that out and what’s the return on investment for a campaign. And also how to reverse engineer and sort of work out, “Okay, I have this much budget. Is it enough to reach this sort of a goal based on what I’ve done before?”It talks a lot about testing as well, testing the markets, doing A/B testing, testing your campaigns, and based on those tests obviously afterwards you would decide which marketing will be the most worthwhile and where you can put your budget towards. That’s sort of the idea behind this course. And of course, you helped me a lot with the advanced analytics and obviously finding out more about after your campaign or after you’ve gathered data from all sorts of people or your business, what you’re going to do with that data, how are you going to use that to find out more how you can promote and how you can actually find anomalies in your statistics, etc. Yeah, gotcha. Yeah, it’s quite a successful course. I had a friend who funnily enough runs a forex broker agent in Sydney. He contacted me asking me about your course. So it has driven some interest and I think people are learning quite a bit from it. Yeah, absolutely. The forex market here in Australia, I guess everyone knows everybody, so I was bound to meet up with your friend as well. It’s all about really making sure you don’t make those mistakes when you’re first starting out in marketing. Especially if you’re a small business, and you have maybe a marketing budget of a few thousand dollars, or maybe even like $10,000 dollars, it can disappear very quickly and you can get a lot of salespeople from the media agencies calling you and pushing you to do campaigns that don’t actually do anything for you. So, it’s about avoiding those mistakes and I want people in marketing to think before they act so they don’t get ripped off, essentially. Yeah, gotcha. Very important to educate yourself on these things. Exactly. All right. So, interesting question for you. Next one is, what is a recent win that you can share with us? We’ve talked a lot about data and we’ve actually talked about productivity and towards the end of this podcast, I want to steer us into the space of productivity as well. You can choose either space. What is a recent win that you can share with us that you’re very proud of, something that you did? I’ve got quite a few because I’m a winner. (Laughs) (Laughs) Oh, there we go. I love it. Yeah, but basically I’m a guy who’s really passionate and who loves to have fun. I’m a very, very happy individual and I think being happy is probably the most important thing in your life. But I guess the biggest win right now is the fact that I’m the director of three different brands and companies, which is really, really exciting, obviously. Three different companies that I’m working on.I’ve got one that’s for import and export where we’re now working with wine and marble and all sorts of things.I’ve got one that’s for the media company, of course, and one that’s—actually, we’re developing our own brand. This is really exciting thing in, I guess, the face, and soaps – sort of the cosmetic industry where we’re actually creating and developing our own brand. That’s another thing that I’m really excited about. I’m all about just succeeding, doing everything you can do and just doing the best you can do. That’s what I’m all about. And everything I aim to do, I aim to finish, and I think that’s an important way to live your life. Yeah, man, I love it. I love it. It reminds me of the movie—what is it called? About marketers where they say, “Closing…” “Closing is for winners?” Yeah, yeah, yeah. “Winners close” or something like that. What’s the movie called? “Glengarry Glen Ross.” Yeah, “Glengarry Glen Ross.” I hated that movie so much. (Laughs) It’s like I had such high expectations. But that phrase, “Closing is for winners…” It’s “Coffee is for closers.” “Coffee is for closers.” Yeah, something like that. So, it really, really reminds me of that. And you’re kind of translating this whole attitude that you got from your competitor in marketing. I love that movie. (Laughs) Marketing people and salespeople love that movie. Yeah. All right, I guess it’s an industry one. Yeah, I can totally attest to it. Dave is a very happy individual, always super happy about everything. So, talk to us more about that. I would love to learn how on earth you’re always smiling and always happy and nothing can knock you off your feet. What’s your secret? Yeah, there’s a lot of different things about it. I guess it’s just really state of mind thing. And this is something people can practice, too. Other than obviously being always an optimist, which can have its advantages and disadvantages, I think having the state of mind that you’re always looking towards something in the future, that keeps you happy, that keeps you sane, that keeps you working towards a goal. This is a big problem with a lot of people. They get sort of stuck thinking about, “Okay, this happened in the past,” regrets, etc. It’s really important not to think about the past as something that you could have done differently. Rather, learn from the past. And from that, don’t make the same mistake again.So that’s sort of like the best way that I can explain why I’m always optimistic, why I’m looking ahead, why I’m always trying to challenge myself and do something else, do something different and so on and so forth. It’s because I don’t get bogged down in the past and whatever has happened before. I instead look towards what am I going to do next, how am I going to improve. Yeah. Kind of like another movie, “Interview with the Vampire,” right? He’s like, “Never regret. Never regret anything.” Okay, I’ll try to remember that. (Laughs) You showed me that movie! You were the one who showed me that movie. That was a long time ago. That was 2006. That was ages ago. All right, cool. That’s really cool advice. Always just look forward. But doesn’t that stop you from – when you’re looking forward to the future, don’t you feel that you’re kind of not living in the moment, you’re not present in the present if you’re looking to the future all the time? Well, that’s the thing. Just because you’re looking towards the future doesn’t mean you can’t think about the present that’s happening. Obviously, you need to adapt to situations. If something horrible is happening to you in the present time, obviously you need to deal with that. But it’s a lot of people getting stuck over regrets of what’s happened and it really slows you down. It makes you inefficient. It’s what I like to call – and this will probably sound a little bit crazy – but it’s what I like to call “energy wasted,” “calories used for nothing.” Because you’re using these calories thinking or worrying or stressing about some things that happened before and those calories are being wasted. Well, it’s good if you’re trying to lose weight, but it’s basically energy being wasted on something that you cannot change because none of us have a time machine. And because of that, as long as you think of these things as “This is going to waste my energy and this is not going to have a positive spin on what I actually need to do next,” then you can sort of move on to it. Obviously, there is something traumatic that happened right then and there. That’s a different thing. But you have to deal with that as it is. But if something is more worrying you and you’re regretting, that’s where you shouldn’t waste your energy on. Yeah, I totally agree with that. A lot of the time we just worry about worrying and worry about being worried about something. It just spirals down. Yeah. Like, one of the things a lot of people will ask themselves is, “What should I do now? What am I doing now?” Sort of not knowing what they’re doing. And that’s fine. A lot of people don’t know what they’re doing. But you should ask yourself—instead of “What should I do now?” you should be like, “What am I going to do next?” and that’ll get you sort of started to think “I have something to do. I have some goal that I want to achieve. I just need to put it down, and I just need to do it.” All right. And speaking of achieving goals and things like that, you already mentioned a really cool tip which I’m going to try applying. Like, tomorrow morning when I wake up, I’m going to watch something for 10 minutes, like educational, and I think that’s really cool. Do you have any other productivity tips or advice for people to learn faster and get to where they want to go? Absolutely. This is the tip I give to all new salespeople and all new people in marketing. And a lot of people in the new jobs, this will probably help them too. It’s “Be comfortable with being uncomfortable.” That’s my tip. The thing is, whenever you start a new role or whenever you start a new sale or something like that, you never feel quite comfortable, and you’re always delaying yourself and stopping yourself and trying to prepare, trying to prepare, rather than actually just doing it. Similar to that viral video with Shia LaBeouf saying “Do it,” it’s basically like that. You just literally need to sometimes do it. You need to go half-prepared and learn from your mistakes.A lot of the time people will overprepare and they’ll waste a lot of time or they’ll miss an opportunity. A lot of the time you just need to be comfortable with being uncomfortable and don’t be worried about failing, don’t be worried about making a mistake. That’s how you’re going to learn. If you look at a salesperson, and like a normal person or like a marketing person, very different mentality. Salespeople are always trying to get the sale, pushing for it. So you’ll never see them ever be uncomfortable with being an absolute fool or making mistakes. They just go for it because that’s their mentality. So, if I could give any advice to anyone, it’s honestly start thinking like a salesperson because you’ll become more of a go-getter. You’ll be much happier with yourself and you will go and try and achieve what you’re trying to achieve. Great advice. I love it. And is that something that you apply in your business and your marketing company? Absolutely. I mean, we come from a half-marketing/half-sales side of the business, so we have to on a daily basis just embarrass ourselves and go out there and do whatever we can, whether we’re trying to get new clients, or whether we are trying to report to a client who thinks they’re wrong, or whether we’re not sure what actually happened. You just have to be comfortable and not be afraid to look like a fool and to just ask. That’s another sales thing, I guess, “If you don’t ask, you’ll never get.” Same thing. I know which movie that’s from. (Laughs) Yeah. All the movies! It’s like, you have to ask for discounts or whatever you get from them. Not just – yeah, exactly. Discount, anything. Whether it’s a networking event and you’re shy to go to a CEO and introduce yourself, or things like that, you’ve got to get out of your comfort zone. You know, own it. Be uncomfortable, but own that feeling of “I can’t do it”, this and that. Own that feeling and just go and just try and look like a fool. But, you know what? You achieved your goal, you looked like a fool, but next time you’ll look a little bit better. Yeah, gotcha. Fantastic advice, especially for people in the space of data science, where not just the nature of the work and the education that goes into it where a lot of the time you’re introverted, you’re by yourself and therefore you develop these — not complexes, but shyness, you don’t go up to people confidently, you don’t take things on confidently, but also the fact that with data science you have to make sure that everything is perfect, everything is calculated, statistical significance is checked, the data is prepared well. That, in itself, the nature of the work forces people to think about life in that way as well. But in reality, I totally agree with you. If you’ve never run a presentation – a data science presentation – to 200 people or 20,000 people, unless you try, you’re never going to actually run one. So sometimes you have to get out of your comfort zone. Yeah, absolutely. If you’ve ever seen TED talks—you’d probably know about it, it’s very famous. It’s essentially the same thing. A lot of those people may seem confident but it’s all about just getting out there and doing it all of the time. You just have to go out there, speak your mind, be confident with who you are, and don’t be worried about failing. It’s part of the process. Okay. I’ve got another question too, to start wrapping this up. From your experience in marketing, and from what you see based on all the work you’ve done, and the clients you’ve worked with, and where you see this industry going, where do you think the future of data in marketing lies in the next 3, 5 or 10 years down the track? Good question. Well, data is now really being used more and more in marketing. Actually, now it’s very rare to find campaigns where they don’t use some kind of data analysis or case studies on how the market actually reacted to it. From things as simple as ads on TV, where it’s very hard to sort of determine what the market thought, to things which are more digital and you can definitely see what’s happening. So what I tend to see is that we’re going to see a lot more data science in all sorts of aspects of marketing and it’s going to be the norm. I think it’s going to be huge industry opener and eye-opener into how campaigns are run. And we’re going to see a lot more jobs in data marketing in marketing specifically. It’s becoming such a huge industry.And I think that also another thing we’re going to see very soon is how big data is going to play a part in marketing in a lot of ways, especially with Google Analytics as well as the Google algorithms, and how they actually get consumer information, how they can use that to make things more personalized. I think the next step that we’re going to see in the next 5-10 years is more and more personalization in advertising that’s becoming more and more specific to the case where it might even mention your name. Things like that that might have seem like science fiction when we watched “Minority Report,” but it’s going to become the norm. It’s sort of where it’s actually heading.And a lot of places, especially Facebook, which has a lot of users’ data, will start using campaigns that are more and more personalized and specifically speak to the person. Back in my day, they would just do things like just mention your name. That would be enough. But now it’s getting to the point where they know exactly what you’re doing, and what your hobbies are, and what your information is, and what products you like, and what music you listen to. And based on that, they’re going to make an ad that’s perfect for you. Yeah. Sometimes I feel like they know what I had for breakfast that day. Yeah, because sometimes you literally open the computer and before you even browse for something, or maybe you might be watching something on Netflix, and then all of a sudden you open your Google, and the first suggestion is exactly what you were watching on Netflix. It’s like they know. It’s very interesting how they’re using data to sort of not just help you in terms of getting information, but they’re going to start using it to sell things to you. And hopefully things that you actually want to buy! And you mentioned that there’s going to be more and more jobs in this space. You don’t think that with the advances of machine learning and artificial intelligence — because a lot of people are afraid of jobs being cut because of machines, because of robotization, automatization and so on. You don’t think that marketing is one of those industries where machines will take over and start doing, for instance, your work and start doing all of that instead of humans doing it? To some point, yes, they will. You already have big tools like Kissmetrics and there’s so many other tools that you have for analysis and data analysis that you don’t really need a specialist to do it. But I still think, in terms of creative information and emotional information and emotional data that’s sort of not very obvious, you will still have a lot of jobs in that space. Gotcha. All right, cool. Well, thanks a lot for coming on the show and sharing all these insights. Amazing, especially both marketing and productivity, I think a lot of people take away from that. How can our listeners contact you or follow you if they want to find out more about your career, or even if there’s people listening that would like to engage you as a consultant or kind of understand how they can get in touch with your company about their marketing needs? Yeah, absolutely. So, I guess you can basically find me on LinkedIn. LinkedIn will have all my information and details and you can contact me through there. I’m more than happy to grab any questions or things like that. You can also of course take my course on Udemy if you’re on Udemy, and shoot me any messages. I’m always interested in meeting people, talking to them, giving them some ideas for the marketing strategies. And a lot of the time, I’ll give you a lot of the information for free. So feel free to give me a message or something like that if you need any help. Yeah. Fantastic! Thank you so much. And one final question for you, David, today: What is your one favourite book that you would like to recommend to our listeners? Yeah, this is a fantastic book and I think I’ve recommended this before. It’s called “The Big Data-Driven Business.” It really talks about especially data science, data analytics, and it uses a lot of great case studies, even some including from Nate Silver. He’s pretty famous for his political data science. It’s a fantastic book about how to use data in your business, whether it’s a small business or a big business, and how you can use it to beat competition to evolve your market etc. So, if you can get it, “The Big Data-Driven Business.” You can probably find it on Amazon very easily. A great read! Fantastic. Thank you for that recommendation - “The Big Data-Driven Business.” I think somebody else on the podcast already recommended that. Once again, thank you for coming on the show. It was a great pleasure to catch up and to have you on. Awesome. Thank you very much for having me. So there you have it. That was David Tanaskovic. I hope you enjoyed this podcast. And probably my favourite takeaway from today was when David mentioned how he does A/B testing not only on the actual advertising, or on the artwork, or on the ad itself, or on the buttons, or on the website, or on all these creative aspects, but he actually does A/B testing on the audience, on the customer base to understand who to serve the ad to and who that product or campaign will serve the best. So that’s something that probably people don’t think about as much or it’s not the first thing that pops to mind. When you think of A/B testing, you think of testing the ad itself or, if it’s in pharmaceuticals, the drug itself that you’re running or you want the find the results of and so on. But this approach is a bit different. You’re actually testing the audience to segment it better and serve the ad only to those people that will benefit from it the most and therefore your company will benefit from it the most as well.And of course, I also really enjoyed the tips David shared about productivity, like just limiting yourself, but also motivating yourself to watch 10 minutes of education in the morning. So I’ll test that out, I’ll watch a TED talk tomorrow morning. They’re usually around the 8 minute mark so that’ll fit in nicely. Every day, watching something educational in the morning, I think that’s a pretty cool idea.So if you enjoyed this podcast, you can find the show notes at www.superdatascience.com/31. There you will see the transcript for this episode. Also, you will be able to get all the links to the materials mentioned inside this podcast as well as a link to David’s LinkedIn, where you can connect with him, chat with him and ask him lots of questions about marketing. And on that note, thank you very much for listening to the podcast, for being part of this movement of SuperDataScience. If you’d like to connect and get in touch with fellow SuperDataScientists, then jump onto our Facebook group. You can just search for SuperDataScience and you’ll find it there. It’s an open group and we welcome everybody there and I can’t wait to see you inside and connect with you and talk about data science there. And I look forward to seeing you next time. Until then, happy analyzing.\""
      ]
     },
     "execution_count": 7,
     "metadata": {},
     "output_type": "execute_result"
    }
   ],
   "source": [
    "sds_processed['episode_split_text'].loc[30]"
   ]
  },
  {
   "cell_type": "code",
   "execution_count": 8,
   "id": "826d945b",
   "metadata": {},
   "outputs": [],
   "source": [
    "# Function to clean the text \n",
    "def processed_text(text):  \n",
    "    # Lowercase the text\n",
    "    text = text.lower()\n",
    "    # Remove punctuation from the text\n",
    "    text = text.translate(str.maketrans(\"\", \"\", string.punctuation))\n",
    "    # Remove digits from the text\n",
    "    text = ''.join(char for char in text if not char.isdigit())\n",
    "    return text"
   ]
  },
  {
   "cell_type": "code",
   "execution_count": 9,
   "id": "876eba02",
   "metadata": {},
   "outputs": [],
   "source": [
    "sds_processed['episode_split_text'] = sds_processed['episode_split_text'].apply(processed_text)"
   ]
  },
  {
   "cell_type": "code",
   "execution_count": 10,
   "id": "313aef64",
   "metadata": {},
   "outputs": [
    {
     "data": {
      "text/html": [
       "<div>\n",
       "<style scoped>\n",
       "    .dataframe tbody tr th:only-of-type {\n",
       "        vertical-align: middle;\n",
       "    }\n",
       "\n",
       "    .dataframe tbody tr th {\n",
       "        vertical-align: top;\n",
       "    }\n",
       "\n",
       "    .dataframe thead th {\n",
       "        text-align: right;\n",
       "    }\n",
       "</style>\n",
       "<table border=\"1\" class=\"dataframe\">\n",
       "  <thead>\n",
       "    <tr style=\"text-align: right;\">\n",
       "      <th></th>\n",
       "      <th>episode_number</th>\n",
       "      <th>episode_name</th>\n",
       "      <th>length_episode</th>\n",
       "      <th>context_episode</th>\n",
       "      <th>guest_name</th>\n",
       "      <th>host_episode</th>\n",
       "      <th>episode_year</th>\n",
       "      <th>episode_split_text</th>\n",
       "    </tr>\n",
       "  </thead>\n",
       "  <tbody>\n",
       "    <tr>\n",
       "      <th>0</th>\n",
       "      <td>1</td>\n",
       "      <td>Ruben Kogel on Self-Serve Analytics, R vs Pyt...</td>\n",
       "      <td>42</td>\n",
       "      <td>Business Data Science Database</td>\n",
       "      <td>Ruben Kogel</td>\n",
       "      <td>Kirill Eremenko</td>\n",
       "      <td>2016</td>\n",
       "      <td>this is episode number one with exchemical eng...</td>\n",
       "    </tr>\n",
       "    <tr>\n",
       "      <th>1</th>\n",
       "      <td>2</td>\n",
       "      <td>Machine Learning, Recommender Systems and the...</td>\n",
       "      <td>51</td>\n",
       "      <td>Machine Learning Data Science</td>\n",
       "      <td>Hadelin de Ponteves</td>\n",
       "      <td>Kirill Eremenko</td>\n",
       "      <td>2016</td>\n",
       "      <td>this is session number two with machine learni...</td>\n",
       "    </tr>\n",
       "    <tr>\n",
       "      <th>2</th>\n",
       "      <td>3</td>\n",
       "      <td>Defining the Data Problem, Data Science in Ma...</td>\n",
       "      <td>53</td>\n",
       "      <td>Machine Learning R Programming Data Science</td>\n",
       "      <td>Dr. Wilson Pok</td>\n",
       "      <td>Kirill Eremenko</td>\n",
       "      <td>2016</td>\n",
       "      <td>this is episode number three with nanophysics ...</td>\n",
       "    </tr>\n",
       "    <tr>\n",
       "      <th>3</th>\n",
       "      <td>4</td>\n",
       "      <td>Data and Strategy, three Pillars of Research ...</td>\n",
       "      <td>60</td>\n",
       "      <td>Business Data Science</td>\n",
       "      <td>Brendan Hogan</td>\n",
       "      <td>Kirill Eremenko</td>\n",
       "      <td>2016</td>\n",
       "      <td>this is episode four with business strategy ex...</td>\n",
       "    </tr>\n",
       "    <tr>\n",
       "      <th>4</th>\n",
       "      <td>5</td>\n",
       "      <td>Computer Forensics, Fraud Analytics and knowi...</td>\n",
       "      <td>63</td>\n",
       "      <td>Data Science</td>\n",
       "      <td>Dmitry Korneev</td>\n",
       "      <td>Kirill Eremenko</td>\n",
       "      <td>2016</td>\n",
       "      <td>this is episode number five with forensics inv...</td>\n",
       "    </tr>\n",
       "    <tr>\n",
       "      <th>...</th>\n",
       "      <td>...</td>\n",
       "      <td>...</td>\n",
       "      <td>...</td>\n",
       "      <td>...</td>\n",
       "      <td>...</td>\n",
       "      <td>...</td>\n",
       "      <td>...</td>\n",
       "      <td>...</td>\n",
       "    </tr>\n",
       "    <tr>\n",
       "      <th>678</th>\n",
       "      <td>679</td>\n",
       "      <td>The A.I. and Machine Learning Landscape, with...</td>\n",
       "      <td>94</td>\n",
       "      <td>Business Data Science Artificial Intelligence</td>\n",
       "      <td>George Mathew</td>\n",
       "      <td>Jon Krohn</td>\n",
       "      <td>2023</td>\n",
       "      <td>this is episode number  with george matthew ma...</td>\n",
       "    </tr>\n",
       "    <tr>\n",
       "      <th>679</th>\n",
       "      <td>680</td>\n",
       "      <td>Automating Industrial Machines with Data Scie...</td>\n",
       "      <td>30</td>\n",
       "      <td>Business Data Science</td>\n",
       "      <td>Allegra Alessi</td>\n",
       "      <td>Jon Krohn</td>\n",
       "      <td>2023</td>\n",
       "      <td>this is episode number  with allegra alessi io...</td>\n",
       "    </tr>\n",
       "    <tr>\n",
       "      <th>680</th>\n",
       "      <td>681</td>\n",
       "      <td>XGBoost</td>\n",
       "      <td>72</td>\n",
       "      <td>Machine Learning Data Science Python</td>\n",
       "      <td>Matt Harrison</td>\n",
       "      <td>Jon Krohn</td>\n",
       "      <td>2023</td>\n",
       "      <td>this is episode number  with matt harrison man...</td>\n",
       "    </tr>\n",
       "    <tr>\n",
       "      <th>681</th>\n",
       "      <td>682</td>\n",
       "      <td>Business Intelligence Tools, with Mico Yuk</td>\n",
       "      <td>28</td>\n",
       "      <td>Business Data Science</td>\n",
       "      <td>Mico Yuk</td>\n",
       "      <td>Jon Krohn</td>\n",
       "      <td>2023</td>\n",
       "      <td>this is episode number  with mico yuk host of ...</td>\n",
       "    </tr>\n",
       "    <tr>\n",
       "      <th>682</th>\n",
       "      <td>683</td>\n",
       "      <td>Contextual A.I. for Adapting to Adversaries, ...</td>\n",
       "      <td>81</td>\n",
       "      <td>Data Science Artificial Intelligence</td>\n",
       "      <td>Matar Haller</td>\n",
       "      <td>Jon Krohn</td>\n",
       "      <td>2023</td>\n",
       "      <td>this is episode number  with dr matar haller v...</td>\n",
       "    </tr>\n",
       "  </tbody>\n",
       "</table>\n",
       "<p>683 rows × 8 columns</p>\n",
       "</div>"
      ],
      "text/plain": [
       "     episode_number                                       episode_name  \\\n",
       "0                 1   Ruben Kogel on Self-Serve Analytics, R vs Pyt...   \n",
       "1                 2   Machine Learning, Recommender Systems and the...   \n",
       "2                 3   Defining the Data Problem, Data Science in Ma...   \n",
       "3                 4   Data and Strategy, three Pillars of Research ...   \n",
       "4                 5   Computer Forensics, Fraud Analytics and knowi...   \n",
       "..              ...                                                ...   \n",
       "678             679   The A.I. and Machine Learning Landscape, with...   \n",
       "679             680   Automating Industrial Machines with Data Scie...   \n",
       "680             681                                            XGBoost   \n",
       "681             682         Business Intelligence Tools, with Mico Yuk   \n",
       "682             683   Contextual A.I. for Adapting to Adversaries, ...   \n",
       "\n",
       "     length_episode                                context_episode  \\\n",
       "0                42                 Business Data Science Database   \n",
       "1                51                  Machine Learning Data Science   \n",
       "2                53    Machine Learning R Programming Data Science   \n",
       "3                60                          Business Data Science   \n",
       "4                63                                   Data Science   \n",
       "..              ...                                            ...   \n",
       "678              94  Business Data Science Artificial Intelligence   \n",
       "679              30                          Business Data Science   \n",
       "680              72           Machine Learning Data Science Python   \n",
       "681              28                          Business Data Science   \n",
       "682              81           Data Science Artificial Intelligence   \n",
       "\n",
       "                guest_name     host_episode  episode_year  \\\n",
       "0             Ruben Kogel   Kirill Eremenko          2016   \n",
       "1     Hadelin de Ponteves   Kirill Eremenko          2016   \n",
       "2          Dr. Wilson Pok   Kirill Eremenko          2016   \n",
       "3           Brendan Hogan   Kirill Eremenko          2016   \n",
       "4          Dmitry Korneev   Kirill Eremenko          2016   \n",
       "..                     ...              ...           ...   \n",
       "678         George Mathew         Jon Krohn          2023   \n",
       "679        Allegra Alessi         Jon Krohn          2023   \n",
       "680         Matt Harrison         Jon Krohn          2023   \n",
       "681              Mico Yuk         Jon Krohn          2023   \n",
       "682          Matar Haller         Jon Krohn          2023   \n",
       "\n",
       "                                    episode_split_text  \n",
       "0    this is episode number one with exchemical eng...  \n",
       "1    this is session number two with machine learni...  \n",
       "2    this is episode number three with nanophysics ...  \n",
       "3    this is episode four with business strategy ex...  \n",
       "4    this is episode number five with forensics inv...  \n",
       "..                                                 ...  \n",
       "678  this is episode number  with george matthew ma...  \n",
       "679  this is episode number  with allegra alessi io...  \n",
       "680  this is episode number  with matt harrison man...  \n",
       "681  this is episode number  with mico yuk host of ...  \n",
       "682  this is episode number  with dr matar haller v...  \n",
       "\n",
       "[683 rows x 8 columns]"
      ]
     },
     "execution_count": 10,
     "metadata": {},
     "output_type": "execute_result"
    }
   ],
   "source": [
    "sds_processed"
   ]
  },
  {
   "cell_type": "code",
   "execution_count": 11,
   "id": "cfdb16d1",
   "metadata": {},
   "outputs": [
    {
     "data": {
      "text/plain": [
       "'this is episode number  with my good friend david tanaskovicwelcome to the superdatascience podcast my name is kirill eremenko data science coach and lifestyle entrepreneur and each week we bring you inspiring people and ideas to help you build your successful career in data science thanks for being here today and now let’s make the complex simplehello and welcome to the superdatascience podcast super excited to have you on board and today i have invited my good friend david tanaskovic onto the show so something you need to know about david is that hes the happiest person i know on this planet hes always super excited about life nothing can bring him down and hes just generally having fun going through life like you know sometimes you wish you would enjoy the things you do and your day to day activities more like sometimes a day passes by and you feel like oh wow like i didnt really enjoy this day as much as i couldve or as much as i wish i had well i think that david never has that problem hes always super positive about everythingand at the same time david does so many different things so for example david is the director of a media marketing agency he is also in the importexport business and doing some work in that space and importing and exporting things from and to australia and from and to china also hes working in the business development space in pharmaceuticals and then just his occupations at the same time hes got millions of hobbies hes one of the best ballroom dancers in melbourne like salsa and bachata and all these other crazy dances and he plays volleyball and other sports and also he just happened to decide to learn chinese and in the past year hes learned chineseso lots of very interesting things are happening in his life and we talk about a lot of that and this podcast is going to be very useful to people who are thinking of getting into the space of marketing specifically so this is not a heavy data science podcast so we dont talk about things like r and python and so on but at the same time we do cover off those tools that are used in the marketing space and we talk about kissmetrics we also talk about ab testing and how david views ab testing and how he performs ab testing in his company also you will find this podcast useful if you are looking to enhance your productivity and just have a better lifestyle and enjoy your life more so david shares some tips about how he goes about learning new things and some tips for people starting new careers and so on so if youre looking for any of those two things then this podcast is for you and i cant wait for you to get to know my friend david and what he is up toso without further ado i bring to you my friend david tanaskovic director of c mediawelcome everybody to the superdatascience podcast today ive got my good friend david tanaskovic with me calling in from melbourne david welcome to the show how are you going man hi very good very good thanks for having me thats awesome hows the weather in melbourne oh yeah its pretty good but changes very often typical melbourne style yeah yeah as always thats kind of the only reason i dont live in melbourne because the weather is just changing like  times a day yeah thats right so david how long have you and i been friends for wow that’s—yeah very very long time i can’t even count the years i need more than two hands laughs yeah it’s crazy i think we started hanging out when i was six years old  years man exactly exactly unreal yeah good times absolutely yeah man we grew up in africa together and then out of our two families you were the first to move to australia and start your marketing degree here from there where did that take you after moving here and getting into your marketing degree how did that go and what were your next steps after that yeah absolutely so i had a really strong passion for marketing and i really fell in love with it when i studied it i really wanted to work in things especially like campaigns and i saw a lot of ads on tv and things like that i wanted to work in that sort of creative side of the industry and it really took me in a sort of different direction when i started to worki started working in sort of education industry and marketing around there and then from there i moved on more towards media and now i actually am partnered in a media company called c media in which i work as well and other than doing that of course i have a couple of other businesses i’m always doing something i guess one of the passions of working in marketing and working around data and analysis is that there’s a lot of things that i can do i do a little bit of importexport business i do of course the media business i work in business development in actually the pharmaceutical industry so i have my hands in a lot of different jars yeah that’s something i find so inspiring about you all the time first of all you don’t sit on your back and do nothing you’re always constantly doing stuff and the second thing is that you seem to have like  hours in a day i don’t know how you do this but you have managed to have free time you’re married you have a lovely family you have a family life you have all these jobs you have hobbies i mean for crying out loud in the past year you learned chinese how do you do that well i guess a lot of worklife balance is all about really making time for things everyone says that and everyone thinks it’s quite easy but it’s actually all about scheduling and keeping yourself busy all the time and i keep myself busy having fun too having fun is obviously the number one goal and all the hobbies that i do like i do some sport like volleyball and things like that or like tennis or golf—i do a lot of sport during the week and then i find time to do things like dancing and learning chinese just keep yourself busy but do the things you love have fun and then you don’t find it as work you find it as a passion by the way dancing—guys listening to this you’ve got to know that there is like a mini tim ferriss in australia because you’ve got so many trophies for dancing you know st place in melbourne so many times oh yeah there’s a whole shelf just picking up dust and lots and lots of trophies laughs yeah yeah i would say you’re not being modest if i hadn’t seen it it’s really packed like they’re falling off the shelf absolutely but that’s the thing when you’re passionate about something you’ll do your best in it and you’ll do whatever it takes to succeed i’m actually going to be doing a big comp at the end of the year as well for dancing so i’m preparing for that while i’m learning chinese while i’m doing my businesses so yeah  hours in a day that’s crazy i love it all right so tell us a bit more about your businesses or about the roles that you’re working on i’m assuming some of them involve data more heavily some of them involve data less heavily let’s maybe start off the ones that are more data focused and that way you can share the most insights with our listeners yeah absolutely i guess the most data intensive role that i’m currently doing is being part of the media company a lot of what we do for clients and a lot of these clients are actually foreign exchange companies or forex or financial brokers or property brokers so there’s a lot of financials to do with it what we do is we do campaign analysis as well as running of campaigns and launching of campaigns so there’s a lot of data involved in terms of finding out how successful campaigns are is it reaching the right target market how you’re testing the markets how you’re testing whether it’s going to make a sale whether your lead generation is actually happening and a lot of tracking of that data so it’s quite interesting quite involved that’s one of the things i love about ityou know when i think of data it makes me really really passionate and really want to actually do more and analyse and sort of paint the picture of what i’m actually going to do with this how can i explain what just happened it’s a beautiful thing it tells a story i guess that’s more the media side of things so i’ll get a little bit more into that later in the other roles that i do i do a lot of business development and relationship development in both my export business as well as my business development role in the pharmaceutical company talking to a lot of clients i’ve always had a passion for meeting new people networking and seeing how we can help each other and how people can grow within a business finding sort of similar goals and things like that yeah got it you’ve definitely been very good at networking all the time do you use data or any analytics for your networking to help you understand who to connect with or how to maintain relationships with people yeah what i tend to see that really works is that once you sort of build a small network of people that you really know well especially in terms of business what you need to do to essentially make that grow you tend to have to do networking events a lot very often and i tend to stalk people a lot on linkedin – that’s one of my favourite things – and get to find out a little bit more about them and where they’re from what their background is and what they’re interested in and you know it’s especially important and i think what really helped me with networking and building such a strong network of people and businesses is to be interested in what they’re interested in you know get involved in what they’re involved in and sort of see their point of view of things yeah i guess that’s some advice that people can take back yeah thanks and i can attest to that that networking is really important like i’ve always heard even when i was working for other companies i heard that about  of recruiting or hiring happens behind the scenes happens through referrals through connections and so on i was always a bit skeptical about it but now that i have my own business it’s exactly like that pretty much  of the people are always like friends of friends or people who they know exactly so if people who are listening to this podcast are looking for jobs and so on best way to do that is networking yeah basically throughout my whole career if i hadn’t networked i probably wouldn’t get any of the roles i got because even though i applied many roles looking for work here and there looking to upgrade my career the best roles that i got and the most enjoyable ones were people that you work with that you want to work with and you love to work with and you have a good connection with and those people you get to know through networking yeah totally okay so let’s move on a bit to your current role as a director of c media i’m assuming from what you’ve told us so far that’s the most heavily data focused role can you tell us a bit more like you’ve mentioned brokerage companies and that you’re on marketing campaigns for them but how exactly do you use data data analytics data science in your daytoday role basically what we do is we tend to launch a lot of digital marketing campaigns of course knowing digital marketing there’s a lot of information that goes into it and you get a lot of information out of it you get information about the people where they’re from who’s looking at the advertisements so there’s a lot of information that you can get on your actual customer base especially people who are interested in it and some of the tools i guess and some of the ways that we use the data is – apart from of course finding out whether a campaign is being successful and whether it’s getting enough hits or getting enough information based on what the creative says or what the creative does – another thing that we find out is whether that creative even though it’s getting a lot of hits will convert so we use a lot of data to sort of do some conversion analysis doing ab testing to find out whether a certain creative is better than another creative also ab testing in terms of seeing which sort of subject lines work best what will grab people’s attentions the mostand then after that whole process of getting their information and gathering that we also work on lead conversion strategies so we work out what sort of target market is the best for the client what sort of target market is going to most likely turn over into a sale basically whether they’re from a certain income certain generation certain background et cetera so what’s their primary role what’s their work where they come from what’s their annual salary all these sorts of things you can get quite a lot of data from campaigns especially because a lot of campaigns for lead generation a lot of it is submitted by users themselves so you get a lot of information and you definitely tend to use that to paint a better picture of who are interested in investing into financial markets and what do you mean when you say it’s submitted by the users themselves well you get a lot of landing pages most digital marketing campaigns will have landing pages of some sort and of course you’ll give them little questionnaires or things to fill out one of the greatest strategies that we’ve used and i think it’s getting used very often now in the financial industry is content strategy campaigns whereby you provide the users with a lot of information about the product as well as some free information or some gift or some kind of information that will benefit them or educate them like a lead magnet or something exactly and from that they usually put through a lot of their own information in order to attain that lead magnet and of course from that we use the data and analyse it and sort of see what the customer base is going to be like whether they’re the right target market for the product and whether they’ll actually convert or they won’t okay that’s really cool and what kind of tools do you use to analyse that data that’s coming through there’s a couple of tools that we use we do use some email campaign tools for simple ab testing and things we tend to use excel a lot excel is fairly easy to use—i say fairly easy to use but it can be pretty complex sometimes laughs we tend to use that a lot it’s a simple sorting tool then we use kissmetrics a lot also and also we do some pixeltools to make sure that we know what’s happening with the campaign how it’s being tracked et cetera a lot of it will be done through kissmetrics and they have a lot of tools there that actually help you out okay i’ve heard a lot about kissmetrics and i’ve actually seen the founder if i’m not mistaken neil patel in a conference talking very very interesting stuff they’ve got a great blog on marketing and lots of people recommend it even if you don’t use the tool it’s really cool that you’re actually using their tool can you tell us a bit more about kissmetrics because i’ve heard it’s quite expensive and there are other alternatives but what are in your view for those of our listeners out there who are maybe business owners entrepreneurs or even in marketing in agencies or inahouse marketing teams what are the main advantages of kissmetrics that you see basically they make the data really simple to read it’s one of those tools that just makes everything easier you don’t have to know too much about coding you don’t have to know too much about data analytics it’s sort of like a cheat sheet and it creates all these analyses for you whilst also actually tracking what your campaigns are doing whether it’s a social media campaign or an email campaign or any kind of digital campaign they can track it like a banner campaign et cetera in terms of its price it is really expensive i would only recommend it if you’re really going to want to do big campaigns our company turns over quite a decent amount so obviously we can afford it but there are other tools obviously if you don’t want to use kissmetrics you can use excel you can use a lot of benchmarking tools even simple things like your mailchimps or benchmark etc that can sort of do the more basic stuff okay gotcha so can you walk me through the process for instance you want to run a campaign or somebody wants to run a campaign how do you go about first of all setting up these data points where you collect the data and then feeding it into kissmetrics and then doing some magic there and getting the output and then analysing it and actioning it if you could walk us through every step of the way that would be really appreciated sure well i won’t go through  of it but i’ll tell you sort of the basic part of it because kissmetrics does a lot of it for you so you don’t have to really worry too much about it there’s not like a big story to say but essentially what you do is you have like sort of a pixel or like a little bit of line of code which actually kissmetrics sort of helps put into your campaign that’s the first thing so the first thing after we’ve talked to the client is we set up the campaign we set up the coding we put that in there then we send out the campaign we send out the campaign through various sources and suppliers for media such as newspapers etc once the campaign is out usually we give it a week or so to let the data come in and then from there we feed it through kissmetrics and it will tell us sort of what the conversion rates are and it will tell us all sorts of things like what the click rate is what the best demographic is what the ab test told us which type of campaign is better you can feed several different types of campaigns and sort of literally straight away see is one campaign better than the other so it’s a very simple tool to use but an expensive one laughs so the data is already visualized for you inside kissmetrics it’s presented as charts and graphs rather than just raw numbers exactly gotcha and then how do you go about auctioning that data do you then talk to the clients or do you adjust the audiences that you’re serving this ad to what exactly do you do with those insights usually you will actually talk to the client because our job as a media company is really to provide the data and analyse it somewhat for them but other than that it’s up to them to make the decision of what they want to do with that data and how they want to action it we’ll give them some suggestions of what’s actually happened and whether the campaign was successful or wasn’t successful or was it just sort of okay and what they can do to improve it of course you just send them a huge report what you call a “thump report” it thumps when you hit the table and then they basically have to action it and see based on our suggestions what they can do okay it thumps when it hits the table yeah that’s a very famous saying like if you’re going to give a client a report it should thump because it should be so full of information when it hits the table it thumps oh gotcha okay laughs okay cool out of all those metrics that happen to be in kissmetrics and that are available to you and that just serve purposes of marketing and campaigns and so on which would you say is or are the most important ones or one that people should focus on maybe there’s some tips and advice you can give to aspiring marketers that want to get into the space of data yeah absolutely so basically i think ab testing is probably one of my favourite tools because it allows you to sort of just test a little bit of a campaign and luckily enough we offer this to our clients a lot ab testing because we find it works better and we do a lot of lead generation campaigns which means if we don’t provide them with the leads we won’t get paid basically so we do a lot of ab testing and i think ab test is one of the greatest tools and it’s really taken for granted sometimes people in the marketing industry they tend to think they know better than they actually know or they haven’t tested out the data yet so i think ab testing is probably one of the best tools that i’ve seen out there in terms of reducing your costs and getting you a better return on an investment you need to test your campaigns a lot of marketing people they have these great creatives and these great ideas and we’ve seen it all before it just flops because they think “we’ll just launch it it’s going to be good it’s going to be our little thing” and sometimes they don’t do the research and it tends to be sort of an iffy project but if you do your testing at least we can tell them before we send out a full campaign that there’s going to be a little bit of a problem or you should fix this so i recommend everyone tests their campaigns before they send them out that’s just like the absolute basic okay cool let’s talk a little bit more about that for instance how do you go about isolating that factor that you’re testing obviously there are many different factors that are influencing the conversion rate or whatever you’re testing how do you go about isolating and do you actually make sure that in the ab test only this one thing is actually different yeah so what we do for clients and not a lot of people can do this i guess is we have databases where we can isolate certain things such as income or we’ll have user information such as income or region whereby we can actually target those specific things and based on certain creative we can see what the difference is in terms of their clickbacks or their opens or their signups etc so we do it with a small portion of population of course a small sample size and it’s not always easy or possible but if you have your own target markets like if you’re doing some internal marketing campaigns with your own user base or your own customer base this is actually really simple to do and you can use that data and you can use these campaigns to test with your own customer base before sending it out to the wider market that’s one thing that you can sort of do alright because when i think of ab testing in terms of marketing i think of ab testing the ad itself but you’re saying you’re actually testing which audience you want to serve this ad to absolutely i think it’s kind of overlooked i mean there’s only so much you can do to change with creative to sort of test is a going to be better than b is a going to be more interesting than b you can always do that that’s no problem and it’s fairly easy to set up but testing the audience i think a lot of people overlook that they think “no this is my target market this is my target market” but they haven’t done the research behind it so it’s very important and it’s especially important when you’re actually choosing which media to go with which database is going to be more interested in it yeah always test your markets that’s very interesting it actually gives me ideas myself because usually the way i go about testing the audience is i just look at google analytics and i see where the people are from that are visiting my website or for instance if we run a survey and people are kind enough to share some information with us we know who they said they are what age groups and so on i just kind of look at the people that utilize the website and where they’re from and i can make the assumption that that is my audiencebut what you’re saying is that those are just some people that are visiting your website which is a good start but they’re there for different purposes somebody might be interested in my podcast somebody might be interested specifically in my courses somebody might be interested in case studies that we run so different people different audiences will be interested in different things and even though you know your audiences overall for your specific products you still need to understand who it serves the best right and not only for your specific products but for your specific marketing campaign as well because different marketing campaigns appeal to different types of people so you’ve really got to find out if you’re going to do an email campaign or a banner campaign you’ve got to find out exactly who are the types of people that are actually going to look at that and say “oh okay that’s interesting” for example banner campaigns which most people will find pretty annoying and a lot of people have ad blocker so they don’t ever work they won’t work with most people that are under  or under  but plus s obviously they won’t have an ad blocker and they probably will click it yeah you’ve got to look at all sorts of things like that like what’s most likely going to reach your target market and which sort of campaign will reach which type of people okay that’s very interesting and also i’d like to mention in these kinds of situations a lot of people perceive marketers as these evil evil human beings that are trying to sell everything to everybody and get maximum money out of it but if you think about it when you are finding out how to approach the audience the best way you’re also doing your audience a service because then that way you’re not going to be bothering people that aren’t going to respond to that type of advertising and also you’re serving the right product or marketing campaign to give the right information to the people that will be interested in this product or advertising campaign and so on yeah absolutely i mean everyone looks at people like google or facebook and they think “wow they’re grabbing a lot of our data they’re getting a lot of our information big brother is watching” etc but what the good marketers are doing is they’re grabbing this information as data and they’re trying to make ads at least the good ones are that are less invasive and more personalized because no one likes popups all the time just happening and marketers are sort of starting to realize that because that’s why they have ad blockers and things like that so we’re trying to sort of work out how can we make ads appealing enough or interesting enough or entertaining enough so that people will look at them and be like “okay yeah i might give this a chance” and data really helps this out data will really pull us through yeah okay so applying data for good right you’re like a little robin hood of marketing laughs well we get wins wherever we can so yes yeah that’s awesome and another question i have on ab testing is how long do you run it for and i ask because in data science like hardcore data science especially in the space of medicine and so on we always test for statistical significance we always check what is the required sample size for this result to be statistically significant so i would like to get your take on that and i also know that marketers sometimes don’t do that don’t check for statistical significance per se but still nevertheless they use their gut feel or they use common industry standards to know how long to run it for how many people they need to get to participate in the test for their results to be valid to proceed with the actual thing yeah and that’s the thing really it depends on the sort of campaign you’re running of course but generally because a lot of marketing campaigns are really time sensitive they don’t have the opportunity or the time to really test it over long periods of time i think the longest i’ve sort of heard is maybe they’ll be testing things out for a month but generally speaking for digital campaigns you probably have like a week or a couple of days so it really varies between the campaignsand that’s the thing with statistical significance a lot of the time you won’t hit as great a sample size as you really want so you won’t really find as great information or data sometimes what you get might just be incorrect data incorrect information just because of the fact that the sample size is so small these are sort of risks and in the end you will use a lot of historical information to work out whether it was an anomaly or whether it was correct so i guess using both historical information and what you’ve seen in the past with past campaigns as well as running these ab tests or just tests for the marketing campaigns you kind of have to use both to sort of figure out has the audience evolved have they started to do something different or is this maybe an anomaly and you have to sort of give both opinions to the client and he’ll make the decision okay gotcha so when you say “historical information” it’s when you run ab test for the same client or a similar product or a variation and then you look at the results of that and then compare it to what you see now right exactly because we run a lot of campaigns with very similar clients so we tend to see very similar trends in the industry in sort of what’s happening usually there’ll be one widely different campaign and then everyone will try and do the same thing so usually after running so many campaigns you will sort of get an idea of what clients want because we do such a niche and specialized market we tend to know our market pretty well so just using historical data and historical information whilst there is a lot of updating happening all the time with the data and what’s happening with different analytics using historic data is still very very important going back to basics and seeing what happened last year or the year before okay and i guess that’s kind of the advantage of a more established company a company that has already done this many times like yours because you guys already have access to this historic data and therefore you can make these tests more agile and you don’t only base your decision on the results of the ab test but also on your prior experience on the data that you had previously exactly we’re in a lucky position because we’ve been doing this for probably more than  years i mean our company has been developed only about a year now it’s a year old so it’s a very young company but in the industry myself and my partner have been doing this for more than  years ever since we started this is why we’ve been getting quite a lot of customers from this industry it finds that there’s a lot of interest in this sort of analysis and giving this sort of treatment to the customer and the client and how actual data will affect their marketing campaign how it will affect their conversion rates and their sales yeah gotcha just out of curiosity is there a minimum requirement for turnover something for you to take on board a new client generally there is usually we will try and work with mostly larger clients just because there’s more money in it of course businesswise but also they tend to have a lot more creative and have a lot more preparation already done so they can put in place changes that they need to once the analysis has been done fairly quickly it is a very time sensitive marketing style digital marketing so if changes need to be made it needs to be done quick so generally we deal with mostly larger clients alright gotcha okay thanks a lot for running us through the ab tests and roi which you mentioned a bit i’m going to move on to the next question that i had for you what’s your biggest challenge that you’ve had to face in the sense of using data in the sense of dealing with data or analytics and applying it in your work and life personally i find the biggest challenge with data analytics is education and finding out more about it learning more about it even though it’s been around for a long time – it used to be called statistics i guess in a way – but now that it’s sort of data science and analytics it’s constantly evolving constantly being developed and whilst a lot of statistical analysis is still being used in a lot of things that they do it’s just changed in terms of what they use it for in business all the time and because of that the tools are changing all the time and the industry is changing all the time and just getting educated in that industry and how to react and how to interpret data i think the education part of it it’s really hard to find the right sources i try my best doing research and things like that but i find that was always a big challenge for me and it took me a long time to get a bit more experience my initial passion for marketing when i did this especially digital marketing was the fact that you could play around with data and i love mathematics but yeah it’s not that easy unless you’re working in the specific industry it’s not that easy to find out how to use it or about it or how to implement it gotcha so where do you find most of your education in such areas are there any sources that you can recommend or websites you can point people to well other than you obviously—laughs laughs thanks apart from you a lot of data science stuff that i look at is—i look through a lot of networking science in linkedin a lot of articles through that from a lot of reputable sources and people that i know i find it’s really good to do some courses especially in things like excel statistics and just doing courses online is probably the best way to go about it i think this next generation is so lucky that they have a lot of these resources they have such a much better developed internet that they can get lots of education online unlike how we used to  or  years ago prior to youtube even existing yeah do you remember the good old days when we used to play “diablo” or “starcraft” and you’d have the dialup modem and then you’d play and then your mom picks up the phone and you’re like “damn it” laughs exactly so this generation is really really lucky that they can see things on youtube they can educate themselves about science about statistics about mathematics about everything that they need to know and it’s really at the touch of their fingertips so even if you can do things—like every morning when i get up i’ll watch a couple of youtube videos and i know kids watch a lot of youtube these days so i try and watch at least one or two things  minutes educational just as little as that can get you a long way and not just the new generation right everybody has it like the new generation is lucky because growing up— meaning everyone now yeah yeah but everyone now is so lucky that we can all do it and speaking of education less than a year ago you and i launched a course together on datadriven marketing and i say “you and i” very liberally because you did most of the work on that course and i just did one section to get people really up to speed with the data techniques tell us a bit more about that what inspired you to share your knowledge with people and what do you discuss in the course what do you cover give us a quick overview of the course yeah absolutely so basically what i wanted to do the course for was sort of similar to something i never had when i was getting into the industry especially in marketing i find that i had to research a lot about digital marketing and how to launch campaigns and things like that so what i wanted to teach people was sort of from basics all the way up to launching a campaign how to prepare yourself and how to use data to actually be able to analyse what you’re doing to actually be able to run things and launch things and afterwards how do you actually see the results and what can you do with those resultsi take it from start to finish in terms of launching a campaign and then reading the data of course little tools and tips and especially – and this is really important for marketers – a lot of it also has to do also with a return on an investment i find a lot of people who are just starting out in marketing and there is a lot of marketing managers who still make these mistakes they don’t take data into account and they just tend to invest their money and their marketing budget into all sorts of different media that doesn’t actually do anything for them so i cover quite a bit of that in the course and how you can actually work out based on the different campaigns which will probably be the most effective for you and how you can sort of find that out and what’s the return on investment for a campaign and also how to reverse engineer and sort of work out “okay i have this much budget is it enough to reach this sort of a goal based on what i’ve done before”it talks a lot about testing as well testing the markets doing ab testing testing your campaigns and based on those tests obviously afterwards you would decide which marketing will be the most worthwhile and where you can put your budget towards that’s sort of the idea behind this course and of course you helped me a lot with the advanced analytics and obviously finding out more about after your campaign or after you’ve gathered data from all sorts of people or your business what you’re going to do with that data how are you going to use that to find out more how you can promote and how you can actually find anomalies in your statistics etc yeah gotcha yeah it’s quite a successful course i had a friend who funnily enough runs a forex broker agent in sydney he contacted me asking me about your course so it has driven some interest and i think people are learning quite a bit from it yeah absolutely the forex market here in australia i guess everyone knows everybody so i was bound to meet up with your friend as well it’s all about really making sure you don’t make those mistakes when you’re first starting out in marketing especially if you’re a small business and you have maybe a marketing budget of a few thousand dollars or maybe even like  dollars it can disappear very quickly and you can get a lot of salespeople from the media agencies calling you and pushing you to do campaigns that don’t actually do anything for you so it’s about avoiding those mistakes and i want people in marketing to think before they act so they don’t get ripped off essentially yeah gotcha very important to educate yourself on these things exactly all right so interesting question for you next one is what is a recent win that you can share with us we’ve talked a lot about data and we’ve actually talked about productivity and towards the end of this podcast i want to steer us into the space of productivity as well you can choose either space what is a recent win that you can share with us that you’re very proud of something that you did i’ve got quite a few because i’m a winner laughs laughs oh there we go i love it yeah but basically i’m a guy who’s really passionate and who loves to have fun i’m a very very happy individual and i think being happy is probably the most important thing in your life but i guess the biggest win right now is the fact that i’m the director of three different brands and companies which is really really exciting obviously three different companies that i’m working oni’ve got one that’s for import and export where we’re now working with wine and marble and all sorts of thingsi’ve got one that’s for the media company of course and one that’s—actually we’re developing our own brand this is really exciting thing in i guess the face and soaps – sort of the cosmetic industry where we’re actually creating and developing our own brand that’s another thing that i’m really excited about i’m all about just succeeding doing everything you can do and just doing the best you can do that’s what i’m all about and everything i aim to do i aim to finish and i think that’s an important way to live your life yeah man i love it i love it it reminds me of the movie—what is it called about marketers where they say “closing…” “closing is for winners” yeah yeah yeah “winners close” or something like that what’s the movie called “glengarry glen ross” yeah “glengarry glen ross” i hated that movie so much laughs it’s like i had such high expectations but that phrase “closing is for winners…” it’s “coffee is for closers” “coffee is for closers” yeah something like that so it really really reminds me of that and you’re kind of translating this whole attitude that you got from your competitor in marketing i love that movie laughs marketing people and salespeople love that movie yeah all right i guess it’s an industry one yeah i can totally attest to it dave is a very happy individual always super happy about everything so talk to us more about that i would love to learn how on earth you’re always smiling and always happy and nothing can knock you off your feet what’s your secret yeah there’s a lot of different things about it i guess it’s just really state of mind thing and this is something people can practice too other than obviously being always an optimist which can have its advantages and disadvantages i think having the state of mind that you’re always looking towards something in the future that keeps you happy that keeps you sane that keeps you working towards a goal this is a big problem with a lot of people they get sort of stuck thinking about “okay this happened in the past” regrets etc it’s really important not to think about the past as something that you could have done differently rather learn from the past and from that don’t make the same mistake againso that’s sort of like the best way that i can explain why i’m always optimistic why i’m looking ahead why i’m always trying to challenge myself and do something else do something different and so on and so forth it’s because i don’t get bogged down in the past and whatever has happened before i instead look towards what am i going to do next how am i going to improve yeah kind of like another movie “interview with the vampire” right he’s like “never regret never regret anything” okay i’ll try to remember that laughs you showed me that movie you were the one who showed me that movie that was a long time ago that was  that was ages ago all right cool that’s really cool advice always just look forward but doesn’t that stop you from – when you’re looking forward to the future don’t you feel that you’re kind of not living in the moment you’re not present in the present if you’re looking to the future all the time well that’s the thing just because you’re looking towards the future doesn’t mean you can’t think about the present that’s happening obviously you need to adapt to situations if something horrible is happening to you in the present time obviously you need to deal with that but it’s a lot of people getting stuck over regrets of what’s happened and it really slows you down it makes you inefficient it’s what i like to call – and this will probably sound a little bit crazy – but it’s what i like to call “energy wasted” “calories used for nothing” because you’re using these calories thinking or worrying or stressing about some things that happened before and those calories are being wasted well it’s good if you’re trying to lose weight but it’s basically energy being wasted on something that you cannot change because none of us have a time machine and because of that as long as you think of these things as “this is going to waste my energy and this is not going to have a positive spin on what i actually need to do next” then you can sort of move on to it obviously there is something traumatic that happened right then and there that’s a different thing but you have to deal with that as it is but if something is more worrying you and you’re regretting that’s where you shouldn’t waste your energy on yeah i totally agree with that a lot of the time we just worry about worrying and worry about being worried about something it just spirals down yeah like one of the things a lot of people will ask themselves is “what should i do now what am i doing now” sort of not knowing what they’re doing and that’s fine a lot of people don’t know what they’re doing but you should ask yourself—instead of “what should i do now” you should be like “what am i going to do next” and that’ll get you sort of started to think “i have something to do i have some goal that i want to achieve i just need to put it down and i just need to do it” all right and speaking of achieving goals and things like that you already mentioned a really cool tip which i’m going to try applying like tomorrow morning when i wake up i’m going to watch something for  minutes like educational and i think that’s really cool do you have any other productivity tips or advice for people to learn faster and get to where they want to go absolutely this is the tip i give to all new salespeople and all new people in marketing and a lot of people in the new jobs this will probably help them too it’s “be comfortable with being uncomfortable” that’s my tip the thing is whenever you start a new role or whenever you start a new sale or something like that you never feel quite comfortable and you’re always delaying yourself and stopping yourself and trying to prepare trying to prepare rather than actually just doing it similar to that viral video with shia labeouf saying “do it” it’s basically like that you just literally need to sometimes do it you need to go halfprepared and learn from your mistakesa lot of the time people will overprepare and they’ll waste a lot of time or they’ll miss an opportunity a lot of the time you just need to be comfortable with being uncomfortable and don’t be worried about failing don’t be worried about making a mistake that’s how you’re going to learn if you look at a salesperson and like a normal person or like a marketing person very different mentality salespeople are always trying to get the sale pushing for it so you’ll never see them ever be uncomfortable with being an absolute fool or making mistakes they just go for it because that’s their mentality so if i could give any advice to anyone it’s honestly start thinking like a salesperson because you’ll become more of a gogetter you’ll be much happier with yourself and you will go and try and achieve what you’re trying to achieve great advice i love it and is that something that you apply in your business and your marketing company absolutely i mean we come from a halfmarketinghalfsales side of the business so we have to on a daily basis just embarrass ourselves and go out there and do whatever we can whether we’re trying to get new clients or whether we are trying to report to a client who thinks they’re wrong or whether we’re not sure what actually happened you just have to be comfortable and not be afraid to look like a fool and to just ask that’s another sales thing i guess “if you don’t ask you’ll never get” same thing i know which movie that’s from laughs yeah all the movies it’s like you have to ask for discounts or whatever you get from them not just – yeah exactly discount anything whether it’s a networking event and you’re shy to go to a ceo and introduce yourself or things like that you’ve got to get out of your comfort zone you know own it be uncomfortable but own that feeling of “i can’t do it” this and that own that feeling and just go and just try and look like a fool but you know what you achieved your goal you looked like a fool but next time you’ll look a little bit better yeah gotcha fantastic advice especially for people in the space of data science where not just the nature of the work and the education that goes into it where a lot of the time you’re introverted you’re by yourself and therefore you develop these — not complexes but shyness you don’t go up to people confidently you don’t take things on confidently but also the fact that with data science you have to make sure that everything is perfect everything is calculated statistical significance is checked the data is prepared well that in itself the nature of the work forces people to think about life in that way as well but in reality i totally agree with you if you’ve never run a presentation – a data science presentation – to  people or  people unless you try you’re never going to actually run one so sometimes you have to get out of your comfort zone yeah absolutely if you’ve ever seen ted talks—you’d probably know about it it’s very famous it’s essentially the same thing a lot of those people may seem confident but it’s all about just getting out there and doing it all of the time you just have to go out there speak your mind be confident with who you are and don’t be worried about failing it’s part of the process okay i’ve got another question too to start wrapping this up from your experience in marketing and from what you see based on all the work you’ve done and the clients you’ve worked with and where you see this industry going where do you think the future of data in marketing lies in the next   or  years down the track good question well data is now really being used more and more in marketing actually now it’s very rare to find campaigns where they don’t use some kind of data analysis or case studies on how the market actually reacted to it from things as simple as ads on tv where it’s very hard to sort of determine what the market thought to things which are more digital and you can definitely see what’s happening so what i tend to see is that we’re going to see a lot more data science in all sorts of aspects of marketing and it’s going to be the norm i think it’s going to be huge industry opener and eyeopener into how campaigns are run and we’re going to see a lot more jobs in data marketing in marketing specifically it’s becoming such a huge industryand i think that also another thing we’re going to see very soon is how big data is going to play a part in marketing in a lot of ways especially with google analytics as well as the google algorithms and how they actually get consumer information how they can use that to make things more personalized i think the next step that we’re going to see in the next  years is more and more personalization in advertising that’s becoming more and more specific to the case where it might even mention your name things like that that might have seem like science fiction when we watched “minority report” but it’s going to become the norm it’s sort of where it’s actually headingand a lot of places especially facebook which has a lot of users’ data will start using campaigns that are more and more personalized and specifically speak to the person back in my day they would just do things like just mention your name that would be enough but now it’s getting to the point where they know exactly what you’re doing and what your hobbies are and what your information is and what products you like and what music you listen to and based on that they’re going to make an ad that’s perfect for you yeah sometimes i feel like they know what i had for breakfast that day yeah because sometimes you literally open the computer and before you even browse for something or maybe you might be watching something on netflix and then all of a sudden you open your google and the first suggestion is exactly what you were watching on netflix it’s like they know it’s very interesting how they’re using data to sort of not just help you in terms of getting information but they’re going to start using it to sell things to you and hopefully things that you actually want to buy and you mentioned that there’s going to be more and more jobs in this space you don’t think that with the advances of machine learning and artificial intelligence — because a lot of people are afraid of jobs being cut because of machines because of robotization automatization and so on you don’t think that marketing is one of those industries where machines will take over and start doing for instance your work and start doing all of that instead of humans doing it to some point yes they will you already have big tools like kissmetrics and there’s so many other tools that you have for analysis and data analysis that you don’t really need a specialist to do it but i still think in terms of creative information and emotional information and emotional data that’s sort of not very obvious you will still have a lot of jobs in that space gotcha all right cool well thanks a lot for coming on the show and sharing all these insights amazing especially both marketing and productivity i think a lot of people take away from that how can our listeners contact you or follow you if they want to find out more about your career or even if there’s people listening that would like to engage you as a consultant or kind of understand how they can get in touch with your company about their marketing needs yeah absolutely so i guess you can basically find me on linkedin linkedin will have all my information and details and you can contact me through there i’m more than happy to grab any questions or things like that you can also of course take my course on udemy if you’re on udemy and shoot me any messages i’m always interested in meeting people talking to them giving them some ideas for the marketing strategies and a lot of the time i’ll give you a lot of the information for free so feel free to give me a message or something like that if you need any help yeah fantastic thank you so much and one final question for you david today what is your one favourite book that you would like to recommend to our listeners yeah this is a fantastic book and i think i’ve recommended this before it’s called “the big datadriven business” it really talks about especially data science data analytics and it uses a lot of great case studies even some including from nate silver he’s pretty famous for his political data science it’s a fantastic book about how to use data in your business whether it’s a small business or a big business and how you can use it to beat competition to evolve your market etc so if you can get it “the big datadriven business” you can probably find it on amazon very easily a great read fantastic thank you for that recommendation  “the big datadriven business” i think somebody else on the podcast already recommended that once again thank you for coming on the show it was a great pleasure to catch up and to have you on awesome thank you very much for having me so there you have it that was david tanaskovic i hope you enjoyed this podcast and probably my favourite takeaway from today was when david mentioned how he does ab testing not only on the actual advertising or on the artwork or on the ad itself or on the buttons or on the website or on all these creative aspects but he actually does ab testing on the audience on the customer base to understand who to serve the ad to and who that product or campaign will serve the best so that’s something that probably people don’t think about as much or it’s not the first thing that pops to mind when you think of ab testing you think of testing the ad itself or if it’s in pharmaceuticals the drug itself that you’re running or you want the find the results of and so on but this approach is a bit different you’re actually testing the audience to segment it better and serve the ad only to those people that will benefit from it the most and therefore your company will benefit from it the most as welland of course i also really enjoyed the tips david shared about productivity like just limiting yourself but also motivating yourself to watch  minutes of education in the morning so i’ll test that out i’ll watch a ted talk tomorrow morning they’re usually around the  minute mark so that’ll fit in nicely every day watching something educational in the morning i think that’s a pretty cool ideaso if you enjoyed this podcast you can find the show notes at wwwsuperdatasciencecom there you will see the transcript for this episode also you will be able to get all the links to the materials mentioned inside this podcast as well as a link to david’s linkedin where you can connect with him chat with him and ask him lots of questions about marketing and on that note thank you very much for listening to the podcast for being part of this movement of superdatascience if you’d like to connect and get in touch with fellow superdatascientists then jump onto our facebook group you can just search for superdatascience and you’ll find it there it’s an open group and we welcome everybody there and i can’t wait to see you inside and connect with you and talk about data science there and i look forward to seeing you next time until then happy analyzing'"
      ]
     },
     "execution_count": 11,
     "metadata": {},
     "output_type": "execute_result"
    }
   ],
   "source": [
    "sds_processed['episode_split_text'].loc[30]"
   ]
  },
  {
   "cell_type": "code",
   "execution_count": 15,
   "id": "fb56ce06",
   "metadata": {},
   "outputs": [],
   "source": [
    "sds_processed['episode_keywords'] = None"
   ]
  },
  {
   "cell_type": "code",
   "execution_count": 16,
   "id": "4892f4ba",
   "metadata": {},
   "outputs": [],
   "source": [
    "# Function to generate 100 keywords per episode using Yake library to store keywords in one column as list\n",
    "def yake_keyword_extractor(doc):\n",
    "    global sds_processed\n",
    "    \n",
    "    for i, episode_text in doc.iteritems():\n",
    "        max_ngram_size = 3\n",
    "        deduplication_threshold = 0.3\n",
    "        windowSize = 1\n",
    "        numOfKeywords = 100\n",
    "        kw_extractor = yake.KeywordExtractor(n = max_ngram_size, dedupLim = deduplication_threshold , windowsSize = windowSize, top = numOfKeywords)\n",
    "        keywords = kw_extractor.extract_keywords(episode_text)\n",
    "        sds_processed.at[i, 'episode_keywords'] = keywords"
   ]
  },
  {
   "cell_type": "code",
   "execution_count": null,
   "id": "4279d45a",
   "metadata": {},
   "outputs": [],
   "source": [
    "yake_keyword_extractor(sds_processed['episode_split_text'])"
   ]
  },
  {
   "cell_type": "code",
   "execution_count": null,
   "id": "51ec5498",
   "metadata": {},
   "outputs": [],
   "source": [
    "# Function to generate 100 keywords per episode using Yake library if keywords need to be separate columns\n",
    "\n",
    "def yake_keyword_extractor(doc):\n",
    "    global sds_processed\n",
    "\n",
    "    for i, episode_text in doc.iteritems():\n",
    "        max_ngram_size = 3\n",
    "        deduplication_threshold = 0.3\n",
    "        windowSize = 1\n",
    "        numOfKeywords = 100\n",
    "        kw_extractor = yake.KeywordExtractor(n=max_ngram_size, dedupLim=deduplication_threshold, windowsSize=windowSize, top=numOfKeywords)\n",
    "        keywords = kw_extractor.extract_keywords(episode_text)\n",
    "\n",
    "        # Create separate columns for each keyword\n",
    "        for j, keyword in enumerate(keywords):\n",
    "            column_name = f'episode_keyword{j+1}'\n",
    "            sds_processed.at[i, column_name] = keyword[0]  # Store the keyword value in the respective column"
   ]
  },
  {
   "cell_type": "code",
   "execution_count": null,
   "id": "d776739b",
   "metadata": {},
   "outputs": [],
   "source": [
    "def tuple_extractor(row):\n",
    "    words = [t[0].replace(\" \", \"_\") for t in row]\n",
    "    return \" \".join(words)"
   ]
  },
  {
   "cell_type": "code",
   "execution_count": null,
   "id": "df78f1a7",
   "metadata": {},
   "outputs": [],
   "source": [
    "sds_processed['keywords'] = sds_processed['episode_keywords'].apply(tuple_extractor)"
   ]
  },
  {
   "cell_type": "code",
   "execution_count": null,
   "id": "e9b19a8c",
   "metadata": {},
   "outputs": [],
   "source": [
    "sds_processed[sds_processed['episode_number'] == 31]"
   ]
  },
  {
   "cell_type": "code",
   "execution_count": null,
   "id": "89db300d",
   "metadata": {},
   "outputs": [],
   "source": [
    "def tuple_extractor(row):\n",
    "    words = [t[0] for t in row]\n",
    "    return words"
   ]
  },
  {
   "cell_type": "code",
   "execution_count": null,
   "id": "4294932e",
   "metadata": {},
   "outputs": [],
   "source": [
    "yake_keyword_extractor(sds_processed['episode_split_text'])"
   ]
  },
  {
   "cell_type": "code",
   "execution_count": null,
   "id": "df4ace1a",
   "metadata": {},
   "outputs": [],
   "source": [
    "sds_processed"
   ]
  },
  {
   "cell_type": "code",
   "execution_count": null,
   "id": "926ef640",
   "metadata": {},
   "outputs": [],
   "source": [
    "from sklearn.feature_extraction.text import CountVectorizer\n",
    " \n",
    "    \n",
    "document = [\"One Geek helps Two Geeks\",\n",
    "            \"Two Geeks help Four Geeks\",\n",
    "            \"Each Geek helps many other Geeks at GeeksforGeeks\"]\n",
    "\n",
    "# Create a Vectorizer Object\n",
    "vectorizer = CountVectorizer()\n",
    " \n",
    "vectorizer.fit(document)\n",
    " \n",
    "# Printing the identified Unique words along with their indices\n",
    "print(\"Vocabulary: \", vectorizer.vocabulary_)\n",
    " \n",
    "# Encode the Document\n",
    "vector = vectorizer.transform(document)\n",
    " \n",
    "# Summarizing the Encoded Texts\n",
    "print(\"Encoded Document is:\")\n",
    "print(vector.toarray())"
   ]
  },
  {
   "cell_type": "code",
   "execution_count": null,
   "id": "675a2cad",
   "metadata": {},
   "outputs": [],
   "source": [
    "sds_1.shape"
   ]
  },
  {
   "cell_type": "code",
   "execution_count": null,
   "id": "af1170cd",
   "metadata": {},
   "outputs": [],
   "source": [
    "sds_processed"
   ]
  },
  {
   "cell_type": "code",
   "execution_count": null,
   "id": "641275c5",
   "metadata": {},
   "outputs": [],
   "source": [
    "sds_processed['episode_keywords'].loc[20]"
   ]
  },
  {
   "cell_type": "code",
   "execution_count": null,
   "id": "fe979e43",
   "metadata": {},
   "outputs": [],
   "source": [
    "sds_processed.info()"
   ]
  },
  {
   "cell_type": "code",
   "execution_count": null,
   "id": "b3ac22fd",
   "metadata": {},
   "outputs": [],
   "source": [
    "#sds_processed.to_csv('../data/sds_yake_keywords.csv')"
   ]
  },
  {
   "cell_type": "code",
   "execution_count": null,
   "id": "69d651d4",
   "metadata": {},
   "outputs": [],
   "source": [
    "#sds_keywords = pd.read_csv('../data/sds_yake_keywords.csv')"
   ]
  },
  {
   "cell_type": "code",
   "execution_count": null,
   "id": "4091697f",
   "metadata": {},
   "outputs": [],
   "source": [
    "sds_1 = sds_processed[sds_processed['episode_number'] == 1]"
   ]
  },
  {
   "cell_type": "code",
   "execution_count": null,
   "id": "4856f985",
   "metadata": {},
   "outputs": [],
   "source": [
    "sds_1"
   ]
  },
  {
   "cell_type": "code",
   "execution_count": null,
   "id": "4d573c4f",
   "metadata": {},
   "outputs": [],
   "source": [
    "sds_1.info()"
   ]
  },
  {
   "cell_type": "code",
   "execution_count": null,
   "id": "278ef9cb",
   "metadata": {},
   "outputs": [],
   "source": [
    "sds_1['episode_keywords'].loc[0]"
   ]
  },
  {
   "cell_type": "code",
   "execution_count": null,
   "id": "071fc414",
   "metadata": {},
   "outputs": [],
   "source": [
    "sds_1"
   ]
  },
  {
   "cell_type": "code",
   "execution_count": null,
   "id": "a71e7789",
   "metadata": {},
   "outputs": [],
   "source": [
    "sds_1['keywords'] = None"
   ]
  },
  {
   "cell_type": "code",
   "execution_count": null,
   "id": "47637c86",
   "metadata": {},
   "outputs": [],
   "source": [
    "sds_processed['keywords'] = None"
   ]
  },
  {
   "cell_type": "code",
   "execution_count": null,
   "id": "9aee976a",
   "metadata": {},
   "outputs": [],
   "source": []
  },
  {
   "cell_type": "code",
   "execution_count": null,
   "id": "0d2b052f",
   "metadata": {},
   "outputs": [],
   "source": [
    "print(sds_processed['keywords'].loc[677])"
   ]
  },
  {
   "cell_type": "code",
   "execution_count": null,
   "id": "bee71966",
   "metadata": {},
   "outputs": [],
   "source": [
    "\n"
   ]
  },
  {
   "cell_type": "code",
   "execution_count": null,
   "id": "f36c83ec",
   "metadata": {},
   "outputs": [],
   "source": [
    "sds_1['episode_keywords'].apply(lambda x: tuple_extractor(x))"
   ]
  },
  {
   "cell_type": "code",
   "execution_count": null,
   "id": "fd9b2b67",
   "metadata": {},
   "outputs": [],
   "source": [
    "sds_1.loc[0]"
   ]
  },
  {
   "cell_type": "code",
   "execution_count": null,
   "id": "fac6d5f8",
   "metadata": {},
   "outputs": [],
   "source": [
    "sds_1['keywords'].loc[0]"
   ]
  },
  {
   "cell_type": "code",
   "execution_count": null,
   "id": "75efae2f",
   "metadata": {},
   "outputs": [],
   "source": [
    "sds_1['keywords'].loc[0]"
   ]
  },
  {
   "cell_type": "code",
   "execution_count": null,
   "id": "b460cd55",
   "metadata": {},
   "outputs": [],
   "source": [
    "def tuple_extractor(word_tuples):\n",
    "    global sds_1\n",
    "    words = [t[0] for t in word_tuples]\n",
    "    return words"
   ]
  },
  {
   "cell_type": "code",
   "execution_count": null,
   "id": "e351c59f",
   "metadata": {},
   "outputs": [],
   "source": [
    "sds_1['keywords'] = sds_1['episode_keywords'].apply(lambda x: tuple_extractor(x))"
   ]
  },
  {
   "cell_type": "code",
   "execution_count": null,
   "id": "da0471b0",
   "metadata": {},
   "outputs": [],
   "source": [
    "sds_1"
   ]
  },
  {
   "cell_type": "code",
   "execution_count": null,
   "id": "505af419",
   "metadata": {},
   "outputs": [],
   "source": [
    "sds_1['keywords'] = sds_1['episode_keywords'].apply(tuple_extractor)"
   ]
  },
  {
   "cell_type": "code",
   "execution_count": null,
   "id": "3f643b18",
   "metadata": {},
   "outputs": [],
   "source": [
    "sds_1['keywords'].loc[0]"
   ]
  },
  {
   "cell_type": "code",
   "execution_count": null,
   "id": "2b2c9b33",
   "metadata": {},
   "outputs": [],
   "source": [
    "def tuple_extractor(tuple):\n",
    "    global sds_keywords\n",
    "    words = []\n",
    "    #for i, episode_text in doc.iteritems():\n",
    "    for i, word_tuple in tuple.iteritems():\n",
    "        words = [t[0] for t in word_tuple]\n",
    "        sds_keywords['keywords'] = words\n",
    "    \n",
    "            "
   ]
  },
  {
   "cell_type": "code",
   "execution_count": null,
   "id": "f7595dea",
   "metadata": {},
   "outputs": [],
   "source": [
    "sds_keywords['episode_keywords'].apply(tuple_extractor)"
   ]
  },
  {
   "cell_type": "code",
   "execution_count": null,
   "id": "34dd196b",
   "metadata": {},
   "outputs": [],
   "source": []
  },
  {
   "cell_type": "code",
   "execution_count": null,
   "id": "e71d79df",
   "metadata": {},
   "outputs": [],
   "source": [
    "sds_keywords"
   ]
  },
  {
   "cell_type": "code",
   "execution_count": null,
   "id": "c3068760",
   "metadata": {},
   "outputs": [],
   "source": [
    "sds_1['keywords'] = sds_1['episode_keywords'].apply(tuple_extractor)"
   ]
  },
  {
   "cell_type": "code",
   "execution_count": null,
   "id": "b03be2b8",
   "metadata": {},
   "outputs": [],
   "source": [
    "sds_1"
   ]
  },
  {
   "cell_type": "code",
   "execution_count": null,
   "id": "2a18a209",
   "metadata": {},
   "outputs": [],
   "source": [
    "[t[0] for t in sds_1['episode_keywords']]"
   ]
  },
  {
   "cell_type": "code",
   "execution_count": null,
   "id": "016e701a",
   "metadata": {},
   "outputs": [],
   "source": [
    "sds_processed['episode_keywords'] = [t[0] for t in sds_processed['episode_keywords']]"
   ]
  },
  {
   "cell_type": "code",
   "execution_count": null,
   "id": "5f60e0d4",
   "metadata": {},
   "outputs": [],
   "source": [
    "sds_processed"
   ]
  },
  {
   "cell_type": "code",
   "execution_count": null,
   "id": "fd3b8272",
   "metadata": {},
   "outputs": [],
   "source": [
    "sds_processed['episode_keywords'].loc[678]"
   ]
  },
  {
   "cell_type": "code",
   "execution_count": null,
   "id": "19d5b2b1",
   "metadata": {},
   "outputs": [],
   "source": [
    "def keyword_extractor(doc):\n",
    "    kw_model = KeyBERT()\n",
    "    global sds_processed\n",
    "    stopwords = list(STOP_WORDS)\n",
    "    \n",
    "    for i, episode_text in doc.iteritems():\n",
    "        keywords = kw_model.extract_keywords(episode_text, keyphrase_ngram_range=(1, 1), stop_words = stopwords, top_n = 100, use_mmr=True, diversity=0.7)\n",
    "        sds_processed.at[i, 'episode_keywords'] = keywords"
   ]
  },
  {
   "cell_type": "code",
   "execution_count": null,
   "id": "6a7bfd55",
   "metadata": {},
   "outputs": [],
   "source": [
    "kw_model = KeyBERT()\n",
    "stopwords = list(STOP_WORDS)\n",
    "keywords = kw_model.extract_keywords(doca, keyphrase_ngram_range=(1, 2), stop_words = stopwords, top_n = 100, use_mmr=True, diversity=0.8)\n",
    "\n"
   ]
  },
  {
   "cell_type": "code",
   "execution_count": null,
   "id": "ddfc5d57",
   "metadata": {},
   "outputs": [],
   "source": [
    "keywords"
   ]
  },
  {
   "cell_type": "code",
   "execution_count": null,
   "id": "f6e849c4",
   "metadata": {},
   "outputs": [],
   "source": [
    "keyword_extractor(sds_processed['episode_split_text'])"
   ]
  },
  {
   "cell_type": "code",
   "execution_count": null,
   "id": "63270580",
   "metadata": {},
   "outputs": [],
   "source": [
    "len(keywords)"
   ]
  },
  {
   "cell_type": "code",
   "execution_count": null,
   "id": "39a224f8",
   "metadata": {},
   "outputs": [],
   "source": [
    "keywords"
   ]
  },
  {
   "cell_type": "code",
   "execution_count": null,
   "id": "7ffa75fe",
   "metadata": {},
   "outputs": [],
   "source": [
    "#sds_processed['episode_split_text'][1:5].apply(keyword_extractor)"
   ]
  },
  {
   "cell_type": "code",
   "execution_count": null,
   "id": "cce751d3",
   "metadata": {},
   "outputs": [],
   "source": []
  },
  {
   "cell_type": "code",
   "execution_count": null,
   "id": "ffee6d5d",
   "metadata": {},
   "outputs": [],
   "source": [
    "# https://maartengr.github.io/BERTopic/index.html"
   ]
  }
 ],
 "metadata": {
  "kernelspec": {
   "display_name": "Python 3 (ipykernel)",
   "language": "python",
   "name": "python3"
  },
  "language_info": {
   "codemirror_mode": {
    "name": "ipython",
    "version": 3
   },
   "file_extension": ".py",
   "mimetype": "text/x-python",
   "name": "python",
   "nbconvert_exporter": "python",
   "pygments_lexer": "ipython3",
   "version": "3.9.12"
  }
 },
 "nbformat": 4,
 "nbformat_minor": 5
}
