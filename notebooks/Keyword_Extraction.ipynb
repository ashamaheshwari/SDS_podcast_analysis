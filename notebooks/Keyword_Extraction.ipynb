{
 "cells": [
  {
   "cell_type": "code",
   "execution_count": 1,
   "id": "f2f934c2",
   "metadata": {},
   "outputs": [],
   "source": [
    "import spacy\n",
    "from spacy.lang.en.stop_words import STOP_WORDS\n",
    "#from keybert import KeyBERT\n",
    "import yake"
   ]
  },
  {
   "cell_type": "code",
   "execution_count": 2,
   "id": "4a613e59",
   "metadata": {},
   "outputs": [
    {
     "data": {
      "application/javascript": [
       "\n",
       "        if (window._pyforest_update_imports_cell) { window._pyforest_update_imports_cell('import pandas as pd'); }\n",
       "    "
      ],
      "text/plain": [
       "<IPython.core.display.Javascript object>"
      ]
     },
     "metadata": {},
     "output_type": "display_data"
    }
   ],
   "source": [
    "sds_text = pd.read_csv('../data/sds_text.csv')"
   ]
  },
  {
   "cell_type": "code",
   "execution_count": 3,
   "id": "a299939b",
   "metadata": {},
   "outputs": [
    {
     "data": {
      "text/html": [
       "<div>\n",
       "<style scoped>\n",
       "    .dataframe tbody tr th:only-of-type {\n",
       "        vertical-align: middle;\n",
       "    }\n",
       "\n",
       "    .dataframe tbody tr th {\n",
       "        vertical-align: top;\n",
       "    }\n",
       "\n",
       "    .dataframe thead th {\n",
       "        text-align: right;\n",
       "    }\n",
       "</style>\n",
       "<table border=\"1\" class=\"dataframe\">\n",
       "  <thead>\n",
       "    <tr style=\"text-align: right;\">\n",
       "      <th></th>\n",
       "      <th>Unnamed: 0</th>\n",
       "      <th>episode_name</th>\n",
       "      <th>length_episode</th>\n",
       "      <th>context_episode</th>\n",
       "      <th>guest_name</th>\n",
       "      <th>guest_info</th>\n",
       "      <th>text_episode</th>\n",
       "      <th>episode_number</th>\n",
       "      <th>episode_date</th>\n",
       "      <th>episode_day</th>\n",
       "      <th>host_episode</th>\n",
       "      <th>speaker</th>\n",
       "      <th>episode_split_text</th>\n",
       "    </tr>\n",
       "  </thead>\n",
       "  <tbody>\n",
       "    <tr>\n",
       "      <th>0</th>\n",
       "      <td>0</td>\n",
       "      <td>Ruben Kogel on Self-Serve Analytics, R vs Pyt...</td>\n",
       "      <td>42</td>\n",
       "      <td>Business Data Science Database</td>\n",
       "      <td>Ruben Kogel</td>\n",
       "      <td>Subscribe on Website, Apple Podcasts, Spotify,...</td>\n",
       "      <td>Kirill: This is episode number one with ex-che...</td>\n",
       "      <td>1</td>\n",
       "      <td>Sep 10, 2016</td>\n",
       "      <td>Saturday</td>\n",
       "      <td>Kirril Eremenko</td>\n",
       "      <td>Kirill</td>\n",
       "      <td>This is episode number one with ex-chemical e...</td>\n",
       "    </tr>\n",
       "    <tr>\n",
       "      <th>1</th>\n",
       "      <td>0</td>\n",
       "      <td>Ruben Kogel on Self-Serve Analytics, R vs Pyt...</td>\n",
       "      <td>42</td>\n",
       "      <td>Business Data Science Database</td>\n",
       "      <td>Ruben Kogel</td>\n",
       "      <td>Subscribe on Website, Apple Podcasts, Spotify,...</td>\n",
       "      <td>Kirill: This is episode number one with ex-che...</td>\n",
       "      <td>1</td>\n",
       "      <td>Sep 10, 2016</td>\n",
       "      <td>Saturday</td>\n",
       "      <td>Kirril Eremenko</td>\n",
       "      <td>Kirill</td>\n",
       "      <td>Hey guys, welcome to the Podcast. I’ve got Ru...</td>\n",
       "    </tr>\n",
       "    <tr>\n",
       "      <th>2</th>\n",
       "      <td>0</td>\n",
       "      <td>Ruben Kogel on Self-Serve Analytics, R vs Pyt...</td>\n",
       "      <td>42</td>\n",
       "      <td>Business Data Science Database</td>\n",
       "      <td>Ruben Kogel</td>\n",
       "      <td>Subscribe on Website, Apple Podcasts, Spotify,...</td>\n",
       "      <td>Kirill: This is episode number one with ex-che...</td>\n",
       "      <td>1</td>\n",
       "      <td>Sep 10, 2016</td>\n",
       "      <td>Saturday</td>\n",
       "      <td>Kirril Eremenko</td>\n",
       "      <td>Ruben</td>\n",
       "      <td>Thank you! Thanks for having me over. I’m doi...</td>\n",
       "    </tr>\n",
       "    <tr>\n",
       "      <th>3</th>\n",
       "      <td>0</td>\n",
       "      <td>Ruben Kogel on Self-Serve Analytics, R vs Pyt...</td>\n",
       "      <td>42</td>\n",
       "      <td>Business Data Science Database</td>\n",
       "      <td>Ruben Kogel</td>\n",
       "      <td>Subscribe on Website, Apple Podcasts, Spotify,...</td>\n",
       "      <td>Kirill: This is episode number one with ex-che...</td>\n",
       "      <td>1</td>\n",
       "      <td>Sep 10, 2016</td>\n",
       "      <td>Saturday</td>\n",
       "      <td>Kirril Eremenko</td>\n",
       "      <td>Kirill</td>\n",
       "      <td>Awesome. It’s great to hear you and for those...</td>\n",
       "    </tr>\n",
       "    <tr>\n",
       "      <th>4</th>\n",
       "      <td>0</td>\n",
       "      <td>Ruben Kogel on Self-Serve Analytics, R vs Pyt...</td>\n",
       "      <td>42</td>\n",
       "      <td>Business Data Science Database</td>\n",
       "      <td>Ruben Kogel</td>\n",
       "      <td>Subscribe on Website, Apple Podcasts, Spotify,...</td>\n",
       "      <td>Kirill: This is episode number one with ex-che...</td>\n",
       "      <td>1</td>\n",
       "      <td>Sep 10, 2016</td>\n",
       "      <td>Saturday</td>\n",
       "      <td>Kirril Eremenko</td>\n",
       "      <td>Ruben</td>\n",
       "      <td>Yeah sure. So, I’m the senior manager of anal...</td>\n",
       "    </tr>\n",
       "    <tr>\n",
       "      <th>...</th>\n",
       "      <td>...</td>\n",
       "      <td>...</td>\n",
       "      <td>...</td>\n",
       "      <td>...</td>\n",
       "      <td>...</td>\n",
       "      <td>...</td>\n",
       "      <td>...</td>\n",
       "      <td>...</td>\n",
       "      <td>...</td>\n",
       "      <td>...</td>\n",
       "      <td>...</td>\n",
       "      <td>...</td>\n",
       "      <td>...</td>\n",
       "    </tr>\n",
       "    <tr>\n",
       "      <th>46767</th>\n",
       "      <td>681</td>\n",
       "      <td>Contextual A.I. for Adapting to Adversaries, ...</td>\n",
       "      <td>81</td>\n",
       "      <td>Data Science Artificial Intelligence</td>\n",
       "      <td>Matar Haller</td>\n",
       "      <td>Subscribe on Website, Apple Podcasts, Spotify,...</td>\n",
       "      <td>Jon Krohn:\\t00:00:05\\tThis is episode number 6...</td>\n",
       "      <td>683</td>\n",
       "      <td>May 30, 2023</td>\n",
       "      <td>Tuesday</td>\n",
       "      <td>Jon Krohn</td>\n",
       "      <td>Jon Krohn</td>\n",
       "      <td>Yeah, right. Yeah, as I mean, it actually, it ...</td>\n",
       "    </tr>\n",
       "    <tr>\n",
       "      <th>46768</th>\n",
       "      <td>681</td>\n",
       "      <td>Contextual A.I. for Adapting to Adversaries, ...</td>\n",
       "      <td>81</td>\n",
       "      <td>Data Science Artificial Intelligence</td>\n",
       "      <td>Matar Haller</td>\n",
       "      <td>Subscribe on Website, Apple Podcasts, Spotify,...</td>\n",
       "      <td>Jon Krohn:\\t00:00:05\\tThis is episode number 6...</td>\n",
       "      <td>683</td>\n",
       "      <td>May 30, 2023</td>\n",
       "      <td>Tuesday</td>\n",
       "      <td>Jon Krohn</td>\n",
       "      <td>Matar Haller</td>\n",
       "      <td>Happy to.</td>\n",
       "    </tr>\n",
       "    <tr>\n",
       "      <th>46769</th>\n",
       "      <td>681</td>\n",
       "      <td>Contextual A.I. for Adapting to Adversaries, ...</td>\n",
       "      <td>81</td>\n",
       "      <td>Data Science Artificial Intelligence</td>\n",
       "      <td>Matar Haller</td>\n",
       "      <td>Subscribe on Website, Apple Podcasts, Spotify,...</td>\n",
       "      <td>Jon Krohn:\\t00:00:05\\tThis is episode number 6...</td>\n",
       "      <td>683</td>\n",
       "      <td>May 30, 2023</td>\n",
       "      <td>Tuesday</td>\n",
       "      <td>Jon Krohn</td>\n",
       "      <td>Jon Krohn</td>\n",
       "      <td>Nice. Well, yeah, so you mentioned potentially...</td>\n",
       "    </tr>\n",
       "    <tr>\n",
       "      <th>46770</th>\n",
       "      <td>681</td>\n",
       "      <td>Contextual A.I. for Adapting to Adversaries, ...</td>\n",
       "      <td>81</td>\n",
       "      <td>Data Science Artificial Intelligence</td>\n",
       "      <td>Matar Haller</td>\n",
       "      <td>Subscribe on Website, Apple Podcasts, Spotify,...</td>\n",
       "      <td>Jon Krohn:\\t00:00:05\\tThis is episode number 6...</td>\n",
       "      <td>683</td>\n",
       "      <td>May 30, 2023</td>\n",
       "      <td>Tuesday</td>\n",
       "      <td>Jon Krohn</td>\n",
       "      <td>Matar Haller</td>\n",
       "      <td>Thank you for having me. This was fascinating ...</td>\n",
       "    </tr>\n",
       "    <tr>\n",
       "      <th>46771</th>\n",
       "      <td>681</td>\n",
       "      <td>Contextual A.I. for Adapting to Adversaries, ...</td>\n",
       "      <td>81</td>\n",
       "      <td>Data Science Artificial Intelligence</td>\n",
       "      <td>Matar Haller</td>\n",
       "      <td>Subscribe on Website, Apple Podcasts, Spotify,...</td>\n",
       "      <td>Jon Krohn:\\t00:00:05\\tThis is episode number 6...</td>\n",
       "      <td>683</td>\n",
       "      <td>May 30, 2023</td>\n",
       "      <td>Tuesday</td>\n",
       "      <td>Jon Krohn</td>\n",
       "      <td>Jon Krohn</td>\n",
       "      <td>I loved this conversation today. I hope you di...</td>\n",
       "    </tr>\n",
       "  </tbody>\n",
       "</table>\n",
       "<p>46772 rows × 13 columns</p>\n",
       "</div>"
      ],
      "text/plain": [
       "       Unnamed: 0                                       episode_name  \\\n",
       "0               0   Ruben Kogel on Self-Serve Analytics, R vs Pyt...   \n",
       "1               0   Ruben Kogel on Self-Serve Analytics, R vs Pyt...   \n",
       "2               0   Ruben Kogel on Self-Serve Analytics, R vs Pyt...   \n",
       "3               0   Ruben Kogel on Self-Serve Analytics, R vs Pyt...   \n",
       "4               0   Ruben Kogel on Self-Serve Analytics, R vs Pyt...   \n",
       "...           ...                                                ...   \n",
       "46767         681   Contextual A.I. for Adapting to Adversaries, ...   \n",
       "46768         681   Contextual A.I. for Adapting to Adversaries, ...   \n",
       "46769         681   Contextual A.I. for Adapting to Adversaries, ...   \n",
       "46770         681   Contextual A.I. for Adapting to Adversaries, ...   \n",
       "46771         681   Contextual A.I. for Adapting to Adversaries, ...   \n",
       "\n",
       "       length_episode                       context_episode      guest_name  \\\n",
       "0                  42        Business Data Science Database    Ruben Kogel    \n",
       "1                  42        Business Data Science Database    Ruben Kogel    \n",
       "2                  42        Business Data Science Database    Ruben Kogel    \n",
       "3                  42        Business Data Science Database    Ruben Kogel    \n",
       "4                  42        Business Data Science Database    Ruben Kogel    \n",
       "...               ...                                   ...             ...   \n",
       "46767              81  Data Science Artificial Intelligence   Matar Haller    \n",
       "46768              81  Data Science Artificial Intelligence   Matar Haller    \n",
       "46769              81  Data Science Artificial Intelligence   Matar Haller    \n",
       "46770              81  Data Science Artificial Intelligence   Matar Haller    \n",
       "46771              81  Data Science Artificial Intelligence   Matar Haller    \n",
       "\n",
       "                                              guest_info  \\\n",
       "0      Subscribe on Website, Apple Podcasts, Spotify,...   \n",
       "1      Subscribe on Website, Apple Podcasts, Spotify,...   \n",
       "2      Subscribe on Website, Apple Podcasts, Spotify,...   \n",
       "3      Subscribe on Website, Apple Podcasts, Spotify,...   \n",
       "4      Subscribe on Website, Apple Podcasts, Spotify,...   \n",
       "...                                                  ...   \n",
       "46767  Subscribe on Website, Apple Podcasts, Spotify,...   \n",
       "46768  Subscribe on Website, Apple Podcasts, Spotify,...   \n",
       "46769  Subscribe on Website, Apple Podcasts, Spotify,...   \n",
       "46770  Subscribe on Website, Apple Podcasts, Spotify,...   \n",
       "46771  Subscribe on Website, Apple Podcasts, Spotify,...   \n",
       "\n",
       "                                            text_episode  episode_number  \\\n",
       "0      Kirill: This is episode number one with ex-che...               1   \n",
       "1      Kirill: This is episode number one with ex-che...               1   \n",
       "2      Kirill: This is episode number one with ex-che...               1   \n",
       "3      Kirill: This is episode number one with ex-che...               1   \n",
       "4      Kirill: This is episode number one with ex-che...               1   \n",
       "...                                                  ...             ...   \n",
       "46767  Jon Krohn:\\t00:00:05\\tThis is episode number 6...             683   \n",
       "46768  Jon Krohn:\\t00:00:05\\tThis is episode number 6...             683   \n",
       "46769  Jon Krohn:\\t00:00:05\\tThis is episode number 6...             683   \n",
       "46770  Jon Krohn:\\t00:00:05\\tThis is episode number 6...             683   \n",
       "46771  Jon Krohn:\\t00:00:05\\tThis is episode number 6...             683   \n",
       "\n",
       "       episode_date episode_day     host_episode       speaker  \\\n",
       "0      Sep 10, 2016    Saturday  Kirril Eremenko        Kirill   \n",
       "1      Sep 10, 2016    Saturday  Kirril Eremenko        Kirill   \n",
       "2      Sep 10, 2016    Saturday  Kirril Eremenko         Ruben   \n",
       "3      Sep 10, 2016    Saturday  Kirril Eremenko        Kirill   \n",
       "4      Sep 10, 2016    Saturday  Kirril Eremenko         Ruben   \n",
       "...             ...         ...              ...           ...   \n",
       "46767  May 30, 2023     Tuesday        Jon Krohn     Jon Krohn   \n",
       "46768  May 30, 2023     Tuesday        Jon Krohn  Matar Haller   \n",
       "46769  May 30, 2023     Tuesday        Jon Krohn     Jon Krohn   \n",
       "46770  May 30, 2023     Tuesday        Jon Krohn  Matar Haller   \n",
       "46771  May 30, 2023     Tuesday        Jon Krohn     Jon Krohn   \n",
       "\n",
       "                                      episode_split_text  \n",
       "0       This is episode number one with ex-chemical e...  \n",
       "1       Hey guys, welcome to the Podcast. I’ve got Ru...  \n",
       "2       Thank you! Thanks for having me over. I’m doi...  \n",
       "3       Awesome. It’s great to hear you and for those...  \n",
       "4       Yeah sure. So, I’m the senior manager of anal...  \n",
       "...                                                  ...  \n",
       "46767  Yeah, right. Yeah, as I mean, it actually, it ...  \n",
       "46768                                          Happy to.  \n",
       "46769  Nice. Well, yeah, so you mentioned potentially...  \n",
       "46770  Thank you for having me. This was fascinating ...  \n",
       "46771  I loved this conversation today. I hope you di...  \n",
       "\n",
       "[46772 rows x 13 columns]"
      ]
     },
     "execution_count": 3,
     "metadata": {},
     "output_type": "execute_result"
    }
   ],
   "source": [
    "sds_text"
   ]
  },
  {
   "cell_type": "code",
   "execution_count": 4,
   "id": "28c1dbe6",
   "metadata": {},
   "outputs": [],
   "source": [
    "sds_text = sds_text.set_index('Unnamed: 0')"
   ]
  },
  {
   "cell_type": "code",
   "execution_count": 5,
   "id": "d5d8088d",
   "metadata": {},
   "outputs": [
    {
     "data": {
      "application/javascript": [
       "\n",
       "        if (window._pyforest_update_imports_cell) { window._pyforest_update_imports_cell('import pandas as pd'); }\n",
       "    "
      ],
      "text/plain": [
       "<IPython.core.display.Javascript object>"
      ]
     },
     "metadata": {},
     "output_type": "display_data"
    }
   ],
   "source": [
    "sds_processed = pd.DataFrame(sds_text.groupby(['episode_number', 'episode_name', 'length_episode', 'context_episode', 'guest_name', 'host_episode', 'episode_date'])['episode_split_text'].agg(lambda x: ' '.join(x))).reset_index()"
   ]
  },
  {
   "cell_type": "code",
   "execution_count": null,
   "id": "96d108a2",
   "metadata": {},
   "outputs": [],
   "source": [
    "sds_processed"
   ]
  },
  {
   "cell_type": "code",
   "execution_count": 6,
   "id": "d1868a23",
   "metadata": {},
   "outputs": [],
   "source": [
    "# Basic function to clean the text \n",
    "def clean_text(text):     \n",
    "    return text.lower()"
   ]
  },
  {
   "cell_type": "code",
   "execution_count": 7,
   "id": "67079f8f",
   "metadata": {},
   "outputs": [],
   "source": [
    "sds_processed['episode_split_text'] = sds_processed['episode_split_text'].apply(clean_text)"
   ]
  },
  {
   "cell_type": "code",
   "execution_count": null,
   "id": "e7a07218",
   "metadata": {},
   "outputs": [],
   "source": [
    "sds_processed"
   ]
  },
  {
   "cell_type": "code",
   "execution_count": 8,
   "id": "89d94fc2",
   "metadata": {},
   "outputs": [],
   "source": [
    "sds_processed['episode_keywords'] = None"
   ]
  },
  {
   "cell_type": "code",
   "execution_count": 9,
   "id": "157b7ab9",
   "metadata": {},
   "outputs": [],
   "source": [
    "def yake_keyword_extractor(doc):\n",
    "    global sds_processed\n",
    "    \n",
    "    for i, episode_text in doc.iteritems():\n",
    "        max_ngram_size = 3\n",
    "        deduplication_threshold = 0.3\n",
    "        windowSize = 1\n",
    "        numOfKeywords = 100\n",
    "        kw_extractor = yake.KeywordExtractor(n = max_ngram_size, dedupLim = deduplication_threshold , windowsSize = windowSize, top = numOfKeywords)\n",
    "        keywords = kw_extractor.extract_keywords(episode_text)\n",
    "        sds_processed.at[i, 'episode_keywords'] = keywords"
   ]
  },
  {
   "cell_type": "code",
   "execution_count": null,
   "id": "32175f08",
   "metadata": {},
   "outputs": [],
   "source": [
    "yake_keyword_extractor(sds_processed['episode_split_text'])"
   ]
  },
  {
   "cell_type": "code",
   "execution_count": null,
   "id": "82549c25",
   "metadata": {},
   "outputs": [],
   "source": [
    "sds_processed.to_csv('../data/sds_yake_keywords.csv')"
   ]
  },
  {
   "cell_type": "code",
   "execution_count": null,
   "id": "cdabff11",
   "metadata": {},
   "outputs": [],
   "source": [
    "sds_keywords = pd.read_csv('../data/sds_yake_keywords.csv')"
   ]
  },
  {
   "cell_type": "code",
   "execution_count": null,
   "id": "f2326328",
   "metadata": {},
   "outputs": [],
   "source": [
    "sds_keywords"
   ]
  },
  {
   "cell_type": "code",
   "execution_count": null,
   "id": "e21cf1b5",
   "metadata": {},
   "outputs": [],
   "source": [
    "word_tuples = [('data', 0.0010532908775940833), ('data scientist', 0.0029141325644050945), ('people', 0.005422867923900782), ('n’t', 0.006871265577956575), ('’re', 0.008884744001205683), ('analysis', 0.01281082680029214), ('udemy', 0.016638427011567425), ('thing', 0.018489819573940445), ('work', 0.026106167845171176), ('ruben', 0.028702291819461337), ('build', 0.03003168690508715), ('team', 0.032220440860286116), ('show', 0.040495101361532), ('question', 0.04063280878564204), ('make', 0.04448616608751784), ('important', 0.04568613147206454), ('insights', 0.050842033371277406), ('powerful', 0.05251763498491655), ('sql', 0.059737659259588516), ('listeners', 0.060455501278664454), ('red shift', 0.06452519251510098), ('background', 0.06521651854598134), ('sensitive data', 0.06798193640183485), ('elemental data problems', 0.06808923752012126), ('totally', 0.07980158442301752), ('end', 0.09462167394867813), ('communication skills', 0.09901294474504588), ('engineering', 0.1135042667193427), ('platform', 0.1139030943265721), ('statistical', 0.11869365178842255), ('influence', 0.11922058764723066), ('project', 0.12777923082182785), ('science wizard', 0.1361525255478297), ('convey', 0.1427370340547599), ('job', 0.14407934432290917), ('episode', 0.14483249042899463), ('n’t wanna work', 0.15254512892072472), ('problem solving thing', 0.16422008206512995), ('’ve learned', 0.16981820700395897), ('pretty cool', 0.17067999701657272), ('size', 0.1821297897355906), ('people who specialize', 0.18974036853129833), ('explain', 0.19046069125821452), ('ability', 0.19388868834551098), ('aws', 0.19481837195406812), ('articles', 0.21889215391276715), ('ruben kogel.welcome', 0.2383267121932403), ('strategy', 0.26597500290820864), ('leverage', 0.26943937566389226), ('push', 0.2706788376330779), ('check', 0.2745931680444767), ('fact', 0.27542786666192787), ('breiman', 0.27573806523021577), ('’re quickly', 0.2869003093342987), ('metric', 0.39239618738482207), ('discussed lots', 0.4224813160987914), ('jump', 0.42569932503668617), ('biggest', 0.43062024110563135), ('scalable', 0.4348002572368825), ('summary', 0.43507210437225546), ('half', 0.43566181067001614), ('view', 0.43632798500045983), ('advanced', 0.43821567421603597), ('trustworthy', 0.43914585044899046), ('behavior', 0.44014923866039657), ('ex-chemical engineer', 0.47417419541876416), ('yeah yeah', 0.47748801172975774), ('efficient analytics team', 0.49106273295984), ('techniques you ’re', 0.5568305258185692), ('translate a lot', 0.6642515176584556), ('stakeholders coming', 0.6709457645693998), ('lots of regression', 0.7080528578956833), ('noise by nate', 0.7367804020215138), ('thing in communication', 0.74777341131578), ('good idea', 0.8026798733239394), ('measuring student', 0.8130853605951406), ('off.', 0.8512416854015954), ('guys', 0.869753315936046), ('glad', 0.8775854997392524), ('blog', 0.8785492259628155), ('skills nevertheless. yeah', 0.8870029931682176), ('touched', 0.9085820192716929), ('self-served', 0.9085820192716929), ('width', 0.9201510701708244), ('director', 0.9205577391019704), ('one.the', 0.9235531647655699), ('fix', 0.9279796911765633), ('anymore', 0.9293875146481567), ('uhuh', 0.9299820716737279), ('prioritized', 0.93152190035003), ('graphics', 0.9323728330400206), ('occur', 0.9328737183606961), ('stuff', 0.9333168252017048), ('10-12', 0.9340346598369818), ('necessarily', 0.9353005575308527), ('divisions in udemy', 0.9430098537561858), ('analytics and predictive', 1.1000320353744777), ('complex technical', 1.1592371306994007), ('kirill eremenko', 1.1877887135345484), ('kicking things off.', 1.2619808102396495)]\n",
    "\n",
    "words = [t[0] for t in word_tuples]\n",
    "\n",
    "print(words)"
   ]
  },
  {
   "cell_type": "code",
   "execution_count": null,
   "id": "339d193d",
   "metadata": {},
   "outputs": [],
   "source": [
    "sds_1 = sds_keywords[sds_keywords['episode_number'] == 1]"
   ]
  },
  {
   "cell_type": "code",
   "execution_count": null,
   "id": "d0c2ed0c",
   "metadata": {},
   "outputs": [],
   "source": [
    "sds_1"
   ]
  },
  {
   "cell_type": "code",
   "execution_count": null,
   "id": "05479bbf",
   "metadata": {},
   "outputs": [],
   "source": [
    "sds_1.info()"
   ]
  },
  {
   "cell_type": "code",
   "execution_count": null,
   "id": "47b94314",
   "metadata": {},
   "outputs": [],
   "source": [
    "sds_1['episode_keywords'].loc[0]"
   ]
  },
  {
   "cell_type": "code",
   "execution_count": null,
   "id": "2403f06e",
   "metadata": {},
   "outputs": [],
   "source": [
    "sds_1"
   ]
  },
  {
   "cell_type": "code",
   "execution_count": null,
   "id": "b16606cb",
   "metadata": {},
   "outputs": [],
   "source": [
    "sds_1['keywords'] = None"
   ]
  },
  {
   "cell_type": "code",
   "execution_count": null,
   "id": "286bf705",
   "metadata": {},
   "outputs": [],
   "source": [
    "def tuple_extractor(row):\n",
    "    words = [t[0] for t in row]\n",
    "    return words"
   ]
  },
  {
   "cell_type": "code",
   "execution_count": null,
   "id": "c22cd118",
   "metadata": {},
   "outputs": [],
   "source": [
    "sds_1['episode_keywords'].apply(lambda x: tuple_extractor(x))"
   ]
  },
  {
   "cell_type": "code",
   "execution_count": null,
   "id": "315f3cee",
   "metadata": {},
   "outputs": [],
   "source": []
  },
  {
   "cell_type": "code",
   "execution_count": null,
   "id": "cb7c6c25",
   "metadata": {},
   "outputs": [],
   "source": [
    "sds_1['keywords'].loc[0]"
   ]
  },
  {
   "cell_type": "code",
   "execution_count": null,
   "id": "0e7a9a77",
   "metadata": {},
   "outputs": [],
   "source": [
    "sds_1['keywords'].loc[0]"
   ]
  },
  {
   "cell_type": "code",
   "execution_count": null,
   "id": "c2abf28f",
   "metadata": {},
   "outputs": [],
   "source": [
    "def tuple_extractor(word_tuples):\n",
    "    global sds_1\n",
    "    words = [t[0] for t in word_tuples]\n",
    "    return words"
   ]
  },
  {
   "cell_type": "code",
   "execution_count": null,
   "id": "b1e77d19",
   "metadata": {},
   "outputs": [],
   "source": [
    "sds_1['keywords'] = sds_1['episode_keywords'].apply(lambda x: tuple_extractor(x))"
   ]
  },
  {
   "cell_type": "code",
   "execution_count": null,
   "id": "dfe331f6",
   "metadata": {},
   "outputs": [],
   "source": [
    "sds_1"
   ]
  },
  {
   "cell_type": "code",
   "execution_count": null,
   "id": "1d5e55ca",
   "metadata": {},
   "outputs": [],
   "source": [
    "sds_1['keywords'] = sds_1['episode_keywords'].apply(tuple_extractor)"
   ]
  },
  {
   "cell_type": "code",
   "execution_count": null,
   "id": "5fd14c12",
   "metadata": {},
   "outputs": [],
   "source": [
    "sds_1['keywords'].loc[0]"
   ]
  },
  {
   "cell_type": "code",
   "execution_count": null,
   "id": "76816dcd",
   "metadata": {},
   "outputs": [],
   "source": [
    "def tuple_extractor(tuple):\n",
    "    global sds_keywords\n",
    "    words = []\n",
    "    #for i, episode_text in doc.iteritems():\n",
    "    for i, word_tuple in tuple.iteritems():\n",
    "        words = [t[0] for t in word_tuple]\n",
    "        sds_keywords['keywords'] = words\n",
    "    \n",
    "            "
   ]
  },
  {
   "cell_type": "code",
   "execution_count": null,
   "id": "b42a8f63",
   "metadata": {},
   "outputs": [],
   "source": [
    "sds_keywords['episode_keywords'].apply(tuple_extractor)"
   ]
  },
  {
   "cell_type": "code",
   "execution_count": null,
   "id": "d81c6c55",
   "metadata": {},
   "outputs": [],
   "source": []
  },
  {
   "cell_type": "code",
   "execution_count": null,
   "id": "b2204836",
   "metadata": {},
   "outputs": [],
   "source": [
    "sds_keywords"
   ]
  },
  {
   "cell_type": "code",
   "execution_count": null,
   "id": "4316f8de",
   "metadata": {},
   "outputs": [],
   "source": [
    "sds_1['keywords'] = sds_1['episode_keywords'].apply(tuple_extractor)"
   ]
  },
  {
   "cell_type": "code",
   "execution_count": null,
   "id": "6f056f09",
   "metadata": {},
   "outputs": [],
   "source": [
    "sds_1"
   ]
  },
  {
   "cell_type": "code",
   "execution_count": null,
   "id": "b2d1bbcb",
   "metadata": {},
   "outputs": [],
   "source": [
    "[t[0] for t in sds_1['episode_keywords']]"
   ]
  },
  {
   "cell_type": "code",
   "execution_count": null,
   "id": "b826c1ad",
   "metadata": {},
   "outputs": [],
   "source": [
    "sds_processed['episode_keywords'] = [t[0] for t in sds_processed['episode_keywords']]"
   ]
  },
  {
   "cell_type": "code",
   "execution_count": null,
   "id": "2f572f12",
   "metadata": {},
   "outputs": [],
   "source": [
    "sds_processed"
   ]
  },
  {
   "cell_type": "code",
   "execution_count": null,
   "id": "7e3ad529",
   "metadata": {},
   "outputs": [],
   "source": [
    "sds_processed['episode_keywords'].loc[678]"
   ]
  },
  {
   "cell_type": "code",
   "execution_count": null,
   "id": "c48c324d",
   "metadata": {},
   "outputs": [],
   "source": [
    "doca = sds_processed['episode_split_text'].loc[1]\n",
    "docb = sds_processed['episode_split_text'].loc[150]\n",
    "docc = sds_processed['episode_split_text'].loc[400]\n",
    "docd = sds_processed['episode_split_text'].loc[679]"
   ]
  },
  {
   "cell_type": "code",
   "execution_count": null,
   "id": "19d5b2b1",
   "metadata": {},
   "outputs": [],
   "source": [
    "def keyword_extractor(doc):\n",
    "    kw_model = KeyBERT()\n",
    "    global sds_processed\n",
    "    stopwords = list(STOP_WORDS)\n",
    "    \n",
    "    for i, episode_text in doc.iteritems():\n",
    "        keywords = kw_model.extract_keywords(episode_text, keyphrase_ngram_range=(1, 1), stop_words = stopwords, top_n = 100, use_mmr=True, diversity=0.7)\n",
    "        sds_processed.at[i, 'episode_keywords'] = keywords"
   ]
  },
  {
   "cell_type": "code",
   "execution_count": null,
   "id": "044832fe",
   "metadata": {},
   "outputs": [],
   "source": [
    "kw_model = KeyBERT()\n",
    "stopwords = list(STOP_WORDS)\n",
    "keywords = kw_model.extract_keywords(doca, keyphrase_ngram_range=(1, 2), stop_words = stopwords, top_n = 100, use_mmr=True, diversity=0.8)\n",
    "\n"
   ]
  },
  {
   "cell_type": "code",
   "execution_count": null,
   "id": "1e87cd62",
   "metadata": {},
   "outputs": [],
   "source": [
    "keywords"
   ]
  },
  {
   "cell_type": "code",
   "execution_count": null,
   "id": "f6e849c4",
   "metadata": {},
   "outputs": [],
   "source": [
    "keyword_extractor(sds_processed['episode_split_text'])"
   ]
  },
  {
   "cell_type": "code",
   "execution_count": null,
   "id": "23701730",
   "metadata": {},
   "outputs": [],
   "source": [
    "len(keywords)"
   ]
  },
  {
   "cell_type": "code",
   "execution_count": null,
   "id": "bccf5cdb",
   "metadata": {},
   "outputs": [],
   "source": [
    "keywords"
   ]
  },
  {
   "cell_type": "code",
   "execution_count": null,
   "id": "7ffa75fe",
   "metadata": {},
   "outputs": [],
   "source": [
    "#sds_processed['episode_split_text'][1:5].apply(keyword_extractor)"
   ]
  },
  {
   "cell_type": "code",
   "execution_count": null,
   "id": "cfaa075e",
   "metadata": {},
   "outputs": [],
   "source": []
  },
  {
   "cell_type": "code",
   "execution_count": null,
   "id": "a3805de4",
   "metadata": {},
   "outputs": [],
   "source": [
    "# https://maartengr.github.io/BERTopic/index.html"
   ]
  }
 ],
 "metadata": {
  "kernelspec": {
   "display_name": "Python 3 (ipykernel)",
   "language": "python",
   "name": "python3"
  },
  "language_info": {
   "codemirror_mode": {
    "name": "ipython",
    "version": 3
   },
   "file_extension": ".py",
   "mimetype": "text/x-python",
   "name": "python",
   "nbconvert_exporter": "python",
   "pygments_lexer": "ipython3",
   "version": "3.9.12"
  }
 },
 "nbformat": 4,
 "nbformat_minor": 5
}
