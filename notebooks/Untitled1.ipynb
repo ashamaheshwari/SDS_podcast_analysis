{
 "cells": [
  {
   "cell_type": "code",
   "execution_count": 1,
   "id": "8fc9274f",
   "metadata": {},
   "outputs": [],
   "source": [
    "import re\n",
    "import pandas as pd\n",
    "import spacy\n",
    "from spacy import displacy"
   ]
  },
  {
   "cell_type": "code",
   "execution_count": 2,
   "id": "83788193",
   "metadata": {},
   "outputs": [],
   "source": [
    "sds = pd.read_csv('../data/sds_cleaned.csv')"
   ]
  },
  {
   "cell_type": "code",
   "execution_count": 3,
   "id": "d834abc3",
   "metadata": {},
   "outputs": [
    {
     "data": {
      "text/html": [
       "<div>\n",
       "<style scoped>\n",
       "    .dataframe tbody tr th:only-of-type {\n",
       "        vertical-align: middle;\n",
       "    }\n",
       "\n",
       "    .dataframe tbody tr th {\n",
       "        vertical-align: top;\n",
       "    }\n",
       "\n",
       "    .dataframe thead th {\n",
       "        text-align: right;\n",
       "    }\n",
       "</style>\n",
       "<table border=\"1\" class=\"dataframe\">\n",
       "  <thead>\n",
       "    <tr style=\"text-align: right;\">\n",
       "      <th></th>\n",
       "      <th>episode_name</th>\n",
       "      <th>length_episode</th>\n",
       "      <th>context_episode</th>\n",
       "      <th>guest_name</th>\n",
       "      <th>guest_info</th>\n",
       "      <th>text_episode</th>\n",
       "      <th>episode_number</th>\n",
       "      <th>episode_date</th>\n",
       "      <th>episode_year</th>\n",
       "      <th>episode_day</th>\n",
       "      <th>host_episode</th>\n",
       "    </tr>\n",
       "  </thead>\n",
       "  <tbody>\n",
       "    <tr>\n",
       "      <th>0</th>\n",
       "      <td>Ruben Kogel on Self-Serve Analytics, R vs Pyt...</td>\n",
       "      <td>42</td>\n",
       "      <td>Business Data Science Database</td>\n",
       "      <td>Ruben Kogel</td>\n",
       "      <td>Subscribe on Website, Apple Podcasts, Spotify,...</td>\n",
       "      <td>Kirill: This is episode number one with ex-che...</td>\n",
       "      <td>1</td>\n",
       "      <td>Sep 10, 2016</td>\n",
       "      <td>2016</td>\n",
       "      <td>Saturday</td>\n",
       "      <td>Kirril Eremenko</td>\n",
       "    </tr>\n",
       "    <tr>\n",
       "      <th>1</th>\n",
       "      <td>Machine Learning, Recommender Systems and the...</td>\n",
       "      <td>51</td>\n",
       "      <td>Machine Learning Data Science</td>\n",
       "      <td>Hadelin de Ponteves</td>\n",
       "      <td>Subscribe on Website, Apple Podcasts, Spotify,...</td>\n",
       "      <td>Kirill: This is session number two with machin...</td>\n",
       "      <td>2</td>\n",
       "      <td>Sep 14, 2016</td>\n",
       "      <td>2016</td>\n",
       "      <td>Wednesday</td>\n",
       "      <td>Kirril Eremenko</td>\n",
       "    </tr>\n",
       "    <tr>\n",
       "      <th>2</th>\n",
       "      <td>Defining the Data Problem, Data Science in Ma...</td>\n",
       "      <td>53</td>\n",
       "      <td>Machine Learning R Programming Data Science</td>\n",
       "      <td>Dr. Wilson Pok</td>\n",
       "      <td>Subscribe on Website, Apple Podcasts, Spotify,...</td>\n",
       "      <td>Kirill:\\tThis is episode number three with Nan...</td>\n",
       "      <td>3</td>\n",
       "      <td>Sep 25, 2016</td>\n",
       "      <td>2016</td>\n",
       "      <td>Sunday</td>\n",
       "      <td>Kirril Eremenko</td>\n",
       "    </tr>\n",
       "    <tr>\n",
       "      <th>3</th>\n",
       "      <td>Data and Strategy, three Pillars of Research ...</td>\n",
       "      <td>60</td>\n",
       "      <td>Business Data Science</td>\n",
       "      <td>Brendan Hogan</td>\n",
       "      <td>Subscribe on Website, Apple Podcasts, Spotify,...</td>\n",
       "      <td>Kirill: This is episode four with business str...</td>\n",
       "      <td>4</td>\n",
       "      <td>Oct 02, 2016</td>\n",
       "      <td>2016</td>\n",
       "      <td>Sunday</td>\n",
       "      <td>Kirril Eremenko</td>\n",
       "    </tr>\n",
       "    <tr>\n",
       "      <th>4</th>\n",
       "      <td>Computer Forensics, Fraud Analytics and knowi...</td>\n",
       "      <td>63</td>\n",
       "      <td>Data Science</td>\n",
       "      <td>Dmitry Korneev</td>\n",
       "      <td>Subscribe on Website, Apple Podcasts, Spotify,...</td>\n",
       "      <td>Kirill:\\tThis is episode number five with fore...</td>\n",
       "      <td>5</td>\n",
       "      <td>Oct 09, 2016</td>\n",
       "      <td>2016</td>\n",
       "      <td>Sunday</td>\n",
       "      <td>Kirril Eremenko</td>\n",
       "    </tr>\n",
       "    <tr>\n",
       "      <th>...</th>\n",
       "      <td>...</td>\n",
       "      <td>...</td>\n",
       "      <td>...</td>\n",
       "      <td>...</td>\n",
       "      <td>...</td>\n",
       "      <td>...</td>\n",
       "      <td>...</td>\n",
       "      <td>...</td>\n",
       "      <td>...</td>\n",
       "      <td>...</td>\n",
       "      <td>...</td>\n",
       "    </tr>\n",
       "    <tr>\n",
       "      <th>677</th>\n",
       "      <td>The A.I. and Machine Learning Landscape, with...</td>\n",
       "      <td>94</td>\n",
       "      <td>Business Data Science Artificial Intelligence</td>\n",
       "      <td>George Mathew</td>\n",
       "      <td>Subscribe on Website, Apple Podcasts, Spotify,...</td>\n",
       "      <td>Jon Krohn:\\t00:00:00This is episode number 679...</td>\n",
       "      <td>679</td>\n",
       "      <td>May 16, 2023</td>\n",
       "      <td>2023</td>\n",
       "      <td>Tuesday</td>\n",
       "      <td>Jon Krohn</td>\n",
       "    </tr>\n",
       "    <tr>\n",
       "      <th>678</th>\n",
       "      <td>Automating Industrial Machines with Data Scie...</td>\n",
       "      <td>30</td>\n",
       "      <td>Business Data Science</td>\n",
       "      <td>Allegra Alessi</td>\n",
       "      <td>Subscribe on Website, Apple Podcasts, Spotify,...</td>\n",
       "      <td>Jon Krohn:\\t00:06\\tThis is episode number 680 ...</td>\n",
       "      <td>680</td>\n",
       "      <td>May 19, 2023</td>\n",
       "      <td>2023</td>\n",
       "      <td>Friday</td>\n",
       "      <td>Jon Krohn</td>\n",
       "    </tr>\n",
       "    <tr>\n",
       "      <th>679</th>\n",
       "      <td>XGBoost</td>\n",
       "      <td>72</td>\n",
       "      <td>Machine Learning Data Science Python</td>\n",
       "      <td>Matt Harrison</td>\n",
       "      <td>Subscribe on Website, Apple Podcasts, Spotify,...</td>\n",
       "      <td>Jon Krohn:\\t00:00:00\\tThis is episode number 6...</td>\n",
       "      <td>681</td>\n",
       "      <td>May 23, 2023</td>\n",
       "      <td>2023</td>\n",
       "      <td>Tuesday</td>\n",
       "      <td>Jon Krohn</td>\n",
       "    </tr>\n",
       "    <tr>\n",
       "      <th>680</th>\n",
       "      <td>Business Intelligence Tools, with Mico Yuk</td>\n",
       "      <td>28</td>\n",
       "      <td>Business Data Science</td>\n",
       "      <td>Mico Yuk</td>\n",
       "      <td>Subscribe on Website, Apple Podcasts, Spotify,...</td>\n",
       "      <td>Jon Krohn:\\t00:05\\tThis is episode number 682 ...</td>\n",
       "      <td>682</td>\n",
       "      <td>May 26, 2023</td>\n",
       "      <td>2023</td>\n",
       "      <td>Friday</td>\n",
       "      <td>Jon Krohn</td>\n",
       "    </tr>\n",
       "    <tr>\n",
       "      <th>681</th>\n",
       "      <td>Contextual A.I. for Adapting to Adversaries, ...</td>\n",
       "      <td>81</td>\n",
       "      <td>Data Science Artificial Intelligence</td>\n",
       "      <td>Matar Haller</td>\n",
       "      <td>Subscribe on Website, Apple Podcasts, Spotify,...</td>\n",
       "      <td>Jon Krohn:\\t00:00:05\\tThis is episode number 6...</td>\n",
       "      <td>683</td>\n",
       "      <td>May 30, 2023</td>\n",
       "      <td>2023</td>\n",
       "      <td>Tuesday</td>\n",
       "      <td>Jon Krohn</td>\n",
       "    </tr>\n",
       "  </tbody>\n",
       "</table>\n",
       "<p>682 rows × 11 columns</p>\n",
       "</div>"
      ],
      "text/plain": [
       "                                          episode_name  length_episode  \\\n",
       "0     Ruben Kogel on Self-Serve Analytics, R vs Pyt...              42   \n",
       "1     Machine Learning, Recommender Systems and the...              51   \n",
       "2     Defining the Data Problem, Data Science in Ma...              53   \n",
       "3     Data and Strategy, three Pillars of Research ...              60   \n",
       "4     Computer Forensics, Fraud Analytics and knowi...              63   \n",
       "..                                                 ...             ...   \n",
       "677   The A.I. and Machine Learning Landscape, with...              94   \n",
       "678   Automating Industrial Machines with Data Scie...              30   \n",
       "679                                            XGBoost              72   \n",
       "680         Business Intelligence Tools, with Mico Yuk              28   \n",
       "681   Contextual A.I. for Adapting to Adversaries, ...              81   \n",
       "\n",
       "                                   context_episode             guest_name  \\\n",
       "0                   Business Data Science Database           Ruben Kogel    \n",
       "1                    Machine Learning Data Science   Hadelin de Ponteves    \n",
       "2      Machine Learning R Programming Data Science        Dr. Wilson Pok    \n",
       "3                            Business Data Science         Brendan Hogan    \n",
       "4                                     Data Science        Dmitry Korneev    \n",
       "..                                             ...                    ...   \n",
       "677  Business Data Science Artificial Intelligence         George Mathew    \n",
       "678                          Business Data Science        Allegra Alessi    \n",
       "679           Machine Learning Data Science Python         Matt Harrison    \n",
       "680                          Business Data Science              Mico Yuk    \n",
       "681           Data Science Artificial Intelligence          Matar Haller    \n",
       "\n",
       "                                            guest_info  \\\n",
       "0    Subscribe on Website, Apple Podcasts, Spotify,...   \n",
       "1    Subscribe on Website, Apple Podcasts, Spotify,...   \n",
       "2    Subscribe on Website, Apple Podcasts, Spotify,...   \n",
       "3    Subscribe on Website, Apple Podcasts, Spotify,...   \n",
       "4    Subscribe on Website, Apple Podcasts, Spotify,...   \n",
       "..                                                 ...   \n",
       "677  Subscribe on Website, Apple Podcasts, Spotify,...   \n",
       "678  Subscribe on Website, Apple Podcasts, Spotify,...   \n",
       "679  Subscribe on Website, Apple Podcasts, Spotify,...   \n",
       "680  Subscribe on Website, Apple Podcasts, Spotify,...   \n",
       "681  Subscribe on Website, Apple Podcasts, Spotify,...   \n",
       "\n",
       "                                          text_episode  episode_number  \\\n",
       "0    Kirill: This is episode number one with ex-che...               1   \n",
       "1    Kirill: This is session number two with machin...               2   \n",
       "2    Kirill:\\tThis is episode number three with Nan...               3   \n",
       "3    Kirill: This is episode four with business str...               4   \n",
       "4    Kirill:\\tThis is episode number five with fore...               5   \n",
       "..                                                 ...             ...   \n",
       "677  Jon Krohn:\\t00:00:00This is episode number 679...             679   \n",
       "678  Jon Krohn:\\t00:06\\tThis is episode number 680 ...             680   \n",
       "679  Jon Krohn:\\t00:00:00\\tThis is episode number 6...             681   \n",
       "680  Jon Krohn:\\t00:05\\tThis is episode number 682 ...             682   \n",
       "681  Jon Krohn:\\t00:00:05\\tThis is episode number 6...             683   \n",
       "\n",
       "     episode_date  episode_year episode_day     host_episode  \n",
       "0    Sep 10, 2016          2016    Saturday  Kirril Eremenko  \n",
       "1    Sep 14, 2016          2016   Wednesday  Kirril Eremenko  \n",
       "2    Sep 25, 2016          2016      Sunday  Kirril Eremenko  \n",
       "3    Oct 02, 2016          2016      Sunday  Kirril Eremenko  \n",
       "4    Oct 09, 2016          2016      Sunday  Kirril Eremenko  \n",
       "..            ...           ...         ...              ...  \n",
       "677  May 16, 2023          2023     Tuesday        Jon Krohn  \n",
       "678  May 19, 2023          2023      Friday        Jon Krohn  \n",
       "679  May 23, 2023          2023     Tuesday        Jon Krohn  \n",
       "680  May 26, 2023          2023      Friday        Jon Krohn  \n",
       "681  May 30, 2023          2023     Tuesday        Jon Krohn  \n",
       "\n",
       "[682 rows x 11 columns]"
      ]
     },
     "execution_count": 3,
     "metadata": {},
     "output_type": "execute_result"
    }
   ],
   "source": [
    "sds"
   ]
  },
  {
   "cell_type": "code",
   "execution_count": 19,
   "id": "46782e31",
   "metadata": {},
   "outputs": [
    {
     "data": {
      "text/plain": [
       "\"Subscribe on Website, Apple Podcasts, Spotify, Stitcher Radio or TuneInWelcome to SuperDataScience Podcast!\\nToday, we’ve got a panel of 4 guests talking about emerging technologies. For those who are still not over DataScienceGO 2018, here’s an episode to relive it!About the guestsThe panel includes:\\nMark Skinner, the Solutions Architect at NVIDIARachel Shuyan Wang, the Manager of Data Science at TrueCar, Inc.Ben Taylor, the Chief AI Officer at ZIFF, Inc.Pablos Holman, Hacker, Inventor, Entrepreneur and Technology FuturistOverviewMake sure you’ve got your attentive ears on because it’s going to be jam-packed. Well-regarded data practitioners sit and talk for a panel discussion about the challenges, solutions, and trends in different topics – blockchain, artificial intelligence, machine learning, deep learning, and disruption of startups. They entertained a lot of questions which, for sure, you’re also curious about.\\n\\nOne of the key takeaways from this episode is the need for healthy data culture in companies. Despite how exponential the growth is for the technologies, there are still businesses that are unaware these techs could improve their systems and operations. And, if by chance, there are companies that are aware, it might be hard to incorporate these techs because, in the first place, their decision-making is not based on data. If there is a data culture inside the company, it’s already easy to adapt and progress from there.\\n\\nThe 4 panelists also answered a lot of questions about blockchain & cryptocurrency. Is cryptocurrency here to stay? Will it topple the banking industry? The decentralized transaction is always the selling point of the blockchain technology. Cryptocurrency is here to stay for people who want a level playing field. The crypto toolkit is also growing; it’s not just blockchain anymore.\\n\\nIn terms of AI & Machine Learning, they say we should worry less about the threats but worry more about how the media gets everything wrong. It’s still a developing field and it has already done a lot of improvements. There is still no evidence that these robots could be malevolent.\\n\\nDiscover also how reinforcement learning will have a noticeable edge over supervised learning in the future. Pablos, Mark, Rachel, and Ben also share their own failed stories while starting and growing startups where you could all learn from. And, when asked about the technologies they were excited about, here are what they answered:\\n\\nBen – Generative adversarial network (GANs) which can help businessesMark – the self-driving ability of carsRachel – virtual reality (VR)Pablos – sewing robots in garment manufacturingWe just touched the tip of the iceberg so make sure to listen in. And, if you’ve missed DataScienceGO 2018, now’s the time to catch up with the latest news and trends from these experts!\\n\\nIn this episode you will learn:Introduction of Speakers. [03:30]Adaptation of GPU-accelerated applications in Companies. [08:40]What are the keys to evangelizing the value behind what data science provide companies? [11:00]Changing data cultures in companies. [15:06]The decline of GPU in crypto mining; FPGA vs. ASIC [20:11]The Future of Blockchain. [25:30]Threats of AI creating it owns language; How Media perceives AI. [32:12]Decentralized Cryptocurrency and the Banking Industry [35:00]Reinforcement Learning vs. Supervised Learning [39:43]Failures in Startups. [41:29]Integration of sensors in deep learning. [47:24]Scalability of Blockchain. [49:13]What technology are they most excited about? [53:30]Items mentioned in this podcast:NVIDIATrueCarZIFFDataScienceGo 2019Follow the panelsMark's Linked-inRachel's Linked-inBen's Linked-inPablos' Linked-inEpisode transcriptDownload The Transcript\""
      ]
     },
     "execution_count": 19,
     "metadata": {},
     "output_type": "execute_result"
    }
   ],
   "source": [
    "sds['guest_info'].loc[200]"
   ]
  },
  {
   "cell_type": "code",
   "execution_count": 20,
   "id": "c3deb16b",
   "metadata": {},
   "outputs": [
    {
     "name": "stdout",
     "output_type": "stream",
     "text": [
      "to SuperDataScience Podcast! Today, we’ve got a panel of 4 guests talking about emerging technologies. For those who are still not over DataScienceGO 2018, here’s an episode to relive it!About the guestsThe panel includes: Mark Skinner, the Solutions Architect at NVIDIARachel Shuyan Wang, the Manager of Data Science at TrueCar, Inc.Ben Taylor, the Chief AI Officer at ZIFF, Inc.Pablos Holman, Hacker, Inventor, Entrepreneur and Technology FuturistOverviewMake sure you’ve got your attentive ears on because it’s going to be jam-packed. Well-regarded data practitioners sit and talk for a panel discussion about\n"
     ]
    }
   ],
   "source": [
    "text = \n",
    "\n",
    "# Define the start and end word indices\n",
    "start_index = 10\n",
    "end_index = 100\n",
    "\n",
    "# Split the text into words\n",
    "words = text.split()\n",
    "\n",
    "# Select the desired words using list slicing\n",
    "selected_words = words[start_index:end_index]\n",
    "\n",
    "# Join the selected words back into a string\n",
    "modified_text = ' '.join(selected_words)\n",
    "\n",
    "print(modified_text)"
   ]
  },
  {
   "cell_type": "code",
   "execution_count": 4,
   "id": "936a2246",
   "metadata": {},
   "outputs": [],
   "source": [
    "nlp = spacy.load(\"en_core_web_sm\")"
   ]
  },
  {
   "cell_type": "code",
   "execution_count": null,
   "id": "81587ba4",
   "metadata": {},
   "outputs": [],
   "source": [
    "def entity_detection(text):\n",
    "    doc = nlp(text)\n",
    "    #entity = [(i, i.label_, i.label) for i in doc.ents]\n",
    "    entity = displacy.render(doc, style = 'ent')\n",
    "    return entity"
   ]
  },
  {
   "cell_type": "code",
   "execution_count": null,
   "id": "81a76e5c",
   "metadata": {},
   "outputs": [],
   "source": [
    "sds['guest_info'].apply(entity_detection)"
   ]
  },
  {
   "cell_type": "code",
   "execution_count": null,
   "id": "bf7cbc2b",
   "metadata": {},
   "outputs": [],
   "source": []
  },
  {
   "cell_type": "code",
   "execution_count": null,
   "id": "ab0a8098",
   "metadata": {},
   "outputs": [],
   "source": [
    "text = \n",
    "end_index = 400\n",
    "\n",
    "# Slice the text to extract the desired portion\n",
    "sliced_text = text[start_index:end_index]\n",
    "\n",
    "print(sliced_text)"
   ]
  },
  {
   "cell_type": "code",
   "execution_count": null,
   "id": "9d044a71",
   "metadata": {},
   "outputs": [],
   "source": [
    "sliced_text"
   ]
  },
  {
   "cell_type": "code",
   "execution_count": null,
   "id": "33bb288d",
   "metadata": {},
   "outputs": [],
   "source": [
    "sds['guest_info'].loc[679]"
   ]
  },
  {
   "cell_type": "code",
   "execution_count": null,
   "id": "3fb6f7b6",
   "metadata": {},
   "outputs": [],
   "source": []
  },
  {
   "cell_type": "code",
   "execution_count": null,
   "id": "65446a18",
   "metadata": {},
   "outputs": [],
   "source": [
    "sds['guest_name'].unique()"
   ]
  },
  {
   "cell_type": "code",
   "execution_count": null,
   "id": "558e1fef",
   "metadata": {},
   "outputs": [],
   "source": [
    "x = sds[(sds['guest_name'] == ' Kirill Eremenko ') & (sds['host_episode'] == 'Kirril Eremenko')]"
   ]
  },
  {
   "cell_type": "code",
   "execution_count": null,
   "id": "5b17bf34",
   "metadata": {},
   "outputs": [],
   "source": [
    "x "
   ]
  },
  {
   "cell_type": "code",
   "execution_count": null,
   "id": "37622c50",
   "metadata": {},
   "outputs": [],
   "source": [
    "x['context_episode'].unique()"
   ]
  },
  {
   "cell_type": "code",
   "execution_count": null,
   "id": "77bcf592",
   "metadata": {},
   "outputs": [],
   "source": [
    "x[x['context_episode'] == 'Business Machine Learning Data Science Artificial Intelligence']"
   ]
  },
  {
   "cell_type": "code",
   "execution_count": null,
   "id": "7be72c56",
   "metadata": {},
   "outputs": [],
   "source": [
    "y['episode_name'].unique()"
   ]
  },
  {
   "cell_type": "code",
   "execution_count": null,
   "id": "449662bf",
   "metadata": {},
   "outputs": [],
   "source": [
    "sds['guest_info'].loc[0]"
   ]
  },
  {
   "cell_type": "code",
   "execution_count": null,
   "id": "5d1fceb9",
   "metadata": {},
   "outputs": [],
   "source": [
    "text = \"Subscribe on Website, Apple Podcasts, Spotify, Stitcher Radio or TuneInWelcome to episode #009 of the SDS Podcast. Here we go!Today's guest is Neuroscience PhD Turned Retail Data Analyst Muhsin KarimWhat would inspire someone to leave neuroscience for data analysis? Find out from today’s guest, Muhsin Karim, who started his career in academia. Muhsin shares his experience of the world of white lab coats and why and how he moved into the world of data.Join us to deepen your knowledge of machine learning and discover some surprising implications from Moore’s Law. You will also hear us swap notes on teaching data science and the role of community and creativity in the world of data.Don’t miss out on all the valuable insights!In this episode you will learn:Neuroscience (8:57)Machine learning (27:50)Moore's Law (30:02)Targeted advertising online (33:55)On teaching data science (42:19)Data Community (48:00)Creativity (51:14)Items mentioned in this podcast:https://www.coursera.org/learn/r-programming (John Hopkins Coursera course on R programming)The Future of the Mind: The Scientific Quest to Understand, Enhance, and Empower the Mind by Michio KakuEmotional Intelligence: Why It Can Matter More Than IQ by Daniel GolemanBold: How to Go Big, Create Wealth and Impact the World by Peter H. Diamandis and Steven KotlerFreakonomics: A Rogue Economist Explores the Hidden Side of Everything by Steven D. Levitt and Stephen J. DubnerThe Invisible Gorilla: How Our Intuitions Deceive Us by Christopher Chabris and Daniel SimonsThe Signal and the Noise: Why So Many Predictions Fail–but Some Don't by Nate SilverDataclysm: Love, Sex, Race, and Identity–What Our Online Lives Tell Us about Our Offline Selves by Christian RudderFollow MuhsinLinked-inBlogspotEpisode transcriptDownload The Transcript\""
   ]
  },
  {
   "cell_type": "code",
   "execution_count": null,
   "id": "75bef943",
   "metadata": {},
   "outputs": [],
   "source": [
    "text"
   ]
  },
  {
   "cell_type": "code",
   "execution_count": null,
   "id": "9cb0f2f7",
   "metadata": {},
   "outputs": [],
   "source": [
    "# Define the start and end index of the text to be removed\n",
    "start_index = \n",
    "end_index = 200\n",
    "\n",
    "# Remove the text using slicing\n",
    "modified_text = text[start_index:end_index]\n",
    "\n",
    "print(modified_text)\n"
   ]
  },
  {
   "cell_type": "code",
   "execution_count": null,
   "id": "4ad958b1",
   "metadata": {},
   "outputs": [],
   "source": [
    "x = sds['guest_info'].str.findall(\"Today's guest((\\s[a-zA-Z0-9,\\-*.]+)*)\")"
   ]
  }
 ],
 "metadata": {
  "kernelspec": {
   "display_name": "Python 3 (ipykernel)",
   "language": "python",
   "name": "python3"
  },
  "language_info": {
   "codemirror_mode": {
    "name": "ipython",
    "version": 3
   },
   "file_extension": ".py",
   "mimetype": "text/x-python",
   "name": "python",
   "nbconvert_exporter": "python",
   "pygments_lexer": "ipython3",
   "version": "3.9.12"
  }
 },
 "nbformat": 4,
 "nbformat_minor": 5
}
