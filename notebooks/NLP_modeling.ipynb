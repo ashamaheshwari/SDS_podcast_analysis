{
 "cells": [
  {
   "cell_type": "code",
   "execution_count": null,
   "id": "6399487f",
   "metadata": {},
   "outputs": [],
   "source": [
    "import spacy\n",
    "from spacy.lang.en.stop_words import STOP_WORDS\n",
    "from keybert import KeyBERT\n",
    "import time\n",
    "from tqdm.notebook import tqdm\n",
    "from spacy import displacy"
   ]
  },
  {
   "cell_type": "code",
   "execution_count": null,
   "id": "1fbb9db7",
   "metadata": {},
   "outputs": [],
   "source": [
    "nlp = spacy.load(\"en_core_web_sm\")"
   ]
  },
  {
   "cell_type": "code",
   "execution_count": null,
   "id": "4cffa0bb",
   "metadata": {},
   "outputs": [],
   "source": [
    "sds_text = pd.read_csv('../data/sds_text.csv')"
   ]
  },
  {
   "cell_type": "code",
   "execution_count": null,
   "id": "952d53c0",
   "metadata": {},
   "outputs": [],
   "source": [
    "sds_text = sds_text.set_index('Unnamed: 0')"
   ]
  },
  {
   "cell_type": "code",
   "execution_count": null,
   "id": "fd089665",
   "metadata": {},
   "outputs": [],
   "source": [
    "sds_text.head(2)"
   ]
  },
  {
   "cell_type": "code",
   "execution_count": null,
   "id": "322abc1f",
   "metadata": {},
   "outputs": [],
   "source": [
    "#nlp.components"
   ]
  },
  {
   "cell_type": "markdown",
   "id": "41aa37c7",
   "metadata": {},
   "source": [
    "## Generating tokens"
   ]
  },
  {
   "cell_type": "code",
   "execution_count": null,
   "id": "ee577121",
   "metadata": {},
   "outputs": [],
   "source": [
    "def preprocess_text(text):\n",
    "    doc = nlp(text)\n",
    "    tokens = [token.lemma_.lower().strip() for token in doc if not token.is_stop\n",
    "             and not token.is_digit\n",
    "             and not token.is_punct\n",
    "             and not token.is_space]\n",
    "    return tokens"
   ]
  },
  {
   "cell_type": "code",
   "execution_count": null,
   "id": "81d38889",
   "metadata": {},
   "outputs": [],
   "source": [
    "\n",
    "sds_text['tokens'] = sds_text['episode_split_text'].apply(preprocess_text)"
   ]
  },
  {
   "cell_type": "code",
   "execution_count": null,
   "id": "82c9076e",
   "metadata": {},
   "outputs": [],
   "source": [
    "sds_text.head()"
   ]
  },
  {
   "cell_type": "code",
   "execution_count": null,
   "id": "f89eacb7",
   "metadata": {},
   "outputs": [],
   "source": [
    "sds_text.to_csv('../data/sds_tokens.csv')"
   ]
  },
  {
   "cell_type": "code",
   "execution_count": null,
   "id": "13845952",
   "metadata": {},
   "outputs": [],
   "source": [
    "X = sds_text[['tokens']]\n",
    "y = sds_text['context_episode']\n",
    "\n",
    "X_train, X_test, y_train, y_test = train_test_split(X, y, random_state = 321, stratify = y)"
   ]
  },
  {
   "cell_type": "markdown",
   "id": "34b1481a",
   "metadata": {},
   "source": [
    "## Entity Detection"
   ]
  },
  {
   "cell_type": "code",
   "execution_count": null,
   "id": "b79b5c9b",
   "metadata": {},
   "outputs": [],
   "source": [
    "def entity_detection(text):\n",
    "    doc = nlp(text)\n",
    "    #entity = [(i, i.label_, i.label) for i in doc.ents]\n",
    "    entity = displacy.render(doc, style = 'ent')\n",
    "    return entity"
   ]
  },
  {
   "cell_type": "code",
   "execution_count": null,
   "id": "31caa9e5",
   "metadata": {},
   "outputs": [],
   "source": [
    "sds_1 = sds_text[sds_text['episode_number'] == 1]"
   ]
  },
  {
   "cell_type": "code",
   "execution_count": null,
   "id": "27b13e36",
   "metadata": {},
   "outputs": [],
   "source": [
    "sds_1['entity'] = sds_1['episode_split_text'].apply(entity_detection)"
   ]
  },
  {
   "cell_type": "code",
   "execution_count": null,
   "id": "d73230d2",
   "metadata": {},
   "outputs": [],
   "source": [
    "sds_1"
   ]
  },
  {
   "cell_type": "code",
   "execution_count": null,
   "id": "645f1124",
   "metadata": {},
   "outputs": [],
   "source": [
    "sds_text['entity'] = sds_text['episode_split_text'].apply(entity_detection)"
   ]
  },
  {
   "cell_type": "code",
   "execution_count": null,
   "id": "dc53b6de",
   "metadata": {},
   "outputs": [],
   "source": [
    "doc"
   ]
  },
  {
   "cell_type": "code",
   "execution_count": null,
   "id": "7e7e7ffa",
   "metadata": {},
   "outputs": [],
   "source": [
    "displacy.render(doc, style = 'ent')"
   ]
  }
 ],
 "metadata": {
  "kernelspec": {
   "display_name": "Python 3 (ipykernel)",
   "language": "python",
   "name": "python3"
  },
  "language_info": {
   "codemirror_mode": {
    "name": "ipython",
    "version": 3
   },
   "file_extension": ".py",
   "mimetype": "text/x-python",
   "name": "python",
   "nbconvert_exporter": "python",
   "pygments_lexer": "ipython3",
   "version": "3.9.12"
  }
 },
 "nbformat": 4,
 "nbformat_minor": 5
}
