{
 "cells": [
  {
   "cell_type": "code",
   "execution_count": null,
   "id": "6399487f",
   "metadata": {},
   "outputs": [],
   "source": [
    "import spacy\n",
    "from spacy.lang.en.stop_words import STOP_WORDS\n",
    "from keybert import KeyBERT\n",
    "import time\n",
    "from tqdm.notebook import tqdm\n",
    "from spacy import displacy"
   ]
  },
  {
   "cell_type": "code",
   "execution_count": null,
   "id": "1fbb9db7",
   "metadata": {},
   "outputs": [],
   "source": [
    "nlp = spacy.load(\"en_core_web_sm\")"
   ]
  },
  {
   "cell_type": "code",
   "execution_count": null,
   "id": "4cffa0bb",
   "metadata": {},
   "outputs": [],
   "source": [
    "sds_text = pd.read_csv('../data/sds_text.csv')"
   ]
  },
  {
   "cell_type": "code",
   "execution_count": null,
   "id": "952d53c0",
   "metadata": {},
   "outputs": [],
   "source": [
    "sds_text = sds_text.set_index('Unnamed: 0')"
   ]
  },
  {
   "cell_type": "code",
   "execution_count": null,
   "id": "32da0339",
   "metadata": {},
   "outputs": [],
   "source": [
    "nlp.components"
   ]
  },
  {
   "cell_type": "markdown",
   "id": "3f3b7677",
   "metadata": {},
   "source": [
    "## Generating tokens"
   ]
  },
  {
   "cell_type": "code",
   "execution_count": null,
   "id": "ee577121",
   "metadata": {},
   "outputs": [],
   "source": [
    "def preprocess_text(text):\n",
    "    doc = nlp(text)\n",
    "    tokens = [token.lemma_.lower().strip() for token in doc if not token.is_stop\n",
    "             and not token.is_digit\n",
    "             and not token.is_punct\n",
    "             and not token.is_space]\n",
    "    return tokens"
   ]
  },
  {
   "cell_type": "code",
   "execution_count": null,
   "id": "81d38889",
   "metadata": {},
   "outputs": [],
   "source": [
    "\n",
    "sds_text['tokens'] = sds_text['episode_split_text'].apply(preprocess_text)"
   ]
  },
  {
   "cell_type": "code",
   "execution_count": null,
   "id": "69bc0119",
   "metadata": {},
   "outputs": [],
   "source": [
    "sds_text"
   ]
  },
  {
   "cell_type": "markdown",
   "id": "6530ff79",
   "metadata": {},
   "source": [
    "## Entity Detection"
   ]
  },
  {
   "cell_type": "code",
   "execution_count": null,
   "id": "85685d11",
   "metadata": {},
   "outputs": [],
   "source": [
    "def entity_detection(text):\n",
    "    doc = nlp(text)\n",
    "    entity = [(i, i.label_, i.label) for i in doc.ents]\n",
    "    #entity = displacy.render(doc, style = 'ent')\n",
    "    return entity"
   ]
  },
  {
   "cell_type": "code",
   "execution_count": null,
   "id": "87a65670",
   "metadata": {},
   "outputs": [],
   "source": [
    "sds_1['entity'] = sds_1['episode_split_text'].apply(entity_detection)"
   ]
  },
  {
   "cell_type": "code",
   "execution_count": null,
   "id": "d8f4ef88",
   "metadata": {},
   "outputs": [],
   "source": [
    "sds_1"
   ]
  },
  {
   "cell_type": "code",
   "execution_count": null,
   "id": "016a53f6",
   "metadata": {},
   "outputs": [],
   "source": [
    "sds_text['entity'] = sds_text['episode_split_text'].apply(entity_detection)"
   ]
  },
  {
   "cell_type": "code",
   "execution_count": null,
   "id": "eb175a58",
   "metadata": {},
   "outputs": [],
   "source": [
    "doc"
   ]
  },
  {
   "cell_type": "code",
   "execution_count": null,
   "id": "a976ad14",
   "metadata": {},
   "outputs": [],
   "source": [
    "displacy.render(doc, style = 'ent')"
   ]
  },
  {
   "cell_type": "markdown",
   "id": "80b6be27",
   "metadata": {},
   "source": [
    "## Sentiment Analysis"
   ]
  },
  {
   "cell_type": "code",
   "execution_count": null,
   "id": "e13665b1",
   "metadata": {},
   "outputs": [],
   "source": [
    "from spacytextblob.spacytextblob import SpacyTextBlob"
   ]
  },
  {
   "cell_type": "code",
   "execution_count": null,
   "id": "1e86efd1",
   "metadata": {},
   "outputs": [],
   "source": [
    "nlp.add_pipe(\"spacytextblob\")"
   ]
  },
  {
   "cell_type": "code",
   "execution_count": null,
   "id": "ecb30424",
   "metadata": {},
   "outputs": [],
   "source": [
    "def sentiment_analysis(text):\n",
    "    doc = nlp(text)\n",
    "    sentiment = doc._.blob.polarity\n",
    "    return sentiment"
   ]
  },
  {
   "cell_type": "code",
   "execution_count": null,
   "id": "eb90ed49",
   "metadata": {},
   "outputs": [],
   "source": [
    "sds_1 = sds_text[sds_text['episode_number'] == 1]"
   ]
  },
  {
   "cell_type": "code",
   "execution_count": null,
   "id": "e37e55f9",
   "metadata": {},
   "outputs": [],
   "source": [
    "sds_1"
   ]
  },
  {
   "cell_type": "code",
   "execution_count": null,
   "id": "151e522b",
   "metadata": {},
   "outputs": [],
   "source": [
    "sds_1['sentiments'] = sds_1['episode_split_text'].apply(sentiment_analysis)"
   ]
  },
  {
   "cell_type": "code",
   "execution_count": null,
   "id": "99ada40c",
   "metadata": {},
   "outputs": [],
   "source": [
    "sds_1"
   ]
  },
  {
   "cell_type": "code",
   "execution_count": null,
   "id": "f67f50aa",
   "metadata": {},
   "outputs": [],
   "source": [
    "nlp.components"
   ]
  },
  {
   "cell_type": "code",
   "execution_count": null,
   "id": "b1d519ab",
   "metadata": {},
   "outputs": [],
   "source": [
    "sds_text['sentiments'] = sds_text['episode_split_text'].apply(sentiment_analysis)"
   ]
  },
  {
   "cell_type": "code",
   "execution_count": null,
   "id": "c2baed74",
   "metadata": {},
   "outputs": [],
   "source": [
    "sds_text['tokens'].loc[0]"
   ]
  },
  {
   "cell_type": "code",
   "execution_count": null,
   "id": "fba0bdef",
   "metadata": {},
   "outputs": [],
   "source": [
    "mytext = sds_text['tokens'].loc[0]"
   ]
  },
  {
   "cell_type": "code",
   "execution_count": null,
   "id": "df257872",
   "metadata": {},
   "outputs": [],
   "source": [
    "docx = nlp(mytext)"
   ]
  },
  {
   "cell_type": "code",
   "execution_count": null,
   "id": "30993d07",
   "metadata": {},
   "outputs": [],
   "source": [
    "#check for sentiment polarity\n",
    "docx._.polarity"
   ]
  },
  {
   "cell_type": "code",
   "execution_count": null,
   "id": "61de49da",
   "metadata": {},
   "outputs": [],
   "source": [
    "# check for subjectivity\n",
    "docx._.subjectivity"
   ]
  },
  {
   "cell_type": "code",
   "execution_count": null,
   "id": "58484e4a",
   "metadata": {},
   "outputs": [],
   "source": [
    "#Check Assessment:list polarity/subject for assessed token\n",
    "docx._.assessments"
   ]
  },
  {
   "cell_type": "code",
   "execution_count": null,
   "id": "87e3f005",
   "metadata": {},
   "outputs": [],
   "source": [
    "sds_text"
   ]
  },
  {
   "cell_type": "code",
   "execution_count": null,
   "id": "293dbe52",
   "metadata": {},
   "outputs": [],
   "source": [
    "sds_text.info()"
   ]
  },
  {
   "cell_type": "code",
   "execution_count": null,
   "id": "3e79a0be",
   "metadata": {},
   "outputs": [],
   "source": [
    "sds_processed = pd.DataFrame(sds_text.groupby('episode_number')['episode_split_text'].agg(lambda x: ' '.join(x)))"
   ]
  },
  {
   "cell_type": "code",
   "execution_count": null,
   "id": "d271cf7d",
   "metadata": {},
   "outputs": [],
   "source": [
    "sds_processed"
   ]
  },
  {
   "cell_type": "code",
   "execution_count": null,
   "id": "55a09e61",
   "metadata": {
    "scrolled": true
   },
   "outputs": [],
   "source": [
    "sds_processed['episode_split_text'].loc[683]"
   ]
  },
  {
   "cell_type": "code",
   "execution_count": null,
   "id": "7c944eda",
   "metadata": {},
   "outputs": [],
   "source": [
    "def keyword_extractor(token):\n",
    "    doc = token\n",
    "    kw_model = KeyBERT()\n",
    "    keyword = ''\n",
    "    stopwords = list(STOP_WORDS)\n",
    "    for keyword in doc:\n",
    "        keywords = kw_model.extract_keywords(doc,keyphrase_ngram_range=(1, 1), stop_words=stopwords)\n",
    "    return keywords"
   ]
  },
  {
   "cell_type": "code",
   "execution_count": null,
   "id": "cf85d5de",
   "metadata": {},
   "outputs": [],
   "source": [
    "sds_processed['keywords'] = sds_processed['episode_split_text'].apply(keyword_extractor)"
   ]
  },
  {
   "cell_type": "code",
   "execution_count": null,
   "id": "61322c8f",
   "metadata": {},
   "outputs": [],
   "source": [
    "keywords"
   ]
  },
  {
   "cell_type": "code",
   "execution_count": null,
   "id": "01bbf58f",
   "metadata": {},
   "outputs": [],
   "source": [
    "stopwords = list(STOP_WORDS)"
   ]
  },
  {
   "cell_type": "code",
   "execution_count": null,
   "id": "1e31c70a",
   "metadata": {},
   "outputs": [],
   "source": [
    "# https://maartengr.github.io/BERTopic/index.html"
   ]
  }
 ],
 "metadata": {
  "kernelspec": {
   "display_name": "Python 3 (ipykernel)",
   "language": "python",
   "name": "python3"
  },
  "language_info": {
   "codemirror_mode": {
    "name": "ipython",
    "version": 3
   },
   "file_extension": ".py",
   "mimetype": "text/x-python",
   "name": "python",
   "nbconvert_exporter": "python",
   "pygments_lexer": "ipython3",
   "version": "3.9.12"
  }
 },
 "nbformat": 4,
 "nbformat_minor": 5
}
