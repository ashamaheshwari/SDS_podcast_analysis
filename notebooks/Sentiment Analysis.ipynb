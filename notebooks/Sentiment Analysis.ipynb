{
 "cells": [
  {
   "cell_type": "code",
   "execution_count": 1,
   "id": "363296d7",
   "metadata": {},
   "outputs": [],
   "source": [
    "import pandas as pd\n",
    "import spacy\n",
    "#from spacy.lang.en.stop_words import STOP_WORDS\n",
    "#import time\n",
    "from spacytextblob.spacytextblob import SpacyTextBlob\n",
    "import matplotlib.pyplot as plt"
   ]
  },
  {
   "cell_type": "code",
   "execution_count": 2,
   "id": "8d83c8e8",
   "metadata": {},
   "outputs": [],
   "source": [
    "nlp = spacy.load(\"en_core_web_sm\")"
   ]
  },
  {
   "cell_type": "code",
   "execution_count": 3,
   "id": "3bfee00a",
   "metadata": {},
   "outputs": [],
   "source": [
    "sds_data = pd.read_csv('../data/sds_ds_text.csv')\n",
    "sds_non_data = pd.read_csv('../data/sds_nds_text.csv')"
   ]
  },
  {
   "cell_type": "code",
   "execution_count": 6,
   "id": "21970725",
   "metadata": {},
   "outputs": [
    {
     "data": {
      "text/html": [
       "<div>\n",
       "<style scoped>\n",
       "    .dataframe tbody tr th:only-of-type {\n",
       "        vertical-align: middle;\n",
       "    }\n",
       "\n",
       "    .dataframe tbody tr th {\n",
       "        vertical-align: top;\n",
       "    }\n",
       "\n",
       "    .dataframe thead th {\n",
       "        text-align: right;\n",
       "    }\n",
       "</style>\n",
       "<table border=\"1\" class=\"dataframe\">\n",
       "  <thead>\n",
       "    <tr style=\"text-align: right;\">\n",
       "      <th></th>\n",
       "      <th>episode_name</th>\n",
       "      <th>length_episode</th>\n",
       "      <th>context_episode</th>\n",
       "      <th>guest_name</th>\n",
       "      <th>guest_info</th>\n",
       "      <th>text_episode</th>\n",
       "      <th>episode_number</th>\n",
       "      <th>episode_date</th>\n",
       "      <th>episode_year</th>\n",
       "      <th>episode_day</th>\n",
       "      <th>host_episode</th>\n",
       "      <th>episode_split_text</th>\n",
       "      <th>speaker</th>\n",
       "    </tr>\n",
       "  </thead>\n",
       "  <tbody>\n",
       "    <tr>\n",
       "      <th>0</th>\n",
       "      <td>Ruben Kogel on Self-Serve Analytics, R vs Pyt...</td>\n",
       "      <td>42</td>\n",
       "      <td>Business Data Science Database</td>\n",
       "      <td>Ruben Kogel</td>\n",
       "      <td>Subscribe on Website, Apple Podcasts, Spotify,...</td>\n",
       "      <td>Kirill: This is episode number one with ex-che...</td>\n",
       "      <td>1</td>\n",
       "      <td>Sep 10, 2016</td>\n",
       "      <td>2016</td>\n",
       "      <td>Saturday</td>\n",
       "      <td>Kirill Eremenko</td>\n",
       "      <td>This is episode number one with ex-chemical en...</td>\n",
       "      <td>Kirill</td>\n",
       "    </tr>\n",
       "    <tr>\n",
       "      <th>1</th>\n",
       "      <td>Ruben Kogel on Self-Serve Analytics, R vs Pyt...</td>\n",
       "      <td>42</td>\n",
       "      <td>Business Data Science Database</td>\n",
       "      <td>Ruben Kogel</td>\n",
       "      <td>Subscribe on Website, Apple Podcasts, Spotify,...</td>\n",
       "      <td>Kirill: This is episode number one with ex-che...</td>\n",
       "      <td>1</td>\n",
       "      <td>Sep 10, 2016</td>\n",
       "      <td>2016</td>\n",
       "      <td>Saturday</td>\n",
       "      <td>Kirill Eremenko</td>\n",
       "      <td>Hey guys, welcome to the Podcast. I’ve got Rub...</td>\n",
       "      <td>Kirill</td>\n",
       "    </tr>\n",
       "  </tbody>\n",
       "</table>\n",
       "</div>"
      ],
      "text/plain": [
       "                                        episode_name  length_episode  \\\n",
       "0   Ruben Kogel on Self-Serve Analytics, R vs Pyt...              42   \n",
       "1   Ruben Kogel on Self-Serve Analytics, R vs Pyt...              42   \n",
       "\n",
       "                  context_episode     guest_name  \\\n",
       "0  Business Data Science Database   Ruben Kogel    \n",
       "1  Business Data Science Database   Ruben Kogel    \n",
       "\n",
       "                                          guest_info  \\\n",
       "0  Subscribe on Website, Apple Podcasts, Spotify,...   \n",
       "1  Subscribe on Website, Apple Podcasts, Spotify,...   \n",
       "\n",
       "                                        text_episode  episode_number  \\\n",
       "0  Kirill: This is episode number one with ex-che...               1   \n",
       "1  Kirill: This is episode number one with ex-che...               1   \n",
       "\n",
       "   episode_date  episode_year episode_day     host_episode  \\\n",
       "0  Sep 10, 2016          2016    Saturday  Kirill Eremenko   \n",
       "1  Sep 10, 2016          2016    Saturday  Kirill Eremenko   \n",
       "\n",
       "                                  episode_split_text speaker  \n",
       "0  This is episode number one with ex-chemical en...  Kirill  \n",
       "1  Hey guys, welcome to the Podcast. I’ve got Rub...  Kirill  "
      ]
     },
     "execution_count": 6,
     "metadata": {},
     "output_type": "execute_result"
    }
   ],
   "source": [
    "sds_data.head(2)"
   ]
  },
  {
   "cell_type": "code",
   "execution_count": 8,
   "id": "7d9e7b01",
   "metadata": {},
   "outputs": [
    {
     "data": {
      "text/html": [
       "<div>\n",
       "<style scoped>\n",
       "    .dataframe tbody tr th:only-of-type {\n",
       "        vertical-align: middle;\n",
       "    }\n",
       "\n",
       "    .dataframe tbody tr th {\n",
       "        vertical-align: top;\n",
       "    }\n",
       "\n",
       "    .dataframe thead th {\n",
       "        text-align: right;\n",
       "    }\n",
       "</style>\n",
       "<table border=\"1\" class=\"dataframe\">\n",
       "  <thead>\n",
       "    <tr style=\"text-align: right;\">\n",
       "      <th></th>\n",
       "      <th>episode_name</th>\n",
       "      <th>length_episode</th>\n",
       "      <th>context_episode</th>\n",
       "      <th>guest_name</th>\n",
       "      <th>guest_info</th>\n",
       "      <th>text_episode</th>\n",
       "      <th>episode_number</th>\n",
       "      <th>episode_date</th>\n",
       "      <th>episode_year</th>\n",
       "      <th>episode_day</th>\n",
       "      <th>host_episode</th>\n",
       "      <th>episode_split_text</th>\n",
       "      <th>speaker</th>\n",
       "    </tr>\n",
       "  </thead>\n",
       "  <tbody>\n",
       "    <tr>\n",
       "      <th>0</th>\n",
       "      <td>SEOI PEI – The skin of water listen now</td>\n",
       "      <td>10</td>\n",
       "      <td>Data Science</td>\n",
       "      <td>Kirill Eremenko</td>\n",
       "      <td>Subscribe on Website, Apple Podcasts, Spotify,...</td>\n",
       "      <td>Kirill:\\tThis is episode number 22, and today ...</td>\n",
       "      <td>22</td>\n",
       "      <td>Jan 29, 2017</td>\n",
       "      <td>2017</td>\n",
       "      <td>Sunday</td>\n",
       "      <td>Kirill Eremenko</td>\n",
       "      <td>This is episode number 22, and today we're kic...</td>\n",
       "      <td>Kirill</td>\n",
       "    </tr>\n",
       "    <tr>\n",
       "      <th>1</th>\n",
       "      <td>“What are you passionate about?”</td>\n",
       "      <td>5</td>\n",
       "      <td>Data Science</td>\n",
       "      <td>Kirill Eremenko</td>\n",
       "      <td>Subscribe on Website, Apple Podcasts, Spotify,...</td>\n",
       "      <td>Kirill:\\tThis is Five Minute Friday episode nu...</td>\n",
       "      <td>24</td>\n",
       "      <td>Feb 04, 2017</td>\n",
       "      <td>2017</td>\n",
       "      <td>Saturday</td>\n",
       "      <td>Kirill Eremenko</td>\n",
       "      <td>This is Five Minute Friday episode number 24, ...</td>\n",
       "      <td>Kirill</td>\n",
       "    </tr>\n",
       "  </tbody>\n",
       "</table>\n",
       "</div>"
      ],
      "text/plain": [
       "                               episode_name  length_episode context_episode  \\\n",
       "0   SEOI PEI – The skin of water listen now              10    Data Science   \n",
       "1          “What are you passionate about?”               5    Data Science   \n",
       "\n",
       "          guest_name                                         guest_info  \\\n",
       "0   Kirill Eremenko   Subscribe on Website, Apple Podcasts, Spotify,...   \n",
       "1   Kirill Eremenko   Subscribe on Website, Apple Podcasts, Spotify,...   \n",
       "\n",
       "                                        text_episode  episode_number  \\\n",
       "0  Kirill:\\tThis is episode number 22, and today ...              22   \n",
       "1  Kirill:\\tThis is Five Minute Friday episode nu...              24   \n",
       "\n",
       "   episode_date  episode_year episode_day     host_episode  \\\n",
       "0  Jan 29, 2017          2017      Sunday  Kirill Eremenko   \n",
       "1  Feb 04, 2017          2017    Saturday  Kirill Eremenko   \n",
       "\n",
       "                                  episode_split_text speaker  \n",
       "0  This is episode number 22, and today we're kic...  Kirill  \n",
       "1  This is Five Minute Friday episode number 24, ...  Kirill  "
      ]
     },
     "execution_count": 8,
     "metadata": {},
     "output_type": "execute_result"
    }
   ],
   "source": [
    "sds_non_data.head(2)"
   ]
  },
  {
   "cell_type": "markdown",
   "id": "0c8aa21c",
   "metadata": {},
   "source": [
    "#### Adding textblob to nlp pipeline"
   ]
  },
  {
   "cell_type": "code",
   "execution_count": 9,
   "id": "10d5c7e6",
   "metadata": {},
   "outputs": [
    {
     "data": {
      "text/plain": [
       "[('tok2vec', <spacy.pipeline.tok2vec.Tok2Vec at 0x7fa8b72ea700>),\n",
       " ('tagger', <spacy.pipeline.tagger.Tagger at 0x7fa8b72ea520>),\n",
       " ('parser', <spacy.pipeline.dep_parser.DependencyParser at 0x7fa8b7300350>),\n",
       " ('senter', <spacy.pipeline.senter.SentenceRecognizer at 0x7fa8b72eaac0>),\n",
       " ('attribute_ruler',\n",
       "  <spacy.pipeline.attributeruler.AttributeRuler at 0x7fa8c03547c0>),\n",
       " ('lemmatizer',\n",
       "  <spacy.lang.en.lemmatizer.EnglishLemmatizer at 0x7fa8b7364ec0>),\n",
       " ('ner', <spacy.pipeline.ner.EntityRecognizer at 0x7fa8b7300200>)]"
      ]
     },
     "execution_count": 9,
     "metadata": {},
     "output_type": "execute_result"
    }
   ],
   "source": [
    "nlp.components"
   ]
  },
  {
   "cell_type": "code",
   "execution_count": 10,
   "id": "52987d23",
   "metadata": {},
   "outputs": [
    {
     "data": {
      "text/plain": [
       "<spacytextblob.spacytextblob.SpacyTextBlob at 0x7fa8c0345490>"
      ]
     },
     "execution_count": 10,
     "metadata": {},
     "output_type": "execute_result"
    }
   ],
   "source": [
    "nlp.add_pipe(\"spacytextblob\")"
   ]
  },
  {
   "cell_type": "code",
   "execution_count": 11,
   "id": "030d4ccc",
   "metadata": {},
   "outputs": [
    {
     "data": {
      "text/plain": [
       "[('tok2vec', <spacy.pipeline.tok2vec.Tok2Vec at 0x7fa8b72ea700>),\n",
       " ('tagger', <spacy.pipeline.tagger.Tagger at 0x7fa8b72ea520>),\n",
       " ('parser', <spacy.pipeline.dep_parser.DependencyParser at 0x7fa8b7300350>),\n",
       " ('senter', <spacy.pipeline.senter.SentenceRecognizer at 0x7fa8b72eaac0>),\n",
       " ('attribute_ruler',\n",
       "  <spacy.pipeline.attributeruler.AttributeRuler at 0x7fa8c03547c0>),\n",
       " ('lemmatizer',\n",
       "  <spacy.lang.en.lemmatizer.EnglishLemmatizer at 0x7fa8b7364ec0>),\n",
       " ('ner', <spacy.pipeline.ner.EntityRecognizer at 0x7fa8b7300200>),\n",
       " ('spacytextblob',\n",
       "  <spacytextblob.spacytextblob.SpacyTextBlob at 0x7fa8c0345490>)]"
      ]
     },
     "execution_count": 11,
     "metadata": {},
     "output_type": "execute_result"
    }
   ],
   "source": [
    "nlp.components"
   ]
  },
  {
   "cell_type": "markdown",
   "id": "7f1281d8",
   "metadata": {},
   "source": [
    "### Sentiment Analysis for datascience relevant episodes"
   ]
  },
  {
   "cell_type": "code",
   "execution_count": 12,
   "id": "4f9b5511",
   "metadata": {},
   "outputs": [],
   "source": [
    "def sentiment_analysis(text):\n",
    "    global sds_data\n",
    "    \n",
    "    if isinstance(text, float): # added this if statement because due to [E1041] Expected a string, Doc, or bytes as input, but got: <class 'float'>\n",
    "        return 0.0  # Return neutral sentiment for float values\n",
    "    doc = nlp(text)\n",
    "    polarity = doc._.blob.polarity\n",
    "    #subjectivity = doc._.subjectivity\n",
    "    #assessment = doc._.assessment\n",
    "    return polarity"
   ]
  },
  {
   "cell_type": "code",
   "execution_count": 13,
   "id": "343acfb0",
   "metadata": {},
   "outputs": [],
   "source": [
    "sds_data['sentiments'] = sds_data['episode_split_text'].apply(sentiment_analysis)"
   ]
  },
  {
   "cell_type": "code",
   "execution_count": 15,
   "id": "dbd6f5b6",
   "metadata": {},
   "outputs": [],
   "source": [
    "sds_data.to_csv('../data/sds_ds_sentiments.csv', index = False)"
   ]
  },
  {
   "cell_type": "markdown",
   "id": "be816d7f",
   "metadata": {},
   "source": [
    "### Sentiment Analysis for non-datascience relevant episodes"
   ]
  },
  {
   "cell_type": "code",
   "execution_count": 16,
   "id": "582e723b",
   "metadata": {},
   "outputs": [],
   "source": [
    "sds_non_data['sentiments'] = sds_non_data['episode_split_text'].apply(sentiment_analysis)"
   ]
  },
  {
   "cell_type": "code",
   "execution_count": 17,
   "id": "bf884efe",
   "metadata": {},
   "outputs": [
    {
     "data": {
      "text/html": [
       "<div>\n",
       "<style scoped>\n",
       "    .dataframe tbody tr th:only-of-type {\n",
       "        vertical-align: middle;\n",
       "    }\n",
       "\n",
       "    .dataframe tbody tr th {\n",
       "        vertical-align: top;\n",
       "    }\n",
       "\n",
       "    .dataframe thead th {\n",
       "        text-align: right;\n",
       "    }\n",
       "</style>\n",
       "<table border=\"1\" class=\"dataframe\">\n",
       "  <thead>\n",
       "    <tr style=\"text-align: right;\">\n",
       "      <th></th>\n",
       "      <th>episode_name</th>\n",
       "      <th>length_episode</th>\n",
       "      <th>context_episode</th>\n",
       "      <th>guest_name</th>\n",
       "      <th>guest_info</th>\n",
       "      <th>text_episode</th>\n",
       "      <th>episode_number</th>\n",
       "      <th>episode_date</th>\n",
       "      <th>episode_year</th>\n",
       "      <th>episode_day</th>\n",
       "      <th>host_episode</th>\n",
       "      <th>episode_split_text</th>\n",
       "      <th>speaker</th>\n",
       "      <th>sentiments</th>\n",
       "    </tr>\n",
       "  </thead>\n",
       "  <tbody>\n",
       "    <tr>\n",
       "      <th>0</th>\n",
       "      <td>SEOI PEI – The skin of water listen now</td>\n",
       "      <td>10</td>\n",
       "      <td>Data Science</td>\n",
       "      <td>Kirill Eremenko</td>\n",
       "      <td>Subscribe on Website, Apple Podcasts, Spotify,...</td>\n",
       "      <td>Kirill:\\tThis is episode number 22, and today ...</td>\n",
       "      <td>22</td>\n",
       "      <td>Jan 29, 2017</td>\n",
       "      <td>2017</td>\n",
       "      <td>Sunday</td>\n",
       "      <td>Kirill Eremenko</td>\n",
       "      <td>This is episode number 22, and today we're kic...</td>\n",
       "      <td>Kirill</td>\n",
       "      <td>0.210968</td>\n",
       "    </tr>\n",
       "    <tr>\n",
       "      <th>1</th>\n",
       "      <td>“What are you passionate about?”</td>\n",
       "      <td>5</td>\n",
       "      <td>Data Science</td>\n",
       "      <td>Kirill Eremenko</td>\n",
       "      <td>Subscribe on Website, Apple Podcasts, Spotify,...</td>\n",
       "      <td>Kirill:\\tThis is Five Minute Friday episode nu...</td>\n",
       "      <td>24</td>\n",
       "      <td>Feb 04, 2017</td>\n",
       "      <td>2017</td>\n",
       "      <td>Saturday</td>\n",
       "      <td>Kirill Eremenko</td>\n",
       "      <td>This is Five Minute Friday episode number 24, ...</td>\n",
       "      <td>Kirill</td>\n",
       "      <td>0.176238</td>\n",
       "    </tr>\n",
       "    <tr>\n",
       "      <th>2</th>\n",
       "      <td>Sweat every day</td>\n",
       "      <td>6</td>\n",
       "      <td>Data Science</td>\n",
       "      <td>Kirill Eremenko</td>\n",
       "      <td>Subscribe on Website, Apple Podcasts, Spotify,...</td>\n",
       "      <td>Kirill:\\tThis is Five Minute Friday episode nu...</td>\n",
       "      <td>26</td>\n",
       "      <td>Feb 11, 2017</td>\n",
       "      <td>2017</td>\n",
       "      <td>Saturday</td>\n",
       "      <td>Kirill Eremenko</td>\n",
       "      <td>This is Five Minute Friday episode number 26, ...</td>\n",
       "      <td>Kirill</td>\n",
       "      <td>0.290415</td>\n",
       "    </tr>\n",
       "    <tr>\n",
       "      <th>3</th>\n",
       "      <td>Career choice, disruptions in finance and app...</td>\n",
       "      <td>62</td>\n",
       "      <td>Uncategorized</td>\n",
       "      <td>Aziz Mamatov</td>\n",
       "      <td>Subscribe on Website, Apple Podcasts, Spotify,...</td>\n",
       "      <td>Kirill:\\tThis is episode number 27, with Vice ...</td>\n",
       "      <td>27</td>\n",
       "      <td>Feb 17, 2017</td>\n",
       "      <td>2017</td>\n",
       "      <td>Friday</td>\n",
       "      <td>Kirill Eremenko</td>\n",
       "      <td>This is episode number 27, with Vice President...</td>\n",
       "      <td>Kirill</td>\n",
       "      <td>0.195217</td>\n",
       "    </tr>\n",
       "    <tr>\n",
       "      <th>4</th>\n",
       "      <td>Career choice, disruptions in finance and app...</td>\n",
       "      <td>62</td>\n",
       "      <td>Uncategorized</td>\n",
       "      <td>Aziz Mamatov</td>\n",
       "      <td>Subscribe on Website, Apple Podcasts, Spotify,...</td>\n",
       "      <td>Kirill:\\tThis is episode number 27, with Vice ...</td>\n",
       "      <td>27</td>\n",
       "      <td>Feb 17, 2017</td>\n",
       "      <td>2017</td>\n",
       "      <td>Friday</td>\n",
       "      <td>Kirill Eremenko</td>\n",
       "      <td>Hey Kirill! Good, how are you?</td>\n",
       "      <td>Aziz</td>\n",
       "      <td>0.700000</td>\n",
       "    </tr>\n",
       "    <tr>\n",
       "      <th>...</th>\n",
       "      <td>...</td>\n",
       "      <td>...</td>\n",
       "      <td>...</td>\n",
       "      <td>...</td>\n",
       "      <td>...</td>\n",
       "      <td>...</td>\n",
       "      <td>...</td>\n",
       "      <td>...</td>\n",
       "      <td>...</td>\n",
       "      <td>...</td>\n",
       "      <td>...</td>\n",
       "      <td>...</td>\n",
       "      <td>...</td>\n",
       "      <td>...</td>\n",
       "    </tr>\n",
       "    <tr>\n",
       "      <th>3159</th>\n",
       "      <td>Burnout</td>\n",
       "      <td>24</td>\n",
       "      <td>Business Data Science Productivity Career Tips</td>\n",
       "      <td>Christina Maslach</td>\n",
       "      <td>Subscribe on Website, Apple Podcasts, Spotify,...</td>\n",
       "      <td>Jon:\\t00:05\\tThis is episode number 622 with P...</td>\n",
       "      <td>622</td>\n",
       "      <td>Oct 28, 2022</td>\n",
       "      <td>2022</td>\n",
       "      <td>Friday</td>\n",
       "      <td>Jon Krohn</td>\n",
       "      <td>Nice. Yeah, we'll be sure to include your Twit...</td>\n",
       "      <td>Jon</td>\n",
       "      <td>0.290476</td>\n",
       "    </tr>\n",
       "    <tr>\n",
       "      <th>3160</th>\n",
       "      <td>Burnout</td>\n",
       "      <td>24</td>\n",
       "      <td>Business Data Science Productivity Career Tips</td>\n",
       "      <td>Christina Maslach</td>\n",
       "      <td>Subscribe on Website, Apple Podcasts, Spotify,...</td>\n",
       "      <td>Jon:\\t00:05\\tThis is episode number 622 with P...</td>\n",
       "      <td>622</td>\n",
       "      <td>Oct 28, 2022</td>\n",
       "      <td>2022</td>\n",
       "      <td>Friday</td>\n",
       "      <td>Jon Krohn</td>\n",
       "      <td>Okay, thank you for having me. I enjoyed it.</td>\n",
       "      <td>Christina</td>\n",
       "      <td>0.500000</td>\n",
       "    </tr>\n",
       "    <tr>\n",
       "      <th>3161</th>\n",
       "      <td>Burnout</td>\n",
       "      <td>24</td>\n",
       "      <td>Business Data Science Productivity Career Tips</td>\n",
       "      <td>Christina Maslach</td>\n",
       "      <td>Subscribe on Website, Apple Podcasts, Spotify,...</td>\n",
       "      <td>Jon:\\t00:05\\tThis is episode number 622 with P...</td>\n",
       "      <td>622</td>\n",
       "      <td>Oct 28, 2022</td>\n",
       "      <td>2022</td>\n",
       "      <td>Friday</td>\n",
       "      <td>Jon Krohn</td>\n",
       "      <td>Okay, and that's it for this episode on burnou...</td>\n",
       "      <td>Jon</td>\n",
       "      <td>0.222222</td>\n",
       "    </tr>\n",
       "    <tr>\n",
       "      <th>3162</th>\n",
       "      <td>What I Learned in 2022</td>\n",
       "      <td>37</td>\n",
       "      <td>Data Science</td>\n",
       "      <td>Jon Krohn</td>\n",
       "      <td>Subscribe on Website, Apple Podcasts, Spotify,...</td>\n",
       "      <td>(00:05):\\nThis is Five-Minute Friday on what I...</td>\n",
       "      <td>640</td>\n",
       "      <td>Dec 29, 2022</td>\n",
       "      <td>2022</td>\n",
       "      <td>Thursday</td>\n",
       "      <td>Jon Krohn</td>\n",
       "      <td>This is Five-Minute Friday on what I learned i...</td>\n",
       "      <td>NaN</td>\n",
       "      <td>0.182308</td>\n",
       "    </tr>\n",
       "    <tr>\n",
       "      <th>3163</th>\n",
       "      <td>The Most Popular SuperDataScience Podcast Epi...</td>\n",
       "      <td>8</td>\n",
       "      <td>Data Science</td>\n",
       "      <td>Jon Krohn</td>\n",
       "      <td>Subscribe on Website, Apple Podcasts, Spotify,...</td>\n",
       "      <td>(00:05):\\nThis is Five-Minute Friday on the Mo...</td>\n",
       "      <td>662</td>\n",
       "      <td>Mar 17, 2023</td>\n",
       "      <td>2023</td>\n",
       "      <td>Friday</td>\n",
       "      <td>Jon Krohn</td>\n",
       "      <td>This is Five-Minute Friday on the Most Popular...</td>\n",
       "      <td>NaN</td>\n",
       "      <td>0.233904</td>\n",
       "    </tr>\n",
       "  </tbody>\n",
       "</table>\n",
       "<p>3164 rows × 14 columns</p>\n",
       "</div>"
      ],
      "text/plain": [
       "                                           episode_name  length_episode  \\\n",
       "0               SEOI PEI – The skin of water listen now              10   \n",
       "1                      “What are you passionate about?”               5   \n",
       "2                                       Sweat every day               6   \n",
       "3      Career choice, disruptions in finance and app...              62   \n",
       "4      Career choice, disruptions in finance and app...              62   \n",
       "...                                                 ...             ...   \n",
       "3159                                            Burnout              24   \n",
       "3160                                            Burnout              24   \n",
       "3161                                            Burnout              24   \n",
       "3162                             What I Learned in 2022              37   \n",
       "3163   The Most Popular SuperDataScience Podcast Epi...               8   \n",
       "\n",
       "                                     context_episode           guest_name  \\\n",
       "0                                       Data Science     Kirill Eremenko    \n",
       "1                                       Data Science     Kirill Eremenko    \n",
       "2                                       Data Science     Kirill Eremenko    \n",
       "3                                      Uncategorized        Aziz Mamatov    \n",
       "4                                      Uncategorized        Aziz Mamatov    \n",
       "...                                              ...                  ...   \n",
       "3159  Business Data Science Productivity Career Tips   Christina Maslach    \n",
       "3160  Business Data Science Productivity Career Tips   Christina Maslach    \n",
       "3161  Business Data Science Productivity Career Tips   Christina Maslach    \n",
       "3162                                    Data Science           Jon Krohn    \n",
       "3163                                    Data Science           Jon Krohn    \n",
       "\n",
       "                                             guest_info  \\\n",
       "0     Subscribe on Website, Apple Podcasts, Spotify,...   \n",
       "1     Subscribe on Website, Apple Podcasts, Spotify,...   \n",
       "2     Subscribe on Website, Apple Podcasts, Spotify,...   \n",
       "3     Subscribe on Website, Apple Podcasts, Spotify,...   \n",
       "4     Subscribe on Website, Apple Podcasts, Spotify,...   \n",
       "...                                                 ...   \n",
       "3159  Subscribe on Website, Apple Podcasts, Spotify,...   \n",
       "3160  Subscribe on Website, Apple Podcasts, Spotify,...   \n",
       "3161  Subscribe on Website, Apple Podcasts, Spotify,...   \n",
       "3162  Subscribe on Website, Apple Podcasts, Spotify,...   \n",
       "3163  Subscribe on Website, Apple Podcasts, Spotify,...   \n",
       "\n",
       "                                           text_episode  episode_number  \\\n",
       "0     Kirill:\\tThis is episode number 22, and today ...              22   \n",
       "1     Kirill:\\tThis is Five Minute Friday episode nu...              24   \n",
       "2     Kirill:\\tThis is Five Minute Friday episode nu...              26   \n",
       "3     Kirill:\\tThis is episode number 27, with Vice ...              27   \n",
       "4     Kirill:\\tThis is episode number 27, with Vice ...              27   \n",
       "...                                                 ...             ...   \n",
       "3159  Jon:\\t00:05\\tThis is episode number 622 with P...             622   \n",
       "3160  Jon:\\t00:05\\tThis is episode number 622 with P...             622   \n",
       "3161  Jon:\\t00:05\\tThis is episode number 622 with P...             622   \n",
       "3162  (00:05):\\nThis is Five-Minute Friday on what I...             640   \n",
       "3163  (00:05):\\nThis is Five-Minute Friday on the Mo...             662   \n",
       "\n",
       "      episode_date  episode_year episode_day     host_episode  \\\n",
       "0     Jan 29, 2017          2017      Sunday  Kirill Eremenko   \n",
       "1     Feb 04, 2017          2017    Saturday  Kirill Eremenko   \n",
       "2     Feb 11, 2017          2017    Saturday  Kirill Eremenko   \n",
       "3     Feb 17, 2017          2017      Friday  Kirill Eremenko   \n",
       "4     Feb 17, 2017          2017      Friday  Kirill Eremenko   \n",
       "...            ...           ...         ...              ...   \n",
       "3159  Oct 28, 2022          2022      Friday        Jon Krohn   \n",
       "3160  Oct 28, 2022          2022      Friday        Jon Krohn   \n",
       "3161  Oct 28, 2022          2022      Friday        Jon Krohn   \n",
       "3162  Dec 29, 2022          2022    Thursday        Jon Krohn   \n",
       "3163  Mar 17, 2023          2023      Friday        Jon Krohn   \n",
       "\n",
       "                                     episode_split_text    speaker  sentiments  \n",
       "0     This is episode number 22, and today we're kic...     Kirill    0.210968  \n",
       "1     This is Five Minute Friday episode number 24, ...     Kirill    0.176238  \n",
       "2     This is Five Minute Friday episode number 26, ...     Kirill    0.290415  \n",
       "3     This is episode number 27, with Vice President...     Kirill    0.195217  \n",
       "4                        Hey Kirill! Good, how are you?       Aziz    0.700000  \n",
       "...                                                 ...        ...         ...  \n",
       "3159  Nice. Yeah, we'll be sure to include your Twit...        Jon    0.290476  \n",
       "3160       Okay, thank you for having me. I enjoyed it.  Christina    0.500000  \n",
       "3161  Okay, and that's it for this episode on burnou...        Jon    0.222222  \n",
       "3162  This is Five-Minute Friday on what I learned i...        NaN    0.182308  \n",
       "3163  This is Five-Minute Friday on the Most Popular...        NaN    0.233904  \n",
       "\n",
       "[3164 rows x 14 columns]"
      ]
     },
     "execution_count": 17,
     "metadata": {},
     "output_type": "execute_result"
    }
   ],
   "source": [
    "sds_non_data"
   ]
  },
  {
   "cell_type": "code",
   "execution_count": 18,
   "id": "1fabb12d",
   "metadata": {},
   "outputs": [],
   "source": [
    "sds_non_data.to_csv('../data/sds_nds_sentiments.csv', index = False)"
   ]
  },
  {
   "cell_type": "code",
   "execution_count": null,
   "id": "1bdab504",
   "metadata": {},
   "outputs": [],
   "source": []
  },
  {
   "cell_type": "code",
   "execution_count": null,
   "id": "68726912",
   "metadata": {},
   "outputs": [],
   "source": [
    "sds_sentiments = pd.read_csv('../data/sds_sentiments.csv')"
   ]
  },
  {
   "cell_type": "code",
   "execution_count": null,
   "id": "35045176",
   "metadata": {},
   "outputs": [],
   "source": [
    "sds_sentiments"
   ]
  },
  {
   "cell_type": "code",
   "execution_count": null,
   "id": "0f87f3f5",
   "metadata": {},
   "outputs": [],
   "source": [
    "sds_sentiments['guest_name'].value_counts()"
   ]
  },
  {
   "cell_type": "code",
   "execution_count": null,
   "id": "5086fe16",
   "metadata": {},
   "outputs": [],
   "source": [
    "sds_sentiments['sentiments'].describe()"
   ]
  },
  {
   "cell_type": "code",
   "execution_count": null,
   "id": "11c4d692",
   "metadata": {},
   "outputs": [],
   "source": [
    "sds_sentiments[(sds_sentiments['guest_name'] == ' Kirill Eremenko ') & (sds_sentiments['host_episode'] == 'Kirill Eremenko')]"
   ]
  },
  {
   "cell_type": "code",
   "execution_count": null,
   "id": "9d5527cb",
   "metadata": {},
   "outputs": [],
   "source": [
    "sds_sentiments[(sds_sentiments['guest_name'] == ' Jaco Van Der Berg ')]"
   ]
  },
  {
   "cell_type": "code",
   "execution_count": null,
   "id": "f1a719b6",
   "metadata": {},
   "outputs": [],
   "source": [
    "print(x['episode_split_text'])"
   ]
  },
  {
   "cell_type": "code",
   "execution_count": null,
   "id": "c3fb6361",
   "metadata": {},
   "outputs": [],
   "source": [
    "episode_sentiments = pd.DataFrame(sds_text.groupby(['episode_number', 'context_episode', 'episode_year', 'speaker'])['sentiments'].mean()).reset_index()"
   ]
  },
  {
   "cell_type": "code",
   "execution_count": null,
   "id": "b7099266",
   "metadata": {},
   "outputs": [],
   "source": [
    "episode_sentiments"
   ]
  },
  {
   "cell_type": "code",
   "execution_count": null,
   "id": "081fecc4",
   "metadata": {},
   "outputs": [],
   "source": [
    "episode_sentiments['speaker'].unique()"
   ]
  },
  {
   "cell_type": "code",
   "execution_count": null,
   "id": "579ef73f",
   "metadata": {},
   "outputs": [],
   "source": [
    "episode_sentiments[(episode_sentiments['speaker'] == 'Kirill') | (episode_sentiments['speaker'] == 'Kirill Eremenko') | (episode_sentiments['speaker'] == 'Jon Krohn')]"
   ]
  },
  {
   "cell_type": "code",
   "execution_count": null,
   "id": "99859302",
   "metadata": {},
   "outputs": [],
   "source": [
    "episode_sentiments['sentiments'].plot();"
   ]
  },
  {
   "cell_type": "code",
   "execution_count": null,
   "id": "851d2ab6",
   "metadata": {},
   "outputs": [],
   "source": [
    "episode_sentiments.info()"
   ]
  },
  {
   "cell_type": "code",
   "execution_count": null,
   "id": "c37fbef2",
   "metadata": {},
   "outputs": [],
   "source": [
    "episode_sentiments[episode_sentiments['context_episode'] == 'Data Science Artificial Intelligence']"
   ]
  },
  {
   "cell_type": "code",
   "execution_count": null,
   "id": "42d4887a",
   "metadata": {},
   "outputs": [],
   "source": [
    "episode['']"
   ]
  },
  {
   "cell_type": "code",
   "execution_count": null,
   "id": "941a914b",
   "metadata": {},
   "outputs": [],
   "source": [
    "sentiments"
   ]
  },
  {
   "cell_type": "code",
   "execution_count": null,
   "id": "9489169a",
   "metadata": {},
   "outputs": [],
   "source": [
    "sentiments['context_episode'].unique()"
   ]
  },
  {
   "cell_type": "code",
   "execution_count": null,
   "id": "1ad0657d",
   "metadata": {},
   "outputs": [],
   "source": [
    "sentiments[sentiments['context_episode'] == 'Data Science Artificial Intelligence']"
   ]
  },
  {
   "cell_type": "code",
   "execution_count": null,
   "id": "f0d7f877",
   "metadata": {},
   "outputs": [],
   "source": [
    "sds_text[sds_text['sentiments'] < 0]"
   ]
  },
  {
   "cell_type": "code",
   "execution_count": null,
   "id": "562c9151",
   "metadata": {},
   "outputs": [],
   "source": []
  },
  {
   "cell_type": "code",
   "execution_count": null,
   "id": "9ad47358",
   "metadata": {},
   "outputs": [],
   "source": [
    "sds_1['sentiments'] = sds_1['episode_split_text'].apply(sentiment_analysis)"
   ]
  },
  {
   "cell_type": "code",
   "execution_count": null,
   "id": "6632a725",
   "metadata": {},
   "outputs": [],
   "source": [
    "sds_1"
   ]
  },
  {
   "cell_type": "code",
   "execution_count": null,
   "id": "3dcf9e8c",
   "metadata": {},
   "outputs": [],
   "source": [
    "sds_1['sentiment_polarity'] = None\n",
    "sds_1['sentiment_subjectivity'] = None\n",
    "sds_1['sentiment_assessment'] = None"
   ]
  },
  {
   "cell_type": "code",
   "execution_count": null,
   "id": "a9339fc0",
   "metadata": {},
   "outputs": [],
   "source": [
    "sds_1"
   ]
  },
  {
   "cell_type": "code",
   "execution_count": null,
   "id": "2121bf62",
   "metadata": {},
   "outputs": [],
   "source": [
    "def sentiment_analysis(text):\n",
    "    global sds_1  # Assuming `sds_1` is a global variable or defined outside the function\n",
    "    \n",
    "    doc = nlp(text)  # Process the text string\n",
    "    \n",
    "    polarity = doc._.polarity  # Access the polarity from the processed document\n",
    "    subjectivity = doc._.subjectivity  # Access the subjectivity from the processed document\n",
    "    assessment = doc._.assessments  # Access the sentiment assessments from the processed document\n",
    "    \n",
    "    sds_1['sentiment_polarity'] = polarity\n",
    "    sds_1['sentiment_subjectivity'] = subjectivity\n",
    "    sds_1['sentiment_assessment'] = assessment"
   ]
  },
  {
   "cell_type": "code",
   "execution_count": null,
   "id": "6dcc38a3",
   "metadata": {},
   "outputs": [],
   "source": [
    "sds_text['sentiment_polarity'] = None\n",
    "sds_text['sentiment_subjectivity'] = None\n",
    "sds_text['sentiment_assessment'] = None"
   ]
  },
  {
   "cell_type": "code",
   "execution_count": null,
   "id": "a8f29e45",
   "metadata": {},
   "outputs": [],
   "source": [
    "from spacy.tokens import Doc\n",
    "\n",
    "def set_sentiment_assessments(doc, assessments):\n",
    "    doc._.set(\"sentiment_assessments\", assessments)\n",
    "\n",
    "# Register the extension attribute\n",
    "Doc.set_extension(\"sentiment_assessments\", default=None)"
   ]
  },
  {
   "cell_type": "code",
   "execution_count": null,
   "id": "e2f00df0",
   "metadata": {},
   "outputs": [],
   "source": [
    "sentiment_analysis(sds_text['episode_split_text'])"
   ]
  },
  {
   "cell_type": "code",
   "execution_count": null,
   "id": "ce17c0db",
   "metadata": {},
   "outputs": [],
   "source": [
    "ds_1['sentiments'] = ds_1['episode_split_text'].apply(sentiment_analysis)"
   ]
  }
 ],
 "metadata": {
  "kernelspec": {
   "display_name": "Python 3 (ipykernel)",
   "language": "python",
   "name": "python3"
  },
  "language_info": {
   "codemirror_mode": {
    "name": "ipython",
    "version": 3
   },
   "file_extension": ".py",
   "mimetype": "text/x-python",
   "name": "python",
   "nbconvert_exporter": "python",
   "pygments_lexer": "ipython3",
   "version": "3.9.12"
  }
 },
 "nbformat": 4,
 "nbformat_minor": 5
}
