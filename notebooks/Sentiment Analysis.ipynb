{
 "cells": [
  {
   "cell_type": "code",
   "execution_count": 1,
   "id": "363296d7",
   "metadata": {},
   "outputs": [],
   "source": [
    "import pandas as pd\n",
    "import spacy\n",
    "#from spacy.lang.en.stop_words import STOP_WORDS\n",
    "#import time\n",
    "from spacytextblob.spacytextblob import SpacyTextBlob\n",
    "import matplotlib.pyplot as plt"
   ]
  },
  {
   "cell_type": "code",
   "execution_count": 2,
   "id": "8d83c8e8",
   "metadata": {},
   "outputs": [],
   "source": [
    "nlp = spacy.load(\"en_core_web_sm\")"
   ]
  },
  {
   "cell_type": "code",
   "execution_count": 3,
   "id": "3bfee00a",
   "metadata": {},
   "outputs": [],
   "source": [
    "sds_text = pd.read_csv('../data/sds_text.csv')"
   ]
  },
  {
   "cell_type": "code",
   "execution_count": 4,
   "id": "21970725",
   "metadata": {},
   "outputs": [
    {
     "data": {
      "text/html": [
       "<div>\n",
       "<style scoped>\n",
       "    .dataframe tbody tr th:only-of-type {\n",
       "        vertical-align: middle;\n",
       "    }\n",
       "\n",
       "    .dataframe tbody tr th {\n",
       "        vertical-align: top;\n",
       "    }\n",
       "\n",
       "    .dataframe thead th {\n",
       "        text-align: right;\n",
       "    }\n",
       "</style>\n",
       "<table border=\"1\" class=\"dataframe\">\n",
       "  <thead>\n",
       "    <tr style=\"text-align: right;\">\n",
       "      <th></th>\n",
       "      <th>episode_name</th>\n",
       "      <th>length_episode</th>\n",
       "      <th>context_episode</th>\n",
       "      <th>guest_name</th>\n",
       "      <th>guest_info</th>\n",
       "      <th>text_episode</th>\n",
       "      <th>episode_number</th>\n",
       "      <th>episode_date</th>\n",
       "      <th>episode_year</th>\n",
       "      <th>episode_day</th>\n",
       "      <th>host_episode</th>\n",
       "      <th>episode_split_text</th>\n",
       "      <th>speaker</th>\n",
       "    </tr>\n",
       "  </thead>\n",
       "  <tbody>\n",
       "    <tr>\n",
       "      <th>0</th>\n",
       "      <td>Ruben Kogel on Self-Serve Analytics, R vs Pyt...</td>\n",
       "      <td>42</td>\n",
       "      <td>Business Data Science Database</td>\n",
       "      <td>Ruben Kogel</td>\n",
       "      <td>Subscribe on Website, Apple Podcasts, Spotify,...</td>\n",
       "      <td>Kirill: This is episode number one with ex-che...</td>\n",
       "      <td>1</td>\n",
       "      <td>Sep 10, 2016</td>\n",
       "      <td>2016</td>\n",
       "      <td>Saturday</td>\n",
       "      <td>Kirill Eremenko</td>\n",
       "      <td>This is episode number one with ex-chemical en...</td>\n",
       "      <td>Kirill</td>\n",
       "    </tr>\n",
       "    <tr>\n",
       "      <th>1</th>\n",
       "      <td>Ruben Kogel on Self-Serve Analytics, R vs Pyt...</td>\n",
       "      <td>42</td>\n",
       "      <td>Business Data Science Database</td>\n",
       "      <td>Ruben Kogel</td>\n",
       "      <td>Subscribe on Website, Apple Podcasts, Spotify,...</td>\n",
       "      <td>Kirill: This is episode number one with ex-che...</td>\n",
       "      <td>1</td>\n",
       "      <td>Sep 10, 2016</td>\n",
       "      <td>2016</td>\n",
       "      <td>Saturday</td>\n",
       "      <td>Kirill Eremenko</td>\n",
       "      <td>Hey guys, welcome to the Podcast. I’ve got Rub...</td>\n",
       "      <td>Kirill</td>\n",
       "    </tr>\n",
       "    <tr>\n",
       "      <th>2</th>\n",
       "      <td>Ruben Kogel on Self-Serve Analytics, R vs Pyt...</td>\n",
       "      <td>42</td>\n",
       "      <td>Business Data Science Database</td>\n",
       "      <td>Ruben Kogel</td>\n",
       "      <td>Subscribe on Website, Apple Podcasts, Spotify,...</td>\n",
       "      <td>Kirill: This is episode number one with ex-che...</td>\n",
       "      <td>1</td>\n",
       "      <td>Sep 10, 2016</td>\n",
       "      <td>2016</td>\n",
       "      <td>Saturday</td>\n",
       "      <td>Kirill Eremenko</td>\n",
       "      <td>Thank you! Thanks for having me over. I’m doin...</td>\n",
       "      <td>Ruben</td>\n",
       "    </tr>\n",
       "    <tr>\n",
       "      <th>3</th>\n",
       "      <td>Ruben Kogel on Self-Serve Analytics, R vs Pyt...</td>\n",
       "      <td>42</td>\n",
       "      <td>Business Data Science Database</td>\n",
       "      <td>Ruben Kogel</td>\n",
       "      <td>Subscribe on Website, Apple Podcasts, Spotify,...</td>\n",
       "      <td>Kirill: This is episode number one with ex-che...</td>\n",
       "      <td>1</td>\n",
       "      <td>Sep 10, 2016</td>\n",
       "      <td>2016</td>\n",
       "      <td>Saturday</td>\n",
       "      <td>Kirill Eremenko</td>\n",
       "      <td>Awesome. It’s great to hear you and for those ...</td>\n",
       "      <td>Kirill</td>\n",
       "    </tr>\n",
       "    <tr>\n",
       "      <th>4</th>\n",
       "      <td>Ruben Kogel on Self-Serve Analytics, R vs Pyt...</td>\n",
       "      <td>42</td>\n",
       "      <td>Business Data Science Database</td>\n",
       "      <td>Ruben Kogel</td>\n",
       "      <td>Subscribe on Website, Apple Podcasts, Spotify,...</td>\n",
       "      <td>Kirill: This is episode number one with ex-che...</td>\n",
       "      <td>1</td>\n",
       "      <td>Sep 10, 2016</td>\n",
       "      <td>2016</td>\n",
       "      <td>Saturday</td>\n",
       "      <td>Kirill Eremenko</td>\n",
       "      <td>Yeah sure. So, I’m the senior manager of analy...</td>\n",
       "      <td>Ruben</td>\n",
       "    </tr>\n",
       "    <tr>\n",
       "      <th>...</th>\n",
       "      <td>...</td>\n",
       "      <td>...</td>\n",
       "      <td>...</td>\n",
       "      <td>...</td>\n",
       "      <td>...</td>\n",
       "      <td>...</td>\n",
       "      <td>...</td>\n",
       "      <td>...</td>\n",
       "      <td>...</td>\n",
       "      <td>...</td>\n",
       "      <td>...</td>\n",
       "      <td>...</td>\n",
       "      <td>...</td>\n",
       "    </tr>\n",
       "    <tr>\n",
       "      <th>52607</th>\n",
       "      <td>Contextual A.I. for Adapting to Adversaries, ...</td>\n",
       "      <td>81</td>\n",
       "      <td>Data Science Artificial Intelligence</td>\n",
       "      <td>Matar Haller</td>\n",
       "      <td>Subscribe on Website, Apple Podcasts, Spotify,...</td>\n",
       "      <td>Jon Krohn:\\t00:00:05\\tThis is episode number 6...</td>\n",
       "      <td>683</td>\n",
       "      <td>May 30, 2023</td>\n",
       "      <td>2023</td>\n",
       "      <td>Tuesday</td>\n",
       "      <td>Jon Krohn</td>\n",
       "      <td>Yeah, right. Yeah, as I mean, it actually, it ...</td>\n",
       "      <td>Jon Krohn</td>\n",
       "    </tr>\n",
       "    <tr>\n",
       "      <th>52608</th>\n",
       "      <td>Contextual A.I. for Adapting to Adversaries, ...</td>\n",
       "      <td>81</td>\n",
       "      <td>Data Science Artificial Intelligence</td>\n",
       "      <td>Matar Haller</td>\n",
       "      <td>Subscribe on Website, Apple Podcasts, Spotify,...</td>\n",
       "      <td>Jon Krohn:\\t00:00:05\\tThis is episode number 6...</td>\n",
       "      <td>683</td>\n",
       "      <td>May 30, 2023</td>\n",
       "      <td>2023</td>\n",
       "      <td>Tuesday</td>\n",
       "      <td>Jon Krohn</td>\n",
       "      <td>Happy to.</td>\n",
       "      <td>Matar Haller</td>\n",
       "    </tr>\n",
       "    <tr>\n",
       "      <th>52609</th>\n",
       "      <td>Contextual A.I. for Adapting to Adversaries, ...</td>\n",
       "      <td>81</td>\n",
       "      <td>Data Science Artificial Intelligence</td>\n",
       "      <td>Matar Haller</td>\n",
       "      <td>Subscribe on Website, Apple Podcasts, Spotify,...</td>\n",
       "      <td>Jon Krohn:\\t00:00:05\\tThis is episode number 6...</td>\n",
       "      <td>683</td>\n",
       "      <td>May 30, 2023</td>\n",
       "      <td>2023</td>\n",
       "      <td>Tuesday</td>\n",
       "      <td>Jon Krohn</td>\n",
       "      <td>Nice. Well, yeah, so you mentioned potentially...</td>\n",
       "      <td>Jon Krohn</td>\n",
       "    </tr>\n",
       "    <tr>\n",
       "      <th>52610</th>\n",
       "      <td>Contextual A.I. for Adapting to Adversaries, ...</td>\n",
       "      <td>81</td>\n",
       "      <td>Data Science Artificial Intelligence</td>\n",
       "      <td>Matar Haller</td>\n",
       "      <td>Subscribe on Website, Apple Podcasts, Spotify,...</td>\n",
       "      <td>Jon Krohn:\\t00:00:05\\tThis is episode number 6...</td>\n",
       "      <td>683</td>\n",
       "      <td>May 30, 2023</td>\n",
       "      <td>2023</td>\n",
       "      <td>Tuesday</td>\n",
       "      <td>Jon Krohn</td>\n",
       "      <td>Thank you for having me. This was fascinating ...</td>\n",
       "      <td>Matar Haller</td>\n",
       "    </tr>\n",
       "    <tr>\n",
       "      <th>52611</th>\n",
       "      <td>Contextual A.I. for Adapting to Adversaries, ...</td>\n",
       "      <td>81</td>\n",
       "      <td>Data Science Artificial Intelligence</td>\n",
       "      <td>Matar Haller</td>\n",
       "      <td>Subscribe on Website, Apple Podcasts, Spotify,...</td>\n",
       "      <td>Jon Krohn:\\t00:00:05\\tThis is episode number 6...</td>\n",
       "      <td>683</td>\n",
       "      <td>May 30, 2023</td>\n",
       "      <td>2023</td>\n",
       "      <td>Tuesday</td>\n",
       "      <td>Jon Krohn</td>\n",
       "      <td>I loved this conversation today. I hope you di...</td>\n",
       "      <td>Jon Krohn</td>\n",
       "    </tr>\n",
       "  </tbody>\n",
       "</table>\n",
       "<p>52612 rows × 13 columns</p>\n",
       "</div>"
      ],
      "text/plain": [
       "                                            episode_name  length_episode  \\\n",
       "0       Ruben Kogel on Self-Serve Analytics, R vs Pyt...              42   \n",
       "1       Ruben Kogel on Self-Serve Analytics, R vs Pyt...              42   \n",
       "2       Ruben Kogel on Self-Serve Analytics, R vs Pyt...              42   \n",
       "3       Ruben Kogel on Self-Serve Analytics, R vs Pyt...              42   \n",
       "4       Ruben Kogel on Self-Serve Analytics, R vs Pyt...              42   \n",
       "...                                                  ...             ...   \n",
       "52607   Contextual A.I. for Adapting to Adversaries, ...              81   \n",
       "52608   Contextual A.I. for Adapting to Adversaries, ...              81   \n",
       "52609   Contextual A.I. for Adapting to Adversaries, ...              81   \n",
       "52610   Contextual A.I. for Adapting to Adversaries, ...              81   \n",
       "52611   Contextual A.I. for Adapting to Adversaries, ...              81   \n",
       "\n",
       "                            context_episode      guest_name  \\\n",
       "0            Business Data Science Database    Ruben Kogel    \n",
       "1            Business Data Science Database    Ruben Kogel    \n",
       "2            Business Data Science Database    Ruben Kogel    \n",
       "3            Business Data Science Database    Ruben Kogel    \n",
       "4            Business Data Science Database    Ruben Kogel    \n",
       "...                                     ...             ...   \n",
       "52607  Data Science Artificial Intelligence   Matar Haller    \n",
       "52608  Data Science Artificial Intelligence   Matar Haller    \n",
       "52609  Data Science Artificial Intelligence   Matar Haller    \n",
       "52610  Data Science Artificial Intelligence   Matar Haller    \n",
       "52611  Data Science Artificial Intelligence   Matar Haller    \n",
       "\n",
       "                                              guest_info  \\\n",
       "0      Subscribe on Website, Apple Podcasts, Spotify,...   \n",
       "1      Subscribe on Website, Apple Podcasts, Spotify,...   \n",
       "2      Subscribe on Website, Apple Podcasts, Spotify,...   \n",
       "3      Subscribe on Website, Apple Podcasts, Spotify,...   \n",
       "4      Subscribe on Website, Apple Podcasts, Spotify,...   \n",
       "...                                                  ...   \n",
       "52607  Subscribe on Website, Apple Podcasts, Spotify,...   \n",
       "52608  Subscribe on Website, Apple Podcasts, Spotify,...   \n",
       "52609  Subscribe on Website, Apple Podcasts, Spotify,...   \n",
       "52610  Subscribe on Website, Apple Podcasts, Spotify,...   \n",
       "52611  Subscribe on Website, Apple Podcasts, Spotify,...   \n",
       "\n",
       "                                            text_episode  episode_number  \\\n",
       "0      Kirill: This is episode number one with ex-che...               1   \n",
       "1      Kirill: This is episode number one with ex-che...               1   \n",
       "2      Kirill: This is episode number one with ex-che...               1   \n",
       "3      Kirill: This is episode number one with ex-che...               1   \n",
       "4      Kirill: This is episode number one with ex-che...               1   \n",
       "...                                                  ...             ...   \n",
       "52607  Jon Krohn:\\t00:00:05\\tThis is episode number 6...             683   \n",
       "52608  Jon Krohn:\\t00:00:05\\tThis is episode number 6...             683   \n",
       "52609  Jon Krohn:\\t00:00:05\\tThis is episode number 6...             683   \n",
       "52610  Jon Krohn:\\t00:00:05\\tThis is episode number 6...             683   \n",
       "52611  Jon Krohn:\\t00:00:05\\tThis is episode number 6...             683   \n",
       "\n",
       "       episode_date  episode_year episode_day     host_episode  \\\n",
       "0      Sep 10, 2016          2016    Saturday  Kirill Eremenko   \n",
       "1      Sep 10, 2016          2016    Saturday  Kirill Eremenko   \n",
       "2      Sep 10, 2016          2016    Saturday  Kirill Eremenko   \n",
       "3      Sep 10, 2016          2016    Saturday  Kirill Eremenko   \n",
       "4      Sep 10, 2016          2016    Saturday  Kirill Eremenko   \n",
       "...             ...           ...         ...              ...   \n",
       "52607  May 30, 2023          2023     Tuesday        Jon Krohn   \n",
       "52608  May 30, 2023          2023     Tuesday        Jon Krohn   \n",
       "52609  May 30, 2023          2023     Tuesday        Jon Krohn   \n",
       "52610  May 30, 2023          2023     Tuesday        Jon Krohn   \n",
       "52611  May 30, 2023          2023     Tuesday        Jon Krohn   \n",
       "\n",
       "                                      episode_split_text       speaker  \n",
       "0      This is episode number one with ex-chemical en...        Kirill  \n",
       "1      Hey guys, welcome to the Podcast. I’ve got Rub...        Kirill  \n",
       "2      Thank you! Thanks for having me over. I’m doin...         Ruben  \n",
       "3      Awesome. It’s great to hear you and for those ...        Kirill  \n",
       "4      Yeah sure. So, I’m the senior manager of analy...         Ruben  \n",
       "...                                                  ...           ...  \n",
       "52607  Yeah, right. Yeah, as I mean, it actually, it ...     Jon Krohn  \n",
       "52608                                          Happy to.  Matar Haller  \n",
       "52609  Nice. Well, yeah, so you mentioned potentially...     Jon Krohn  \n",
       "52610  Thank you for having me. This was fascinating ...  Matar Haller  \n",
       "52611  I loved this conversation today. I hope you di...     Jon Krohn  \n",
       "\n",
       "[52612 rows x 13 columns]"
      ]
     },
     "execution_count": 4,
     "metadata": {},
     "output_type": "execute_result"
    }
   ],
   "source": [
    "sds_text"
   ]
  },
  {
   "cell_type": "code",
   "execution_count": 5,
   "id": "413cbe1d",
   "metadata": {},
   "outputs": [
    {
     "data": {
      "text/plain": [
       " Hadelin de Ponteves       1013\n",
       " Ben Taylor                 691\n",
       " Samuel Hinton              609\n",
       " Sinan Ozdemir              608\n",
       " Rico Meinl                 564\n",
       "                           ... \n",
       " Clem Delangue               24\n",
       " SuperDataScience Team       24\n",
       " Kirill and Paulo            22\n",
       " Christina Maslach           21\n",
       " Orly Lobel                  15\n",
       "Name: guest_name, Length: 333, dtype: int64"
      ]
     },
     "execution_count": 5,
     "metadata": {},
     "output_type": "execute_result"
    }
   ],
   "source": [
    "sds_text['guest_name'].value_counts()"
   ]
  },
  {
   "cell_type": "code",
   "execution_count": 6,
   "id": "10d5c7e6",
   "metadata": {},
   "outputs": [
    {
     "data": {
      "text/plain": [
       "[('tok2vec', <spacy.pipeline.tok2vec.Tok2Vec at 0x7f8e20445c40>),\n",
       " ('tagger', <spacy.pipeline.tagger.Tagger at 0x7f8e20445580>),\n",
       " ('parser', <spacy.pipeline.dep_parser.DependencyParser at 0x7f8e20437510>),\n",
       " ('senter', <spacy.pipeline.senter.SentenceRecognizer at 0x7f8e20445ac0>),\n",
       " ('attribute_ruler',\n",
       "  <spacy.pipeline.attributeruler.AttributeRuler at 0x7f8e33db5cc0>),\n",
       " ('lemmatizer',\n",
       "  <spacy.lang.en.lemmatizer.EnglishLemmatizer at 0x7f8e33e4bf40>),\n",
       " ('ner', <spacy.pipeline.ner.EntityRecognizer at 0x7f8e204373c0>)]"
      ]
     },
     "execution_count": 6,
     "metadata": {},
     "output_type": "execute_result"
    }
   ],
   "source": [
    "nlp.components"
   ]
  },
  {
   "cell_type": "code",
   "execution_count": 7,
   "id": "52987d23",
   "metadata": {},
   "outputs": [
    {
     "data": {
      "text/plain": [
       "<spacytextblob.spacytextblob.SpacyTextBlob at 0x7f8e451216a0>"
      ]
     },
     "execution_count": 7,
     "metadata": {},
     "output_type": "execute_result"
    }
   ],
   "source": [
    "nlp.add_pipe(\"spacytextblob\")"
   ]
  },
  {
   "cell_type": "code",
   "execution_count": 8,
   "id": "030d4ccc",
   "metadata": {},
   "outputs": [
    {
     "data": {
      "text/plain": [
       "[('tok2vec', <spacy.pipeline.tok2vec.Tok2Vec at 0x7f8e20445c40>),\n",
       " ('tagger', <spacy.pipeline.tagger.Tagger at 0x7f8e20445580>),\n",
       " ('parser', <spacy.pipeline.dep_parser.DependencyParser at 0x7f8e20437510>),\n",
       " ('senter', <spacy.pipeline.senter.SentenceRecognizer at 0x7f8e20445ac0>),\n",
       " ('attribute_ruler',\n",
       "  <spacy.pipeline.attributeruler.AttributeRuler at 0x7f8e33db5cc0>),\n",
       " ('lemmatizer',\n",
       "  <spacy.lang.en.lemmatizer.EnglishLemmatizer at 0x7f8e33e4bf40>),\n",
       " ('ner', <spacy.pipeline.ner.EntityRecognizer at 0x7f8e204373c0>),\n",
       " ('spacytextblob',\n",
       "  <spacytextblob.spacytextblob.SpacyTextBlob at 0x7f8e451216a0>)]"
      ]
     },
     "execution_count": 8,
     "metadata": {},
     "output_type": "execute_result"
    }
   ],
   "source": [
    "nlp.components"
   ]
  },
  {
   "cell_type": "code",
   "execution_count": null,
   "id": "32743fb6",
   "metadata": {},
   "outputs": [],
   "source": [
    "#sds_1 = sds_text[sds_text['episode_number'] == 1]"
   ]
  },
  {
   "cell_type": "code",
   "execution_count": 11,
   "id": "4f9b5511",
   "metadata": {},
   "outputs": [],
   "source": [
    "def sentiment_analysis(text):\n",
    "    global sds_text\n",
    "    \n",
    "    if isinstance(text, float): # added this if statement because due to [E1041] Expected a string, Doc, or bytes as input, but got: <class 'float'>\n",
    "        return 0.0  # Return neutral sentiment for float values\n",
    "    doc = nlp(text)\n",
    "    polarity = doc._.blob.polarity\n",
    "    #subjectivity = doc._.subjectivity\n",
    "    #assessment = doc._.assessment\n",
    "    return polarity"
   ]
  },
  {
   "cell_type": "code",
   "execution_count": null,
   "id": "343acfb0",
   "metadata": {},
   "outputs": [],
   "source": [
    "sds_text['sentiments'] = sds_text['episode_split_text'].apply(sentiment_analysis)"
   ]
  },
  {
   "cell_type": "code",
   "execution_count": null,
   "id": "45eeca4a",
   "metadata": {},
   "outputs": [],
   "source": [
    "sds_text"
   ]
  },
  {
   "cell_type": "code",
   "execution_count": null,
   "id": "dbd6f5b6",
   "metadata": {},
   "outputs": [],
   "source": [
    "sds_text.to_csv('../data/sds_sentiments.csv')"
   ]
  },
  {
   "cell_type": "code",
   "execution_count": null,
   "id": "68726912",
   "metadata": {},
   "outputs": [],
   "source": [
    "sds_sentiments = pd.read_csv('../data/sds_sentiments.csv')"
   ]
  },
  {
   "cell_type": "code",
   "execution_count": null,
   "id": "35045176",
   "metadata": {},
   "outputs": [],
   "source": [
    "sds_sentiments"
   ]
  },
  {
   "cell_type": "code",
   "execution_count": null,
   "id": "0f87f3f5",
   "metadata": {},
   "outputs": [],
   "source": [
    "sds_sentiments['guest_name'].value_counts()"
   ]
  },
  {
   "cell_type": "code",
   "execution_count": null,
   "id": "5086fe16",
   "metadata": {},
   "outputs": [],
   "source": [
    "sds_sentiments['sentiments'].describe()"
   ]
  },
  {
   "cell_type": "code",
   "execution_count": null,
   "id": "11c4d692",
   "metadata": {},
   "outputs": [],
   "source": [
    "sds_sentiments[(sds_sentiments['guest_name'] == ' Kirill Eremenko ') & (sds_sentiments['host_episode'] == 'Kirill Eremenko')]"
   ]
  },
  {
   "cell_type": "code",
   "execution_count": null,
   "id": "9d5527cb",
   "metadata": {},
   "outputs": [],
   "source": [
    "sds_sentiments[(sds_sentiments['guest_name'] == ' Jaco Van Der Berg ')]"
   ]
  },
  {
   "cell_type": "code",
   "execution_count": null,
   "id": "f1a719b6",
   "metadata": {},
   "outputs": [],
   "source": [
    "print(x['episode_split_text'])"
   ]
  },
  {
   "cell_type": "code",
   "execution_count": null,
   "id": "c3fb6361",
   "metadata": {},
   "outputs": [],
   "source": [
    "episode_sentiments = pd.DataFrame(sds_text.groupby(['episode_number', 'context_episode', 'episode_date', 'speaker'])['sentiments'].mean()).reset_index()"
   ]
  },
  {
   "cell_type": "code",
   "execution_count": null,
   "id": "b7099266",
   "metadata": {},
   "outputs": [],
   "source": [
    "episode_sentiments"
   ]
  },
  {
   "cell_type": "code",
   "execution_count": null,
   "id": "579ef73f",
   "metadata": {},
   "outputs": [],
   "source": []
  },
  {
   "cell_type": "code",
   "execution_count": null,
   "id": "99859302",
   "metadata": {},
   "outputs": [],
   "source": [
    "episode_sentiments['sentiments'].plot();"
   ]
  },
  {
   "cell_type": "code",
   "execution_count": null,
   "id": "851d2ab6",
   "metadata": {},
   "outputs": [],
   "source": [
    "episode_sentiments.info()"
   ]
  },
  {
   "cell_type": "code",
   "execution_count": null,
   "id": "c37fbef2",
   "metadata": {},
   "outputs": [],
   "source": [
    "episode_sentiments[episode_sentiments['context_episode'] == 'Data Science Artificial Intelligence']"
   ]
  },
  {
   "cell_type": "code",
   "execution_count": null,
   "id": "42d4887a",
   "metadata": {},
   "outputs": [],
   "source": [
    "episode['']"
   ]
  },
  {
   "cell_type": "code",
   "execution_count": null,
   "id": "941a914b",
   "metadata": {},
   "outputs": [],
   "source": [
    "sentiments"
   ]
  },
  {
   "cell_type": "code",
   "execution_count": null,
   "id": "9489169a",
   "metadata": {},
   "outputs": [],
   "source": [
    "sentiments['context_episode'].unique()"
   ]
  },
  {
   "cell_type": "code",
   "execution_count": null,
   "id": "1ad0657d",
   "metadata": {},
   "outputs": [],
   "source": [
    "sentiments[sentiments['context_episode'] == 'Data Science Artificial Intelligence']"
   ]
  },
  {
   "cell_type": "code",
   "execution_count": null,
   "id": "f0d7f877",
   "metadata": {},
   "outputs": [],
   "source": [
    "sds_text[sds_text['sentiments'] < 0]"
   ]
  },
  {
   "cell_type": "code",
   "execution_count": null,
   "id": "562c9151",
   "metadata": {},
   "outputs": [],
   "source": []
  },
  {
   "cell_type": "code",
   "execution_count": null,
   "id": "9ad47358",
   "metadata": {},
   "outputs": [],
   "source": [
    "sds_1['sentiments'] = sds_1['episode_split_text'].apply(sentiment_analysis)"
   ]
  },
  {
   "cell_type": "code",
   "execution_count": null,
   "id": "6632a725",
   "metadata": {},
   "outputs": [],
   "source": [
    "sds_1"
   ]
  },
  {
   "cell_type": "code",
   "execution_count": null,
   "id": "3dcf9e8c",
   "metadata": {},
   "outputs": [],
   "source": [
    "sds_1['sentiment_polarity'] = None\n",
    "sds_1['sentiment_subjectivity'] = None\n",
    "sds_1['sentiment_assessment'] = None"
   ]
  },
  {
   "cell_type": "code",
   "execution_count": null,
   "id": "a9339fc0",
   "metadata": {},
   "outputs": [],
   "source": [
    "sds_1"
   ]
  },
  {
   "cell_type": "code",
   "execution_count": null,
   "id": "2121bf62",
   "metadata": {},
   "outputs": [],
   "source": [
    "def sentiment_analysis(text):\n",
    "    global sds_1  # Assuming `sds_1` is a global variable or defined outside the function\n",
    "    \n",
    "    doc = nlp(text)  # Process the text string\n",
    "    \n",
    "    polarity = doc._.polarity  # Access the polarity from the processed document\n",
    "    subjectivity = doc._.subjectivity  # Access the subjectivity from the processed document\n",
    "    assessment = doc._.assessments  # Access the sentiment assessments from the processed document\n",
    "    \n",
    "    sds_1['sentiment_polarity'] = polarity\n",
    "    sds_1['sentiment_subjectivity'] = subjectivity\n",
    "    sds_1['sentiment_assessment'] = assessment"
   ]
  },
  {
   "cell_type": "code",
   "execution_count": null,
   "id": "6dcc38a3",
   "metadata": {},
   "outputs": [],
   "source": [
    "sds_text['sentiment_polarity'] = None\n",
    "sds_text['sentiment_subjectivity'] = None\n",
    "sds_text['sentiment_assessment'] = None"
   ]
  },
  {
   "cell_type": "code",
   "execution_count": null,
   "id": "a8f29e45",
   "metadata": {},
   "outputs": [],
   "source": [
    "from spacy.tokens import Doc\n",
    "\n",
    "def set_sentiment_assessments(doc, assessments):\n",
    "    doc._.set(\"sentiment_assessments\", assessments)\n",
    "\n",
    "# Register the extension attribute\n",
    "Doc.set_extension(\"sentiment_assessments\", default=None)"
   ]
  },
  {
   "cell_type": "code",
   "execution_count": null,
   "id": "e2f00df0",
   "metadata": {},
   "outputs": [],
   "source": [
    "sentiment_analysis(sds_text['episode_split_text'])"
   ]
  },
  {
   "cell_type": "code",
   "execution_count": null,
   "id": "ce17c0db",
   "metadata": {},
   "outputs": [],
   "source": [
    "ds_1['sentiments'] = ds_1['episode_split_text'].apply(sentiment_analysis)"
   ]
  }
 ],
 "metadata": {
  "kernelspec": {
   "display_name": "Python 3 (ipykernel)",
   "language": "python",
   "name": "python3"
  },
  "language_info": {
   "codemirror_mode": {
    "name": "ipython",
    "version": 3
   },
   "file_extension": ".py",
   "mimetype": "text/x-python",
   "name": "python",
   "nbconvert_exporter": "python",
   "pygments_lexer": "ipython3",
   "version": "3.9.12"
  }
 },
 "nbformat": 4,
 "nbformat_minor": 5
}
