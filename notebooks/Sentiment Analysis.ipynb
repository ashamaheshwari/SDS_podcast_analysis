{
 "cells": [
  {
   "cell_type": "code",
   "execution_count": 1,
   "id": "363296d7",
   "metadata": {},
   "outputs": [],
   "source": [
    "import pandas as pd\n",
    "import spacy\n",
    "#from spacy.lang.en.stop_words import STOP_WORDS\n",
    "#import time\n",
    "from spacytextblob.spacytextblob import SpacyTextBlob\n",
    "import matplotlib.pyplot as plt"
   ]
  },
  {
   "cell_type": "code",
   "execution_count": 2,
   "id": "8d83c8e8",
   "metadata": {},
   "outputs": [],
   "source": [
    "nlp = spacy.load(\"en_core_web_sm\")"
   ]
  },
  {
   "cell_type": "code",
   "execution_count": 3,
   "id": "3bfee00a",
   "metadata": {},
   "outputs": [],
   "source": [
    "sds_data = pd.read_csv('../data/sds_ds_text.csv')\n",
    "sds_non_data = pd.read_csv('../data/sds_nds_text.csv')"
   ]
  },
  {
   "cell_type": "code",
   "execution_count": null,
   "id": "21970725",
   "metadata": {},
   "outputs": [],
   "source": [
    "sds_data.head(2)"
   ]
  },
  {
   "cell_type": "code",
   "execution_count": null,
   "id": "7d9e7b01",
   "metadata": {},
   "outputs": [],
   "source": [
    "sds_non_data.head(2)"
   ]
  },
  {
   "cell_type": "markdown",
   "id": "0c8aa21c",
   "metadata": {},
   "source": [
    "#### Adding textblob to nlp pipeline"
   ]
  },
  {
   "cell_type": "code",
   "execution_count": null,
   "id": "10d5c7e6",
   "metadata": {},
   "outputs": [],
   "source": [
    "nlp.components"
   ]
  },
  {
   "cell_type": "code",
   "execution_count": null,
   "id": "52987d23",
   "metadata": {},
   "outputs": [],
   "source": [
    "nlp.add_pipe(\"spacytextblob\")"
   ]
  },
  {
   "cell_type": "code",
   "execution_count": null,
   "id": "030d4ccc",
   "metadata": {},
   "outputs": [],
   "source": [
    "nlp.components"
   ]
  },
  {
   "cell_type": "markdown",
   "id": "7f1281d8",
   "metadata": {},
   "source": [
    "### Sentiment Analysis for datascience relevant episodes"
   ]
  },
  {
   "cell_type": "code",
   "execution_count": null,
   "id": "4f9b5511",
   "metadata": {},
   "outputs": [],
   "source": [
    "def sentiment_analysis(text):\n",
    "    global sds_data\n",
    "    \n",
    "    if isinstance(text, float): # added this if statement because due to [E1041] Expected a string, Doc, or bytes as input, but got: <class 'float'>\n",
    "        return 0.0  # Return neutral sentiment for float values\n",
    "    doc = nlp(text)\n",
    "    polarity = doc._.blob.polarity\n",
    "    #subjectivity = doc._.subjectivity\n",
    "    #assessment = doc._.assessment\n",
    "    return polarity"
   ]
  },
  {
   "cell_type": "code",
   "execution_count": null,
   "id": "343acfb0",
   "metadata": {},
   "outputs": [],
   "source": [
    "sds_data['sentiments'] = sds_data['episode_split_text'].apply(sentiment_analysis)"
   ]
  },
  {
   "cell_type": "code",
   "execution_count": null,
   "id": "dbd6f5b6",
   "metadata": {},
   "outputs": [],
   "source": [
    "sds_data.to_csv('../data/sds_ds_sentiments.csv', index = False)"
   ]
  },
  {
   "cell_type": "markdown",
   "id": "be816d7f",
   "metadata": {},
   "source": [
    "### Sentiment Analysis for non-datascience relevant episodes"
   ]
  },
  {
   "cell_type": "code",
   "execution_count": null,
   "id": "582e723b",
   "metadata": {},
   "outputs": [],
   "source": [
    "sds_non_data['sentiments'] = sds_non_data['episode_split_text'].apply(sentiment_analysis)"
   ]
  },
  {
   "cell_type": "code",
   "execution_count": null,
   "id": "bf884efe",
   "metadata": {},
   "outputs": [],
   "source": [
    "sds_non_data"
   ]
  },
  {
   "cell_type": "code",
   "execution_count": null,
   "id": "1fabb12d",
   "metadata": {},
   "outputs": [],
   "source": [
    "sds_non_data.to_csv('../data/sds_nds_sentiments.csv', index = False)"
   ]
  },
  {
   "cell_type": "code",
   "execution_count": null,
   "id": "1bdab504",
   "metadata": {},
   "outputs": [],
   "source": []
  },
  {
   "cell_type": "code",
   "execution_count": null,
   "id": "68726912",
   "metadata": {},
   "outputs": [],
   "source": [
    "sds_sentiments = pd.read_csv('../data/sds_sentiments.csv')"
   ]
  },
  {
   "cell_type": "code",
   "execution_count": null,
   "id": "35045176",
   "metadata": {},
   "outputs": [],
   "source": [
    "sds_sentiments"
   ]
  },
  {
   "cell_type": "code",
   "execution_count": null,
   "id": "0f87f3f5",
   "metadata": {},
   "outputs": [],
   "source": [
    "sds_sentiments['guest_name'].value_counts()"
   ]
  },
  {
   "cell_type": "code",
   "execution_count": null,
   "id": "5086fe16",
   "metadata": {},
   "outputs": [],
   "source": [
    "sds_sentiments['sentiments'].describe()"
   ]
  },
  {
   "cell_type": "code",
   "execution_count": null,
   "id": "11c4d692",
   "metadata": {},
   "outputs": [],
   "source": [
    "sds_sentiments[(sds_sentiments['guest_name'] == ' Kirill Eremenko ') & (sds_sentiments['host_episode'] == 'Kirill Eremenko')]"
   ]
  },
  {
   "cell_type": "code",
   "execution_count": null,
   "id": "9d5527cb",
   "metadata": {},
   "outputs": [],
   "source": [
    "sds_sentiments[(sds_sentiments['guest_name'] == ' Jaco Van Der Berg ')]"
   ]
  },
  {
   "cell_type": "code",
   "execution_count": null,
   "id": "f1a719b6",
   "metadata": {},
   "outputs": [],
   "source": [
    "print(x['episode_split_text'])"
   ]
  },
  {
   "cell_type": "code",
   "execution_count": null,
   "id": "c3fb6361",
   "metadata": {},
   "outputs": [],
   "source": [
    "episode_sentiments = pd.DataFrame(sds_text.groupby(['episode_number', 'context_episode', 'episode_year', 'speaker'])['sentiments'].mean()).reset_index()"
   ]
  },
  {
   "cell_type": "code",
   "execution_count": null,
   "id": "b7099266",
   "metadata": {},
   "outputs": [],
   "source": [
    "episode_sentiments"
   ]
  },
  {
   "cell_type": "code",
   "execution_count": null,
   "id": "081fecc4",
   "metadata": {},
   "outputs": [],
   "source": [
    "episode_sentiments['speaker'].unique()"
   ]
  },
  {
   "cell_type": "code",
   "execution_count": null,
   "id": "579ef73f",
   "metadata": {},
   "outputs": [],
   "source": [
    "episode_sentiments[(episode_sentiments['speaker'] == 'Kirill') | (episode_sentiments['speaker'] == 'Kirill Eremenko') | (episode_sentiments['speaker'] == 'Jon Krohn')]"
   ]
  },
  {
   "cell_type": "code",
   "execution_count": null,
   "id": "99859302",
   "metadata": {},
   "outputs": [],
   "source": [
    "episode_sentiments['sentiments'].plot();"
   ]
  },
  {
   "cell_type": "code",
   "execution_count": null,
   "id": "851d2ab6",
   "metadata": {},
   "outputs": [],
   "source": [
    "episode_sentiments.info()"
   ]
  },
  {
   "cell_type": "code",
   "execution_count": null,
   "id": "c37fbef2",
   "metadata": {},
   "outputs": [],
   "source": [
    "episode_sentiments[episode_sentiments['context_episode'] == 'Data Science Artificial Intelligence']"
   ]
  },
  {
   "cell_type": "code",
   "execution_count": null,
   "id": "42d4887a",
   "metadata": {},
   "outputs": [],
   "source": [
    "episode['']"
   ]
  },
  {
   "cell_type": "code",
   "execution_count": null,
   "id": "941a914b",
   "metadata": {},
   "outputs": [],
   "source": [
    "sentiments"
   ]
  },
  {
   "cell_type": "code",
   "execution_count": null,
   "id": "9489169a",
   "metadata": {},
   "outputs": [],
   "source": [
    "sentiments['context_episode'].unique()"
   ]
  },
  {
   "cell_type": "code",
   "execution_count": null,
   "id": "1ad0657d",
   "metadata": {},
   "outputs": [],
   "source": [
    "sentiments[sentiments['context_episode'] == 'Data Science Artificial Intelligence']"
   ]
  },
  {
   "cell_type": "code",
   "execution_count": null,
   "id": "f0d7f877",
   "metadata": {},
   "outputs": [],
   "source": [
    "sds_text[sds_text['sentiments'] < 0]"
   ]
  },
  {
   "cell_type": "code",
   "execution_count": null,
   "id": "562c9151",
   "metadata": {},
   "outputs": [],
   "source": []
  },
  {
   "cell_type": "code",
   "execution_count": null,
   "id": "9ad47358",
   "metadata": {},
   "outputs": [],
   "source": [
    "sds_1['sentiments'] = sds_1['episode_split_text'].apply(sentiment_analysis)"
   ]
  },
  {
   "cell_type": "code",
   "execution_count": null,
   "id": "6632a725",
   "metadata": {},
   "outputs": [],
   "source": [
    "sds_1"
   ]
  },
  {
   "cell_type": "code",
   "execution_count": null,
   "id": "3dcf9e8c",
   "metadata": {},
   "outputs": [],
   "source": [
    "sds_1['sentiment_polarity'] = None\n",
    "sds_1['sentiment_subjectivity'] = None\n",
    "sds_1['sentiment_assessment'] = None"
   ]
  },
  {
   "cell_type": "code",
   "execution_count": null,
   "id": "a9339fc0",
   "metadata": {},
   "outputs": [],
   "source": [
    "sds_1"
   ]
  },
  {
   "cell_type": "code",
   "execution_count": null,
   "id": "2121bf62",
   "metadata": {},
   "outputs": [],
   "source": [
    "def sentiment_analysis(text):\n",
    "    global sds_1  # Assuming `sds_1` is a global variable or defined outside the function\n",
    "    \n",
    "    doc = nlp(text)  # Process the text string\n",
    "    \n",
    "    polarity = doc._.polarity  # Access the polarity from the processed document\n",
    "    subjectivity = doc._.subjectivity  # Access the subjectivity from the processed document\n",
    "    assessment = doc._.assessments  # Access the sentiment assessments from the processed document\n",
    "    \n",
    "    sds_1['sentiment_polarity'] = polarity\n",
    "    sds_1['sentiment_subjectivity'] = subjectivity\n",
    "    sds_1['sentiment_assessment'] = assessment"
   ]
  },
  {
   "cell_type": "code",
   "execution_count": null,
   "id": "6dcc38a3",
   "metadata": {},
   "outputs": [],
   "source": [
    "sds_text['sentiment_polarity'] = None\n",
    "sds_text['sentiment_subjectivity'] = None\n",
    "sds_text['sentiment_assessment'] = None"
   ]
  },
  {
   "cell_type": "code",
   "execution_count": null,
   "id": "a8f29e45",
   "metadata": {},
   "outputs": [],
   "source": [
    "from spacy.tokens import Doc\n",
    "\n",
    "def set_sentiment_assessments(doc, assessments):\n",
    "    doc._.set(\"sentiment_assessments\", assessments)\n",
    "\n",
    "# Register the extension attribute\n",
    "Doc.set_extension(\"sentiment_assessments\", default=None)"
   ]
  },
  {
   "cell_type": "code",
   "execution_count": null,
   "id": "e2f00df0",
   "metadata": {},
   "outputs": [],
   "source": [
    "sentiment_analysis(sds_text['episode_split_text'])"
   ]
  },
  {
   "cell_type": "code",
   "execution_count": null,
   "id": "ce17c0db",
   "metadata": {},
   "outputs": [],
   "source": [
    "ds_1['sentiments'] = ds_1['episode_split_text'].apply(sentiment_analysis)"
   ]
  }
 ],
 "metadata": {
  "kernelspec": {
   "display_name": "Python 3 (ipykernel)",
   "language": "python",
   "name": "python3"
  },
  "language_info": {
   "codemirror_mode": {
    "name": "ipython",
    "version": 3
   },
   "file_extension": ".py",
   "mimetype": "text/x-python",
   "name": "python",
   "nbconvert_exporter": "python",
   "pygments_lexer": "ipython3",
   "version": "3.9.12"
  }
 },
 "nbformat": 4,
 "nbformat_minor": 5
}
