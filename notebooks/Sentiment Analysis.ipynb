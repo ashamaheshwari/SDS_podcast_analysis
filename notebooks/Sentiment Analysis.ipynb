{
 "cells": [
  {
   "cell_type": "code",
   "execution_count": 1,
   "id": "363296d7",
   "metadata": {},
   "outputs": [],
   "source": [
    "import pandas as pd\n",
    "import spacy\n",
    "#from spacy.lang.en.stop_words import STOP_WORDS\n",
    "#import time\n",
    "from spacytextblob.spacytextblob import SpacyTextBlob\n",
    "import matplotlib.pyplot as plt"
   ]
  },
  {
   "cell_type": "code",
   "execution_count": null,
   "id": "8d83c8e8",
   "metadata": {},
   "outputs": [],
   "source": [
    "nlp = spacy.load(\"en_core_web_sm\")"
   ]
  },
  {
   "cell_type": "code",
   "execution_count": 2,
   "id": "3bfee00a",
   "metadata": {},
   "outputs": [],
   "source": [
    "sds_text = pd.read_csv('../data/sds_text.csv')"
   ]
  },
  {
   "cell_type": "code",
   "execution_count": 3,
   "id": "21970725",
   "metadata": {},
   "outputs": [
    {
     "data": {
      "text/html": [
       "<div>\n",
       "<style scoped>\n",
       "    .dataframe tbody tr th:only-of-type {\n",
       "        vertical-align: middle;\n",
       "    }\n",
       "\n",
       "    .dataframe tbody tr th {\n",
       "        vertical-align: top;\n",
       "    }\n",
       "\n",
       "    .dataframe thead th {\n",
       "        text-align: right;\n",
       "    }\n",
       "</style>\n",
       "<table border=\"1\" class=\"dataframe\">\n",
       "  <thead>\n",
       "    <tr style=\"text-align: right;\">\n",
       "      <th></th>\n",
       "      <th>Unnamed: 0</th>\n",
       "      <th>episode_name</th>\n",
       "      <th>length_episode</th>\n",
       "      <th>context_episode</th>\n",
       "      <th>guest_name</th>\n",
       "      <th>guest_info</th>\n",
       "      <th>text_episode</th>\n",
       "      <th>episode_number</th>\n",
       "      <th>episode_date</th>\n",
       "      <th>episode_day</th>\n",
       "      <th>host_episode</th>\n",
       "      <th>speaker</th>\n",
       "      <th>episode_split_text</th>\n",
       "    </tr>\n",
       "  </thead>\n",
       "  <tbody>\n",
       "    <tr>\n",
       "      <th>0</th>\n",
       "      <td>0</td>\n",
       "      <td>Ruben Kogel on Self-Serve Analytics, R vs Pyt...</td>\n",
       "      <td>42</td>\n",
       "      <td>Business Data Science Database</td>\n",
       "      <td>Ruben Kogel</td>\n",
       "      <td>Subscribe on Website, Apple Podcasts, Spotify,...</td>\n",
       "      <td>Kirill: This is episode number one with ex-che...</td>\n",
       "      <td>1</td>\n",
       "      <td>Sep 10, 2016</td>\n",
       "      <td>Saturday</td>\n",
       "      <td>Kirril Eremenko</td>\n",
       "      <td>Kirill</td>\n",
       "      <td>This is episode number one with ex-chemical e...</td>\n",
       "    </tr>\n",
       "    <tr>\n",
       "      <th>1</th>\n",
       "      <td>0</td>\n",
       "      <td>Ruben Kogel on Self-Serve Analytics, R vs Pyt...</td>\n",
       "      <td>42</td>\n",
       "      <td>Business Data Science Database</td>\n",
       "      <td>Ruben Kogel</td>\n",
       "      <td>Subscribe on Website, Apple Podcasts, Spotify,...</td>\n",
       "      <td>Kirill: This is episode number one with ex-che...</td>\n",
       "      <td>1</td>\n",
       "      <td>Sep 10, 2016</td>\n",
       "      <td>Saturday</td>\n",
       "      <td>Kirril Eremenko</td>\n",
       "      <td>Kirill</td>\n",
       "      <td>Hey guys, welcome to the Podcast. I’ve got Ru...</td>\n",
       "    </tr>\n",
       "    <tr>\n",
       "      <th>2</th>\n",
       "      <td>0</td>\n",
       "      <td>Ruben Kogel on Self-Serve Analytics, R vs Pyt...</td>\n",
       "      <td>42</td>\n",
       "      <td>Business Data Science Database</td>\n",
       "      <td>Ruben Kogel</td>\n",
       "      <td>Subscribe on Website, Apple Podcasts, Spotify,...</td>\n",
       "      <td>Kirill: This is episode number one with ex-che...</td>\n",
       "      <td>1</td>\n",
       "      <td>Sep 10, 2016</td>\n",
       "      <td>Saturday</td>\n",
       "      <td>Kirril Eremenko</td>\n",
       "      <td>Ruben</td>\n",
       "      <td>Thank you! Thanks for having me over. I’m doi...</td>\n",
       "    </tr>\n",
       "    <tr>\n",
       "      <th>3</th>\n",
       "      <td>0</td>\n",
       "      <td>Ruben Kogel on Self-Serve Analytics, R vs Pyt...</td>\n",
       "      <td>42</td>\n",
       "      <td>Business Data Science Database</td>\n",
       "      <td>Ruben Kogel</td>\n",
       "      <td>Subscribe on Website, Apple Podcasts, Spotify,...</td>\n",
       "      <td>Kirill: This is episode number one with ex-che...</td>\n",
       "      <td>1</td>\n",
       "      <td>Sep 10, 2016</td>\n",
       "      <td>Saturday</td>\n",
       "      <td>Kirril Eremenko</td>\n",
       "      <td>Kirill</td>\n",
       "      <td>Awesome. It’s great to hear you and for those...</td>\n",
       "    </tr>\n",
       "    <tr>\n",
       "      <th>4</th>\n",
       "      <td>0</td>\n",
       "      <td>Ruben Kogel on Self-Serve Analytics, R vs Pyt...</td>\n",
       "      <td>42</td>\n",
       "      <td>Business Data Science Database</td>\n",
       "      <td>Ruben Kogel</td>\n",
       "      <td>Subscribe on Website, Apple Podcasts, Spotify,...</td>\n",
       "      <td>Kirill: This is episode number one with ex-che...</td>\n",
       "      <td>1</td>\n",
       "      <td>Sep 10, 2016</td>\n",
       "      <td>Saturday</td>\n",
       "      <td>Kirril Eremenko</td>\n",
       "      <td>Ruben</td>\n",
       "      <td>Yeah sure. So, I’m the senior manager of anal...</td>\n",
       "    </tr>\n",
       "    <tr>\n",
       "      <th>...</th>\n",
       "      <td>...</td>\n",
       "      <td>...</td>\n",
       "      <td>...</td>\n",
       "      <td>...</td>\n",
       "      <td>...</td>\n",
       "      <td>...</td>\n",
       "      <td>...</td>\n",
       "      <td>...</td>\n",
       "      <td>...</td>\n",
       "      <td>...</td>\n",
       "      <td>...</td>\n",
       "      <td>...</td>\n",
       "      <td>...</td>\n",
       "    </tr>\n",
       "    <tr>\n",
       "      <th>46767</th>\n",
       "      <td>681</td>\n",
       "      <td>Contextual A.I. for Adapting to Adversaries, ...</td>\n",
       "      <td>81</td>\n",
       "      <td>Data Science Artificial Intelligence</td>\n",
       "      <td>Matar Haller</td>\n",
       "      <td>Subscribe on Website, Apple Podcasts, Spotify,...</td>\n",
       "      <td>Jon Krohn:\\t00:00:05\\tThis is episode number 6...</td>\n",
       "      <td>683</td>\n",
       "      <td>May 30, 2023</td>\n",
       "      <td>Tuesday</td>\n",
       "      <td>Jon Krohn</td>\n",
       "      <td>Jon Krohn</td>\n",
       "      <td>Yeah, right. Yeah, as I mean, it actually, it ...</td>\n",
       "    </tr>\n",
       "    <tr>\n",
       "      <th>46768</th>\n",
       "      <td>681</td>\n",
       "      <td>Contextual A.I. for Adapting to Adversaries, ...</td>\n",
       "      <td>81</td>\n",
       "      <td>Data Science Artificial Intelligence</td>\n",
       "      <td>Matar Haller</td>\n",
       "      <td>Subscribe on Website, Apple Podcasts, Spotify,...</td>\n",
       "      <td>Jon Krohn:\\t00:00:05\\tThis is episode number 6...</td>\n",
       "      <td>683</td>\n",
       "      <td>May 30, 2023</td>\n",
       "      <td>Tuesday</td>\n",
       "      <td>Jon Krohn</td>\n",
       "      <td>Matar Haller</td>\n",
       "      <td>Happy to.</td>\n",
       "    </tr>\n",
       "    <tr>\n",
       "      <th>46769</th>\n",
       "      <td>681</td>\n",
       "      <td>Contextual A.I. for Adapting to Adversaries, ...</td>\n",
       "      <td>81</td>\n",
       "      <td>Data Science Artificial Intelligence</td>\n",
       "      <td>Matar Haller</td>\n",
       "      <td>Subscribe on Website, Apple Podcasts, Spotify,...</td>\n",
       "      <td>Jon Krohn:\\t00:00:05\\tThis is episode number 6...</td>\n",
       "      <td>683</td>\n",
       "      <td>May 30, 2023</td>\n",
       "      <td>Tuesday</td>\n",
       "      <td>Jon Krohn</td>\n",
       "      <td>Jon Krohn</td>\n",
       "      <td>Nice. Well, yeah, so you mentioned potentially...</td>\n",
       "    </tr>\n",
       "    <tr>\n",
       "      <th>46770</th>\n",
       "      <td>681</td>\n",
       "      <td>Contextual A.I. for Adapting to Adversaries, ...</td>\n",
       "      <td>81</td>\n",
       "      <td>Data Science Artificial Intelligence</td>\n",
       "      <td>Matar Haller</td>\n",
       "      <td>Subscribe on Website, Apple Podcasts, Spotify,...</td>\n",
       "      <td>Jon Krohn:\\t00:00:05\\tThis is episode number 6...</td>\n",
       "      <td>683</td>\n",
       "      <td>May 30, 2023</td>\n",
       "      <td>Tuesday</td>\n",
       "      <td>Jon Krohn</td>\n",
       "      <td>Matar Haller</td>\n",
       "      <td>Thank you for having me. This was fascinating ...</td>\n",
       "    </tr>\n",
       "    <tr>\n",
       "      <th>46771</th>\n",
       "      <td>681</td>\n",
       "      <td>Contextual A.I. for Adapting to Adversaries, ...</td>\n",
       "      <td>81</td>\n",
       "      <td>Data Science Artificial Intelligence</td>\n",
       "      <td>Matar Haller</td>\n",
       "      <td>Subscribe on Website, Apple Podcasts, Spotify,...</td>\n",
       "      <td>Jon Krohn:\\t00:00:05\\tThis is episode number 6...</td>\n",
       "      <td>683</td>\n",
       "      <td>May 30, 2023</td>\n",
       "      <td>Tuesday</td>\n",
       "      <td>Jon Krohn</td>\n",
       "      <td>Jon Krohn</td>\n",
       "      <td>I loved this conversation today. I hope you di...</td>\n",
       "    </tr>\n",
       "  </tbody>\n",
       "</table>\n",
       "<p>46772 rows × 13 columns</p>\n",
       "</div>"
      ],
      "text/plain": [
       "       Unnamed: 0                                       episode_name  \\\n",
       "0               0   Ruben Kogel on Self-Serve Analytics, R vs Pyt...   \n",
       "1               0   Ruben Kogel on Self-Serve Analytics, R vs Pyt...   \n",
       "2               0   Ruben Kogel on Self-Serve Analytics, R vs Pyt...   \n",
       "3               0   Ruben Kogel on Self-Serve Analytics, R vs Pyt...   \n",
       "4               0   Ruben Kogel on Self-Serve Analytics, R vs Pyt...   \n",
       "...           ...                                                ...   \n",
       "46767         681   Contextual A.I. for Adapting to Adversaries, ...   \n",
       "46768         681   Contextual A.I. for Adapting to Adversaries, ...   \n",
       "46769         681   Contextual A.I. for Adapting to Adversaries, ...   \n",
       "46770         681   Contextual A.I. for Adapting to Adversaries, ...   \n",
       "46771         681   Contextual A.I. for Adapting to Adversaries, ...   \n",
       "\n",
       "       length_episode                       context_episode      guest_name  \\\n",
       "0                  42        Business Data Science Database    Ruben Kogel    \n",
       "1                  42        Business Data Science Database    Ruben Kogel    \n",
       "2                  42        Business Data Science Database    Ruben Kogel    \n",
       "3                  42        Business Data Science Database    Ruben Kogel    \n",
       "4                  42        Business Data Science Database    Ruben Kogel    \n",
       "...               ...                                   ...             ...   \n",
       "46767              81  Data Science Artificial Intelligence   Matar Haller    \n",
       "46768              81  Data Science Artificial Intelligence   Matar Haller    \n",
       "46769              81  Data Science Artificial Intelligence   Matar Haller    \n",
       "46770              81  Data Science Artificial Intelligence   Matar Haller    \n",
       "46771              81  Data Science Artificial Intelligence   Matar Haller    \n",
       "\n",
       "                                              guest_info  \\\n",
       "0      Subscribe on Website, Apple Podcasts, Spotify,...   \n",
       "1      Subscribe on Website, Apple Podcasts, Spotify,...   \n",
       "2      Subscribe on Website, Apple Podcasts, Spotify,...   \n",
       "3      Subscribe on Website, Apple Podcasts, Spotify,...   \n",
       "4      Subscribe on Website, Apple Podcasts, Spotify,...   \n",
       "...                                                  ...   \n",
       "46767  Subscribe on Website, Apple Podcasts, Spotify,...   \n",
       "46768  Subscribe on Website, Apple Podcasts, Spotify,...   \n",
       "46769  Subscribe on Website, Apple Podcasts, Spotify,...   \n",
       "46770  Subscribe on Website, Apple Podcasts, Spotify,...   \n",
       "46771  Subscribe on Website, Apple Podcasts, Spotify,...   \n",
       "\n",
       "                                            text_episode  episode_number  \\\n",
       "0      Kirill: This is episode number one with ex-che...               1   \n",
       "1      Kirill: This is episode number one with ex-che...               1   \n",
       "2      Kirill: This is episode number one with ex-che...               1   \n",
       "3      Kirill: This is episode number one with ex-che...               1   \n",
       "4      Kirill: This is episode number one with ex-che...               1   \n",
       "...                                                  ...             ...   \n",
       "46767  Jon Krohn:\\t00:00:05\\tThis is episode number 6...             683   \n",
       "46768  Jon Krohn:\\t00:00:05\\tThis is episode number 6...             683   \n",
       "46769  Jon Krohn:\\t00:00:05\\tThis is episode number 6...             683   \n",
       "46770  Jon Krohn:\\t00:00:05\\tThis is episode number 6...             683   \n",
       "46771  Jon Krohn:\\t00:00:05\\tThis is episode number 6...             683   \n",
       "\n",
       "       episode_date episode_day     host_episode       speaker  \\\n",
       "0      Sep 10, 2016    Saturday  Kirril Eremenko        Kirill   \n",
       "1      Sep 10, 2016    Saturday  Kirril Eremenko        Kirill   \n",
       "2      Sep 10, 2016    Saturday  Kirril Eremenko         Ruben   \n",
       "3      Sep 10, 2016    Saturday  Kirril Eremenko        Kirill   \n",
       "4      Sep 10, 2016    Saturday  Kirril Eremenko         Ruben   \n",
       "...             ...         ...              ...           ...   \n",
       "46767  May 30, 2023     Tuesday        Jon Krohn     Jon Krohn   \n",
       "46768  May 30, 2023     Tuesday        Jon Krohn  Matar Haller   \n",
       "46769  May 30, 2023     Tuesday        Jon Krohn     Jon Krohn   \n",
       "46770  May 30, 2023     Tuesday        Jon Krohn  Matar Haller   \n",
       "46771  May 30, 2023     Tuesday        Jon Krohn     Jon Krohn   \n",
       "\n",
       "                                      episode_split_text  \n",
       "0       This is episode number one with ex-chemical e...  \n",
       "1       Hey guys, welcome to the Podcast. I’ve got Ru...  \n",
       "2       Thank you! Thanks for having me over. I’m doi...  \n",
       "3       Awesome. It’s great to hear you and for those...  \n",
       "4       Yeah sure. So, I’m the senior manager of anal...  \n",
       "...                                                  ...  \n",
       "46767  Yeah, right. Yeah, as I mean, it actually, it ...  \n",
       "46768                                          Happy to.  \n",
       "46769  Nice. Well, yeah, so you mentioned potentially...  \n",
       "46770  Thank you for having me. This was fascinating ...  \n",
       "46771  I loved this conversation today. I hope you di...  \n",
       "\n",
       "[46772 rows x 13 columns]"
      ]
     },
     "execution_count": 3,
     "metadata": {},
     "output_type": "execute_result"
    }
   ],
   "source": [
    "sds_text"
   ]
  },
  {
   "cell_type": "code",
   "execution_count": 4,
   "id": "7ba213ce",
   "metadata": {},
   "outputs": [],
   "source": [
    "sds_text = sds_text.set_index('Unnamed: 0')"
   ]
  },
  {
   "cell_type": "code",
   "execution_count": 5,
   "id": "413cbe1d",
   "metadata": {},
   "outputs": [
    {
     "data": {
      "text/plain": [
       " Hadelin de Ponteves     738\n",
       " Ben Taylor              632\n",
       " Samuel Hinton           603\n",
       " Rico Meinl              557\n",
       " Kirill Eremenko         551\n",
       "                        ... \n",
       " David Venturi             1\n",
       " Ryan Compton              1\n",
       " Experfy                   1\n",
       " Jaco Van Der Berg         1\n",
       " Virginia Mendonca         1\n",
       "Name: guest_name, Length: 333, dtype: int64"
      ]
     },
     "execution_count": 5,
     "metadata": {},
     "output_type": "execute_result"
    }
   ],
   "source": [
    "sds_text['guest_name'].value_counts()"
   ]
  },
  {
   "cell_type": "code",
   "execution_count": null,
   "id": "53211852",
   "metadata": {},
   "outputs": [],
   "source": [
    "sds_text[]"
   ]
  },
  {
   "cell_type": "code",
   "execution_count": null,
   "id": "10d5c7e6",
   "metadata": {},
   "outputs": [],
   "source": [
    "nlp.components"
   ]
  },
  {
   "cell_type": "code",
   "execution_count": null,
   "id": "52987d23",
   "metadata": {},
   "outputs": [],
   "source": [
    "nlp.add_pipe(\"spacytextblob\")"
   ]
  },
  {
   "cell_type": "code",
   "execution_count": null,
   "id": "030d4ccc",
   "metadata": {},
   "outputs": [],
   "source": [
    "nlp.components"
   ]
  },
  {
   "cell_type": "code",
   "execution_count": null,
   "id": "32743fb6",
   "metadata": {},
   "outputs": [],
   "source": [
    "#sds_1 = sds_text[sds_text['episode_number'] == 1]"
   ]
  },
  {
   "cell_type": "code",
   "execution_count": null,
   "id": "4f9b5511",
   "metadata": {},
   "outputs": [],
   "source": [
    "def sentiment_analysis(text):\n",
    "    global sds_text\n",
    "    doc = nlp(text)\n",
    "    polarity = doc._.blob.polarity\n",
    "    #subjectivity = doc._.subjectivity\n",
    "    #assessment = doc._.assessment\n",
    "    return polarity"
   ]
  },
  {
   "cell_type": "code",
   "execution_count": null,
   "id": "343acfb0",
   "metadata": {},
   "outputs": [],
   "source": [
    "sds_text['sentiments'] = sds_text['episode_split_text'].apply(sentiment_analysis)"
   ]
  },
  {
   "cell_type": "code",
   "execution_count": null,
   "id": "45eeca4a",
   "metadata": {},
   "outputs": [],
   "source": [
    "sds_text"
   ]
  },
  {
   "cell_type": "code",
   "execution_count": null,
   "id": "dbd6f5b6",
   "metadata": {},
   "outputs": [],
   "source": [
    "sds_text.to_csv('../data/sds_sentiments.csv')"
   ]
  },
  {
   "cell_type": "code",
   "execution_count": null,
   "id": "68726912",
   "metadata": {},
   "outputs": [],
   "source": [
    "sds_sentiments = pd.read_csv('../data/sds_sentiments.csv')"
   ]
  },
  {
   "cell_type": "code",
   "execution_count": null,
   "id": "35045176",
   "metadata": {},
   "outputs": [],
   "source": [
    "sds_sentiments"
   ]
  },
  {
   "cell_type": "code",
   "execution_count": null,
   "id": "0f87f3f5",
   "metadata": {},
   "outputs": [],
   "source": [
    "sds_sentiments['guest_name'].value_counts()"
   ]
  },
  {
   "cell_type": "code",
   "execution_count": null,
   "id": "5086fe16",
   "metadata": {},
   "outputs": [],
   "source": [
    "sds_sentiments['sentiments'].describe()"
   ]
  },
  {
   "cell_type": "code",
   "execution_count": null,
   "id": "11c4d692",
   "metadata": {},
   "outputs": [],
   "source": [
    "sds_sentiments[(sds_sentiments['guest_name'] == ' Kirill Eremenko ') & (sds_sentiments['host_episode'] == 'Kirill Eremenko')]"
   ]
  },
  {
   "cell_type": "code",
   "execution_count": null,
   "id": "9d5527cb",
   "metadata": {},
   "outputs": [],
   "source": [
    "sds_sentiments[(sds_sentiments['guest_name'] == ' Jaco Van Der Berg ')]"
   ]
  },
  {
   "cell_type": "code",
   "execution_count": null,
   "id": "f1a719b6",
   "metadata": {},
   "outputs": [],
   "source": [
    "print(x['episode_split_text'])"
   ]
  },
  {
   "cell_type": "code",
   "execution_count": null,
   "id": "c3fb6361",
   "metadata": {},
   "outputs": [],
   "source": [
    "episode_sentiments = pd.DataFrame(sds_text.groupby(['episode_number', 'context_episode', 'episode_date', 'speaker'])['sentiments'].mean()).reset_index()"
   ]
  },
  {
   "cell_type": "code",
   "execution_count": null,
   "id": "b7099266",
   "metadata": {},
   "outputs": [],
   "source": [
    "episode_sentiments"
   ]
  },
  {
   "cell_type": "code",
   "execution_count": null,
   "id": "579ef73f",
   "metadata": {},
   "outputs": [],
   "source": []
  },
  {
   "cell_type": "code",
   "execution_count": null,
   "id": "99859302",
   "metadata": {},
   "outputs": [],
   "source": [
    "episode_sentiments['sentiments'].plot();"
   ]
  },
  {
   "cell_type": "code",
   "execution_count": null,
   "id": "851d2ab6",
   "metadata": {},
   "outputs": [],
   "source": [
    "episode_sentiments.info()"
   ]
  },
  {
   "cell_type": "code",
   "execution_count": null,
   "id": "c37fbef2",
   "metadata": {},
   "outputs": [],
   "source": [
    "episode_sentiments[episode_sentiments['context_episode'] == 'Data Science Artificial Intelligence']"
   ]
  },
  {
   "cell_type": "code",
   "execution_count": null,
   "id": "42d4887a",
   "metadata": {},
   "outputs": [],
   "source": [
    "episode['']"
   ]
  },
  {
   "cell_type": "code",
   "execution_count": null,
   "id": "941a914b",
   "metadata": {},
   "outputs": [],
   "source": [
    "sentiments"
   ]
  },
  {
   "cell_type": "code",
   "execution_count": null,
   "id": "9489169a",
   "metadata": {},
   "outputs": [],
   "source": [
    "sentiments['context_episode'].unique()"
   ]
  },
  {
   "cell_type": "code",
   "execution_count": null,
   "id": "1ad0657d",
   "metadata": {},
   "outputs": [],
   "source": [
    "sentiments[sentiments['context_episode'] == 'Data Science Artificial Intelligence']"
   ]
  },
  {
   "cell_type": "code",
   "execution_count": null,
   "id": "f0d7f877",
   "metadata": {},
   "outputs": [],
   "source": [
    "sds_text[sds_text['sentiments'] < 0]"
   ]
  },
  {
   "cell_type": "code",
   "execution_count": null,
   "id": "562c9151",
   "metadata": {},
   "outputs": [],
   "source": []
  },
  {
   "cell_type": "code",
   "execution_count": null,
   "id": "9ad47358",
   "metadata": {},
   "outputs": [],
   "source": [
    "sds_1['sentiments'] = sds_1['episode_split_text'].apply(sentiment_analysis)"
   ]
  },
  {
   "cell_type": "code",
   "execution_count": null,
   "id": "6632a725",
   "metadata": {},
   "outputs": [],
   "source": [
    "sds_1"
   ]
  },
  {
   "cell_type": "code",
   "execution_count": null,
   "id": "3dcf9e8c",
   "metadata": {},
   "outputs": [],
   "source": [
    "sds_1['sentiment_polarity'] = None\n",
    "sds_1['sentiment_subjectivity'] = None\n",
    "sds_1['sentiment_assessment'] = None"
   ]
  },
  {
   "cell_type": "code",
   "execution_count": null,
   "id": "a9339fc0",
   "metadata": {},
   "outputs": [],
   "source": [
    "sds_1"
   ]
  },
  {
   "cell_type": "code",
   "execution_count": null,
   "id": "2121bf62",
   "metadata": {},
   "outputs": [],
   "source": [
    "def sentiment_analysis(text):\n",
    "    global sds_1  # Assuming `sds_1` is a global variable or defined outside the function\n",
    "    \n",
    "    doc = nlp(text)  # Process the text string\n",
    "    \n",
    "    polarity = doc._.polarity  # Access the polarity from the processed document\n",
    "    subjectivity = doc._.subjectivity  # Access the subjectivity from the processed document\n",
    "    assessment = doc._.assessments  # Access the sentiment assessments from the processed document\n",
    "    \n",
    "    sds_1['sentiment_polarity'] = polarity\n",
    "    sds_1['sentiment_subjectivity'] = subjectivity\n",
    "    sds_1['sentiment_assessment'] = assessment"
   ]
  },
  {
   "cell_type": "code",
   "execution_count": null,
   "id": "6dcc38a3",
   "metadata": {},
   "outputs": [],
   "source": [
    "sds_text['sentiment_polarity'] = None\n",
    "sds_text['sentiment_subjectivity'] = None\n",
    "sds_text['sentiment_assessment'] = None"
   ]
  },
  {
   "cell_type": "code",
   "execution_count": null,
   "id": "a8f29e45",
   "metadata": {},
   "outputs": [],
   "source": [
    "from spacy.tokens import Doc\n",
    "\n",
    "def set_sentiment_assessments(doc, assessments):\n",
    "    doc._.set(\"sentiment_assessments\", assessments)\n",
    "\n",
    "# Register the extension attribute\n",
    "Doc.set_extension(\"sentiment_assessments\", default=None)"
   ]
  },
  {
   "cell_type": "code",
   "execution_count": null,
   "id": "e2f00df0",
   "metadata": {},
   "outputs": [],
   "source": [
    "sentiment_analysis(sds_text['episode_split_text'])"
   ]
  },
  {
   "cell_type": "code",
   "execution_count": null,
   "id": "ce17c0db",
   "metadata": {},
   "outputs": [],
   "source": [
    "ds_1['sentiments'] = ds_1['episode_split_text'].apply(sentiment_analysis)"
   ]
  }
 ],
 "metadata": {
  "kernelspec": {
   "display_name": "Python 3 (ipykernel)",
   "language": "python",
   "name": "python3"
  },
  "language_info": {
   "codemirror_mode": {
    "name": "ipython",
    "version": 3
   },
   "file_extension": ".py",
   "mimetype": "text/x-python",
   "name": "python",
   "nbconvert_exporter": "python",
   "pygments_lexer": "ipython3",
   "version": "3.9.12"
  }
 },
 "nbformat": 4,
 "nbformat_minor": 5
}
