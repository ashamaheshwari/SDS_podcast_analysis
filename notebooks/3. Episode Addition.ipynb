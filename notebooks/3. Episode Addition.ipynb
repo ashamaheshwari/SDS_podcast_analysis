{
 "cells": [
  {
   "cell_type": "markdown",
   "id": "6571b617",
   "metadata": {},
   "source": [
    "## SuperDataScience Podcast NLP Analysis\n",
    "\n",
    "### Notebook# 3: Episode Addition"
   ]
  },
  {
   "cell_type": "markdown",
   "id": "5cdd9a38",
   "metadata": {},
   "source": [
    "This notebook was created to add additional 4 new episodes text to actual dataframe created in Notebook#2 SDS Episodes Web Scraping. "
   ]
  },
  {
   "cell_type": "code",
   "execution_count": 1,
   "id": "28812103",
   "metadata": {},
   "outputs": [],
   "source": [
    "import requests\n",
    "from bs4 import BeautifulSoup as BS\n",
    "import pandas as pd\n",
    "import re\n",
    "import numpy as np\n",
    "from selenium import webdriver\n",
    "from selenium.webdriver.common.by import By\n",
    "import time\n",
    "import warnings"
   ]
  },
  {
   "cell_type": "code",
   "execution_count": 2,
   "id": "ec26973d",
   "metadata": {},
   "outputs": [],
   "source": [
    "# Manually passing list of URl for new episodes\n",
    "url = ['https://www.superdatascience.com/podcast/automating-industrial-machines-with-data-science-and-the-internet-of-things-iot',\n",
    "       'https://www.superdatascience.com/podcast/xgboost-the-ultimate-classifier-with-matt-harrison',\n",
    "       'https://www.superdatascience.com/podcast/business-intelligence-tools-with-mico-yuk',\n",
    "       'https://www.superdatascience.com/podcast/contextual-ai-for-adapting-to-adversaries-with-dr-matar-haller'\n",
    "      ]"
   ]
  },
  {
   "cell_type": "code",
   "execution_count": 3,
   "id": "231d60c7",
   "metadata": {},
   "outputs": [],
   "source": [
    "superdatascience = pd.DataFrame(columns = ['episode_name',\n",
    "                              'length_episode',\n",
    "                              'context_episode',\n",
    "                              'guest_name',\n",
    "                              'guest_info',\n",
    "                              'text_episode'])\n",
    "\n",
    "\n",
    "\n",
    "def SDS_Scraper(url_links):\n",
    "    \n",
    "    driver = webdriver.Chrome()\n",
    "\n",
    "    \n",
    "    global superdatascience\n",
    "\n",
    "    #List of variables\n",
    "    episode = \"\"\n",
    "    length = \"\"\n",
    "    context = \"\"\n",
    "    guest = \"\"\n",
    "    info = \"\"\n",
    "    text = \"\"\n",
    "\n",
    "    for url in url_links:\n",
    "        driver.get(url)\n",
    "        time.sleep(10)\n",
    "    \n",
    "        html_content = driver.page_source\n",
    "        soup = BS(html_content, 'html.parser')\n",
    "    \n",
    "        topic_element = soup.find('h2')\n",
    "        episode = topic_element.text.strip()\n",
    "    \n",
    "        p_element = soup.find('p', class_='read-time')\n",
    "        length = p_element.text.strip()\n",
    "     \n",
    "        tag_element = soup.find('p', class_='tags')\n",
    "        context = tag_element.text.strip()\n",
    "    \n",
    "        guest_element = soup.find('div', class_='information')\n",
    "        guest = guest_element.text.strip()\n",
    "        \n",
    "        guest_info_element = soup.find('div', {'class': 'block-animation'})\n",
    "        info = guest_info_element.text.strip()\n",
    "      \n",
    "        text_element = soup.find('div', {'class': 'content block-animation'})\n",
    "        if text_element is not None:\n",
    "            text = text_element.text.strip()\n",
    "        else: \n",
    "            text = None\n",
    "    \n",
    "        superdatascience = superdatascience.append({'episode_name': episode, \n",
    "                                                'length_episode': length, \n",
    "                                                'context_episode' : context, \n",
    "                                                'guest_name': guest,\n",
    "                                                 'guest_info': info,  \n",
    "                                                'text_episode': text}, ignore_index = True) \n",
    "        time.sleep(3)\n",
    "       \n",
    "    driver.close()"
   ]
  },
  {
   "cell_type": "code",
   "execution_count": 4,
   "id": "1acd3286",
   "metadata": {},
   "outputs": [
    {
     "name": "stderr",
     "output_type": "stream",
     "text": [
      "/var/folders/s3/9_r9v9px7_v0q69b5zcbnmsm0000gn/T/ipykernel_2098/1915891756.py:53: FutureWarning: The frame.append method is deprecated and will be removed from pandas in a future version. Use pandas.concat instead.\n",
      "  superdatascience = superdatascience.append({'episode_name': episode,\n",
      "/var/folders/s3/9_r9v9px7_v0q69b5zcbnmsm0000gn/T/ipykernel_2098/1915891756.py:53: FutureWarning: The frame.append method is deprecated and will be removed from pandas in a future version. Use pandas.concat instead.\n",
      "  superdatascience = superdatascience.append({'episode_name': episode,\n",
      "/var/folders/s3/9_r9v9px7_v0q69b5zcbnmsm0000gn/T/ipykernel_2098/1915891756.py:53: FutureWarning: The frame.append method is deprecated and will be removed from pandas in a future version. Use pandas.concat instead.\n",
      "  superdatascience = superdatascience.append({'episode_name': episode,\n",
      "/var/folders/s3/9_r9v9px7_v0q69b5zcbnmsm0000gn/T/ipykernel_2098/1915891756.py:53: FutureWarning: The frame.append method is deprecated and will be removed from pandas in a future version. Use pandas.concat instead.\n",
      "  superdatascience = superdatascience.append({'episode_name': episode,\n"
     ]
    }
   ],
   "source": [
    "SDS_Scraper(url)"
   ]
  },
  {
   "cell_type": "code",
   "execution_count": null,
   "id": "b42155c6",
   "metadata": {},
   "outputs": [],
   "source": [
    "# Import file created in notebook# 2\n",
    "sds = pd.read_csv('../data/SDS_1_678.csv')"
   ]
  },
  {
   "cell_type": "code",
   "execution_count": null,
   "id": "f53619ef",
   "metadata": {},
   "outputs": [],
   "source": [
    "sds.head(2)"
   ]
  },
  {
   "cell_type": "code",
   "execution_count": null,
   "id": "c7662a3c",
   "metadata": {},
   "outputs": [],
   "source": [
    "superdatascience = pd.concat([sds, superdatascience], ignore_index=True, sort=False)"
   ]
  },
  {
   "cell_type": "code",
   "execution_count": null,
   "id": "d9c0e048",
   "metadata": {},
   "outputs": [],
   "source": [
    "superdatascience.to_csv('../data/superdatascience.csv', index = False)"
   ]
  },
  {
   "cell_type": "code",
   "execution_count": null,
   "id": "5f5c5a23",
   "metadata": {},
   "outputs": [],
   "source": []
  }
 ],
 "metadata": {
  "kernelspec": {
   "display_name": "Python 3 (ipykernel)",
   "language": "python",
   "name": "python3"
  },
  "language_info": {
   "codemirror_mode": {
    "name": "ipython",
    "version": 3
   },
   "file_extension": ".py",
   "mimetype": "text/x-python",
   "name": "python",
   "nbconvert_exporter": "python",
   "pygments_lexer": "ipython3",
   "version": "3.9.12"
  }
 },
 "nbformat": 4,
 "nbformat_minor": 5
}
