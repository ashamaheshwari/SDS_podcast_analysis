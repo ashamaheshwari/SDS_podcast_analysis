{
 "cells": [
  {
   "cell_type": "code",
   "execution_count": 3,
   "id": "363296d7",
   "metadata": {},
   "outputs": [],
   "source": [
    "import pandas as pd\n",
    "import spacy\n",
    "from spacytextblob.spacytextblob import SpacyTextBlob\n",
    "import matplotlib.pyplot as plt\n",
    "import seaborn as sns"
   ]
  },
  {
   "cell_type": "code",
   "execution_count": null,
   "id": "8d83c8e8",
   "metadata": {},
   "outputs": [],
   "source": [
    "nlp = spacy.load(\"en_core_web_sm\")"
   ]
  },
  {
   "cell_type": "code",
   "execution_count": null,
   "id": "3bfee00a",
   "metadata": {},
   "outputs": [],
   "source": [
    "sds_data = pd.read_csv('../data/sds_ds_text.csv')\n",
    "#sds_non_data = pd.read_csv('../data/sds_nds_text.csv')"
   ]
  },
  {
   "cell_type": "code",
   "execution_count": null,
   "id": "21970725",
   "metadata": {},
   "outputs": [],
   "source": [
    "sds_data"
   ]
  },
  {
   "cell_type": "code",
   "execution_count": null,
   "id": "7d9e7b01",
   "metadata": {},
   "outputs": [],
   "source": [
    "sds_non_data.head(2)"
   ]
  },
  {
   "cell_type": "markdown",
   "id": "0c8aa21c",
   "metadata": {},
   "source": [
    "#### Adding textblob to nlp pipeline"
   ]
  },
  {
   "cell_type": "code",
   "execution_count": null,
   "id": "10d5c7e6",
   "metadata": {},
   "outputs": [],
   "source": [
    "nlp.components"
   ]
  },
  {
   "cell_type": "code",
   "execution_count": null,
   "id": "52987d23",
   "metadata": {},
   "outputs": [],
   "source": [
    "nlp.add_pipe(\"spacytextblob\")"
   ]
  },
  {
   "cell_type": "code",
   "execution_count": null,
   "id": "030d4ccc",
   "metadata": {},
   "outputs": [],
   "source": [
    "nlp.components"
   ]
  },
  {
   "cell_type": "markdown",
   "id": "7f1281d8",
   "metadata": {},
   "source": [
    "### Sentiment Analysis for datascience relevant episodes"
   ]
  },
  {
   "cell_type": "code",
   "execution_count": null,
   "id": "4f9b5511",
   "metadata": {},
   "outputs": [],
   "source": [
    "# Getting the polarity\n",
    "def sentiment_analysis(text):\n",
    "    global sds_data\n",
    "    \n",
    "    if isinstance(text, float): # added this if statement because due to [E1041] Expected a string, Doc, or bytes as input, but got: <class 'float'>\n",
    "        return 0.0  # Return neutral sentiment for float values\n",
    "    doc = nlp(text)\n",
    "    polarity = doc._.blob.polarity\n",
    "    return polarity"
   ]
  },
  {
   "cell_type": "code",
   "execution_count": null,
   "id": "e60af7c9",
   "metadata": {},
   "outputs": [],
   "source": [
    "# Getting the subjectivity\n",
    "def subjectivity_analysis(text):\n",
    "    global sds_data\n",
    "    \n",
    "    if isinstance(text, float): # added this if statement because due to [E1041] Expected a string, Doc, or bytes as input, but got: <class 'float'>\n",
    "        return 0.0  # Return neutral sentiment for float values\n",
    "    doc = nlp(text)\n",
    "    subjectivity = doc._.blob.subjectivity\n",
    "    return subjectivity"
   ]
  },
  {
   "cell_type": "code",
   "execution_count": null,
   "id": "acb41fb4",
   "metadata": {},
   "outputs": [],
   "source": [
    "# Getting the subjectivity\n",
    "def assessment_analysis(text):\n",
    "    global sds_data\n",
    "    \n",
    "    if isinstance(text, float): # added this if statement because due to [E1041] Expected a string, Doc, or bytes as input, but got: <class 'float'>\n",
    "        return 0.0  # Return neutral sentiment for float values\n",
    "    doc = nlp(text)\n",
    "    assessment = doc._.assessments\n",
    "    return assessment"
   ]
  },
  {
   "cell_type": "code",
   "execution_count": null,
   "id": "343acfb0",
   "metadata": {},
   "outputs": [],
   "source": [
    "sds_data['sentiments'] = sds_data['episode_split_text'].apply(sentiment_analysis)"
   ]
  },
  {
   "cell_type": "code",
   "execution_count": null,
   "id": "46dac79a",
   "metadata": {},
   "outputs": [],
   "source": [
    "sds_data['subjectivity'] = sds_data['episode_split_text'].apply(subjectivity_analysis)"
   ]
  },
  {
   "cell_type": "code",
   "execution_count": null,
   "id": "97acfb62",
   "metadata": {},
   "outputs": [],
   "source": [
    "sds_data['assessment'] = sds_data['episode_split_text'].apply(assessment_analysis)"
   ]
  },
  {
   "cell_type": "code",
   "execution_count": null,
   "id": "eeff0064",
   "metadata": {},
   "outputs": [],
   "source": [
    "def getAnalysis(score):\n",
    "    if score < -0.5:\n",
    "        return \"Highly Negative\"\n",
    "    elif score < 0:\n",
    "        return \"Negative\"\n",
    "    elif score == 0:\n",
    "        return \"Neutral\"\n",
    "    elif score > 0.5:\n",
    "        return \"Highly Positive\"\n",
    "    else:\n",
    "        return \"Positive\""
   ]
  },
  {
   "cell_type": "code",
   "execution_count": null,
   "id": "ac3db0b3",
   "metadata": {},
   "outputs": [],
   "source": [
    "sds_data['result_score'] = sds_data['sentiments'].apply(getAnalysis)"
   ]
  },
  {
   "cell_type": "code",
   "execution_count": null,
   "id": "067c09b6",
   "metadata": {},
   "outputs": [],
   "source": [
    "sds_data"
   ]
  },
  {
   "cell_type": "code",
   "execution_count": null,
   "id": "e3dc23ab",
   "metadata": {},
   "outputs": [],
   "source": [
    "sds_data = sds_data[~(((sds_data['guest_name'] == ' Kirill Eremenko ') & (sds_data['host_episode'] == 'Jon Krohn')) & ((sds_data['guest_name'] == ' Jon Krohn ') & (sds_data['host_episode'] == 'Kirril Eremenko')))]"
   ]
  },
  {
   "cell_type": "code",
   "execution_count": null,
   "id": "e04eea79",
   "metadata": {},
   "outputs": [],
   "source": [
    "sds_data['episode_number'].unique()"
   ]
  },
  {
   "cell_type": "code",
   "execution_count": null,
   "id": "6c56e540",
   "metadata": {},
   "outputs": [],
   "source": [
    "Kirill"
   ]
  },
  {
   "cell_type": "code",
   "execution_count": null,
   "id": "9a01bfe8",
   "metadata": {},
   "outputs": [],
   "source": [
    "sds_data[\"assessment\"].loc[20]"
   ]
  },
  {
   "cell_type": "code",
   "execution_count": null,
   "id": "51c4b8b2",
   "metadata": {},
   "outputs": [],
   "source": [
    "def tuple_extractor(row):\n",
    "    words = [t[0] for t in row]\n",
    "    return words"
   ]
  },
  {
   "cell_type": "code",
   "execution_count": null,
   "id": "90a65e88",
   "metadata": {},
   "outputs": [],
   "source": [
    "sds_data['words'] = sds_data['assessment'].apply(tuple_extractor)"
   ]
  },
  {
   "cell_type": "code",
   "execution_count": null,
   "id": "0f67ef91",
   "metadata": {},
   "outputs": [],
   "source": [
    "sds_data['words'].loc[10]"
   ]
  },
  {
   "cell_type": "code",
   "execution_count": null,
   "id": "80965477",
   "metadata": {},
   "outputs": [],
   "source": []
  },
  {
   "cell_type": "code",
   "execution_count": null,
   "id": "49293d7a",
   "metadata": {},
   "outputs": [],
   "source": [
    "from wordcloud import WordCloud\n",
    "import matplotlib.pyplot as plt"
   ]
  },
  {
   "cell_type": "code",
   "execution_count": null,
   "id": "d6529483",
   "metadata": {},
   "outputs": [],
   "source": [
    "\n"
   ]
  },
  {
   "cell_type": "code",
   "execution_count": null,
   "id": "dbd6f5b6",
   "metadata": {},
   "outputs": [],
   "source": [
    "sds_data.to_csv('../data/sds_ds_sentiments.csv', index = False)"
   ]
  },
  {
   "cell_type": "code",
   "execution_count": null,
   "id": "43c24fc6",
   "metadata": {},
   "outputs": [],
   "source": [
    "sds_data"
   ]
  },
  {
   "cell_type": "code",
   "execution_count": null,
   "id": "4e60f17d",
   "metadata": {},
   "outputs": [],
   "source": [
    "sds_data"
   ]
  },
  {
   "cell_type": "code",
   "execution_count": null,
   "id": "fd95d56d",
   "metadata": {},
   "outputs": [],
   "source": [
    "len(sds_data['episode_split_text'])"
   ]
  },
  {
   "cell_type": "code",
   "execution_count": null,
   "id": "36710449",
   "metadata": {},
   "outputs": [],
   "source": [
    "sds_data['result_score'].value_counts()"
   ]
  },
  {
   "cell_type": "code",
   "execution_count": null,
   "id": "5725ccad",
   "metadata": {},
   "outputs": [],
   "source": [
    "# Let’s plot the results\n",
    "import matplotlib.pyplot as plt\n",
    "%matplotlib inline\n",
    "\n",
    "#plt.rcParams['figure.figsize'] = [10, 8]\n",
    "\n",
    "for index, episode_split_text in enumerate(sds_sentiments.index):\n",
    "    x = sds_sentiments.sentiments.loc[episode_split_text]\n",
    "    y = sds_sentiments.subjectivity.loc[episode_split_text]\n",
    "    plt.scatter(x, y, color='Red')\n",
    "    plt.title('Sentiment Analysis', fontsize = 20)\n",
    "    plt.xlabel('← Negative — — — — — — Positive →', fontsize = 15)\n",
    "    plt.ylabel('← Facts — — — — — — — Opinions →', fontsize = 15)\n",
    "    plt.show()"
   ]
  },
  {
   "cell_type": "markdown",
   "id": "2b0de259",
   "metadata": {},
   "source": [
    "### Sentiments EDA"
   ]
  },
  {
   "cell_type": "code",
   "execution_count": null,
   "id": "19374e03",
   "metadata": {},
   "outputs": [],
   "source": [
    "sds_data = pd.read_csv('../data/sds_ds_sentiments.csv')"
   ]
  },
  {
   "cell_type": "code",
   "execution_count": null,
   "id": "500fa886",
   "metadata": {},
   "outputs": [],
   "source": [
    "sds_data"
   ]
  },
  {
   "cell_type": "code",
   "execution_count": null,
   "id": "e2ef188b",
   "metadata": {},
   "outputs": [],
   "source": [
    "sds_data['episode_number'].nunique()"
   ]
  },
  {
   "cell_type": "code",
   "execution_count": null,
   "id": "8e6c6b39",
   "metadata": {},
   "outputs": [],
   "source": [
    "sds_data = sds_data[~(((sds_data['guest_name'] == ' Kirill Eremenko ') & (sds_data['host_episode'] == 'Kirill Eremenko')) | ((sds_data['guest_name'] == ' Jon Krohn ') & (sds_data['host_episode'] == 'Jon Krohn')))]"
   ]
  },
  {
   "cell_type": "code",
   "execution_count": null,
   "id": "efd0fb56",
   "metadata": {},
   "outputs": [],
   "source": [
    "Krohn = sds_data[(sds_data['host_episode'] == 'Kirill Eremenko') & (sds_data['guest_name'] == ' Jon Krohn ')]"
   ]
  },
  {
   "cell_type": "code",
   "execution_count": null,
   "id": "b8d843fb",
   "metadata": {},
   "outputs": [],
   "source": [
    "Kirill = sds_data[(sds_data['host_episode'] == 'Jon Krohn' ) & (sds_data['guest_name'] == ' Kirill Eremenko ')]"
   ]
  },
  {
   "cell_type": "code",
   "execution_count": null,
   "id": "3357c645",
   "metadata": {},
   "outputs": [],
   "source": [
    "sds_data = sds_data[~(((sds_data['host_episode'] == 'Jon Krohn' ) & (sds_data['guest_name'] == ' Kirill Eremenko ')) | ((sds_data['host_episode'] == 'Kirill Eremenko') & (sds_data['guest_name'] == ' Jon Krohn ')))]"
   ]
  },
  {
   "cell_type": "code",
   "execution_count": null,
   "id": "103af2d7",
   "metadata": {},
   "outputs": [],
   "source": [
    "sds_data['episode_number'].unique()"
   ]
  },
  {
   "cell_type": "code",
   "execution_count": null,
   "id": "22f25071",
   "metadata": {},
   "outputs": [],
   "source": [
    "sds_data['speaker'].unique()"
   ]
  },
  {
   "cell_type": "code",
   "execution_count": null,
   "id": "3c13fcbc",
   "metadata": {},
   "outputs": [],
   "source": [
    "host_sentiments = sds_data[(sds_data['speaker'] == 'Kirill Eremenko') | (sds_data['speaker'] == 'Kirill') | (sds_data['speaker'] == 'Jon Krohn')]"
   ]
  },
  {
   "cell_type": "code",
   "execution_count": null,
   "id": "55d02d75",
   "metadata": {},
   "outputs": [],
   "source": [
    "guest_sentiments = sds_data[~((sds_data['speaker'] == 'Kirill Eremenko') | (sds_data['speaker'] == 'Kirill') | (sds_data['speaker'] == 'Jon Krohn'))]"
   ]
  },
  {
   "cell_type": "code",
   "execution_count": null,
   "id": "507fc3da",
   "metadata": {},
   "outputs": [],
   "source": [
    "guest_sentiments['speaker'].unique()"
   ]
  },
  {
   "cell_type": "code",
   "execution_count": null,
   "id": "cbecac8b",
   "metadata": {},
   "outputs": [],
   "source": [
    "host_sentiments['speaker'].unique()"
   ]
  },
  {
   "cell_type": "code",
   "execution_count": null,
   "id": "5e07ce66",
   "metadata": {},
   "outputs": [],
   "source": [
    "jon_host = Kirill[Kirill['speaker'] == 'Jon Krohn']"
   ]
  },
  {
   "cell_type": "code",
   "execution_count": null,
   "id": "c9b7291e",
   "metadata": {},
   "outputs": [],
   "source": [
    "Kirill_guest = Kirill[Kirill['speaker'] == 'Kirill Eremenko']"
   ]
  },
  {
   "cell_type": "code",
   "execution_count": null,
   "id": "f2cb2e34",
   "metadata": {},
   "outputs": [],
   "source": [
    "jon_guest = Krohn[Krohn['speaker'] == 'Jon Krohn']"
   ]
  },
  {
   "cell_type": "code",
   "execution_count": null,
   "id": "050f79a7",
   "metadata": {},
   "outputs": [],
   "source": [
    "Kirill_host = Krohn[Krohn['speaker'] == 'Kirill Eremenko']"
   ]
  },
  {
   "cell_type": "code",
   "execution_count": null,
   "id": "9f45ce76",
   "metadata": {},
   "outputs": [],
   "source": [
    "guest_sentiments = pd.concat([guest_sentiments, Kirill_guest])"
   ]
  },
  {
   "cell_type": "code",
   "execution_count": null,
   "id": "5f3bab13",
   "metadata": {},
   "outputs": [],
   "source": [
    "guest_sentiments = pd.concat([guest_sentiments, jon_guest])"
   ]
  },
  {
   "cell_type": "code",
   "execution_count": null,
   "id": "755206eb",
   "metadata": {},
   "outputs": [],
   "source": [
    "host_sentiments = pd.concat([host_sentiments, Kirill_host])"
   ]
  },
  {
   "cell_type": "code",
   "execution_count": null,
   "id": "884cde3c",
   "metadata": {},
   "outputs": [],
   "source": [
    "host_sentiments = pd.concat([host_sentiments, jon_host])"
   ]
  },
  {
   "cell_type": "code",
   "execution_count": null,
   "id": "3144f3c6",
   "metadata": {},
   "outputs": [],
   "source": [
    "guest_sentiments['episode_number'].unique()"
   ]
  },
  {
   "cell_type": "code",
   "execution_count": null,
   "id": "9745ac06",
   "metadata": {},
   "outputs": [],
   "source": [
    "host_sentiments = host_sentiments.sort_values('episode_number').reset_index(drop = True)"
   ]
  },
  {
   "cell_type": "code",
   "execution_count": null,
   "id": "dca36cb7",
   "metadata": {},
   "outputs": [],
   "source": [
    "guest_sentiments = guest_sentiments.sort_values('episode_number').reset_index(drop = True)"
   ]
  },
  {
   "cell_type": "code",
   "execution_count": null,
   "id": "5c13cbf1",
   "metadata": {},
   "outputs": [],
   "source": [
    "guest_sentiments"
   ]
  },
  {
   "cell_type": "code",
   "execution_count": null,
   "id": "3d1235c5",
   "metadata": {},
   "outputs": [],
   "source": [
    "host_sentiments.to_csv('../data/host_sentiments.csv', index = False)"
   ]
  },
  {
   "cell_type": "code",
   "execution_count": null,
   "id": "03409420",
   "metadata": {},
   "outputs": [],
   "source": [
    "guest_sentiments.to_csv('../data/guest_sentiments.csv', index = False)"
   ]
  },
  {
   "cell_type": "code",
   "execution_count": 1,
   "id": "48a3a059",
   "metadata": {},
   "outputs": [
    {
     "data": {
      "application/javascript": [
       "\n",
       "        if (window._pyforest_update_imports_cell) { window._pyforest_update_imports_cell('import pandas as pd'); }\n",
       "    "
      ],
      "text/plain": [
       "<IPython.core.display.Javascript object>"
      ]
     },
     "metadata": {},
     "output_type": "display_data"
    }
   ],
   "source": [
    "host_sentiments = pd.read_csv('../data/host_sentiments.csv')"
   ]
  },
  {
   "cell_type": "code",
   "execution_count": 2,
   "id": "09194279",
   "metadata": {},
   "outputs": [
    {
     "data": {
      "application/javascript": [
       "\n",
       "        if (window._pyforest_update_imports_cell) { window._pyforest_update_imports_cell('import pandas as pd'); }\n",
       "    "
      ],
      "text/plain": [
       "<IPython.core.display.Javascript object>"
      ]
     },
     "metadata": {},
     "output_type": "display_data"
    }
   ],
   "source": [
    "guest_sentiments = pd.read_csv('../data/guest_sentiments.csv')"
   ]
  },
  {
   "cell_type": "code",
   "execution_count": 21,
   "id": "f089b385",
   "metadata": {},
   "outputs": [
    {
     "data": {
      "text/plain": [
       "\"[(['thanks'], 0.2, 0.2, None), (['great'], 0.8, 0.75, None)]\""
      ]
     },
     "execution_count": 21,
     "metadata": {},
     "output_type": "execute_result"
    }
   ],
   "source": [
    "guest_sentiments[\"assessment\"].loc[0]"
   ]
  },
  {
   "cell_type": "code",
   "execution_count": 23,
   "id": "3fc058f3",
   "metadata": {},
   "outputs": [
    {
     "ename": "NameError",
     "evalue": "name 'sds_sentiments' is not defined",
     "output_type": "error",
     "traceback": [
      "\u001b[0;31m---------------------------------------------------------------------------\u001b[0m",
      "\u001b[0;31mNameError\u001b[0m                                 Traceback (most recent call last)",
      "Cell \u001b[0;32mIn[23], line 1\u001b[0m\n\u001b[0;32m----> 1\u001b[0m \u001b[43msds_sentiments\u001b[49m[sds_sentiments[\u001b[38;5;124m\"\u001b[39m\u001b[38;5;124mguest_episode\u001b[39m\u001b[38;5;124m\"\u001b[39m] \u001b[38;5;241m==\u001b[39m \u001b[38;5;124m'\u001b[39m\u001b[38;5;124mkhai pham\u001b[39m\u001b[38;5;124m'\u001b[39m]\n",
      "\u001b[0;31mNameError\u001b[0m: name 'sds_sentiments' is not defined"
     ]
    }
   ],
   "source": [
    "sds_sentiments[sds_sentiments[\"guest_episode\"] == 'khai pham']"
   ]
  },
  {
   "cell_type": "code",
   "execution_count": 17,
   "id": "2451c25b",
   "metadata": {},
   "outputs": [],
   "source": [
    "mean = guest_sentiments.groupby(['class'])['result_score'].value_counts()"
   ]
  },
  {
   "cell_type": "code",
   "execution_count": 18,
   "id": "abb75360",
   "metadata": {},
   "outputs": [
    {
     "data": {
      "text/plain": [
       "class                            result_score   \n",
       "Artificial Intelligence          Positive           2471\n",
       "                                 Neutral             551\n",
       "                                 Negative            483\n",
       "                                 Highly Positive     125\n",
       "                                 Highly Negative      16\n",
       "                                                    ... \n",
       "Programming                      Highly Negative       5\n",
       "Programming, Data Visualization  Positive            173\n",
       "                                 Neutral              35\n",
       "                                 Negative             19\n",
       "                                 Highly Positive       6\n",
       "Name: result_score, Length: 70, dtype: int64"
      ]
     },
     "execution_count": 18,
     "metadata": {},
     "output_type": "execute_result"
    }
   ],
   "source": [
    "mean"
   ]
  },
  {
   "cell_type": "code",
   "execution_count": 26,
   "id": "6e2714db",
   "metadata": {},
   "outputs": [],
   "source": [
    "pandemic = guest_sentiments[(guest_sentiments['episode_year'] == 2019) | (host_sentiments['episode_year'] == 2019)]"
   ]
  },
  {
   "cell_type": "code",
   "execution_count": 27,
   "id": "732582c3",
   "metadata": {},
   "outputs": [
    {
     "data": {
      "text/html": [
       "<div>\n",
       "<style scoped>\n",
       "    .dataframe tbody tr th:only-of-type {\n",
       "        vertical-align: middle;\n",
       "    }\n",
       "\n",
       "    .dataframe tbody tr th {\n",
       "        vertical-align: top;\n",
       "    }\n",
       "\n",
       "    .dataframe thead th {\n",
       "        text-align: right;\n",
       "    }\n",
       "</style>\n",
       "<table border=\"1\" class=\"dataframe\">\n",
       "  <thead>\n",
       "    <tr style=\"text-align: right;\">\n",
       "      <th></th>\n",
       "      <th>episode_name</th>\n",
       "      <th>length_episode</th>\n",
       "      <th>context_episode</th>\n",
       "      <th>guest_name</th>\n",
       "      <th>guest_info</th>\n",
       "      <th>text_episode</th>\n",
       "      <th>episode_number</th>\n",
       "      <th>episode_date</th>\n",
       "      <th>episode_year</th>\n",
       "      <th>episode_day</th>\n",
       "      <th>host_episode</th>\n",
       "      <th>class</th>\n",
       "      <th>episode_split_text</th>\n",
       "      <th>speaker</th>\n",
       "      <th>sentiments</th>\n",
       "      <th>subjectivity</th>\n",
       "      <th>assessment</th>\n",
       "      <th>result_score</th>\n",
       "    </tr>\n",
       "  </thead>\n",
       "  <tbody>\n",
       "    <tr>\n",
       "      <th>6723</th>\n",
       "      <td>The Benefit of Having a Diverse Skill Set</td>\n",
       "      <td>57</td>\n",
       "      <td>Data Science Data Visualization</td>\n",
       "      <td>Anna Foard</td>\n",
       "      <td>Subscribe on Website, Apple Podcasts, Spotify,...</td>\n",
       "      <td>Kirill Eremenko:\\tThis is episode number 225 w...</td>\n",
       "      <td>225</td>\n",
       "      <td>2019-01-10</td>\n",
       "      <td>2019</td>\n",
       "      <td>Thursday</td>\n",
       "      <td>Kirill Eremenko</td>\n",
       "      <td>Data Visualization</td>\n",
       "      <td>I think reading over the last year has helped ...</td>\n",
       "      <td>Anna Foard</td>\n",
       "      <td>0.142857</td>\n",
       "      <td>0.259524</td>\n",
       "      <td>[(['last'], 0.0, 0.06666666666666667, None), (...</td>\n",
       "      <td>Positive</td>\n",
       "    </tr>\n",
       "    <tr>\n",
       "      <th>6724</th>\n",
       "      <td>The Benefit of Having a Diverse Skill Set</td>\n",
       "      <td>57</td>\n",
       "      <td>Data Science Data Visualization</td>\n",
       "      <td>Anna Foard</td>\n",
       "      <td>Subscribe on Website, Apple Podcasts, Spotify,...</td>\n",
       "      <td>Kirill Eremenko:\\tThis is episode number 225 w...</td>\n",
       "      <td>225</td>\n",
       "      <td>2019-01-10</td>\n",
       "      <td>2019</td>\n",
       "      <td>Thursday</td>\n",
       "      <td>Kirill Eremenko</td>\n",
       "      <td>Data Visualization</td>\n",
       "      <td>I already had it.  Yes, I bought it right when...</td>\n",
       "      <td>Anna Foard</td>\n",
       "      <td>0.161905</td>\n",
       "      <td>0.278571</td>\n",
       "      <td>[(['right'], 0.2857142857142857, 0.53571428571...</td>\n",
       "      <td>Positive</td>\n",
       "    </tr>\n",
       "    <tr>\n",
       "      <th>6725</th>\n",
       "      <td>The Benefit of Having a Diverse Skill Set</td>\n",
       "      <td>57</td>\n",
       "      <td>Data Science Data Visualization</td>\n",
       "      <td>Anna Foard</td>\n",
       "      <td>Subscribe on Website, Apple Podcasts, Spotify,...</td>\n",
       "      <td>Kirill Eremenko:\\tThis is episode number 225 w...</td>\n",
       "      <td>225</td>\n",
       "      <td>2019-01-10</td>\n",
       "      <td>2019</td>\n",
       "      <td>Thursday</td>\n",
       "      <td>Kirill Eremenko</td>\n",
       "      <td>Data Visualization</td>\n",
       "      <td>That is one of my favorite parts, and that is...</td>\n",
       "      <td>Anna Foard</td>\n",
       "      <td>0.197959</td>\n",
       "      <td>0.447959</td>\n",
       "      <td>[(['favorite'], 0.5, 1.0, None), (['personal']...</td>\n",
       "      <td>Positive</td>\n",
       "    </tr>\n",
       "    <tr>\n",
       "      <th>6726</th>\n",
       "      <td>The Benefit of Having a Diverse Skill Set</td>\n",
       "      <td>57</td>\n",
       "      <td>Data Science Data Visualization</td>\n",
       "      <td>Anna Foard</td>\n",
       "      <td>Subscribe on Website, Apple Podcasts, Spotify,...</td>\n",
       "      <td>Kirill Eremenko:\\tThis is episode number 225 w...</td>\n",
       "      <td>225</td>\n",
       "      <td>2019-01-10</td>\n",
       "      <td>2019</td>\n",
       "      <td>Thursday</td>\n",
       "      <td>Kirill Eremenko</td>\n",
       "      <td>Data Visualization</td>\n",
       "      <td>Yes, and the anecdotes that you like to tell ...</td>\n",
       "      <td>Anna Foard</td>\n",
       "      <td>0.000000</td>\n",
       "      <td>0.000000</td>\n",
       "      <td>[]</td>\n",
       "      <td>Neutral</td>\n",
       "    </tr>\n",
       "    <tr>\n",
       "      <th>6727</th>\n",
       "      <td>The Benefit of Having a Diverse Skill Set</td>\n",
       "      <td>57</td>\n",
       "      <td>Data Science Data Visualization</td>\n",
       "      <td>Anna Foard</td>\n",
       "      <td>Subscribe on Website, Apple Podcasts, Spotify,...</td>\n",
       "      <td>Kirill Eremenko:\\tThis is episode number 225 w...</td>\n",
       "      <td>225</td>\n",
       "      <td>2019-01-10</td>\n",
       "      <td>2019</td>\n",
       "      <td>Thursday</td>\n",
       "      <td>Kirill Eremenko</td>\n",
       "      <td>Data Visualization</td>\n",
       "      <td>Yes.</td>\n",
       "      <td>Anna Foard</td>\n",
       "      <td>0.000000</td>\n",
       "      <td>0.000000</td>\n",
       "      <td>[]</td>\n",
       "      <td>Neutral</td>\n",
       "    </tr>\n",
       "    <tr>\n",
       "      <th>...</th>\n",
       "      <td>...</td>\n",
       "      <td>...</td>\n",
       "      <td>...</td>\n",
       "      <td>...</td>\n",
       "      <td>...</td>\n",
       "      <td>...</td>\n",
       "      <td>...</td>\n",
       "      <td>...</td>\n",
       "      <td>...</td>\n",
       "      <td>...</td>\n",
       "      <td>...</td>\n",
       "      <td>...</td>\n",
       "      <td>...</td>\n",
       "      <td>...</td>\n",
       "      <td>...</td>\n",
       "      <td>...</td>\n",
       "      <td>...</td>\n",
       "      <td>...</td>\n",
       "    </tr>\n",
       "    <tr>\n",
       "      <th>11581</th>\n",
       "      <td>Data Science Trends for 2020</td>\n",
       "      <td>68</td>\n",
       "      <td>Business Data Science Artificial Intelligence</td>\n",
       "      <td>Kirill and Hadelin</td>\n",
       "      <td>Subscribe on Website, Apple Podcasts, Spotify,...</td>\n",
       "      <td>Kirill:\\tThis is Episode number 327, AI Trends...</td>\n",
       "      <td>327</td>\n",
       "      <td>2019-12-30</td>\n",
       "      <td>2019</td>\n",
       "      <td>Monday</td>\n",
       "      <td>Kirill Eremenko</td>\n",
       "      <td>Artificial Intelligence</td>\n",
       "      <td>Well, I think this is the one with the coolest...</td>\n",
       "      <td>Hadelin</td>\n",
       "      <td>0.192500</td>\n",
       "      <td>0.615833</td>\n",
       "      <td>[(['thanks'], 0.2, 0.2, None), (['able'], 0.5,...</td>\n",
       "      <td>Positive</td>\n",
       "    </tr>\n",
       "    <tr>\n",
       "      <th>11582</th>\n",
       "      <td>Data Science Trends for 2020</td>\n",
       "      <td>68</td>\n",
       "      <td>Business Data Science Artificial Intelligence</td>\n",
       "      <td>Kirill and Hadelin</td>\n",
       "      <td>Subscribe on Website, Apple Podcasts, Spotify,...</td>\n",
       "      <td>Kirill:\\tThis is Episode number 327, AI Trends...</td>\n",
       "      <td>327</td>\n",
       "      <td>2019-12-30</td>\n",
       "      <td>2019</td>\n",
       "      <td>Monday</td>\n",
       "      <td>Kirill Eremenko</td>\n",
       "      <td>Artificial Intelligence</td>\n",
       "      <td>Yes, reinforcement learning. So, yes, this is ...</td>\n",
       "      <td>Hadelin</td>\n",
       "      <td>-0.050000</td>\n",
       "      <td>1.000000</td>\n",
       "      <td>[(['favorite'], 0.5, 1.0, None), (['artificial...</td>\n",
       "      <td>Negative</td>\n",
       "    </tr>\n",
       "    <tr>\n",
       "      <th>11583</th>\n",
       "      <td>Data Science Trends for 2020</td>\n",
       "      <td>68</td>\n",
       "      <td>Business Data Science Artificial Intelligence</td>\n",
       "      <td>Kirill and Hadelin</td>\n",
       "      <td>Subscribe on Website, Apple Podcasts, Spotify,...</td>\n",
       "      <td>Kirill:\\tThis is Episode number 327, AI Trends...</td>\n",
       "      <td>327</td>\n",
       "      <td>2019-12-30</td>\n",
       "      <td>2019</td>\n",
       "      <td>Monday</td>\n",
       "      <td>Kirill Eremenko</td>\n",
       "      <td>Artificial Intelligence</td>\n",
       "      <td>That is true.  Yes, that is the next generati...</td>\n",
       "      <td>Hadelin</td>\n",
       "      <td>0.108333</td>\n",
       "      <td>0.258333</td>\n",
       "      <td>[(['true'], 0.35, 0.65, None), (['next'], 0.0,...</td>\n",
       "      <td>Positive</td>\n",
       "    </tr>\n",
       "    <tr>\n",
       "      <th>11584</th>\n",
       "      <td>Data Science Trends for 2020</td>\n",
       "      <td>68</td>\n",
       "      <td>Business Data Science Artificial Intelligence</td>\n",
       "      <td>Kirill and Hadelin</td>\n",
       "      <td>Subscribe on Website, Apple Podcasts, Spotify,...</td>\n",
       "      <td>Kirill:\\tThis is Episode number 327, AI Trends...</td>\n",
       "      <td>327</td>\n",
       "      <td>2019-12-30</td>\n",
       "      <td>2019</td>\n",
       "      <td>Monday</td>\n",
       "      <td>Kirill Eremenko</td>\n",
       "      <td>Artificial Intelligence</td>\n",
       "      <td>Yes, yes, great movie.</td>\n",
       "      <td>Hadelin</td>\n",
       "      <td>0.800000</td>\n",
       "      <td>0.750000</td>\n",
       "      <td>[(['great'], 0.8, 0.75, None)]</td>\n",
       "      <td>Highly Positive</td>\n",
       "    </tr>\n",
       "    <tr>\n",
       "      <th>11585</th>\n",
       "      <td>Data Science Trends for 2020</td>\n",
       "      <td>68</td>\n",
       "      <td>Business Data Science Artificial Intelligence</td>\n",
       "      <td>Kirill and Hadelin</td>\n",
       "      <td>Subscribe on Website, Apple Podcasts, Spotify,...</td>\n",
       "      <td>Kirill:\\tThis is Episode number 327, AI Trends...</td>\n",
       "      <td>327</td>\n",
       "      <td>2019-12-30</td>\n",
       "      <td>2019</td>\n",
       "      <td>Monday</td>\n",
       "      <td>Kirill Eremenko</td>\n",
       "      <td>Artificial Intelligence</td>\n",
       "      <td>And so now we are gonna look at the different ...</td>\n",
       "      <td>Hadelin</td>\n",
       "      <td>-0.033333</td>\n",
       "      <td>0.400000</td>\n",
       "      <td>[(['different'], 0.0, 0.6, None), (['minus'], ...</td>\n",
       "      <td>Negative</td>\n",
       "    </tr>\n",
       "  </tbody>\n",
       "</table>\n",
       "<p>4863 rows × 18 columns</p>\n",
       "</div>"
      ],
      "text/plain": [
       "                                     episode_name  length_episode  \\\n",
       "6723    The Benefit of Having a Diverse Skill Set              57   \n",
       "6724    The Benefit of Having a Diverse Skill Set              57   \n",
       "6725    The Benefit of Having a Diverse Skill Set              57   \n",
       "6726    The Benefit of Having a Diverse Skill Set              57   \n",
       "6727    The Benefit of Having a Diverse Skill Set              57   \n",
       "...                                           ...             ...   \n",
       "11581                Data Science Trends for 2020              68   \n",
       "11582                Data Science Trends for 2020              68   \n",
       "11583                Data Science Trends for 2020              68   \n",
       "11584                Data Science Trends for 2020              68   \n",
       "11585                Data Science Trends for 2020              68   \n",
       "\n",
       "                                     context_episode            guest_name  \\\n",
       "6723                 Data Science Data Visualization           Anna Foard    \n",
       "6724                 Data Science Data Visualization           Anna Foard    \n",
       "6725                 Data Science Data Visualization           Anna Foard    \n",
       "6726                 Data Science Data Visualization           Anna Foard    \n",
       "6727                 Data Science Data Visualization           Anna Foard    \n",
       "...                                              ...                   ...   \n",
       "11581  Business Data Science Artificial Intelligence   Kirill and Hadelin    \n",
       "11582  Business Data Science Artificial Intelligence   Kirill and Hadelin    \n",
       "11583  Business Data Science Artificial Intelligence   Kirill and Hadelin    \n",
       "11584  Business Data Science Artificial Intelligence   Kirill and Hadelin    \n",
       "11585  Business Data Science Artificial Intelligence   Kirill and Hadelin    \n",
       "\n",
       "                                              guest_info  \\\n",
       "6723   Subscribe on Website, Apple Podcasts, Spotify,...   \n",
       "6724   Subscribe on Website, Apple Podcasts, Spotify,...   \n",
       "6725   Subscribe on Website, Apple Podcasts, Spotify,...   \n",
       "6726   Subscribe on Website, Apple Podcasts, Spotify,...   \n",
       "6727   Subscribe on Website, Apple Podcasts, Spotify,...   \n",
       "...                                                  ...   \n",
       "11581  Subscribe on Website, Apple Podcasts, Spotify,...   \n",
       "11582  Subscribe on Website, Apple Podcasts, Spotify,...   \n",
       "11583  Subscribe on Website, Apple Podcasts, Spotify,...   \n",
       "11584  Subscribe on Website, Apple Podcasts, Spotify,...   \n",
       "11585  Subscribe on Website, Apple Podcasts, Spotify,...   \n",
       "\n",
       "                                            text_episode  episode_number  \\\n",
       "6723   Kirill Eremenko:\\tThis is episode number 225 w...             225   \n",
       "6724   Kirill Eremenko:\\tThis is episode number 225 w...             225   \n",
       "6725   Kirill Eremenko:\\tThis is episode number 225 w...             225   \n",
       "6726   Kirill Eremenko:\\tThis is episode number 225 w...             225   \n",
       "6727   Kirill Eremenko:\\tThis is episode number 225 w...             225   \n",
       "...                                                  ...             ...   \n",
       "11581  Kirill:\\tThis is Episode number 327, AI Trends...             327   \n",
       "11582  Kirill:\\tThis is Episode number 327, AI Trends...             327   \n",
       "11583  Kirill:\\tThis is Episode number 327, AI Trends...             327   \n",
       "11584  Kirill:\\tThis is Episode number 327, AI Trends...             327   \n",
       "11585  Kirill:\\tThis is Episode number 327, AI Trends...             327   \n",
       "\n",
       "      episode_date  episode_year episode_day     host_episode  \\\n",
       "6723    2019-01-10          2019    Thursday  Kirill Eremenko   \n",
       "6724    2019-01-10          2019    Thursday  Kirill Eremenko   \n",
       "6725    2019-01-10          2019    Thursday  Kirill Eremenko   \n",
       "6726    2019-01-10          2019    Thursday  Kirill Eremenko   \n",
       "6727    2019-01-10          2019    Thursday  Kirill Eremenko   \n",
       "...            ...           ...         ...              ...   \n",
       "11581   2019-12-30          2019      Monday  Kirill Eremenko   \n",
       "11582   2019-12-30          2019      Monday  Kirill Eremenko   \n",
       "11583   2019-12-30          2019      Monday  Kirill Eremenko   \n",
       "11584   2019-12-30          2019      Monday  Kirill Eremenko   \n",
       "11585   2019-12-30          2019      Monday  Kirill Eremenko   \n",
       "\n",
       "                         class  \\\n",
       "6723        Data Visualization   \n",
       "6724        Data Visualization   \n",
       "6725        Data Visualization   \n",
       "6726        Data Visualization   \n",
       "6727        Data Visualization   \n",
       "...                        ...   \n",
       "11581  Artificial Intelligence   \n",
       "11582  Artificial Intelligence   \n",
       "11583  Artificial Intelligence   \n",
       "11584  Artificial Intelligence   \n",
       "11585  Artificial Intelligence   \n",
       "\n",
       "                                      episode_split_text     speaker  \\\n",
       "6723   I think reading over the last year has helped ...  Anna Foard   \n",
       "6724   I already had it.  Yes, I bought it right when...  Anna Foard   \n",
       "6725    That is one of my favorite parts, and that is...  Anna Foard   \n",
       "6726    Yes, and the anecdotes that you like to tell ...  Anna Foard   \n",
       "6727                                                Yes.  Anna Foard   \n",
       "...                                                  ...         ...   \n",
       "11581  Well, I think this is the one with the coolest...     Hadelin   \n",
       "11582  Yes, reinforcement learning. So, yes, this is ...     Hadelin   \n",
       "11583   That is true.  Yes, that is the next generati...     Hadelin   \n",
       "11584                             Yes, yes, great movie.     Hadelin   \n",
       "11585  And so now we are gonna look at the different ...     Hadelin   \n",
       "\n",
       "       sentiments  subjectivity  \\\n",
       "6723     0.142857      0.259524   \n",
       "6724     0.161905      0.278571   \n",
       "6725     0.197959      0.447959   \n",
       "6726     0.000000      0.000000   \n",
       "6727     0.000000      0.000000   \n",
       "...           ...           ...   \n",
       "11581    0.192500      0.615833   \n",
       "11582   -0.050000      1.000000   \n",
       "11583    0.108333      0.258333   \n",
       "11584    0.800000      0.750000   \n",
       "11585   -0.033333      0.400000   \n",
       "\n",
       "                                              assessment     result_score  \n",
       "6723   [(['last'], 0.0, 0.06666666666666667, None), (...         Positive  \n",
       "6724   [(['right'], 0.2857142857142857, 0.53571428571...         Positive  \n",
       "6725   [(['favorite'], 0.5, 1.0, None), (['personal']...         Positive  \n",
       "6726                                                  []          Neutral  \n",
       "6727                                                  []          Neutral  \n",
       "...                                                  ...              ...  \n",
       "11581  [(['thanks'], 0.2, 0.2, None), (['able'], 0.5,...         Positive  \n",
       "11582  [(['favorite'], 0.5, 1.0, None), (['artificial...         Negative  \n",
       "11583  [(['true'], 0.35, 0.65, None), (['next'], 0.0,...         Positive  \n",
       "11584                     [(['great'], 0.8, 0.75, None)]  Highly Positive  \n",
       "11585  [(['different'], 0.0, 0.6, None), (['minus'], ...         Negative  \n",
       "\n",
       "[4863 rows x 18 columns]"
      ]
     },
     "execution_count": 27,
     "metadata": {},
     "output_type": "execute_result"
    }
   ],
   "source": [
    "pandemic"
   ]
  },
  {
   "cell_type": "code",
   "execution_count": 32,
   "id": "e8f09f3d",
   "metadata": {},
   "outputs": [],
   "source": [
    "x = pd.DataFrame(pandemic.groupby([\"class\", \"episode_name\"])[\"result_score\"].value_counts())"
   ]
  },
  {
   "cell_type": "code",
   "execution_count": 34,
   "id": "d8053499",
   "metadata": {},
   "outputs": [
    {
     "ename": "KeyError",
     "evalue": "'episode_name'",
     "output_type": "error",
     "traceback": [
      "\u001b[0;31m---------------------------------------------------------------------------\u001b[0m",
      "\u001b[0;31mKeyError\u001b[0m                                  Traceback (most recent call last)",
      "File \u001b[0;32m/Applications/anaconda/anaconda3/lib/python3.9/site-packages/pandas/core/indexes/base.py:3621\u001b[0m, in \u001b[0;36mIndex.get_loc\u001b[0;34m(self, key, method, tolerance)\u001b[0m\n\u001b[1;32m   3620\u001b[0m \u001b[38;5;28;01mtry\u001b[39;00m:\n\u001b[0;32m-> 3621\u001b[0m     \u001b[38;5;28;01mreturn\u001b[39;00m \u001b[38;5;28;43mself\u001b[39;49m\u001b[38;5;241;43m.\u001b[39;49m\u001b[43m_engine\u001b[49m\u001b[38;5;241;43m.\u001b[39;49m\u001b[43mget_loc\u001b[49m\u001b[43m(\u001b[49m\u001b[43mcasted_key\u001b[49m\u001b[43m)\u001b[49m\n\u001b[1;32m   3622\u001b[0m \u001b[38;5;28;01mexcept\u001b[39;00m \u001b[38;5;167;01mKeyError\u001b[39;00m \u001b[38;5;28;01mas\u001b[39;00m err:\n",
      "File \u001b[0;32m/Applications/anaconda/anaconda3/lib/python3.9/site-packages/pandas/_libs/index.pyx:136\u001b[0m, in \u001b[0;36mpandas._libs.index.IndexEngine.get_loc\u001b[0;34m()\u001b[0m\n",
      "File \u001b[0;32m/Applications/anaconda/anaconda3/lib/python3.9/site-packages/pandas/_libs/index.pyx:163\u001b[0m, in \u001b[0;36mpandas._libs.index.IndexEngine.get_loc\u001b[0;34m()\u001b[0m\n",
      "File \u001b[0;32mpandas/_libs/hashtable_class_helper.pxi:5198\u001b[0m, in \u001b[0;36mpandas._libs.hashtable.PyObjectHashTable.get_item\u001b[0;34m()\u001b[0m\n",
      "File \u001b[0;32mpandas/_libs/hashtable_class_helper.pxi:5206\u001b[0m, in \u001b[0;36mpandas._libs.hashtable.PyObjectHashTable.get_item\u001b[0;34m()\u001b[0m\n",
      "\u001b[0;31mKeyError\u001b[0m: 'episode_name'",
      "\nThe above exception was the direct cause of the following exception:\n",
      "\u001b[0;31mKeyError\u001b[0m                                  Traceback (most recent call last)",
      "Cell \u001b[0;32mIn[34], line 1\u001b[0m\n\u001b[0;32m----> 1\u001b[0m x[\u001b[43mx\u001b[49m\u001b[43m[\u001b[49m\u001b[38;5;124;43m'\u001b[39;49m\u001b[38;5;124;43mepisode_name\u001b[39;49m\u001b[38;5;124;43m'\u001b[39;49m\u001b[43m]\u001b[49m \u001b[38;5;241m==\u001b[39m \u001b[38;5;124m'\u001b[39m\u001b[38;5;124mAGI\u001b[39m\u001b[38;5;124m'\u001b[39m]\n",
      "File \u001b[0;32m/Applications/anaconda/anaconda3/lib/python3.9/site-packages/pandas/core/frame.py:3505\u001b[0m, in \u001b[0;36mDataFrame.__getitem__\u001b[0;34m(self, key)\u001b[0m\n\u001b[1;32m   3503\u001b[0m \u001b[38;5;28;01mif\u001b[39;00m \u001b[38;5;28mself\u001b[39m\u001b[38;5;241m.\u001b[39mcolumns\u001b[38;5;241m.\u001b[39mnlevels \u001b[38;5;241m>\u001b[39m \u001b[38;5;241m1\u001b[39m:\n\u001b[1;32m   3504\u001b[0m     \u001b[38;5;28;01mreturn\u001b[39;00m \u001b[38;5;28mself\u001b[39m\u001b[38;5;241m.\u001b[39m_getitem_multilevel(key)\n\u001b[0;32m-> 3505\u001b[0m indexer \u001b[38;5;241m=\u001b[39m \u001b[38;5;28;43mself\u001b[39;49m\u001b[38;5;241;43m.\u001b[39;49m\u001b[43mcolumns\u001b[49m\u001b[38;5;241;43m.\u001b[39;49m\u001b[43mget_loc\u001b[49m\u001b[43m(\u001b[49m\u001b[43mkey\u001b[49m\u001b[43m)\u001b[49m\n\u001b[1;32m   3506\u001b[0m \u001b[38;5;28;01mif\u001b[39;00m is_integer(indexer):\n\u001b[1;32m   3507\u001b[0m     indexer \u001b[38;5;241m=\u001b[39m [indexer]\n",
      "File \u001b[0;32m/Applications/anaconda/anaconda3/lib/python3.9/site-packages/pandas/core/indexes/base.py:3623\u001b[0m, in \u001b[0;36mIndex.get_loc\u001b[0;34m(self, key, method, tolerance)\u001b[0m\n\u001b[1;32m   3621\u001b[0m     \u001b[38;5;28;01mreturn\u001b[39;00m \u001b[38;5;28mself\u001b[39m\u001b[38;5;241m.\u001b[39m_engine\u001b[38;5;241m.\u001b[39mget_loc(casted_key)\n\u001b[1;32m   3622\u001b[0m \u001b[38;5;28;01mexcept\u001b[39;00m \u001b[38;5;167;01mKeyError\u001b[39;00m \u001b[38;5;28;01mas\u001b[39;00m err:\n\u001b[0;32m-> 3623\u001b[0m     \u001b[38;5;28;01mraise\u001b[39;00m \u001b[38;5;167;01mKeyError\u001b[39;00m(key) \u001b[38;5;28;01mfrom\u001b[39;00m \u001b[38;5;21;01merr\u001b[39;00m\n\u001b[1;32m   3624\u001b[0m \u001b[38;5;28;01mexcept\u001b[39;00m \u001b[38;5;167;01mTypeError\u001b[39;00m:\n\u001b[1;32m   3625\u001b[0m     \u001b[38;5;66;03m# If we have a listlike key, _check_indexing_error will raise\u001b[39;00m\n\u001b[1;32m   3626\u001b[0m     \u001b[38;5;66;03m#  InvalidIndexError. Otherwise we fall through and re-raise\u001b[39;00m\n\u001b[1;32m   3627\u001b[0m     \u001b[38;5;66;03m#  the TypeError.\u001b[39;00m\n\u001b[1;32m   3628\u001b[0m     \u001b[38;5;28mself\u001b[39m\u001b[38;5;241m.\u001b[39m_check_indexing_error(key)\n",
      "\u001b[0;31mKeyError\u001b[0m: 'episode_name'"
     ]
    }
   ],
   "source": [
    "x[x['episode_name'] == '']"
   ]
  },
  {
   "cell_type": "code",
   "execution_count": null,
   "id": "f3278d55",
   "metadata": {},
   "outputs": [],
   "source": []
  },
  {
   "cell_type": "code",
   "execution_count": null,
   "id": "4aacb924",
   "metadata": {},
   "outputs": [],
   "source": [
    "guest_mean_sentiment = pd.DataFrame(guest_sentiments.groupby(['episode_year', 'class'])['sentiments'].mean()).reset_index()"
   ]
  },
  {
   "cell_type": "code",
   "execution_count": null,
   "id": "e0937963",
   "metadata": {},
   "outputs": [],
   "source": [
    "guest_mean_sentiment"
   ]
  },
  {
   "cell_type": "code",
   "execution_count": null,
   "id": "01944b4b",
   "metadata": {},
   "outputs": [],
   "source": [
    "guest_value = pd.DataFrame(guest_sentiments.groupby(['class'])['result_score'].value_counts().reset_index(name = 'count'))"
   ]
  },
  {
   "cell_type": "code",
   "execution_count": null,
   "id": "d820a6a0",
   "metadata": {},
   "outputs": [],
   "source": [
    "guest_value"
   ]
  },
  {
   "cell_type": "code",
   "execution_count": null,
   "id": "93b13192",
   "metadata": {},
   "outputs": [],
   "source": [
    "pivot_df = guest_value.pivot(index='class', columns='result_score', values='count')"
   ]
  },
  {
   "cell_type": "code",
   "execution_count": null,
   "id": "e554f7a0",
   "metadata": {},
   "outputs": [],
   "source": [
    "pivot_df"
   ]
  },
  {
   "cell_type": "code",
   "execution_count": null,
   "id": "c7829a08",
   "metadata": {},
   "outputs": [],
   "source": [
    "\n",
    "colors = {\n",
    "    'Positive': 'limegreen',\n",
    "    'Neutral': 'gold',\n",
    "    'Negative': 'orange',\n",
    "    'Highly Positive': 'darkgreen',\n",
    "    'Highly Negative': 'red'\n",
    "}\n",
    "pivot_df.plot(kind='bar', stacked=True, color = colors)\n",
    "plt.ylabel('Count')\n",
    "plt.xlabel('')\n",
    "plt.yticks(fontsize = 10)\n",
    "plt.xticks(rotation = 90, fontsize = 8)\n",
    "plt.title('Distribution of Guest Sentiments in Different Categories', fontsize = 12)\n",
    "plt.legend(bbox_to_anchor =(1.0, 1.0));\n"
   ]
  },
  {
   "cell_type": "code",
   "execution_count": null,
   "id": "17aa0365",
   "metadata": {},
   "outputs": [],
   "source": []
  },
  {
   "cell_type": "code",
   "execution_count": null,
   "id": "8970715b",
   "metadata": {},
   "outputs": [],
   "source": [
    "prop_df"
   ]
  },
  {
   "cell_type": "code",
   "execution_count": null,
   "id": "9521a981",
   "metadata": {},
   "outputs": [],
   "source": [
    "\n",
    "prop_df = pivot_df.div(pivot_df.sum(axis=1), axis=0)\n",
    "colors = {\n",
    "    'Positive': 'limegreen',\n",
    "    'Neutral': 'gold',\n",
    "    'Negative': 'orange',\n",
    "    'Highly Positive': 'darkgreen',\n",
    "    'Highly Negative': 'red'\n",
    "}\n",
    "prop_df.plot(kind='bar', stacked=True, color= colors)\n",
    "plt.ylabel('Count')\n",
    "plt.xlabel('')\n",
    "plt.yticks(fontsize = 10)\n",
    "plt.xticks(rotation = 90, fontsize = 8)\n",
    "plt.title('Distribution of Guest Sentiments in Different Categories', fontsize = 12)\n",
    "plt.legend(bbox_to_anchor =(1.0, 1.0));\n",
    "\n"
   ]
  },
  {
   "cell_type": "code",
   "execution_count": null,
   "id": "0b465d23",
   "metadata": {},
   "outputs": [],
   "source": [
    "deep_learning = guest_sentiments[guest_sentiments['class'] == 'Deep Learning']"
   ]
  },
  {
   "cell_type": "code",
   "execution_count": null,
   "id": "a9b2bc82",
   "metadata": {},
   "outputs": [],
   "source": [
    "deep_learning['episode_name'].unique()"
   ]
  },
  {
   "cell_type": "code",
   "execution_count": null,
   "id": "a11d5182",
   "metadata": {},
   "outputs": [],
   "source": [
    "deep_learning.plot(kind = 'bar', y = \"sentiments\")\n",
    "plt.ylabel('Sentiment Polarity')\n",
    "plt.xlabel('')\n",
    "plt.yticks(fontsize = 10);\n",
    "#plt.xticks(rotation = 90, fontsize = 8)\n",
    "#plt.title('Distribution of Guest Sentiments in Different Categories', fontsize = 12)\n",
    "#plt.legend(bbox_to_anchor =(1.0, 1.0));\n"
   ]
  },
  {
   "cell_type": "code",
   "execution_count": null,
   "id": "a54e8349",
   "metadata": {},
   "outputs": [],
   "source": [
    "List = deep_learning['result_score'].unique()\n",
    "fig = px.bar(deep_learning, y='sentiments', hover_data = ['words'], width=1100, height=600, color = 'result_score')\n",
    "fig.update_layout(title_text= 'SDS:453, Big Global Problems Worth Solving with Machine Learning',  title_x=0.5)\n",
    "fig.update_xaxes(title='Index', visible= True, showticklabels= True)\n",
    "fig.update_yaxes(title='Guest Sentiment Polarity', visible= True, showticklabels= True)\n",
    "fig.update_layout(legend_title = 'categories', showlegend = False, font=dict(size= 10))\n",
    "fig.show()\n",
    "fig.write_html(\"E453_sentiments.html\")"
   ]
  },
  {
   "cell_type": "code",
   "execution_count": null,
   "id": "505b25de",
   "metadata": {},
   "outputs": [],
   "source": [
    "AI = guest_sentiments[guest_sentiments['class'] == 'Artificial Intelligence']"
   ]
  },
  {
   "cell_type": "code",
   "execution_count": null,
   "id": "500f2c33",
   "metadata": {},
   "outputs": [],
   "source": [
    "AI"
   ]
  },
  {
   "cell_type": "code",
   "execution_count": null,
   "id": "07597346",
   "metadata": {},
   "outputs": [],
   "source": [
    "AI_grouped = pd.DataFrame(AI.groupby([\"episode_number\", \"episode_name\"])['result_score'].value_counts().reset_index(name = 'count'))"
   ]
  },
  {
   "cell_type": "code",
   "execution_count": null,
   "id": "b410b8ff",
   "metadata": {},
   "outputs": [],
   "source": [
    "AI_grouped"
   ]
  },
  {
   "cell_type": "code",
   "execution_count": null,
   "id": "8caccbde",
   "metadata": {},
   "outputs": [],
   "source": [
    "AI_grouped[AI_grouped['result_score'] == 'Highly Negative']"
   ]
  },
  {
   "cell_type": "code",
   "execution_count": null,
   "id": "c75ede7e",
   "metadata": {},
   "outputs": [],
   "source": [
    "ep425 = guest_sentiments[guest_sentiments['episode_number'] == 425]"
   ]
  },
  {
   "cell_type": "code",
   "execution_count": null,
   "id": "c2f5bfdd",
   "metadata": {},
   "outputs": [],
   "source": [
    "\n",
    "fig = px.bar(ep425, y='sentiments', hover_data = ['words'], width=1100, height=600, color = 'result_score')\n",
    "fig.update_layout(title_text= 'SDS:425, The Past, Present, and Future of AI Services',  title_x=0.5)\n",
    "fig.update_xaxes(title='Index', visible= True, showticklabels= True)\n",
    "fig.update_yaxes(title='Guest Sentiment Polarity', visible= True, showticklabels= True)\n",
    "fig.update_layout(legend_title = 'categories', showlegend = False, font=dict(size= 10))\n",
    "fig.show()\n",
    "fig.write_html(\"E425_sentiments.html\")"
   ]
  },
  {
   "cell_type": "code",
   "execution_count": null,
   "id": "4fd8bcf6",
   "metadata": {},
   "outputs": [],
   "source": [
    "ep565 = guest_sentiments[guest_sentiments['episode_number'] == 565]"
   ]
  },
  {
   "cell_type": "code",
   "execution_count": null,
   "id": "0c2735dc",
   "metadata": {},
   "outputs": [],
   "source": [
    "ep565"
   ]
  },
  {
   "cell_type": "code",
   "execution_count": null,
   "id": "d64f3e4c",
   "metadata": {},
   "outputs": [],
   "source": [
    "fig = px.bar(ep565, y='sentiments', hover_data = ['words'], width=1100, height=600, color = 'result_score')\n",
    "fig.update_layout(title_text= 'SDS:565, AGI',  title_x=0.5)\n",
    "fig.update_xaxes(title='Index', visible= True, showticklabels= True)\n",
    "fig.update_yaxes(title='Guest Sentiment Polarity', visible= True, showticklabels= True)\n",
    "fig.update_layout(legend_title = 'categories', showlegend = False, font=dict(size= 10))\n",
    "fig.show()\n",
    "fig.write_html(\"E565_sentiments.html\")"
   ]
  },
  {
   "cell_type": "code",
   "execution_count": null,
   "id": "3d7aab69",
   "metadata": {},
   "outputs": [],
   "source": [
    "List"
   ]
  },
  {
   "cell_type": "code",
   "execution_count": null,
   "id": "01bd841d",
   "metadata": {},
   "outputs": [],
   "source": [
    "host_value = pd.DataFrame(host_sentiments.groupby(['class'])['result_score'].value_counts().reset_index(name = 'count'))"
   ]
  },
  {
   "cell_type": "code",
   "execution_count": null,
   "id": "0d0bf78f",
   "metadata": {},
   "outputs": [],
   "source": [
    "host_value"
   ]
  },
  {
   "cell_type": "code",
   "execution_count": null,
   "id": "fdc85d25",
   "metadata": {},
   "outputs": [],
   "source": [
    "# plotting the bubble chart\n",
    "fig = px.scatter(guest_value, x = \"class\", y = \"count\", \n",
    "                 size= \"count\", color = \"result_score\", size_max=30) \n",
    "fig.show()\n",
    "\n"
   ]
  },
  {
   "cell_type": "code",
   "execution_count": null,
   "id": "22232804",
   "metadata": {},
   "outputs": [],
   "source": [
    "def tuple_extractor(row):\n",
    "    words = [t[0] for t in row]\n",
    "    return words"
   ]
  },
  {
   "cell_type": "code",
   "execution_count": null,
   "id": "4fc7f049",
   "metadata": {},
   "outputs": [],
   "source": [
    "sds_data['assessment'].loc[0]"
   ]
  },
  {
   "cell_type": "code",
   "execution_count": null,
   "id": "179560e3",
   "metadata": {},
   "outputs": [],
   "source": [
    "guest_sentiments[\"words\"] = guest_sentiments[\"assessment\"].str.findall(\"\\['([a-z]+)'\\]\")"
   ]
  },
  {
   "cell_type": "code",
   "execution_count": null,
   "id": "99897317",
   "metadata": {},
   "outputs": [],
   "source": [
    "guest_value"
   ]
  },
  {
   "cell_type": "code",
   "execution_count": null,
   "id": "90a67b27",
   "metadata": {},
   "outputs": [],
   "source": [
    "guest_sentiments.groupby(['class'])['result_score'].count()"
   ]
  },
  {
   "cell_type": "code",
   "execution_count": null,
   "id": "cec77ccd",
   "metadata": {},
   "outputs": [],
   "source": [
    "host_sentiments['result_score'].count()"
   ]
  },
  {
   "cell_type": "code",
   "execution_count": null,
   "id": "324e44c4",
   "metadata": {},
   "outputs": [],
   "source": [
    "guest_sentiments[(guest_sentiments['result_score'] == 'Negative') | (guest_sentiments['result_score'] == 'Highly Negative')]"
   ]
  },
  {
   "cell_type": "code",
   "execution_count": null,
   "id": "f37abca4",
   "metadata": {},
   "outputs": [],
   "source": [
    "guest_value = guest_sentiments.groupby(['class'])['result_score'].value_counts().reset_index(name = 'count')"
   ]
  },
  {
   "cell_type": "code",
   "execution_count": null,
   "id": "674e091e",
   "metadata": {},
   "outputs": [],
   "source": [
    "guest_value"
   ]
  },
  {
   "cell_type": "code",
   "execution_count": null,
   "id": "74ae5fde",
   "metadata": {},
   "outputs": [],
   "source": [
    ".groupby('class')['result_score'].value_counts()"
   ]
  },
  {
   "cell_type": "code",
   "execution_count": null,
   "id": "a0e56ff4",
   "metadata": {},
   "outputs": [],
   "source": [
    "plot1 = (guest_sentiments.groupby(['class'])['result_score'].count()/guest_sentiments['result_score'].count())\n",
    "plot1.unstack().plot.bar(stacked=True)\n",
    "#plt.legend(['Cat1','Cat2','Cat3','Cat4'])\n",
    "#plt.xlabel('Rank')"
   ]
  },
  {
   "cell_type": "code",
   "execution_count": null,
   "id": "958945e7",
   "metadata": {},
   "outputs": [],
   "source": [
    "import seaborn as sns\n",
    "\n",
    "ax = sns.histplot(\n",
    "    guest_value,\n",
    "    x='class',\n",
    "    # Use the value variable here to turn histogram counts into weighted\n",
    "    # values.\n",
    "    weights='count',\n",
    "    hue='result_score',\n",
    "    multiple='stack')\n",
    "\n",
    "ax.set_title('Tips by Day and Gender')\n",
    "# Remove 'Count' ylabel.\n",
    "ax.set_ylabel(None)"
   ]
  },
  {
   "cell_type": "code",
   "execution_count": null,
   "id": "d78aada1",
   "metadata": {},
   "outputs": [],
   "source": [
    "plt.figure(figsize=(8, 6))\n",
    "sns.barplot(guest_value, x = 'class', y = 'count', hue = 'result_score')\n",
    "plt.ylabel('Sentiment Score')\n",
    "plt.xlabel('')\n",
    "plt.xticks(rotation = 90, fontsize = 8)\n",
    "plt.title('Sentiment Score for Different Categories of Episodes');\n"
   ]
  },
  {
   "cell_type": "code",
   "execution_count": null,
   "id": "72b6e764",
   "metadata": {},
   "outputs": [],
   "source": [
    "plt.figure(figsize = (8,6))\n",
    "sns.boxplot(data = guest_sentiments, x ='class', y ='sentiments')\n",
    "plt.ylabel('Sentiment Score')\n",
    "plt.xlabel('')\n",
    "plt.xticks(rotation = 90, fontsize = 8)\n",
    "plt.title('Sentiment Score for Different Categories of Episodes');"
   ]
  },
  {
   "cell_type": "code",
   "execution_count": null,
   "id": "7a0ec3a7",
   "metadata": {},
   "outputs": [],
   "source": [
    "guest_AI = guest_sentiments[guest_sentiments['class'] == 'Artificial Intelligence']"
   ]
  },
  {
   "cell_type": "code",
   "execution_count": null,
   "id": "3ebc4f3f",
   "metadata": {},
   "outputs": [],
   "source": [
    "guest_AI['episode_number'].nunique()"
   ]
  },
  {
   "cell_type": "code",
   "execution_count": null,
   "id": "3a6e3a12",
   "metadata": {},
   "outputs": [],
   "source": [
    "plt.figure(figsize = (8,6))\n",
    "sns.hist(guest_AI, y = 'sentiments', hue = '')\n",
    "plt.ylabel('Sentiment Score')\n",
    "plt.xlabel('')\n",
    "plt.xticks(rotation = 90, fontsize = 8)\n",
    "plt.title('Sentiment Score for Different Categories of Episodes');"
   ]
  },
  {
   "cell_type": "code",
   "execution_count": null,
   "id": "041260f5",
   "metadata": {},
   "outputs": [],
   "source": [
    "guest_AI['episode_name'].unique()"
   ]
  },
  {
   "cell_type": "code",
   "execution_count": null,
   "id": "a9a84a3d",
   "metadata": {},
   "outputs": [],
   "source": [
    "guest_AI"
   ]
  },
  {
   "cell_type": "code",
   "execution_count": null,
   "id": "b2d634e7",
   "metadata": {},
   "outputs": [],
   "source": []
  },
  {
   "cell_type": "code",
   "execution_count": null,
   "id": "873a272a",
   "metadata": {},
   "outputs": [],
   "source": [
    "fig = px.histogram(guest_AI, \n",
    "                   y ='sentiments', \n",
    "                   color = 'episode_number', \n",
    "                   facet_col='episode_number',\n",
    "                   template = 'plotly_white',\n",
    "                   facet_col_wrap = 2\n",
    "                  )\n",
    "\n",
    "fig.update_yaxes(title='Portion of Episodes')\n",
    "\n",
    "#fig.for_each_trace(lambda t: t.update(hovertemplate=t.hovertemplate.replace(\"percent\", \"Portion of Complaints\")))\n",
    "\n",
    "#fig.update_yaxes(ticksuffix = \"%\")\n",
    "\n",
    "fig.update_annotations(visible=False)\n",
    "\n",
    "fig.show()"
   ]
  },
  {
   "cell_type": "code",
   "execution_count": null,
   "id": "9edad506",
   "metadata": {},
   "outputs": [],
   "source": [
    "guest_sentiment_score = guest_sentiments.groupby(['class'])['result_score'].value_counts().reset_index(name='count')"
   ]
  },
  {
   "cell_type": "code",
   "execution_count": null,
   "id": "56c7e7ec",
   "metadata": {},
   "outputs": [],
   "source": [
    "guest_sentiment_score.info()"
   ]
  },
  {
   "cell_type": "code",
   "execution_count": null,
   "id": "a5416dda",
   "metadata": {},
   "outputs": [],
   "source": [
    "plt.figure(figsize = (8,6))\n",
    "sns.barplot(guest_sentiment_score, x = 'class', y = 'count', hue = 'result_score')\n",
    "plt.ylabel('Sentiment Score')\n",
    "plt.xlabel('')\n",
    "plt.xticks(rotation = 90, fontsize = 8)\n",
    "plt.title('Sentiment Score for Different Categories of Episodes');\n",
    "\n",
    "\n"
   ]
  },
  {
   "cell_type": "code",
   "execution_count": null,
   "id": "c7fb1951",
   "metadata": {},
   "outputs": [],
   "source": [
    "guest_mean_sentiment"
   ]
  },
  {
   "cell_type": "code",
   "execution_count": null,
   "id": "7d1d0108",
   "metadata": {},
   "outputs": [],
   "source": [
    "guest_mean_sentiments"
   ]
  },
  {
   "cell_type": "code",
   "execution_count": null,
   "id": "17f6044f",
   "metadata": {},
   "outputs": [],
   "source": [
    "guest_sentiments[guest_sentiments['class']== 'Artificial Intelligence'].plot.line(x='episode_number', y='sentiments', color ='orange')\n"
   ]
  },
  {
   "cell_type": "code",
   "execution_count": null,
   "id": "18d8f7c9",
   "metadata": {},
   "outputs": [],
   "source": [
    "import seaborn as sns\n",
    "import matplotlib.pyplot as plt\n",
    "\n",
    "g = sns.FacetGrid(guest_sentiments, col='class', col_wrap=4)\n",
    "g.map(plt.plot, 'episode_number', 'sentiments')\n",
    "g.set_axis_labels('Episode Number', 'Sentiments')\n",
    "plt.tight_layout()\n",
    "plt.show()"
   ]
  },
  {
   "cell_type": "code",
   "execution_count": null,
   "id": "26b19be1",
   "metadata": {},
   "outputs": [],
   "source": [
    "sds_sentiments['episode_number'].unique()"
   ]
  },
  {
   "cell_type": "code",
   "execution_count": null,
   "id": "cfbd530d",
   "metadata": {},
   "outputs": [],
   "source": [
    "episode_sentiments = pd.DataFrame(sds_sentiments.groupby(['episode_number', 'episode_name','class', 'episode_year','speaker', 'episode_split_text'])['sentiments'].mean()).reset_index()"
   ]
  },
  {
   "cell_type": "markdown",
   "id": "be816d7f",
   "metadata": {},
   "source": [
    "### Sentiment Analysis for non-datascience relevant episodes"
   ]
  },
  {
   "cell_type": "code",
   "execution_count": null,
   "id": "582e723b",
   "metadata": {},
   "outputs": [],
   "source": [
    "sds_non_data['sentiments'] = sds_non_data['episode_split_text'].apply(sentiment_analysis)"
   ]
  },
  {
   "cell_type": "code",
   "execution_count": null,
   "id": "3feac6c1",
   "metadata": {},
   "outputs": [],
   "source": [
    "sds_non_data['subjectivity'] = sds_non_data['episode_split_text'].apply(subjectivity_analysis)"
   ]
  },
  {
   "cell_type": "code",
   "execution_count": null,
   "id": "3e0d12f5",
   "metadata": {},
   "outputs": [],
   "source": [
    "sds_non_data['assessment'] = sds_non_data['episode_split_text'].apply(assessment_analysis)"
   ]
  },
  {
   "cell_type": "code",
   "execution_count": null,
   "id": "bf6ce33b",
   "metadata": {},
   "outputs": [],
   "source": [
    "sds_non_data['result_score'] = sds_non_data['sentiments'].apply(getAnalysis)"
   ]
  },
  {
   "cell_type": "code",
   "execution_count": null,
   "id": "1fabb12d",
   "metadata": {},
   "outputs": [],
   "source": [
    "sds_non_data.to_csv('../data/sds_nds_sentiments.csv', index = False)"
   ]
  },
  {
   "cell_type": "code",
   "execution_count": null,
   "id": "dd623b55",
   "metadata": {},
   "outputs": [],
   "source": [
    "sds_non_data"
   ]
  },
  {
   "cell_type": "code",
   "execution_count": null,
   "id": "997ed7e0",
   "metadata": {},
   "outputs": [],
   "source": [
    "sds_non_data['result_score'].value_counts()"
   ]
  },
  {
   "cell_type": "code",
   "execution_count": null,
   "id": "78e66e12",
   "metadata": {},
   "outputs": [],
   "source": []
  },
  {
   "cell_type": "code",
   "execution_count": null,
   "id": "f21a3d79",
   "metadata": {},
   "outputs": [],
   "source": []
  }
 ],
 "metadata": {
  "kernelspec": {
   "display_name": "Python 3 (ipykernel)",
   "language": "python",
   "name": "python3"
  },
  "language_info": {
   "codemirror_mode": {
    "name": "ipython",
    "version": 3
   },
   "file_extension": ".py",
   "mimetype": "text/x-python",
   "name": "python",
   "nbconvert_exporter": "python",
   "pygments_lexer": "ipython3",
   "version": "3.9.12"
  }
 },
 "nbformat": 4,
 "nbformat_minor": 5
}
