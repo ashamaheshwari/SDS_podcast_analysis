{
 "cells": [
  {
   "cell_type": "code",
   "execution_count": 1,
   "id": "382dbcb5",
   "metadata": {},
   "outputs": [],
   "source": [
    "import pandas as pd\n",
    "import plotly.express as px\n",
    "import matplotlib.pyplot as plt\n",
    "import seaborn as sns"
   ]
  },
  {
   "cell_type": "code",
   "execution_count": 2,
   "id": "b59cfca5",
   "metadata": {},
   "outputs": [],
   "source": [
    "sds_datascience = pd.read_csv('../data/sds_datascience_class.csv')\n",
    "sds_non_datascience = pd.read_csv('../data/non_datascience.csv')"
   ]
  },
  {
   "cell_type": "code",
   "execution_count": null,
   "id": "2ef1b357",
   "metadata": {},
   "outputs": [],
   "source": [
    "sds_datascience.head()"
   ]
  },
  {
   "cell_type": "code",
   "execution_count": null,
   "id": "8a04a873",
   "metadata": {},
   "outputs": [],
   "source": [
    "sds = pd.concat([sds_datascience, sds_non_datascience])"
   ]
  },
  {
   "cell_type": "code",
   "execution_count": null,
   "id": "5d49aa60",
   "metadata": {},
   "outputs": [],
   "source": [
    "metrics_ds = pd.DataFrame(sds_datascience.groupby(['episode_year', 'class'])['episode_number'].count()).reset_index()"
   ]
  },
  {
   "cell_type": "code",
   "execution_count": null,
   "id": "0dfab34d",
   "metadata": {},
   "outputs": [],
   "source": [
    "metrics_complete = pd.DataFrame(sds.groupby(['episode_year', 'class'])['episode_number'].count()).reset_index()"
   ]
  },
  {
   "cell_type": "code",
   "execution_count": null,
   "id": "c48bc7a2",
   "metadata": {},
   "outputs": [],
   "source": [
    "# plot for complete metrics\n",
    "fig = px.sunburst(metrics_complete, path=['episode_year', 'class', 'episode_number'], values='episode_number', color='class')\n",
    "                  #color_discrete_map={'(?)':'black', 'Lunch':'gold', 'Dinner':'darkblue'})\n",
    "fig.show()"
   ]
  },
  {
   "cell_type": "code",
   "execution_count": null,
   "id": "b09dfac1",
   "metadata": {},
   "outputs": [],
   "source": [
    "# plot for complete metrics\n",
    "fig = px.sunburst(metrics_ds, path=['episode_year', 'class', 'episode_number'], values='episode_number', color='class')\n",
    "                  #color_discrete_map={'(?)':'black', 'Lunch':'gold', 'Dinner':'darkblue'})\n",
    "fig.show()"
   ]
  },
  {
   "cell_type": "code",
   "execution_count": null,
   "id": "ac48bea8",
   "metadata": {},
   "outputs": [],
   "source": [
    "fig = px.bar(metrics_ds, x = 'episode_year', y='episode_number', hover_data = ['class'], color = 'class', width=1100, height=600 )\n",
    "fig.update_layout(title_text= 'Data Science Episodes Per Year in Different categories',  title_x=0.3)\n",
    "fig.update_xaxes(title=' ', visible= True, showticklabels= True)\n",
    "fig.update_yaxes(title='Number of Episodes', visible= True, showticklabels= True)\n",
    "fig.update_layout(legend_title = 'categories', showlegend = True, font=dict(size= 10))\n",
    "fig.show()\n",
    "fig.write_html(\"complaint_percentage.html\")"
   ]
  },
  {
   "cell_type": "code",
   "execution_count": null,
   "id": "7f470245",
   "metadata": {},
   "outputs": [],
   "source": [
    "\n",
    "fig = px.bar(metrics_complete, x = 'episode_year', y='episode_number', hover_data = ['class'], color = 'class', width=1100, height=600, )\n",
    "fig.update_layout(title_text= 'Number of Episodes Per Year in Different Categories',  title_x=0.5)\n",
    "fig.update_xaxes(title=' ', visible= True, showticklabels= True)\n",
    "fig.update_yaxes(title='Number of Episodes', visible= True, showticklabels= True)\n",
    "fig.update_layout(legend_title = 'categories', showlegend = True, font=dict(size= 10))\n",
    "fig.show()\n",
    "fig.write_html(\"Episode_distribution.html\")"
   ]
  },
  {
   "cell_type": "code",
   "execution_count": null,
   "id": "5f255354",
   "metadata": {
    "scrolled": true
   },
   "outputs": [],
   "source": [
    "plt.figure(figsize = (8,6))\n",
    "sns.boxplot(data = sds_datascience, x ='class', y ='length_episode')\n",
    "plt.ylabel('Duration of Episodes (in minutes)')\n",
    "plt.xlabel('')\n",
    "plt.yticks(fontsize = 10)\n",
    "plt.xticks(rotation = 90, fontsize = 8)\n",
    "plt.title('Length of Episodes in Different Categories Over the Years', fontsize = 12);\n",
    "\n",
    "#plt.savefig('episode_length.png', dpi=300)\n"
   ]
  },
  {
   "cell_type": "code",
   "execution_count": null,
   "id": "28ac93bc",
   "metadata": {},
   "outputs": [],
   "source": [
    "sds_datascience"
   ]
  },
  {
   "cell_type": "code",
   "execution_count": null,
   "id": "2ca52473",
   "metadata": {},
   "outputs": [],
   "source": [
    "sds_datascience['guest_name'].unique()"
   ]
  },
  {
   "cell_type": "code",
   "execution_count": null,
   "id": "2dce0749",
   "metadata": {},
   "outputs": [],
   "source": [
    "host_guest_ds = sds_datascience[~(((sds_datascience['guest_name'] == ' Kirill Eremenko ') & (sds_datascience['host_episode'] == 'Kirill Eremenko')) | ((sds_datascience['guest_name'] == ' Jon Krohn ') & (sds_datascience['host_episode'] == 'Jon Krohn')))]"
   ]
  },
  {
   "cell_type": "code",
   "execution_count": null,
   "id": "3b94f9f0",
   "metadata": {},
   "outputs": [],
   "source": [
    "host_guest_ds"
   ]
  },
  {
   "cell_type": "code",
   "execution_count": null,
   "id": "bf7bb4e4",
   "metadata": {},
   "outputs": [],
   "source": [
    "plt.figure(figsize = (13,10))\n",
    "sns.boxplot(data = host_guest_ds, x ='episode_year', y ='length_episode', hue = 'class')\n",
    "plt.ylabel('Duration of Episodes (in minutes)')\n",
    "plt.xlabel('')\n",
    "plt.xticks(rotation = 90)\n",
    "plt.title('Duration of Episodes in Different Classes Over the Years')\n",
    "plt.legend(bbox_to_anchor =(1.0, 1.0));"
   ]
  },
  {
   "cell_type": "code",
   "execution_count": null,
   "id": "8129bf62",
   "metadata": {},
   "outputs": [],
   "source": [
    "host_guest_ds[host_guest_ds['class'] == 'Data Science']"
   ]
  },
  {
   "cell_type": "code",
   "execution_count": null,
   "id": "031933d0",
   "metadata": {},
   "outputs": [],
   "source": []
  },
  {
   "cell_type": "code",
   "execution_count": null,
   "id": "9ba946f6",
   "metadata": {},
   "outputs": [],
   "source": [
    "sds_filtered = sds_datascience[((sds_datascience['guest_name'] == 'Kirill Eremenko') & (sds_datascience['host_episode'] == 'Kirill Eremenko')) | ((sds_datascience['guest_name'] == 'Jon Krohn') & (sds_datascience['host_episode'] == 'Jon Krohn'))]\n"
   ]
  },
  {
   "cell_type": "code",
   "execution_count": null,
   "id": "10a2bf22",
   "metadata": {},
   "outputs": [],
   "source": []
  },
  {
   "cell_type": "code",
   "execution_count": null,
   "id": "cc396ef2",
   "metadata": {},
   "outputs": [],
   "source": [
    "sds_datascience.groupby(['episode_year', 'class'])['length_episode']."
   ]
  },
  {
   "cell_type": "code",
   "execution_count": null,
   "id": "4817cf64",
   "metadata": {},
   "outputs": [],
   "source": [
    "sds_datascience.groupby(['episode_year', 'class'])['length_episode'].max()"
   ]
  },
  {
   "cell_type": "code",
   "execution_count": null,
   "id": "0acdef39",
   "metadata": {},
   "outputs": [],
   "source": [
    "sds_datascience.groupby(['class'])['length_episode'].min()"
   ]
  },
  {
   "cell_type": "code",
   "execution_count": null,
   "id": "d95e8b6d",
   "metadata": {},
   "outputs": [],
   "source": [
    "sds_datascience.groupby(['class'])['length_episode'].max()"
   ]
  },
  {
   "cell_type": "code",
   "execution_count": null,
   "id": "826b0e17",
   "metadata": {},
   "outputs": [],
   "source": [
    "\n",
    "fig = plt.figure(figsize=(10,6))\n",
    "sns.boxplot(data=df[(df['Minutes'] <= 30) & (df['Publication'].isin(df['Publication'].value_counts().iloc[:10].index))], x='Minutes', y='Publication')\n",
    "plt.tight_layout()\n",
    "fig.savefig('./figures/minutes_publication_boxplot.png')"
   ]
  },
  {
   "cell_type": "code",
   "execution_count": null,
   "id": "074d9a53",
   "metadata": {},
   "outputs": [],
   "source": [
    "fig = px.sunburst(df_hierarchy, path=['parent', 'id'], values='value',\n",
    "                  color='value', hover_data=['id'],\n",
    "                  color_continuous_scale='RdYlBu',\n",
    "                  title='Sunburst Chart of SPN Codes')\n",
    "fig.show()"
   ]
  },
  {
   "cell_type": "code",
   "execution_count": null,
   "id": "8aabb687",
   "metadata": {},
   "outputs": [],
   "source": [
    "fig = px.scatter(host_guest_ds, x = 'episode_date', y = 'class', color = 'class',\n",
    "                 symbol = 'class', hover_data = ['episode_date', 'episode_name'],\n",
    "                 title = 'Frequency of Data Science Episodes in Different Categories over time')\n",
    "fig.update_layout(xaxis_title='', yaxis_title='', template='plotly_dark')\n",
    "fig.update_yaxes(tickfont=dict(size=1), showgrid=False, showticklabels=False)\n",
    "fig.update_layout(legend_title = \"Categories\" , showlegend = True, font=dict(size= 10))\n",
    "#fig.update_xaxes(tickfont=dict(size=1), showgrid=True, showticklabels=False)\n",
    "fig.show()\n",
    "fig.write_html(\"Episode_distribution_2.html\")"
   ]
  },
  {
   "cell_type": "code",
   "execution_count": null,
   "id": "1d558bbd",
   "metadata": {},
   "outputs": [],
   "source": [
    "import pandas as pd\n",
    "import plotly.express as px\n",
    "\n",
    "filtered_df2 = filtered_df.rename(columns={'time_diff': 'Hours Until Derate', 'DistanceLtd': 'Mileage'})\n",
    "\n",
    "grouped_df = filtered_df2.groupby('EquipmentID')\n",
    "\n",
    "plot_df = pd.DataFrame(columns=['EquipmentID', 'event_type', 'Hours Until Derate', 'Mileage'])\n",
    "\n",
    "for group_name, group_data in grouped_df:\n",
    "    spn_data = group_data[group_data['spn'] == 1569]\n",
    "    if len(spn_data) > 0:\n",
    "        time_diff = spn_data.iloc[0]['Hours Until Derate']\n",
    "        distance = filtered_df.loc[filtered_df['EquipmentID']==group_name, 'DistanceLtd'].iloc[0]\n",
    "        plot_df = plot_df.append({'EquipmentID': group_name,\n",
    "                                  'event_type': 'SPN 1569',\n",
    "                                  'Mileage': distance,\n",
    "                                  'Hours Until Derate': time_diff}, ignore_index=True)\n",
    "\n",
    "fig = px.scatter(plot_df, x='Hours Until Derate', y='EquipmentID', color='EquipmentID',\n",
    "                 symbol='EquipmentID', hover_data=['EquipmentID', 'Hours Until Derate', 'Mileage'],\n",
    "                 title='Partial Derate Occurrences Within 72 Hours of Full Derate',\n",
    "                 category_orders={'EquipmentID': plot_df['EquipmentID'].unique()})\n",
    "\n",
    "fig.update_layout(xaxis_title='Hours Until Derate', yaxis_title='', template='plotly_dark')\n",
    "fig.update_yaxes(tickfont=dict(size=1), showgrid=False, showticklabels=False)\n",
    "fig.show()"
   ]
  },
  {
   "cell_type": "code",
   "execution_count": null,
   "id": "c8e555b2",
   "metadata": {},
   "outputs": [],
   "source": []
  },
  {
   "cell_type": "code",
   "execution_count": null,
   "id": "2d9e465d",
   "metadata": {},
   "outputs": [],
   "source": [
    "\n",
    "df = host_guest_ds\n",
    "fig = px.histogram(df, x='length_episode')\n",
    "fig.show()\n"
   ]
  },
  {
   "cell_type": "code",
   "execution_count": null,
   "id": "7b91fe7e",
   "metadata": {},
   "outputs": [],
   "source": [
    "\n",
    "fig = px.histogram(host_guest_ds, \n",
    "                   x='length_episode', \n",
    "                   color = 'class', \n",
    "                   facet_row='episode_year',\n",
    "                   histnorm='percent',\n",
    "                   nbins= 200,\n",
    "                   height=1000,\n",
    "                   template = 'plotly_white'\n",
    "                  )\n",
    "\n",
    "fig.update_yaxes(title='Portion of Episodes')\n",
    "\n",
    "#fig.for_each_trace(lambda t: t.update(hovertemplate=t.hovertemplate.replace(\"percent\", \"Portion of Complaints\")))\n",
    "\n",
    "#fig.update_yaxes(ticksuffix = \"%\")\n",
    "\n",
    "fig.update_annotations(visible=False)\n",
    "\n",
    "fig.show()"
   ]
  },
  {
   "cell_type": "code",
   "execution_count": null,
   "id": "c41cb4b4",
   "metadata": {},
   "outputs": [],
   "source": [
    "pip install venn"
   ]
  },
  {
   "cell_type": "code",
   "execution_count": null,
   "id": "c9d192fb",
   "metadata": {},
   "outputs": [],
   "source": [
    "from venn import venn"
   ]
  },
  {
   "cell_type": "code",
   "execution_count": null,
   "id": "ca03936e",
   "metadata": {},
   "outputs": [],
   "source": [
    "sds_ds_keywords = pd.read_csv('../data/sds_ds_keywords.csv')\n",
    "\n",
    "keywords_per_class = sds_ds_keywords.groupby('class')['keywords'].apply(' '.join).reset_index()"
   ]
  },
  {
   "cell_type": "code",
   "execution_count": null,
   "id": "1876c577",
   "metadata": {},
   "outputs": [],
   "source": [
    "keywords_per_class"
   ]
  },
  {
   "cell_type": "code",
   "execution_count": null,
   "id": "e83aaa6c",
   "metadata": {},
   "outputs": [],
   "source": [
    "keywords_per_class['class'].unique()"
   ]
  },
  {
   "cell_type": "code",
   "execution_count": null,
   "id": "855530ca",
   "metadata": {},
   "outputs": [],
   "source": []
  },
  {
   "cell_type": "code",
   "execution_count": null,
   "id": "626ae914",
   "metadata": {},
   "outputs": [],
   "source": []
  }
 ],
 "metadata": {
  "kernelspec": {
   "display_name": "Python 3 (ipykernel)",
   "language": "python",
   "name": "python3"
  },
  "language_info": {
   "codemirror_mode": {
    "name": "ipython",
    "version": 3
   },
   "file_extension": ".py",
   "mimetype": "text/x-python",
   "name": "python",
   "nbconvert_exporter": "python",
   "pygments_lexer": "ipython3",
   "version": "3.9.12"
  }
 },
 "nbformat": 4,
 "nbformat_minor": 5
}
