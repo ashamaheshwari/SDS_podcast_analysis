{
 "cells": [
  {
   "cell_type": "code",
   "execution_count": 1,
   "id": "382dbcb5",
   "metadata": {},
   "outputs": [],
   "source": [
    "import pandas as pd\n",
    "import plotly.express as px\n",
    "import matplotlib.pyplot as plt\n",
    "import seaborn as sns"
   ]
  },
  {
   "cell_type": "code",
   "execution_count": 2,
   "id": "b59cfca5",
   "metadata": {},
   "outputs": [],
   "source": [
    "#sds = pd.read_csv('../data/sds_cleaned.csv')\n",
    "sds_datascience = pd.read_csv('../data/sds_datascience_class.csv')\n",
    "sds_non_datascience = pd.read_csv('../data/non_datascience.csv')"
   ]
  },
  {
   "cell_type": "code",
   "execution_count": 3,
   "id": "2ef1b357",
   "metadata": {},
   "outputs": [
    {
     "data": {
      "text/html": [
       "<div>\n",
       "<style scoped>\n",
       "    .dataframe tbody tr th:only-of-type {\n",
       "        vertical-align: middle;\n",
       "    }\n",
       "\n",
       "    .dataframe tbody tr th {\n",
       "        vertical-align: top;\n",
       "    }\n",
       "\n",
       "    .dataframe thead th {\n",
       "        text-align: right;\n",
       "    }\n",
       "</style>\n",
       "<table border=\"1\" class=\"dataframe\">\n",
       "  <thead>\n",
       "    <tr style=\"text-align: right;\">\n",
       "      <th></th>\n",
       "      <th>episode_name</th>\n",
       "      <th>length_episode</th>\n",
       "      <th>context_episode</th>\n",
       "      <th>guest_name</th>\n",
       "      <th>guest_info</th>\n",
       "      <th>text_episode</th>\n",
       "      <th>episode_number</th>\n",
       "      <th>episode_date</th>\n",
       "      <th>episode_year</th>\n",
       "      <th>episode_day</th>\n",
       "      <th>host_episode</th>\n",
       "      <th>class</th>\n",
       "    </tr>\n",
       "  </thead>\n",
       "  <tbody>\n",
       "    <tr>\n",
       "      <th>0</th>\n",
       "      <td>Ruben Kogel on Self-Serve Analytics, R vs Pyt...</td>\n",
       "      <td>42</td>\n",
       "      <td>Business Data Science Database</td>\n",
       "      <td>Ruben Kogel</td>\n",
       "      <td>Subscribe on Website, Apple Podcasts, Spotify,...</td>\n",
       "      <td>Kirill: This is episode number one with ex-che...</td>\n",
       "      <td>1</td>\n",
       "      <td>2016-09-10</td>\n",
       "      <td>2016</td>\n",
       "      <td>Saturday</td>\n",
       "      <td>Kirill Eremenko</td>\n",
       "      <td>Database</td>\n",
       "    </tr>\n",
       "    <tr>\n",
       "      <th>1</th>\n",
       "      <td>Machine Learning, Recommender Systems and the...</td>\n",
       "      <td>51</td>\n",
       "      <td>Machine Learning Data Science</td>\n",
       "      <td>Hadelin de Ponteves</td>\n",
       "      <td>Subscribe on Website, Apple Podcasts, Spotify,...</td>\n",
       "      <td>Kirill: This is session number two with machin...</td>\n",
       "      <td>2</td>\n",
       "      <td>2016-09-14</td>\n",
       "      <td>2016</td>\n",
       "      <td>Wednesday</td>\n",
       "      <td>Kirill Eremenko</td>\n",
       "      <td>Machine Learning</td>\n",
       "    </tr>\n",
       "    <tr>\n",
       "      <th>2</th>\n",
       "      <td>Defining the Data Problem, Data Science in Ma...</td>\n",
       "      <td>53</td>\n",
       "      <td>Machine Learning R Programming Data Science</td>\n",
       "      <td>Dr. Wilson Pok</td>\n",
       "      <td>Subscribe on Website, Apple Podcasts, Spotify,...</td>\n",
       "      <td>Kirill:\\tThis is episode number three with Nan...</td>\n",
       "      <td>3</td>\n",
       "      <td>2016-09-25</td>\n",
       "      <td>2016</td>\n",
       "      <td>Sunday</td>\n",
       "      <td>Kirill Eremenko</td>\n",
       "      <td>Machine Learning</td>\n",
       "    </tr>\n",
       "    <tr>\n",
       "      <th>3</th>\n",
       "      <td>Data and Strategy, three Pillars of Research ...</td>\n",
       "      <td>60</td>\n",
       "      <td>Business Data Science</td>\n",
       "      <td>Brendan Hogan</td>\n",
       "      <td>Subscribe on Website, Apple Podcasts, Spotify,...</td>\n",
       "      <td>Kirill: This is episode four with business str...</td>\n",
       "      <td>4</td>\n",
       "      <td>2016-10-02</td>\n",
       "      <td>2016</td>\n",
       "      <td>Sunday</td>\n",
       "      <td>Kirill Eremenko</td>\n",
       "      <td>Data Science</td>\n",
       "    </tr>\n",
       "    <tr>\n",
       "      <th>4</th>\n",
       "      <td>Computer Forensics, Fraud Analytics and knowi...</td>\n",
       "      <td>63</td>\n",
       "      <td>Data Science</td>\n",
       "      <td>Dmitry Korneev</td>\n",
       "      <td>Subscribe on Website, Apple Podcasts, Spotify,...</td>\n",
       "      <td>Kirill:\\tThis is episode number five with fore...</td>\n",
       "      <td>5</td>\n",
       "      <td>2016-10-09</td>\n",
       "      <td>2016</td>\n",
       "      <td>Sunday</td>\n",
       "      <td>Kirill Eremenko</td>\n",
       "      <td>Data Science</td>\n",
       "    </tr>\n",
       "    <tr>\n",
       "      <th>...</th>\n",
       "      <td>...</td>\n",
       "      <td>...</td>\n",
       "      <td>...</td>\n",
       "      <td>...</td>\n",
       "      <td>...</td>\n",
       "      <td>...</td>\n",
       "      <td>...</td>\n",
       "      <td>...</td>\n",
       "      <td>...</td>\n",
       "      <td>...</td>\n",
       "      <td>...</td>\n",
       "      <td>...</td>\n",
       "    </tr>\n",
       "    <tr>\n",
       "      <th>446</th>\n",
       "      <td>The A.I. and Machine Learning Landscape, with...</td>\n",
       "      <td>94</td>\n",
       "      <td>Business Data Science Artificial Intelligence</td>\n",
       "      <td>George Mathew</td>\n",
       "      <td>Subscribe on Website, Apple Podcasts, Spotify,...</td>\n",
       "      <td>Jon Krohn:\\t00:00:00This is episode number 679...</td>\n",
       "      <td>679</td>\n",
       "      <td>2023-05-16</td>\n",
       "      <td>2023</td>\n",
       "      <td>Tuesday</td>\n",
       "      <td>Jon Krohn</td>\n",
       "      <td>Artificial Intelligence</td>\n",
       "    </tr>\n",
       "    <tr>\n",
       "      <th>447</th>\n",
       "      <td>Automating Industrial Machines with Data Scie...</td>\n",
       "      <td>30</td>\n",
       "      <td>Business Data Science</td>\n",
       "      <td>Allegra Alessi</td>\n",
       "      <td>Subscribe on Website, Apple Podcasts, Spotify,...</td>\n",
       "      <td>Jon Krohn:\\t00:06\\tThis is episode number 680 ...</td>\n",
       "      <td>680</td>\n",
       "      <td>2023-05-19</td>\n",
       "      <td>2023</td>\n",
       "      <td>Friday</td>\n",
       "      <td>Jon Krohn</td>\n",
       "      <td>Data Science</td>\n",
       "    </tr>\n",
       "    <tr>\n",
       "      <th>448</th>\n",
       "      <td>XGBoost</td>\n",
       "      <td>72</td>\n",
       "      <td>Machine Learning Data Science Python</td>\n",
       "      <td>Matt Harrison</td>\n",
       "      <td>Subscribe on Website, Apple Podcasts, Spotify,...</td>\n",
       "      <td>Jon Krohn:\\t00:00:00\\tThis is episode number 6...</td>\n",
       "      <td>681</td>\n",
       "      <td>2023-05-23</td>\n",
       "      <td>2023</td>\n",
       "      <td>Tuesday</td>\n",
       "      <td>Jon Krohn</td>\n",
       "      <td>Machine Learning</td>\n",
       "    </tr>\n",
       "    <tr>\n",
       "      <th>449</th>\n",
       "      <td>Business Intelligence Tools, with Mico Yuk</td>\n",
       "      <td>28</td>\n",
       "      <td>Business Data Science</td>\n",
       "      <td>Mico Yuk</td>\n",
       "      <td>Subscribe on Website, Apple Podcasts, Spotify,...</td>\n",
       "      <td>Jon Krohn:\\t00:05\\tThis is episode number 682 ...</td>\n",
       "      <td>682</td>\n",
       "      <td>2023-05-26</td>\n",
       "      <td>2023</td>\n",
       "      <td>Friday</td>\n",
       "      <td>Jon Krohn</td>\n",
       "      <td>Data Science</td>\n",
       "    </tr>\n",
       "    <tr>\n",
       "      <th>450</th>\n",
       "      <td>Contextual A.I. for Adapting to Adversaries, ...</td>\n",
       "      <td>81</td>\n",
       "      <td>Data Science Artificial Intelligence</td>\n",
       "      <td>Matar Haller</td>\n",
       "      <td>Subscribe on Website, Apple Podcasts, Spotify,...</td>\n",
       "      <td>Jon Krohn:\\t00:00:05\\tThis is episode number 6...</td>\n",
       "      <td>683</td>\n",
       "      <td>2023-05-30</td>\n",
       "      <td>2023</td>\n",
       "      <td>Tuesday</td>\n",
       "      <td>Jon Krohn</td>\n",
       "      <td>Artificial Intelligence</td>\n",
       "    </tr>\n",
       "  </tbody>\n",
       "</table>\n",
       "<p>451 rows × 12 columns</p>\n",
       "</div>"
      ],
      "text/plain": [
       "                                          episode_name  length_episode  \\\n",
       "0     Ruben Kogel on Self-Serve Analytics, R vs Pyt...              42   \n",
       "1     Machine Learning, Recommender Systems and the...              51   \n",
       "2     Defining the Data Problem, Data Science in Ma...              53   \n",
       "3     Data and Strategy, three Pillars of Research ...              60   \n",
       "4     Computer Forensics, Fraud Analytics and knowi...              63   \n",
       "..                                                 ...             ...   \n",
       "446   The A.I. and Machine Learning Landscape, with...              94   \n",
       "447   Automating Industrial Machines with Data Scie...              30   \n",
       "448                                            XGBoost              72   \n",
       "449         Business Intelligence Tools, with Mico Yuk              28   \n",
       "450   Contextual A.I. for Adapting to Adversaries, ...              81   \n",
       "\n",
       "                                   context_episode             guest_name  \\\n",
       "0                   Business Data Science Database           Ruben Kogel    \n",
       "1                    Machine Learning Data Science   Hadelin de Ponteves    \n",
       "2      Machine Learning R Programming Data Science        Dr. Wilson Pok    \n",
       "3                            Business Data Science         Brendan Hogan    \n",
       "4                                     Data Science        Dmitry Korneev    \n",
       "..                                             ...                    ...   \n",
       "446  Business Data Science Artificial Intelligence         George Mathew    \n",
       "447                          Business Data Science        Allegra Alessi    \n",
       "448           Machine Learning Data Science Python         Matt Harrison    \n",
       "449                          Business Data Science              Mico Yuk    \n",
       "450           Data Science Artificial Intelligence          Matar Haller    \n",
       "\n",
       "                                            guest_info  \\\n",
       "0    Subscribe on Website, Apple Podcasts, Spotify,...   \n",
       "1    Subscribe on Website, Apple Podcasts, Spotify,...   \n",
       "2    Subscribe on Website, Apple Podcasts, Spotify,...   \n",
       "3    Subscribe on Website, Apple Podcasts, Spotify,...   \n",
       "4    Subscribe on Website, Apple Podcasts, Spotify,...   \n",
       "..                                                 ...   \n",
       "446  Subscribe on Website, Apple Podcasts, Spotify,...   \n",
       "447  Subscribe on Website, Apple Podcasts, Spotify,...   \n",
       "448  Subscribe on Website, Apple Podcasts, Spotify,...   \n",
       "449  Subscribe on Website, Apple Podcasts, Spotify,...   \n",
       "450  Subscribe on Website, Apple Podcasts, Spotify,...   \n",
       "\n",
       "                                          text_episode  episode_number  \\\n",
       "0    Kirill: This is episode number one with ex-che...               1   \n",
       "1    Kirill: This is session number two with machin...               2   \n",
       "2    Kirill:\\tThis is episode number three with Nan...               3   \n",
       "3    Kirill: This is episode four with business str...               4   \n",
       "4    Kirill:\\tThis is episode number five with fore...               5   \n",
       "..                                                 ...             ...   \n",
       "446  Jon Krohn:\\t00:00:00This is episode number 679...             679   \n",
       "447  Jon Krohn:\\t00:06\\tThis is episode number 680 ...             680   \n",
       "448  Jon Krohn:\\t00:00:00\\tThis is episode number 6...             681   \n",
       "449  Jon Krohn:\\t00:05\\tThis is episode number 682 ...             682   \n",
       "450  Jon Krohn:\\t00:00:05\\tThis is episode number 6...             683   \n",
       "\n",
       "    episode_date  episode_year episode_day     host_episode  \\\n",
       "0     2016-09-10          2016    Saturday  Kirill Eremenko   \n",
       "1     2016-09-14          2016   Wednesday  Kirill Eremenko   \n",
       "2     2016-09-25          2016      Sunday  Kirill Eremenko   \n",
       "3     2016-10-02          2016      Sunday  Kirill Eremenko   \n",
       "4     2016-10-09          2016      Sunday  Kirill Eremenko   \n",
       "..           ...           ...         ...              ...   \n",
       "446   2023-05-16          2023     Tuesday        Jon Krohn   \n",
       "447   2023-05-19          2023      Friday        Jon Krohn   \n",
       "448   2023-05-23          2023     Tuesday        Jon Krohn   \n",
       "449   2023-05-26          2023      Friday        Jon Krohn   \n",
       "450   2023-05-30          2023     Tuesday        Jon Krohn   \n",
       "\n",
       "                       class  \n",
       "0                   Database  \n",
       "1           Machine Learning  \n",
       "2           Machine Learning  \n",
       "3               Data Science  \n",
       "4               Data Science  \n",
       "..                       ...  \n",
       "446  Artificial Intelligence  \n",
       "447             Data Science  \n",
       "448         Machine Learning  \n",
       "449             Data Science  \n",
       "450  Artificial Intelligence  \n",
       "\n",
       "[451 rows x 12 columns]"
      ]
     },
     "execution_count": 3,
     "metadata": {},
     "output_type": "execute_result"
    }
   ],
   "source": [
    "sds_datascience"
   ]
  },
  {
   "cell_type": "code",
   "execution_count": 4,
   "id": "b6f18b14",
   "metadata": {},
   "outputs": [],
   "source": [
    "sds_non_datascience['class'] = ''"
   ]
  },
  {
   "cell_type": "code",
   "execution_count": 5,
   "id": "aa04a2af",
   "metadata": {},
   "outputs": [],
   "source": [
    "sds_non_datascience['class'] = sds_non_datascience['class'].replace('', 'Health, Life and Philosophy')"
   ]
  },
  {
   "cell_type": "code",
   "execution_count": 6,
   "id": "4a30ad05",
   "metadata": {},
   "outputs": [
    {
     "data": {
      "text/html": [
       "<div>\n",
       "<style scoped>\n",
       "    .dataframe tbody tr th:only-of-type {\n",
       "        vertical-align: middle;\n",
       "    }\n",
       "\n",
       "    .dataframe tbody tr th {\n",
       "        vertical-align: top;\n",
       "    }\n",
       "\n",
       "    .dataframe thead th {\n",
       "        text-align: right;\n",
       "    }\n",
       "</style>\n",
       "<table border=\"1\" class=\"dataframe\">\n",
       "  <thead>\n",
       "    <tr style=\"text-align: right;\">\n",
       "      <th></th>\n",
       "      <th>episode_name</th>\n",
       "      <th>length_episode</th>\n",
       "      <th>context_episode</th>\n",
       "      <th>guest_name</th>\n",
       "      <th>guest_info</th>\n",
       "      <th>text_episode</th>\n",
       "      <th>episode_number</th>\n",
       "      <th>episode_date</th>\n",
       "      <th>episode_year</th>\n",
       "      <th>episode_day</th>\n",
       "      <th>host_episode</th>\n",
       "      <th>class</th>\n",
       "    </tr>\n",
       "  </thead>\n",
       "  <tbody>\n",
       "    <tr>\n",
       "      <th>0</th>\n",
       "      <td>SEOI PEI – The skin of water listen now</td>\n",
       "      <td>10</td>\n",
       "      <td>Data Science</td>\n",
       "      <td>Kirill Eremenko</td>\n",
       "      <td>Subscribe on Website, Apple Podcasts, Spotify,...</td>\n",
       "      <td>Kirill:\\tThis is episode number 22, and today ...</td>\n",
       "      <td>22</td>\n",
       "      <td>2017-01-29</td>\n",
       "      <td>2017</td>\n",
       "      <td>Sunday</td>\n",
       "      <td>Kirill Eremenko</td>\n",
       "      <td>Health, Life and Philosophy</td>\n",
       "    </tr>\n",
       "    <tr>\n",
       "      <th>1</th>\n",
       "      <td>“What are you passionate about?”</td>\n",
       "      <td>5</td>\n",
       "      <td>Data Science</td>\n",
       "      <td>Kirill Eremenko</td>\n",
       "      <td>Subscribe on Website, Apple Podcasts, Spotify,...</td>\n",
       "      <td>Kirill:\\tThis is Five Minute Friday episode nu...</td>\n",
       "      <td>24</td>\n",
       "      <td>2017-02-04</td>\n",
       "      <td>2017</td>\n",
       "      <td>Saturday</td>\n",
       "      <td>Kirill Eremenko</td>\n",
       "      <td>Health, Life and Philosophy</td>\n",
       "    </tr>\n",
       "    <tr>\n",
       "      <th>2</th>\n",
       "      <td>Sweat every day</td>\n",
       "      <td>6</td>\n",
       "      <td>Data Science</td>\n",
       "      <td>Kirill Eremenko</td>\n",
       "      <td>Subscribe on Website, Apple Podcasts, Spotify,...</td>\n",
       "      <td>Kirill:\\tThis is Five Minute Friday episode nu...</td>\n",
       "      <td>26</td>\n",
       "      <td>2017-02-11</td>\n",
       "      <td>2017</td>\n",
       "      <td>Saturday</td>\n",
       "      <td>Kirill Eremenko</td>\n",
       "      <td>Health, Life and Philosophy</td>\n",
       "    </tr>\n",
       "    <tr>\n",
       "      <th>3</th>\n",
       "      <td>Career choice, disruptions in finance and app...</td>\n",
       "      <td>62</td>\n",
       "      <td>Uncategorized</td>\n",
       "      <td>Aziz Mamatov</td>\n",
       "      <td>Subscribe on Website, Apple Podcasts, Spotify,...</td>\n",
       "      <td>Kirill:\\tThis is episode number 27, with Vice ...</td>\n",
       "      <td>27</td>\n",
       "      <td>2017-02-17</td>\n",
       "      <td>2017</td>\n",
       "      <td>Friday</td>\n",
       "      <td>Kirill Eremenko</td>\n",
       "      <td>Health, Life and Philosophy</td>\n",
       "    </tr>\n",
       "    <tr>\n",
       "      <th>4</th>\n",
       "      <td>Pride and humility</td>\n",
       "      <td>5</td>\n",
       "      <td>Data Science</td>\n",
       "      <td>Kirill Eremenko</td>\n",
       "      <td>Subscribe on Website, Apple Podcasts, Spotify,...</td>\n",
       "      <td>Kirill:\\tThis is Five Minute Friday episode nu...</td>\n",
       "      <td>28</td>\n",
       "      <td>2017-02-17</td>\n",
       "      <td>2017</td>\n",
       "      <td>Friday</td>\n",
       "      <td>Kirill Eremenko</td>\n",
       "      <td>Health, Life and Philosophy</td>\n",
       "    </tr>\n",
       "    <tr>\n",
       "      <th>...</th>\n",
       "      <td>...</td>\n",
       "      <td>...</td>\n",
       "      <td>...</td>\n",
       "      <td>...</td>\n",
       "      <td>...</td>\n",
       "      <td>...</td>\n",
       "      <td>...</td>\n",
       "      <td>...</td>\n",
       "      <td>...</td>\n",
       "      <td>...</td>\n",
       "      <td>...</td>\n",
       "      <td>...</td>\n",
       "    </tr>\n",
       "    <tr>\n",
       "      <th>226</th>\n",
       "      <td>The Four Requirements for Expertise (beyond t...</td>\n",
       "      <td>6</td>\n",
       "      <td>Data Science Career Tips</td>\n",
       "      <td>Jon Krohn</td>\n",
       "      <td>Subscribe on Website, Apple Podcasts, Spotify,...</td>\n",
       "      <td>(00:05):\\nThis is Five-Minute Friday on the re...</td>\n",
       "      <td>616</td>\n",
       "      <td>2022-10-07</td>\n",
       "      <td>2022</td>\n",
       "      <td>Friday</td>\n",
       "      <td>Jon Krohn</td>\n",
       "      <td>Health, Life and Philosophy</td>\n",
       "    </tr>\n",
       "    <tr>\n",
       "      <th>227</th>\n",
       "      <td>The Joy of Atelic Activities</td>\n",
       "      <td>4</td>\n",
       "      <td>Life Philosophy Data Science</td>\n",
       "      <td>Jon Krohn</td>\n",
       "      <td>Subscribe on Website, Apple Podcasts, Spotify,...</td>\n",
       "      <td>(00:03):\\nThis is Five-Minute Friday on The Jo...</td>\n",
       "      <td>618</td>\n",
       "      <td>2022-10-14</td>\n",
       "      <td>2022</td>\n",
       "      <td>Friday</td>\n",
       "      <td>Jon Krohn</td>\n",
       "      <td>Health, Life and Philosophy</td>\n",
       "    </tr>\n",
       "    <tr>\n",
       "      <th>228</th>\n",
       "      <td>Burnout</td>\n",
       "      <td>24</td>\n",
       "      <td>Business Data Science Productivity Career Tips</td>\n",
       "      <td>Christina Maslach</td>\n",
       "      <td>Subscribe on Website, Apple Podcasts, Spotify,...</td>\n",
       "      <td>Jon:\\t00:05\\tThis is episode number 622 with P...</td>\n",
       "      <td>622</td>\n",
       "      <td>2022-10-28</td>\n",
       "      <td>2022</td>\n",
       "      <td>Friday</td>\n",
       "      <td>Jon Krohn</td>\n",
       "      <td>Health, Life and Philosophy</td>\n",
       "    </tr>\n",
       "    <tr>\n",
       "      <th>229</th>\n",
       "      <td>What I Learned in 2022</td>\n",
       "      <td>37</td>\n",
       "      <td>Data Science</td>\n",
       "      <td>Jon Krohn</td>\n",
       "      <td>Subscribe on Website, Apple Podcasts, Spotify,...</td>\n",
       "      <td>(00:05):\\nThis is Five-Minute Friday on what I...</td>\n",
       "      <td>640</td>\n",
       "      <td>2022-12-29</td>\n",
       "      <td>2022</td>\n",
       "      <td>Thursday</td>\n",
       "      <td>Jon Krohn</td>\n",
       "      <td>Health, Life and Philosophy</td>\n",
       "    </tr>\n",
       "    <tr>\n",
       "      <th>230</th>\n",
       "      <td>The Most Popular SuperDataScience Podcast Epi...</td>\n",
       "      <td>8</td>\n",
       "      <td>Data Science</td>\n",
       "      <td>Jon Krohn</td>\n",
       "      <td>Subscribe on Website, Apple Podcasts, Spotify,...</td>\n",
       "      <td>(00:05):\\nThis is Five-Minute Friday on the Mo...</td>\n",
       "      <td>662</td>\n",
       "      <td>2023-03-17</td>\n",
       "      <td>2023</td>\n",
       "      <td>Friday</td>\n",
       "      <td>Jon Krohn</td>\n",
       "      <td>Health, Life and Philosophy</td>\n",
       "    </tr>\n",
       "  </tbody>\n",
       "</table>\n",
       "<p>231 rows × 12 columns</p>\n",
       "</div>"
      ],
      "text/plain": [
       "                                          episode_name  length_episode  \\\n",
       "0              SEOI PEI – The skin of water listen now              10   \n",
       "1                     “What are you passionate about?”               5   \n",
       "2                                      Sweat every day               6   \n",
       "3     Career choice, disruptions in finance and app...              62   \n",
       "4                                   Pride and humility               5   \n",
       "..                                                 ...             ...   \n",
       "226   The Four Requirements for Expertise (beyond t...               6   \n",
       "227                       The Joy of Atelic Activities               4   \n",
       "228                                            Burnout              24   \n",
       "229                             What I Learned in 2022              37   \n",
       "230   The Most Popular SuperDataScience Podcast Epi...               8   \n",
       "\n",
       "                                    context_episode           guest_name  \\\n",
       "0                                      Data Science     Kirill Eremenko    \n",
       "1                                      Data Science     Kirill Eremenko    \n",
       "2                                      Data Science     Kirill Eremenko    \n",
       "3                                     Uncategorized        Aziz Mamatov    \n",
       "4                                      Data Science     Kirill Eremenko    \n",
       "..                                              ...                  ...   \n",
       "226                        Data Science Career Tips           Jon Krohn    \n",
       "227                    Life Philosophy Data Science           Jon Krohn    \n",
       "228  Business Data Science Productivity Career Tips   Christina Maslach    \n",
       "229                                    Data Science           Jon Krohn    \n",
       "230                                    Data Science           Jon Krohn    \n",
       "\n",
       "                                            guest_info  \\\n",
       "0    Subscribe on Website, Apple Podcasts, Spotify,...   \n",
       "1    Subscribe on Website, Apple Podcasts, Spotify,...   \n",
       "2    Subscribe on Website, Apple Podcasts, Spotify,...   \n",
       "3    Subscribe on Website, Apple Podcasts, Spotify,...   \n",
       "4    Subscribe on Website, Apple Podcasts, Spotify,...   \n",
       "..                                                 ...   \n",
       "226  Subscribe on Website, Apple Podcasts, Spotify,...   \n",
       "227  Subscribe on Website, Apple Podcasts, Spotify,...   \n",
       "228  Subscribe on Website, Apple Podcasts, Spotify,...   \n",
       "229  Subscribe on Website, Apple Podcasts, Spotify,...   \n",
       "230  Subscribe on Website, Apple Podcasts, Spotify,...   \n",
       "\n",
       "                                          text_episode  episode_number  \\\n",
       "0    Kirill:\\tThis is episode number 22, and today ...              22   \n",
       "1    Kirill:\\tThis is Five Minute Friday episode nu...              24   \n",
       "2    Kirill:\\tThis is Five Minute Friday episode nu...              26   \n",
       "3    Kirill:\\tThis is episode number 27, with Vice ...              27   \n",
       "4    Kirill:\\tThis is Five Minute Friday episode nu...              28   \n",
       "..                                                 ...             ...   \n",
       "226  (00:05):\\nThis is Five-Minute Friday on the re...             616   \n",
       "227  (00:03):\\nThis is Five-Minute Friday on The Jo...             618   \n",
       "228  Jon:\\t00:05\\tThis is episode number 622 with P...             622   \n",
       "229  (00:05):\\nThis is Five-Minute Friday on what I...             640   \n",
       "230  (00:05):\\nThis is Five-Minute Friday on the Mo...             662   \n",
       "\n",
       "    episode_date  episode_year episode_day     host_episode  \\\n",
       "0     2017-01-29          2017      Sunday  Kirill Eremenko   \n",
       "1     2017-02-04          2017    Saturday  Kirill Eremenko   \n",
       "2     2017-02-11          2017    Saturday  Kirill Eremenko   \n",
       "3     2017-02-17          2017      Friday  Kirill Eremenko   \n",
       "4     2017-02-17          2017      Friday  Kirill Eremenko   \n",
       "..           ...           ...         ...              ...   \n",
       "226   2022-10-07          2022      Friday        Jon Krohn   \n",
       "227   2022-10-14          2022      Friday        Jon Krohn   \n",
       "228   2022-10-28          2022      Friday        Jon Krohn   \n",
       "229   2022-12-29          2022    Thursday        Jon Krohn   \n",
       "230   2023-03-17          2023      Friday        Jon Krohn   \n",
       "\n",
       "                           class  \n",
       "0    Health, Life and Philosophy  \n",
       "1    Health, Life and Philosophy  \n",
       "2    Health, Life and Philosophy  \n",
       "3    Health, Life and Philosophy  \n",
       "4    Health, Life and Philosophy  \n",
       "..                           ...  \n",
       "226  Health, Life and Philosophy  \n",
       "227  Health, Life and Philosophy  \n",
       "228  Health, Life and Philosophy  \n",
       "229  Health, Life and Philosophy  \n",
       "230  Health, Life and Philosophy  \n",
       "\n",
       "[231 rows x 12 columns]"
      ]
     },
     "execution_count": 6,
     "metadata": {},
     "output_type": "execute_result"
    }
   ],
   "source": [
    "sds_non_datascience"
   ]
  },
  {
   "cell_type": "code",
   "execution_count": 7,
   "id": "8a04a873",
   "metadata": {},
   "outputs": [],
   "source": [
    "sds = pd.concat([sds_datascience, sds_non_datascience])"
   ]
  },
  {
   "cell_type": "code",
   "execution_count": 8,
   "id": "5d49aa60",
   "metadata": {},
   "outputs": [],
   "source": [
    "metrics_ds = pd.DataFrame(sds_datascience.groupby(['episode_year', 'class'])['episode_number'].count()).reset_index()"
   ]
  },
  {
   "cell_type": "code",
   "execution_count": 9,
   "id": "0dfab34d",
   "metadata": {},
   "outputs": [],
   "source": [
    "metrics_complete = pd.DataFrame(sds.groupby(['episode_year', 'class'])['episode_number'].count()).reset_index()"
   ]
  },
  {
   "cell_type": "code",
   "execution_count": null,
   "id": "c48bc7a2",
   "metadata": {},
   "outputs": [],
   "source": [
    "# plot for complete metrics\n",
    "fig = px.sunburst(metrics_complete, path=['episode_year', 'class', 'episode_number'], values='episode_number', color='class')\n",
    "                  #color_discrete_map={'(?)':'black', 'Lunch':'gold', 'Dinner':'darkblue'})\n",
    "fig.show()"
   ]
  },
  {
   "cell_type": "code",
   "execution_count": null,
   "id": "b09dfac1",
   "metadata": {},
   "outputs": [],
   "source": [
    "# plot for complete metrics\n",
    "fig = px.sunburst(metrics_ds, path=['episode_year', 'class', 'episode_number'], values='episode_number', color='class')\n",
    "                  #color_discrete_map={'(?)':'black', 'Lunch':'gold', 'Dinner':'darkblue'})\n",
    "fig.show()"
   ]
  },
  {
   "cell_type": "code",
   "execution_count": 41,
   "id": "ac48bea8",
   "metadata": {},
   "outputs": [
    {
     "data": {
      "application/vnd.plotly.v1+json": {
       "config": {
        "plotlyServerURL": "https://plot.ly"
       },
       "data": [
        {
         "alignmentgroup": "True",
         "customdata": [
          [
           "Data Science"
          ],
          [
           "Data Science"
          ],
          [
           "Data Science"
          ],
          [
           "Data Science"
          ],
          [
           "Data Science"
          ],
          [
           "Data Science"
          ],
          [
           "Data Science"
          ],
          [
           "Data Science"
          ]
         ],
         "hovertemplate": "class=%{customdata[0]}<br>episode_year=%{x}<br>episode_number=%{y}<extra></extra>",
         "legendgroup": "Data Science",
         "marker": {
          "color": "#636efa",
          "pattern": {
           "shape": ""
          }
         },
         "name": "Data Science",
         "offsetgroup": "Data Science",
         "orientation": "v",
         "showlegend": true,
         "textposition": "auto",
         "type": "bar",
         "x": [
          2016,
          2017,
          2018,
          2019,
          2020,
          2021,
          2022,
          2023
         ],
         "xaxis": "x",
         "y": [
          6,
          13,
          18,
          25,
          32,
          30,
          19,
          4
         ],
         "yaxis": "y"
        },
        {
         "alignmentgroup": "True",
         "customdata": [
          [
           "Data Visualization"
          ],
          [
           "Data Visualization"
          ],
          [
           "Data Visualization"
          ],
          [
           "Data Visualization"
          ],
          [
           "Data Visualization"
          ],
          [
           "Data Visualization"
          ],
          [
           "Data Visualization"
          ],
          [
           "Data Visualization"
          ]
         ],
         "hovertemplate": "class=%{customdata[0]}<br>episode_year=%{x}<br>episode_number=%{y}<extra></extra>",
         "legendgroup": "Data Visualization",
         "marker": {
          "color": "#EF553B",
          "pattern": {
           "shape": ""
          }
         },
         "name": "Data Visualization",
         "offsetgroup": "Data Visualization",
         "orientation": "v",
         "showlegend": true,
         "textposition": "auto",
         "type": "bar",
         "x": [
          2016,
          2017,
          2018,
          2019,
          2020,
          2021,
          2022,
          2023
         ],
         "xaxis": "x",
         "y": [
          2,
          8,
          5,
          5,
          4,
          3,
          1,
          3
         ],
         "yaxis": "y"
        },
        {
         "alignmentgroup": "True",
         "customdata": [
          [
           "Database"
          ],
          [
           "Database"
          ],
          [
           "Database"
          ]
         ],
         "hovertemplate": "class=%{customdata[0]}<br>episode_year=%{x}<br>episode_number=%{y}<extra></extra>",
         "legendgroup": "Database",
         "marker": {
          "color": "#00cc96",
          "pattern": {
           "shape": ""
          }
         },
         "name": "Database",
         "offsetgroup": "Database",
         "orientation": "v",
         "showlegend": true,
         "textposition": "auto",
         "type": "bar",
         "x": [
          2016,
          2017,
          2018
         ],
         "xaxis": "x",
         "y": [
          3,
          6,
          2
         ],
         "yaxis": "y"
        },
        {
         "alignmentgroup": "True",
         "customdata": [
          [
           "Machine Learning"
          ],
          [
           "Machine Learning"
          ],
          [
           "Machine Learning"
          ],
          [
           "Machine Learning"
          ],
          [
           "Machine Learning"
          ],
          [
           "Machine Learning"
          ],
          [
           "Machine Learning"
          ],
          [
           "Machine Learning"
          ]
         ],
         "hovertemplate": "class=%{customdata[0]}<br>episode_year=%{x}<br>episode_number=%{y}<extra></extra>",
         "legendgroup": "Machine Learning",
         "marker": {
          "color": "#ab63fa",
          "pattern": {
           "shape": ""
          }
         },
         "name": "Machine Learning",
         "offsetgroup": "Machine Learning",
         "orientation": "v",
         "showlegend": true,
         "textposition": "auto",
         "type": "bar",
         "x": [
          2016,
          2017,
          2018,
          2019,
          2020,
          2021,
          2022,
          2023
         ],
         "xaxis": "x",
         "y": [
          4,
          6,
          9,
          9,
          6,
          14,
          22,
          7
         ],
         "yaxis": "y"
        },
        {
         "alignmentgroup": "True",
         "customdata": [
          [
           "Programming"
          ],
          [
           "Programming"
          ],
          [
           "Programming"
          ],
          [
           "Programming"
          ],
          [
           "Programming"
          ],
          [
           "Programming"
          ],
          [
           "Programming"
          ]
         ],
         "hovertemplate": "class=%{customdata[0]}<br>episode_year=%{x}<br>episode_number=%{y}<extra></extra>",
         "legendgroup": "Programming",
         "marker": {
          "color": "#FFA15A",
          "pattern": {
           "shape": ""
          }
         },
         "name": "Programming",
         "offsetgroup": "Programming",
         "orientation": "v",
         "showlegend": true,
         "textposition": "auto",
         "type": "bar",
         "x": [
          2016,
          2017,
          2018,
          2019,
          2020,
          2021,
          2022
         ],
         "xaxis": "x",
         "y": [
          2,
          2,
          4,
          3,
          2,
          6,
          2
         ],
         "yaxis": "y"
        },
        {
         "alignmentgroup": "True",
         "customdata": [
          [
           "Artificial Intelligence"
          ],
          [
           "Artificial Intelligence"
          ],
          [
           "Artificial Intelligence"
          ],
          [
           "Artificial Intelligence"
          ],
          [
           "Artificial Intelligence"
          ],
          [
           "Artificial Intelligence"
          ],
          [
           "Artificial Intelligence"
          ]
         ],
         "hovertemplate": "class=%{customdata[0]}<br>episode_year=%{x}<br>episode_number=%{y}<extra></extra>",
         "legendgroup": "Artificial Intelligence",
         "marker": {
          "color": "#19d3f3",
          "pattern": {
           "shape": ""
          }
         },
         "name": "Artificial Intelligence",
         "offsetgroup": "Artificial Intelligence",
         "orientation": "v",
         "showlegend": true,
         "textposition": "auto",
         "type": "bar",
         "x": [
          2017,
          2018,
          2019,
          2020,
          2021,
          2022,
          2023
         ],
         "xaxis": "x",
         "y": [
          1,
          5,
          18,
          9,
          12,
          20,
          20
         ],
         "yaxis": "y"
        },
        {
         "alignmentgroup": "True",
         "customdata": [
          [
           "Artificial Intelligence, Deep Learning"
          ],
          [
           "Artificial Intelligence, Deep Learning"
          ],
          [
           "Artificial Intelligence, Deep Learning"
          ],
          [
           "Artificial Intelligence, Deep Learning"
          ]
         ],
         "hovertemplate": "class=%{customdata[0]}<br>episode_year=%{x}<br>episode_number=%{y}<extra></extra>",
         "legendgroup": "Artificial Intelligence, Deep Learning",
         "marker": {
          "color": "#FF6692",
          "pattern": {
           "shape": ""
          }
         },
         "name": "Artificial Intelligence, Deep Learning",
         "offsetgroup": "Artificial Intelligence, Deep Learning",
         "orientation": "v",
         "showlegend": true,
         "textposition": "auto",
         "type": "bar",
         "x": [
          2017,
          2018,
          2021,
          2022
         ],
         "xaxis": "x",
         "y": [
          4,
          1,
          2,
          1
         ],
         "yaxis": "y"
        },
        {
         "alignmentgroup": "True",
         "customdata": [
          [
           "Machine Learning, Artificial Intelligence"
          ],
          [
           "Machine Learning, Artificial Intelligence"
          ],
          [
           "Machine Learning, Artificial Intelligence"
          ],
          [
           "Machine Learning, Artificial Intelligence"
          ],
          [
           "Machine Learning, Artificial Intelligence"
          ],
          [
           "Machine Learning, Artificial Intelligence"
          ],
          [
           "Machine Learning, Artificial Intelligence"
          ]
         ],
         "hovertemplate": "class=%{customdata[0]}<br>episode_year=%{x}<br>episode_number=%{y}<extra></extra>",
         "legendgroup": "Machine Learning, Artificial Intelligence",
         "marker": {
          "color": "#B6E880",
          "pattern": {
           "shape": ""
          }
         },
         "name": "Machine Learning, Artificial Intelligence",
         "offsetgroup": "Machine Learning, Artificial Intelligence",
         "orientation": "v",
         "showlegend": true,
         "textposition": "auto",
         "type": "bar",
         "x": [
          2017,
          2018,
          2019,
          2020,
          2021,
          2022,
          2023
         ],
         "xaxis": "x",
         "y": [
          2,
          4,
          6,
          2,
          3,
          2,
          3
         ],
         "yaxis": "y"
        },
        {
         "alignmentgroup": "True",
         "customdata": [
          [
           "Machine Learning, Artificial Intelligence, Deep Learning"
          ],
          [
           "Machine Learning, Artificial Intelligence, Deep Learning"
          ],
          [
           "Machine Learning, Artificial Intelligence, Deep Learning"
          ],
          [
           "Machine Learning, Artificial Intelligence, Deep Learning"
          ]
         ],
         "hovertemplate": "class=%{customdata[0]}<br>episode_year=%{x}<br>episode_number=%{y}<extra></extra>",
         "legendgroup": "Machine Learning, Artificial Intelligence, Deep Learning",
         "marker": {
          "color": "#FF97FF",
          "pattern": {
           "shape": ""
          }
         },
         "name": "Machine Learning, Artificial Intelligence, Deep Learning",
         "offsetgroup": "Machine Learning, Artificial Intelligence, Deep Learning",
         "orientation": "v",
         "showlegend": true,
         "textposition": "auto",
         "type": "bar",
         "x": [
          2017,
          2018,
          2019,
          2021
         ],
         "xaxis": "x",
         "y": [
          5,
          5,
          2,
          1
         ],
         "yaxis": "y"
        },
        {
         "alignmentgroup": "True",
         "customdata": [
          [
           "Machine Learning, Deep Learning"
          ],
          [
           "Machine Learning, Deep Learning"
          ],
          [
           "Machine Learning, Deep Learning"
          ],
          [
           "Machine Learning, Deep Learning"
          ],
          [
           "Machine Learning, Deep Learning"
          ],
          [
           "Machine Learning, Deep Learning"
          ]
         ],
         "hovertemplate": "class=%{customdata[0]}<br>episode_year=%{x}<br>episode_number=%{y}<extra></extra>",
         "legendgroup": "Machine Learning, Deep Learning",
         "marker": {
          "color": "#FECB52",
          "pattern": {
           "shape": ""
          }
         },
         "name": "Machine Learning, Deep Learning",
         "offsetgroup": "Machine Learning, Deep Learning",
         "orientation": "v",
         "showlegend": true,
         "textposition": "auto",
         "type": "bar",
         "x": [
          2017,
          2018,
          2019,
          2020,
          2021,
          2022
         ],
         "xaxis": "x",
         "y": [
          5,
          2,
          3,
          2,
          1,
          3
         ],
         "yaxis": "y"
        },
        {
         "alignmentgroup": "True",
         "customdata": [
          [
           "Programming, Data Visualization"
          ],
          [
           "Programming, Data Visualization"
          ]
         ],
         "hovertemplate": "class=%{customdata[0]}<br>episode_year=%{x}<br>episode_number=%{y}<extra></extra>",
         "legendgroup": "Programming, Data Visualization",
         "marker": {
          "color": "#636efa",
          "pattern": {
           "shape": ""
          }
         },
         "name": "Programming, Data Visualization",
         "offsetgroup": "Programming, Data Visualization",
         "orientation": "v",
         "showlegend": true,
         "textposition": "auto",
         "type": "bar",
         "x": [
          2017,
          2018
         ],
         "xaxis": "x",
         "y": [
          3,
          1
         ],
         "yaxis": "y"
        },
        {
         "alignmentgroup": "True",
         "customdata": [
          [
           "Blockchain"
          ],
          [
           "Blockchain"
          ]
         ],
         "hovertemplate": "class=%{customdata[0]}<br>episode_year=%{x}<br>episode_number=%{y}<extra></extra>",
         "legendgroup": "Blockchain",
         "marker": {
          "color": "#EF553B",
          "pattern": {
           "shape": ""
          }
         },
         "name": "Blockchain",
         "offsetgroup": "Blockchain",
         "orientation": "v",
         "showlegend": true,
         "textposition": "auto",
         "type": "bar",
         "x": [
          2018,
          2022
         ],
         "xaxis": "x",
         "y": [
          3,
          1
         ],
         "yaxis": "y"
        },
        {
         "alignmentgroup": "True",
         "customdata": [
          [
           "Deep Learning"
          ]
         ],
         "hovertemplate": "class=%{customdata[0]}<br>episode_year=%{x}<br>episode_number=%{y}<extra></extra>",
         "legendgroup": "Deep Learning",
         "marker": {
          "color": "#00cc96",
          "pattern": {
           "shape": ""
          }
         },
         "name": "Deep Learning",
         "offsetgroup": "Deep Learning",
         "orientation": "v",
         "showlegend": true,
         "textposition": "auto",
         "type": "bar",
         "x": [
          2021
         ],
         "xaxis": "x",
         "y": [
          1
         ],
         "yaxis": "y"
        },
        {
         "alignmentgroup": "True",
         "customdata": [
          [
           "Data Science, Career"
          ],
          [
           "Data Science, Career"
          ]
         ],
         "hovertemplate": "class=%{customdata[0]}<br>episode_year=%{x}<br>episode_number=%{y}<extra></extra>",
         "legendgroup": "Data Science, Career",
         "marker": {
          "color": "#ab63fa",
          "pattern": {
           "shape": ""
          }
         },
         "name": "Data Science, Career",
         "offsetgroup": "Data Science, Career",
         "orientation": "v",
         "showlegend": true,
         "textposition": "auto",
         "type": "bar",
         "x": [
          2022,
          2023
         ],
         "xaxis": "x",
         "y": [
          5,
          4
         ],
         "yaxis": "y"
        },
        {
         "alignmentgroup": "True",
         "customdata": [
          [
           "Data Science, Productivity"
          ],
          [
           "Data Science, Productivity"
          ]
         ],
         "hovertemplate": "class=%{customdata[0]}<br>episode_year=%{x}<br>episode_number=%{y}<extra></extra>",
         "legendgroup": "Data Science, Productivity",
         "marker": {
          "color": "#FFA15A",
          "pattern": {
           "shape": ""
          }
         },
         "name": "Data Science, Productivity",
         "offsetgroup": "Data Science, Productivity",
         "orientation": "v",
         "showlegend": true,
         "textposition": "auto",
         "type": "bar",
         "x": [
          2022,
          2023
         ],
         "xaxis": "x",
         "y": [
          1,
          1
         ],
         "yaxis": "y"
        }
       ],
       "layout": {
        "barmode": "relative",
        "font": {
         "size": 10
        },
        "height": 600,
        "legend": {
         "title": {
          "text": "categories"
         },
         "tracegroupgap": 0
        },
        "margin": {
         "t": 60
        },
        "showlegend": true,
        "template": {
         "data": {
          "bar": [
           {
            "error_x": {
             "color": "#2a3f5f"
            },
            "error_y": {
             "color": "#2a3f5f"
            },
            "marker": {
             "line": {
              "color": "#E5ECF6",
              "width": 0.5
             },
             "pattern": {
              "fillmode": "overlay",
              "size": 10,
              "solidity": 0.2
             }
            },
            "type": "bar"
           }
          ],
          "barpolar": [
           {
            "marker": {
             "line": {
              "color": "#E5ECF6",
              "width": 0.5
             },
             "pattern": {
              "fillmode": "overlay",
              "size": 10,
              "solidity": 0.2
             }
            },
            "type": "barpolar"
           }
          ],
          "carpet": [
           {
            "aaxis": {
             "endlinecolor": "#2a3f5f",
             "gridcolor": "white",
             "linecolor": "white",
             "minorgridcolor": "white",
             "startlinecolor": "#2a3f5f"
            },
            "baxis": {
             "endlinecolor": "#2a3f5f",
             "gridcolor": "white",
             "linecolor": "white",
             "minorgridcolor": "white",
             "startlinecolor": "#2a3f5f"
            },
            "type": "carpet"
           }
          ],
          "choropleth": [
           {
            "colorbar": {
             "outlinewidth": 0,
             "ticks": ""
            },
            "type": "choropleth"
           }
          ],
          "contour": [
           {
            "colorbar": {
             "outlinewidth": 0,
             "ticks": ""
            },
            "colorscale": [
             [
              0,
              "#0d0887"
             ],
             [
              0.1111111111111111,
              "#46039f"
             ],
             [
              0.2222222222222222,
              "#7201a8"
             ],
             [
              0.3333333333333333,
              "#9c179e"
             ],
             [
              0.4444444444444444,
              "#bd3786"
             ],
             [
              0.5555555555555556,
              "#d8576b"
             ],
             [
              0.6666666666666666,
              "#ed7953"
             ],
             [
              0.7777777777777778,
              "#fb9f3a"
             ],
             [
              0.8888888888888888,
              "#fdca26"
             ],
             [
              1,
              "#f0f921"
             ]
            ],
            "type": "contour"
           }
          ],
          "contourcarpet": [
           {
            "colorbar": {
             "outlinewidth": 0,
             "ticks": ""
            },
            "type": "contourcarpet"
           }
          ],
          "heatmap": [
           {
            "colorbar": {
             "outlinewidth": 0,
             "ticks": ""
            },
            "colorscale": [
             [
              0,
              "#0d0887"
             ],
             [
              0.1111111111111111,
              "#46039f"
             ],
             [
              0.2222222222222222,
              "#7201a8"
             ],
             [
              0.3333333333333333,
              "#9c179e"
             ],
             [
              0.4444444444444444,
              "#bd3786"
             ],
             [
              0.5555555555555556,
              "#d8576b"
             ],
             [
              0.6666666666666666,
              "#ed7953"
             ],
             [
              0.7777777777777778,
              "#fb9f3a"
             ],
             [
              0.8888888888888888,
              "#fdca26"
             ],
             [
              1,
              "#f0f921"
             ]
            ],
            "type": "heatmap"
           }
          ],
          "heatmapgl": [
           {
            "colorbar": {
             "outlinewidth": 0,
             "ticks": ""
            },
            "colorscale": [
             [
              0,
              "#0d0887"
             ],
             [
              0.1111111111111111,
              "#46039f"
             ],
             [
              0.2222222222222222,
              "#7201a8"
             ],
             [
              0.3333333333333333,
              "#9c179e"
             ],
             [
              0.4444444444444444,
              "#bd3786"
             ],
             [
              0.5555555555555556,
              "#d8576b"
             ],
             [
              0.6666666666666666,
              "#ed7953"
             ],
             [
              0.7777777777777778,
              "#fb9f3a"
             ],
             [
              0.8888888888888888,
              "#fdca26"
             ],
             [
              1,
              "#f0f921"
             ]
            ],
            "type": "heatmapgl"
           }
          ],
          "histogram": [
           {
            "marker": {
             "pattern": {
              "fillmode": "overlay",
              "size": 10,
              "solidity": 0.2
             }
            },
            "type": "histogram"
           }
          ],
          "histogram2d": [
           {
            "colorbar": {
             "outlinewidth": 0,
             "ticks": ""
            },
            "colorscale": [
             [
              0,
              "#0d0887"
             ],
             [
              0.1111111111111111,
              "#46039f"
             ],
             [
              0.2222222222222222,
              "#7201a8"
             ],
             [
              0.3333333333333333,
              "#9c179e"
             ],
             [
              0.4444444444444444,
              "#bd3786"
             ],
             [
              0.5555555555555556,
              "#d8576b"
             ],
             [
              0.6666666666666666,
              "#ed7953"
             ],
             [
              0.7777777777777778,
              "#fb9f3a"
             ],
             [
              0.8888888888888888,
              "#fdca26"
             ],
             [
              1,
              "#f0f921"
             ]
            ],
            "type": "histogram2d"
           }
          ],
          "histogram2dcontour": [
           {
            "colorbar": {
             "outlinewidth": 0,
             "ticks": ""
            },
            "colorscale": [
             [
              0,
              "#0d0887"
             ],
             [
              0.1111111111111111,
              "#46039f"
             ],
             [
              0.2222222222222222,
              "#7201a8"
             ],
             [
              0.3333333333333333,
              "#9c179e"
             ],
             [
              0.4444444444444444,
              "#bd3786"
             ],
             [
              0.5555555555555556,
              "#d8576b"
             ],
             [
              0.6666666666666666,
              "#ed7953"
             ],
             [
              0.7777777777777778,
              "#fb9f3a"
             ],
             [
              0.8888888888888888,
              "#fdca26"
             ],
             [
              1,
              "#f0f921"
             ]
            ],
            "type": "histogram2dcontour"
           }
          ],
          "mesh3d": [
           {
            "colorbar": {
             "outlinewidth": 0,
             "ticks": ""
            },
            "type": "mesh3d"
           }
          ],
          "parcoords": [
           {
            "line": {
             "colorbar": {
              "outlinewidth": 0,
              "ticks": ""
             }
            },
            "type": "parcoords"
           }
          ],
          "pie": [
           {
            "automargin": true,
            "type": "pie"
           }
          ],
          "scatter": [
           {
            "fillpattern": {
             "fillmode": "overlay",
             "size": 10,
             "solidity": 0.2
            },
            "type": "scatter"
           }
          ],
          "scatter3d": [
           {
            "line": {
             "colorbar": {
              "outlinewidth": 0,
              "ticks": ""
             }
            },
            "marker": {
             "colorbar": {
              "outlinewidth": 0,
              "ticks": ""
             }
            },
            "type": "scatter3d"
           }
          ],
          "scattercarpet": [
           {
            "marker": {
             "colorbar": {
              "outlinewidth": 0,
              "ticks": ""
             }
            },
            "type": "scattercarpet"
           }
          ],
          "scattergeo": [
           {
            "marker": {
             "colorbar": {
              "outlinewidth": 0,
              "ticks": ""
             }
            },
            "type": "scattergeo"
           }
          ],
          "scattergl": [
           {
            "marker": {
             "colorbar": {
              "outlinewidth": 0,
              "ticks": ""
             }
            },
            "type": "scattergl"
           }
          ],
          "scattermapbox": [
           {
            "marker": {
             "colorbar": {
              "outlinewidth": 0,
              "ticks": ""
             }
            },
            "type": "scattermapbox"
           }
          ],
          "scatterpolar": [
           {
            "marker": {
             "colorbar": {
              "outlinewidth": 0,
              "ticks": ""
             }
            },
            "type": "scatterpolar"
           }
          ],
          "scatterpolargl": [
           {
            "marker": {
             "colorbar": {
              "outlinewidth": 0,
              "ticks": ""
             }
            },
            "type": "scatterpolargl"
           }
          ],
          "scatterternary": [
           {
            "marker": {
             "colorbar": {
              "outlinewidth": 0,
              "ticks": ""
             }
            },
            "type": "scatterternary"
           }
          ],
          "surface": [
           {
            "colorbar": {
             "outlinewidth": 0,
             "ticks": ""
            },
            "colorscale": [
             [
              0,
              "#0d0887"
             ],
             [
              0.1111111111111111,
              "#46039f"
             ],
             [
              0.2222222222222222,
              "#7201a8"
             ],
             [
              0.3333333333333333,
              "#9c179e"
             ],
             [
              0.4444444444444444,
              "#bd3786"
             ],
             [
              0.5555555555555556,
              "#d8576b"
             ],
             [
              0.6666666666666666,
              "#ed7953"
             ],
             [
              0.7777777777777778,
              "#fb9f3a"
             ],
             [
              0.8888888888888888,
              "#fdca26"
             ],
             [
              1,
              "#f0f921"
             ]
            ],
            "type": "surface"
           }
          ],
          "table": [
           {
            "cells": {
             "fill": {
              "color": "#EBF0F8"
             },
             "line": {
              "color": "white"
             }
            },
            "header": {
             "fill": {
              "color": "#C8D4E3"
             },
             "line": {
              "color": "white"
             }
            },
            "type": "table"
           }
          ]
         },
         "layout": {
          "annotationdefaults": {
           "arrowcolor": "#2a3f5f",
           "arrowhead": 0,
           "arrowwidth": 1
          },
          "autotypenumbers": "strict",
          "coloraxis": {
           "colorbar": {
            "outlinewidth": 0,
            "ticks": ""
           }
          },
          "colorscale": {
           "diverging": [
            [
             0,
             "#8e0152"
            ],
            [
             0.1,
             "#c51b7d"
            ],
            [
             0.2,
             "#de77ae"
            ],
            [
             0.3,
             "#f1b6da"
            ],
            [
             0.4,
             "#fde0ef"
            ],
            [
             0.5,
             "#f7f7f7"
            ],
            [
             0.6,
             "#e6f5d0"
            ],
            [
             0.7,
             "#b8e186"
            ],
            [
             0.8,
             "#7fbc41"
            ],
            [
             0.9,
             "#4d9221"
            ],
            [
             1,
             "#276419"
            ]
           ],
           "sequential": [
            [
             0,
             "#0d0887"
            ],
            [
             0.1111111111111111,
             "#46039f"
            ],
            [
             0.2222222222222222,
             "#7201a8"
            ],
            [
             0.3333333333333333,
             "#9c179e"
            ],
            [
             0.4444444444444444,
             "#bd3786"
            ],
            [
             0.5555555555555556,
             "#d8576b"
            ],
            [
             0.6666666666666666,
             "#ed7953"
            ],
            [
             0.7777777777777778,
             "#fb9f3a"
            ],
            [
             0.8888888888888888,
             "#fdca26"
            ],
            [
             1,
             "#f0f921"
            ]
           ],
           "sequentialminus": [
            [
             0,
             "#0d0887"
            ],
            [
             0.1111111111111111,
             "#46039f"
            ],
            [
             0.2222222222222222,
             "#7201a8"
            ],
            [
             0.3333333333333333,
             "#9c179e"
            ],
            [
             0.4444444444444444,
             "#bd3786"
            ],
            [
             0.5555555555555556,
             "#d8576b"
            ],
            [
             0.6666666666666666,
             "#ed7953"
            ],
            [
             0.7777777777777778,
             "#fb9f3a"
            ],
            [
             0.8888888888888888,
             "#fdca26"
            ],
            [
             1,
             "#f0f921"
            ]
           ]
          },
          "colorway": [
           "#636efa",
           "#EF553B",
           "#00cc96",
           "#ab63fa",
           "#FFA15A",
           "#19d3f3",
           "#FF6692",
           "#B6E880",
           "#FF97FF",
           "#FECB52"
          ],
          "font": {
           "color": "#2a3f5f"
          },
          "geo": {
           "bgcolor": "white",
           "lakecolor": "white",
           "landcolor": "#E5ECF6",
           "showlakes": true,
           "showland": true,
           "subunitcolor": "white"
          },
          "hoverlabel": {
           "align": "left"
          },
          "hovermode": "closest",
          "mapbox": {
           "style": "light"
          },
          "paper_bgcolor": "white",
          "plot_bgcolor": "#E5ECF6",
          "polar": {
           "angularaxis": {
            "gridcolor": "white",
            "linecolor": "white",
            "ticks": ""
           },
           "bgcolor": "#E5ECF6",
           "radialaxis": {
            "gridcolor": "white",
            "linecolor": "white",
            "ticks": ""
           }
          },
          "scene": {
           "xaxis": {
            "backgroundcolor": "#E5ECF6",
            "gridcolor": "white",
            "gridwidth": 2,
            "linecolor": "white",
            "showbackground": true,
            "ticks": "",
            "zerolinecolor": "white"
           },
           "yaxis": {
            "backgroundcolor": "#E5ECF6",
            "gridcolor": "white",
            "gridwidth": 2,
            "linecolor": "white",
            "showbackground": true,
            "ticks": "",
            "zerolinecolor": "white"
           },
           "zaxis": {
            "backgroundcolor": "#E5ECF6",
            "gridcolor": "white",
            "gridwidth": 2,
            "linecolor": "white",
            "showbackground": true,
            "ticks": "",
            "zerolinecolor": "white"
           }
          },
          "shapedefaults": {
           "line": {
            "color": "#2a3f5f"
           }
          },
          "ternary": {
           "aaxis": {
            "gridcolor": "white",
            "linecolor": "white",
            "ticks": ""
           },
           "baxis": {
            "gridcolor": "white",
            "linecolor": "white",
            "ticks": ""
           },
           "bgcolor": "#E5ECF6",
           "caxis": {
            "gridcolor": "white",
            "linecolor": "white",
            "ticks": ""
           }
          },
          "title": {
           "x": 0.05
          },
          "xaxis": {
           "automargin": true,
           "gridcolor": "white",
           "linecolor": "white",
           "ticks": "",
           "title": {
            "standoff": 15
           },
           "zerolinecolor": "white",
           "zerolinewidth": 2
          },
          "yaxis": {
           "automargin": true,
           "gridcolor": "white",
           "linecolor": "white",
           "ticks": "",
           "title": {
            "standoff": 15
           },
           "zerolinecolor": "white",
           "zerolinewidth": 2
          }
         }
        },
        "title": {
         "text": "Data Science Episodes Per Year in Different categories",
         "x": 0.3
        },
        "width": 1100,
        "xaxis": {
         "anchor": "y",
         "domain": [
          0,
          1
         ],
         "showticklabels": true,
         "title": {
          "text": " "
         },
         "visible": true
        },
        "yaxis": {
         "anchor": "x",
         "domain": [
          0,
          1
         ],
         "showticklabels": true,
         "title": {
          "text": "Number of Episodes"
         },
         "visible": true
        }
       }
      },
      "text/html": [
       "<div>                            <div id=\"d8743df0-c457-4eb2-9a40-a2ce5ca3c0d7\" class=\"plotly-graph-div\" style=\"height:600px; width:1100px;\"></div>            <script type=\"text/javascript\">                require([\"plotly\"], function(Plotly) {                    window.PLOTLYENV=window.PLOTLYENV || {};                                    if (document.getElementById(\"d8743df0-c457-4eb2-9a40-a2ce5ca3c0d7\")) {                    Plotly.newPlot(                        \"d8743df0-c457-4eb2-9a40-a2ce5ca3c0d7\",                        [{\"alignmentgroup\":\"True\",\"customdata\":[[\"Data Science\"],[\"Data Science\"],[\"Data Science\"],[\"Data Science\"],[\"Data Science\"],[\"Data Science\"],[\"Data Science\"],[\"Data Science\"]],\"hovertemplate\":\"class=%{customdata[0]}<br>episode_year=%{x}<br>episode_number=%{y}<extra></extra>\",\"legendgroup\":\"Data Science\",\"marker\":{\"color\":\"#636efa\",\"pattern\":{\"shape\":\"\"}},\"name\":\"Data Science\",\"offsetgroup\":\"Data Science\",\"orientation\":\"v\",\"showlegend\":true,\"textposition\":\"auto\",\"x\":[2016,2017,2018,2019,2020,2021,2022,2023],\"xaxis\":\"x\",\"y\":[6,13,18,25,32,30,19,4],\"yaxis\":\"y\",\"type\":\"bar\"},{\"alignmentgroup\":\"True\",\"customdata\":[[\"Data Visualization\"],[\"Data Visualization\"],[\"Data Visualization\"],[\"Data Visualization\"],[\"Data Visualization\"],[\"Data Visualization\"],[\"Data Visualization\"],[\"Data Visualization\"]],\"hovertemplate\":\"class=%{customdata[0]}<br>episode_year=%{x}<br>episode_number=%{y}<extra></extra>\",\"legendgroup\":\"Data Visualization\",\"marker\":{\"color\":\"#EF553B\",\"pattern\":{\"shape\":\"\"}},\"name\":\"Data Visualization\",\"offsetgroup\":\"Data Visualization\",\"orientation\":\"v\",\"showlegend\":true,\"textposition\":\"auto\",\"x\":[2016,2017,2018,2019,2020,2021,2022,2023],\"xaxis\":\"x\",\"y\":[2,8,5,5,4,3,1,3],\"yaxis\":\"y\",\"type\":\"bar\"},{\"alignmentgroup\":\"True\",\"customdata\":[[\"Database\"],[\"Database\"],[\"Database\"]],\"hovertemplate\":\"class=%{customdata[0]}<br>episode_year=%{x}<br>episode_number=%{y}<extra></extra>\",\"legendgroup\":\"Database\",\"marker\":{\"color\":\"#00cc96\",\"pattern\":{\"shape\":\"\"}},\"name\":\"Database\",\"offsetgroup\":\"Database\",\"orientation\":\"v\",\"showlegend\":true,\"textposition\":\"auto\",\"x\":[2016,2017,2018],\"xaxis\":\"x\",\"y\":[3,6,2],\"yaxis\":\"y\",\"type\":\"bar\"},{\"alignmentgroup\":\"True\",\"customdata\":[[\"Machine Learning\"],[\"Machine Learning\"],[\"Machine Learning\"],[\"Machine Learning\"],[\"Machine Learning\"],[\"Machine Learning\"],[\"Machine Learning\"],[\"Machine Learning\"]],\"hovertemplate\":\"class=%{customdata[0]}<br>episode_year=%{x}<br>episode_number=%{y}<extra></extra>\",\"legendgroup\":\"Machine Learning\",\"marker\":{\"color\":\"#ab63fa\",\"pattern\":{\"shape\":\"\"}},\"name\":\"Machine Learning\",\"offsetgroup\":\"Machine Learning\",\"orientation\":\"v\",\"showlegend\":true,\"textposition\":\"auto\",\"x\":[2016,2017,2018,2019,2020,2021,2022,2023],\"xaxis\":\"x\",\"y\":[4,6,9,9,6,14,22,7],\"yaxis\":\"y\",\"type\":\"bar\"},{\"alignmentgroup\":\"True\",\"customdata\":[[\"Programming\"],[\"Programming\"],[\"Programming\"],[\"Programming\"],[\"Programming\"],[\"Programming\"],[\"Programming\"]],\"hovertemplate\":\"class=%{customdata[0]}<br>episode_year=%{x}<br>episode_number=%{y}<extra></extra>\",\"legendgroup\":\"Programming\",\"marker\":{\"color\":\"#FFA15A\",\"pattern\":{\"shape\":\"\"}},\"name\":\"Programming\",\"offsetgroup\":\"Programming\",\"orientation\":\"v\",\"showlegend\":true,\"textposition\":\"auto\",\"x\":[2016,2017,2018,2019,2020,2021,2022],\"xaxis\":\"x\",\"y\":[2,2,4,3,2,6,2],\"yaxis\":\"y\",\"type\":\"bar\"},{\"alignmentgroup\":\"True\",\"customdata\":[[\"Artificial Intelligence\"],[\"Artificial Intelligence\"],[\"Artificial Intelligence\"],[\"Artificial Intelligence\"],[\"Artificial Intelligence\"],[\"Artificial Intelligence\"],[\"Artificial Intelligence\"]],\"hovertemplate\":\"class=%{customdata[0]}<br>episode_year=%{x}<br>episode_number=%{y}<extra></extra>\",\"legendgroup\":\"Artificial Intelligence\",\"marker\":{\"color\":\"#19d3f3\",\"pattern\":{\"shape\":\"\"}},\"name\":\"Artificial Intelligence\",\"offsetgroup\":\"Artificial Intelligence\",\"orientation\":\"v\",\"showlegend\":true,\"textposition\":\"auto\",\"x\":[2017,2018,2019,2020,2021,2022,2023],\"xaxis\":\"x\",\"y\":[1,5,18,9,12,20,20],\"yaxis\":\"y\",\"type\":\"bar\"},{\"alignmentgroup\":\"True\",\"customdata\":[[\"Artificial Intelligence, Deep Learning\"],[\"Artificial Intelligence, Deep Learning\"],[\"Artificial Intelligence, Deep Learning\"],[\"Artificial Intelligence, Deep Learning\"]],\"hovertemplate\":\"class=%{customdata[0]}<br>episode_year=%{x}<br>episode_number=%{y}<extra></extra>\",\"legendgroup\":\"Artificial Intelligence, Deep Learning\",\"marker\":{\"color\":\"#FF6692\",\"pattern\":{\"shape\":\"\"}},\"name\":\"Artificial Intelligence, Deep Learning\",\"offsetgroup\":\"Artificial Intelligence, Deep Learning\",\"orientation\":\"v\",\"showlegend\":true,\"textposition\":\"auto\",\"x\":[2017,2018,2021,2022],\"xaxis\":\"x\",\"y\":[4,1,2,1],\"yaxis\":\"y\",\"type\":\"bar\"},{\"alignmentgroup\":\"True\",\"customdata\":[[\"Machine Learning, Artificial Intelligence\"],[\"Machine Learning, Artificial Intelligence\"],[\"Machine Learning, Artificial Intelligence\"],[\"Machine Learning, Artificial Intelligence\"],[\"Machine Learning, Artificial Intelligence\"],[\"Machine Learning, Artificial Intelligence\"],[\"Machine Learning, Artificial Intelligence\"]],\"hovertemplate\":\"class=%{customdata[0]}<br>episode_year=%{x}<br>episode_number=%{y}<extra></extra>\",\"legendgroup\":\"Machine Learning, Artificial Intelligence\",\"marker\":{\"color\":\"#B6E880\",\"pattern\":{\"shape\":\"\"}},\"name\":\"Machine Learning, Artificial Intelligence\",\"offsetgroup\":\"Machine Learning, Artificial Intelligence\",\"orientation\":\"v\",\"showlegend\":true,\"textposition\":\"auto\",\"x\":[2017,2018,2019,2020,2021,2022,2023],\"xaxis\":\"x\",\"y\":[2,4,6,2,3,2,3],\"yaxis\":\"y\",\"type\":\"bar\"},{\"alignmentgroup\":\"True\",\"customdata\":[[\"Machine Learning, Artificial Intelligence, Deep Learning\"],[\"Machine Learning, Artificial Intelligence, Deep Learning\"],[\"Machine Learning, Artificial Intelligence, Deep Learning\"],[\"Machine Learning, Artificial Intelligence, Deep Learning\"]],\"hovertemplate\":\"class=%{customdata[0]}<br>episode_year=%{x}<br>episode_number=%{y}<extra></extra>\",\"legendgroup\":\"Machine Learning, Artificial Intelligence, Deep Learning\",\"marker\":{\"color\":\"#FF97FF\",\"pattern\":{\"shape\":\"\"}},\"name\":\"Machine Learning, Artificial Intelligence, Deep Learning\",\"offsetgroup\":\"Machine Learning, Artificial Intelligence, Deep Learning\",\"orientation\":\"v\",\"showlegend\":true,\"textposition\":\"auto\",\"x\":[2017,2018,2019,2021],\"xaxis\":\"x\",\"y\":[5,5,2,1],\"yaxis\":\"y\",\"type\":\"bar\"},{\"alignmentgroup\":\"True\",\"customdata\":[[\"Machine Learning, Deep Learning\"],[\"Machine Learning, Deep Learning\"],[\"Machine Learning, Deep Learning\"],[\"Machine Learning, Deep Learning\"],[\"Machine Learning, Deep Learning\"],[\"Machine Learning, Deep Learning\"]],\"hovertemplate\":\"class=%{customdata[0]}<br>episode_year=%{x}<br>episode_number=%{y}<extra></extra>\",\"legendgroup\":\"Machine Learning, Deep Learning\",\"marker\":{\"color\":\"#FECB52\",\"pattern\":{\"shape\":\"\"}},\"name\":\"Machine Learning, Deep Learning\",\"offsetgroup\":\"Machine Learning, Deep Learning\",\"orientation\":\"v\",\"showlegend\":true,\"textposition\":\"auto\",\"x\":[2017,2018,2019,2020,2021,2022],\"xaxis\":\"x\",\"y\":[5,2,3,2,1,3],\"yaxis\":\"y\",\"type\":\"bar\"},{\"alignmentgroup\":\"True\",\"customdata\":[[\"Programming, Data Visualization\"],[\"Programming, Data Visualization\"]],\"hovertemplate\":\"class=%{customdata[0]}<br>episode_year=%{x}<br>episode_number=%{y}<extra></extra>\",\"legendgroup\":\"Programming, Data Visualization\",\"marker\":{\"color\":\"#636efa\",\"pattern\":{\"shape\":\"\"}},\"name\":\"Programming, Data Visualization\",\"offsetgroup\":\"Programming, Data Visualization\",\"orientation\":\"v\",\"showlegend\":true,\"textposition\":\"auto\",\"x\":[2017,2018],\"xaxis\":\"x\",\"y\":[3,1],\"yaxis\":\"y\",\"type\":\"bar\"},{\"alignmentgroup\":\"True\",\"customdata\":[[\"Blockchain\"],[\"Blockchain\"]],\"hovertemplate\":\"class=%{customdata[0]}<br>episode_year=%{x}<br>episode_number=%{y}<extra></extra>\",\"legendgroup\":\"Blockchain\",\"marker\":{\"color\":\"#EF553B\",\"pattern\":{\"shape\":\"\"}},\"name\":\"Blockchain\",\"offsetgroup\":\"Blockchain\",\"orientation\":\"v\",\"showlegend\":true,\"textposition\":\"auto\",\"x\":[2018,2022],\"xaxis\":\"x\",\"y\":[3,1],\"yaxis\":\"y\",\"type\":\"bar\"},{\"alignmentgroup\":\"True\",\"customdata\":[[\"Deep Learning\"]],\"hovertemplate\":\"class=%{customdata[0]}<br>episode_year=%{x}<br>episode_number=%{y}<extra></extra>\",\"legendgroup\":\"Deep Learning\",\"marker\":{\"color\":\"#00cc96\",\"pattern\":{\"shape\":\"\"}},\"name\":\"Deep Learning\",\"offsetgroup\":\"Deep Learning\",\"orientation\":\"v\",\"showlegend\":true,\"textposition\":\"auto\",\"x\":[2021],\"xaxis\":\"x\",\"y\":[1],\"yaxis\":\"y\",\"type\":\"bar\"},{\"alignmentgroup\":\"True\",\"customdata\":[[\"Data Science, Career\"],[\"Data Science, Career\"]],\"hovertemplate\":\"class=%{customdata[0]}<br>episode_year=%{x}<br>episode_number=%{y}<extra></extra>\",\"legendgroup\":\"Data Science, Career\",\"marker\":{\"color\":\"#ab63fa\",\"pattern\":{\"shape\":\"\"}},\"name\":\"Data Science, Career\",\"offsetgroup\":\"Data Science, Career\",\"orientation\":\"v\",\"showlegend\":true,\"textposition\":\"auto\",\"x\":[2022,2023],\"xaxis\":\"x\",\"y\":[5,4],\"yaxis\":\"y\",\"type\":\"bar\"},{\"alignmentgroup\":\"True\",\"customdata\":[[\"Data Science, Productivity\"],[\"Data Science, Productivity\"]],\"hovertemplate\":\"class=%{customdata[0]}<br>episode_year=%{x}<br>episode_number=%{y}<extra></extra>\",\"legendgroup\":\"Data Science, Productivity\",\"marker\":{\"color\":\"#FFA15A\",\"pattern\":{\"shape\":\"\"}},\"name\":\"Data Science, Productivity\",\"offsetgroup\":\"Data Science, Productivity\",\"orientation\":\"v\",\"showlegend\":true,\"textposition\":\"auto\",\"x\":[2022,2023],\"xaxis\":\"x\",\"y\":[1,1],\"yaxis\":\"y\",\"type\":\"bar\"}],                        {\"template\":{\"data\":{\"histogram2dcontour\":[{\"type\":\"histogram2dcontour\",\"colorbar\":{\"outlinewidth\":0,\"ticks\":\"\"},\"colorscale\":[[0.0,\"#0d0887\"],[0.1111111111111111,\"#46039f\"],[0.2222222222222222,\"#7201a8\"],[0.3333333333333333,\"#9c179e\"],[0.4444444444444444,\"#bd3786\"],[0.5555555555555556,\"#d8576b\"],[0.6666666666666666,\"#ed7953\"],[0.7777777777777778,\"#fb9f3a\"],[0.8888888888888888,\"#fdca26\"],[1.0,\"#f0f921\"]]}],\"choropleth\":[{\"type\":\"choropleth\",\"colorbar\":{\"outlinewidth\":0,\"ticks\":\"\"}}],\"histogram2d\":[{\"type\":\"histogram2d\",\"colorbar\":{\"outlinewidth\":0,\"ticks\":\"\"},\"colorscale\":[[0.0,\"#0d0887\"],[0.1111111111111111,\"#46039f\"],[0.2222222222222222,\"#7201a8\"],[0.3333333333333333,\"#9c179e\"],[0.4444444444444444,\"#bd3786\"],[0.5555555555555556,\"#d8576b\"],[0.6666666666666666,\"#ed7953\"],[0.7777777777777778,\"#fb9f3a\"],[0.8888888888888888,\"#fdca26\"],[1.0,\"#f0f921\"]]}],\"heatmap\":[{\"type\":\"heatmap\",\"colorbar\":{\"outlinewidth\":0,\"ticks\":\"\"},\"colorscale\":[[0.0,\"#0d0887\"],[0.1111111111111111,\"#46039f\"],[0.2222222222222222,\"#7201a8\"],[0.3333333333333333,\"#9c179e\"],[0.4444444444444444,\"#bd3786\"],[0.5555555555555556,\"#d8576b\"],[0.6666666666666666,\"#ed7953\"],[0.7777777777777778,\"#fb9f3a\"],[0.8888888888888888,\"#fdca26\"],[1.0,\"#f0f921\"]]}],\"heatmapgl\":[{\"type\":\"heatmapgl\",\"colorbar\":{\"outlinewidth\":0,\"ticks\":\"\"},\"colorscale\":[[0.0,\"#0d0887\"],[0.1111111111111111,\"#46039f\"],[0.2222222222222222,\"#7201a8\"],[0.3333333333333333,\"#9c179e\"],[0.4444444444444444,\"#bd3786\"],[0.5555555555555556,\"#d8576b\"],[0.6666666666666666,\"#ed7953\"],[0.7777777777777778,\"#fb9f3a\"],[0.8888888888888888,\"#fdca26\"],[1.0,\"#f0f921\"]]}],\"contourcarpet\":[{\"type\":\"contourcarpet\",\"colorbar\":{\"outlinewidth\":0,\"ticks\":\"\"}}],\"contour\":[{\"type\":\"contour\",\"colorbar\":{\"outlinewidth\":0,\"ticks\":\"\"},\"colorscale\":[[0.0,\"#0d0887\"],[0.1111111111111111,\"#46039f\"],[0.2222222222222222,\"#7201a8\"],[0.3333333333333333,\"#9c179e\"],[0.4444444444444444,\"#bd3786\"],[0.5555555555555556,\"#d8576b\"],[0.6666666666666666,\"#ed7953\"],[0.7777777777777778,\"#fb9f3a\"],[0.8888888888888888,\"#fdca26\"],[1.0,\"#f0f921\"]]}],\"surface\":[{\"type\":\"surface\",\"colorbar\":{\"outlinewidth\":0,\"ticks\":\"\"},\"colorscale\":[[0.0,\"#0d0887\"],[0.1111111111111111,\"#46039f\"],[0.2222222222222222,\"#7201a8\"],[0.3333333333333333,\"#9c179e\"],[0.4444444444444444,\"#bd3786\"],[0.5555555555555556,\"#d8576b\"],[0.6666666666666666,\"#ed7953\"],[0.7777777777777778,\"#fb9f3a\"],[0.8888888888888888,\"#fdca26\"],[1.0,\"#f0f921\"]]}],\"mesh3d\":[{\"type\":\"mesh3d\",\"colorbar\":{\"outlinewidth\":0,\"ticks\":\"\"}}],\"scatter\":[{\"fillpattern\":{\"fillmode\":\"overlay\",\"size\":10,\"solidity\":0.2},\"type\":\"scatter\"}],\"parcoords\":[{\"type\":\"parcoords\",\"line\":{\"colorbar\":{\"outlinewidth\":0,\"ticks\":\"\"}}}],\"scatterpolargl\":[{\"type\":\"scatterpolargl\",\"marker\":{\"colorbar\":{\"outlinewidth\":0,\"ticks\":\"\"}}}],\"bar\":[{\"error_x\":{\"color\":\"#2a3f5f\"},\"error_y\":{\"color\":\"#2a3f5f\"},\"marker\":{\"line\":{\"color\":\"#E5ECF6\",\"width\":0.5},\"pattern\":{\"fillmode\":\"overlay\",\"size\":10,\"solidity\":0.2}},\"type\":\"bar\"}],\"scattergeo\":[{\"type\":\"scattergeo\",\"marker\":{\"colorbar\":{\"outlinewidth\":0,\"ticks\":\"\"}}}],\"scatterpolar\":[{\"type\":\"scatterpolar\",\"marker\":{\"colorbar\":{\"outlinewidth\":0,\"ticks\":\"\"}}}],\"histogram\":[{\"marker\":{\"pattern\":{\"fillmode\":\"overlay\",\"size\":10,\"solidity\":0.2}},\"type\":\"histogram\"}],\"scattergl\":[{\"type\":\"scattergl\",\"marker\":{\"colorbar\":{\"outlinewidth\":0,\"ticks\":\"\"}}}],\"scatter3d\":[{\"type\":\"scatter3d\",\"line\":{\"colorbar\":{\"outlinewidth\":0,\"ticks\":\"\"}},\"marker\":{\"colorbar\":{\"outlinewidth\":0,\"ticks\":\"\"}}}],\"scattermapbox\":[{\"type\":\"scattermapbox\",\"marker\":{\"colorbar\":{\"outlinewidth\":0,\"ticks\":\"\"}}}],\"scatterternary\":[{\"type\":\"scatterternary\",\"marker\":{\"colorbar\":{\"outlinewidth\":0,\"ticks\":\"\"}}}],\"scattercarpet\":[{\"type\":\"scattercarpet\",\"marker\":{\"colorbar\":{\"outlinewidth\":0,\"ticks\":\"\"}}}],\"carpet\":[{\"aaxis\":{\"endlinecolor\":\"#2a3f5f\",\"gridcolor\":\"white\",\"linecolor\":\"white\",\"minorgridcolor\":\"white\",\"startlinecolor\":\"#2a3f5f\"},\"baxis\":{\"endlinecolor\":\"#2a3f5f\",\"gridcolor\":\"white\",\"linecolor\":\"white\",\"minorgridcolor\":\"white\",\"startlinecolor\":\"#2a3f5f\"},\"type\":\"carpet\"}],\"table\":[{\"cells\":{\"fill\":{\"color\":\"#EBF0F8\"},\"line\":{\"color\":\"white\"}},\"header\":{\"fill\":{\"color\":\"#C8D4E3\"},\"line\":{\"color\":\"white\"}},\"type\":\"table\"}],\"barpolar\":[{\"marker\":{\"line\":{\"color\":\"#E5ECF6\",\"width\":0.5},\"pattern\":{\"fillmode\":\"overlay\",\"size\":10,\"solidity\":0.2}},\"type\":\"barpolar\"}],\"pie\":[{\"automargin\":true,\"type\":\"pie\"}]},\"layout\":{\"autotypenumbers\":\"strict\",\"colorway\":[\"#636efa\",\"#EF553B\",\"#00cc96\",\"#ab63fa\",\"#FFA15A\",\"#19d3f3\",\"#FF6692\",\"#B6E880\",\"#FF97FF\",\"#FECB52\"],\"font\":{\"color\":\"#2a3f5f\"},\"hovermode\":\"closest\",\"hoverlabel\":{\"align\":\"left\"},\"paper_bgcolor\":\"white\",\"plot_bgcolor\":\"#E5ECF6\",\"polar\":{\"bgcolor\":\"#E5ECF6\",\"angularaxis\":{\"gridcolor\":\"white\",\"linecolor\":\"white\",\"ticks\":\"\"},\"radialaxis\":{\"gridcolor\":\"white\",\"linecolor\":\"white\",\"ticks\":\"\"}},\"ternary\":{\"bgcolor\":\"#E5ECF6\",\"aaxis\":{\"gridcolor\":\"white\",\"linecolor\":\"white\",\"ticks\":\"\"},\"baxis\":{\"gridcolor\":\"white\",\"linecolor\":\"white\",\"ticks\":\"\"},\"caxis\":{\"gridcolor\":\"white\",\"linecolor\":\"white\",\"ticks\":\"\"}},\"coloraxis\":{\"colorbar\":{\"outlinewidth\":0,\"ticks\":\"\"}},\"colorscale\":{\"sequential\":[[0.0,\"#0d0887\"],[0.1111111111111111,\"#46039f\"],[0.2222222222222222,\"#7201a8\"],[0.3333333333333333,\"#9c179e\"],[0.4444444444444444,\"#bd3786\"],[0.5555555555555556,\"#d8576b\"],[0.6666666666666666,\"#ed7953\"],[0.7777777777777778,\"#fb9f3a\"],[0.8888888888888888,\"#fdca26\"],[1.0,\"#f0f921\"]],\"sequentialminus\":[[0.0,\"#0d0887\"],[0.1111111111111111,\"#46039f\"],[0.2222222222222222,\"#7201a8\"],[0.3333333333333333,\"#9c179e\"],[0.4444444444444444,\"#bd3786\"],[0.5555555555555556,\"#d8576b\"],[0.6666666666666666,\"#ed7953\"],[0.7777777777777778,\"#fb9f3a\"],[0.8888888888888888,\"#fdca26\"],[1.0,\"#f0f921\"]],\"diverging\":[[0,\"#8e0152\"],[0.1,\"#c51b7d\"],[0.2,\"#de77ae\"],[0.3,\"#f1b6da\"],[0.4,\"#fde0ef\"],[0.5,\"#f7f7f7\"],[0.6,\"#e6f5d0\"],[0.7,\"#b8e186\"],[0.8,\"#7fbc41\"],[0.9,\"#4d9221\"],[1,\"#276419\"]]},\"xaxis\":{\"gridcolor\":\"white\",\"linecolor\":\"white\",\"ticks\":\"\",\"title\":{\"standoff\":15},\"zerolinecolor\":\"white\",\"automargin\":true,\"zerolinewidth\":2},\"yaxis\":{\"gridcolor\":\"white\",\"linecolor\":\"white\",\"ticks\":\"\",\"title\":{\"standoff\":15},\"zerolinecolor\":\"white\",\"automargin\":true,\"zerolinewidth\":2},\"scene\":{\"xaxis\":{\"backgroundcolor\":\"#E5ECF6\",\"gridcolor\":\"white\",\"linecolor\":\"white\",\"showbackground\":true,\"ticks\":\"\",\"zerolinecolor\":\"white\",\"gridwidth\":2},\"yaxis\":{\"backgroundcolor\":\"#E5ECF6\",\"gridcolor\":\"white\",\"linecolor\":\"white\",\"showbackground\":true,\"ticks\":\"\",\"zerolinecolor\":\"white\",\"gridwidth\":2},\"zaxis\":{\"backgroundcolor\":\"#E5ECF6\",\"gridcolor\":\"white\",\"linecolor\":\"white\",\"showbackground\":true,\"ticks\":\"\",\"zerolinecolor\":\"white\",\"gridwidth\":2}},\"shapedefaults\":{\"line\":{\"color\":\"#2a3f5f\"}},\"annotationdefaults\":{\"arrowcolor\":\"#2a3f5f\",\"arrowhead\":0,\"arrowwidth\":1},\"geo\":{\"bgcolor\":\"white\",\"landcolor\":\"#E5ECF6\",\"subunitcolor\":\"white\",\"showland\":true,\"showlakes\":true,\"lakecolor\":\"white\"},\"title\":{\"x\":0.05},\"mapbox\":{\"style\":\"light\"}}},\"xaxis\":{\"anchor\":\"y\",\"domain\":[0.0,1.0],\"title\":{\"text\":\" \"},\"visible\":true,\"showticklabels\":true},\"yaxis\":{\"anchor\":\"x\",\"domain\":[0.0,1.0],\"title\":{\"text\":\"Number of Episodes\"},\"visible\":true,\"showticklabels\":true},\"legend\":{\"title\":{\"text\":\"categories\"},\"tracegroupgap\":0},\"margin\":{\"t\":60},\"barmode\":\"relative\",\"height\":600,\"width\":1100,\"title\":{\"text\":\"Data Science Episodes Per Year in Different categories\",\"x\":0.3},\"font\":{\"size\":10},\"showlegend\":true},                        {\"responsive\": true}                    ).then(function(){\n",
       "                            \n",
       "var gd = document.getElementById('d8743df0-c457-4eb2-9a40-a2ce5ca3c0d7');\n",
       "var x = new MutationObserver(function (mutations, observer) {{\n",
       "        var display = window.getComputedStyle(gd).display;\n",
       "        if (!display || display === 'none') {{\n",
       "            console.log([gd, 'removed!']);\n",
       "            Plotly.purge(gd);\n",
       "            observer.disconnect();\n",
       "        }}\n",
       "}});\n",
       "\n",
       "// Listen for the removal of the full notebook cells\n",
       "var notebookContainer = gd.closest('#notebook-container');\n",
       "if (notebookContainer) {{\n",
       "    x.observe(notebookContainer, {childList: true});\n",
       "}}\n",
       "\n",
       "// Listen for the clearing of the current output cell\n",
       "var outputEl = gd.closest('.output');\n",
       "if (outputEl) {{\n",
       "    x.observe(outputEl, {childList: true});\n",
       "}}\n",
       "\n",
       "                        })                };                });            </script>        </div>"
      ]
     },
     "metadata": {},
     "output_type": "display_data"
    }
   ],
   "source": [
    "fig = px.bar(metrics_ds, x = 'episode_year', y='episode_number', hover_data = ['class'], color = 'class', width=1100, height=600 )\n",
    "fig.update_layout(title_text= 'Data Science Episodes Per Year in Different categories',  title_x=0.3)\n",
    "fig.update_xaxes(title=' ', visible= True, showticklabels= True)\n",
    "fig.update_yaxes(title='Number of Episodes', visible= True, showticklabels= True)\n",
    "fig.update_layout(legend_title = 'categories', showlegend = True, font=dict(size= 10))\n",
    "fig.show()\n",
    "fig.write_html(\"complaint_percentage.html\")"
   ]
  },
  {
   "cell_type": "code",
   "execution_count": 40,
   "id": "7f470245",
   "metadata": {},
   "outputs": [
    {
     "data": {
      "application/vnd.plotly.v1+json": {
       "config": {
        "plotlyServerURL": "https://plot.ly"
       },
       "data": [
        {
         "alignmentgroup": "True",
         "customdata": [
          [
           "Data Science"
          ],
          [
           "Data Science"
          ],
          [
           "Data Science"
          ],
          [
           "Data Science"
          ],
          [
           "Data Science"
          ],
          [
           "Data Science"
          ],
          [
           "Data Science"
          ],
          [
           "Data Science"
          ]
         ],
         "hovertemplate": "class=%{customdata[0]}<br>episode_year=%{x}<br>episode_number=%{y}<extra></extra>",
         "legendgroup": "Data Science",
         "marker": {
          "color": "#636efa",
          "pattern": {
           "shape": ""
          }
         },
         "name": "Data Science",
         "offsetgroup": "Data Science",
         "orientation": "v",
         "showlegend": true,
         "textposition": "auto",
         "type": "bar",
         "x": [
          2016,
          2017,
          2018,
          2019,
          2020,
          2021,
          2022,
          2023
         ],
         "xaxis": "x",
         "y": [
          6,
          13,
          18,
          25,
          32,
          30,
          19,
          4
         ],
         "yaxis": "y"
        },
        {
         "alignmentgroup": "True",
         "customdata": [
          [
           "Data Visualization"
          ],
          [
           "Data Visualization"
          ],
          [
           "Data Visualization"
          ],
          [
           "Data Visualization"
          ],
          [
           "Data Visualization"
          ],
          [
           "Data Visualization"
          ],
          [
           "Data Visualization"
          ],
          [
           "Data Visualization"
          ]
         ],
         "hovertemplate": "class=%{customdata[0]}<br>episode_year=%{x}<br>episode_number=%{y}<extra></extra>",
         "legendgroup": "Data Visualization",
         "marker": {
          "color": "#EF553B",
          "pattern": {
           "shape": ""
          }
         },
         "name": "Data Visualization",
         "offsetgroup": "Data Visualization",
         "orientation": "v",
         "showlegend": true,
         "textposition": "auto",
         "type": "bar",
         "x": [
          2016,
          2017,
          2018,
          2019,
          2020,
          2021,
          2022,
          2023
         ],
         "xaxis": "x",
         "y": [
          2,
          8,
          5,
          5,
          4,
          3,
          1,
          3
         ],
         "yaxis": "y"
        },
        {
         "alignmentgroup": "True",
         "customdata": [
          [
           "Database"
          ],
          [
           "Database"
          ],
          [
           "Database"
          ]
         ],
         "hovertemplate": "class=%{customdata[0]}<br>episode_year=%{x}<br>episode_number=%{y}<extra></extra>",
         "legendgroup": "Database",
         "marker": {
          "color": "#00cc96",
          "pattern": {
           "shape": ""
          }
         },
         "name": "Database",
         "offsetgroup": "Database",
         "orientation": "v",
         "showlegend": true,
         "textposition": "auto",
         "type": "bar",
         "x": [
          2016,
          2017,
          2018
         ],
         "xaxis": "x",
         "y": [
          3,
          6,
          2
         ],
         "yaxis": "y"
        },
        {
         "alignmentgroup": "True",
         "customdata": [
          [
           "Machine Learning"
          ],
          [
           "Machine Learning"
          ],
          [
           "Machine Learning"
          ],
          [
           "Machine Learning"
          ],
          [
           "Machine Learning"
          ],
          [
           "Machine Learning"
          ],
          [
           "Machine Learning"
          ],
          [
           "Machine Learning"
          ]
         ],
         "hovertemplate": "class=%{customdata[0]}<br>episode_year=%{x}<br>episode_number=%{y}<extra></extra>",
         "legendgroup": "Machine Learning",
         "marker": {
          "color": "#ab63fa",
          "pattern": {
           "shape": ""
          }
         },
         "name": "Machine Learning",
         "offsetgroup": "Machine Learning",
         "orientation": "v",
         "showlegend": true,
         "textposition": "auto",
         "type": "bar",
         "x": [
          2016,
          2017,
          2018,
          2019,
          2020,
          2021,
          2022,
          2023
         ],
         "xaxis": "x",
         "y": [
          4,
          6,
          9,
          9,
          6,
          14,
          22,
          7
         ],
         "yaxis": "y"
        },
        {
         "alignmentgroup": "True",
         "customdata": [
          [
           "Programming"
          ],
          [
           "Programming"
          ],
          [
           "Programming"
          ],
          [
           "Programming"
          ],
          [
           "Programming"
          ],
          [
           "Programming"
          ],
          [
           "Programming"
          ]
         ],
         "hovertemplate": "class=%{customdata[0]}<br>episode_year=%{x}<br>episode_number=%{y}<extra></extra>",
         "legendgroup": "Programming",
         "marker": {
          "color": "#FFA15A",
          "pattern": {
           "shape": ""
          }
         },
         "name": "Programming",
         "offsetgroup": "Programming",
         "orientation": "v",
         "showlegend": true,
         "textposition": "auto",
         "type": "bar",
         "x": [
          2016,
          2017,
          2018,
          2019,
          2020,
          2021,
          2022
         ],
         "xaxis": "x",
         "y": [
          2,
          2,
          4,
          3,
          2,
          6,
          2
         ],
         "yaxis": "y"
        },
        {
         "alignmentgroup": "True",
         "customdata": [
          [
           "Artificial Intelligence"
          ],
          [
           "Artificial Intelligence"
          ],
          [
           "Artificial Intelligence"
          ],
          [
           "Artificial Intelligence"
          ],
          [
           "Artificial Intelligence"
          ],
          [
           "Artificial Intelligence"
          ],
          [
           "Artificial Intelligence"
          ]
         ],
         "hovertemplate": "class=%{customdata[0]}<br>episode_year=%{x}<br>episode_number=%{y}<extra></extra>",
         "legendgroup": "Artificial Intelligence",
         "marker": {
          "color": "#19d3f3",
          "pattern": {
           "shape": ""
          }
         },
         "name": "Artificial Intelligence",
         "offsetgroup": "Artificial Intelligence",
         "orientation": "v",
         "showlegend": true,
         "textposition": "auto",
         "type": "bar",
         "x": [
          2017,
          2018,
          2019,
          2020,
          2021,
          2022,
          2023
         ],
         "xaxis": "x",
         "y": [
          1,
          5,
          18,
          9,
          12,
          20,
          20
         ],
         "yaxis": "y"
        },
        {
         "alignmentgroup": "True",
         "customdata": [
          [
           "Artificial Intelligence, Deep Learning"
          ],
          [
           "Artificial Intelligence, Deep Learning"
          ],
          [
           "Artificial Intelligence, Deep Learning"
          ],
          [
           "Artificial Intelligence, Deep Learning"
          ]
         ],
         "hovertemplate": "class=%{customdata[0]}<br>episode_year=%{x}<br>episode_number=%{y}<extra></extra>",
         "legendgroup": "Artificial Intelligence, Deep Learning",
         "marker": {
          "color": "#FF6692",
          "pattern": {
           "shape": ""
          }
         },
         "name": "Artificial Intelligence, Deep Learning",
         "offsetgroup": "Artificial Intelligence, Deep Learning",
         "orientation": "v",
         "showlegend": true,
         "textposition": "auto",
         "type": "bar",
         "x": [
          2017,
          2018,
          2021,
          2022
         ],
         "xaxis": "x",
         "y": [
          4,
          1,
          2,
          1
         ],
         "yaxis": "y"
        },
        {
         "alignmentgroup": "True",
         "customdata": [
          [
           "Health, Life and Philosophy"
          ],
          [
           "Health, Life and Philosophy"
          ],
          [
           "Health, Life and Philosophy"
          ],
          [
           "Health, Life and Philosophy"
          ],
          [
           "Health, Life and Philosophy"
          ],
          [
           "Health, Life and Philosophy"
          ],
          [
           "Health, Life and Philosophy"
          ]
         ],
         "hovertemplate": "class=%{customdata[0]}<br>episode_year=%{x}<br>episode_number=%{y}<extra></extra>",
         "legendgroup": "Health, Life and Philosophy",
         "marker": {
          "color": "#B6E880",
          "pattern": {
           "shape": ""
          }
         },
         "name": "Health, Life and Philosophy",
         "offsetgroup": "Health, Life and Philosophy",
         "orientation": "v",
         "showlegend": true,
         "textposition": "auto",
         "type": "bar",
         "x": [
          2017,
          2018,
          2019,
          2020,
          2021,
          2022,
          2023
         ],
         "xaxis": "x",
         "y": [
          46,
          45,
          33,
          48,
          31,
          27,
          1
         ],
         "yaxis": "y"
        },
        {
         "alignmentgroup": "True",
         "customdata": [
          [
           "Machine Learning, Artificial Intelligence"
          ],
          [
           "Machine Learning, Artificial Intelligence"
          ],
          [
           "Machine Learning, Artificial Intelligence"
          ],
          [
           "Machine Learning, Artificial Intelligence"
          ],
          [
           "Machine Learning, Artificial Intelligence"
          ],
          [
           "Machine Learning, Artificial Intelligence"
          ],
          [
           "Machine Learning, Artificial Intelligence"
          ]
         ],
         "hovertemplate": "class=%{customdata[0]}<br>episode_year=%{x}<br>episode_number=%{y}<extra></extra>",
         "legendgroup": "Machine Learning, Artificial Intelligence",
         "marker": {
          "color": "#FF97FF",
          "pattern": {
           "shape": ""
          }
         },
         "name": "Machine Learning, Artificial Intelligence",
         "offsetgroup": "Machine Learning, Artificial Intelligence",
         "orientation": "v",
         "showlegend": true,
         "textposition": "auto",
         "type": "bar",
         "x": [
          2017,
          2018,
          2019,
          2020,
          2021,
          2022,
          2023
         ],
         "xaxis": "x",
         "y": [
          2,
          4,
          6,
          2,
          3,
          2,
          3
         ],
         "yaxis": "y"
        },
        {
         "alignmentgroup": "True",
         "customdata": [
          [
           "Machine Learning, Artificial Intelligence, Deep Learning"
          ],
          [
           "Machine Learning, Artificial Intelligence, Deep Learning"
          ],
          [
           "Machine Learning, Artificial Intelligence, Deep Learning"
          ],
          [
           "Machine Learning, Artificial Intelligence, Deep Learning"
          ]
         ],
         "hovertemplate": "class=%{customdata[0]}<br>episode_year=%{x}<br>episode_number=%{y}<extra></extra>",
         "legendgroup": "Machine Learning, Artificial Intelligence, Deep Learning",
         "marker": {
          "color": "#FECB52",
          "pattern": {
           "shape": ""
          }
         },
         "name": "Machine Learning, Artificial Intelligence, Deep Learning",
         "offsetgroup": "Machine Learning, Artificial Intelligence, Deep Learning",
         "orientation": "v",
         "showlegend": true,
         "textposition": "auto",
         "type": "bar",
         "x": [
          2017,
          2018,
          2019,
          2021
         ],
         "xaxis": "x",
         "y": [
          5,
          5,
          2,
          1
         ],
         "yaxis": "y"
        },
        {
         "alignmentgroup": "True",
         "customdata": [
          [
           "Machine Learning, Deep Learning"
          ],
          [
           "Machine Learning, Deep Learning"
          ],
          [
           "Machine Learning, Deep Learning"
          ],
          [
           "Machine Learning, Deep Learning"
          ],
          [
           "Machine Learning, Deep Learning"
          ],
          [
           "Machine Learning, Deep Learning"
          ]
         ],
         "hovertemplate": "class=%{customdata[0]}<br>episode_year=%{x}<br>episode_number=%{y}<extra></extra>",
         "legendgroup": "Machine Learning, Deep Learning",
         "marker": {
          "color": "#636efa",
          "pattern": {
           "shape": ""
          }
         },
         "name": "Machine Learning, Deep Learning",
         "offsetgroup": "Machine Learning, Deep Learning",
         "orientation": "v",
         "showlegend": true,
         "textposition": "auto",
         "type": "bar",
         "x": [
          2017,
          2018,
          2019,
          2020,
          2021,
          2022
         ],
         "xaxis": "x",
         "y": [
          5,
          2,
          3,
          2,
          1,
          3
         ],
         "yaxis": "y"
        },
        {
         "alignmentgroup": "True",
         "customdata": [
          [
           "Programming, Data Visualization"
          ],
          [
           "Programming, Data Visualization"
          ]
         ],
         "hovertemplate": "class=%{customdata[0]}<br>episode_year=%{x}<br>episode_number=%{y}<extra></extra>",
         "legendgroup": "Programming, Data Visualization",
         "marker": {
          "color": "#EF553B",
          "pattern": {
           "shape": ""
          }
         },
         "name": "Programming, Data Visualization",
         "offsetgroup": "Programming, Data Visualization",
         "orientation": "v",
         "showlegend": true,
         "textposition": "auto",
         "type": "bar",
         "x": [
          2017,
          2018
         ],
         "xaxis": "x",
         "y": [
          3,
          1
         ],
         "yaxis": "y"
        },
        {
         "alignmentgroup": "True",
         "customdata": [
          [
           "Blockchain"
          ],
          [
           "Blockchain"
          ]
         ],
         "hovertemplate": "class=%{customdata[0]}<br>episode_year=%{x}<br>episode_number=%{y}<extra></extra>",
         "legendgroup": "Blockchain",
         "marker": {
          "color": "#00cc96",
          "pattern": {
           "shape": ""
          }
         },
         "name": "Blockchain",
         "offsetgroup": "Blockchain",
         "orientation": "v",
         "showlegend": true,
         "textposition": "auto",
         "type": "bar",
         "x": [
          2018,
          2022
         ],
         "xaxis": "x",
         "y": [
          3,
          1
         ],
         "yaxis": "y"
        },
        {
         "alignmentgroup": "True",
         "customdata": [
          [
           "Deep Learning"
          ]
         ],
         "hovertemplate": "class=%{customdata[0]}<br>episode_year=%{x}<br>episode_number=%{y}<extra></extra>",
         "legendgroup": "Deep Learning",
         "marker": {
          "color": "#ab63fa",
          "pattern": {
           "shape": ""
          }
         },
         "name": "Deep Learning",
         "offsetgroup": "Deep Learning",
         "orientation": "v",
         "showlegend": true,
         "textposition": "auto",
         "type": "bar",
         "x": [
          2021
         ],
         "xaxis": "x",
         "y": [
          1
         ],
         "yaxis": "y"
        },
        {
         "alignmentgroup": "True",
         "customdata": [
          [
           "Data Science, Career"
          ],
          [
           "Data Science, Career"
          ]
         ],
         "hovertemplate": "class=%{customdata[0]}<br>episode_year=%{x}<br>episode_number=%{y}<extra></extra>",
         "legendgroup": "Data Science, Career",
         "marker": {
          "color": "#FFA15A",
          "pattern": {
           "shape": ""
          }
         },
         "name": "Data Science, Career",
         "offsetgroup": "Data Science, Career",
         "orientation": "v",
         "showlegend": true,
         "textposition": "auto",
         "type": "bar",
         "x": [
          2022,
          2023
         ],
         "xaxis": "x",
         "y": [
          5,
          4
         ],
         "yaxis": "y"
        },
        {
         "alignmentgroup": "True",
         "customdata": [
          [
           "Data Science, Productivity"
          ],
          [
           "Data Science, Productivity"
          ]
         ],
         "hovertemplate": "class=%{customdata[0]}<br>episode_year=%{x}<br>episode_number=%{y}<extra></extra>",
         "legendgroup": "Data Science, Productivity",
         "marker": {
          "color": "#19d3f3",
          "pattern": {
           "shape": ""
          }
         },
         "name": "Data Science, Productivity",
         "offsetgroup": "Data Science, Productivity",
         "orientation": "v",
         "showlegend": true,
         "textposition": "auto",
         "type": "bar",
         "x": [
          2022,
          2023
         ],
         "xaxis": "x",
         "y": [
          1,
          1
         ],
         "yaxis": "y"
        }
       ],
       "layout": {
        "barmode": "relative",
        "font": {
         "size": 10
        },
        "height": 600,
        "legend": {
         "title": {
          "text": "categories"
         },
         "tracegroupgap": 0
        },
        "margin": {
         "t": 60
        },
        "showlegend": true,
        "template": {
         "data": {
          "bar": [
           {
            "error_x": {
             "color": "#2a3f5f"
            },
            "error_y": {
             "color": "#2a3f5f"
            },
            "marker": {
             "line": {
              "color": "#E5ECF6",
              "width": 0.5
             },
             "pattern": {
              "fillmode": "overlay",
              "size": 10,
              "solidity": 0.2
             }
            },
            "type": "bar"
           }
          ],
          "barpolar": [
           {
            "marker": {
             "line": {
              "color": "#E5ECF6",
              "width": 0.5
             },
             "pattern": {
              "fillmode": "overlay",
              "size": 10,
              "solidity": 0.2
             }
            },
            "type": "barpolar"
           }
          ],
          "carpet": [
           {
            "aaxis": {
             "endlinecolor": "#2a3f5f",
             "gridcolor": "white",
             "linecolor": "white",
             "minorgridcolor": "white",
             "startlinecolor": "#2a3f5f"
            },
            "baxis": {
             "endlinecolor": "#2a3f5f",
             "gridcolor": "white",
             "linecolor": "white",
             "minorgridcolor": "white",
             "startlinecolor": "#2a3f5f"
            },
            "type": "carpet"
           }
          ],
          "choropleth": [
           {
            "colorbar": {
             "outlinewidth": 0,
             "ticks": ""
            },
            "type": "choropleth"
           }
          ],
          "contour": [
           {
            "colorbar": {
             "outlinewidth": 0,
             "ticks": ""
            },
            "colorscale": [
             [
              0,
              "#0d0887"
             ],
             [
              0.1111111111111111,
              "#46039f"
             ],
             [
              0.2222222222222222,
              "#7201a8"
             ],
             [
              0.3333333333333333,
              "#9c179e"
             ],
             [
              0.4444444444444444,
              "#bd3786"
             ],
             [
              0.5555555555555556,
              "#d8576b"
             ],
             [
              0.6666666666666666,
              "#ed7953"
             ],
             [
              0.7777777777777778,
              "#fb9f3a"
             ],
             [
              0.8888888888888888,
              "#fdca26"
             ],
             [
              1,
              "#f0f921"
             ]
            ],
            "type": "contour"
           }
          ],
          "contourcarpet": [
           {
            "colorbar": {
             "outlinewidth": 0,
             "ticks": ""
            },
            "type": "contourcarpet"
           }
          ],
          "heatmap": [
           {
            "colorbar": {
             "outlinewidth": 0,
             "ticks": ""
            },
            "colorscale": [
             [
              0,
              "#0d0887"
             ],
             [
              0.1111111111111111,
              "#46039f"
             ],
             [
              0.2222222222222222,
              "#7201a8"
             ],
             [
              0.3333333333333333,
              "#9c179e"
             ],
             [
              0.4444444444444444,
              "#bd3786"
             ],
             [
              0.5555555555555556,
              "#d8576b"
             ],
             [
              0.6666666666666666,
              "#ed7953"
             ],
             [
              0.7777777777777778,
              "#fb9f3a"
             ],
             [
              0.8888888888888888,
              "#fdca26"
             ],
             [
              1,
              "#f0f921"
             ]
            ],
            "type": "heatmap"
           }
          ],
          "heatmapgl": [
           {
            "colorbar": {
             "outlinewidth": 0,
             "ticks": ""
            },
            "colorscale": [
             [
              0,
              "#0d0887"
             ],
             [
              0.1111111111111111,
              "#46039f"
             ],
             [
              0.2222222222222222,
              "#7201a8"
             ],
             [
              0.3333333333333333,
              "#9c179e"
             ],
             [
              0.4444444444444444,
              "#bd3786"
             ],
             [
              0.5555555555555556,
              "#d8576b"
             ],
             [
              0.6666666666666666,
              "#ed7953"
             ],
             [
              0.7777777777777778,
              "#fb9f3a"
             ],
             [
              0.8888888888888888,
              "#fdca26"
             ],
             [
              1,
              "#f0f921"
             ]
            ],
            "type": "heatmapgl"
           }
          ],
          "histogram": [
           {
            "marker": {
             "pattern": {
              "fillmode": "overlay",
              "size": 10,
              "solidity": 0.2
             }
            },
            "type": "histogram"
           }
          ],
          "histogram2d": [
           {
            "colorbar": {
             "outlinewidth": 0,
             "ticks": ""
            },
            "colorscale": [
             [
              0,
              "#0d0887"
             ],
             [
              0.1111111111111111,
              "#46039f"
             ],
             [
              0.2222222222222222,
              "#7201a8"
             ],
             [
              0.3333333333333333,
              "#9c179e"
             ],
             [
              0.4444444444444444,
              "#bd3786"
             ],
             [
              0.5555555555555556,
              "#d8576b"
             ],
             [
              0.6666666666666666,
              "#ed7953"
             ],
             [
              0.7777777777777778,
              "#fb9f3a"
             ],
             [
              0.8888888888888888,
              "#fdca26"
             ],
             [
              1,
              "#f0f921"
             ]
            ],
            "type": "histogram2d"
           }
          ],
          "histogram2dcontour": [
           {
            "colorbar": {
             "outlinewidth": 0,
             "ticks": ""
            },
            "colorscale": [
             [
              0,
              "#0d0887"
             ],
             [
              0.1111111111111111,
              "#46039f"
             ],
             [
              0.2222222222222222,
              "#7201a8"
             ],
             [
              0.3333333333333333,
              "#9c179e"
             ],
             [
              0.4444444444444444,
              "#bd3786"
             ],
             [
              0.5555555555555556,
              "#d8576b"
             ],
             [
              0.6666666666666666,
              "#ed7953"
             ],
             [
              0.7777777777777778,
              "#fb9f3a"
             ],
             [
              0.8888888888888888,
              "#fdca26"
             ],
             [
              1,
              "#f0f921"
             ]
            ],
            "type": "histogram2dcontour"
           }
          ],
          "mesh3d": [
           {
            "colorbar": {
             "outlinewidth": 0,
             "ticks": ""
            },
            "type": "mesh3d"
           }
          ],
          "parcoords": [
           {
            "line": {
             "colorbar": {
              "outlinewidth": 0,
              "ticks": ""
             }
            },
            "type": "parcoords"
           }
          ],
          "pie": [
           {
            "automargin": true,
            "type": "pie"
           }
          ],
          "scatter": [
           {
            "fillpattern": {
             "fillmode": "overlay",
             "size": 10,
             "solidity": 0.2
            },
            "type": "scatter"
           }
          ],
          "scatter3d": [
           {
            "line": {
             "colorbar": {
              "outlinewidth": 0,
              "ticks": ""
             }
            },
            "marker": {
             "colorbar": {
              "outlinewidth": 0,
              "ticks": ""
             }
            },
            "type": "scatter3d"
           }
          ],
          "scattercarpet": [
           {
            "marker": {
             "colorbar": {
              "outlinewidth": 0,
              "ticks": ""
             }
            },
            "type": "scattercarpet"
           }
          ],
          "scattergeo": [
           {
            "marker": {
             "colorbar": {
              "outlinewidth": 0,
              "ticks": ""
             }
            },
            "type": "scattergeo"
           }
          ],
          "scattergl": [
           {
            "marker": {
             "colorbar": {
              "outlinewidth": 0,
              "ticks": ""
             }
            },
            "type": "scattergl"
           }
          ],
          "scattermapbox": [
           {
            "marker": {
             "colorbar": {
              "outlinewidth": 0,
              "ticks": ""
             }
            },
            "type": "scattermapbox"
           }
          ],
          "scatterpolar": [
           {
            "marker": {
             "colorbar": {
              "outlinewidth": 0,
              "ticks": ""
             }
            },
            "type": "scatterpolar"
           }
          ],
          "scatterpolargl": [
           {
            "marker": {
             "colorbar": {
              "outlinewidth": 0,
              "ticks": ""
             }
            },
            "type": "scatterpolargl"
           }
          ],
          "scatterternary": [
           {
            "marker": {
             "colorbar": {
              "outlinewidth": 0,
              "ticks": ""
             }
            },
            "type": "scatterternary"
           }
          ],
          "surface": [
           {
            "colorbar": {
             "outlinewidth": 0,
             "ticks": ""
            },
            "colorscale": [
             [
              0,
              "#0d0887"
             ],
             [
              0.1111111111111111,
              "#46039f"
             ],
             [
              0.2222222222222222,
              "#7201a8"
             ],
             [
              0.3333333333333333,
              "#9c179e"
             ],
             [
              0.4444444444444444,
              "#bd3786"
             ],
             [
              0.5555555555555556,
              "#d8576b"
             ],
             [
              0.6666666666666666,
              "#ed7953"
             ],
             [
              0.7777777777777778,
              "#fb9f3a"
             ],
             [
              0.8888888888888888,
              "#fdca26"
             ],
             [
              1,
              "#f0f921"
             ]
            ],
            "type": "surface"
           }
          ],
          "table": [
           {
            "cells": {
             "fill": {
              "color": "#EBF0F8"
             },
             "line": {
              "color": "white"
             }
            },
            "header": {
             "fill": {
              "color": "#C8D4E3"
             },
             "line": {
              "color": "white"
             }
            },
            "type": "table"
           }
          ]
         },
         "layout": {
          "annotationdefaults": {
           "arrowcolor": "#2a3f5f",
           "arrowhead": 0,
           "arrowwidth": 1
          },
          "autotypenumbers": "strict",
          "coloraxis": {
           "colorbar": {
            "outlinewidth": 0,
            "ticks": ""
           }
          },
          "colorscale": {
           "diverging": [
            [
             0,
             "#8e0152"
            ],
            [
             0.1,
             "#c51b7d"
            ],
            [
             0.2,
             "#de77ae"
            ],
            [
             0.3,
             "#f1b6da"
            ],
            [
             0.4,
             "#fde0ef"
            ],
            [
             0.5,
             "#f7f7f7"
            ],
            [
             0.6,
             "#e6f5d0"
            ],
            [
             0.7,
             "#b8e186"
            ],
            [
             0.8,
             "#7fbc41"
            ],
            [
             0.9,
             "#4d9221"
            ],
            [
             1,
             "#276419"
            ]
           ],
           "sequential": [
            [
             0,
             "#0d0887"
            ],
            [
             0.1111111111111111,
             "#46039f"
            ],
            [
             0.2222222222222222,
             "#7201a8"
            ],
            [
             0.3333333333333333,
             "#9c179e"
            ],
            [
             0.4444444444444444,
             "#bd3786"
            ],
            [
             0.5555555555555556,
             "#d8576b"
            ],
            [
             0.6666666666666666,
             "#ed7953"
            ],
            [
             0.7777777777777778,
             "#fb9f3a"
            ],
            [
             0.8888888888888888,
             "#fdca26"
            ],
            [
             1,
             "#f0f921"
            ]
           ],
           "sequentialminus": [
            [
             0,
             "#0d0887"
            ],
            [
             0.1111111111111111,
             "#46039f"
            ],
            [
             0.2222222222222222,
             "#7201a8"
            ],
            [
             0.3333333333333333,
             "#9c179e"
            ],
            [
             0.4444444444444444,
             "#bd3786"
            ],
            [
             0.5555555555555556,
             "#d8576b"
            ],
            [
             0.6666666666666666,
             "#ed7953"
            ],
            [
             0.7777777777777778,
             "#fb9f3a"
            ],
            [
             0.8888888888888888,
             "#fdca26"
            ],
            [
             1,
             "#f0f921"
            ]
           ]
          },
          "colorway": [
           "#636efa",
           "#EF553B",
           "#00cc96",
           "#ab63fa",
           "#FFA15A",
           "#19d3f3",
           "#FF6692",
           "#B6E880",
           "#FF97FF",
           "#FECB52"
          ],
          "font": {
           "color": "#2a3f5f"
          },
          "geo": {
           "bgcolor": "white",
           "lakecolor": "white",
           "landcolor": "#E5ECF6",
           "showlakes": true,
           "showland": true,
           "subunitcolor": "white"
          },
          "hoverlabel": {
           "align": "left"
          },
          "hovermode": "closest",
          "mapbox": {
           "style": "light"
          },
          "paper_bgcolor": "white",
          "plot_bgcolor": "#E5ECF6",
          "polar": {
           "angularaxis": {
            "gridcolor": "white",
            "linecolor": "white",
            "ticks": ""
           },
           "bgcolor": "#E5ECF6",
           "radialaxis": {
            "gridcolor": "white",
            "linecolor": "white",
            "ticks": ""
           }
          },
          "scene": {
           "xaxis": {
            "backgroundcolor": "#E5ECF6",
            "gridcolor": "white",
            "gridwidth": 2,
            "linecolor": "white",
            "showbackground": true,
            "ticks": "",
            "zerolinecolor": "white"
           },
           "yaxis": {
            "backgroundcolor": "#E5ECF6",
            "gridcolor": "white",
            "gridwidth": 2,
            "linecolor": "white",
            "showbackground": true,
            "ticks": "",
            "zerolinecolor": "white"
           },
           "zaxis": {
            "backgroundcolor": "#E5ECF6",
            "gridcolor": "white",
            "gridwidth": 2,
            "linecolor": "white",
            "showbackground": true,
            "ticks": "",
            "zerolinecolor": "white"
           }
          },
          "shapedefaults": {
           "line": {
            "color": "#2a3f5f"
           }
          },
          "ternary": {
           "aaxis": {
            "gridcolor": "white",
            "linecolor": "white",
            "ticks": ""
           },
           "baxis": {
            "gridcolor": "white",
            "linecolor": "white",
            "ticks": ""
           },
           "bgcolor": "#E5ECF6",
           "caxis": {
            "gridcolor": "white",
            "linecolor": "white",
            "ticks": ""
           }
          },
          "title": {
           "x": 0.05
          },
          "xaxis": {
           "automargin": true,
           "gridcolor": "white",
           "linecolor": "white",
           "ticks": "",
           "title": {
            "standoff": 15
           },
           "zerolinecolor": "white",
           "zerolinewidth": 2
          },
          "yaxis": {
           "automargin": true,
           "gridcolor": "white",
           "linecolor": "white",
           "ticks": "",
           "title": {
            "standoff": 15
           },
           "zerolinecolor": "white",
           "zerolinewidth": 2
          }
         }
        },
        "title": {
         "text": "Number of Episodes Per Year in Different Categories",
         "x": 0.5
        },
        "width": 1100,
        "xaxis": {
         "anchor": "y",
         "domain": [
          0,
          1
         ],
         "showticklabels": true,
         "title": {
          "text": " "
         },
         "visible": true
        },
        "yaxis": {
         "anchor": "x",
         "domain": [
          0,
          1
         ],
         "showticklabels": true,
         "title": {
          "text": "Number of Episodes"
         },
         "visible": true
        }
       }
      },
      "text/html": [
       "<div>                            <div id=\"4f156daf-ab5c-45b3-9623-373b5231f8fc\" class=\"plotly-graph-div\" style=\"height:600px; width:1100px;\"></div>            <script type=\"text/javascript\">                require([\"plotly\"], function(Plotly) {                    window.PLOTLYENV=window.PLOTLYENV || {};                                    if (document.getElementById(\"4f156daf-ab5c-45b3-9623-373b5231f8fc\")) {                    Plotly.newPlot(                        \"4f156daf-ab5c-45b3-9623-373b5231f8fc\",                        [{\"alignmentgroup\":\"True\",\"customdata\":[[\"Data Science\"],[\"Data Science\"],[\"Data Science\"],[\"Data Science\"],[\"Data Science\"],[\"Data Science\"],[\"Data Science\"],[\"Data Science\"]],\"hovertemplate\":\"class=%{customdata[0]}<br>episode_year=%{x}<br>episode_number=%{y}<extra></extra>\",\"legendgroup\":\"Data Science\",\"marker\":{\"color\":\"#636efa\",\"pattern\":{\"shape\":\"\"}},\"name\":\"Data Science\",\"offsetgroup\":\"Data Science\",\"orientation\":\"v\",\"showlegend\":true,\"textposition\":\"auto\",\"x\":[2016,2017,2018,2019,2020,2021,2022,2023],\"xaxis\":\"x\",\"y\":[6,13,18,25,32,30,19,4],\"yaxis\":\"y\",\"type\":\"bar\"},{\"alignmentgroup\":\"True\",\"customdata\":[[\"Data Visualization\"],[\"Data Visualization\"],[\"Data Visualization\"],[\"Data Visualization\"],[\"Data Visualization\"],[\"Data Visualization\"],[\"Data Visualization\"],[\"Data Visualization\"]],\"hovertemplate\":\"class=%{customdata[0]}<br>episode_year=%{x}<br>episode_number=%{y}<extra></extra>\",\"legendgroup\":\"Data Visualization\",\"marker\":{\"color\":\"#EF553B\",\"pattern\":{\"shape\":\"\"}},\"name\":\"Data Visualization\",\"offsetgroup\":\"Data Visualization\",\"orientation\":\"v\",\"showlegend\":true,\"textposition\":\"auto\",\"x\":[2016,2017,2018,2019,2020,2021,2022,2023],\"xaxis\":\"x\",\"y\":[2,8,5,5,4,3,1,3],\"yaxis\":\"y\",\"type\":\"bar\"},{\"alignmentgroup\":\"True\",\"customdata\":[[\"Database\"],[\"Database\"],[\"Database\"]],\"hovertemplate\":\"class=%{customdata[0]}<br>episode_year=%{x}<br>episode_number=%{y}<extra></extra>\",\"legendgroup\":\"Database\",\"marker\":{\"color\":\"#00cc96\",\"pattern\":{\"shape\":\"\"}},\"name\":\"Database\",\"offsetgroup\":\"Database\",\"orientation\":\"v\",\"showlegend\":true,\"textposition\":\"auto\",\"x\":[2016,2017,2018],\"xaxis\":\"x\",\"y\":[3,6,2],\"yaxis\":\"y\",\"type\":\"bar\"},{\"alignmentgroup\":\"True\",\"customdata\":[[\"Machine Learning\"],[\"Machine Learning\"],[\"Machine Learning\"],[\"Machine Learning\"],[\"Machine Learning\"],[\"Machine Learning\"],[\"Machine Learning\"],[\"Machine Learning\"]],\"hovertemplate\":\"class=%{customdata[0]}<br>episode_year=%{x}<br>episode_number=%{y}<extra></extra>\",\"legendgroup\":\"Machine Learning\",\"marker\":{\"color\":\"#ab63fa\",\"pattern\":{\"shape\":\"\"}},\"name\":\"Machine Learning\",\"offsetgroup\":\"Machine Learning\",\"orientation\":\"v\",\"showlegend\":true,\"textposition\":\"auto\",\"x\":[2016,2017,2018,2019,2020,2021,2022,2023],\"xaxis\":\"x\",\"y\":[4,6,9,9,6,14,22,7],\"yaxis\":\"y\",\"type\":\"bar\"},{\"alignmentgroup\":\"True\",\"customdata\":[[\"Programming\"],[\"Programming\"],[\"Programming\"],[\"Programming\"],[\"Programming\"],[\"Programming\"],[\"Programming\"]],\"hovertemplate\":\"class=%{customdata[0]}<br>episode_year=%{x}<br>episode_number=%{y}<extra></extra>\",\"legendgroup\":\"Programming\",\"marker\":{\"color\":\"#FFA15A\",\"pattern\":{\"shape\":\"\"}},\"name\":\"Programming\",\"offsetgroup\":\"Programming\",\"orientation\":\"v\",\"showlegend\":true,\"textposition\":\"auto\",\"x\":[2016,2017,2018,2019,2020,2021,2022],\"xaxis\":\"x\",\"y\":[2,2,4,3,2,6,2],\"yaxis\":\"y\",\"type\":\"bar\"},{\"alignmentgroup\":\"True\",\"customdata\":[[\"Artificial Intelligence\"],[\"Artificial Intelligence\"],[\"Artificial Intelligence\"],[\"Artificial Intelligence\"],[\"Artificial Intelligence\"],[\"Artificial Intelligence\"],[\"Artificial Intelligence\"]],\"hovertemplate\":\"class=%{customdata[0]}<br>episode_year=%{x}<br>episode_number=%{y}<extra></extra>\",\"legendgroup\":\"Artificial Intelligence\",\"marker\":{\"color\":\"#19d3f3\",\"pattern\":{\"shape\":\"\"}},\"name\":\"Artificial Intelligence\",\"offsetgroup\":\"Artificial Intelligence\",\"orientation\":\"v\",\"showlegend\":true,\"textposition\":\"auto\",\"x\":[2017,2018,2019,2020,2021,2022,2023],\"xaxis\":\"x\",\"y\":[1,5,18,9,12,20,20],\"yaxis\":\"y\",\"type\":\"bar\"},{\"alignmentgroup\":\"True\",\"customdata\":[[\"Artificial Intelligence, Deep Learning\"],[\"Artificial Intelligence, Deep Learning\"],[\"Artificial Intelligence, Deep Learning\"],[\"Artificial Intelligence, Deep Learning\"]],\"hovertemplate\":\"class=%{customdata[0]}<br>episode_year=%{x}<br>episode_number=%{y}<extra></extra>\",\"legendgroup\":\"Artificial Intelligence, Deep Learning\",\"marker\":{\"color\":\"#FF6692\",\"pattern\":{\"shape\":\"\"}},\"name\":\"Artificial Intelligence, Deep Learning\",\"offsetgroup\":\"Artificial Intelligence, Deep Learning\",\"orientation\":\"v\",\"showlegend\":true,\"textposition\":\"auto\",\"x\":[2017,2018,2021,2022],\"xaxis\":\"x\",\"y\":[4,1,2,1],\"yaxis\":\"y\",\"type\":\"bar\"},{\"alignmentgroup\":\"True\",\"customdata\":[[\"Health, Life and Philosophy\"],[\"Health, Life and Philosophy\"],[\"Health, Life and Philosophy\"],[\"Health, Life and Philosophy\"],[\"Health, Life and Philosophy\"],[\"Health, Life and Philosophy\"],[\"Health, Life and Philosophy\"]],\"hovertemplate\":\"class=%{customdata[0]}<br>episode_year=%{x}<br>episode_number=%{y}<extra></extra>\",\"legendgroup\":\"Health, Life and Philosophy\",\"marker\":{\"color\":\"#B6E880\",\"pattern\":{\"shape\":\"\"}},\"name\":\"Health, Life and Philosophy\",\"offsetgroup\":\"Health, Life and Philosophy\",\"orientation\":\"v\",\"showlegend\":true,\"textposition\":\"auto\",\"x\":[2017,2018,2019,2020,2021,2022,2023],\"xaxis\":\"x\",\"y\":[46,45,33,48,31,27,1],\"yaxis\":\"y\",\"type\":\"bar\"},{\"alignmentgroup\":\"True\",\"customdata\":[[\"Machine Learning, Artificial Intelligence\"],[\"Machine Learning, Artificial Intelligence\"],[\"Machine Learning, Artificial Intelligence\"],[\"Machine Learning, Artificial Intelligence\"],[\"Machine Learning, Artificial Intelligence\"],[\"Machine Learning, Artificial Intelligence\"],[\"Machine Learning, Artificial Intelligence\"]],\"hovertemplate\":\"class=%{customdata[0]}<br>episode_year=%{x}<br>episode_number=%{y}<extra></extra>\",\"legendgroup\":\"Machine Learning, Artificial Intelligence\",\"marker\":{\"color\":\"#FF97FF\",\"pattern\":{\"shape\":\"\"}},\"name\":\"Machine Learning, Artificial Intelligence\",\"offsetgroup\":\"Machine Learning, Artificial Intelligence\",\"orientation\":\"v\",\"showlegend\":true,\"textposition\":\"auto\",\"x\":[2017,2018,2019,2020,2021,2022,2023],\"xaxis\":\"x\",\"y\":[2,4,6,2,3,2,3],\"yaxis\":\"y\",\"type\":\"bar\"},{\"alignmentgroup\":\"True\",\"customdata\":[[\"Machine Learning, Artificial Intelligence, Deep Learning\"],[\"Machine Learning, Artificial Intelligence, Deep Learning\"],[\"Machine Learning, Artificial Intelligence, Deep Learning\"],[\"Machine Learning, Artificial Intelligence, Deep Learning\"]],\"hovertemplate\":\"class=%{customdata[0]}<br>episode_year=%{x}<br>episode_number=%{y}<extra></extra>\",\"legendgroup\":\"Machine Learning, Artificial Intelligence, Deep Learning\",\"marker\":{\"color\":\"#FECB52\",\"pattern\":{\"shape\":\"\"}},\"name\":\"Machine Learning, Artificial Intelligence, Deep Learning\",\"offsetgroup\":\"Machine Learning, Artificial Intelligence, Deep Learning\",\"orientation\":\"v\",\"showlegend\":true,\"textposition\":\"auto\",\"x\":[2017,2018,2019,2021],\"xaxis\":\"x\",\"y\":[5,5,2,1],\"yaxis\":\"y\",\"type\":\"bar\"},{\"alignmentgroup\":\"True\",\"customdata\":[[\"Machine Learning, Deep Learning\"],[\"Machine Learning, Deep Learning\"],[\"Machine Learning, Deep Learning\"],[\"Machine Learning, Deep Learning\"],[\"Machine Learning, Deep Learning\"],[\"Machine Learning, Deep Learning\"]],\"hovertemplate\":\"class=%{customdata[0]}<br>episode_year=%{x}<br>episode_number=%{y}<extra></extra>\",\"legendgroup\":\"Machine Learning, Deep Learning\",\"marker\":{\"color\":\"#636efa\",\"pattern\":{\"shape\":\"\"}},\"name\":\"Machine Learning, Deep Learning\",\"offsetgroup\":\"Machine Learning, Deep Learning\",\"orientation\":\"v\",\"showlegend\":true,\"textposition\":\"auto\",\"x\":[2017,2018,2019,2020,2021,2022],\"xaxis\":\"x\",\"y\":[5,2,3,2,1,3],\"yaxis\":\"y\",\"type\":\"bar\"},{\"alignmentgroup\":\"True\",\"customdata\":[[\"Programming, Data Visualization\"],[\"Programming, Data Visualization\"]],\"hovertemplate\":\"class=%{customdata[0]}<br>episode_year=%{x}<br>episode_number=%{y}<extra></extra>\",\"legendgroup\":\"Programming, Data Visualization\",\"marker\":{\"color\":\"#EF553B\",\"pattern\":{\"shape\":\"\"}},\"name\":\"Programming, Data Visualization\",\"offsetgroup\":\"Programming, Data Visualization\",\"orientation\":\"v\",\"showlegend\":true,\"textposition\":\"auto\",\"x\":[2017,2018],\"xaxis\":\"x\",\"y\":[3,1],\"yaxis\":\"y\",\"type\":\"bar\"},{\"alignmentgroup\":\"True\",\"customdata\":[[\"Blockchain\"],[\"Blockchain\"]],\"hovertemplate\":\"class=%{customdata[0]}<br>episode_year=%{x}<br>episode_number=%{y}<extra></extra>\",\"legendgroup\":\"Blockchain\",\"marker\":{\"color\":\"#00cc96\",\"pattern\":{\"shape\":\"\"}},\"name\":\"Blockchain\",\"offsetgroup\":\"Blockchain\",\"orientation\":\"v\",\"showlegend\":true,\"textposition\":\"auto\",\"x\":[2018,2022],\"xaxis\":\"x\",\"y\":[3,1],\"yaxis\":\"y\",\"type\":\"bar\"},{\"alignmentgroup\":\"True\",\"customdata\":[[\"Deep Learning\"]],\"hovertemplate\":\"class=%{customdata[0]}<br>episode_year=%{x}<br>episode_number=%{y}<extra></extra>\",\"legendgroup\":\"Deep Learning\",\"marker\":{\"color\":\"#ab63fa\",\"pattern\":{\"shape\":\"\"}},\"name\":\"Deep Learning\",\"offsetgroup\":\"Deep Learning\",\"orientation\":\"v\",\"showlegend\":true,\"textposition\":\"auto\",\"x\":[2021],\"xaxis\":\"x\",\"y\":[1],\"yaxis\":\"y\",\"type\":\"bar\"},{\"alignmentgroup\":\"True\",\"customdata\":[[\"Data Science, Career\"],[\"Data Science, Career\"]],\"hovertemplate\":\"class=%{customdata[0]}<br>episode_year=%{x}<br>episode_number=%{y}<extra></extra>\",\"legendgroup\":\"Data Science, Career\",\"marker\":{\"color\":\"#FFA15A\",\"pattern\":{\"shape\":\"\"}},\"name\":\"Data Science, Career\",\"offsetgroup\":\"Data Science, Career\",\"orientation\":\"v\",\"showlegend\":true,\"textposition\":\"auto\",\"x\":[2022,2023],\"xaxis\":\"x\",\"y\":[5,4],\"yaxis\":\"y\",\"type\":\"bar\"},{\"alignmentgroup\":\"True\",\"customdata\":[[\"Data Science, Productivity\"],[\"Data Science, Productivity\"]],\"hovertemplate\":\"class=%{customdata[0]}<br>episode_year=%{x}<br>episode_number=%{y}<extra></extra>\",\"legendgroup\":\"Data Science, Productivity\",\"marker\":{\"color\":\"#19d3f3\",\"pattern\":{\"shape\":\"\"}},\"name\":\"Data Science, Productivity\",\"offsetgroup\":\"Data Science, Productivity\",\"orientation\":\"v\",\"showlegend\":true,\"textposition\":\"auto\",\"x\":[2022,2023],\"xaxis\":\"x\",\"y\":[1,1],\"yaxis\":\"y\",\"type\":\"bar\"}],                        {\"template\":{\"data\":{\"histogram2dcontour\":[{\"type\":\"histogram2dcontour\",\"colorbar\":{\"outlinewidth\":0,\"ticks\":\"\"},\"colorscale\":[[0.0,\"#0d0887\"],[0.1111111111111111,\"#46039f\"],[0.2222222222222222,\"#7201a8\"],[0.3333333333333333,\"#9c179e\"],[0.4444444444444444,\"#bd3786\"],[0.5555555555555556,\"#d8576b\"],[0.6666666666666666,\"#ed7953\"],[0.7777777777777778,\"#fb9f3a\"],[0.8888888888888888,\"#fdca26\"],[1.0,\"#f0f921\"]]}],\"choropleth\":[{\"type\":\"choropleth\",\"colorbar\":{\"outlinewidth\":0,\"ticks\":\"\"}}],\"histogram2d\":[{\"type\":\"histogram2d\",\"colorbar\":{\"outlinewidth\":0,\"ticks\":\"\"},\"colorscale\":[[0.0,\"#0d0887\"],[0.1111111111111111,\"#46039f\"],[0.2222222222222222,\"#7201a8\"],[0.3333333333333333,\"#9c179e\"],[0.4444444444444444,\"#bd3786\"],[0.5555555555555556,\"#d8576b\"],[0.6666666666666666,\"#ed7953\"],[0.7777777777777778,\"#fb9f3a\"],[0.8888888888888888,\"#fdca26\"],[1.0,\"#f0f921\"]]}],\"heatmap\":[{\"type\":\"heatmap\",\"colorbar\":{\"outlinewidth\":0,\"ticks\":\"\"},\"colorscale\":[[0.0,\"#0d0887\"],[0.1111111111111111,\"#46039f\"],[0.2222222222222222,\"#7201a8\"],[0.3333333333333333,\"#9c179e\"],[0.4444444444444444,\"#bd3786\"],[0.5555555555555556,\"#d8576b\"],[0.6666666666666666,\"#ed7953\"],[0.7777777777777778,\"#fb9f3a\"],[0.8888888888888888,\"#fdca26\"],[1.0,\"#f0f921\"]]}],\"heatmapgl\":[{\"type\":\"heatmapgl\",\"colorbar\":{\"outlinewidth\":0,\"ticks\":\"\"},\"colorscale\":[[0.0,\"#0d0887\"],[0.1111111111111111,\"#46039f\"],[0.2222222222222222,\"#7201a8\"],[0.3333333333333333,\"#9c179e\"],[0.4444444444444444,\"#bd3786\"],[0.5555555555555556,\"#d8576b\"],[0.6666666666666666,\"#ed7953\"],[0.7777777777777778,\"#fb9f3a\"],[0.8888888888888888,\"#fdca26\"],[1.0,\"#f0f921\"]]}],\"contourcarpet\":[{\"type\":\"contourcarpet\",\"colorbar\":{\"outlinewidth\":0,\"ticks\":\"\"}}],\"contour\":[{\"type\":\"contour\",\"colorbar\":{\"outlinewidth\":0,\"ticks\":\"\"},\"colorscale\":[[0.0,\"#0d0887\"],[0.1111111111111111,\"#46039f\"],[0.2222222222222222,\"#7201a8\"],[0.3333333333333333,\"#9c179e\"],[0.4444444444444444,\"#bd3786\"],[0.5555555555555556,\"#d8576b\"],[0.6666666666666666,\"#ed7953\"],[0.7777777777777778,\"#fb9f3a\"],[0.8888888888888888,\"#fdca26\"],[1.0,\"#f0f921\"]]}],\"surface\":[{\"type\":\"surface\",\"colorbar\":{\"outlinewidth\":0,\"ticks\":\"\"},\"colorscale\":[[0.0,\"#0d0887\"],[0.1111111111111111,\"#46039f\"],[0.2222222222222222,\"#7201a8\"],[0.3333333333333333,\"#9c179e\"],[0.4444444444444444,\"#bd3786\"],[0.5555555555555556,\"#d8576b\"],[0.6666666666666666,\"#ed7953\"],[0.7777777777777778,\"#fb9f3a\"],[0.8888888888888888,\"#fdca26\"],[1.0,\"#f0f921\"]]}],\"mesh3d\":[{\"type\":\"mesh3d\",\"colorbar\":{\"outlinewidth\":0,\"ticks\":\"\"}}],\"scatter\":[{\"fillpattern\":{\"fillmode\":\"overlay\",\"size\":10,\"solidity\":0.2},\"type\":\"scatter\"}],\"parcoords\":[{\"type\":\"parcoords\",\"line\":{\"colorbar\":{\"outlinewidth\":0,\"ticks\":\"\"}}}],\"scatterpolargl\":[{\"type\":\"scatterpolargl\",\"marker\":{\"colorbar\":{\"outlinewidth\":0,\"ticks\":\"\"}}}],\"bar\":[{\"error_x\":{\"color\":\"#2a3f5f\"},\"error_y\":{\"color\":\"#2a3f5f\"},\"marker\":{\"line\":{\"color\":\"#E5ECF6\",\"width\":0.5},\"pattern\":{\"fillmode\":\"overlay\",\"size\":10,\"solidity\":0.2}},\"type\":\"bar\"}],\"scattergeo\":[{\"type\":\"scattergeo\",\"marker\":{\"colorbar\":{\"outlinewidth\":0,\"ticks\":\"\"}}}],\"scatterpolar\":[{\"type\":\"scatterpolar\",\"marker\":{\"colorbar\":{\"outlinewidth\":0,\"ticks\":\"\"}}}],\"histogram\":[{\"marker\":{\"pattern\":{\"fillmode\":\"overlay\",\"size\":10,\"solidity\":0.2}},\"type\":\"histogram\"}],\"scattergl\":[{\"type\":\"scattergl\",\"marker\":{\"colorbar\":{\"outlinewidth\":0,\"ticks\":\"\"}}}],\"scatter3d\":[{\"type\":\"scatter3d\",\"line\":{\"colorbar\":{\"outlinewidth\":0,\"ticks\":\"\"}},\"marker\":{\"colorbar\":{\"outlinewidth\":0,\"ticks\":\"\"}}}],\"scattermapbox\":[{\"type\":\"scattermapbox\",\"marker\":{\"colorbar\":{\"outlinewidth\":0,\"ticks\":\"\"}}}],\"scatterternary\":[{\"type\":\"scatterternary\",\"marker\":{\"colorbar\":{\"outlinewidth\":0,\"ticks\":\"\"}}}],\"scattercarpet\":[{\"type\":\"scattercarpet\",\"marker\":{\"colorbar\":{\"outlinewidth\":0,\"ticks\":\"\"}}}],\"carpet\":[{\"aaxis\":{\"endlinecolor\":\"#2a3f5f\",\"gridcolor\":\"white\",\"linecolor\":\"white\",\"minorgridcolor\":\"white\",\"startlinecolor\":\"#2a3f5f\"},\"baxis\":{\"endlinecolor\":\"#2a3f5f\",\"gridcolor\":\"white\",\"linecolor\":\"white\",\"minorgridcolor\":\"white\",\"startlinecolor\":\"#2a3f5f\"},\"type\":\"carpet\"}],\"table\":[{\"cells\":{\"fill\":{\"color\":\"#EBF0F8\"},\"line\":{\"color\":\"white\"}},\"header\":{\"fill\":{\"color\":\"#C8D4E3\"},\"line\":{\"color\":\"white\"}},\"type\":\"table\"}],\"barpolar\":[{\"marker\":{\"line\":{\"color\":\"#E5ECF6\",\"width\":0.5},\"pattern\":{\"fillmode\":\"overlay\",\"size\":10,\"solidity\":0.2}},\"type\":\"barpolar\"}],\"pie\":[{\"automargin\":true,\"type\":\"pie\"}]},\"layout\":{\"autotypenumbers\":\"strict\",\"colorway\":[\"#636efa\",\"#EF553B\",\"#00cc96\",\"#ab63fa\",\"#FFA15A\",\"#19d3f3\",\"#FF6692\",\"#B6E880\",\"#FF97FF\",\"#FECB52\"],\"font\":{\"color\":\"#2a3f5f\"},\"hovermode\":\"closest\",\"hoverlabel\":{\"align\":\"left\"},\"paper_bgcolor\":\"white\",\"plot_bgcolor\":\"#E5ECF6\",\"polar\":{\"bgcolor\":\"#E5ECF6\",\"angularaxis\":{\"gridcolor\":\"white\",\"linecolor\":\"white\",\"ticks\":\"\"},\"radialaxis\":{\"gridcolor\":\"white\",\"linecolor\":\"white\",\"ticks\":\"\"}},\"ternary\":{\"bgcolor\":\"#E5ECF6\",\"aaxis\":{\"gridcolor\":\"white\",\"linecolor\":\"white\",\"ticks\":\"\"},\"baxis\":{\"gridcolor\":\"white\",\"linecolor\":\"white\",\"ticks\":\"\"},\"caxis\":{\"gridcolor\":\"white\",\"linecolor\":\"white\",\"ticks\":\"\"}},\"coloraxis\":{\"colorbar\":{\"outlinewidth\":0,\"ticks\":\"\"}},\"colorscale\":{\"sequential\":[[0.0,\"#0d0887\"],[0.1111111111111111,\"#46039f\"],[0.2222222222222222,\"#7201a8\"],[0.3333333333333333,\"#9c179e\"],[0.4444444444444444,\"#bd3786\"],[0.5555555555555556,\"#d8576b\"],[0.6666666666666666,\"#ed7953\"],[0.7777777777777778,\"#fb9f3a\"],[0.8888888888888888,\"#fdca26\"],[1.0,\"#f0f921\"]],\"sequentialminus\":[[0.0,\"#0d0887\"],[0.1111111111111111,\"#46039f\"],[0.2222222222222222,\"#7201a8\"],[0.3333333333333333,\"#9c179e\"],[0.4444444444444444,\"#bd3786\"],[0.5555555555555556,\"#d8576b\"],[0.6666666666666666,\"#ed7953\"],[0.7777777777777778,\"#fb9f3a\"],[0.8888888888888888,\"#fdca26\"],[1.0,\"#f0f921\"]],\"diverging\":[[0,\"#8e0152\"],[0.1,\"#c51b7d\"],[0.2,\"#de77ae\"],[0.3,\"#f1b6da\"],[0.4,\"#fde0ef\"],[0.5,\"#f7f7f7\"],[0.6,\"#e6f5d0\"],[0.7,\"#b8e186\"],[0.8,\"#7fbc41\"],[0.9,\"#4d9221\"],[1,\"#276419\"]]},\"xaxis\":{\"gridcolor\":\"white\",\"linecolor\":\"white\",\"ticks\":\"\",\"title\":{\"standoff\":15},\"zerolinecolor\":\"white\",\"automargin\":true,\"zerolinewidth\":2},\"yaxis\":{\"gridcolor\":\"white\",\"linecolor\":\"white\",\"ticks\":\"\",\"title\":{\"standoff\":15},\"zerolinecolor\":\"white\",\"automargin\":true,\"zerolinewidth\":2},\"scene\":{\"xaxis\":{\"backgroundcolor\":\"#E5ECF6\",\"gridcolor\":\"white\",\"linecolor\":\"white\",\"showbackground\":true,\"ticks\":\"\",\"zerolinecolor\":\"white\",\"gridwidth\":2},\"yaxis\":{\"backgroundcolor\":\"#E5ECF6\",\"gridcolor\":\"white\",\"linecolor\":\"white\",\"showbackground\":true,\"ticks\":\"\",\"zerolinecolor\":\"white\",\"gridwidth\":2},\"zaxis\":{\"backgroundcolor\":\"#E5ECF6\",\"gridcolor\":\"white\",\"linecolor\":\"white\",\"showbackground\":true,\"ticks\":\"\",\"zerolinecolor\":\"white\",\"gridwidth\":2}},\"shapedefaults\":{\"line\":{\"color\":\"#2a3f5f\"}},\"annotationdefaults\":{\"arrowcolor\":\"#2a3f5f\",\"arrowhead\":0,\"arrowwidth\":1},\"geo\":{\"bgcolor\":\"white\",\"landcolor\":\"#E5ECF6\",\"subunitcolor\":\"white\",\"showland\":true,\"showlakes\":true,\"lakecolor\":\"white\"},\"title\":{\"x\":0.05},\"mapbox\":{\"style\":\"light\"}}},\"xaxis\":{\"anchor\":\"y\",\"domain\":[0.0,1.0],\"title\":{\"text\":\" \"},\"visible\":true,\"showticklabels\":true},\"yaxis\":{\"anchor\":\"x\",\"domain\":[0.0,1.0],\"title\":{\"text\":\"Number of Episodes\"},\"visible\":true,\"showticklabels\":true},\"legend\":{\"title\":{\"text\":\"categories\"},\"tracegroupgap\":0},\"margin\":{\"t\":60},\"barmode\":\"relative\",\"height\":600,\"width\":1100,\"title\":{\"text\":\"Number of Episodes Per Year in Different Categories\",\"x\":0.5},\"font\":{\"size\":10},\"showlegend\":true},                        {\"responsive\": true}                    ).then(function(){\n",
       "                            \n",
       "var gd = document.getElementById('4f156daf-ab5c-45b3-9623-373b5231f8fc');\n",
       "var x = new MutationObserver(function (mutations, observer) {{\n",
       "        var display = window.getComputedStyle(gd).display;\n",
       "        if (!display || display === 'none') {{\n",
       "            console.log([gd, 'removed!']);\n",
       "            Plotly.purge(gd);\n",
       "            observer.disconnect();\n",
       "        }}\n",
       "}});\n",
       "\n",
       "// Listen for the removal of the full notebook cells\n",
       "var notebookContainer = gd.closest('#notebook-container');\n",
       "if (notebookContainer) {{\n",
       "    x.observe(notebookContainer, {childList: true});\n",
       "}}\n",
       "\n",
       "// Listen for the clearing of the current output cell\n",
       "var outputEl = gd.closest('.output');\n",
       "if (outputEl) {{\n",
       "    x.observe(outputEl, {childList: true});\n",
       "}}\n",
       "\n",
       "                        })                };                });            </script>        </div>"
      ]
     },
     "metadata": {},
     "output_type": "display_data"
    }
   ],
   "source": [
    "\n",
    "fig = px.bar(metrics_complete, x = 'episode_year', y='episode_number', hover_data = ['class'], color = 'class', width=1100, height=600, )\n",
    "fig.update_layout(title_text= 'Number of Episodes Per Year in Different Categories',  title_x=0.5)\n",
    "fig.update_xaxes(title=' ', visible= True, showticklabels= True)\n",
    "fig.update_yaxes(title='Number of Episodes', visible= True, showticklabels= True)\n",
    "fig.update_layout(legend_title = 'categories', showlegend = True, font=dict(size= 10))\n",
    "fig.show()\n",
    "fig.write_html(\"Episode_distribution.html\")"
   ]
  },
  {
   "cell_type": "code",
   "execution_count": 13,
   "id": "5f255354",
   "metadata": {
    "scrolled": true
   },
   "outputs": [
    {
     "data": {
      "image/png": "[encoded data removed]",
      "text/plain": [
       "<Figure size 800x600 with 1 Axes>"
      ]
     },
     "metadata": {},
     "output_type": "display_data"
    }
   ],
   "source": [
    "plt.figure(figsize = (8,6))\n",
    "sns.boxplot(data = sds_datascience, x ='class', y ='length_episode')\n",
    "plt.ylabel('Duration of Episodes (in minutes)')\n",
    "plt.xlabel('')\n",
    "plt.yticks(fontsize = 10)\n",
    "plt.xticks(rotation = 90, fontsize = 8)\n",
    "plt.title('Length of Episodes in Different Categories Over the Years', fontsize = 12);\n",
    "\n",
    "#plt.savefig('episode_length.png', dpi=300)\n"
   ]
  },
  {
   "cell_type": "code",
   "execution_count": null,
   "id": "28ac93bc",
   "metadata": {},
   "outputs": [],
   "source": [
    "sds_datascience"
   ]
  },
  {
   "cell_type": "code",
   "execution_count": null,
   "id": "2ca52473",
   "metadata": {},
   "outputs": [],
   "source": [
    "sds_datascience['guest_name'].unique()"
   ]
  },
  {
   "cell_type": "code",
   "execution_count": 16,
   "id": "2dce0749",
   "metadata": {},
   "outputs": [],
   "source": [
    "host_guest_ds = sds_datascience[~(((sds_datascience['guest_name'] == ' Kirill Eremenko ') & (sds_datascience['host_episode'] == 'Kirill Eremenko')) | ((sds_datascience['guest_name'] == ' Jon Krohn ') & (sds_datascience['host_episode'] == 'Jon Krohn')))]"
   ]
  },
  {
   "cell_type": "code",
   "execution_count": 17,
   "id": "3b94f9f0",
   "metadata": {},
   "outputs": [
    {
     "data": {
      "text/html": [
       "<div>\n",
       "<style scoped>\n",
       "    .dataframe tbody tr th:only-of-type {\n",
       "        vertical-align: middle;\n",
       "    }\n",
       "\n",
       "    .dataframe tbody tr th {\n",
       "        vertical-align: top;\n",
       "    }\n",
       "\n",
       "    .dataframe thead th {\n",
       "        text-align: right;\n",
       "    }\n",
       "</style>\n",
       "<table border=\"1\" class=\"dataframe\">\n",
       "  <thead>\n",
       "    <tr style=\"text-align: right;\">\n",
       "      <th></th>\n",
       "      <th>episode_name</th>\n",
       "      <th>length_episode</th>\n",
       "      <th>context_episode</th>\n",
       "      <th>guest_name</th>\n",
       "      <th>guest_info</th>\n",
       "      <th>text_episode</th>\n",
       "      <th>episode_number</th>\n",
       "      <th>episode_date</th>\n",
       "      <th>episode_year</th>\n",
       "      <th>episode_day</th>\n",
       "      <th>host_episode</th>\n",
       "      <th>class</th>\n",
       "    </tr>\n",
       "  </thead>\n",
       "  <tbody>\n",
       "    <tr>\n",
       "      <th>0</th>\n",
       "      <td>Ruben Kogel on Self-Serve Analytics, R vs Pyt...</td>\n",
       "      <td>42</td>\n",
       "      <td>Business Data Science Database</td>\n",
       "      <td>Ruben Kogel</td>\n",
       "      <td>Subscribe on Website, Apple Podcasts, Spotify,...</td>\n",
       "      <td>Kirill: This is episode number one with ex-che...</td>\n",
       "      <td>1</td>\n",
       "      <td>2016-09-10</td>\n",
       "      <td>2016</td>\n",
       "      <td>Saturday</td>\n",
       "      <td>Kirill Eremenko</td>\n",
       "      <td>Database</td>\n",
       "    </tr>\n",
       "    <tr>\n",
       "      <th>1</th>\n",
       "      <td>Machine Learning, Recommender Systems and the...</td>\n",
       "      <td>51</td>\n",
       "      <td>Machine Learning Data Science</td>\n",
       "      <td>Hadelin de Ponteves</td>\n",
       "      <td>Subscribe on Website, Apple Podcasts, Spotify,...</td>\n",
       "      <td>Kirill: This is session number two with machin...</td>\n",
       "      <td>2</td>\n",
       "      <td>2016-09-14</td>\n",
       "      <td>2016</td>\n",
       "      <td>Wednesday</td>\n",
       "      <td>Kirill Eremenko</td>\n",
       "      <td>Machine Learning</td>\n",
       "    </tr>\n",
       "    <tr>\n",
       "      <th>2</th>\n",
       "      <td>Defining the Data Problem, Data Science in Ma...</td>\n",
       "      <td>53</td>\n",
       "      <td>Machine Learning R Programming Data Science</td>\n",
       "      <td>Dr. Wilson Pok</td>\n",
       "      <td>Subscribe on Website, Apple Podcasts, Spotify,...</td>\n",
       "      <td>Kirill:\\tThis is episode number three with Nan...</td>\n",
       "      <td>3</td>\n",
       "      <td>2016-09-25</td>\n",
       "      <td>2016</td>\n",
       "      <td>Sunday</td>\n",
       "      <td>Kirill Eremenko</td>\n",
       "      <td>Machine Learning</td>\n",
       "    </tr>\n",
       "    <tr>\n",
       "      <th>3</th>\n",
       "      <td>Data and Strategy, three Pillars of Research ...</td>\n",
       "      <td>60</td>\n",
       "      <td>Business Data Science</td>\n",
       "      <td>Brendan Hogan</td>\n",
       "      <td>Subscribe on Website, Apple Podcasts, Spotify,...</td>\n",
       "      <td>Kirill: This is episode four with business str...</td>\n",
       "      <td>4</td>\n",
       "      <td>2016-10-02</td>\n",
       "      <td>2016</td>\n",
       "      <td>Sunday</td>\n",
       "      <td>Kirill Eremenko</td>\n",
       "      <td>Data Science</td>\n",
       "    </tr>\n",
       "    <tr>\n",
       "      <th>4</th>\n",
       "      <td>Computer Forensics, Fraud Analytics and knowi...</td>\n",
       "      <td>63</td>\n",
       "      <td>Data Science</td>\n",
       "      <td>Dmitry Korneev</td>\n",
       "      <td>Subscribe on Website, Apple Podcasts, Spotify,...</td>\n",
       "      <td>Kirill:\\tThis is episode number five with fore...</td>\n",
       "      <td>5</td>\n",
       "      <td>2016-10-09</td>\n",
       "      <td>2016</td>\n",
       "      <td>Sunday</td>\n",
       "      <td>Kirill Eremenko</td>\n",
       "      <td>Data Science</td>\n",
       "    </tr>\n",
       "    <tr>\n",
       "      <th>...</th>\n",
       "      <td>...</td>\n",
       "      <td>...</td>\n",
       "      <td>...</td>\n",
       "      <td>...</td>\n",
       "      <td>...</td>\n",
       "      <td>...</td>\n",
       "      <td>...</td>\n",
       "      <td>...</td>\n",
       "      <td>...</td>\n",
       "      <td>...</td>\n",
       "      <td>...</td>\n",
       "      <td>...</td>\n",
       "    </tr>\n",
       "    <tr>\n",
       "      <th>446</th>\n",
       "      <td>The A.I. and Machine Learning Landscape, with...</td>\n",
       "      <td>94</td>\n",
       "      <td>Business Data Science Artificial Intelligence</td>\n",
       "      <td>George Mathew</td>\n",
       "      <td>Subscribe on Website, Apple Podcasts, Spotify,...</td>\n",
       "      <td>Jon Krohn:\\t00:00:00This is episode number 679...</td>\n",
       "      <td>679</td>\n",
       "      <td>2023-05-16</td>\n",
       "      <td>2023</td>\n",
       "      <td>Tuesday</td>\n",
       "      <td>Jon Krohn</td>\n",
       "      <td>Artificial Intelligence</td>\n",
       "    </tr>\n",
       "    <tr>\n",
       "      <th>447</th>\n",
       "      <td>Automating Industrial Machines with Data Scie...</td>\n",
       "      <td>30</td>\n",
       "      <td>Business Data Science</td>\n",
       "      <td>Allegra Alessi</td>\n",
       "      <td>Subscribe on Website, Apple Podcasts, Spotify,...</td>\n",
       "      <td>Jon Krohn:\\t00:06\\tThis is episode number 680 ...</td>\n",
       "      <td>680</td>\n",
       "      <td>2023-05-19</td>\n",
       "      <td>2023</td>\n",
       "      <td>Friday</td>\n",
       "      <td>Jon Krohn</td>\n",
       "      <td>Data Science</td>\n",
       "    </tr>\n",
       "    <tr>\n",
       "      <th>448</th>\n",
       "      <td>XGBoost</td>\n",
       "      <td>72</td>\n",
       "      <td>Machine Learning Data Science Python</td>\n",
       "      <td>Matt Harrison</td>\n",
       "      <td>Subscribe on Website, Apple Podcasts, Spotify,...</td>\n",
       "      <td>Jon Krohn:\\t00:00:00\\tThis is episode number 6...</td>\n",
       "      <td>681</td>\n",
       "      <td>2023-05-23</td>\n",
       "      <td>2023</td>\n",
       "      <td>Tuesday</td>\n",
       "      <td>Jon Krohn</td>\n",
       "      <td>Machine Learning</td>\n",
       "    </tr>\n",
       "    <tr>\n",
       "      <th>449</th>\n",
       "      <td>Business Intelligence Tools, with Mico Yuk</td>\n",
       "      <td>28</td>\n",
       "      <td>Business Data Science</td>\n",
       "      <td>Mico Yuk</td>\n",
       "      <td>Subscribe on Website, Apple Podcasts, Spotify,...</td>\n",
       "      <td>Jon Krohn:\\t00:05\\tThis is episode number 682 ...</td>\n",
       "      <td>682</td>\n",
       "      <td>2023-05-26</td>\n",
       "      <td>2023</td>\n",
       "      <td>Friday</td>\n",
       "      <td>Jon Krohn</td>\n",
       "      <td>Data Science</td>\n",
       "    </tr>\n",
       "    <tr>\n",
       "      <th>450</th>\n",
       "      <td>Contextual A.I. for Adapting to Adversaries, ...</td>\n",
       "      <td>81</td>\n",
       "      <td>Data Science Artificial Intelligence</td>\n",
       "      <td>Matar Haller</td>\n",
       "      <td>Subscribe on Website, Apple Podcasts, Spotify,...</td>\n",
       "      <td>Jon Krohn:\\t00:00:05\\tThis is episode number 6...</td>\n",
       "      <td>683</td>\n",
       "      <td>2023-05-30</td>\n",
       "      <td>2023</td>\n",
       "      <td>Tuesday</td>\n",
       "      <td>Jon Krohn</td>\n",
       "      <td>Artificial Intelligence</td>\n",
       "    </tr>\n",
       "  </tbody>\n",
       "</table>\n",
       "<p>360 rows × 12 columns</p>\n",
       "</div>"
      ],
      "text/plain": [
       "                                          episode_name  length_episode  \\\n",
       "0     Ruben Kogel on Self-Serve Analytics, R vs Pyt...              42   \n",
       "1     Machine Learning, Recommender Systems and the...              51   \n",
       "2     Defining the Data Problem, Data Science in Ma...              53   \n",
       "3     Data and Strategy, three Pillars of Research ...              60   \n",
       "4     Computer Forensics, Fraud Analytics and knowi...              63   \n",
       "..                                                 ...             ...   \n",
       "446   The A.I. and Machine Learning Landscape, with...              94   \n",
       "447   Automating Industrial Machines with Data Scie...              30   \n",
       "448                                            XGBoost              72   \n",
       "449         Business Intelligence Tools, with Mico Yuk              28   \n",
       "450   Contextual A.I. for Adapting to Adversaries, ...              81   \n",
       "\n",
       "                                   context_episode             guest_name  \\\n",
       "0                   Business Data Science Database           Ruben Kogel    \n",
       "1                    Machine Learning Data Science   Hadelin de Ponteves    \n",
       "2      Machine Learning R Programming Data Science        Dr. Wilson Pok    \n",
       "3                            Business Data Science         Brendan Hogan    \n",
       "4                                     Data Science        Dmitry Korneev    \n",
       "..                                             ...                    ...   \n",
       "446  Business Data Science Artificial Intelligence         George Mathew    \n",
       "447                          Business Data Science        Allegra Alessi    \n",
       "448           Machine Learning Data Science Python         Matt Harrison    \n",
       "449                          Business Data Science              Mico Yuk    \n",
       "450           Data Science Artificial Intelligence          Matar Haller    \n",
       "\n",
       "                                            guest_info  \\\n",
       "0    Subscribe on Website, Apple Podcasts, Spotify,...   \n",
       "1    Subscribe on Website, Apple Podcasts, Spotify,...   \n",
       "2    Subscribe on Website, Apple Podcasts, Spotify,...   \n",
       "3    Subscribe on Website, Apple Podcasts, Spotify,...   \n",
       "4    Subscribe on Website, Apple Podcasts, Spotify,...   \n",
       "..                                                 ...   \n",
       "446  Subscribe on Website, Apple Podcasts, Spotify,...   \n",
       "447  Subscribe on Website, Apple Podcasts, Spotify,...   \n",
       "448  Subscribe on Website, Apple Podcasts, Spotify,...   \n",
       "449  Subscribe on Website, Apple Podcasts, Spotify,...   \n",
       "450  Subscribe on Website, Apple Podcasts, Spotify,...   \n",
       "\n",
       "                                          text_episode  episode_number  \\\n",
       "0    Kirill: This is episode number one with ex-che...               1   \n",
       "1    Kirill: This is session number two with machin...               2   \n",
       "2    Kirill:\\tThis is episode number three with Nan...               3   \n",
       "3    Kirill: This is episode four with business str...               4   \n",
       "4    Kirill:\\tThis is episode number five with fore...               5   \n",
       "..                                                 ...             ...   \n",
       "446  Jon Krohn:\\t00:00:00This is episode number 679...             679   \n",
       "447  Jon Krohn:\\t00:06\\tThis is episode number 680 ...             680   \n",
       "448  Jon Krohn:\\t00:00:00\\tThis is episode number 6...             681   \n",
       "449  Jon Krohn:\\t00:05\\tThis is episode number 682 ...             682   \n",
       "450  Jon Krohn:\\t00:00:05\\tThis is episode number 6...             683   \n",
       "\n",
       "    episode_date  episode_year episode_day     host_episode  \\\n",
       "0     2016-09-10          2016    Saturday  Kirill Eremenko   \n",
       "1     2016-09-14          2016   Wednesday  Kirill Eremenko   \n",
       "2     2016-09-25          2016      Sunday  Kirill Eremenko   \n",
       "3     2016-10-02          2016      Sunday  Kirill Eremenko   \n",
       "4     2016-10-09          2016      Sunday  Kirill Eremenko   \n",
       "..           ...           ...         ...              ...   \n",
       "446   2023-05-16          2023     Tuesday        Jon Krohn   \n",
       "447   2023-05-19          2023      Friday        Jon Krohn   \n",
       "448   2023-05-23          2023     Tuesday        Jon Krohn   \n",
       "449   2023-05-26          2023      Friday        Jon Krohn   \n",
       "450   2023-05-30          2023     Tuesday        Jon Krohn   \n",
       "\n",
       "                       class  \n",
       "0                   Database  \n",
       "1           Machine Learning  \n",
       "2           Machine Learning  \n",
       "3               Data Science  \n",
       "4               Data Science  \n",
       "..                       ...  \n",
       "446  Artificial Intelligence  \n",
       "447             Data Science  \n",
       "448         Machine Learning  \n",
       "449             Data Science  \n",
       "450  Artificial Intelligence  \n",
       "\n",
       "[360 rows x 12 columns]"
      ]
     },
     "execution_count": 17,
     "metadata": {},
     "output_type": "execute_result"
    }
   ],
   "source": [
    "host_guest_ds"
   ]
  },
  {
   "cell_type": "code",
   "execution_count": 18,
   "id": "bf7bb4e4",
   "metadata": {},
   "outputs": [
    {
     "data": {
      "image/png": "[encoded data removed]",
      "text/plain": [
       "<Figure size 1300x1000 with 1 Axes>"
      ]
     },
     "metadata": {},
     "output_type": "display_data"
    }
   ],
   "source": [
    "plt.figure(figsize = (13,10))\n",
    "sns.boxplot(data = host_guest_ds, x ='episode_year', y ='length_episode', hue = 'class')\n",
    "plt.ylabel('Duration of Episodes (in minutes)')\n",
    "plt.xlabel('')\n",
    "plt.xticks(rotation = 90)\n",
    "plt.title('Duration of Episodes in Different Classes Over the Years')\n",
    "plt.legend(bbox_to_anchor =(1.0, 1.0));"
   ]
  },
  {
   "cell_type": "code",
   "execution_count": 19,
   "id": "8129bf62",
   "metadata": {},
   "outputs": [
    {
     "data": {
      "text/html": [
       "<div>\n",
       "<style scoped>\n",
       "    .dataframe tbody tr th:only-of-type {\n",
       "        vertical-align: middle;\n",
       "    }\n",
       "\n",
       "    .dataframe tbody tr th {\n",
       "        vertical-align: top;\n",
       "    }\n",
       "\n",
       "    .dataframe thead th {\n",
       "        text-align: right;\n",
       "    }\n",
       "</style>\n",
       "<table border=\"1\" class=\"dataframe\">\n",
       "  <thead>\n",
       "    <tr style=\"text-align: right;\">\n",
       "      <th></th>\n",
       "      <th>episode_name</th>\n",
       "      <th>length_episode</th>\n",
       "      <th>context_episode</th>\n",
       "      <th>guest_name</th>\n",
       "      <th>guest_info</th>\n",
       "      <th>text_episode</th>\n",
       "      <th>episode_number</th>\n",
       "      <th>episode_date</th>\n",
       "      <th>episode_year</th>\n",
       "      <th>episode_day</th>\n",
       "      <th>host_episode</th>\n",
       "      <th>class</th>\n",
       "    </tr>\n",
       "  </thead>\n",
       "  <tbody>\n",
       "    <tr>\n",
       "      <th>3</th>\n",
       "      <td>Data and Strategy, three Pillars of Research ...</td>\n",
       "      <td>60</td>\n",
       "      <td>Business Data Science</td>\n",
       "      <td>Brendan Hogan</td>\n",
       "      <td>Subscribe on Website, Apple Podcasts, Spotify,...</td>\n",
       "      <td>Kirill: This is episode four with business str...</td>\n",
       "      <td>4</td>\n",
       "      <td>2016-10-02</td>\n",
       "      <td>2016</td>\n",
       "      <td>Sunday</td>\n",
       "      <td>Kirill Eremenko</td>\n",
       "      <td>Data Science</td>\n",
       "    </tr>\n",
       "    <tr>\n",
       "      <th>4</th>\n",
       "      <td>Computer Forensics, Fraud Analytics and knowi...</td>\n",
       "      <td>63</td>\n",
       "      <td>Data Science</td>\n",
       "      <td>Dmitry Korneev</td>\n",
       "      <td>Subscribe on Website, Apple Podcasts, Spotify,...</td>\n",
       "      <td>Kirill:\\tThis is episode number five with fore...</td>\n",
       "      <td>5</td>\n",
       "      <td>2016-10-09</td>\n",
       "      <td>2016</td>\n",
       "      <td>Sunday</td>\n",
       "      <td>Kirill Eremenko</td>\n",
       "      <td>Data Science</td>\n",
       "    </tr>\n",
       "    <tr>\n",
       "      <th>6</th>\n",
       "      <td>Advanced Analytics, Dynamic Simulations, and ...</td>\n",
       "      <td>67</td>\n",
       "      <td>Data Science</td>\n",
       "      <td>Artem Vladimirov</td>\n",
       "      <td>Subscribe on Website, Apple Podcasts, Spotify,...</td>\n",
       "      <td>Kirill:\\tThis is episode number 7, with top an...</td>\n",
       "      <td>7</td>\n",
       "      <td>2016-10-22</td>\n",
       "      <td>2016</td>\n",
       "      <td>Saturday</td>\n",
       "      <td>Kirill Eremenko</td>\n",
       "      <td>Data Science</td>\n",
       "    </tr>\n",
       "    <tr>\n",
       "      <th>7</th>\n",
       "      <td>Data Science in Computer Games, learning to l...</td>\n",
       "      <td>62</td>\n",
       "      <td>Uncategorized</td>\n",
       "      <td>Ulf Morys</td>\n",
       "      <td>Subscribe on Website, Apple Podcasts, Spotify,...</td>\n",
       "      <td>Kirill:\\tThis is episode number 8, with Financ...</td>\n",
       "      <td>8</td>\n",
       "      <td>2016-10-29</td>\n",
       "      <td>2016</td>\n",
       "      <td>Saturday</td>\n",
       "      <td>Kirill Eremenko</td>\n",
       "      <td>Data Science</td>\n",
       "    </tr>\n",
       "    <tr>\n",
       "      <th>13</th>\n",
       "      <td>Credit Scoring Models, the Law of Large Numbe...</td>\n",
       "      <td>69</td>\n",
       "      <td>Business Data Science</td>\n",
       "      <td>Greg Poppe</td>\n",
       "      <td>Subscribe on Website, Apple Podcasts, Spotify,...</td>\n",
       "      <td>Kirill:\\tThis is episode number 14, with Senio...</td>\n",
       "      <td>14</td>\n",
       "      <td>2016-12-12</td>\n",
       "      <td>2016</td>\n",
       "      <td>Monday</td>\n",
       "      <td>Kirill Eremenko</td>\n",
       "      <td>Data Science</td>\n",
       "    </tr>\n",
       "    <tr>\n",
       "      <th>...</th>\n",
       "      <td>...</td>\n",
       "      <td>...</td>\n",
       "      <td>...</td>\n",
       "      <td>...</td>\n",
       "      <td>...</td>\n",
       "      <td>...</td>\n",
       "      <td>...</td>\n",
       "      <td>...</td>\n",
       "      <td>...</td>\n",
       "      <td>...</td>\n",
       "      <td>...</td>\n",
       "      <td>...</td>\n",
       "    </tr>\n",
       "    <tr>\n",
       "      <th>394</th>\n",
       "      <td>Analyzing Blockchain Data and Cryptocurrencies</td>\n",
       "      <td>64</td>\n",
       "      <td>Business Data Science</td>\n",
       "      <td>Kimberly Grauer</td>\n",
       "      <td>Subscribe on Website, Apple Podcasts, Spotify,...</td>\n",
       "      <td>Jon Krohn:\\t00:00:00\\tThis is episode number 6...</td>\n",
       "      <td>625</td>\n",
       "      <td>2022-11-08</td>\n",
       "      <td>2022</td>\n",
       "      <td>Tuesday</td>\n",
       "      <td>Jon Krohn</td>\n",
       "      <td>Data Science</td>\n",
       "    </tr>\n",
       "    <tr>\n",
       "      <th>412</th>\n",
       "      <td>A Framework for Big Life Decisions</td>\n",
       "      <td>16</td>\n",
       "      <td>Life Philosophy Data Science</td>\n",
       "      <td>Myra Strober</td>\n",
       "      <td>Subscribe on Website, Apple Podcasts, Spotify,...</td>\n",
       "      <td>Jon Krohn:\\t00:06\\tThis is Five-Minute Friday ...</td>\n",
       "      <td>644</td>\n",
       "      <td>2023-01-13</td>\n",
       "      <td>2023</td>\n",
       "      <td>Friday</td>\n",
       "      <td>Jon Krohn</td>\n",
       "      <td>Data Science</td>\n",
       "    </tr>\n",
       "    <tr>\n",
       "      <th>444</th>\n",
       "      <td>Digital Analytics with Avinash Kaushik</td>\n",
       "      <td>88</td>\n",
       "      <td>Business Data Science</td>\n",
       "      <td>Avinash Kaushik</td>\n",
       "      <td>Subscribe on Website, Apple Podcasts, Spotify,...</td>\n",
       "      <td>Jon Krohn:\\t00:00:00\\tThis is episode number 6...</td>\n",
       "      <td>677</td>\n",
       "      <td>2023-05-09</td>\n",
       "      <td>2023</td>\n",
       "      <td>Tuesday</td>\n",
       "      <td>Jon Krohn</td>\n",
       "      <td>Data Science</td>\n",
       "    </tr>\n",
       "    <tr>\n",
       "      <th>447</th>\n",
       "      <td>Automating Industrial Machines with Data Scie...</td>\n",
       "      <td>30</td>\n",
       "      <td>Business Data Science</td>\n",
       "      <td>Allegra Alessi</td>\n",
       "      <td>Subscribe on Website, Apple Podcasts, Spotify,...</td>\n",
       "      <td>Jon Krohn:\\t00:06\\tThis is episode number 680 ...</td>\n",
       "      <td>680</td>\n",
       "      <td>2023-05-19</td>\n",
       "      <td>2023</td>\n",
       "      <td>Friday</td>\n",
       "      <td>Jon Krohn</td>\n",
       "      <td>Data Science</td>\n",
       "    </tr>\n",
       "    <tr>\n",
       "      <th>449</th>\n",
       "      <td>Business Intelligence Tools, with Mico Yuk</td>\n",
       "      <td>28</td>\n",
       "      <td>Business Data Science</td>\n",
       "      <td>Mico Yuk</td>\n",
       "      <td>Subscribe on Website, Apple Podcasts, Spotify,...</td>\n",
       "      <td>Jon Krohn:\\t00:05\\tThis is episode number 682 ...</td>\n",
       "      <td>682</td>\n",
       "      <td>2023-05-26</td>\n",
       "      <td>2023</td>\n",
       "      <td>Friday</td>\n",
       "      <td>Jon Krohn</td>\n",
       "      <td>Data Science</td>\n",
       "    </tr>\n",
       "  </tbody>\n",
       "</table>\n",
       "<p>107 rows × 12 columns</p>\n",
       "</div>"
      ],
      "text/plain": [
       "                                          episode_name  length_episode  \\\n",
       "3     Data and Strategy, three Pillars of Research ...              60   \n",
       "4     Computer Forensics, Fraud Analytics and knowi...              63   \n",
       "6     Advanced Analytics, Dynamic Simulations, and ...              67   \n",
       "7     Data Science in Computer Games, learning to l...              62   \n",
       "13    Credit Scoring Models, the Law of Large Numbe...              69   \n",
       "..                                                 ...             ...   \n",
       "394     Analyzing Blockchain Data and Cryptocurrencies              64   \n",
       "412                 A Framework for Big Life Decisions              16   \n",
       "444             Digital Analytics with Avinash Kaushik              88   \n",
       "447   Automating Industrial Machines with Data Scie...              30   \n",
       "449         Business Intelligence Tools, with Mico Yuk              28   \n",
       "\n",
       "                  context_episode          guest_name  \\\n",
       "3           Business Data Science      Brendan Hogan    \n",
       "4                    Data Science     Dmitry Korneev    \n",
       "6                    Data Science   Artem Vladimirov    \n",
       "7                   Uncategorized          Ulf Morys    \n",
       "13          Business Data Science         Greg Poppe    \n",
       "..                            ...                 ...   \n",
       "394         Business Data Science    Kimberly Grauer    \n",
       "412  Life Philosophy Data Science       Myra Strober    \n",
       "444         Business Data Science    Avinash Kaushik    \n",
       "447         Business Data Science     Allegra Alessi    \n",
       "449         Business Data Science           Mico Yuk    \n",
       "\n",
       "                                            guest_info  \\\n",
       "3    Subscribe on Website, Apple Podcasts, Spotify,...   \n",
       "4    Subscribe on Website, Apple Podcasts, Spotify,...   \n",
       "6    Subscribe on Website, Apple Podcasts, Spotify,...   \n",
       "7    Subscribe on Website, Apple Podcasts, Spotify,...   \n",
       "13   Subscribe on Website, Apple Podcasts, Spotify,...   \n",
       "..                                                 ...   \n",
       "394  Subscribe on Website, Apple Podcasts, Spotify,...   \n",
       "412  Subscribe on Website, Apple Podcasts, Spotify,...   \n",
       "444  Subscribe on Website, Apple Podcasts, Spotify,...   \n",
       "447  Subscribe on Website, Apple Podcasts, Spotify,...   \n",
       "449  Subscribe on Website, Apple Podcasts, Spotify,...   \n",
       "\n",
       "                                          text_episode  episode_number  \\\n",
       "3    Kirill: This is episode four with business str...               4   \n",
       "4    Kirill:\\tThis is episode number five with fore...               5   \n",
       "6    Kirill:\\tThis is episode number 7, with top an...               7   \n",
       "7    Kirill:\\tThis is episode number 8, with Financ...               8   \n",
       "13   Kirill:\\tThis is episode number 14, with Senio...              14   \n",
       "..                                                 ...             ...   \n",
       "394  Jon Krohn:\\t00:00:00\\tThis is episode number 6...             625   \n",
       "412  Jon Krohn:\\t00:06\\tThis is Five-Minute Friday ...             644   \n",
       "444  Jon Krohn:\\t00:00:00\\tThis is episode number 6...             677   \n",
       "447  Jon Krohn:\\t00:06\\tThis is episode number 680 ...             680   \n",
       "449  Jon Krohn:\\t00:05\\tThis is episode number 682 ...             682   \n",
       "\n",
       "    episode_date  episode_year episode_day     host_episode         class  \n",
       "3     2016-10-02          2016      Sunday  Kirill Eremenko  Data Science  \n",
       "4     2016-10-09          2016      Sunday  Kirill Eremenko  Data Science  \n",
       "6     2016-10-22          2016    Saturday  Kirill Eremenko  Data Science  \n",
       "7     2016-10-29          2016    Saturday  Kirill Eremenko  Data Science  \n",
       "13    2016-12-12          2016      Monday  Kirill Eremenko  Data Science  \n",
       "..           ...           ...         ...              ...           ...  \n",
       "394   2022-11-08          2022     Tuesday        Jon Krohn  Data Science  \n",
       "412   2023-01-13          2023      Friday        Jon Krohn  Data Science  \n",
       "444   2023-05-09          2023     Tuesday        Jon Krohn  Data Science  \n",
       "447   2023-05-19          2023      Friday        Jon Krohn  Data Science  \n",
       "449   2023-05-26          2023      Friday        Jon Krohn  Data Science  \n",
       "\n",
       "[107 rows x 12 columns]"
      ]
     },
     "execution_count": 19,
     "metadata": {},
     "output_type": "execute_result"
    }
   ],
   "source": [
    "host_guest_ds[host_guest_ds['class'] == 'Data Science']"
   ]
  },
  {
   "cell_type": "code",
   "execution_count": null,
   "id": "031933d0",
   "metadata": {},
   "outputs": [],
   "source": []
  },
  {
   "cell_type": "code",
   "execution_count": 20,
   "id": "9ba946f6",
   "metadata": {},
   "outputs": [],
   "source": [
    "sds_filtered = sds_datascience[((sds_datascience['guest_name'] == 'Kirill Eremenko') & (sds_datascience['host_episode'] == 'Kirill Eremenko')) | ((sds_datascience['guest_name'] == 'Jon Krohn') & (sds_datascience['host_episode'] == 'Jon Krohn'))]\n"
   ]
  },
  {
   "cell_type": "code",
   "execution_count": null,
   "id": "10a2bf22",
   "metadata": {},
   "outputs": [],
   "source": []
  },
  {
   "cell_type": "code",
   "execution_count": null,
   "id": "cc396ef2",
   "metadata": {},
   "outputs": [],
   "source": [
    "sds_datascience.groupby(['episode_year', 'class'])['length_episode']."
   ]
  },
  {
   "cell_type": "code",
   "execution_count": null,
   "id": "4817cf64",
   "metadata": {},
   "outputs": [],
   "source": [
    "sds_datascience.groupby(['episode_year', 'class'])['length_episode'].max()"
   ]
  },
  {
   "cell_type": "code",
   "execution_count": null,
   "id": "0acdef39",
   "metadata": {},
   "outputs": [],
   "source": [
    "sds_datascience.groupby(['class'])['length_episode'].min()"
   ]
  },
  {
   "cell_type": "code",
   "execution_count": null,
   "id": "d95e8b6d",
   "metadata": {},
   "outputs": [],
   "source": [
    "sds_datascience.groupby(['class'])['length_episode'].max()"
   ]
  },
  {
   "cell_type": "code",
   "execution_count": null,
   "id": "826b0e17",
   "metadata": {},
   "outputs": [],
   "source": [
    "\n",
    "fig = plt.figure(figsize=(10,6))\n",
    "sns.boxplot(data=df[(df['Minutes'] <= 30) & (df['Publication'].isin(df['Publication'].value_counts().iloc[:10].index))], x='Minutes', y='Publication')\n",
    "plt.tight_layout()\n",
    "fig.savefig('./figures/minutes_publication_boxplot.png')"
   ]
  },
  {
   "cell_type": "code",
   "execution_count": null,
   "id": "074d9a53",
   "metadata": {},
   "outputs": [],
   "source": [
    "fig = px.sunburst(df_hierarchy, path=['parent', 'id'], values='value',\n",
    "                  color='value', hover_data=['id'],\n",
    "                  color_continuous_scale='RdYlBu',\n",
    "                  title='Sunburst Chart of SPN Codes')\n",
    "fig.show()"
   ]
  },
  {
   "cell_type": "code",
   "execution_count": 42,
   "id": "8aabb687",
   "metadata": {},
   "outputs": [
    {
     "data": {
      "application/vnd.plotly.v1+json": {
       "config": {
        "plotlyServerURL": "https://plot.ly"
       },
       "data": [
        {
         "customdata": [
          [
           " Ruben Kogel on Self-Serve Analytics, R vs Python, and Mentors in Data Science"
          ],
          [
           " Model Validation, Data Exhaust and Organisational Cultural Change"
          ],
          [
           " Partitioning, Roles in Database Infrastructure and SQL Databases"
          ],
          [
           " Generation Z Insights, Data Privacy and SQL and Database Design"
          ],
          [
           " Key Data Science and Statistical Skills to get hired at VSCO"
          ],
          [
           " Great tips on building a successful Analytics Culture"
          ],
          [
           " Career transitioning to Data Science"
          ],
          [
           " Building and managing a successful Data Science team"
          ],
          [
           " How to keep up with Data Science trends"
          ],
          [
           " Database Challenges for Data Science and How to Deal With Them"
          ],
          [
           " From Developer to Data Scientist"
          ]
         ],
         "hovertemplate": "class=%{y}<br>episode_date=%{x}<br>episode_name=%{customdata[0]}<extra></extra>",
         "legendgroup": "Database",
         "marker": {
          "color": "#636efa",
          "symbol": "circle"
         },
         "mode": "markers",
         "name": "Database",
         "orientation": "v",
         "showlegend": true,
         "type": "scatter",
         "x": [
          "2016-09-10",
          "2016-11-11",
          "2016-12-31",
          "2017-01-20",
          "2017-03-30",
          "2017-05-04",
          "2017-05-18",
          "2017-05-24",
          "2017-06-22",
          "2018-02-09",
          "2018-05-24"
         ],
         "xaxis": "x",
         "y": [
          "Database",
          "Database",
          "Database",
          "Database",
          "Database",
          "Database",
          "Database",
          "Database",
          "Database",
          "Database",
          "Database"
         ],
         "yaxis": "y"
        },
        {
         "customdata": [
          [
           " Machine Learning, Recommender Systems and the Future Of Data With Hadelin De Ponteves"
          ],
          [
           " Defining the Data Problem, Data Science in Marketing and R Modeling Libraries"
          ],
          [
           " Neuroscience, Machine Learning and Moore’S Law"
          ],
          [
           " 95% Accuracy Models, Winning People Over, and Saving Lives with Damian Mingle"
          ],
          [
           " Build your own Data Science Masters Degree"
          ],
          [
           " An inspiring journey from a totally different background to Data Science"
          ],
          [
           " Understanding the newest Big Data technology buzz terms"
          ],
          [
           " Changing human behaviour through a Driving App"
          ],
          [
           " Discovering Data Science workflows and the importance of mentorship"
          ],
          [
           " How to stand out to Recruiters in Data Science"
          ],
          [
           " Building a Successful Data Science Practice and How to be an Effective Data Scientist"
          ],
          [
           " 10 Tips from a Data Science Consultant"
          ],
          [
           " Everything about data analythics & its future"
          ],
          [
           " How Data Science is Becoming a Science"
          ],
          [
           " How I Got 45000 Linkedin Followers in One Year"
          ],
          [
           " Helping San Diego Become a Smart City"
          ],
          [
           " Full-Time Data Scientist after just 1 year in the field"
          ],
          [
           " Integrating Data Science as a Developer"
          ],
          [
           " How Kaplan uses Data for Education"
          ],
          [
           " Enhancing Your Mobile Gaming Experience With Data Science"
          ],
          [
           " Geospatial Analytics"
          ],
          [
           " Transforming the Identity Authentication Space"
          ],
          [
           " Solving Problems With Data Science & Uber"
          ],
          [
           " Machine Learning Through Reinforcement & Contextual Bandits"
          ],
          [
           " Fortitude & Passion in the Data Science Journey"
          ],
          [
           " Using Data Right In Smart Cities"
          ],
          [
           " The Power of Online Data Education"
          ],
          [
           " Making Data Accessible"
          ],
          [
           " Machine Learning At Twitter"
          ],
          [
           " Data Science Campfire Tales with John Elder"
          ],
          [
           " Developing and Maintaining Your Technical and Soft Skills"
          ],
          [
           " Impacting Through Technology"
          ],
          [
           " 2020’s Biggest Data Science Breakthroughs"
          ],
          [
           " Scaling Up Machine Learning"
          ],
          [
           " Deep Learning for Machine Vision"
          ],
          [
           " Commercial ML Opportunities Lie Everywhere"
          ],
          [
           " Translating PhD Research into ML Applications"
          ],
          [
           " Legal Tech, Powered by Machine Learning"
          ],
          [
           " Tackling Climate Change with ML"
          ],
          [
           " MLOps for Renewable Energy"
          ],
          [
           " Machine Learning at NVIDIA"
          ],
          [
           " Monetizing Machine Learning"
          ],
          [
           " Courses in Data Science and Machine Learning"
          ],
          [
           " Interpretable Machine Learning — with Serg Masís"
          ],
          [
           " How Genes Influence Behavior — with Prof. Jonathan Flint"
          ],
          [
           " Engineering Natural Language Models — with Lauren Zhu"
          ],
          [
           " The Statistics and Machine Learning Quests of Dr. Josh Starmer"
          ],
          [
           " Clem Delangue on Hugging Face and Transformers"
          ],
          [
           " Collaborative, No-Code Machine Learning"
          ],
          [
           " Automating ML Model Deployment"
          ],
          [
           " Simulations and Synthetic Data for Machine Learning"
          ],
          [
           " MLOps"
          ],
          [
           " Upskilling in Data Science and Machine Learning"
          ],
          [
           " Inferring Causality"
          ],
          [
           " Causal Machine Learning"
          ],
          [
           " AutoML"
          ],
          [
           " Resilient Machine Learning"
          ],
          [
           " Liquid Neural Networks"
          ],
          [
           " Model Error Analysis"
          ],
          [
           " The Perils of Manually Labeling Data for Machine Learning Models"
          ],
          [
           " Machine Learning for Video Games"
          ],
          [
           " Introduction to Machine Learning"
          ],
          [
           " How to Build Data and ML Products Users Love"
          ],
          [
           " Designing Machine Learning Systems"
          ],
          [
           " Streaming, reactive, real-time machine learning"
          ],
          [
           " Taipy, the open-source Python application builder"
          ],
          [
           " XGBoost"
          ]
         ],
         "hovertemplate": "class=%{y}<br>episode_date=%{x}<br>episode_name=%{customdata[0]}<extra></extra>",
         "legendgroup": "Machine Learning",
         "marker": {
          "color": "#EF553B",
          "symbol": "diamond"
         },
         "mode": "markers",
         "name": "Machine Learning",
         "orientation": "v",
         "showlegend": true,
         "type": "scatter",
         "x": [
          "2016-09-14",
          "2016-09-25",
          "2016-11-04",
          "2016-12-01",
          "2017-03-16",
          "2017-04-05",
          "2017-05-10",
          "2017-06-08",
          "2017-06-15",
          "2017-07-26",
          "2018-01-12",
          "2018-08-08",
          "2018-08-15",
          "2018-08-30",
          "2018-09-07",
          "2018-09-14",
          "2018-11-15",
          "2018-12-06",
          "2018-12-20",
          "2019-01-17",
          "2019-03-13",
          "2019-04-10",
          "2019-04-17",
          "2019-07-03",
          "2019-09-18",
          "2019-11-06",
          "2019-11-13",
          "2019-11-19",
          "2020-03-04",
          "2020-08-12",
          "2020-11-04",
          "2020-12-16",
          "2020-12-23",
          "2021-01-13",
          "2021-01-27",
          "2021-02-23",
          "2021-03-10",
          "2021-03-23",
          "2021-04-06",
          "2021-04-14",
          "2021-05-25",
          "2021-07-20",
          "2021-10-26",
          "2022-01-11",
          "2022-02-08",
          "2022-02-15",
          "2022-03-01",
          "2022-04-07",
          "2022-05-03",
          "2022-05-10",
          "2022-07-12",
          "2022-08-09",
          "2022-08-30",
          "2022-09-06",
          "2022-09-27",
          "2022-11-15",
          "2022-11-25",
          "2022-12-02",
          "2022-12-09",
          "2022-12-13",
          "2023-01-17",
          "2023-01-31",
          "2023-03-03",
          "2023-03-14",
          "2023-04-11",
          "2023-04-25",
          "2023-05-23"
         ],
         "xaxis": "x",
         "y": [
          "Machine Learning",
          "Machine Learning",
          "Machine Learning",
          "Machine Learning",
          "Machine Learning",
          "Machine Learning",
          "Machine Learning",
          "Machine Learning",
          "Machine Learning",
          "Machine Learning",
          "Machine Learning",
          "Machine Learning",
          "Machine Learning",
          "Machine Learning",
          "Machine Learning",
          "Machine Learning",
          "Machine Learning",
          "Machine Learning",
          "Machine Learning",
          "Machine Learning",
          "Machine Learning",
          "Machine Learning",
          "Machine Learning",
          "Machine Learning",
          "Machine Learning",
          "Machine Learning",
          "Machine Learning",
          "Machine Learning",
          "Machine Learning",
          "Machine Learning",
          "Machine Learning",
          "Machine Learning",
          "Machine Learning",
          "Machine Learning",
          "Machine Learning",
          "Machine Learning",
          "Machine Learning",
          "Machine Learning",
          "Machine Learning",
          "Machine Learning",
          "Machine Learning",
          "Machine Learning",
          "Machine Learning",
          "Machine Learning",
          "Machine Learning",
          "Machine Learning",
          "Machine Learning",
          "Machine Learning",
          "Machine Learning",
          "Machine Learning",
          "Machine Learning",
          "Machine Learning",
          "Machine Learning",
          "Machine Learning",
          "Machine Learning",
          "Machine Learning",
          "Machine Learning",
          "Machine Learning",
          "Machine Learning",
          "Machine Learning",
          "Machine Learning",
          "Machine Learning",
          "Machine Learning",
          "Machine Learning",
          "Machine Learning",
          "Machine Learning",
          "Machine Learning"
         ],
         "yaxis": "y"
        },
        {
         "customdata": [
          [
           " Data and Strategy, three Pillars of Research and Building a Career Path for yourself"
          ],
          [
           " Computer Forensics, Fraud Analytics and knowing when to take a break"
          ],
          [
           " Advanced Analytics, Dynamic Simulations, and Consulting Round the Globe"
          ],
          [
           " Data Science in Computer Games, learning to learn and A 40M Euro Case Study"
          ],
          [
           " Credit Scoring Models, the Law of Large Numbers, and Model Building with Greg Poppe"
          ],
          [
           " Data-Driven Operations, Consulting Approaches, and Mentoring with Richard Hopkins"
          ],
          [
           " 20 Years in Data Analytics, Entrepreneurship and Megatrends in Data"
          ],
          [
           " Building a personal brand in Data Science with senior Insights Manager Josh Coulson"
          ],
          [
           " Develop your dream Data Science Career with Experfy"
          ],
          [
           " Steps on how to become a thought leader in the field of Data Science"
          ],
          [
           "  Finding the right Data Science Company that best fits you"
          ],
          [
           " What a Data Science headhunter is looking for"
          ],
          [
           " The Power of Soft Skills in Data Science"
          ],
          [
           " Supply Chain Analytics, Worldwide Consulting and Learning Data Science In Your Career"
          ],
          [
           " How to Use Data Science In Offline Business"
          ],
          [
           " How to Live a More Fulfilling Life - Time & Energy Management"
          ],
          [
           " Why All Companies Need a Data Science Culture"
          ],
          [
           " Understanding Robotics Process Automation (RPA) to Disrupt Your Business"
          ],
          [
           " Building a Career in Data Science"
          ],
          [
           " How a Data Science Recruiter Thinks"
          ],
          [
           " Highlights of DSGO 2018 According to an Aspiring Data Scientist"
          ],
          [
           " Data-Driven Approach of Doing Business"
          ],
          [
           " High Octane Data Science Leadership at Red Bull"
          ],
          [
           " Living The Dream With Data Science"
          ],
          [
           " Data Privacy, GDPR, and You"
          ],
          [
           " From Candidate to Career"
          ],
          [
           " Knowing What You Need to Know With Data Science"
          ],
          [
           " Succeeding in Data Science with the Trichotomy of Control"
          ],
          [
           " Communicating Data"
          ],
          [
           " Maximizing Advertising Efforts With Data"
          ],
          [
           " Embedding Data Science in Business"
          ],
          [
           " Gap Year"
          ],
          [
           " Futureproofing Your Digital Marketing Tactics"
          ],
          [
           " Proximity is Power"
          ],
          [
           " Bringing Dev & Diverse Communities Into Data Science"
          ],
          [
           " How To Be Social About Data Science"
          ],
          [
           " Introverts and Extroverts"
          ],
          [
           " Becoming Seasoned At Failure"
          ],
          [
           " Finding Your Edge"
          ],
          [
           " The Law of Attraction"
          ],
          [
           " Data Science as a Freelance Career"
          ],
          [
           " Hacking Data Science Interviews for Graduates"
          ],
          [
           " Career Jumpstarts through Data Science Retreat"
          ],
          [
           " How To Tell Your Story For Career Success"
          ],
          [
           " Self-Starting In Data Science"
          ],
          [
           " How to Practice Human-Centric Data Science"
          ],
          [
           " DJ Patil on Harnessing the Power of Data Science Community"
          ],
          [
           " Tackling Data Science Job Hunting, Interviews & Negotiations"
          ],
          [
           " How To Succeed As An Analytics Consultant"
          ],
          [
           " Intuition, Frameworks, and Unlocking the Power of Data"
          ],
          [
           " Real Data Analytics for Economics, HR, and COVID-19"
          ],
          [
           " The Power of Memory For Productivity"
          ],
          [
           " Utilizing Oracle Cloud as an Enterprise, Small Business, or Developer"
          ],
          [
           " How to Avoid Failing at Digital Transformation"
          ],
          [
           " Becoming a Data Science Leader"
          ],
          [
           " Becoming Good Enough"
          ],
          [
           " The Importance of Keeping Science in Data Science"
          ],
          [
           " Contributing to the Community of Data Scientists"
          ],
          [
           " From Data Science Student to Professional"
          ],
          [
           " Gamifying Your Data Science Work and Education"
          ],
          [
           " The Work of Quants and Data Scientists in the Financial Space"
          ],
          [
           " How to Encourage Diversity in Data Science"
          ],
          [
           " Succeeding in Analytics by Thinking Outside the Data"
          ],
          [
           " Data Engineering and Product Development"
          ],
          [
           " Unlocking the Architecture of Innovation"
          ],
          [
           " The Growth and Future of STEM in Africa"
          ],
          [
           " Data Science at a World-Leading Hedge Fund"
          ],
          [
           " Landing Your Data Science Dream Job"
          ],
          [
           " Analytics for Commercial and Personal Success"
          ],
          [
           " High-Impact Data Science Made Easy"
          ],
          [
           " 99 Days to Your First Data Science Job"
          ],
          [
           " Knowledge Graphs"
          ],
          [
           " Performance Marketing Analytics"
          ],
          [
           " Setting Yourself Apart in Data Science Interviews"
          ],
          [
           " Financial Data Engineering"
          ],
          [
           " Fixing Dirty Data"
          ],
          [
           " Successful AI Projects and AI Startups"
          ],
          [
           " Maximizing the Global Impact of Your Career"
          ],
          [
           " Data Meshes and Data Reliability"
          ],
          [
           " Yoga Nidra with Jes Allen"
          ],
          [
           " From Data Science to Cinema"
          ],
          [
           " Bayesian Statistics"
          ],
          [
           " Accelerating Impact through Community — with Chrys Wu"
          ],
          [
           " Skyrocket Your Career by Sharing Your Writing"
          ],
          [
           " Hurdling Over Data Career Obstacles"
          ],
          [
           " Automating Data Analytics"
          ],
          [
           " Data Science at the Command Line"
          ],
          [
           " How to Found, Grow, and Sell a Data Science Start-up"
          ],
          [
           " Data Observability — with Dr. Kevin Hu"
          ],
          [
           " Sports Analytics and 66 Days of Data with Ken Jee"
          ],
          [
           " Engineering Data APIs"
          ],
          [
           " How to Rock at Data Science — with Tina Huang"
          ],
          [
           " Scaling A.I. Startups Globally"
          ],
          [
           " Bayesian, Frequentist, and Fiducial Statistics in Data Science"
          ],
          [
           " Data Engineering for Data Scientists"
          ],
          [
           " How to Sell a Multimillion Dollar A.I. Contract"
          ],
          [
           " The Real-World Impact of Cross-Disciplinary Data Science Collaboration"
          ],
          [
           " Data Engineering 101"
          ],
          [
           " Venture Capital for Data Science"
          ],
          [
           " Geospatial Data and Unconventional Routes into Data Careers"
          ],
          [
           " Data Mesh"
          ],
          [
           " Causal Modeling and Sequence Data"
          ],
          [
           " Analyzing Blockchain Data and Cryptocurrencies"
          ],
          [
           " A Framework for Big Life Decisions"
          ],
          [
           " Digital Analytics with Avinash Kaushik"
          ],
          [
           " Automating Industrial Machines with Data Science and the Internet of Things (IoT)"
          ],
          [
           " Business Intelligence Tools, with Mico Yuk"
          ]
         ],
         "hovertemplate": "class=%{y}<br>episode_date=%{x}<br>episode_name=%{customdata[0]}<extra></extra>",
         "legendgroup": "Data Science",
         "marker": {
          "color": "#00cc96",
          "symbol": "square"
         },
         "mode": "markers",
         "name": "Data Science",
         "orientation": "v",
         "showlegend": true,
         "type": "scatter",
         "x": [
          "2016-10-02",
          "2016-10-09",
          "2016-10-22",
          "2016-10-29",
          "2016-12-12",
          "2016-12-22",
          "2017-01-06",
          "2017-03-09",
          "2017-03-23",
          "2017-07-13",
          "2017-08-09",
          "2017-11-01",
          "2017-12-07",
          "2018-03-21",
          "2018-04-05",
          "2018-04-13",
          "2018-06-21",
          "2018-07-11",
          "2018-07-25",
          "2018-08-02",
          "2018-10-25",
          "2019-01-24",
          "2019-02-07",
          "2019-02-13",
          "2019-02-20",
          "2019-02-27",
          "2019-03-20",
          "2019-05-15",
          "2019-05-22",
          "2019-06-12",
          "2019-07-17",
          "2019-07-19",
          "2019-07-23",
          "2019-08-02",
          "2019-08-07",
          "2019-08-14",
          "2019-08-30",
          "2019-09-25",
          "2019-10-02",
          "2019-10-11",
          "2019-12-18",
          "2020-01-15",
          "2020-02-26",
          "2020-03-11",
          "2020-03-25",
          "2020-04-01",
          "2020-04-08",
          "2020-04-22",
          "2020-04-29",
          "2020-05-06",
          "2020-05-27",
          "2020-06-03",
          "2020-06-17",
          "2020-07-08",
          "2020-07-29",
          "2020-08-05",
          "2020-08-19",
          "2020-09-09",
          "2020-09-16",
          "2020-09-23",
          "2020-09-30",
          "2020-10-07",
          "2020-10-21",
          "2020-11-11",
          "2020-11-18",
          "2020-12-02",
          "2021-01-20",
          "2021-03-30",
          "2021-04-27",
          "2021-05-04",
          "2021-05-18",
          "2021-06-15",
          "2021-06-21",
          "2021-06-28",
          "2021-07-06",
          "2021-07-13",
          "2021-08-10",
          "2021-08-17",
          "2021-08-24",
          "2021-08-26",
          "2021-09-13",
          "2021-09-21",
          "2021-10-19",
          "2021-11-09",
          "2021-11-23",
          "2021-11-30",
          "2021-12-14",
          "2021-12-28",
          "2022-01-17",
          "2022-03-08",
          "2022-03-29",
          "2022-04-05",
          "2022-05-24",
          "2022-06-07",
          "2022-06-28",
          "2022-07-14",
          "2022-07-19",
          "2022-07-26",
          "2022-08-16",
          "2022-08-23",
          "2022-09-13",
          "2022-10-11",
          "2022-11-08",
          "2023-01-13",
          "2023-05-09",
          "2023-05-19",
          "2023-05-26"
         ],
         "xaxis": "x",
         "y": [
          "Data Science",
          "Data Science",
          "Data Science",
          "Data Science",
          "Data Science",
          "Data Science",
          "Data Science",
          "Data Science",
          "Data Science",
          "Data Science",
          "Data Science",
          "Data Science",
          "Data Science",
          "Data Science",
          "Data Science",
          "Data Science",
          "Data Science",
          "Data Science",
          "Data Science",
          "Data Science",
          "Data Science",
          "Data Science",
          "Data Science",
          "Data Science",
          "Data Science",
          "Data Science",
          "Data Science",
          "Data Science",
          "Data Science",
          "Data Science",
          "Data Science",
          "Data Science",
          "Data Science",
          "Data Science",
          "Data Science",
          "Data Science",
          "Data Science",
          "Data Science",
          "Data Science",
          "Data Science",
          "Data Science",
          "Data Science",
          "Data Science",
          "Data Science",
          "Data Science",
          "Data Science",
          "Data Science",
          "Data Science",
          "Data Science",
          "Data Science",
          "Data Science",
          "Data Science",
          "Data Science",
          "Data Science",
          "Data Science",
          "Data Science",
          "Data Science",
          "Data Science",
          "Data Science",
          "Data Science",
          "Data Science",
          "Data Science",
          "Data Science",
          "Data Science",
          "Data Science",
          "Data Science",
          "Data Science",
          "Data Science",
          "Data Science",
          "Data Science",
          "Data Science",
          "Data Science",
          "Data Science",
          "Data Science",
          "Data Science",
          "Data Science",
          "Data Science",
          "Data Science",
          "Data Science",
          "Data Science",
          "Data Science",
          "Data Science",
          "Data Science",
          "Data Science",
          "Data Science",
          "Data Science",
          "Data Science",
          "Data Science",
          "Data Science",
          "Data Science",
          "Data Science",
          "Data Science",
          "Data Science",
          "Data Science",
          "Data Science",
          "Data Science",
          "Data Science",
          "Data Science",
          "Data Science",
          "Data Science",
          "Data Science",
          "Data Science",
          "Data Science",
          "Data Science",
          "Data Science",
          "Data Science",
          "Data Science"
         ],
         "yaxis": "y"
        },
        {
         "customdata": [
          [
           " Financial Modeling and Data Science, Inputs Versus Assumptions and Large-Scale Deals"
          ],
          [
           " Side Income, Stoic Philosophy, and The Importance of QA with Paul Brown"
          ],
          [
           " Excel & life-long learning in Data Science"
          ],
          [
           " Charting a Career in Energy Analytics"
          ],
          [
           " Women in Data Science & How to Help"
          ],
          [
           " Deep dive into R Programming & R Studio"
          ],
          [
           " Inspiration from the Founder of the R Ladies Organization"
          ],
          [
           " Working on Apache Spark & R Package Development"
          ],
          [
           " Getting The Most Out of Data With Gradient Boosting"
          ],
          [
           " Proper Hypothesis Testing For Every Field"
          ],
          [
           " The Life of One Advanced Data Scientist"
          ],
          [
           " Hadley Wickham Talks Integration and Future of R and Python"
          ],
          [
           " Building Data Pipelines for COVID-19 Modeling"
          ],
          [
           " Time Series Analysis"
          ],
          [
           " The 20% of Analytics Driving 80% of ROI"
          ],
          [
           " R in Production"
          ],
          [
           " Statistical Programming with Friends"
          ],
          [
           " Data Science for Private Investing — LIVE with Drew Conway"
          ],
          [
           " Open-Source Analytical Computing (pandas, Apache Arrow)"
          ],
          [
           " Effective Pandas"
          ],
          [
           " PyMC for Bayesian Statistics in Python"
          ]
         ],
         "hovertemplate": "class=%{y}<br>episode_date=%{x}<br>episode_name=%{customdata[0]}<extra></extra>",
         "legendgroup": "Programming",
         "marker": {
          "color": "#ab63fa",
          "symbol": "x"
         },
         "mode": "markers",
         "name": "Programming",
         "orientation": "v",
         "showlegend": true,
         "type": "scatter",
         "x": [
          "2016-10-17",
          "2016-12-17",
          "2017-09-20",
          "2017-11-24",
          "2018-04-26",
          "2018-07-05",
          "2018-09-27",
          "2018-11-22",
          "2019-07-31",
          "2019-10-09",
          "2019-12-11",
          "2020-02-05",
          "2020-05-20",
          "2021-04-20",
          "2021-06-01",
          "2021-07-20",
          "2021-08-31",
          "2021-10-05",
          "2021-11-16",
          "2022-03-15",
          "2022-06-21"
         ],
         "xaxis": "x",
         "y": [
          "Programming",
          "Programming",
          "Programming",
          "Programming",
          "Programming",
          "Programming",
          "Programming",
          "Programming",
          "Programming",
          "Programming",
          "Programming",
          "Programming",
          "Programming",
          "Programming",
          "Programming",
          "Programming",
          "Programming",
          "Programming",
          "Programming",
          "Programming",
          "Programming"
         ],
         "yaxis": "y"
        },
        {
         "customdata": [
          [
           " Learning resources, thinking like a Data Scientist and Data Exploration"
          ],
          [
           " Online Learning, Tableau Insights and Ad Hoc Analytics"
          ],
          [
           " Data in Marketing, Statistical Significance and Management and Career Advice"
          ],
          [
           " AB Testing, Kissmetrics and ways to a better lifestyle"
          ],
          [
           " How to re-focus your career & become an entry level Data Scientist"
          ],
          [
           " Leveraging your experience into Data Science"
          ],
          [
           " Business Intelligence – the role of Data Visualization"
          ],
          [
           " Lessons from a successful career in Data Visualization"
          ],
          [
           " Leveraging Data Science Techniques into E-commerce & other fields"
          ],
          [
           " Why this is the golden age of Data Science & how to get in"
          ],
          [
           " No Compromise"
          ],
          [
           " How a Passion for Tableau Changed a Life"
          ],
          [
           " Data Visualization Insights from NYU"
          ],
          [
           " Contributing to the community as a Data Science Influencer"
          ],
          [
           " Amazing Tips from Two Legends of Visualization"
          ],
          [
           " The Benefit of Having a Diverse Skill Set"
          ],
          [
           " Data Visualizers"
          ],
          [
           "  Making the Public Graphically Literate"
          ],
          [
           " Using Data Visualization Tools"
          ],
          [
           " The Path to Data Visualization"
          ],
          [
           " Telling a Story Right with Data"
          ],
          [
           " You’re Not an Imposter, You’re Learning"
          ],
          [
           " How to Tell Stories with Data"
          ],
          [
           " Communicating Data Effectively"
          ],
          [
           " Bringing Data to the People"
          ],
          [
           " How to Influence Others with Your Data"
          ],
          [
           " The Intentional Use of Color in Data Communication"
          ],
          [
           " Efficiently Glean-ing Insights from Vast Data Warehouses"
          ],
          [
           " Pandas for Data Analysis and Visualization"
          ]
         ],
         "hovertemplate": "class=%{y}<br>episode_date=%{x}<br>episode_name=%{customdata[0]}<extra></extra>",
         "legendgroup": "Data Visualization",
         "marker": {
          "color": "#FFA15A",
          "symbol": "cross"
         },
         "mode": "markers",
         "name": "Data Visualization",
         "orientation": "v",
         "showlegend": true,
         "type": "scatter",
         "x": [
          "2016-11-18",
          "2016-11-22",
          "2017-02-02",
          "2017-03-02",
          "2017-08-02",
          "2017-08-31",
          "2017-09-14",
          "2017-09-27",
          "2017-10-20",
          "2017-11-08",
          "2018-02-02",
          "2018-02-23",
          "2018-10-11",
          "2018-10-31",
          "2018-11-29",
          "2019-01-10",
          "2019-01-31",
          "2019-06-19",
          "2019-10-16",
          "2019-12-04",
          "2020-01-08",
          "2020-07-15",
          "2020-08-26",
          "2021-02-03",
          "2021-07-23",
          "2022-12-20",
          "2023-02-07",
          "2023-02-14",
          "2023-05-02"
         ],
         "xaxis": "x",
         "y": [
          "Data Visualization",
          "Data Visualization",
          "Data Visualization",
          "Data Visualization",
          "Data Visualization",
          "Data Visualization",
          "Data Visualization",
          "Data Visualization",
          "Data Visualization",
          "Data Visualization",
          "Data Visualization",
          "Data Visualization",
          "Data Visualization",
          "Data Visualization",
          "Data Visualization",
          "Data Visualization",
          "Data Visualization",
          "Data Visualization",
          "Data Visualization",
          "Data Visualization",
          "Data Visualization",
          "Data Visualization",
          "Data Visualization",
          "Data Visualization",
          "Data Visualization",
          "Data Visualization",
          "Data Visualization",
          "Data Visualization",
          "Data Visualization"
         ],
         "yaxis": "y"
        },
        {
         "customdata": [
          [
           " Government Work, Revisiting Left Brain/Right Brain and Artistic Thinking"
          ],
          [
           " A Glimpse into the Virtual Reality World of the Future"
          ],
          [
           " Cloud Technology"
          ],
          [
           " Data Science Tips for Startups to Large Companies"
          ],
          [
           " The Pre-Requisites for Analytics to Happen"
          ],
          [
           " A serious talk on AI taking over jobs"
          ],
          [
           " Pushing the Boundaries in Mental Healthcare with Data Science"
          ],
          [
           " The Science Fact of Technology, Ai, & Social Media"
          ],
          [
           " Diving Into Computer Vision"
          ],
          [
           " AI"
          ],
          [
           " Predict, Prevent, Detect"
          ],
          [
           " The New Age of Reason"
          ],
          [
           " AI, Deepfakes, and Call of Duty"
          ],
          [
           " Changing the World With Theory & Data"
          ],
          [
           " Perception of AI in Big Companies"
          ],
          [
           " A Deep Conversation About Tech & Life"
          ],
          [
           " Problem Solving Through Better Thinking"
          ],
          [
           " Data Science Trends for 2020"
          ],
          [
           " BERT and NLP in 2020 and Beyond"
          ],
          [
           " Human-in-the-Loop Algorithms in Retail"
          ],
          [
           " The Importance of Data Science Literacy"
          ],
          [
           " Succeeding & Networking In the Virtual Space"
          ],
          [
           " Changing The World With Data"
          ],
          [
           " The Past, Present, and Future of AI Services"
          ],
          [
           " Data Science Trends for 2021"
          ],
          [
           " Conversational A.I."
          ],
          [
           " Fairness in A.I."
          ],
          [
           " How to Thrive as an Early-Career Data Scientist"
          ],
          [
           " Transformers for Natural Language Processing"
          ],
          [
           " A.I. for Good"
          ],
          [
           " Data Science Trends for 2022"
          ],
          [
           " Sparking A.I. Innovation — with Nicole Büttner"
          ],
          [
           " Scaling Data-Intensive Real-Time Applications — with Matthew Russell"
          ],
          [
           " AGI"
          ],
          [
           " A.I. For Crushing Humans at Poker and Board Games"
          ],
          [
           " Transforming Dentistry with A.I."
          ],
          [
           " The State of Natural Language Processing"
          ],
          [
           " Narrative A.I. with Hilary Mason"
          ],
          [
           " Why CEOs Care About A.I. More than Other Technologies"
          ],
          [
           " The A.I. Platforms of the Future"
          ],
          [
           " A.I. Policy at OpenAI"
          ],
          [
           " Getting Kids Excited about STEM Subjects"
          ],
          [
           " The Critical Human Element of Successful A.I. Deployments"
          ],
          [
           " Responsible Decentralized Intelligence"
          ],
          [
           " The Equality Machine"
          ],
          [
           " Data Science Trends for 2023"
          ],
          [
           " ChatGPT"
          ],
          [
           " Mike Wimmer"
          ],
          [
           " AI ROI"
          ],
          [
           " Astonishing CICERO negotiates and builds trust with humans using natural language"
          ],
          [
           " Harnessing GPT-4 for your Commercial Advantage"
          ],
          [
           " GPT-4"
          ],
          [
           " The A.I. and Machine Learning Landscape, with investor George Mathew"
          ],
          [
           " Contextual A.I. for Adapting to Adversaries, with Dr. Matar Haller"
          ]
         ],
         "hovertemplate": "class=%{y}<br>episode_date=%{x}<br>episode_name=%{customdata[0]}<extra></extra>",
         "legendgroup": "Artificial Intelligence",
         "marker": {
          "color": "#19d3f3",
          "symbol": "circle"
         },
         "mode": "markers",
         "name": "Artificial Intelligence",
         "orientation": "v",
         "showlegend": true,
         "type": "scatter",
         "x": [
          "2017-01-13",
          "2018-01-25",
          "2018-03-08",
          "2018-04-20",
          "2018-08-23",
          "2018-09-20",
          "2019-03-06",
          "2019-03-27",
          "2019-04-24",
          "2019-05-01",
          "2019-06-26",
          "2019-07-10",
          "2019-08-21",
          "2019-08-27",
          "2019-09-06",
          "2019-09-11",
          "2019-10-23",
          "2019-12-30",
          "2020-01-22",
          "2020-03-18",
          "2020-09-02",
          "2020-10-14",
          "2020-10-28",
          "2020-12-09",
          "2021-01-06",
          "2021-02-17",
          "2021-03-03",
          "2021-06-08",
          "2021-10-12",
          "2021-11-02",
          "2022-01-04",
          "2022-01-25",
          "2022-02-01",
          "2022-04-12",
          "2022-04-26",
          "2022-05-31",
          "2022-06-09",
          "2022-07-05",
          "2022-07-21",
          "2022-07-28",
          "2022-08-02",
          "2022-08-04",
          "2022-11-18",
          "2022-12-06",
          "2022-12-15",
          "2023-01-03",
          "2023-01-19",
          "2023-02-17",
          "2023-02-21",
          "2023-03-21",
          "2023-04-04",
          "2023-04-07",
          "2023-05-16",
          "2023-05-30"
         ],
         "xaxis": "x",
         "y": [
          "Artificial Intelligence",
          "Artificial Intelligence",
          "Artificial Intelligence",
          "Artificial Intelligence",
          "Artificial Intelligence",
          "Artificial Intelligence",
          "Artificial Intelligence",
          "Artificial Intelligence",
          "Artificial Intelligence",
          "Artificial Intelligence",
          "Artificial Intelligence",
          "Artificial Intelligence",
          "Artificial Intelligence",
          "Artificial Intelligence",
          "Artificial Intelligence",
          "Artificial Intelligence",
          "Artificial Intelligence",
          "Artificial Intelligence",
          "Artificial Intelligence",
          "Artificial Intelligence",
          "Artificial Intelligence",
          "Artificial Intelligence",
          "Artificial Intelligence",
          "Artificial Intelligence",
          "Artificial Intelligence",
          "Artificial Intelligence",
          "Artificial Intelligence",
          "Artificial Intelligence",
          "Artificial Intelligence",
          "Artificial Intelligence",
          "Artificial Intelligence",
          "Artificial Intelligence",
          "Artificial Intelligence",
          "Artificial Intelligence",
          "Artificial Intelligence",
          "Artificial Intelligence",
          "Artificial Intelligence",
          "Artificial Intelligence",
          "Artificial Intelligence",
          "Artificial Intelligence",
          "Artificial Intelligence",
          "Artificial Intelligence",
          "Artificial Intelligence",
          "Artificial Intelligence",
          "Artificial Intelligence",
          "Artificial Intelligence",
          "Artificial Intelligence",
          "Artificial Intelligence",
          "Artificial Intelligence",
          "Artificial Intelligence",
          "Artificial Intelligence",
          "Artificial Intelligence",
          "Artificial Intelligence",
          "Artificial Intelligence"
         ],
         "yaxis": "y"
        },
        {
         "customdata": [
          [
           " Applications of Data Science, Democratizing AI and Advice"
          ],
          [
           " AI in Recruitment, Machine Learning, and where machines can outperform humans"
          ],
          [
           " Solving an Optimization Problem with a Custom Built Algorithm"
          ],
          [
           " Where the world is headed to in the field of Artificial Intelligence"
          ],
          [
           " DataScienceGO’s Discussion Panel on Careers"
          ],
          [
           " Data Science Trends for 2018"
          ],
          [
           " How to be Unstoppable"
          ],
          [
           " The One Purpose to Data Science and The Truth about Analytics"
          ],
          [
           " Data Science"
          ],
          [
           " Emerging Technologies"
          ],
          [
           " Data Science Trends for 2019"
          ],
          [
           " Building Machine Autonomy With Neural Networks"
          ]
         ],
         "hovertemplate": "class=%{y}<br>episode_date=%{x}<br>episode_name=%{customdata[0]}<extra></extra>",
         "legendgroup": "Machine Learning, Artificial Intelligence, Deep Learning",
         "marker": {
          "color": "#FF6692",
          "symbol": "diamond"
         },
         "mode": "markers",
         "name": "Machine Learning, Artificial Intelligence, Deep Learning",
         "orientation": "v",
         "showlegend": true,
         "type": "scatter",
         "x": [
          "2017-01-26",
          "2017-02-24",
          "2017-04-13",
          "2017-07-20",
          "2017-11-16",
          "2018-01-05",
          "2018-01-19",
          "2018-02-16",
          "2018-06-28",
          "2018-10-18",
          "2019-01-03",
          "2019-05-08"
         ],
         "xaxis": "x",
         "y": [
          "Machine Learning, Artificial Intelligence, Deep Learning",
          "Machine Learning, Artificial Intelligence, Deep Learning",
          "Machine Learning, Artificial Intelligence, Deep Learning",
          "Machine Learning, Artificial Intelligence, Deep Learning",
          "Machine Learning, Artificial Intelligence, Deep Learning",
          "Machine Learning, Artificial Intelligence, Deep Learning",
          "Machine Learning, Artificial Intelligence, Deep Learning",
          "Machine Learning, Artificial Intelligence, Deep Learning",
          "Machine Learning, Artificial Intelligence, Deep Learning",
          "Machine Learning, Artificial Intelligence, Deep Learning",
          "Machine Learning, Artificial Intelligence, Deep Learning",
          "Machine Learning, Artificial Intelligence, Deep Learning"
         ],
         "yaxis": "y"
        },
        {
         "customdata": [
          [
           " Women in Stem, Bench Science to Data Science, and Data and Medical Ethics"
          ],
          [
           " Data Visualization & how to freelance your passion"
          ],
          [
           " From Uber to Data Science – a winner’s journey"
          ],
          [
           " The technical skills that actually add business value"
          ]
         ],
         "hovertemplate": "class=%{y}<br>episode_date=%{x}<br>episode_name=%{customdata[0]}<extra></extra>",
         "legendgroup": "Programming, Data Visualization",
         "marker": {
          "color": "#B6E880",
          "symbol": "square"
         },
         "mode": "markers",
         "name": "Programming, Data Visualization",
         "orientation": "v",
         "showlegend": true,
         "type": "scatter",
         "x": [
          "2017-02-10",
          "2017-08-24",
          "2017-10-11",
          "2018-11-08"
         ],
         "xaxis": "x",
         "y": [
          "Programming, Data Visualization",
          "Programming, Data Visualization",
          "Programming, Data Visualization",
          "Programming, Data Visualization"
         ],
         "yaxis": "y"
        },
        {
         "customdata": [
          [
           " Exclusive interview with the legendary in Kaggle competitions Eu Jin Lok"
          ],
          [
           " Reinforcement Learning – what you need to know"
          ],
          [
           " The AI revolution – what the future will look like"
          ],
          [
           " How a software developer re-focused his life to learn Artificial Intelligence"
          ],
          [
           " Aerospace Engineers and Data Science"
          ],
          [
           " Deep Reinforcement Learning for Robotics"
          ],
          [
           " Deep Reinforcement Learning — with Wah Loon Keng"
          ]
         ],
         "hovertemplate": "class=%{y}<br>episode_date=%{x}<br>episode_name=%{customdata[0]}<extra></extra>",
         "legendgroup": "Artificial Intelligence, Deep Learning",
         "marker": {
          "color": "#FF97FF",
          "symbol": "x"
         },
         "mode": "markers",
         "name": "Artificial Intelligence, Deep Learning",
         "orientation": "v",
         "showlegend": true,
         "type": "scatter",
         "x": [
          "2017-04-19",
          "2017-08-16",
          "2017-09-06",
          "2017-10-25",
          "2018-12-13",
          "2021-09-07",
          "2022-02-22"
         ],
         "xaxis": "x",
         "y": [
          "Artificial Intelligence, Deep Learning",
          "Artificial Intelligence, Deep Learning",
          "Artificial Intelligence, Deep Learning",
          "Artificial Intelligence, Deep Learning",
          "Artificial Intelligence, Deep Learning",
          "Artificial Intelligence, Deep Learning",
          "Artificial Intelligence, Deep Learning"
         ],
         "yaxis": "y"
        },
        {
         "customdata": [
          [
           " An expert overview of the Deep Learning Models, supervised and unsupervised"
          ],
          [
           " How Data Science brings value through Consulting Firms"
          ],
          [
           " Why Evolutionary Programming Machine Learning is important"
          ],
          [
           " Business Consultancy in the Space of Data Science"
          ],
          [
           " Application of Geospatial Analytics to Business and Real Life"
          ],
          [
           " The Amazing World of a Data Science Meetup"
          ],
          [
           " Giving Back to the Data Science Community"
          ],
          [
           " Diving Into Data Science Consulting"
          ],
          [
           " Data Science in the World of Big Data"
          ],
          [
           " A Deep Dive Into Neural Nets"
          ],
          [
           " Talking Robotics with Brandon Rohrer"
          ],
          [
           " Deep Learning Models For Recruitment"
          ],
          [
           " Learning Deep Learning Together"
          ],
          [
           " Optimizing Computer Hardware with Deep Learning"
          ]
         ],
         "hovertemplate": "class=%{y}<br>episode_date=%{x}<br>episode_name=%{customdata[0]}<extra></extra>",
         "legendgroup": "Machine Learning, Deep Learning",
         "marker": {
          "color": "#FECB52",
          "symbol": "cross"
         },
         "mode": "markers",
         "name": "Machine Learning, Deep Learning",
         "orientation": "v",
         "showlegend": true,
         "type": "scatter",
         "x": [
          "2017-04-26",
          "2017-06-30",
          "2017-10-05",
          "2017-12-01",
          "2017-12-22",
          "2018-05-17",
          "2018-06-15",
          "2019-04-02",
          "2019-05-29",
          "2019-11-26",
          "2020-02-19",
          "2020-05-13",
          "2021-05-11",
          "2022-05-17"
         ],
         "xaxis": "x",
         "y": [
          "Machine Learning, Deep Learning",
          "Machine Learning, Deep Learning",
          "Machine Learning, Deep Learning",
          "Machine Learning, Deep Learning",
          "Machine Learning, Deep Learning",
          "Machine Learning, Deep Learning",
          "Machine Learning, Deep Learning",
          "Machine Learning, Deep Learning",
          "Machine Learning, Deep Learning",
          "Machine Learning, Deep Learning",
          "Machine Learning, Deep Learning",
          "Machine Learning, Deep Learning",
          "Machine Learning, Deep Learning",
          "Machine Learning, Deep Learning"
         ],
         "yaxis": "y"
        },
        {
         "customdata": [
          [
           " Building Image Datasets and their importance in Machine Learning"
          ],
          [
           "  Latest developments in the field of AI and how it is changing the world"
          ],
          [
           " How Directors of Data Science Change the World with Machine Learning and AI"
          ],
          [
           " How AI and Blockchain Converge"
          ],
          [
           " Using AI to Automate Communication"
          ],
          [
           " Insights from the Co-Founder of KDNuggets"
          ],
          [
           " Achieving Data Science Maturity"
          ],
          [
           " True Personalization Through Reinforcement Learning"
          ],
          [
           " Learning Through Competition"
          ],
          [
           " TensorFlow and AI Learnings for Developers"
          ],
          [
           " Advanced Data Topics and People-Centered Data Science"
          ],
          [
           " Accelerating Start-up Growth with A.I. Specialists"
          ],
          [
           " A.I. Robotics at Home"
          ],
          [
           " Fusion Energy, Cancer Proteomics, and Massive-Scale Machine Vision — with Dr. Brett Tully"
          ],
          [
           " GPT-3 for Natural Language Processing"
          ],
          [
           " Open-Ended A.I."
          ],
          [
           " A.I. for Medicine"
          ],
          [
           " Is Data Science Still Sexy?"
          ],
          [
           " Open-Source Tools for Natural Language Processing"
          ]
         ],
         "hovertemplate": "class=%{y}<br>episode_date=%{x}<br>episode_name=%{customdata[0]}<extra></extra>",
         "legendgroup": "Machine Learning, Artificial Intelligence",
         "marker": {
          "color": "#636efa",
          "symbol": "circle"
         },
         "mode": "markers",
         "name": "Machine Learning, Artificial Intelligence",
         "orientation": "v",
         "showlegend": true,
         "type": "scatter",
         "x": [
          "2017-06-01",
          "2017-07-06",
          "2018-03-02",
          "2018-05-10",
          "2018-05-31",
          "2018-07-18",
          "2019-06-05",
          "2019-09-04",
          "2019-10-30",
          "2020-06-10",
          "2020-07-22",
          "2021-09-28",
          "2021-12-07",
          "2021-12-21",
          "2022-03-22",
          "2022-09-20",
          "2023-01-10",
          "2023-01-24",
          "2023-03-07"
         ],
         "xaxis": "x",
         "y": [
          "Machine Learning, Artificial Intelligence",
          "Machine Learning, Artificial Intelligence",
          "Machine Learning, Artificial Intelligence",
          "Machine Learning, Artificial Intelligence",
          "Machine Learning, Artificial Intelligence",
          "Machine Learning, Artificial Intelligence",
          "Machine Learning, Artificial Intelligence",
          "Machine Learning, Artificial Intelligence",
          "Machine Learning, Artificial Intelligence",
          "Machine Learning, Artificial Intelligence",
          "Machine Learning, Artificial Intelligence",
          "Machine Learning, Artificial Intelligence",
          "Machine Learning, Artificial Intelligence",
          "Machine Learning, Artificial Intelligence",
          "Machine Learning, Artificial Intelligence",
          "Machine Learning, Artificial Intelligence",
          "Machine Learning, Artificial Intelligence",
          "Machine Learning, Artificial Intelligence",
          "Machine Learning, Artificial Intelligence"
         ],
         "yaxis": "y"
        },
        {
         "customdata": [
          [
           " The Rise of Blockchain"
          ],
          [
           " Why Sensors and the Internet of Things are Becoming A Critical Part of Data Science"
          ],
          [
           " How to Deal with Disruptive Technologies"
          ],
          [
           " Blockchains and Cryptocurrencies"
          ]
         ],
         "hovertemplate": "class=%{y}<br>episode_date=%{x}<br>episode_name=%{customdata[0]}<extra></extra>",
         "legendgroup": "Blockchain",
         "marker": {
          "color": "#EF553B",
          "symbol": "diamond"
         },
         "mode": "markers",
         "name": "Blockchain",
         "orientation": "v",
         "showlegend": true,
         "type": "scatter",
         "x": [
          "2018-03-14",
          "2018-03-29",
          "2018-06-08",
          "2022-10-25"
         ],
         "xaxis": "x",
         "y": [
          "Blockchain",
          "Blockchain",
          "Blockchain",
          "Blockchain"
         ],
         "yaxis": "y"
        },
        {
         "customdata": [
          [
           " Big Global Problems Worth Solving with Machine Learning"
          ]
         ],
         "hovertemplate": "class=%{y}<br>episode_date=%{x}<br>episode_name=%{customdata[0]}<extra></extra>",
         "legendgroup": "Deep Learning",
         "marker": {
          "color": "#00cc96",
          "symbol": "square"
         },
         "mode": "markers",
         "name": "Deep Learning",
         "orientation": "v",
         "showlegend": true,
         "type": "scatter",
         "x": [
          "2021-03-16"
         ],
         "xaxis": "x",
         "y": [
          "Deep Learning"
         ],
         "yaxis": "y"
        },
        {
         "customdata": [
          [
           " How to Ace Your Data Science Interview"
          ],
          [
           " Tools for Deploying Data Models into Production"
          ],
          [
           " Data Analyst, Data Scientist, and Data Engineer Career Paths"
          ],
          [
           " Software for Efficient Data Science"
          ],
          [
           " Data Analytics Career Orientation"
          ],
          [
           " A.I. Talent and the Red-Hot A.I. Skills"
          ],
          [
           " How to Learn Data Engineering"
          ],
          [
           " How to be both socially impactful and financially successful in your data career"
          ],
          [
           " Cloud Machine Learning"
          ]
         ],
         "hovertemplate": "class=%{y}<br>episode_date=%{x}<br>episode_name=%{customdata[0]}<extra></extra>",
         "legendgroup": "Data Science, Career",
         "marker": {
          "color": "#ab63fa",
          "symbol": "x"
         },
         "mode": "markers",
         "name": "Data Science, Career",
         "orientation": "v",
         "showlegend": true,
         "type": "scatter",
         "x": [
          "2022-10-04",
          "2022-10-18",
          "2022-11-01",
          "2022-11-22",
          "2022-11-29",
          "2023-02-24",
          "2023-02-28",
          "2023-03-28",
          "2023-04-18"
         ],
         "xaxis": "x",
         "y": [
          "Data Science, Career",
          "Data Science, Career",
          "Data Science, Career",
          "Data Science, Career",
          "Data Science, Career",
          "Data Science, Career",
          "Data Science, Career",
          "Data Science, Career",
          "Data Science, Career"
         ],
         "yaxis": "y"
        },
        {
         "customdata": [
          [
           " Simplifying Machine Learning"
          ]
         ],
         "hovertemplate": "class=%{y}<br>episode_date=%{x}<br>episode_name=%{customdata[0]}<extra></extra>",
         "legendgroup": "Data Science, Productivity",
         "marker": {
          "color": "#FFA15A",
          "symbol": "cross"
         },
         "mode": "markers",
         "name": "Data Science, Productivity",
         "orientation": "v",
         "showlegend": true,
         "type": "scatter",
         "x": [
          "2022-12-27"
         ],
         "xaxis": "x",
         "y": [
          "Data Science, Productivity"
         ],
         "yaxis": "y"
        }
       ],
       "layout": {
        "font": {
         "size": 10
        },
        "legend": {
         "title": {
          "text": "Categories"
         },
         "tracegroupgap": 0
        },
        "showlegend": true,
        "template": {
         "data": {
          "bar": [
           {
            "error_x": {
             "color": "#f2f5fa"
            },
            "error_y": {
             "color": "#f2f5fa"
            },
            "marker": {
             "line": {
              "color": "rgb(17,17,17)",
              "width": 0.5
             },
             "pattern": {
              "fillmode": "overlay",
              "size": 10,
              "solidity": 0.2
             }
            },
            "type": "bar"
           }
          ],
          "barpolar": [
           {
            "marker": {
             "line": {
              "color": "rgb(17,17,17)",
              "width": 0.5
             },
             "pattern": {
              "fillmode": "overlay",
              "size": 10,
              "solidity": 0.2
             }
            },
            "type": "barpolar"
           }
          ],
          "carpet": [
           {
            "aaxis": {
             "endlinecolor": "#A2B1C6",
             "gridcolor": "#506784",
             "linecolor": "#506784",
             "minorgridcolor": "#506784",
             "startlinecolor": "#A2B1C6"
            },
            "baxis": {
             "endlinecolor": "#A2B1C6",
             "gridcolor": "#506784",
             "linecolor": "#506784",
             "minorgridcolor": "#506784",
             "startlinecolor": "#A2B1C6"
            },
            "type": "carpet"
           }
          ],
          "choropleth": [
           {
            "colorbar": {
             "outlinewidth": 0,
             "ticks": ""
            },
            "type": "choropleth"
           }
          ],
          "contour": [
           {
            "colorbar": {
             "outlinewidth": 0,
             "ticks": ""
            },
            "colorscale": [
             [
              0,
              "#0d0887"
             ],
             [
              0.1111111111111111,
              "#46039f"
             ],
             [
              0.2222222222222222,
              "#7201a8"
             ],
             [
              0.3333333333333333,
              "#9c179e"
             ],
             [
              0.4444444444444444,
              "#bd3786"
             ],
             [
              0.5555555555555556,
              "#d8576b"
             ],
             [
              0.6666666666666666,
              "#ed7953"
             ],
             [
              0.7777777777777778,
              "#fb9f3a"
             ],
             [
              0.8888888888888888,
              "#fdca26"
             ],
             [
              1,
              "#f0f921"
             ]
            ],
            "type": "contour"
           }
          ],
          "contourcarpet": [
           {
            "colorbar": {
             "outlinewidth": 0,
             "ticks": ""
            },
            "type": "contourcarpet"
           }
          ],
          "heatmap": [
           {
            "colorbar": {
             "outlinewidth": 0,
             "ticks": ""
            },
            "colorscale": [
             [
              0,
              "#0d0887"
             ],
             [
              0.1111111111111111,
              "#46039f"
             ],
             [
              0.2222222222222222,
              "#7201a8"
             ],
             [
              0.3333333333333333,
              "#9c179e"
             ],
             [
              0.4444444444444444,
              "#bd3786"
             ],
             [
              0.5555555555555556,
              "#d8576b"
             ],
             [
              0.6666666666666666,
              "#ed7953"
             ],
             [
              0.7777777777777778,
              "#fb9f3a"
             ],
             [
              0.8888888888888888,
              "#fdca26"
             ],
             [
              1,
              "#f0f921"
             ]
            ],
            "type": "heatmap"
           }
          ],
          "heatmapgl": [
           {
            "colorbar": {
             "outlinewidth": 0,
             "ticks": ""
            },
            "colorscale": [
             [
              0,
              "#0d0887"
             ],
             [
              0.1111111111111111,
              "#46039f"
             ],
             [
              0.2222222222222222,
              "#7201a8"
             ],
             [
              0.3333333333333333,
              "#9c179e"
             ],
             [
              0.4444444444444444,
              "#bd3786"
             ],
             [
              0.5555555555555556,
              "#d8576b"
             ],
             [
              0.6666666666666666,
              "#ed7953"
             ],
             [
              0.7777777777777778,
              "#fb9f3a"
             ],
             [
              0.8888888888888888,
              "#fdca26"
             ],
             [
              1,
              "#f0f921"
             ]
            ],
            "type": "heatmapgl"
           }
          ],
          "histogram": [
           {
            "marker": {
             "pattern": {
              "fillmode": "overlay",
              "size": 10,
              "solidity": 0.2
             }
            },
            "type": "histogram"
           }
          ],
          "histogram2d": [
           {
            "colorbar": {
             "outlinewidth": 0,
             "ticks": ""
            },
            "colorscale": [
             [
              0,
              "#0d0887"
             ],
             [
              0.1111111111111111,
              "#46039f"
             ],
             [
              0.2222222222222222,
              "#7201a8"
             ],
             [
              0.3333333333333333,
              "#9c179e"
             ],
             [
              0.4444444444444444,
              "#bd3786"
             ],
             [
              0.5555555555555556,
              "#d8576b"
             ],
             [
              0.6666666666666666,
              "#ed7953"
             ],
             [
              0.7777777777777778,
              "#fb9f3a"
             ],
             [
              0.8888888888888888,
              "#fdca26"
             ],
             [
              1,
              "#f0f921"
             ]
            ],
            "type": "histogram2d"
           }
          ],
          "histogram2dcontour": [
           {
            "colorbar": {
             "outlinewidth": 0,
             "ticks": ""
            },
            "colorscale": [
             [
              0,
              "#0d0887"
             ],
             [
              0.1111111111111111,
              "#46039f"
             ],
             [
              0.2222222222222222,
              "#7201a8"
             ],
             [
              0.3333333333333333,
              "#9c179e"
             ],
             [
              0.4444444444444444,
              "#bd3786"
             ],
             [
              0.5555555555555556,
              "#d8576b"
             ],
             [
              0.6666666666666666,
              "#ed7953"
             ],
             [
              0.7777777777777778,
              "#fb9f3a"
             ],
             [
              0.8888888888888888,
              "#fdca26"
             ],
             [
              1,
              "#f0f921"
             ]
            ],
            "type": "histogram2dcontour"
           }
          ],
          "mesh3d": [
           {
            "colorbar": {
             "outlinewidth": 0,
             "ticks": ""
            },
            "type": "mesh3d"
           }
          ],
          "parcoords": [
           {
            "line": {
             "colorbar": {
              "outlinewidth": 0,
              "ticks": ""
             }
            },
            "type": "parcoords"
           }
          ],
          "pie": [
           {
            "automargin": true,
            "type": "pie"
           }
          ],
          "scatter": [
           {
            "marker": {
             "line": {
              "color": "#283442"
             }
            },
            "type": "scatter"
           }
          ],
          "scatter3d": [
           {
            "line": {
             "colorbar": {
              "outlinewidth": 0,
              "ticks": ""
             }
            },
            "marker": {
             "colorbar": {
              "outlinewidth": 0,
              "ticks": ""
             }
            },
            "type": "scatter3d"
           }
          ],
          "scattercarpet": [
           {
            "marker": {
             "colorbar": {
              "outlinewidth": 0,
              "ticks": ""
             }
            },
            "type": "scattercarpet"
           }
          ],
          "scattergeo": [
           {
            "marker": {
             "colorbar": {
              "outlinewidth": 0,
              "ticks": ""
             }
            },
            "type": "scattergeo"
           }
          ],
          "scattergl": [
           {
            "marker": {
             "line": {
              "color": "#283442"
             }
            },
            "type": "scattergl"
           }
          ],
          "scattermapbox": [
           {
            "marker": {
             "colorbar": {
              "outlinewidth": 0,
              "ticks": ""
             }
            },
            "type": "scattermapbox"
           }
          ],
          "scatterpolar": [
           {
            "marker": {
             "colorbar": {
              "outlinewidth": 0,
              "ticks": ""
             }
            },
            "type": "scatterpolar"
           }
          ],
          "scatterpolargl": [
           {
            "marker": {
             "colorbar": {
              "outlinewidth": 0,
              "ticks": ""
             }
            },
            "type": "scatterpolargl"
           }
          ],
          "scatterternary": [
           {
            "marker": {
             "colorbar": {
              "outlinewidth": 0,
              "ticks": ""
             }
            },
            "type": "scatterternary"
           }
          ],
          "surface": [
           {
            "colorbar": {
             "outlinewidth": 0,
             "ticks": ""
            },
            "colorscale": [
             [
              0,
              "#0d0887"
             ],
             [
              0.1111111111111111,
              "#46039f"
             ],
             [
              0.2222222222222222,
              "#7201a8"
             ],
             [
              0.3333333333333333,
              "#9c179e"
             ],
             [
              0.4444444444444444,
              "#bd3786"
             ],
             [
              0.5555555555555556,
              "#d8576b"
             ],
             [
              0.6666666666666666,
              "#ed7953"
             ],
             [
              0.7777777777777778,
              "#fb9f3a"
             ],
             [
              0.8888888888888888,
              "#fdca26"
             ],
             [
              1,
              "#f0f921"
             ]
            ],
            "type": "surface"
           }
          ],
          "table": [
           {
            "cells": {
             "fill": {
              "color": "#506784"
             },
             "line": {
              "color": "rgb(17,17,17)"
             }
            },
            "header": {
             "fill": {
              "color": "#2a3f5f"
             },
             "line": {
              "color": "rgb(17,17,17)"
             }
            },
            "type": "table"
           }
          ]
         },
         "layout": {
          "annotationdefaults": {
           "arrowcolor": "#f2f5fa",
           "arrowhead": 0,
           "arrowwidth": 1
          },
          "autotypenumbers": "strict",
          "coloraxis": {
           "colorbar": {
            "outlinewidth": 0,
            "ticks": ""
           }
          },
          "colorscale": {
           "diverging": [
            [
             0,
             "#8e0152"
            ],
            [
             0.1,
             "#c51b7d"
            ],
            [
             0.2,
             "#de77ae"
            ],
            [
             0.3,
             "#f1b6da"
            ],
            [
             0.4,
             "#fde0ef"
            ],
            [
             0.5,
             "#f7f7f7"
            ],
            [
             0.6,
             "#e6f5d0"
            ],
            [
             0.7,
             "#b8e186"
            ],
            [
             0.8,
             "#7fbc41"
            ],
            [
             0.9,
             "#4d9221"
            ],
            [
             1,
             "#276419"
            ]
           ],
           "sequential": [
            [
             0,
             "#0d0887"
            ],
            [
             0.1111111111111111,
             "#46039f"
            ],
            [
             0.2222222222222222,
             "#7201a8"
            ],
            [
             0.3333333333333333,
             "#9c179e"
            ],
            [
             0.4444444444444444,
             "#bd3786"
            ],
            [
             0.5555555555555556,
             "#d8576b"
            ],
            [
             0.6666666666666666,
             "#ed7953"
            ],
            [
             0.7777777777777778,
             "#fb9f3a"
            ],
            [
             0.8888888888888888,
             "#fdca26"
            ],
            [
             1,
             "#f0f921"
            ]
           ],
           "sequentialminus": [
            [
             0,
             "#0d0887"
            ],
            [
             0.1111111111111111,
             "#46039f"
            ],
            [
             0.2222222222222222,
             "#7201a8"
            ],
            [
             0.3333333333333333,
             "#9c179e"
            ],
            [
             0.4444444444444444,
             "#bd3786"
            ],
            [
             0.5555555555555556,
             "#d8576b"
            ],
            [
             0.6666666666666666,
             "#ed7953"
            ],
            [
             0.7777777777777778,
             "#fb9f3a"
            ],
            [
             0.8888888888888888,
             "#fdca26"
            ],
            [
             1,
             "#f0f921"
            ]
           ]
          },
          "colorway": [
           "#636efa",
           "#EF553B",
           "#00cc96",
           "#ab63fa",
           "#FFA15A",
           "#19d3f3",
           "#FF6692",
           "#B6E880",
           "#FF97FF",
           "#FECB52"
          ],
          "font": {
           "color": "#f2f5fa"
          },
          "geo": {
           "bgcolor": "rgb(17,17,17)",
           "lakecolor": "rgb(17,17,17)",
           "landcolor": "rgb(17,17,17)",
           "showlakes": true,
           "showland": true,
           "subunitcolor": "#506784"
          },
          "hoverlabel": {
           "align": "left"
          },
          "hovermode": "closest",
          "mapbox": {
           "style": "dark"
          },
          "paper_bgcolor": "rgb(17,17,17)",
          "plot_bgcolor": "rgb(17,17,17)",
          "polar": {
           "angularaxis": {
            "gridcolor": "#506784",
            "linecolor": "#506784",
            "ticks": ""
           },
           "bgcolor": "rgb(17,17,17)",
           "radialaxis": {
            "gridcolor": "#506784",
            "linecolor": "#506784",
            "ticks": ""
           }
          },
          "scene": {
           "xaxis": {
            "backgroundcolor": "rgb(17,17,17)",
            "gridcolor": "#506784",
            "gridwidth": 2,
            "linecolor": "#506784",
            "showbackground": true,
            "ticks": "",
            "zerolinecolor": "#C8D4E3"
           },
           "yaxis": {
            "backgroundcolor": "rgb(17,17,17)",
            "gridcolor": "#506784",
            "gridwidth": 2,
            "linecolor": "#506784",
            "showbackground": true,
            "ticks": "",
            "zerolinecolor": "#C8D4E3"
           },
           "zaxis": {
            "backgroundcolor": "rgb(17,17,17)",
            "gridcolor": "#506784",
            "gridwidth": 2,
            "linecolor": "#506784",
            "showbackground": true,
            "ticks": "",
            "zerolinecolor": "#C8D4E3"
           }
          },
          "shapedefaults": {
           "line": {
            "color": "#f2f5fa"
           }
          },
          "sliderdefaults": {
           "bgcolor": "#C8D4E3",
           "bordercolor": "rgb(17,17,17)",
           "borderwidth": 1,
           "tickwidth": 0
          },
          "ternary": {
           "aaxis": {
            "gridcolor": "#506784",
            "linecolor": "#506784",
            "ticks": ""
           },
           "baxis": {
            "gridcolor": "#506784",
            "linecolor": "#506784",
            "ticks": ""
           },
           "bgcolor": "rgb(17,17,17)",
           "caxis": {
            "gridcolor": "#506784",
            "linecolor": "#506784",
            "ticks": ""
           }
          },
          "title": {
           "x": 0.05
          },
          "updatemenudefaults": {
           "bgcolor": "#506784",
           "borderwidth": 0
          },
          "xaxis": {
           "automargin": true,
           "gridcolor": "#283442",
           "linecolor": "#506784",
           "ticks": "",
           "title": {
            "standoff": 15
           },
           "zerolinecolor": "#283442",
           "zerolinewidth": 2
          },
          "yaxis": {
           "automargin": true,
           "gridcolor": "#283442",
           "linecolor": "#506784",
           "ticks": "",
           "title": {
            "standoff": 15
           },
           "zerolinecolor": "#283442",
           "zerolinewidth": 2
          }
         }
        },
        "title": {
         "text": "Frequency of Data Science Episodes in Different Categories over time"
        },
        "xaxis": {
         "anchor": "y",
         "domain": [
          0,
          1
         ],
         "title": {
          "text": ""
         }
        },
        "yaxis": {
         "anchor": "x",
         "categoryarray": [
          "Data Science, Productivity",
          "Data Science, Career",
          "Deep Learning",
          "Blockchain",
          "Machine Learning, Artificial Intelligence",
          "Machine Learning, Deep Learning",
          "Artificial Intelligence, Deep Learning",
          "Programming, Data Visualization",
          "Machine Learning, Artificial Intelligence, Deep Learning",
          "Artificial Intelligence",
          "Data Visualization",
          "Programming",
          "Data Science",
          "Machine Learning",
          "Database"
         ],
         "categoryorder": "array",
         "domain": [
          0,
          1
         ],
         "showgrid": false,
         "showticklabels": false,
         "tickfont": {
          "size": 1
         },
         "title": {
          "text": ""
         }
        }
       }
      },
      "text/html": [
       "<div>                            <div id=\"b985e4c7-9907-41a7-9a99-9678d1474dc9\" class=\"plotly-graph-div\" style=\"height:525px; width:100%;\"></div>            <script type=\"text/javascript\">                require([\"plotly\"], function(Plotly) {                    window.PLOTLYENV=window.PLOTLYENV || {};                                    if (document.getElementById(\"b985e4c7-9907-41a7-9a99-9678d1474dc9\")) {                    Plotly.newPlot(                        \"b985e4c7-9907-41a7-9a99-9678d1474dc9\",                        [{\"customdata\":[[\" Ruben Kogel on Self-Serve Analytics, R vs Python, and Mentors in Data Science\"],[\" Model Validation, Data Exhaust and Organisational Cultural Change\"],[\" Partitioning, Roles in Database Infrastructure and SQL Databases\"],[\" Generation Z Insights, Data Privacy and SQL and Database Design\"],[\" Key Data Science and Statistical Skills to get hired at VSCO\"],[\" Great tips on building a successful Analytics Culture\"],[\" Career transitioning to Data Science\"],[\" Building and managing a successful Data Science team\"],[\" How to keep up with Data Science trends\"],[\" Database Challenges for Data Science and How to Deal With Them\"],[\" From Developer to Data Scientist\"]],\"hovertemplate\":\"class=%{y}<br>episode_date=%{x}<br>episode_name=%{customdata[0]}<extra></extra>\",\"legendgroup\":\"Database\",\"marker\":{\"color\":\"#636efa\",\"symbol\":\"circle\"},\"mode\":\"markers\",\"name\":\"Database\",\"orientation\":\"v\",\"showlegend\":true,\"x\":[\"2016-09-10\",\"2016-11-11\",\"2016-12-31\",\"2017-01-20\",\"2017-03-30\",\"2017-05-04\",\"2017-05-18\",\"2017-05-24\",\"2017-06-22\",\"2018-02-09\",\"2018-05-24\"],\"xaxis\":\"x\",\"y\":[\"Database\",\"Database\",\"Database\",\"Database\",\"Database\",\"Database\",\"Database\",\"Database\",\"Database\",\"Database\",\"Database\"],\"yaxis\":\"y\",\"type\":\"scatter\"},{\"customdata\":[[\" Machine Learning, Recommender Systems and the Future Of Data With Hadelin De Ponteves\"],[\" Defining the Data Problem, Data Science in Marketing and R Modeling Libraries\"],[\" Neuroscience, Machine Learning and Moore’S Law\"],[\" 95% Accuracy Models, Winning People Over, and Saving Lives with Damian Mingle\"],[\" Build your own Data Science Masters Degree\"],[\" An inspiring journey from a totally different background to Data Science\"],[\" Understanding the newest Big Data technology buzz terms\"],[\" Changing human behaviour through a Driving App\"],[\" Discovering Data Science workflows and the importance of mentorship\"],[\" How to stand out to Recruiters in Data Science\"],[\" Building a Successful Data Science Practice and How to be an Effective Data Scientist\"],[\" 10 Tips from a Data Science Consultant\"],[\" Everything about data analythics & its future\"],[\" How Data Science is Becoming a Science\"],[\" How I Got 45000 Linkedin Followers in One Year\"],[\" Helping San Diego Become a Smart City\"],[\" Full-Time Data Scientist after just 1 year in the field\"],[\" Integrating Data Science as a Developer\"],[\" How Kaplan uses Data for Education\"],[\" Enhancing Your Mobile Gaming Experience With Data Science\"],[\" Geospatial Analytics\"],[\" Transforming the Identity Authentication Space\"],[\" Solving Problems With Data Science & Uber\"],[\" Machine Learning Through Reinforcement & Contextual Bandits\"],[\" Fortitude & Passion in the Data Science Journey\"],[\" Using Data Right In Smart Cities\"],[\" The Power of Online Data Education\"],[\" Making Data Accessible\"],[\" Machine Learning At Twitter\"],[\" Data Science Campfire Tales with John Elder\"],[\" Developing and Maintaining Your Technical and Soft Skills\"],[\" Impacting Through Technology\"],[\" 2020’s Biggest Data Science Breakthroughs\"],[\" Scaling Up Machine Learning\"],[\" Deep Learning for Machine Vision\"],[\" Commercial ML Opportunities Lie Everywhere\"],[\" Translating PhD Research into ML Applications\"],[\" Legal Tech, Powered by Machine Learning\"],[\" Tackling Climate Change with ML\"],[\" MLOps for Renewable Energy\"],[\" Machine Learning at NVIDIA\"],[\" Monetizing Machine Learning\"],[\" Courses in Data Science and Machine Learning\"],[\" Interpretable Machine Learning — with Serg Masís\"],[\" How Genes Influence Behavior — with Prof. Jonathan Flint\"],[\" Engineering Natural Language Models — with Lauren Zhu\"],[\" The Statistics and Machine Learning Quests of Dr. Josh Starmer\"],[\" Clem Delangue on Hugging Face and Transformers\"],[\" Collaborative, No-Code Machine Learning\"],[\" Automating ML Model Deployment\"],[\" Simulations and Synthetic Data for Machine Learning\"],[\" MLOps\"],[\" Upskilling in Data Science and Machine Learning\"],[\" Inferring Causality\"],[\" Causal Machine Learning\"],[\" AutoML\"],[\" Resilient Machine Learning\"],[\" Liquid Neural Networks\"],[\" Model Error Analysis\"],[\" The Perils of Manually Labeling Data for Machine Learning Models\"],[\" Machine Learning for Video Games\"],[\" Introduction to Machine Learning\"],[\" How to Build Data and ML Products Users Love\"],[\" Designing Machine Learning Systems\"],[\" Streaming, reactive, real-time machine learning\"],[\" Taipy, the open-source Python application builder\"],[\" XGBoost\"]],\"hovertemplate\":\"class=%{y}<br>episode_date=%{x}<br>episode_name=%{customdata[0]}<extra></extra>\",\"legendgroup\":\"Machine Learning\",\"marker\":{\"color\":\"#EF553B\",\"symbol\":\"diamond\"},\"mode\":\"markers\",\"name\":\"Machine Learning\",\"orientation\":\"v\",\"showlegend\":true,\"x\":[\"2016-09-14\",\"2016-09-25\",\"2016-11-04\",\"2016-12-01\",\"2017-03-16\",\"2017-04-05\",\"2017-05-10\",\"2017-06-08\",\"2017-06-15\",\"2017-07-26\",\"2018-01-12\",\"2018-08-08\",\"2018-08-15\",\"2018-08-30\",\"2018-09-07\",\"2018-09-14\",\"2018-11-15\",\"2018-12-06\",\"2018-12-20\",\"2019-01-17\",\"2019-03-13\",\"2019-04-10\",\"2019-04-17\",\"2019-07-03\",\"2019-09-18\",\"2019-11-06\",\"2019-11-13\",\"2019-11-19\",\"2020-03-04\",\"2020-08-12\",\"2020-11-04\",\"2020-12-16\",\"2020-12-23\",\"2021-01-13\",\"2021-01-27\",\"2021-02-23\",\"2021-03-10\",\"2021-03-23\",\"2021-04-06\",\"2021-04-14\",\"2021-05-25\",\"2021-07-20\",\"2021-10-26\",\"2022-01-11\",\"2022-02-08\",\"2022-02-15\",\"2022-03-01\",\"2022-04-07\",\"2022-05-03\",\"2022-05-10\",\"2022-07-12\",\"2022-08-09\",\"2022-08-30\",\"2022-09-06\",\"2022-09-27\",\"2022-11-15\",\"2022-11-25\",\"2022-12-02\",\"2022-12-09\",\"2022-12-13\",\"2023-01-17\",\"2023-01-31\",\"2023-03-03\",\"2023-03-14\",\"2023-04-11\",\"2023-04-25\",\"2023-05-23\"],\"xaxis\":\"x\",\"y\":[\"Machine Learning\",\"Machine Learning\",\"Machine Learning\",\"Machine Learning\",\"Machine Learning\",\"Machine Learning\",\"Machine Learning\",\"Machine Learning\",\"Machine Learning\",\"Machine Learning\",\"Machine Learning\",\"Machine Learning\",\"Machine Learning\",\"Machine Learning\",\"Machine Learning\",\"Machine Learning\",\"Machine Learning\",\"Machine Learning\",\"Machine Learning\",\"Machine Learning\",\"Machine Learning\",\"Machine Learning\",\"Machine Learning\",\"Machine Learning\",\"Machine Learning\",\"Machine Learning\",\"Machine Learning\",\"Machine Learning\",\"Machine Learning\",\"Machine Learning\",\"Machine Learning\",\"Machine Learning\",\"Machine Learning\",\"Machine Learning\",\"Machine Learning\",\"Machine Learning\",\"Machine Learning\",\"Machine Learning\",\"Machine Learning\",\"Machine Learning\",\"Machine Learning\",\"Machine Learning\",\"Machine Learning\",\"Machine Learning\",\"Machine Learning\",\"Machine Learning\",\"Machine Learning\",\"Machine Learning\",\"Machine Learning\",\"Machine Learning\",\"Machine Learning\",\"Machine Learning\",\"Machine Learning\",\"Machine Learning\",\"Machine Learning\",\"Machine Learning\",\"Machine Learning\",\"Machine Learning\",\"Machine Learning\",\"Machine Learning\",\"Machine Learning\",\"Machine Learning\",\"Machine Learning\",\"Machine Learning\",\"Machine Learning\",\"Machine Learning\",\"Machine Learning\"],\"yaxis\":\"y\",\"type\":\"scatter\"},{\"customdata\":[[\" Data and Strategy, three Pillars of Research and Building a Career Path for yourself\"],[\" Computer Forensics, Fraud Analytics and knowing when to take a break\"],[\" Advanced Analytics, Dynamic Simulations, and Consulting Round the Globe\"],[\" Data Science in Computer Games, learning to learn and A 40M Euro Case Study\"],[\" Credit Scoring Models, the Law of Large Numbers, and Model Building with Greg Poppe\"],[\" Data-Driven Operations, Consulting Approaches, and Mentoring with Richard Hopkins\"],[\" 20 Years in Data Analytics, Entrepreneurship and Megatrends in Data\"],[\" Building a personal brand in Data Science with senior Insights Manager Josh Coulson\"],[\" Develop your dream Data Science Career with Experfy\"],[\" Steps on how to become a thought leader in the field of Data Science\"],[\"  Finding the right Data Science Company that best fits you\"],[\" What a Data Science headhunter is looking for\"],[\" The Power of Soft Skills in Data Science\"],[\" Supply Chain Analytics, Worldwide Consulting and Learning Data Science In Your Career\"],[\" How to Use Data Science In Offline Business\"],[\" How to Live a More Fulfilling Life - Time & Energy Management\"],[\" Why All Companies Need a Data Science Culture\"],[\" Understanding Robotics Process Automation (RPA) to Disrupt Your Business\"],[\" Building a Career in Data Science\"],[\" How a Data Science Recruiter Thinks\"],[\" Highlights of DSGO 2018 According to an Aspiring Data Scientist\"],[\" Data-Driven Approach of Doing Business\"],[\" High Octane Data Science Leadership at Red Bull\"],[\" Living The Dream With Data Science\"],[\" Data Privacy, GDPR, and You\"],[\" From Candidate to Career\"],[\" Knowing What You Need to Know With Data Science\"],[\" Succeeding in Data Science with the Trichotomy of Control\"],[\" Communicating Data\"],[\" Maximizing Advertising Efforts With Data\"],[\" Embedding Data Science in Business\"],[\" Gap Year\"],[\" Futureproofing Your Digital Marketing Tactics\"],[\" Proximity is Power\"],[\" Bringing Dev & Diverse Communities Into Data Science\"],[\" How To Be Social About Data Science\"],[\" Introverts and Extroverts\"],[\" Becoming Seasoned At Failure\"],[\" Finding Your Edge\"],[\" The Law of Attraction\"],[\" Data Science as a Freelance Career\"],[\" Hacking Data Science Interviews for Graduates\"],[\" Career Jumpstarts through Data Science Retreat\"],[\" How To Tell Your Story For Career Success\"],[\" Self-Starting In Data Science\"],[\" How to Practice Human-Centric Data Science\"],[\" DJ Patil on Harnessing the Power of Data Science Community\"],[\" Tackling Data Science Job Hunting, Interviews & Negotiations\"],[\" How To Succeed As An Analytics Consultant\"],[\" Intuition, Frameworks, and Unlocking the Power of Data\"],[\" Real Data Analytics for Economics, HR, and COVID-19\"],[\" The Power of Memory For Productivity\"],[\" Utilizing Oracle Cloud as an Enterprise, Small Business, or Developer\"],[\" How to Avoid Failing at Digital Transformation\"],[\" Becoming a Data Science Leader\"],[\" Becoming Good Enough\"],[\" The Importance of Keeping Science in Data Science\"],[\" Contributing to the Community of Data Scientists\"],[\" From Data Science Student to Professional\"],[\" Gamifying Your Data Science Work and Education\"],[\" The Work of Quants and Data Scientists in the Financial Space\"],[\" How to Encourage Diversity in Data Science\"],[\" Succeeding in Analytics by Thinking Outside the Data\"],[\" Data Engineering and Product Development\"],[\" Unlocking the Architecture of Innovation\"],[\" The Growth and Future of STEM in Africa\"],[\" Data Science at a World-Leading Hedge Fund\"],[\" Landing Your Data Science Dream Job\"],[\" Analytics for Commercial and Personal Success\"],[\" High-Impact Data Science Made Easy\"],[\" 99 Days to Your First Data Science Job\"],[\" Knowledge Graphs\"],[\" Performance Marketing Analytics\"],[\" Setting Yourself Apart in Data Science Interviews\"],[\" Financial Data Engineering\"],[\" Fixing Dirty Data\"],[\" Successful AI Projects and AI Startups\"],[\" Maximizing the Global Impact of Your Career\"],[\" Data Meshes and Data Reliability\"],[\" Yoga Nidra with Jes Allen\"],[\" From Data Science to Cinema\"],[\" Bayesian Statistics\"],[\" Accelerating Impact through Community — with Chrys Wu\"],[\" Skyrocket Your Career by Sharing Your Writing\"],[\" Hurdling Over Data Career Obstacles\"],[\" Automating Data Analytics\"],[\" Data Science at the Command Line\"],[\" How to Found, Grow, and Sell a Data Science Start-up\"],[\" Data Observability — with Dr. Kevin Hu\"],[\" Sports Analytics and 66 Days of Data with Ken Jee\"],[\" Engineering Data APIs\"],[\" How to Rock at Data Science — with Tina Huang\"],[\" Scaling A.I. Startups Globally\"],[\" Bayesian, Frequentist, and Fiducial Statistics in Data Science\"],[\" Data Engineering for Data Scientists\"],[\" How to Sell a Multimillion Dollar A.I. Contract\"],[\" The Real-World Impact of Cross-Disciplinary Data Science Collaboration\"],[\" Data Engineering 101\"],[\" Venture Capital for Data Science\"],[\" Geospatial Data and Unconventional Routes into Data Careers\"],[\" Data Mesh\"],[\" Causal Modeling and Sequence Data\"],[\" Analyzing Blockchain Data and Cryptocurrencies\"],[\" A Framework for Big Life Decisions\"],[\" Digital Analytics with Avinash Kaushik\"],[\" Automating Industrial Machines with Data Science and the Internet of Things (IoT)\"],[\" Business Intelligence Tools, with Mico Yuk\"]],\"hovertemplate\":\"class=%{y}<br>episode_date=%{x}<br>episode_name=%{customdata[0]}<extra></extra>\",\"legendgroup\":\"Data Science\",\"marker\":{\"color\":\"#00cc96\",\"symbol\":\"square\"},\"mode\":\"markers\",\"name\":\"Data Science\",\"orientation\":\"v\",\"showlegend\":true,\"x\":[\"2016-10-02\",\"2016-10-09\",\"2016-10-22\",\"2016-10-29\",\"2016-12-12\",\"2016-12-22\",\"2017-01-06\",\"2017-03-09\",\"2017-03-23\",\"2017-07-13\",\"2017-08-09\",\"2017-11-01\",\"2017-12-07\",\"2018-03-21\",\"2018-04-05\",\"2018-04-13\",\"2018-06-21\",\"2018-07-11\",\"2018-07-25\",\"2018-08-02\",\"2018-10-25\",\"2019-01-24\",\"2019-02-07\",\"2019-02-13\",\"2019-02-20\",\"2019-02-27\",\"2019-03-20\",\"2019-05-15\",\"2019-05-22\",\"2019-06-12\",\"2019-07-17\",\"2019-07-19\",\"2019-07-23\",\"2019-08-02\",\"2019-08-07\",\"2019-08-14\",\"2019-08-30\",\"2019-09-25\",\"2019-10-02\",\"2019-10-11\",\"2019-12-18\",\"2020-01-15\",\"2020-02-26\",\"2020-03-11\",\"2020-03-25\",\"2020-04-01\",\"2020-04-08\",\"2020-04-22\",\"2020-04-29\",\"2020-05-06\",\"2020-05-27\",\"2020-06-03\",\"2020-06-17\",\"2020-07-08\",\"2020-07-29\",\"2020-08-05\",\"2020-08-19\",\"2020-09-09\",\"2020-09-16\",\"2020-09-23\",\"2020-09-30\",\"2020-10-07\",\"2020-10-21\",\"2020-11-11\",\"2020-11-18\",\"2020-12-02\",\"2021-01-20\",\"2021-03-30\",\"2021-04-27\",\"2021-05-04\",\"2021-05-18\",\"2021-06-15\",\"2021-06-21\",\"2021-06-28\",\"2021-07-06\",\"2021-07-13\",\"2021-08-10\",\"2021-08-17\",\"2021-08-24\",\"2021-08-26\",\"2021-09-13\",\"2021-09-21\",\"2021-10-19\",\"2021-11-09\",\"2021-11-23\",\"2021-11-30\",\"2021-12-14\",\"2021-12-28\",\"2022-01-17\",\"2022-03-08\",\"2022-03-29\",\"2022-04-05\",\"2022-05-24\",\"2022-06-07\",\"2022-06-28\",\"2022-07-14\",\"2022-07-19\",\"2022-07-26\",\"2022-08-16\",\"2022-08-23\",\"2022-09-13\",\"2022-10-11\",\"2022-11-08\",\"2023-01-13\",\"2023-05-09\",\"2023-05-19\",\"2023-05-26\"],\"xaxis\":\"x\",\"y\":[\"Data Science\",\"Data Science\",\"Data Science\",\"Data Science\",\"Data Science\",\"Data Science\",\"Data Science\",\"Data Science\",\"Data Science\",\"Data Science\",\"Data Science\",\"Data Science\",\"Data Science\",\"Data Science\",\"Data Science\",\"Data Science\",\"Data Science\",\"Data Science\",\"Data Science\",\"Data Science\",\"Data Science\",\"Data Science\",\"Data Science\",\"Data Science\",\"Data Science\",\"Data Science\",\"Data Science\",\"Data Science\",\"Data Science\",\"Data Science\",\"Data Science\",\"Data Science\",\"Data Science\",\"Data Science\",\"Data Science\",\"Data Science\",\"Data Science\",\"Data Science\",\"Data Science\",\"Data Science\",\"Data Science\",\"Data Science\",\"Data Science\",\"Data Science\",\"Data Science\",\"Data Science\",\"Data Science\",\"Data Science\",\"Data Science\",\"Data Science\",\"Data Science\",\"Data Science\",\"Data Science\",\"Data Science\",\"Data Science\",\"Data Science\",\"Data Science\",\"Data Science\",\"Data Science\",\"Data Science\",\"Data Science\",\"Data Science\",\"Data Science\",\"Data Science\",\"Data Science\",\"Data Science\",\"Data Science\",\"Data Science\",\"Data Science\",\"Data Science\",\"Data Science\",\"Data Science\",\"Data Science\",\"Data Science\",\"Data Science\",\"Data Science\",\"Data Science\",\"Data Science\",\"Data Science\",\"Data Science\",\"Data Science\",\"Data Science\",\"Data Science\",\"Data Science\",\"Data Science\",\"Data Science\",\"Data Science\",\"Data Science\",\"Data Science\",\"Data Science\",\"Data Science\",\"Data Science\",\"Data Science\",\"Data Science\",\"Data Science\",\"Data Science\",\"Data Science\",\"Data Science\",\"Data Science\",\"Data Science\",\"Data Science\",\"Data Science\",\"Data Science\",\"Data Science\",\"Data Science\",\"Data Science\",\"Data Science\"],\"yaxis\":\"y\",\"type\":\"scatter\"},{\"customdata\":[[\" Financial Modeling and Data Science, Inputs Versus Assumptions and Large-Scale Deals\"],[\" Side Income, Stoic Philosophy, and The Importance of QA with Paul Brown\"],[\" Excel & life-long learning in Data Science\"],[\" Charting a Career in Energy Analytics\"],[\" Women in Data Science & How to Help\"],[\" Deep dive into R Programming & R Studio\"],[\" Inspiration from the Founder of the R Ladies Organization\"],[\" Working on Apache Spark & R Package Development\"],[\" Getting The Most Out of Data With Gradient Boosting\"],[\" Proper Hypothesis Testing For Every Field\"],[\" The Life of One Advanced Data Scientist\"],[\" Hadley Wickham Talks Integration and Future of R and Python\"],[\" Building Data Pipelines for COVID-19 Modeling\"],[\" Time Series Analysis\"],[\" The 20% of Analytics Driving 80% of ROI\"],[\" R in Production\"],[\" Statistical Programming with Friends\"],[\" Data Science for Private Investing — LIVE with Drew Conway\"],[\" Open-Source Analytical Computing (pandas, Apache Arrow)\"],[\" Effective Pandas\"],[\" PyMC for Bayesian Statistics in Python\"]],\"hovertemplate\":\"class=%{y}<br>episode_date=%{x}<br>episode_name=%{customdata[0]}<extra></extra>\",\"legendgroup\":\"Programming\",\"marker\":{\"color\":\"#ab63fa\",\"symbol\":\"x\"},\"mode\":\"markers\",\"name\":\"Programming\",\"orientation\":\"v\",\"showlegend\":true,\"x\":[\"2016-10-17\",\"2016-12-17\",\"2017-09-20\",\"2017-11-24\",\"2018-04-26\",\"2018-07-05\",\"2018-09-27\",\"2018-11-22\",\"2019-07-31\",\"2019-10-09\",\"2019-12-11\",\"2020-02-05\",\"2020-05-20\",\"2021-04-20\",\"2021-06-01\",\"2021-07-20\",\"2021-08-31\",\"2021-10-05\",\"2021-11-16\",\"2022-03-15\",\"2022-06-21\"],\"xaxis\":\"x\",\"y\":[\"Programming\",\"Programming\",\"Programming\",\"Programming\",\"Programming\",\"Programming\",\"Programming\",\"Programming\",\"Programming\",\"Programming\",\"Programming\",\"Programming\",\"Programming\",\"Programming\",\"Programming\",\"Programming\",\"Programming\",\"Programming\",\"Programming\",\"Programming\",\"Programming\"],\"yaxis\":\"y\",\"type\":\"scatter\"},{\"customdata\":[[\" Learning resources, thinking like a Data Scientist and Data Exploration\"],[\" Online Learning, Tableau Insights and Ad Hoc Analytics\"],[\" Data in Marketing, Statistical Significance and Management and Career Advice\"],[\" AB Testing, Kissmetrics and ways to a better lifestyle\"],[\" How to re-focus your career & become an entry level Data Scientist\"],[\" Leveraging your experience into Data Science\"],[\" Business Intelligence – the role of Data Visualization\"],[\" Lessons from a successful career in Data Visualization\"],[\" Leveraging Data Science Techniques into E-commerce & other fields\"],[\" Why this is the golden age of Data Science & how to get in\"],[\" No Compromise\"],[\" How a Passion for Tableau Changed a Life\"],[\" Data Visualization Insights from NYU\"],[\" Contributing to the community as a Data Science Influencer\"],[\" Amazing Tips from Two Legends of Visualization\"],[\" The Benefit of Having a Diverse Skill Set\"],[\" Data Visualizers\"],[\"  Making the Public Graphically Literate\"],[\" Using Data Visualization Tools\"],[\" The Path to Data Visualization\"],[\" Telling a Story Right with Data\"],[\" You’re Not an Imposter, You’re Learning\"],[\" How to Tell Stories with Data\"],[\" Communicating Data Effectively\"],[\" Bringing Data to the People\"],[\" How to Influence Others with Your Data\"],[\" The Intentional Use of Color in Data Communication\"],[\" Efficiently Glean-ing Insights from Vast Data Warehouses\"],[\" Pandas for Data Analysis and Visualization\"]],\"hovertemplate\":\"class=%{y}<br>episode_date=%{x}<br>episode_name=%{customdata[0]}<extra></extra>\",\"legendgroup\":\"Data Visualization\",\"marker\":{\"color\":\"#FFA15A\",\"symbol\":\"cross\"},\"mode\":\"markers\",\"name\":\"Data Visualization\",\"orientation\":\"v\",\"showlegend\":true,\"x\":[\"2016-11-18\",\"2016-11-22\",\"2017-02-02\",\"2017-03-02\",\"2017-08-02\",\"2017-08-31\",\"2017-09-14\",\"2017-09-27\",\"2017-10-20\",\"2017-11-08\",\"2018-02-02\",\"2018-02-23\",\"2018-10-11\",\"2018-10-31\",\"2018-11-29\",\"2019-01-10\",\"2019-01-31\",\"2019-06-19\",\"2019-10-16\",\"2019-12-04\",\"2020-01-08\",\"2020-07-15\",\"2020-08-26\",\"2021-02-03\",\"2021-07-23\",\"2022-12-20\",\"2023-02-07\",\"2023-02-14\",\"2023-05-02\"],\"xaxis\":\"x\",\"y\":[\"Data Visualization\",\"Data Visualization\",\"Data Visualization\",\"Data Visualization\",\"Data Visualization\",\"Data Visualization\",\"Data Visualization\",\"Data Visualization\",\"Data Visualization\",\"Data Visualization\",\"Data Visualization\",\"Data Visualization\",\"Data Visualization\",\"Data Visualization\",\"Data Visualization\",\"Data Visualization\",\"Data Visualization\",\"Data Visualization\",\"Data Visualization\",\"Data Visualization\",\"Data Visualization\",\"Data Visualization\",\"Data Visualization\",\"Data Visualization\",\"Data Visualization\",\"Data Visualization\",\"Data Visualization\",\"Data Visualization\",\"Data Visualization\"],\"yaxis\":\"y\",\"type\":\"scatter\"},{\"customdata\":[[\" Government Work, Revisiting Left Brain/Right Brain and Artistic Thinking\"],[\" A Glimpse into the Virtual Reality World of the Future\"],[\" Cloud Technology\"],[\" Data Science Tips for Startups to Large Companies\"],[\" The Pre-Requisites for Analytics to Happen\"],[\" A serious talk on AI taking over jobs\"],[\" Pushing the Boundaries in Mental Healthcare with Data Science\"],[\" The Science Fact of Technology, Ai, & Social Media\"],[\" Diving Into Computer Vision\"],[\" AI\"],[\" Predict, Prevent, Detect\"],[\" The New Age of Reason\"],[\" AI, Deepfakes, and Call of Duty\"],[\" Changing the World With Theory & Data\"],[\" Perception of AI in Big Companies\"],[\" A Deep Conversation About Tech & Life\"],[\" Problem Solving Through Better Thinking\"],[\" Data Science Trends for 2020\"],[\" BERT and NLP in 2020 and Beyond\"],[\" Human-in-the-Loop Algorithms in Retail\"],[\" The Importance of Data Science Literacy\"],[\" Succeeding & Networking In the Virtual Space\"],[\" Changing The World With Data\"],[\" The Past, Present, and Future of AI Services\"],[\" Data Science Trends for 2021\"],[\" Conversational A.I.\"],[\" Fairness in A.I.\"],[\" How to Thrive as an Early-Career Data Scientist\"],[\" Transformers for Natural Language Processing\"],[\" A.I. for Good\"],[\" Data Science Trends for 2022\"],[\" Sparking A.I. Innovation — with Nicole Büttner\"],[\" Scaling Data-Intensive Real-Time Applications — with Matthew Russell\"],[\" AGI\"],[\" A.I. For Crushing Humans at Poker and Board Games\"],[\" Transforming Dentistry with A.I.\"],[\" The State of Natural Language Processing\"],[\" Narrative A.I. with Hilary Mason\"],[\" Why CEOs Care About A.I. More than Other Technologies\"],[\" The A.I. Platforms of the Future\"],[\" A.I. Policy at OpenAI\"],[\" Getting Kids Excited about STEM Subjects\"],[\" The Critical Human Element of Successful A.I. Deployments\"],[\" Responsible Decentralized Intelligence\"],[\" The Equality Machine\"],[\" Data Science Trends for 2023\"],[\" ChatGPT\"],[\" Mike Wimmer\"],[\" AI ROI\"],[\" Astonishing CICERO negotiates and builds trust with humans using natural language\"],[\" Harnessing GPT-4 for your Commercial Advantage\"],[\" GPT-4\"],[\" The A.I. and Machine Learning Landscape, with investor George Mathew\"],[\" Contextual A.I. for Adapting to Adversaries, with Dr. Matar Haller\"]],\"hovertemplate\":\"class=%{y}<br>episode_date=%{x}<br>episode_name=%{customdata[0]}<extra></extra>\",\"legendgroup\":\"Artificial Intelligence\",\"marker\":{\"color\":\"#19d3f3\",\"symbol\":\"circle\"},\"mode\":\"markers\",\"name\":\"Artificial Intelligence\",\"orientation\":\"v\",\"showlegend\":true,\"x\":[\"2017-01-13\",\"2018-01-25\",\"2018-03-08\",\"2018-04-20\",\"2018-08-23\",\"2018-09-20\",\"2019-03-06\",\"2019-03-27\",\"2019-04-24\",\"2019-05-01\",\"2019-06-26\",\"2019-07-10\",\"2019-08-21\",\"2019-08-27\",\"2019-09-06\",\"2019-09-11\",\"2019-10-23\",\"2019-12-30\",\"2020-01-22\",\"2020-03-18\",\"2020-09-02\",\"2020-10-14\",\"2020-10-28\",\"2020-12-09\",\"2021-01-06\",\"2021-02-17\",\"2021-03-03\",\"2021-06-08\",\"2021-10-12\",\"2021-11-02\",\"2022-01-04\",\"2022-01-25\",\"2022-02-01\",\"2022-04-12\",\"2022-04-26\",\"2022-05-31\",\"2022-06-09\",\"2022-07-05\",\"2022-07-21\",\"2022-07-28\",\"2022-08-02\",\"2022-08-04\",\"2022-11-18\",\"2022-12-06\",\"2022-12-15\",\"2023-01-03\",\"2023-01-19\",\"2023-02-17\",\"2023-02-21\",\"2023-03-21\",\"2023-04-04\",\"2023-04-07\",\"2023-05-16\",\"2023-05-30\"],\"xaxis\":\"x\",\"y\":[\"Artificial Intelligence\",\"Artificial Intelligence\",\"Artificial Intelligence\",\"Artificial Intelligence\",\"Artificial Intelligence\",\"Artificial Intelligence\",\"Artificial Intelligence\",\"Artificial Intelligence\",\"Artificial Intelligence\",\"Artificial Intelligence\",\"Artificial Intelligence\",\"Artificial Intelligence\",\"Artificial Intelligence\",\"Artificial Intelligence\",\"Artificial Intelligence\",\"Artificial Intelligence\",\"Artificial Intelligence\",\"Artificial Intelligence\",\"Artificial Intelligence\",\"Artificial Intelligence\",\"Artificial Intelligence\",\"Artificial Intelligence\",\"Artificial Intelligence\",\"Artificial Intelligence\",\"Artificial Intelligence\",\"Artificial Intelligence\",\"Artificial Intelligence\",\"Artificial Intelligence\",\"Artificial Intelligence\",\"Artificial Intelligence\",\"Artificial Intelligence\",\"Artificial Intelligence\",\"Artificial Intelligence\",\"Artificial Intelligence\",\"Artificial Intelligence\",\"Artificial Intelligence\",\"Artificial Intelligence\",\"Artificial Intelligence\",\"Artificial Intelligence\",\"Artificial Intelligence\",\"Artificial Intelligence\",\"Artificial Intelligence\",\"Artificial Intelligence\",\"Artificial Intelligence\",\"Artificial Intelligence\",\"Artificial Intelligence\",\"Artificial Intelligence\",\"Artificial Intelligence\",\"Artificial Intelligence\",\"Artificial Intelligence\",\"Artificial Intelligence\",\"Artificial Intelligence\",\"Artificial Intelligence\",\"Artificial Intelligence\"],\"yaxis\":\"y\",\"type\":\"scatter\"},{\"customdata\":[[\" Applications of Data Science, Democratizing AI and Advice\"],[\" AI in Recruitment, Machine Learning, and where machines can outperform humans\"],[\" Solving an Optimization Problem with a Custom Built Algorithm\"],[\" Where the world is headed to in the field of Artificial Intelligence\"],[\" DataScienceGO’s Discussion Panel on Careers\"],[\" Data Science Trends for 2018\"],[\" How to be Unstoppable\"],[\" The One Purpose to Data Science and The Truth about Analytics\"],[\" Data Science\"],[\" Emerging Technologies\"],[\" Data Science Trends for 2019\"],[\" Building Machine Autonomy With Neural Networks\"]],\"hovertemplate\":\"class=%{y}<br>episode_date=%{x}<br>episode_name=%{customdata[0]}<extra></extra>\",\"legendgroup\":\"Machine Learning, Artificial Intelligence, Deep Learning\",\"marker\":{\"color\":\"#FF6692\",\"symbol\":\"diamond\"},\"mode\":\"markers\",\"name\":\"Machine Learning, Artificial Intelligence, Deep Learning\",\"orientation\":\"v\",\"showlegend\":true,\"x\":[\"2017-01-26\",\"2017-02-24\",\"2017-04-13\",\"2017-07-20\",\"2017-11-16\",\"2018-01-05\",\"2018-01-19\",\"2018-02-16\",\"2018-06-28\",\"2018-10-18\",\"2019-01-03\",\"2019-05-08\"],\"xaxis\":\"x\",\"y\":[\"Machine Learning, Artificial Intelligence, Deep Learning\",\"Machine Learning, Artificial Intelligence, Deep Learning\",\"Machine Learning, Artificial Intelligence, Deep Learning\",\"Machine Learning, Artificial Intelligence, Deep Learning\",\"Machine Learning, Artificial Intelligence, Deep Learning\",\"Machine Learning, Artificial Intelligence, Deep Learning\",\"Machine Learning, Artificial Intelligence, Deep Learning\",\"Machine Learning, Artificial Intelligence, Deep Learning\",\"Machine Learning, Artificial Intelligence, Deep Learning\",\"Machine Learning, Artificial Intelligence, Deep Learning\",\"Machine Learning, Artificial Intelligence, Deep Learning\",\"Machine Learning, Artificial Intelligence, Deep Learning\"],\"yaxis\":\"y\",\"type\":\"scatter\"},{\"customdata\":[[\" Women in Stem, Bench Science to Data Science, and Data and Medical Ethics\"],[\" Data Visualization & how to freelance your passion\"],[\" From Uber to Data Science – a winner’s journey\"],[\" The technical skills that actually add business value\"]],\"hovertemplate\":\"class=%{y}<br>episode_date=%{x}<br>episode_name=%{customdata[0]}<extra></extra>\",\"legendgroup\":\"Programming, Data Visualization\",\"marker\":{\"color\":\"#B6E880\",\"symbol\":\"square\"},\"mode\":\"markers\",\"name\":\"Programming, Data Visualization\",\"orientation\":\"v\",\"showlegend\":true,\"x\":[\"2017-02-10\",\"2017-08-24\",\"2017-10-11\",\"2018-11-08\"],\"xaxis\":\"x\",\"y\":[\"Programming, Data Visualization\",\"Programming, Data Visualization\",\"Programming, Data Visualization\",\"Programming, Data Visualization\"],\"yaxis\":\"y\",\"type\":\"scatter\"},{\"customdata\":[[\" Exclusive interview with the legendary in Kaggle competitions Eu Jin Lok\"],[\" Reinforcement Learning – what you need to know\"],[\" The AI revolution – what the future will look like\"],[\" How a software developer re-focused his life to learn Artificial Intelligence\"],[\" Aerospace Engineers and Data Science\"],[\" Deep Reinforcement Learning for Robotics\"],[\" Deep Reinforcement Learning — with Wah Loon Keng\"]],\"hovertemplate\":\"class=%{y}<br>episode_date=%{x}<br>episode_name=%{customdata[0]}<extra></extra>\",\"legendgroup\":\"Artificial Intelligence, Deep Learning\",\"marker\":{\"color\":\"#FF97FF\",\"symbol\":\"x\"},\"mode\":\"markers\",\"name\":\"Artificial Intelligence, Deep Learning\",\"orientation\":\"v\",\"showlegend\":true,\"x\":[\"2017-04-19\",\"2017-08-16\",\"2017-09-06\",\"2017-10-25\",\"2018-12-13\",\"2021-09-07\",\"2022-02-22\"],\"xaxis\":\"x\",\"y\":[\"Artificial Intelligence, Deep Learning\",\"Artificial Intelligence, Deep Learning\",\"Artificial Intelligence, Deep Learning\",\"Artificial Intelligence, Deep Learning\",\"Artificial Intelligence, Deep Learning\",\"Artificial Intelligence, Deep Learning\",\"Artificial Intelligence, Deep Learning\"],\"yaxis\":\"y\",\"type\":\"scatter\"},{\"customdata\":[[\" An expert overview of the Deep Learning Models, supervised and unsupervised\"],[\" How Data Science brings value through Consulting Firms\"],[\" Why Evolutionary Programming Machine Learning is important\"],[\" Business Consultancy in the Space of Data Science\"],[\" Application of Geospatial Analytics to Business and Real Life\"],[\" The Amazing World of a Data Science Meetup\"],[\" Giving Back to the Data Science Community\"],[\" Diving Into Data Science Consulting\"],[\" Data Science in the World of Big Data\"],[\" A Deep Dive Into Neural Nets\"],[\" Talking Robotics with Brandon Rohrer\"],[\" Deep Learning Models For Recruitment\"],[\" Learning Deep Learning Together\"],[\" Optimizing Computer Hardware with Deep Learning\"]],\"hovertemplate\":\"class=%{y}<br>episode_date=%{x}<br>episode_name=%{customdata[0]}<extra></extra>\",\"legendgroup\":\"Machine Learning, Deep Learning\",\"marker\":{\"color\":\"#FECB52\",\"symbol\":\"cross\"},\"mode\":\"markers\",\"name\":\"Machine Learning, Deep Learning\",\"orientation\":\"v\",\"showlegend\":true,\"x\":[\"2017-04-26\",\"2017-06-30\",\"2017-10-05\",\"2017-12-01\",\"2017-12-22\",\"2018-05-17\",\"2018-06-15\",\"2019-04-02\",\"2019-05-29\",\"2019-11-26\",\"2020-02-19\",\"2020-05-13\",\"2021-05-11\",\"2022-05-17\"],\"xaxis\":\"x\",\"y\":[\"Machine Learning, Deep Learning\",\"Machine Learning, Deep Learning\",\"Machine Learning, Deep Learning\",\"Machine Learning, Deep Learning\",\"Machine Learning, Deep Learning\",\"Machine Learning, Deep Learning\",\"Machine Learning, Deep Learning\",\"Machine Learning, Deep Learning\",\"Machine Learning, Deep Learning\",\"Machine Learning, Deep Learning\",\"Machine Learning, Deep Learning\",\"Machine Learning, Deep Learning\",\"Machine Learning, Deep Learning\",\"Machine Learning, Deep Learning\"],\"yaxis\":\"y\",\"type\":\"scatter\"},{\"customdata\":[[\" Building Image Datasets and their importance in Machine Learning\"],[\"  Latest developments in the field of AI and how it is changing the world\"],[\" How Directors of Data Science Change the World with Machine Learning and AI\"],[\" How AI and Blockchain Converge\"],[\" Using AI to Automate Communication\"],[\" Insights from the Co-Founder of KDNuggets\"],[\" Achieving Data Science Maturity\"],[\" True Personalization Through Reinforcement Learning\"],[\" Learning Through Competition\"],[\" TensorFlow and AI Learnings for Developers\"],[\" Advanced Data Topics and People-Centered Data Science\"],[\" Accelerating Start-up Growth with A.I. Specialists\"],[\" A.I. Robotics at Home\"],[\" Fusion Energy, Cancer Proteomics, and Massive-Scale Machine Vision — with Dr. Brett Tully\"],[\" GPT-3 for Natural Language Processing\"],[\" Open-Ended A.I.\"],[\" A.I. for Medicine\"],[\" Is Data Science Still Sexy?\"],[\" Open-Source Tools for Natural Language Processing\"]],\"hovertemplate\":\"class=%{y}<br>episode_date=%{x}<br>episode_name=%{customdata[0]}<extra></extra>\",\"legendgroup\":\"Machine Learning, Artificial Intelligence\",\"marker\":{\"color\":\"#636efa\",\"symbol\":\"circle\"},\"mode\":\"markers\",\"name\":\"Machine Learning, Artificial Intelligence\",\"orientation\":\"v\",\"showlegend\":true,\"x\":[\"2017-06-01\",\"2017-07-06\",\"2018-03-02\",\"2018-05-10\",\"2018-05-31\",\"2018-07-18\",\"2019-06-05\",\"2019-09-04\",\"2019-10-30\",\"2020-06-10\",\"2020-07-22\",\"2021-09-28\",\"2021-12-07\",\"2021-12-21\",\"2022-03-22\",\"2022-09-20\",\"2023-01-10\",\"2023-01-24\",\"2023-03-07\"],\"xaxis\":\"x\",\"y\":[\"Machine Learning, Artificial Intelligence\",\"Machine Learning, Artificial Intelligence\",\"Machine Learning, Artificial Intelligence\",\"Machine Learning, Artificial Intelligence\",\"Machine Learning, Artificial Intelligence\",\"Machine Learning, Artificial Intelligence\",\"Machine Learning, Artificial Intelligence\",\"Machine Learning, Artificial Intelligence\",\"Machine Learning, Artificial Intelligence\",\"Machine Learning, Artificial Intelligence\",\"Machine Learning, Artificial Intelligence\",\"Machine Learning, Artificial Intelligence\",\"Machine Learning, Artificial Intelligence\",\"Machine Learning, Artificial Intelligence\",\"Machine Learning, Artificial Intelligence\",\"Machine Learning, Artificial Intelligence\",\"Machine Learning, Artificial Intelligence\",\"Machine Learning, Artificial Intelligence\",\"Machine Learning, Artificial Intelligence\"],\"yaxis\":\"y\",\"type\":\"scatter\"},{\"customdata\":[[\" The Rise of Blockchain\"],[\" Why Sensors and the Internet of Things are Becoming A Critical Part of Data Science\"],[\" How to Deal with Disruptive Technologies\"],[\" Blockchains and Cryptocurrencies\"]],\"hovertemplate\":\"class=%{y}<br>episode_date=%{x}<br>episode_name=%{customdata[0]}<extra></extra>\",\"legendgroup\":\"Blockchain\",\"marker\":{\"color\":\"#EF553B\",\"symbol\":\"diamond\"},\"mode\":\"markers\",\"name\":\"Blockchain\",\"orientation\":\"v\",\"showlegend\":true,\"x\":[\"2018-03-14\",\"2018-03-29\",\"2018-06-08\",\"2022-10-25\"],\"xaxis\":\"x\",\"y\":[\"Blockchain\",\"Blockchain\",\"Blockchain\",\"Blockchain\"],\"yaxis\":\"y\",\"type\":\"scatter\"},{\"customdata\":[[\" Big Global Problems Worth Solving with Machine Learning\"]],\"hovertemplate\":\"class=%{y}<br>episode_date=%{x}<br>episode_name=%{customdata[0]}<extra></extra>\",\"legendgroup\":\"Deep Learning\",\"marker\":{\"color\":\"#00cc96\",\"symbol\":\"square\"},\"mode\":\"markers\",\"name\":\"Deep Learning\",\"orientation\":\"v\",\"showlegend\":true,\"x\":[\"2021-03-16\"],\"xaxis\":\"x\",\"y\":[\"Deep Learning\"],\"yaxis\":\"y\",\"type\":\"scatter\"},{\"customdata\":[[\" How to Ace Your Data Science Interview\"],[\" Tools for Deploying Data Models into Production\"],[\" Data Analyst, Data Scientist, and Data Engineer Career Paths\"],[\" Software for Efficient Data Science\"],[\" Data Analytics Career Orientation\"],[\" A.I. Talent and the Red-Hot A.I. Skills\"],[\" How to Learn Data Engineering\"],[\" How to be both socially impactful and financially successful in your data career\"],[\" Cloud Machine Learning\"]],\"hovertemplate\":\"class=%{y}<br>episode_date=%{x}<br>episode_name=%{customdata[0]}<extra></extra>\",\"legendgroup\":\"Data Science, Career\",\"marker\":{\"color\":\"#ab63fa\",\"symbol\":\"x\"},\"mode\":\"markers\",\"name\":\"Data Science, Career\",\"orientation\":\"v\",\"showlegend\":true,\"x\":[\"2022-10-04\",\"2022-10-18\",\"2022-11-01\",\"2022-11-22\",\"2022-11-29\",\"2023-02-24\",\"2023-02-28\",\"2023-03-28\",\"2023-04-18\"],\"xaxis\":\"x\",\"y\":[\"Data Science, Career\",\"Data Science, Career\",\"Data Science, Career\",\"Data Science, Career\",\"Data Science, Career\",\"Data Science, Career\",\"Data Science, Career\",\"Data Science, Career\",\"Data Science, Career\"],\"yaxis\":\"y\",\"type\":\"scatter\"},{\"customdata\":[[\" Simplifying Machine Learning\"]],\"hovertemplate\":\"class=%{y}<br>episode_date=%{x}<br>episode_name=%{customdata[0]}<extra></extra>\",\"legendgroup\":\"Data Science, Productivity\",\"marker\":{\"color\":\"#FFA15A\",\"symbol\":\"cross\"},\"mode\":\"markers\",\"name\":\"Data Science, Productivity\",\"orientation\":\"v\",\"showlegend\":true,\"x\":[\"2022-12-27\"],\"xaxis\":\"x\",\"y\":[\"Data Science, Productivity\"],\"yaxis\":\"y\",\"type\":\"scatter\"}],                        {\"template\":{\"data\":{\"barpolar\":[{\"marker\":{\"line\":{\"color\":\"rgb(17,17,17)\",\"width\":0.5},\"pattern\":{\"fillmode\":\"overlay\",\"size\":10,\"solidity\":0.2}},\"type\":\"barpolar\"}],\"bar\":[{\"error_x\":{\"color\":\"#f2f5fa\"},\"error_y\":{\"color\":\"#f2f5fa\"},\"marker\":{\"line\":{\"color\":\"rgb(17,17,17)\",\"width\":0.5},\"pattern\":{\"fillmode\":\"overlay\",\"size\":10,\"solidity\":0.2}},\"type\":\"bar\"}],\"carpet\":[{\"aaxis\":{\"endlinecolor\":\"#A2B1C6\",\"gridcolor\":\"#506784\",\"linecolor\":\"#506784\",\"minorgridcolor\":\"#506784\",\"startlinecolor\":\"#A2B1C6\"},\"baxis\":{\"endlinecolor\":\"#A2B1C6\",\"gridcolor\":\"#506784\",\"linecolor\":\"#506784\",\"minorgridcolor\":\"#506784\",\"startlinecolor\":\"#A2B1C6\"},\"type\":\"carpet\"}],\"choropleth\":[{\"colorbar\":{\"outlinewidth\":0,\"ticks\":\"\"},\"type\":\"choropleth\"}],\"contourcarpet\":[{\"colorbar\":{\"outlinewidth\":0,\"ticks\":\"\"},\"type\":\"contourcarpet\"}],\"contour\":[{\"colorbar\":{\"outlinewidth\":0,\"ticks\":\"\"},\"colorscale\":[[0.0,\"#0d0887\"],[0.1111111111111111,\"#46039f\"],[0.2222222222222222,\"#7201a8\"],[0.3333333333333333,\"#9c179e\"],[0.4444444444444444,\"#bd3786\"],[0.5555555555555556,\"#d8576b\"],[0.6666666666666666,\"#ed7953\"],[0.7777777777777778,\"#fb9f3a\"],[0.8888888888888888,\"#fdca26\"],[1.0,\"#f0f921\"]],\"type\":\"contour\"}],\"heatmapgl\":[{\"colorbar\":{\"outlinewidth\":0,\"ticks\":\"\"},\"colorscale\":[[0.0,\"#0d0887\"],[0.1111111111111111,\"#46039f\"],[0.2222222222222222,\"#7201a8\"],[0.3333333333333333,\"#9c179e\"],[0.4444444444444444,\"#bd3786\"],[0.5555555555555556,\"#d8576b\"],[0.6666666666666666,\"#ed7953\"],[0.7777777777777778,\"#fb9f3a\"],[0.8888888888888888,\"#fdca26\"],[1.0,\"#f0f921\"]],\"type\":\"heatmapgl\"}],\"heatmap\":[{\"colorbar\":{\"outlinewidth\":0,\"ticks\":\"\"},\"colorscale\":[[0.0,\"#0d0887\"],[0.1111111111111111,\"#46039f\"],[0.2222222222222222,\"#7201a8\"],[0.3333333333333333,\"#9c179e\"],[0.4444444444444444,\"#bd3786\"],[0.5555555555555556,\"#d8576b\"],[0.6666666666666666,\"#ed7953\"],[0.7777777777777778,\"#fb9f3a\"],[0.8888888888888888,\"#fdca26\"],[1.0,\"#f0f921\"]],\"type\":\"heatmap\"}],\"histogram2dcontour\":[{\"colorbar\":{\"outlinewidth\":0,\"ticks\":\"\"},\"colorscale\":[[0.0,\"#0d0887\"],[0.1111111111111111,\"#46039f\"],[0.2222222222222222,\"#7201a8\"],[0.3333333333333333,\"#9c179e\"],[0.4444444444444444,\"#bd3786\"],[0.5555555555555556,\"#d8576b\"],[0.6666666666666666,\"#ed7953\"],[0.7777777777777778,\"#fb9f3a\"],[0.8888888888888888,\"#fdca26\"],[1.0,\"#f0f921\"]],\"type\":\"histogram2dcontour\"}],\"histogram2d\":[{\"colorbar\":{\"outlinewidth\":0,\"ticks\":\"\"},\"colorscale\":[[0.0,\"#0d0887\"],[0.1111111111111111,\"#46039f\"],[0.2222222222222222,\"#7201a8\"],[0.3333333333333333,\"#9c179e\"],[0.4444444444444444,\"#bd3786\"],[0.5555555555555556,\"#d8576b\"],[0.6666666666666666,\"#ed7953\"],[0.7777777777777778,\"#fb9f3a\"],[0.8888888888888888,\"#fdca26\"],[1.0,\"#f0f921\"]],\"type\":\"histogram2d\"}],\"histogram\":[{\"marker\":{\"pattern\":{\"fillmode\":\"overlay\",\"size\":10,\"solidity\":0.2}},\"type\":\"histogram\"}],\"mesh3d\":[{\"colorbar\":{\"outlinewidth\":0,\"ticks\":\"\"},\"type\":\"mesh3d\"}],\"parcoords\":[{\"line\":{\"colorbar\":{\"outlinewidth\":0,\"ticks\":\"\"}},\"type\":\"parcoords\"}],\"pie\":[{\"automargin\":true,\"type\":\"pie\"}],\"scatter3d\":[{\"line\":{\"colorbar\":{\"outlinewidth\":0,\"ticks\":\"\"}},\"marker\":{\"colorbar\":{\"outlinewidth\":0,\"ticks\":\"\"}},\"type\":\"scatter3d\"}],\"scattercarpet\":[{\"marker\":{\"colorbar\":{\"outlinewidth\":0,\"ticks\":\"\"}},\"type\":\"scattercarpet\"}],\"scattergeo\":[{\"marker\":{\"colorbar\":{\"outlinewidth\":0,\"ticks\":\"\"}},\"type\":\"scattergeo\"}],\"scattergl\":[{\"marker\":{\"line\":{\"color\":\"#283442\"}},\"type\":\"scattergl\"}],\"scattermapbox\":[{\"marker\":{\"colorbar\":{\"outlinewidth\":0,\"ticks\":\"\"}},\"type\":\"scattermapbox\"}],\"scatterpolargl\":[{\"marker\":{\"colorbar\":{\"outlinewidth\":0,\"ticks\":\"\"}},\"type\":\"scatterpolargl\"}],\"scatterpolar\":[{\"marker\":{\"colorbar\":{\"outlinewidth\":0,\"ticks\":\"\"}},\"type\":\"scatterpolar\"}],\"scatter\":[{\"marker\":{\"line\":{\"color\":\"#283442\"}},\"type\":\"scatter\"}],\"scatterternary\":[{\"marker\":{\"colorbar\":{\"outlinewidth\":0,\"ticks\":\"\"}},\"type\":\"scatterternary\"}],\"surface\":[{\"colorbar\":{\"outlinewidth\":0,\"ticks\":\"\"},\"colorscale\":[[0.0,\"#0d0887\"],[0.1111111111111111,\"#46039f\"],[0.2222222222222222,\"#7201a8\"],[0.3333333333333333,\"#9c179e\"],[0.4444444444444444,\"#bd3786\"],[0.5555555555555556,\"#d8576b\"],[0.6666666666666666,\"#ed7953\"],[0.7777777777777778,\"#fb9f3a\"],[0.8888888888888888,\"#fdca26\"],[1.0,\"#f0f921\"]],\"type\":\"surface\"}],\"table\":[{\"cells\":{\"fill\":{\"color\":\"#506784\"},\"line\":{\"color\":\"rgb(17,17,17)\"}},\"header\":{\"fill\":{\"color\":\"#2a3f5f\"},\"line\":{\"color\":\"rgb(17,17,17)\"}},\"type\":\"table\"}]},\"layout\":{\"annotationdefaults\":{\"arrowcolor\":\"#f2f5fa\",\"arrowhead\":0,\"arrowwidth\":1},\"autotypenumbers\":\"strict\",\"coloraxis\":{\"colorbar\":{\"outlinewidth\":0,\"ticks\":\"\"}},\"colorscale\":{\"diverging\":[[0,\"#8e0152\"],[0.1,\"#c51b7d\"],[0.2,\"#de77ae\"],[0.3,\"#f1b6da\"],[0.4,\"#fde0ef\"],[0.5,\"#f7f7f7\"],[0.6,\"#e6f5d0\"],[0.7,\"#b8e186\"],[0.8,\"#7fbc41\"],[0.9,\"#4d9221\"],[1,\"#276419\"]],\"sequential\":[[0.0,\"#0d0887\"],[0.1111111111111111,\"#46039f\"],[0.2222222222222222,\"#7201a8\"],[0.3333333333333333,\"#9c179e\"],[0.4444444444444444,\"#bd3786\"],[0.5555555555555556,\"#d8576b\"],[0.6666666666666666,\"#ed7953\"],[0.7777777777777778,\"#fb9f3a\"],[0.8888888888888888,\"#fdca26\"],[1.0,\"#f0f921\"]],\"sequentialminus\":[[0.0,\"#0d0887\"],[0.1111111111111111,\"#46039f\"],[0.2222222222222222,\"#7201a8\"],[0.3333333333333333,\"#9c179e\"],[0.4444444444444444,\"#bd3786\"],[0.5555555555555556,\"#d8576b\"],[0.6666666666666666,\"#ed7953\"],[0.7777777777777778,\"#fb9f3a\"],[0.8888888888888888,\"#fdca26\"],[1.0,\"#f0f921\"]]},\"colorway\":[\"#636efa\",\"#EF553B\",\"#00cc96\",\"#ab63fa\",\"#FFA15A\",\"#19d3f3\",\"#FF6692\",\"#B6E880\",\"#FF97FF\",\"#FECB52\"],\"font\":{\"color\":\"#f2f5fa\"},\"geo\":{\"bgcolor\":\"rgb(17,17,17)\",\"lakecolor\":\"rgb(17,17,17)\",\"landcolor\":\"rgb(17,17,17)\",\"showlakes\":true,\"showland\":true,\"subunitcolor\":\"#506784\"},\"hoverlabel\":{\"align\":\"left\"},\"hovermode\":\"closest\",\"mapbox\":{\"style\":\"dark\"},\"paper_bgcolor\":\"rgb(17,17,17)\",\"plot_bgcolor\":\"rgb(17,17,17)\",\"polar\":{\"angularaxis\":{\"gridcolor\":\"#506784\",\"linecolor\":\"#506784\",\"ticks\":\"\"},\"bgcolor\":\"rgb(17,17,17)\",\"radialaxis\":{\"gridcolor\":\"#506784\",\"linecolor\":\"#506784\",\"ticks\":\"\"}},\"scene\":{\"xaxis\":{\"backgroundcolor\":\"rgb(17,17,17)\",\"gridcolor\":\"#506784\",\"gridwidth\":2,\"linecolor\":\"#506784\",\"showbackground\":true,\"ticks\":\"\",\"zerolinecolor\":\"#C8D4E3\"},\"yaxis\":{\"backgroundcolor\":\"rgb(17,17,17)\",\"gridcolor\":\"#506784\",\"gridwidth\":2,\"linecolor\":\"#506784\",\"showbackground\":true,\"ticks\":\"\",\"zerolinecolor\":\"#C8D4E3\"},\"zaxis\":{\"backgroundcolor\":\"rgb(17,17,17)\",\"gridcolor\":\"#506784\",\"gridwidth\":2,\"linecolor\":\"#506784\",\"showbackground\":true,\"ticks\":\"\",\"zerolinecolor\":\"#C8D4E3\"}},\"shapedefaults\":{\"line\":{\"color\":\"#f2f5fa\"}},\"sliderdefaults\":{\"bgcolor\":\"#C8D4E3\",\"bordercolor\":\"rgb(17,17,17)\",\"borderwidth\":1,\"tickwidth\":0},\"ternary\":{\"aaxis\":{\"gridcolor\":\"#506784\",\"linecolor\":\"#506784\",\"ticks\":\"\"},\"baxis\":{\"gridcolor\":\"#506784\",\"linecolor\":\"#506784\",\"ticks\":\"\"},\"bgcolor\":\"rgb(17,17,17)\",\"caxis\":{\"gridcolor\":\"#506784\",\"linecolor\":\"#506784\",\"ticks\":\"\"}},\"title\":{\"x\":0.05},\"updatemenudefaults\":{\"bgcolor\":\"#506784\",\"borderwidth\":0},\"xaxis\":{\"automargin\":true,\"gridcolor\":\"#283442\",\"linecolor\":\"#506784\",\"ticks\":\"\",\"title\":{\"standoff\":15},\"zerolinecolor\":\"#283442\",\"zerolinewidth\":2},\"yaxis\":{\"automargin\":true,\"gridcolor\":\"#283442\",\"linecolor\":\"#506784\",\"ticks\":\"\",\"title\":{\"standoff\":15},\"zerolinecolor\":\"#283442\",\"zerolinewidth\":2}}},\"xaxis\":{\"anchor\":\"y\",\"domain\":[0.0,1.0],\"title\":{\"text\":\"\"}},\"yaxis\":{\"anchor\":\"x\",\"domain\":[0.0,1.0],\"title\":{\"text\":\"\"},\"categoryorder\":\"array\",\"categoryarray\":[\"Data Science, Productivity\",\"Data Science, Career\",\"Deep Learning\",\"Blockchain\",\"Machine Learning, Artificial Intelligence\",\"Machine Learning, Deep Learning\",\"Artificial Intelligence, Deep Learning\",\"Programming, Data Visualization\",\"Machine Learning, Artificial Intelligence, Deep Learning\",\"Artificial Intelligence\",\"Data Visualization\",\"Programming\",\"Data Science\",\"Machine Learning\",\"Database\"],\"tickfont\":{\"size\":1},\"showgrid\":false,\"showticklabels\":false},\"legend\":{\"title\":{\"text\":\"Categories\"},\"tracegroupgap\":0},\"title\":{\"text\":\"Frequency of Data Science Episodes in Different Categories over time\"},\"font\":{\"size\":10},\"showlegend\":true},                        {\"responsive\": true}                    ).then(function(){\n",
       "                            \n",
       "var gd = document.getElementById('b985e4c7-9907-41a7-9a99-9678d1474dc9');\n",
       "var x = new MutationObserver(function (mutations, observer) {{\n",
       "        var display = window.getComputedStyle(gd).display;\n",
       "        if (!display || display === 'none') {{\n",
       "            console.log([gd, 'removed!']);\n",
       "            Plotly.purge(gd);\n",
       "            observer.disconnect();\n",
       "        }}\n",
       "}});\n",
       "\n",
       "// Listen for the removal of the full notebook cells\n",
       "var notebookContainer = gd.closest('#notebook-container');\n",
       "if (notebookContainer) {{\n",
       "    x.observe(notebookContainer, {childList: true});\n",
       "}}\n",
       "\n",
       "// Listen for the clearing of the current output cell\n",
       "var outputEl = gd.closest('.output');\n",
       "if (outputEl) {{\n",
       "    x.observe(outputEl, {childList: true});\n",
       "}}\n",
       "\n",
       "                        })                };                });            </script>        </div>"
      ]
     },
     "metadata": {},
     "output_type": "display_data"
    }
   ],
   "source": [
    "fig = px.scatter(host_guest_ds, x = 'episode_date', y = 'class', color = 'class',\n",
    "                 symbol = 'class', hover_data = ['episode_date', 'episode_name'],\n",
    "                 title = 'Frequency of Data Science Episodes in Different Categories over time')\n",
    "fig.update_layout(xaxis_title='', yaxis_title='', template='plotly_dark')\n",
    "fig.update_yaxes(tickfont=dict(size=1), showgrid=False, showticklabels=False)\n",
    "fig.update_layout(legend_title = \"Categories\" , showlegend = True, font=dict(size= 10))\n",
    "#fig.update_xaxes(tickfont=dict(size=1), showgrid=True, showticklabels=False)\n",
    "fig.show()\n",
    "fig.write_html(\"Episode_distribution_2.html\")"
   ]
  },
  {
   "cell_type": "code",
   "execution_count": null,
   "id": "1d558bbd",
   "metadata": {},
   "outputs": [],
   "source": [
    "import pandas as pd\n",
    "import plotly.express as px\n",
    "\n",
    "filtered_df2 = filtered_df.rename(columns={'time_diff': 'Hours Until Derate', 'DistanceLtd': 'Mileage'})\n",
    "\n",
    "grouped_df = filtered_df2.groupby('EquipmentID')\n",
    "\n",
    "plot_df = pd.DataFrame(columns=['EquipmentID', 'event_type', 'Hours Until Derate', 'Mileage'])\n",
    "\n",
    "for group_name, group_data in grouped_df:\n",
    "    spn_data = group_data[group_data['spn'] == 1569]\n",
    "    if len(spn_data) > 0:\n",
    "        time_diff = spn_data.iloc[0]['Hours Until Derate']\n",
    "        distance = filtered_df.loc[filtered_df['EquipmentID']==group_name, 'DistanceLtd'].iloc[0]\n",
    "        plot_df = plot_df.append({'EquipmentID': group_name,\n",
    "                                  'event_type': 'SPN 1569',\n",
    "                                  'Mileage': distance,\n",
    "                                  'Hours Until Derate': time_diff}, ignore_index=True)\n",
    "\n",
    "fig = px.scatter(plot_df, x='Hours Until Derate', y='EquipmentID', color='EquipmentID',\n",
    "                 symbol='EquipmentID', hover_data=['EquipmentID', 'Hours Until Derate', 'Mileage'],\n",
    "                 title='Partial Derate Occurrences Within 72 Hours of Full Derate',\n",
    "                 category_orders={'EquipmentID': plot_df['EquipmentID'].unique()})\n",
    "\n",
    "fig.update_layout(xaxis_title='Hours Until Derate', yaxis_title='', template='plotly_dark')\n",
    "fig.update_yaxes(tickfont=dict(size=1), showgrid=False, showticklabels=False)\n",
    "fig.show()"
   ]
  },
  {
   "cell_type": "code",
   "execution_count": null,
   "id": "c8e555b2",
   "metadata": {},
   "outputs": [],
   "source": []
  },
  {
   "cell_type": "code",
   "execution_count": null,
   "id": "2d9e465d",
   "metadata": {},
   "outputs": [],
   "source": [
    "\n",
    "df = host_guest_ds\n",
    "fig = px.histogram(df, x='length_episode')\n",
    "fig.show()\n"
   ]
  },
  {
   "cell_type": "code",
   "execution_count": null,
   "id": "7b91fe7e",
   "metadata": {},
   "outputs": [],
   "source": [
    "\n",
    "fig = px.histogram(host_guest_ds, \n",
    "                   x='length_episode', \n",
    "                   color = 'class', \n",
    "                   facet_row='episode_year',\n",
    "                   histnorm='percent',\n",
    "                   nbins= 200,\n",
    "                   height=1000,\n",
    "                   template = 'plotly_white'\n",
    "                  )\n",
    "\n",
    "fig.update_yaxes(title='Portion of Episodes')\n",
    "\n",
    "#fig.for_each_trace(lambda t: t.update(hovertemplate=t.hovertemplate.replace(\"percent\", \"Portion of Complaints\")))\n",
    "\n",
    "#fig.update_yaxes(ticksuffix = \"%\")\n",
    "\n",
    "fig.update_annotations(visible=False)\n",
    "\n",
    "fig.show()"
   ]
  },
  {
   "cell_type": "code",
   "execution_count": null,
   "id": "c41cb4b4",
   "metadata": {},
   "outputs": [],
   "source": [
    "pip install venn"
   ]
  },
  {
   "cell_type": "code",
   "execution_count": null,
   "id": "c9d192fb",
   "metadata": {},
   "outputs": [],
   "source": [
    "from venn import venn"
   ]
  },
  {
   "cell_type": "code",
   "execution_count": null,
   "id": "ca03936e",
   "metadata": {},
   "outputs": [],
   "source": [
    "sds_ds_keywords = pd.read_csv('../data/sds_ds_keywords.csv')\n",
    "\n",
    "keywords_per_class = sds_ds_keywords.groupby('class')['keywords'].apply(' '.join).reset_index()"
   ]
  },
  {
   "cell_type": "code",
   "execution_count": null,
   "id": "1876c577",
   "metadata": {},
   "outputs": [],
   "source": [
    "keywords_per_class"
   ]
  },
  {
   "cell_type": "code",
   "execution_count": null,
   "id": "e83aaa6c",
   "metadata": {},
   "outputs": [],
   "source": [
    "keywords_per_class['class'].unique()"
   ]
  },
  {
   "cell_type": "code",
   "execution_count": null,
   "id": "855530ca",
   "metadata": {},
   "outputs": [],
   "source": []
  },
  {
   "cell_type": "code",
   "execution_count": null,
   "id": "626ae914",
   "metadata": {},
   "outputs": [],
   "source": []
  }
 ],
 "metadata": {
  "kernelspec": {
   "display_name": "Python 3 (ipykernel)",
   "language": "python",
   "name": "python3"
  },
  "language_info": {
   "codemirror_mode": {
    "name": "ipython",
    "version": 3
   },
   "file_extension": ".py",
   "mimetype": "text/x-python",
   "name": "python",
   "nbconvert_exporter": "python",
   "pygments_lexer": "ipython3",
   "version": "3.9.12"
  }
 },
 "nbformat": 4,
 "nbformat_minor": 5
}
