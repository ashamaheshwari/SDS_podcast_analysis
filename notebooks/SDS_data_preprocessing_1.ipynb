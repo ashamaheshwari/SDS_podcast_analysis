{
 "cells": [
  {
   "cell_type": "markdown",
   "id": "d8fb172f",
   "metadata": {},
   "source": [
    "# Data Preprocessing"
   ]
  },
  {
   "cell_type": "code",
   "execution_count": 1,
   "id": "8056cad5",
   "metadata": {},
   "outputs": [],
   "source": [
    "import pandas as pd\n",
    "import re\n",
    "import matplotlib.pyplot as plt\n",
    "import seaborn as sns\n",
    "import plotly.express as px"
   ]
  },
  {
   "cell_type": "code",
   "execution_count": 2,
   "id": "5eb1ef0c",
   "metadata": {},
   "outputs": [],
   "source": [
    "sds = pd.read_csv('../data/superdatascience.csv')"
   ]
  },
  {
   "cell_type": "code",
   "execution_count": 3,
   "id": "890ac8c4",
   "metadata": {},
   "outputs": [
    {
     "name": "stdout",
     "output_type": "stream",
     "text": [
      "<class 'pandas.core.frame.DataFrame'>\n",
      "RangeIndex: 682 entries, 0 to 681\n",
      "Data columns (total 6 columns):\n",
      " #   Column           Non-Null Count  Dtype \n",
      "---  ------           --------------  ----- \n",
      " 0   episode_name     682 non-null    object\n",
      " 1   length_episode   682 non-null    object\n",
      " 2   context_episode  682 non-null    object\n",
      " 3   guest_name       682 non-null    object\n",
      " 4   guest_info       682 non-null    object\n",
      " 5   text_episode     680 non-null    object\n",
      "dtypes: object(6)\n",
      "memory usage: 32.1+ KB\n"
     ]
    }
   ],
   "source": [
    "sds.info()"
   ]
  },
  {
   "cell_type": "code",
   "execution_count": 4,
   "id": "a4251eeb",
   "metadata": {},
   "outputs": [
    {
     "data": {
      "text/html": [
       "<div>\n",
       "<style scoped>\n",
       "    .dataframe tbody tr th:only-of-type {\n",
       "        vertical-align: middle;\n",
       "    }\n",
       "\n",
       "    .dataframe tbody tr th {\n",
       "        vertical-align: top;\n",
       "    }\n",
       "\n",
       "    .dataframe thead th {\n",
       "        text-align: right;\n",
       "    }\n",
       "</style>\n",
       "<table border=\"1\" class=\"dataframe\">\n",
       "  <thead>\n",
       "    <tr style=\"text-align: right;\">\n",
       "      <th></th>\n",
       "      <th>episode_name</th>\n",
       "      <th>length_episode</th>\n",
       "      <th>context_episode</th>\n",
       "      <th>guest_name</th>\n",
       "      <th>guest_info</th>\n",
       "      <th>text_episode</th>\n",
       "    </tr>\n",
       "  </thead>\n",
       "  <tbody>\n",
       "    <tr>\n",
       "      <th>0</th>\n",
       "      <td>SDS 381: How to Avoid Failing at Digital Trans...</td>\n",
       "      <td>60 minutes</td>\n",
       "      <td>BusinessData Science</td>\n",
       "      <td>Podcast Guest: Tony SaldanhaWednesday Jul 08, ...</td>\n",
       "      <td>Subscribe on Website, Apple Podcasts, Spotify,...</td>\n",
       "      <td>Kirill Eremenko:\\tThis is episode number 381, ...</td>\n",
       "    </tr>\n",
       "    <tr>\n",
       "      <th>1</th>\n",
       "      <td>SDS 061: Discovering Data Science workflows an...</td>\n",
       "      <td>62 minutes</td>\n",
       "      <td>Machine LearningData SciencePython</td>\n",
       "      <td>Podcast Guest: Daniel WhitenackThursday Jun 15...</td>\n",
       "      <td>Subscribe on Website, Apple Podcasts, Spotify,...</td>\n",
       "      <td>Kirill:\\tThis is episode number 61 with data s...</td>\n",
       "    </tr>\n",
       "  </tbody>\n",
       "</table>\n",
       "</div>"
      ],
      "text/plain": [
       "                                        episode_name length_episode  \\\n",
       "0  SDS 381: How to Avoid Failing at Digital Trans...     60 minutes   \n",
       "1  SDS 061: Discovering Data Science workflows an...     62 minutes   \n",
       "\n",
       "                      context_episode  \\\n",
       "0                BusinessData Science   \n",
       "1  Machine LearningData SciencePython   \n",
       "\n",
       "                                          guest_name  \\\n",
       "0  Podcast Guest: Tony SaldanhaWednesday Jul 08, ...   \n",
       "1  Podcast Guest: Daniel WhitenackThursday Jun 15...   \n",
       "\n",
       "                                          guest_info  \\\n",
       "0  Subscribe on Website, Apple Podcasts, Spotify,...   \n",
       "1  Subscribe on Website, Apple Podcasts, Spotify,...   \n",
       "\n",
       "                                        text_episode  \n",
       "0  Kirill Eremenko:\\tThis is episode number 381, ...  \n",
       "1  Kirill:\\tThis is episode number 61 with data s...  "
      ]
     },
     "execution_count": 4,
     "metadata": {},
     "output_type": "execute_result"
    }
   ],
   "source": [
    "sds.head(2)"
   ]
  },
  {
   "cell_type": "code",
   "execution_count": 5,
   "id": "28de401d",
   "metadata": {},
   "outputs": [
    {
     "name": "stderr",
     "output_type": "stream",
     "text": [
      "/var/folders/s3/9_r9v9px7_v0q69b5zcbnmsm0000gn/T/ipykernel_18524/2714993561.py:17: FutureWarning: The default value of regex will change from True to False in a future version.\n",
      "  sds['guest_name'] = sds['guest_name'].str.replace(r'(\\b[A-Za-z]{3}\\s\\d{2},\\s\\d{4}\\b)', '')\n",
      "/var/folders/s3/9_r9v9px7_v0q69b5zcbnmsm0000gn/T/ipykernel_18524/2714993561.py:23: FutureWarning: The default value of regex will change from True to False in a future version.\n",
      "  sds['guest_name'] = sds['guest_name'].str.replace('Monday|Tuesday|Wednesday|Thursday|Friday|Saturday|Sunday', '')\n",
      "/var/folders/s3/9_r9v9px7_v0q69b5zcbnmsm0000gn/T/ipykernel_18524/2714993561.py:26: FutureWarning: The default value of regex will change from True to False in a future version.\n",
      "  sds['context_episode'] = sds['context_episode'].str.replace('([a-z])([A-Z])', r'\\1 \\2')\n"
     ]
    }
   ],
   "source": [
    "# Extracting episode_number and episode_name from episode_name column\n",
    "sds['episode_number'] = sds['episode_name'].str.split(':', expand = True)[0]\n",
    "sds['episode_name'] = sds['episode_name'].str.split(':', expand = True)[1]\n",
    "sds['episode_number'] = sds['episode_number'].str.replace('SDS', '')\n",
    "\n",
    "# Removing Podcast Guest text from guest_name column\n",
    "sds['guest_name'] = sds['guest_name'].str.split(':', expand = True)[1]\n",
    "\n",
    "# Removing minutes from length_episode column\n",
    "sds['length_episode'] = sds['length_episode'].str.split(' ', expand = True)[0]\n",
    "\n",
    "# Extracting date from guest_name column and making a new column episode_date\n",
    "sds['episode_date'] = sds['guest_name'].str.extract(r'(\\b[A-Za-z]{3}\\s\\d{2},\\s\\d{4}\\b)', expand = False).str.strip()\n",
    "sds['episode_year'] = sds['episode_date'].str.split(',', expand = True)[1]\n",
    "\n",
    "# Replacing/removing date in guest_name column \n",
    "sds['guest_name'] = sds['guest_name'].str.replace(r'(\\b[A-Za-z]{3}\\s\\d{2},\\s\\d{4}\\b)', '')\n",
    "\n",
    "# Extracting day from guest_name column and making a new column episode_day\n",
    "sds['episode_day'] = sds['guest_name'].str.extract(r'(Monday|Tuesday|Wednesday|Thursday|Friday|Saturday|Sunday)', expand = False).str.strip()\n",
    "\n",
    "#Replacing/removing day in guest_name column \n",
    "sds['guest_name'] = sds['guest_name'].str.replace('Monday|Tuesday|Wednesday|Thursday|Friday|Saturday|Sunday', '')\n",
    "\n",
    "#Adding spaces between some words in context_episode column\n",
    "sds['context_episode'] = sds['context_episode'].str.replace('([a-z])([A-Z])', r'\\1 \\2')\n",
    "\n",
    "# changing the data types for episode_number and length_episode\n",
    "sds['episode_number'] = sds['episode_number'].astype('int')\n",
    "sds['length_episode'] = sds['length_episode'].astype('int')"
   ]
  },
  {
   "cell_type": "code",
   "execution_count": 6,
   "id": "b22dd355",
   "metadata": {},
   "outputs": [
    {
     "data": {
      "text/html": [
       "<div>\n",
       "<style scoped>\n",
       "    .dataframe tbody tr th:only-of-type {\n",
       "        vertical-align: middle;\n",
       "    }\n",
       "\n",
       "    .dataframe tbody tr th {\n",
       "        vertical-align: top;\n",
       "    }\n",
       "\n",
       "    .dataframe thead th {\n",
       "        text-align: right;\n",
       "    }\n",
       "</style>\n",
       "<table border=\"1\" class=\"dataframe\">\n",
       "  <thead>\n",
       "    <tr style=\"text-align: right;\">\n",
       "      <th></th>\n",
       "      <th>episode_name</th>\n",
       "      <th>length_episode</th>\n",
       "      <th>context_episode</th>\n",
       "      <th>guest_name</th>\n",
       "      <th>guest_info</th>\n",
       "      <th>text_episode</th>\n",
       "      <th>episode_number</th>\n",
       "      <th>episode_date</th>\n",
       "      <th>episode_year</th>\n",
       "      <th>episode_day</th>\n",
       "    </tr>\n",
       "  </thead>\n",
       "  <tbody>\n",
       "    <tr>\n",
       "      <th>0</th>\n",
       "      <td>How to Avoid Failing at Digital Transformation</td>\n",
       "      <td>60</td>\n",
       "      <td>Business Data Science</td>\n",
       "      <td>Tony Saldanha</td>\n",
       "      <td>Subscribe on Website, Apple Podcasts, Spotify,...</td>\n",
       "      <td>Kirill Eremenko:\\tThis is episode number 381, ...</td>\n",
       "      <td>381</td>\n",
       "      <td>Jul 08, 2020</td>\n",
       "      <td>2020</td>\n",
       "      <td>Wednesday</td>\n",
       "    </tr>\n",
       "    <tr>\n",
       "      <th>1</th>\n",
       "      <td>Discovering Data Science workflows and the im...</td>\n",
       "      <td>62</td>\n",
       "      <td>Machine Learning Data Science Python</td>\n",
       "      <td>Daniel Whitenack</td>\n",
       "      <td>Subscribe on Website, Apple Podcasts, Spotify,...</td>\n",
       "      <td>Kirill:\\tThis is episode number 61 with data s...</td>\n",
       "      <td>61</td>\n",
       "      <td>Jun 15, 2017</td>\n",
       "      <td>2017</td>\n",
       "      <td>Thursday</td>\n",
       "    </tr>\n",
       "  </tbody>\n",
       "</table>\n",
       "</div>"
      ],
      "text/plain": [
       "                                        episode_name  length_episode  \\\n",
       "0     How to Avoid Failing at Digital Transformation              60   \n",
       "1   Discovering Data Science workflows and the im...              62   \n",
       "\n",
       "                        context_episode          guest_name  \\\n",
       "0                 Business Data Science      Tony Saldanha    \n",
       "1  Machine Learning Data Science Python   Daniel Whitenack    \n",
       "\n",
       "                                          guest_info  \\\n",
       "0  Subscribe on Website, Apple Podcasts, Spotify,...   \n",
       "1  Subscribe on Website, Apple Podcasts, Spotify,...   \n",
       "\n",
       "                                        text_episode  episode_number  \\\n",
       "0  Kirill Eremenko:\\tThis is episode number 381, ...             381   \n",
       "1  Kirill:\\tThis is episode number 61 with data s...              61   \n",
       "\n",
       "   episode_date episode_year episode_day  \n",
       "0  Jul 08, 2020         2020   Wednesday  \n",
       "1  Jun 15, 2017         2017    Thursday  "
      ]
     },
     "execution_count": 6,
     "metadata": {},
     "output_type": "execute_result"
    }
   ],
   "source": [
    "sds.head(2)"
   ]
  },
  {
   "cell_type": "code",
   "execution_count": 7,
   "id": "f9243b43",
   "metadata": {},
   "outputs": [],
   "source": [
    "# Sorting dataframe on episode number\n",
    "sds = sds.sort_values('episode_number').reset_index(drop = True)"
   ]
  },
  {
   "cell_type": "code",
   "execution_count": 8,
   "id": "165923a1",
   "metadata": {},
   "outputs": [
    {
     "data": {
      "text/plain": [
       "'This is Five Minute Friday episode number 40: Get in touch.Welcome and congratulations. Episode number 40. Can you imagine it\\'s already been 40 episodes and we\\'ve had over 30 guests on the show? 32 guests, to be precise, have come on this show to share their knowledge, experience, expertise, philosophies, world views, with you. And I hope you\\'ve had a great time. We\\'ve done 40 episodes and we\\'re going to do many, many more. We\\'ve got so many interesting plans ahead, so many interesting people I want to get onto this show, so many interesting discussions I would like to have and share with you. And today\\'s episode is a quick Five Minute Friday to announce something new that we\\'re doing.Sometimes I get messages from people, and this is starting to become more and more often. I\\'m getting messages from people saying, \"Hey Kirill, that was a really cool discussion, really enjoyed that specific discussion with that specific guest. I wish you could ask this question next time.\" Or, you know, \"It made me think of this thing, and next time you have a guest on that other topic, could you ask this question?\" And I have gotten quite a few -- well, not a lot right now -- but I would like to get even more questions like that from you guys which I can pass on to the audience.And I\\'ve already passed a couple of them, I think I\\'ve asked at least two questions on the podcast that people have submitted to me via different means, whether it\\'s LinkedIn or somewhere else. And a lot of the time, because I get quite a lot of messages across the media, these things can get lost. So we\\'ve set up a special email where you can email your questions. So if you have any cool, interesting, exciting questions you would like to ask our guests, and I have a feeling that a lot of you do, you just don\\'t know where to send them, well now you have a place to send them. Send them to the following email:podcast@superdatascience.com. So SuperDataScience is one word, as you probably already know by now, so podcast@superdatascience.com. Send your questions there and we will review them, and the most interesting ones we\\'ll ask our guests.So if we have enough questions, I\\'ll try to ask at least one question at the end of the podcast, and I\\'ll actually say your name, say who the question is from, and then you\\'ll be able to show off to your friends that your question was asked to some influencer, or even anybody who is on the show in the space of data science. and another cool thing about this new feature is that if you have a person you know who would be good for the podcast, please send their recommendation, or recommend them to us through this email as well.So just send their name and a brief description of why you think that person would be a great fit for the podcast. You don\\'t even have to do the introduction right away, just send maybe their LinkedIn profile or some description, something that you know about them and you\\'ve heard about them. Maybe it\\'s your colleague, friends, professor. Maybe it\\'s your manager, maybe it\\'s somebody you\\'ve worked with in the past, maybe it\\'s somebody you\\'ve just heard of at a conference, or you\\'ve heard them speak at a conference. So send them along to podcast@superdatascience.com. Send their details to podcast@superdatascience.com, and once again we\\'ll review those and we\\'ll reach out to them and also let us know if you can make the introduction, then just give us a heads up so that we don\\'t just reach out on our own, but we ask you to make the introduction. It\\'s always easier that way to connect with people.But in any case, don\\'t be afraid to send these things over. We\\'ll definitely review them and maybe we\\'ll have your friend or colleague or whoever you want on the show, we might have them on the show some time soon.So there you go, the email is again podcast@superdatascience.com. Send us any questions you\\'d like me to ask our guests and send us details of any guests that you\\'d like to see on the show. And I hope to get some very interesting ideas from you some time soon. And on that note, thank you so much for being a listener on this podcast. I appreciate you and your time so much, and I really hope you have a fantastic weekend ahead. Go out there, enjoy life, enjoy the outdoors, enjoy whatever you\\'re doing this weekend, and I can\\'t wait to see you next time. Until then, happy analyzing.'"
      ]
     },
     "execution_count": 8,
     "metadata": {},
     "output_type": "execute_result"
    }
   ],
   "source": [
    "sds['text_episode'].loc[39] "
   ]
  },
  {
   "cell_type": "code",
   "execution_count": 9,
   "id": "66c663fb",
   "metadata": {},
   "outputs": [],
   "source": [
    "# Add a new column host_episode to sds dataframe\n",
    "sds['host_episode'] = 'Kirill Eremenko'  # Set initial value to 'Kirril Eremenko '\n",
    "\n",
    "# Set value to 'Jon Krohn' from column 430 to 681\n",
    "sds.loc[430:681, 'host_episode'] = 'Jon Krohn'"
   ]
  },
  {
   "cell_type": "code",
   "execution_count": 11,
   "id": "07c20b25",
   "metadata": {},
   "outputs": [
    {
     "data": {
      "text/html": [
       "<div>\n",
       "<style scoped>\n",
       "    .dataframe tbody tr th:only-of-type {\n",
       "        vertical-align: middle;\n",
       "    }\n",
       "\n",
       "    .dataframe tbody tr th {\n",
       "        vertical-align: top;\n",
       "    }\n",
       "\n",
       "    .dataframe thead th {\n",
       "        text-align: right;\n",
       "    }\n",
       "</style>\n",
       "<table border=\"1\" class=\"dataframe\">\n",
       "  <thead>\n",
       "    <tr style=\"text-align: right;\">\n",
       "      <th></th>\n",
       "      <th>episode_name</th>\n",
       "      <th>length_episode</th>\n",
       "      <th>context_episode</th>\n",
       "      <th>guest_name</th>\n",
       "      <th>guest_info</th>\n",
       "      <th>text_episode</th>\n",
       "      <th>episode_number</th>\n",
       "      <th>episode_date</th>\n",
       "      <th>episode_year</th>\n",
       "      <th>episode_day</th>\n",
       "      <th>host_episode</th>\n",
       "    </tr>\n",
       "  </thead>\n",
       "  <tbody>\n",
       "    <tr>\n",
       "      <th>0</th>\n",
       "      <td>Ruben Kogel on Self-Serve Analytics, R vs Pyt...</td>\n",
       "      <td>42</td>\n",
       "      <td>Business Data Science Database</td>\n",
       "      <td>Ruben Kogel</td>\n",
       "      <td>Subscribe on Website, Apple Podcasts, Spotify,...</td>\n",
       "      <td>Kirill: This is episode number one with ex-che...</td>\n",
       "      <td>1</td>\n",
       "      <td>Sep 10, 2016</td>\n",
       "      <td>2016</td>\n",
       "      <td>Saturday</td>\n",
       "      <td>Kirill Eremenko</td>\n",
       "    </tr>\n",
       "    <tr>\n",
       "      <th>1</th>\n",
       "      <td>Machine Learning, Recommender Systems and the...</td>\n",
       "      <td>51</td>\n",
       "      <td>Machine Learning Data Science</td>\n",
       "      <td>Hadelin de Ponteves</td>\n",
       "      <td>Subscribe on Website, Apple Podcasts, Spotify,...</td>\n",
       "      <td>Kirill: This is session number two with machin...</td>\n",
       "      <td>2</td>\n",
       "      <td>Sep 14, 2016</td>\n",
       "      <td>2016</td>\n",
       "      <td>Wednesday</td>\n",
       "      <td>Kirill Eremenko</td>\n",
       "    </tr>\n",
       "    <tr>\n",
       "      <th>2</th>\n",
       "      <td>Defining the Data Problem, Data Science in Ma...</td>\n",
       "      <td>53</td>\n",
       "      <td>Machine Learning R Programming Data Science</td>\n",
       "      <td>Dr. Wilson Pok</td>\n",
       "      <td>Subscribe on Website, Apple Podcasts, Spotify,...</td>\n",
       "      <td>Kirill:\\tThis is episode number three with Nan...</td>\n",
       "      <td>3</td>\n",
       "      <td>Sep 25, 2016</td>\n",
       "      <td>2016</td>\n",
       "      <td>Sunday</td>\n",
       "      <td>Kirill Eremenko</td>\n",
       "    </tr>\n",
       "    <tr>\n",
       "      <th>3</th>\n",
       "      <td>Data and Strategy, three Pillars of Research ...</td>\n",
       "      <td>60</td>\n",
       "      <td>Business Data Science</td>\n",
       "      <td>Brendan Hogan</td>\n",
       "      <td>Subscribe on Website, Apple Podcasts, Spotify,...</td>\n",
       "      <td>Kirill: This is episode four with business str...</td>\n",
       "      <td>4</td>\n",
       "      <td>Oct 02, 2016</td>\n",
       "      <td>2016</td>\n",
       "      <td>Sunday</td>\n",
       "      <td>Kirill Eremenko</td>\n",
       "    </tr>\n",
       "    <tr>\n",
       "      <th>4</th>\n",
       "      <td>Computer Forensics, Fraud Analytics and knowi...</td>\n",
       "      <td>63</td>\n",
       "      <td>Data Science</td>\n",
       "      <td>Dmitry Korneev</td>\n",
       "      <td>Subscribe on Website, Apple Podcasts, Spotify,...</td>\n",
       "      <td>Kirill:\\tThis is episode number five with fore...</td>\n",
       "      <td>5</td>\n",
       "      <td>Oct 09, 2016</td>\n",
       "      <td>2016</td>\n",
       "      <td>Sunday</td>\n",
       "      <td>Kirill Eremenko</td>\n",
       "    </tr>\n",
       "    <tr>\n",
       "      <th>...</th>\n",
       "      <td>...</td>\n",
       "      <td>...</td>\n",
       "      <td>...</td>\n",
       "      <td>...</td>\n",
       "      <td>...</td>\n",
       "      <td>...</td>\n",
       "      <td>...</td>\n",
       "      <td>...</td>\n",
       "      <td>...</td>\n",
       "      <td>...</td>\n",
       "      <td>...</td>\n",
       "    </tr>\n",
       "    <tr>\n",
       "      <th>677</th>\n",
       "      <td>The A.I. and Machine Learning Landscape, with...</td>\n",
       "      <td>94</td>\n",
       "      <td>Business Data Science Artificial Intelligence</td>\n",
       "      <td>George Mathew</td>\n",
       "      <td>Subscribe on Website, Apple Podcasts, Spotify,...</td>\n",
       "      <td>Jon Krohn:\\t00:00:00This is episode number 679...</td>\n",
       "      <td>679</td>\n",
       "      <td>May 16, 2023</td>\n",
       "      <td>2023</td>\n",
       "      <td>Tuesday</td>\n",
       "      <td>Jon Krohn</td>\n",
       "    </tr>\n",
       "    <tr>\n",
       "      <th>678</th>\n",
       "      <td>Automating Industrial Machines with Data Scie...</td>\n",
       "      <td>30</td>\n",
       "      <td>Business Data Science</td>\n",
       "      <td>Allegra Alessi</td>\n",
       "      <td>Subscribe on Website, Apple Podcasts, Spotify,...</td>\n",
       "      <td>Jon Krohn:\\t00:06\\tThis is episode number 680 ...</td>\n",
       "      <td>680</td>\n",
       "      <td>May 19, 2023</td>\n",
       "      <td>2023</td>\n",
       "      <td>Friday</td>\n",
       "      <td>Jon Krohn</td>\n",
       "    </tr>\n",
       "    <tr>\n",
       "      <th>679</th>\n",
       "      <td>XGBoost</td>\n",
       "      <td>72</td>\n",
       "      <td>Machine Learning Data Science Python</td>\n",
       "      <td>Matt Harrison</td>\n",
       "      <td>Subscribe on Website, Apple Podcasts, Spotify,...</td>\n",
       "      <td>Jon Krohn:\\t00:00:00\\tThis is episode number 6...</td>\n",
       "      <td>681</td>\n",
       "      <td>May 23, 2023</td>\n",
       "      <td>2023</td>\n",
       "      <td>Tuesday</td>\n",
       "      <td>Jon Krohn</td>\n",
       "    </tr>\n",
       "    <tr>\n",
       "      <th>680</th>\n",
       "      <td>Business Intelligence Tools, with Mico Yuk</td>\n",
       "      <td>28</td>\n",
       "      <td>Business Data Science</td>\n",
       "      <td>Mico Yuk</td>\n",
       "      <td>Subscribe on Website, Apple Podcasts, Spotify,...</td>\n",
       "      <td>Jon Krohn:\\t00:05\\tThis is episode number 682 ...</td>\n",
       "      <td>682</td>\n",
       "      <td>May 26, 2023</td>\n",
       "      <td>2023</td>\n",
       "      <td>Friday</td>\n",
       "      <td>Jon Krohn</td>\n",
       "    </tr>\n",
       "    <tr>\n",
       "      <th>681</th>\n",
       "      <td>Contextual A.I. for Adapting to Adversaries, ...</td>\n",
       "      <td>81</td>\n",
       "      <td>Data Science Artificial Intelligence</td>\n",
       "      <td>Matar Haller</td>\n",
       "      <td>Subscribe on Website, Apple Podcasts, Spotify,...</td>\n",
       "      <td>Jon Krohn:\\t00:00:05\\tThis is episode number 6...</td>\n",
       "      <td>683</td>\n",
       "      <td>May 30, 2023</td>\n",
       "      <td>2023</td>\n",
       "      <td>Tuesday</td>\n",
       "      <td>Jon Krohn</td>\n",
       "    </tr>\n",
       "  </tbody>\n",
       "</table>\n",
       "<p>682 rows × 11 columns</p>\n",
       "</div>"
      ],
      "text/plain": [
       "                                          episode_name  length_episode  \\\n",
       "0     Ruben Kogel on Self-Serve Analytics, R vs Pyt...              42   \n",
       "1     Machine Learning, Recommender Systems and the...              51   \n",
       "2     Defining the Data Problem, Data Science in Ma...              53   \n",
       "3     Data and Strategy, three Pillars of Research ...              60   \n",
       "4     Computer Forensics, Fraud Analytics and knowi...              63   \n",
       "..                                                 ...             ...   \n",
       "677   The A.I. and Machine Learning Landscape, with...              94   \n",
       "678   Automating Industrial Machines with Data Scie...              30   \n",
       "679                                            XGBoost              72   \n",
       "680         Business Intelligence Tools, with Mico Yuk              28   \n",
       "681   Contextual A.I. for Adapting to Adversaries, ...              81   \n",
       "\n",
       "                                   context_episode             guest_name  \\\n",
       "0                   Business Data Science Database           Ruben Kogel    \n",
       "1                    Machine Learning Data Science   Hadelin de Ponteves    \n",
       "2      Machine Learning R Programming Data Science        Dr. Wilson Pok    \n",
       "3                            Business Data Science         Brendan Hogan    \n",
       "4                                     Data Science        Dmitry Korneev    \n",
       "..                                             ...                    ...   \n",
       "677  Business Data Science Artificial Intelligence         George Mathew    \n",
       "678                          Business Data Science        Allegra Alessi    \n",
       "679           Machine Learning Data Science Python         Matt Harrison    \n",
       "680                          Business Data Science              Mico Yuk    \n",
       "681           Data Science Artificial Intelligence          Matar Haller    \n",
       "\n",
       "                                            guest_info  \\\n",
       "0    Subscribe on Website, Apple Podcasts, Spotify,...   \n",
       "1    Subscribe on Website, Apple Podcasts, Spotify,...   \n",
       "2    Subscribe on Website, Apple Podcasts, Spotify,...   \n",
       "3    Subscribe on Website, Apple Podcasts, Spotify,...   \n",
       "4    Subscribe on Website, Apple Podcasts, Spotify,...   \n",
       "..                                                 ...   \n",
       "677  Subscribe on Website, Apple Podcasts, Spotify,...   \n",
       "678  Subscribe on Website, Apple Podcasts, Spotify,...   \n",
       "679  Subscribe on Website, Apple Podcasts, Spotify,...   \n",
       "680  Subscribe on Website, Apple Podcasts, Spotify,...   \n",
       "681  Subscribe on Website, Apple Podcasts, Spotify,...   \n",
       "\n",
       "                                          text_episode  episode_number  \\\n",
       "0    Kirill: This is episode number one with ex-che...               1   \n",
       "1    Kirill: This is session number two with machin...               2   \n",
       "2    Kirill:\\tThis is episode number three with Nan...               3   \n",
       "3    Kirill: This is episode four with business str...               4   \n",
       "4    Kirill:\\tThis is episode number five with fore...               5   \n",
       "..                                                 ...             ...   \n",
       "677  Jon Krohn:\\t00:00:00This is episode number 679...             679   \n",
       "678  Jon Krohn:\\t00:06\\tThis is episode number 680 ...             680   \n",
       "679  Jon Krohn:\\t00:00:00\\tThis is episode number 6...             681   \n",
       "680  Jon Krohn:\\t00:05\\tThis is episode number 682 ...             682   \n",
       "681  Jon Krohn:\\t00:00:05\\tThis is episode number 6...             683   \n",
       "\n",
       "     episode_date episode_year episode_day     host_episode  \n",
       "0    Sep 10, 2016         2016    Saturday  Kirill Eremenko  \n",
       "1    Sep 14, 2016         2016   Wednesday  Kirill Eremenko  \n",
       "2    Sep 25, 2016         2016      Sunday  Kirill Eremenko  \n",
       "3    Oct 02, 2016         2016      Sunday  Kirill Eremenko  \n",
       "4    Oct 09, 2016         2016      Sunday  Kirill Eremenko  \n",
       "..            ...          ...         ...              ...  \n",
       "677  May 16, 2023         2023     Tuesday        Jon Krohn  \n",
       "678  May 19, 2023         2023      Friday        Jon Krohn  \n",
       "679  May 23, 2023         2023     Tuesday        Jon Krohn  \n",
       "680  May 26, 2023         2023      Friday        Jon Krohn  \n",
       "681  May 30, 2023         2023     Tuesday        Jon Krohn  \n",
       "\n",
       "[682 rows x 11 columns]"
      ]
     },
     "execution_count": 11,
     "metadata": {},
     "output_type": "execute_result"
    }
   ],
   "source": [
    "sds"
   ]
  },
  {
   "cell_type": "code",
   "execution_count": 12,
   "id": "4bc10f3f",
   "metadata": {},
   "outputs": [],
   "source": [
    "sds.to_csv('../data/sds_cleaned.csv', index = False)"
   ]
  },
  {
   "cell_type": "code",
   "execution_count": 19,
   "id": "68b10a17",
   "metadata": {},
   "outputs": [
    {
     "data": {
      "text/plain": [
       "False    680\n",
       "True       2\n",
       "Name: text_episode, dtype: int64"
      ]
     },
     "execution_count": 19,
     "metadata": {},
     "output_type": "execute_result"
    }
   ],
   "source": [
    "sds['text_episode'].isna().value_counts()"
   ]
  },
  {
   "cell_type": "code",
   "execution_count": 20,
   "id": "c75c13a9",
   "metadata": {},
   "outputs": [
    {
     "data": {
      "text/plain": [
       "333"
      ]
     },
     "execution_count": 20,
     "metadata": {},
     "output_type": "execute_result"
    }
   ],
   "source": [
    "sds['guest_name'].nunique()"
   ]
  },
  {
   "cell_type": "code",
   "execution_count": 21,
   "id": "da26b99a",
   "metadata": {},
   "outputs": [
    {
     "data": {
      "text/plain": [
       " Kirill Eremenko         190\n",
       " Jon Krohn               105\n",
       " Kirill and Hadelin        9\n",
       " Ben Taylor                8\n",
       " Hadelin de Ponteves       6\n",
       "                        ... \n",
       " Josh Muncke               1\n",
       " Mollie Pettit             1\n",
       " Adam Weinstein            1\n",
       " Sarah Nooravi             1\n",
       " Matar Haller              1\n",
       "Name: guest_name, Length: 333, dtype: int64"
      ]
     },
     "execution_count": 21,
     "metadata": {},
     "output_type": "execute_result"
    }
   ],
   "source": [
    "sds['guest_name'].value_counts()"
   ]
  },
  {
   "cell_type": "code",
   "execution_count": null,
   "id": "cc1397c6",
   "metadata": {},
   "outputs": [],
   "source": [
    "# Function to split the text over the rows\n",
    "\n",
    "def text_split(df, column):\n",
    "    \n",
    "    sds_index = column.str.findall('(?:^|\\\\xa0|(?:\\\\n)+)([A-Za-z\\s]+):').explode().to_frame()\n",
    "    sds_index['episode_index'] = 1 \n",
    "    sds_index['episode_index'] = sds_index.groupby(sds_index.index)['episode_index'].cumsum()\n",
    "    sds_index = sds_index.reset_index().set_index(['index','episode_index']).rename(columns = {column.name :'speaker'})\n",
    "    #sds_index\n",
    "    split_text = column.str.split('(?:^|\\\\xa0|(?:\\\\n)+)[A-Za-z\\s]+:', expand = True).stack().to_frame()#.droplevel(-1)\n",
    "    \n",
    "    split_text.index = split_text.index.rename(sds_index.index.names)\n",
    "    #return sds_index,split_text \n",
    "    sds_index = sds_index.merge(split_text, left_index = True, right_index=True, how = 'right').droplevel(-1)\n",
    "    return df.merge(sds_index,left_index=True, right_index=True)\n"
   ]
  },
  {
   "cell_type": "code",
   "execution_count": null,
   "id": "f9717973",
   "metadata": {},
   "outputs": [],
   "source": [
    "# call function text_split\n",
    "sds_text = text_split(sds, sds['text_episode'])"
   ]
  },
  {
   "cell_type": "code",
   "execution_count": null,
   "id": "60b72bd1",
   "metadata": {},
   "outputs": [],
   "source": [
    "sds_text = sds_text.rename(columns = {0 : 'episode_split_text' })"
   ]
  },
  {
   "cell_type": "code",
   "execution_count": null,
   "id": "4052a002",
   "metadata": {},
   "outputs": [],
   "source": [
    "sds_text.groupby(['episode_number','guest_name', 'episode_number'])['episode_split_text'].count().sort_values().head(265)"
   ]
  },
  {
   "cell_type": "code",
   "execution_count": null,
   "id": "7d0c9304",
   "metadata": {},
   "outputs": [],
   "source": [
    "sds_text[sds_text['episode_number'] == 33]"
   ]
  },
  {
   "cell_type": "code",
   "execution_count": null,
   "id": "93948858",
   "metadata": {},
   "outputs": [],
   "source": [
    "sds_text[sds_text['guest_name'] == ' David Venturi ']"
   ]
  },
  {
   "cell_type": "code",
   "execution_count": null,
   "id": "ce559ab8",
   "metadata": {},
   "outputs": [],
   "source": [
    "sds_text['episode_split_text'].loc[30]"
   ]
  },
  {
   "cell_type": "code",
   "execution_count": null,
   "id": "86339c8f",
   "metadata": {},
   "outputs": [],
   "source": [
    "sds['text_episode'].loc[32]"
   ]
  },
  {
   "cell_type": "code",
   "execution_count": null,
   "id": "467cd5e5",
   "metadata": {},
   "outputs": [],
   "source": [
    "sds_text['episode_split_text'] = sds_text['episode_split_text'].str.replace('\\\\t|\\\\n|\\\\xa0', '')"
   ]
  },
  {
   "cell_type": "code",
   "execution_count": null,
   "id": "988d9470",
   "metadata": {},
   "outputs": [],
   "source": [
    "sds_text['episode_split_text'] = sds_text['episode_split_text'].str.replace('\\(?\\d{2}:\\d{2}\\):| ?(\\d{2}:)+\\d{2}', '')"
   ]
  },
  {
   "cell_type": "code",
   "execution_count": null,
   "id": "7e6d819d",
   "metadata": {},
   "outputs": [],
   "source": [
    "sds_text['episode_split_text'].apply(lambda x: isinstance(x, str) and len(x.strip()) == 0).value_counts()"
   ]
  },
  {
   "cell_type": "code",
   "execution_count": null,
   "id": "b14698db",
   "metadata": {},
   "outputs": [],
   "source": [
    "sds_text = sds_text[sds_text['episode_split_text'] != '']"
   ]
  },
  {
   "cell_type": "code",
   "execution_count": null,
   "id": "e577cfd4",
   "metadata": {},
   "outputs": [],
   "source": [
    "sds_text"
   ]
  },
  {
   "cell_type": "code",
   "execution_count": null,
   "id": "d4143fe9",
   "metadata": {},
   "outputs": [],
   "source": [
    "sds_text.to_csv('../data/sds_text.csv')"
   ]
  },
  {
   "cell_type": "code",
   "execution_count": null,
   "id": "0a770d4a",
   "metadata": {},
   "outputs": [],
   "source": [
    "#split_text.to_frame().rename()"
   ]
  },
  {
   "cell_type": "code",
   "execution_count": null,
   "id": "5223ff2e",
   "metadata": {},
   "outputs": [],
   "source": [
    "#sds['text_episode'].str.split('(?:^|\\\\xa0|(?:\\\\n)+)[A-Za-z\\s]+:', expand = True).stack()#.droplevel(-1)"
   ]
  },
  {
   "cell_type": "code",
   "execution_count": null,
   "id": "67f989fa",
   "metadata": {},
   "outputs": [],
   "source": [
    "#sds['text_episode'].str.split('(?:^|\\\\xa0|\\\\n)[A-Za-z\\s]+:', expand = True).stack().loc[677]"
   ]
  },
  {
   "cell_type": "code",
   "execution_count": null,
   "id": "cf3613b0",
   "metadata": {},
   "outputs": [],
   "source": [
    "#sds_index = sds['text_episode'].str.findall('(?:^|\\\\xa0|(?:\\\\n)+)([A-Za-z\\s]+:)').explode().to_frame()#.shape#.stack().loc[0]"
   ]
  },
  {
   "cell_type": "code",
   "execution_count": null,
   "id": "b665f44b",
   "metadata": {},
   "outputs": [],
   "source": [
    "# Extracting the speakers from the text and creating index\n",
    "\n",
    "#sds_index = sds['text_episode'].str.findall('(?:^|\\\\xa0|(?:\\\\n)+)([A-Za-z\\s]+:)').explode().to_frame()\n",
    "#sds_index['episode_index'] = 1 \n",
    "#sds_index['episode_index'] = sds_index.groupby(sds_index.index)['episode_index'].cumsum()\n",
    "#sds_index = sds_index.reset_index().set_index(['index','episode_index']).rename(columns = {'text_episode':'speaker'})\n",
    "#sds_index"
   ]
  },
  {
   "cell_type": "code",
   "execution_count": null,
   "id": "e750b816",
   "metadata": {},
   "outputs": [],
   "source": [
    "#sds_index['episode_index'] = sds_index.groupby(sds_index.index)['episode_index'].cumsum()"
   ]
  },
  {
   "cell_type": "code",
   "execution_count": null,
   "id": "d9935418",
   "metadata": {},
   "outputs": [],
   "source": [
    "#sds_index"
   ]
  },
  {
   "cell_type": "code",
   "execution_count": null,
   "id": "4d1baf55",
   "metadata": {},
   "outputs": [],
   "source": [
    "#sds_index = sds_index.reset_index().set_index(['index','episode_index']).rename(columns = {'text_episode':'speaker'})"
   ]
  },
  {
   "cell_type": "code",
   "execution_count": null,
   "id": "0d594bc0",
   "metadata": {},
   "outputs": [],
   "source": [
    "#sds_index"
   ]
  },
  {
   "cell_type": "code",
   "execution_count": null,
   "id": "11aa5ec4",
   "metadata": {},
   "outputs": [],
   "source": [
    "#len(set(sds['text_episode'].str.findall('(^|\\\\xa0|\\\\n)[A-Za-z\\s]+:').explode().index)) #.stack().droplevel(-1)"
   ]
  },
  {
   "cell_type": "code",
   "execution_count": null,
   "id": "606bf67e",
   "metadata": {},
   "outputs": [],
   "source": [
    "#sds['text_episode'].str.findall('(^|\\\\xa0|\\\\n)[A-Za-z\\s]+:').explode()"
   ]
  },
  {
   "cell_type": "code",
   "execution_count": null,
   "id": "371bca36",
   "metadata": {},
   "outputs": [],
   "source": [
    "#sds_guest = sds[~((sds['guest_name'] == ' Kirill Eremenko ') | (sds['guest_name'] == ' Jon Krohn '))].copy().reset_index(drop = True)"
   ]
  },
  {
   "cell_type": "code",
   "execution_count": null,
   "id": "be72647c",
   "metadata": {},
   "outputs": [],
   "source": [
    "#sds_host = sds[(sds['guest_name'] == ' Kirill Eremenko ') | (sds['guest_name'] == ' Jon Krohn ')].reset_index(drop = True)"
   ]
  },
  {
   "cell_type": "code",
   "execution_count": null,
   "id": "758d5bde",
   "metadata": {},
   "outputs": [],
   "source": []
  },
  {
   "cell_type": "code",
   "execution_count": null,
   "id": "e656f682",
   "metadata": {},
   "outputs": [],
   "source": [
    "sds_host['context_episode'].unique()"
   ]
  },
  {
   "cell_type": "code",
   "execution_count": null,
   "id": "9d639c6d",
   "metadata": {},
   "outputs": [],
   "source": [
    "sds_host[sds_host['context_episode'] == 'Data Science']"
   ]
  },
  {
   "cell_type": "code",
   "execution_count": null,
   "id": "00316fcd",
   "metadata": {},
   "outputs": [],
   "source": [
    "sds_guest['context_episode'].unique()"
   ]
  },
  {
   "cell_type": "code",
   "execution_count": null,
   "id": "b19945d8",
   "metadata": {},
   "outputs": [],
   "source": [
    "sds['context_episode'].value_counts()"
   ]
  },
  {
   "cell_type": "code",
   "execution_count": null,
   "id": "9230520b",
   "metadata": {},
   "outputs": [],
   "source": []
  },
  {
   "cell_type": "code",
   "execution_count": null,
   "id": "141975b4",
   "metadata": {
    "scrolled": false
   },
   "outputs": [],
   "source": [
    "sds_guest['text_episode'].loc[7]"
   ]
  },
  {
   "cell_type": "code",
   "execution_count": null,
   "id": "ab700cc5",
   "metadata": {},
   "outputs": [],
   "source": [
    "sds['text_episode'] = sds['text_episode'].astype(str)"
   ]
  },
  {
   "cell_type": "code",
   "execution_count": null,
   "id": "3690dd78",
   "metadata": {},
   "outputs": [],
   "source": [
    "sds['text_episode'].apply(lambda x: pd.Series(x.split('[A-Z][a-z]+:')))"
   ]
  },
  {
   "cell_type": "code",
   "execution_count": null,
   "id": "52ca0d58",
   "metadata": {},
   "outputs": [],
   "source": [
    "sds['text_episode'].str.split('[A-Z][a-z]+:', expand = True).stack()"
   ]
  },
  {
   "cell_type": "code",
   "execution_count": null,
   "id": "a33449e6",
   "metadata": {},
   "outputs": [],
   "source": [
    "sds_split"
   ]
  },
  {
   "cell_type": "code",
   "execution_count": null,
   "id": "19aa3429",
   "metadata": {},
   "outputs": [],
   "source": [
    "sds_split[sds_split['guest_name'] == ' Jon Krohn ']"
   ]
  },
  {
   "cell_type": "code",
   "execution_count": null,
   "id": "a087668c",
   "metadata": {},
   "outputs": [],
   "source": [
    "sds_split.info()"
   ]
  },
  {
   "cell_type": "code",
   "execution_count": null,
   "id": "f86a6e91",
   "metadata": {},
   "outputs": [],
   "source": [
    "#sds = sds.merge(sds_split.to_frame(),left_index=True, right_index=True)\n"
   ]
  },
  {
   "cell_type": "code",
   "execution_count": null,
   "id": "308c244b",
   "metadata": {},
   "outputs": [],
   "source": [
    "sds.head(30)"
   ]
  },
  {
   "cell_type": "code",
   "execution_count": null,
   "id": "5564d66f",
   "metadata": {},
   "outputs": [],
   "source": [
    "sds_guest.to_csv('../data/sds_guest.csv', index = False)"
   ]
  },
  {
   "cell_type": "code",
   "execution_count": null,
   "id": "2e1ead9e",
   "metadata": {},
   "outputs": [],
   "source": [
    "sds[sds['context_episode'] == 'Data Science']"
   ]
  },
  {
   "cell_type": "code",
   "execution_count": null,
   "id": "85b4f7e0",
   "metadata": {},
   "outputs": [],
   "source": [
    "sds['episode_name'].unique()"
   ]
  },
  {
   "cell_type": "code",
   "execution_count": null,
   "id": "a1e37edb",
   "metadata": {},
   "outputs": [],
   "source": [
    "sds['text_episode'].loc[13]"
   ]
  },
  {
   "cell_type": "code",
   "execution_count": null,
   "id": "0fc68516",
   "metadata": {},
   "outputs": [],
   "source": [
    "#text = BeautifulSoup(text, 'lxml').get_text(separator=' ', strip=True)\n",
    "\n",
    "#text = re.findall(r'[a-z]+', text.lower())"
   ]
  },
  {
   "cell_type": "code",
   "execution_count": null,
   "id": "37950fa3",
   "metadata": {},
   "outputs": [],
   "source": [
    "sds['guest_info'].loc[1]"
   ]
  },
  {
   "cell_type": "code",
   "execution_count": null,
   "id": "eec256e6",
   "metadata": {},
   "outputs": [],
   "source": []
  }
 ],
 "metadata": {
  "kernelspec": {
   "display_name": "Python 3 (ipykernel)",
   "language": "python",
   "name": "python3"
  },
  "language_info": {
   "codemirror_mode": {
    "name": "ipython",
    "version": 3
   },
   "file_extension": ".py",
   "mimetype": "text/x-python",
   "name": "python",
   "nbconvert_exporter": "python",
   "pygments_lexer": "ipython3",
   "version": "3.9.12"
  }
 },
 "nbformat": 4,
 "nbformat_minor": 5
}
