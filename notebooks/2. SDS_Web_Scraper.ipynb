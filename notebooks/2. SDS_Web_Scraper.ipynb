{
 "cells": [
  {
   "cell_type": "markdown",
   "id": "0360d602",
   "metadata": {},
   "source": [
    "## SuperDataScience Podcast NLP Analysis\n",
    "\n",
    "### Notebook# 2: SDS Episodes Web Scraping"
   ]
  },
  {
   "attachments": {},
   "cell_type": "markdown",
   "id": "612032f9",
   "metadata": {},
   "source": []
  },
  {
   "cell_type": "markdown",
   "id": "96d52a5c",
   "metadata": {},
   "source": [
    "This notebook contains code for Web Scraping transcripts and other relevant information for SuperDataScience podcast episodes 1 to 682. Selenium library was used to dynamically load the web pages and BeautifulSoup to pull the data."
   ]
  },
  {
   "cell_type": "code",
   "execution_count": 1,
   "id": "dde182e6",
   "metadata": {},
   "outputs": [],
   "source": [
    "import requests\n",
    "from bs4 import BeautifulSoup as BS\n",
    "import pandas as pd\n",
    "import re\n",
    "import numpy as np\n",
    "from selenium import webdriver\n",
    "from selenium.webdriver.common.by import By\n",
    "import warnings\n",
    "import time"
   ]
  },
  {
   "cell_type": "code",
   "execution_count": 2,
   "id": "5996300a",
   "metadata": {},
   "outputs": [],
   "source": [
    "warnings.filterwarnings(\"ignore\", category = FutureWarning)"
   ]
  },
  {
   "cell_type": "code",
   "execution_count": 3,
   "id": "0928c6b8",
   "metadata": {},
   "outputs": [],
   "source": [
    "# importing the list of URL created using code in Notebook #1: Web_Socket_URL \n",
    "sds_url_links = pd.read_csv('../data/sds_url_links.csv')"
   ]
  },
  {
   "cell_type": "code",
   "execution_count": 4,
   "id": "00078ecf",
   "metadata": {},
   "outputs": [
    {
     "data": {
      "text/html": [
       "<div>\n",
       "<style scoped>\n",
       "    .dataframe tbody tr th:only-of-type {\n",
       "        vertical-align: middle;\n",
       "    }\n",
       "\n",
       "    .dataframe tbody tr th {\n",
       "        vertical-align: top;\n",
       "    }\n",
       "\n",
       "    .dataframe thead th {\n",
       "        text-align: right;\n",
       "    }\n",
       "</style>\n",
       "<table border=\"1\" class=\"dataframe\">\n",
       "  <thead>\n",
       "    <tr style=\"text-align: right;\">\n",
       "      <th></th>\n",
       "      <th>url_link</th>\n",
       "    </tr>\n",
       "  </thead>\n",
       "  <tbody>\n",
       "    <tr>\n",
       "      <th>0</th>\n",
       "      <td>https://www.superdatascience.com/podcast/how-t...</td>\n",
       "    </tr>\n",
       "    <tr>\n",
       "      <th>1</th>\n",
       "      <td>https://www.superdatascience.com/podcast/sds-0...</td>\n",
       "    </tr>\n",
       "  </tbody>\n",
       "</table>\n",
       "</div>"
      ],
      "text/plain": [
       "                                            url_link\n",
       "0  https://www.superdatascience.com/podcast/how-t...\n",
       "1  https://www.superdatascience.com/podcast/sds-0..."
      ]
     },
     "execution_count": 4,
     "metadata": {},
     "output_type": "execute_result"
    }
   ],
   "source": [
    "sds_url_links.head(2)"
   ]
  },
  {
   "cell_type": "code",
   "execution_count": null,
   "id": "03ef287a",
   "metadata": {},
   "outputs": [],
   "source": [
    "# Creating empty dataframe with different columns to store the scraped text\n",
    "\n",
    "superdatascience = pd.DataFrame(columns = ['episode_name',\n",
    "                              'length_episode',\n",
    "                              'context_episode',\n",
    "                              'guest_name',\n",
    "                              'guest_info',\n",
    "                              'text_episode'])\n",
    "\n",
    "# Function to scrape different elements of the web page and store in dataframe \n",
    "def SDS_Scraper(url_links):\n",
    "    \n",
    "    driver = webdriver.Chrome()\n",
    "\n",
    "    global superdatascience\n",
    "\n",
    "    #List of variables\n",
    "    episode = \"\"\n",
    "    length = \"\"\n",
    "    context = \"\"\n",
    "    guest = \"\"\n",
    "    info = \"\"\n",
    "    text = \"\"\n",
    "\n",
    "    for url in url_links:\n",
    "        driver.get(url)\n",
    "        time.sleep(10)\n",
    "    \n",
    "        html_content = driver.page_source\n",
    "        soup = BS(html_content, 'html.parser')\n",
    "    \n",
    "        topic_element = soup.find('h2')\n",
    "        episode = topic_element.text.strip()\n",
    "    \n",
    "        p_element = soup.find('p', class_='read-time')\n",
    "        length = p_element.text.strip()\n",
    "     \n",
    "        tag_element = soup.find('p', class_='tags')\n",
    "        context = tag_element.text.strip()\n",
    "    \n",
    "        guest_element = soup.find('div', class_='information')\n",
    "        guest = guest_element.text.strip()\n",
    "        \n",
    "        guest_info_element = soup.find('div', {'class': 'block-animation'})\n",
    "        info = guest_info_element.text.strip()\n",
    "      \n",
    "        text_element = soup.find('div', {'class': 'content block-animation'})\n",
    "        if text_element is not None:\n",
    "            text = text_element.text.strip()\n",
    "        else: \n",
    "            text = None\n",
    "    \n",
    "        superdatascience = superdatascience.append({'episode_name': episode, \n",
    "                                                'length_episode': length, \n",
    "                                                'context_episode' : context, \n",
    "                                                'guest_name': guest,\n",
    "                                                 'guest_info': info,  \n",
    "                                                'text_episode': text}, ignore_index = True) \n",
    "        time.sleep(3)\n",
    "       \n",
    "    driver.close()\n",
    "    "
   ]
  },
  {
   "cell_type": "markdown",
   "id": "e4837856",
   "metadata": {},
   "source": [
    "Scraping was done in batches of 100 url at one time. Took around 5 hours to scrap transcripts for 682 episodes. "
   ]
  },
  {
   "cell_type": "code",
   "execution_count": null,
   "id": "9d69407c",
   "metadata": {},
   "outputs": [],
   "source": [
    "# Funtion to scrape pages\n",
    "SDS_Scraper(sds_url_links['url_link'])"
   ]
  },
  {
   "cell_type": "code",
   "execution_count": null,
   "id": "3b5fbdb8",
   "metadata": {},
   "outputs": [],
   "source": [
    "superdatascience"
   ]
  },
  {
   "cell_type": "code",
   "execution_count": null,
   "id": "44e36837",
   "metadata": {},
   "outputs": [],
   "source": [
    "superdatascience = superdatascience.drop_duplicates()"
   ]
  },
  {
   "cell_type": "code",
   "execution_count": null,
   "id": "b87a7b32",
   "metadata": {},
   "outputs": [],
   "source": [
    "superdatascience.reset_index(drop = True)"
   ]
  },
  {
   "cell_type": "code",
   "execution_count": null,
   "id": "f79de921",
   "metadata": {},
   "outputs": [],
   "source": [
    "superdatascience.to_csv('../data/SDS_1_678.csv', index = False) "
   ]
  }
 ],
 "metadata": {
  "kernelspec": {
   "display_name": "Python 3 (ipykernel)",
   "language": "python",
   "name": "python3"
  },
  "language_info": {
   "codemirror_mode": {
    "name": "ipython",
    "version": 3
   },
   "file_extension": ".py",
   "mimetype": "text/x-python",
   "name": "python",
   "nbconvert_exporter": "python",
   "pygments_lexer": "ipython3",
   "version": "3.9.12"
  }
 },
 "nbformat": 4,
 "nbformat_minor": 5
}
