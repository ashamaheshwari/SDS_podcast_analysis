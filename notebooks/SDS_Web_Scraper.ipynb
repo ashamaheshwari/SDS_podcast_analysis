{
 "cells": [
  {
   "cell_type": "code",
   "execution_count": 8,
   "id": "dde182e6",
   "metadata": {},
   "outputs": [],
   "source": [
    "import requests\n",
    "from bs4 import BeautifulSoup as BS\n",
    "import pandas as pd\n",
    "import re\n",
    "import numpy as np\n",
    "from selenium import webdriver\n",
    "from selenium.webdriver.common.by import By\n",
    "import time\n",
    "import warnings"
   ]
  },
  {
   "cell_type": "code",
   "execution_count": 9,
   "id": "5996300a",
   "metadata": {},
   "outputs": [],
   "source": [
    "warnings.filterwarnings(\"ignore\", category = FutureWarning)"
   ]
  },
  {
   "cell_type": "code",
   "execution_count": 10,
   "id": "0928c6b8",
   "metadata": {},
   "outputs": [],
   "source": [
    "sds_url_links = pd.read_csv('../data/sds_url_links.csv')"
   ]
  },
  {
   "cell_type": "code",
   "execution_count": 11,
   "id": "00078ecf",
   "metadata": {},
   "outputs": [
    {
     "data": {
      "text/html": [
       "<div>\n",
       "<style scoped>\n",
       "    .dataframe tbody tr th:only-of-type {\n",
       "        vertical-align: middle;\n",
       "    }\n",
       "\n",
       "    .dataframe tbody tr th {\n",
       "        vertical-align: top;\n",
       "    }\n",
       "\n",
       "    .dataframe thead th {\n",
       "        text-align: right;\n",
       "    }\n",
       "</style>\n",
       "<table border=\"1\" class=\"dataframe\">\n",
       "  <thead>\n",
       "    <tr style=\"text-align: right;\">\n",
       "      <th></th>\n",
       "      <th>url_link</th>\n",
       "    </tr>\n",
       "  </thead>\n",
       "  <tbody>\n",
       "    <tr>\n",
       "      <th>0</th>\n",
       "      <td>https://www.superdatascience.com/podcast/how-t...</td>\n",
       "    </tr>\n",
       "    <tr>\n",
       "      <th>1</th>\n",
       "      <td>https://www.superdatascience.com/podcast/sds-0...</td>\n",
       "    </tr>\n",
       "    <tr>\n",
       "      <th>2</th>\n",
       "      <td>https://www.superdatascience.com/podcast/sds-0...</td>\n",
       "    </tr>\n",
       "    <tr>\n",
       "      <th>3</th>\n",
       "      <td>https://www.superdatascience.com/podcast/sds-0...</td>\n",
       "    </tr>\n",
       "    <tr>\n",
       "      <th>4</th>\n",
       "      <td>https://www.superdatascience.com/podcast/two-w...</td>\n",
       "    </tr>\n",
       "    <tr>\n",
       "      <th>...</th>\n",
       "      <td>...</td>\n",
       "    </tr>\n",
       "    <tr>\n",
       "      <th>673</th>\n",
       "      <td>https://www.superdatascience.com/podcast/true-...</td>\n",
       "    </tr>\n",
       "    <tr>\n",
       "      <th>674</th>\n",
       "      <td>https://www.superdatascience.com/podcast/becom...</td>\n",
       "    </tr>\n",
       "    <tr>\n",
       "      <th>675</th>\n",
       "      <td>https://www.superdatascience.com/podcast/makin...</td>\n",
       "    </tr>\n",
       "    <tr>\n",
       "      <th>676</th>\n",
       "      <td>https://www.superdatascience.com/podcast/intui...</td>\n",
       "    </tr>\n",
       "    <tr>\n",
       "      <th>677</th>\n",
       "      <td>https://www.superdatascience.com/podcast/the-h...</td>\n",
       "    </tr>\n",
       "  </tbody>\n",
       "</table>\n",
       "<p>678 rows × 1 columns</p>\n",
       "</div>"
      ],
      "text/plain": [
       "                                              url_link\n",
       "0    https://www.superdatascience.com/podcast/how-t...\n",
       "1    https://www.superdatascience.com/podcast/sds-0...\n",
       "2    https://www.superdatascience.com/podcast/sds-0...\n",
       "3    https://www.superdatascience.com/podcast/sds-0...\n",
       "4    https://www.superdatascience.com/podcast/two-w...\n",
       "..                                                 ...\n",
       "673  https://www.superdatascience.com/podcast/true-...\n",
       "674  https://www.superdatascience.com/podcast/becom...\n",
       "675  https://www.superdatascience.com/podcast/makin...\n",
       "676  https://www.superdatascience.com/podcast/intui...\n",
       "677  https://www.superdatascience.com/podcast/the-h...\n",
       "\n",
       "[678 rows x 1 columns]"
      ]
     },
     "execution_count": 11,
     "metadata": {},
     "output_type": "execute_result"
    }
   ],
   "source": [
    "sds_url_links"
   ]
  },
  {
   "cell_type": "code",
   "execution_count": null,
   "id": "03ef287a",
   "metadata": {},
   "outputs": [],
   "source": [
    "superdatascience = pd.DataFrame(columns = ['episode_name',\n",
    "                              'length_episode',\n",
    "                              'context_episode',\n",
    "                              'guest_name',\n",
    "                              'guest_info',\n",
    "                              'text_episode'])\n",
    "\n",
    "\n",
    "\n",
    "def SDS_Scraper(url_links):\n",
    "    \n",
    "    driver = webdriver.Chrome()\n",
    "\n",
    "    \n",
    "    global superdatascience\n",
    "\n",
    "    #List of variables\n",
    "    episode = \"\"\n",
    "    length = \"\"\n",
    "    context = \"\"\n",
    "    guest = \"\"\n",
    "    info = \"\"\n",
    "    text = \"\"\n",
    "\n",
    "    for url in url_links:\n",
    "        driver.get(url)\n",
    "        time.sleep(10)\n",
    "    \n",
    "        html_content = driver.page_source\n",
    "        soup = BS(html_content, 'html.parser')\n",
    "    \n",
    "        topic_element = soup.find('h2')\n",
    "        episode = topic_element.text.strip()\n",
    "    \n",
    "        p_element = soup.find('p', class_='read-time')\n",
    "        length = p_element.text.strip()\n",
    "     \n",
    "        tag_element = soup.find('p', class_='tags')\n",
    "        context = tag_element.text.strip()\n",
    "    \n",
    "        guest_element = soup.find('div', class_='information')\n",
    "        guest = guest_element.text.strip()\n",
    "        \n",
    "        guest_info_element = soup.find('div', {'class': 'block-animation'})\n",
    "        info = guest_info_element.text.strip()\n",
    "      \n",
    "        text_element = soup.find('div', {'class': 'content block-animation'})\n",
    "        if text_element is not None:\n",
    "            text = text_element.text.strip()\n",
    "        else: \n",
    "            text = None\n",
    "    \n",
    "        superdatascience = superdatascience.append({'episode_name': episode, \n",
    "                                                'length_episode': length, \n",
    "                                                'context_episode' : context, \n",
    "                                                'guest_name': guest,\n",
    "                                                 'guest_info': info,  \n",
    "                                                'text_episode': text}, ignore_index = True) \n",
    "        time.sleep(3)\n",
    "       \n",
    "    driver.close()\n",
    "    "
   ]
  },
  {
   "cell_type": "code",
   "execution_count": null,
   "id": "9d69407c",
   "metadata": {},
   "outputs": [],
   "source": [
    "SDS_Scraper(sds_url_links['url_link'][:2])"
   ]
  },
  {
   "cell_type": "code",
   "execution_count": null,
   "id": "2a0f90ac",
   "metadata": {},
   "outputs": [],
   "source": [
    "superdatascience"
   ]
  },
  {
   "cell_type": "code",
   "execution_count": null,
   "id": "7ef4c81c",
   "metadata": {},
   "outputs": [],
   "source": [
    "sds_url_links"
   ]
  },
  {
   "cell_type": "code",
   "execution_count": null,
   "id": "f79de921",
   "metadata": {},
   "outputs": [],
   "source": [
    "superdatascience.to_csv('SDS_1.csv') "
   ]
  },
  {
   "cell_type": "code",
   "execution_count": null,
   "id": "08c27d23",
   "metadata": {},
   "outputs": [],
   "source": [
    "superdatascience['guest_info'].loc[1]"
   ]
  },
  {
   "cell_type": "code",
   "execution_count": null,
   "id": "8cd754e1",
   "metadata": {},
   "outputs": [],
   "source": [
    "https://www.superdatascience.com/podcast/daily-habit-number-four-alternate-nostril-breathing"
   ]
  }
 ],
 "metadata": {
  "kernelspec": {
   "display_name": "Python 3 (ipykernel)",
   "language": "python",
   "name": "python3"
  },
  "language_info": {
   "codemirror_mode": {
    "name": "ipython",
    "version": 3
   },
   "file_extension": ".py",
   "mimetype": "text/x-python",
   "name": "python",
   "nbconvert_exporter": "python",
   "pygments_lexer": "ipython3",
   "version": "3.9.12"
  }
 },
 "nbformat": 4,
 "nbformat_minor": 5
}
